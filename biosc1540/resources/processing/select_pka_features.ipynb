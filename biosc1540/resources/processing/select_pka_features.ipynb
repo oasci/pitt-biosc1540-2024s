{
 "cells": [
  {
   "cell_type": "markdown",
   "metadata": {},
   "source": [
    "# Feature selection\n",
    "\n",
    "Use sklearn to select a specific number of features."
   ]
  },
  {
   "cell_type": "markdown",
   "metadata": {},
   "source": [
    "Load in our original dataframe."
   ]
  },
  {
   "cell_type": "code",
   "execution_count": 1,
   "metadata": {},
   "outputs": [],
   "source": [
    "import os\n",
    "import pandas as pd\n",
    "\n",
    "CSV_PATH = \"https://gitlab.com/oasci/courses/pitt/biosc1540-2024s/-/raw/main/biosc1540/files/csv/pka/pka_with_desc.csv\"\n",
    "\n",
    "df = pd.read_csv(CSV_PATH)\n",
    "\n",
    "CSV_DIR = \"../../files/csv/pka\"\n",
    "CSV_SAVE_PATH = os.path.join(CSV_DIR, \"pka_desc_selected.csv\")"
   ]
  },
  {
   "cell_type": "code",
   "execution_count": 2,
   "metadata": {},
   "outputs": [
    {
     "name": "stdout",
     "output_type": "stream",
     "text": [
      "(1706, 210)\n"
     ]
    }
   ],
   "source": [
    "X_all = df.drop([\"SMILES\", \"pka_value\"], axis=1)\n",
    "y = df[\"pka_value\"]\n",
    "\n",
    "print(X_all.shape)"
   ]
  },
  {
   "cell_type": "code",
   "execution_count": 3,
   "metadata": {},
   "outputs": [
    {
     "name": "stdout",
     "output_type": "stream",
     "text": [
      "                   MaxAbsEStateIndex  MaxEStateIndex  MinAbsEStateIndex  \\\n",
      "MaxAbsEStateIndex           1.000000        1.000000          -0.735691   \n",
      "MaxEStateIndex              1.000000        1.000000          -0.735691   \n",
      "MinAbsEStateIndex          -0.735691       -0.735691           1.000000   \n",
      "MinEStateIndex             -0.708439       -0.708439           0.569787   \n",
      "qed                        -0.065836       -0.065836           0.020809   \n",
      "...                              ...             ...                ...   \n",
      "fr_thiazole                -0.109902       -0.109902           0.120545   \n",
      "fr_thiocyan                      NaN             NaN                NaN   \n",
      "fr_thiophene               -0.067638       -0.067638           0.024200   \n",
      "fr_unbrch_alkane           -0.093467       -0.093467           0.127537   \n",
      "fr_urea                     0.059489        0.059489           0.007595   \n",
      "\n",
      "                   MinEStateIndex       qed       SPS     MolWt  \\\n",
      "MaxAbsEStateIndex       -0.708439 -0.065836 -0.087464  0.240818   \n",
      "MaxEStateIndex          -0.708439 -0.065836 -0.087464  0.240818   \n",
      "MinAbsEStateIndex        0.569787  0.020809  0.016077 -0.185227   \n",
      "MinEStateIndex           1.000000  0.001401 -0.003140 -0.276830   \n",
      "qed                      0.001401  1.000000 -0.013610  0.292986   \n",
      "...                           ...       ...       ...       ...   \n",
      "fr_thiazole              0.087189  0.005065 -0.056549 -0.074969   \n",
      "fr_thiocyan                   NaN       NaN       NaN       NaN   \n",
      "fr_thiophene             0.031722  0.101223 -0.008320  0.087393   \n",
      "fr_unbrch_alkane         0.094395 -0.230020 -0.030678  0.227069   \n",
      "fr_urea                 -0.048500 -0.102186 -0.045836 -0.059248   \n",
      "\n",
      "                   HeavyAtomMolWt  ExactMolWt  NumValenceElectrons  ...  \\\n",
      "MaxAbsEStateIndex        0.268029    0.241605             0.248716  ...   \n",
      "MaxEStateIndex           0.268029    0.241605             0.248716  ...   \n",
      "MinAbsEStateIndex       -0.200788   -0.185525            -0.189296  ...   \n",
      "MinEStateIndex          -0.299878   -0.277529            -0.269969  ...   \n",
      "qed                      0.296901    0.292509             0.223523  ...   \n",
      "...                           ...         ...                  ...  ...   \n",
      "fr_thiazole             -0.068475   -0.075058            -0.111374  ...   \n",
      "fr_thiocyan                   NaN         NaN                  NaN  ...   \n",
      "fr_thiophene             0.085949    0.087386             0.074479  ...   \n",
      "fr_unbrch_alkane         0.175317    0.227480             0.333524  ...   \n",
      "fr_urea                 -0.056126   -0.059177            -0.054891  ...   \n",
      "\n",
      "                   fr_sulfide  fr_sulfonamd  fr_sulfone  fr_term_acetylene  \\\n",
      "MaxAbsEStateIndex   -0.040146      0.044395    0.125883          -0.035499   \n",
      "MaxEStateIndex      -0.040146      0.044395    0.125883          -0.035499   \n",
      "MinAbsEStateIndex    0.076047     -0.050042   -0.059713          -0.026210   \n",
      "MinEStateIndex       0.034992     -0.126559   -0.279597           0.006159   \n",
      "qed                  0.005677      0.009764    0.147062          -0.044805   \n",
      "...                       ...           ...         ...                ...   \n",
      "fr_thiazole          0.095680     -0.005322   -0.012339          -0.006148   \n",
      "fr_thiocyan               NaN           NaN         NaN                NaN   \n",
      "fr_thiophene        -0.008906     -0.002350   -0.005449          -0.002715   \n",
      "fr_unbrch_alkane    -0.024621     -0.006497   -0.015063          -0.007505   \n",
      "fr_urea             -0.012212     -0.003223   -0.007471          -0.003723   \n",
      "\n",
      "                   fr_tetrazole  fr_thiazole  fr_thiocyan  fr_thiophene  \\\n",
      "MaxAbsEStateIndex           NaN    -0.109902          NaN     -0.067638   \n",
      "MaxEStateIndex              NaN    -0.109902          NaN     -0.067638   \n",
      "MinAbsEStateIndex           NaN     0.120545          NaN      0.024200   \n",
      "MinEStateIndex              NaN     0.087189          NaN      0.031722   \n",
      "qed                         NaN     0.005065          NaN      0.101223   \n",
      "...                         ...          ...          ...           ...   \n",
      "fr_thiazole                 NaN     1.000000          NaN     -0.007101   \n",
      "fr_thiocyan                 NaN          NaN          NaN           NaN   \n",
      "fr_thiophene                NaN    -0.007101          NaN      1.000000   \n",
      "fr_unbrch_alkane            NaN    -0.019631          NaN     -0.008669   \n",
      "fr_urea                     NaN    -0.009737          NaN     -0.004300   \n",
      "\n",
      "                   fr_unbrch_alkane   fr_urea  \n",
      "MaxAbsEStateIndex         -0.093467  0.059489  \n",
      "MaxEStateIndex            -0.093467  0.059489  \n",
      "MinAbsEStateIndex          0.127537  0.007595  \n",
      "MinEStateIndex             0.094395 -0.048500  \n",
      "qed                       -0.230020 -0.102186  \n",
      "...                             ...       ...  \n",
      "fr_thiazole               -0.019631 -0.009737  \n",
      "fr_thiocyan                     NaN       NaN  \n",
      "fr_thiophene              -0.008669 -0.004300  \n",
      "fr_unbrch_alkane           1.000000 -0.007193  \n",
      "fr_urea                   -0.007193  1.000000  \n",
      "\n",
      "[210 rows x 210 columns]\n"
     ]
    }
   ],
   "source": [
    "correlation_matrix = X_all.corr()\n",
    "print(correlation_matrix)"
   ]
  },
  {
   "cell_type": "code",
   "execution_count": 4,
   "metadata": {},
   "outputs": [
    {
     "name": "stdout",
     "output_type": "stream",
     "text": [
      "(1706, 199)\n"
     ]
    }
   ],
   "source": [
    "# Set a correlation threshold\n",
    "correlation_threshold = 0.99\n",
    "\n",
    "# Find and drop one of the highly correlated columns\n",
    "columns_to_drop = set()\n",
    "for i in range(len(correlation_matrix.columns)):\n",
    "    for j in range(i):\n",
    "        if abs(correlation_matrix.iloc[i, j]) > correlation_threshold:\n",
    "            colname_i = correlation_matrix.columns[i]\n",
    "            colname_j = correlation_matrix.columns[j]\n",
    "\n",
    "            # Add one of the column names to the set to drop\n",
    "            # Choose the one with the lower index (j) in this case\n",
    "            columns_to_drop.add(colname_j)\n",
    "\n",
    "# Keep only one column from each highly correlated pair\n",
    "columns_to_keep = list(set(correlation_matrix.columns) - columns_to_drop)\n",
    "X = X_all[columns_to_keep]\n",
    "\n",
    "print(X.shape)"
   ]
  },
  {
   "cell_type": "code",
   "execution_count": 5,
   "metadata": {},
   "outputs": [],
   "source": [
    "from sklearn.feature_selection import SelectKBest\n",
    "from sklearn.feature_selection import f_regression\n",
    "\n",
    "n_features = X.shape[1]\n",
    "selector = SelectKBest(score_func=f_regression, k=n_features)\n",
    "X_new = selector.fit_transform(X, y)"
   ]
  },
  {
   "cell_type": "code",
   "execution_count": 6,
   "metadata": {},
   "outputs": [
    {
     "name": "stdout",
     "output_type": "stream",
     "text": [
      "(1706, 38)\n"
     ]
    }
   ],
   "source": [
    "# Get the names of all features\n",
    "all_feature_names = X.columns\n",
    "\n",
    "# Get the scores of all features\n",
    "all_feature_scores = selector.scores_\n",
    "\n",
    "# Create a dictionary of feature names and their scores\n",
    "feature_scores_dict = dict(zip(all_feature_names, all_feature_scores))\n",
    "\n",
    "# Sort the features by their scores in descending order\n",
    "sorted_features = sorted(feature_scores_dict.items(), key=lambda x: x[1], reverse=True)\n",
    "\n",
    "# Print or use the sorted features\n",
    "features_high_score = []\n",
    "for feature, score in sorted_features:\n",
    "    feature_index = X.columns.get_loc(feature)\n",
    "    if feature_index < len(all_feature_scores) and score >= 100:\n",
    "        features_high_score.append(feature)\n",
    "\n",
    "df_features_sorted = X[features_high_score]\n",
    "print(df_features_sorted.shape)"
   ]
  },
  {
   "cell_type": "code",
   "execution_count": 7,
   "metadata": {},
   "outputs": [
    {
     "name": "stdout",
     "output_type": "stream",
     "text": [
      "                   SMILES  pka_value  FractionCSP3  EState_VSA10  \\\n",
      "0  Brc1cc2cccnc2c2ncccc12       4.20           0.0           0.0   \n",
      "1        Brc1ccc2ccccc2n1       1.05           0.0           0.0   \n",
      "2        Brc1ccc2cccnc2c1       3.87           0.0           0.0   \n",
      "3        Brc1ccc2ncccc2c1       3.91           0.0           0.0   \n",
      "4        Brc1cccc2cccnc12       3.13           0.0           0.0   \n",
      "\n",
      "   MinAbsPartialCharge  HallKierAlpha  MaxEStateIndex  SMR_VSA10  VSA_EState2  \\\n",
      "0             0.097537          -1.48        4.377685  37.735794     8.744815   \n",
      "1             0.106326          -0.89        4.292315  26.832869     4.292315   \n",
      "2             0.071267          -0.89        4.212037  26.832869     4.212037   \n",
      "3             0.070223          -0.89        4.201481  26.832869     4.201481   \n",
      "4             0.084336          -0.89        4.233866  26.832869     4.233866   \n",
      "\n",
      "   VSA_EState8  ...   TPSA  NumAromaticRings  EState_VSA6  EState_VSA1  \\\n",
      "0          0.0  ...  25.78                 3    12.393687          0.0   \n",
      "1          0.0  ...  12.89                 2     0.000000          0.0   \n",
      "2          0.0  ...  12.89                 2     6.196844          0.0   \n",
      "3          0.0  ...  12.89                 2     6.196844          0.0   \n",
      "4          0.0  ...  12.89                 2     6.196844          0.0   \n",
      "\n",
      "   NOCount  fr_C_O  fr_nitro_arom_nonortho  MinEStateIndex  VSA_EState3  \\\n",
      "0        2       0                       0        0.946736     2.207662   \n",
      "1        1       0                       0        0.885370     1.176574   \n",
      "2        1       0                       0        1.029514     1.176574   \n",
      "3        1       0                       0        1.037685     1.168403   \n",
      "4        1       0                       0        1.023148     1.168403   \n",
      "\n",
      "   EState_VSA8  \n",
      "0    31.964268  \n",
      "1    26.980289  \n",
      "2    26.980289  \n",
      "3    26.980289  \n",
      "4    20.913922  \n",
      "\n",
      "[5 rows x 40 columns]\n"
     ]
    }
   ],
   "source": [
    "df_features_sorted = X[features_high_score].copy()\n",
    "df_features_sorted[\"pka_value\"] = y\n",
    "df_features_sorted[\"SMILES\"] = df[\"SMILES\"]\n",
    "\n",
    "# Reorder columns\n",
    "column_order = [\"SMILES\", \"pka_value\"] + [\n",
    "    col for col in df_features_sorted.columns if col not in [\"pka_value\", \"SMILES\"]\n",
    "]\n",
    "df_features_sorted = df_features_sorted[column_order]\n",
    "\n",
    "print(df_features_sorted.head())"
   ]
  },
  {
   "cell_type": "code",
   "execution_count": 8,
   "metadata": {},
   "outputs": [],
   "source": [
    "df_features_sorted.to_csv(CSV_SAVE_PATH, index=False)"
   ]
  }
 ],
 "metadata": {
  "kernelspec": {
   "display_name": "biosc1540-2024s-dev",
   "language": "python",
   "name": "python3"
  },
  "language_info": {
   "codemirror_mode": {
    "name": "ipython",
    "version": 3
   },
   "file_extension": ".py",
   "mimetype": "text/x-python",
   "name": "python",
   "nbconvert_exporter": "python",
   "pygments_lexer": "ipython3",
   "version": "3.11.7"
  }
 },
 "nbformat": 4,
 "nbformat_minor": 2
}
