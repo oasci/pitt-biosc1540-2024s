{
 "cells": [
  {
   "cell_type": "markdown",
   "metadata": {},
   "source": [
    "# pKa dataset\n",
    "\n",
    "We have this [dataset](https://github.com/IUPAC/Dissociation-Constants) that contains a lot of data that can make analysis messy.\n",
    "\n",
    "This jupyter notebook just cleans it up to make our class examples easy.\n",
    "\n",
    "-   We keep values at a temperature of 25 C\n",
    "-   We keep only the strongest pKA value\n",
    "-   If we have multiple measurements, we take the mean."
   ]
  },
  {
   "cell_type": "code",
   "execution_count": 4,
   "metadata": {},
   "outputs": [],
   "source": [
    "import os\n",
    "import pandas as pd\n",
    "\n",
    "CSV_PATH = \"https://gitlab.com/oasci/courses/pitt/biosc1540-2024s/-/raw/main/biosc1540/files/csv/pka/iupac_high-confidence_v1_0.csv\"\n",
    "\n",
    "CSV_DIR = \"../../files/csv/pka\"\n",
    "CSV_SAVE_PATH = \"../../files/csv/pka/pka_data.csv\"\n",
    "\n",
    "df = pd.read_csv(CSV_PATH)\n",
    "\n",
    "df = df[df[\"T\"] == \"25\"]\n",
    "df = df[df[\"pka_type\"] == \"pKAH1\"]\n",
    "\n",
    "df.drop(columns=[\"entry_#\"], inplace=True)\n",
    "\n",
    "# Convert pka_values to numeric\n",
    "df[\"pka_value\"] = pd.to_numeric(df[\"pka_value\"], errors=\"coerce\")\n",
    "\n",
    "# Calculate the average for duplicate SMILES\n",
    "df = df.groupby(\"SMILES\")[\"pka_value\"].mean().reset_index()\n",
    "\n",
    "df.to_csv(CSV_SAVE_PATH, index=False)"
   ]
  }
 ],
 "metadata": {
  "kernelspec": {
   "display_name": "biosc1540-2024s-dev",
   "language": "python",
   "name": "python3"
  },
  "language_info": {
   "codemirror_mode": {
    "name": "ipython",
    "version": 3
   },
   "file_extension": ".py",
   "mimetype": "text/x-python",
   "name": "python",
   "nbconvert_exporter": "python",
   "pygments_lexer": "ipython3",
   "version": "3.11.7"
  }
 },
 "nbformat": 4,
 "nbformat_minor": 2
}
