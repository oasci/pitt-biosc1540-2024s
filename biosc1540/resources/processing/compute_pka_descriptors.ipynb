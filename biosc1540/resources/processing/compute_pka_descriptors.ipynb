{
 "cells": [
  {
   "cell_type": "markdown",
   "metadata": {},
   "source": [
    "# Compute molecule descriptors\n",
    "\n",
    "Use rdkit to compute a bunch of molecular descriptors for each smiles string."
   ]
  },
  {
   "cell_type": "markdown",
   "metadata": {},
   "source": [
    "Define function to compute all rdkit descriptors."
   ]
  },
  {
   "cell_type": "code",
   "execution_count": 1,
   "metadata": {},
   "outputs": [],
   "source": [
    "from rdkit import Chem\n",
    "from rdkit.Chem import Descriptors\n",
    "\n",
    "\n",
    "# Function to compute various molecular descriptors\n",
    "def compute_descriptors(smiles):\n",
    "    mol = Chem.MolFromSmiles(smiles)\n",
    "    if mol is not None:\n",
    "        descriptors = [desc[1](mol) for desc in Descriptors.descList]\n",
    "        return descriptors\n",
    "    else:\n",
    "        return [None] * len(Descriptors.descList)  # Handle invalid SMILES\n",
    "\n",
    "\n",
    "descriptor_columns = [desc[0] for desc in Descriptors.descList]"
   ]
  },
  {
   "cell_type": "markdown",
   "metadata": {},
   "source": [
    "Load in our original dataframe."
   ]
  },
  {
   "cell_type": "code",
   "execution_count": 2,
   "metadata": {},
   "outputs": [],
   "source": [
    "import os\n",
    "import pandas as pd\n",
    "\n",
    "CSV_PATH = \"https://gitlab.com/oasci/courses/pitt/biosc1540-2024s/-/raw/main/biosc1540/files/csv/pka/pka_data.csv\"\n",
    "\n",
    "CSV_DIR = \"../../files/csv/pka\"\n",
    "CSV_SAVE_PATH = os.path.join(CSV_DIR, \"pka_with_desc.csv\")\n",
    "\n",
    "df_smiles = pd.read_csv(CSV_PATH)"
   ]
  },
  {
   "cell_type": "markdown",
   "metadata": {},
   "source": [
    "Compute all molecular descriptors.\n",
    "This takes about 5 seconds."
   ]
  },
  {
   "cell_type": "code",
   "execution_count": 3,
   "metadata": {},
   "outputs": [],
   "source": [
    "descriptors = pd.DataFrame(\n",
    "    df_smiles[\"SMILES\"].apply(compute_descriptors).tolist(), columns=descriptor_columns\n",
    ")"
   ]
  },
  {
   "cell_type": "code",
   "execution_count": 4,
   "metadata": {},
   "outputs": [
    {
     "name": "stdout",
     "output_type": "stream",
     "text": [
      "      MaxAbsEStateIndex  MaxEStateIndex  MinAbsEStateIndex  MinEStateIndex  \\\n",
      "0              4.377685        4.377685           0.946736        0.946736   \n",
      "1              4.292315        4.292315           0.885370        0.885370   \n",
      "2              4.212037        4.212037           1.029514        1.029514   \n",
      "3              4.201481        4.201481           1.037685        1.037685   \n",
      "4              4.233866        4.233866           1.023148        1.023148   \n",
      "...                 ...             ...                ...             ...   \n",
      "1709           4.057982        4.057982           0.836046        0.836046   \n",
      "1710           3.722222        3.722222           1.638889        1.638889   \n",
      "1711           4.333333        4.333333           1.513889        1.513889   \n",
      "1712           3.740741        3.740741           1.601852        1.601852   \n",
      "1713           3.555556        3.555556           1.444444        1.444444   \n",
      "\n",
      "           qed        SPS    MolWt  HeavyAtomMolWt  ExactMolWt  \\\n",
      "0     0.576820  11.000000  259.106         252.050  257.979260   \n",
      "1     0.606115  10.272727  208.058         202.010  206.968361   \n",
      "2     0.647933  10.272727  208.058         202.010  206.968361   \n",
      "3     0.647933  10.272727  208.058         202.010  206.968361   \n",
      "4     0.647933  10.272727  208.058         202.010  206.968361   \n",
      "...        ...        ...      ...             ...         ...   \n",
      "1709  0.815039  10.133333  199.257         186.153  199.110947   \n",
      "1710  0.452557   8.000000   80.090          76.058   80.037448   \n",
      "1711  0.447261   8.000000   69.063          66.039   69.021464   \n",
      "1712  0.460096   8.000000   85.131          82.107   84.998620   \n",
      "1713  0.458207   8.000000   69.067          66.043   69.032697   \n",
      "\n",
      "      NumValenceElectrons  ...  fr_sulfide  fr_sulfonamd  fr_sulfone  \\\n",
      "0                      72  ...           0             0           0   \n",
      "1                      54  ...           0             0           0   \n",
      "2                      54  ...           0             0           0   \n",
      "3                      54  ...           0             0           0   \n",
      "4                      54  ...           0             0           0   \n",
      "...                   ...  ...         ...           ...         ...   \n",
      "1709                   76  ...           0             0           0   \n",
      "1710                   30  ...           0             0           0   \n",
      "1711                   26  ...           0             0           0   \n",
      "1712                   26  ...           0             0           0   \n",
      "1713                   26  ...           0             0           0   \n",
      "\n",
      "      fr_term_acetylene  fr_tetrazole  fr_thiazole  fr_thiocyan  fr_thiophene  \\\n",
      "0                     0             0            0            0             0   \n",
      "1                     0             0            0            0             0   \n",
      "2                     0             0            0            0             0   \n",
      "3                     0             0            0            0             0   \n",
      "4                     0             0            0            0             0   \n",
      "...                 ...           ...          ...          ...           ...   \n",
      "1709                  0             0            0            0             0   \n",
      "1710                  0             0            0            0             0   \n",
      "1711                  0             0            0            0             0   \n",
      "1712                  0             0            1            0             0   \n",
      "1713                  0             0            0            0             0   \n",
      "\n",
      "      fr_unbrch_alkane  fr_urea  \n",
      "0                    0        0  \n",
      "1                    0        0  \n",
      "2                    0        0  \n",
      "3                    0        0  \n",
      "4                    0        0  \n",
      "...                ...      ...  \n",
      "1709                 0        0  \n",
      "1710                 0        0  \n",
      "1711                 0        0  \n",
      "1712                 0        0  \n",
      "1713                 0        0  \n",
      "\n",
      "[1714 rows x 210 columns]\n"
     ]
    }
   ],
   "source": [
    "print(descriptors)"
   ]
  },
  {
   "cell_type": "code",
   "execution_count": 5,
   "metadata": {},
   "outputs": [],
   "source": [
    "df_smiles = pd.concat([df_smiles, descriptors], axis=1)\n",
    "\n",
    "df_smiles = df_smiles.dropna(how=\"any\")\n",
    "\n",
    "df_smiles.to_csv(CSV_SAVE_PATH, index=False)"
   ]
  }
 ],
 "metadata": {
  "kernelspec": {
   "display_name": "biosc1540-2024s-dev",
   "language": "python",
   "name": "python3"
  },
  "language_info": {
   "codemirror_mode": {
    "name": "ipython",
    "version": 3
   },
   "file_extension": ".py",
   "mimetype": "text/x-python",
   "name": "python",
   "nbconvert_exporter": "python",
   "pygments_lexer": "ipython3",
   "version": "3.11.7"
  }
 },
 "nbformat": 4,
 "nbformat_minor": 2
}
