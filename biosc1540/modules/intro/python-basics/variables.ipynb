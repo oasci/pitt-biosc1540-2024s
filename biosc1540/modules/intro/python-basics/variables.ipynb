{
 "cells": [
  {
   "cell_type": "markdown",
   "metadata": {},
   "source": [
    "# Variables\n",
    "\n",
    "<div class=\"admonition danger\">\n",
    "    <p class=\"admonition-title\">DRAFT</p>\n",
    "    <p style=\"padding-top: 1em\">\n",
    "        This page is a work in progress and is subject to change at any moment.\n",
    "    </p>\n",
    "</div>\n",
    "\n",
    "In programming languages, variables play a crucial role as they serve as labels for storing and manipulating data.\n",
    "A variable is essentially a symbolic name or identifier associated with a memory location that holds a value.\n",
    "These values can be numbers, characters, strings, or more complex data structures.\n",
    "\n",
    "These are no different than variables in math.\n",
    "If I give you an equation $x + y$ and then tell you $x = 1$ and $y = 3$, you mentally put these numbers in the equation and get $1 + 3$.\n",
    "In fact, that is all valid Python!"
   ]
  },
  {
   "cell_type": "code",
   "execution_count": 1,
   "metadata": {},
   "outputs": [
    {
     "name": "stdout",
     "output_type": "stream",
     "text": [
      "4\n"
     ]
    }
   ],
   "source": [
    "x = 1\n",
    "y = 3\n",
    "print(x + y)"
   ]
  },
  {
   "cell_type": "markdown",
   "metadata": {},
   "source": [
    "This essentially is communicating to Python the same thing I was to you.\n",
    "You are saying: Hey Python, whenever you see `x` after this line, put 1 there. For `y`, put 3.\n",
    "\n",
    "However, you have to tell Python about `x` and `y` before you use them.\n",
    "Like I said before, [computers are dumb](/modules/intro/python-basics/arithmetic/#computers-are-dumb).\n",
    "If you tried to tell it about the equation `x + y` first, Python would panic because `x` and `y` don't exist yet.\n",
    "We will discuss this more [later](#declare-before-use)."
   ]
  },
  {
   "cell_type": "markdown",
   "metadata": {},
   "source": [
    "## Assignment\n",
    "\n",
    "In Python, an assignment operator is used to assign a value to a variable.\n",
    "The most common assignment operator is the equal sign `=`.\n",
    "It is important to note that the equal sign in the context of variable assignment is not a mathematical equality but rather an instruction to assign the value on the right-hand side to the variable on the left-hand side.\n",
    "\n",
    "When you use the assignment operator (`=`) to create a variable, Python reserves a space in memory to store the value associated with that variable."
   ]
  },
  {
   "cell_type": "code",
   "execution_count": 1,
   "metadata": {},
   "outputs": [],
   "source": [
    "example_number = 10"
   ]
  },
  {
   "cell_type": "markdown",
   "metadata": {},
   "source": [
    "Let's walk through what is going on under the hood.\n",
    "\n",
    "### Memory allocation\n",
    "\n",
    "All data in your computer is stored either on your hard drive or in your Random Access Memory (RAM).\n",
    "These hardware components contain a massive amount of places to store data.\n",
    "\n",
    "TODO:\n",
    "\n",
    "![](https://gitlab.com/oasci/courses/pitt/biosc1540-2024s/-/raw/main/biosc1540/img/computer/memory-allocation.svg)\n",
    "\n",
    "TODO:"
   ]
  },
  {
   "cell_type": "markdown",
   "metadata": {},
   "source": [
    "In this case, Python creates a variable named `example_number` and allocates memory to store the integer value `10`."
   ]
  },
  {
   "cell_type": "code",
   "execution_count": 2,
   "metadata": {},
   "outputs": [
    {
     "name": "stdout",
     "output_type": "stream",
     "text": [
      "10\n"
     ]
    }
   ],
   "source": [
    "print(example_number)"
   ]
  },
  {
   "cell_type": "markdown",
   "metadata": {},
   "source": [
    "The memory allocated for the variable holds the actual value.\n",
    "Python automatically manages memory, and you don't need to explicitly allocate or deallocate memory as you might in some lower-level languages.\n",
    "\n",
    "The variable `example_number` becomes a reference to the memory location where the value `10` is stored.\n",
    "Think of a variable as a label or a name pointing to a specific location in the computer's memory.\n",
    "\n",
    "If you later reassign a new value to the same variable, Python updates the content of the memory location associated with that variable."
   ]
  },
  {
   "cell_type": "code",
   "execution_count": 3,
   "metadata": {},
   "outputs": [
    {
     "name": "stdout",
     "output_type": "stream",
     "text": [
      "20\n"
     ]
    }
   ],
   "source": [
    "example_number = 20\n",
    "print(example_number)"
   ]
  },
  {
   "cell_type": "markdown",
   "metadata": {},
   "source": [
    "Now, `example_number` refers to a memory location containing the value `20`, and the previous value `10` is no longer associated with `example_number`.\n",
    "\n",
    "We can also store the results of our mathematical expressions into variables."
   ]
  },
  {
   "cell_type": "code",
   "execution_count": 1,
   "metadata": {},
   "outputs": [
    {
     "name": "stdout",
     "output_type": "stream",
     "text": [
      "10.8\n"
     ]
    }
   ],
   "source": [
    "y = 3.4 * 2 + 4\n",
    "print(y)"
   ]
  },
  {
   "cell_type": "markdown",
   "metadata": {},
   "source": [
    "I can then add 1.2 to make it an even 12."
   ]
  },
  {
   "cell_type": "code",
   "execution_count": 2,
   "metadata": {},
   "outputs": [
    {
     "name": "stdout",
     "output_type": "stream",
     "text": [
      "12.0\n"
     ]
    }
   ],
   "source": [
    "y = y + 1.2\n",
    "print(y)"
   ]
  },
  {
   "cell_type": "markdown",
   "metadata": {},
   "source": [
    "## Multiple variables\n",
    "\n",
    "It's common for code to use multiple variables. This is especially useful when we have to do a long calculation with multiple inputs.\n",
    "\n",
    "In the next code cell, we calculate the number of seconds in four years. This calculation uses five inputs."
   ]
  },
  {
   "cell_type": "code",
   "execution_count": 3,
   "metadata": {},
   "outputs": [
    {
     "name": "stdout",
     "output_type": "stream",
     "text": [
      "126144000\n"
     ]
    }
   ],
   "source": [
    "# Create variables\n",
    "num_years = 4\n",
    "days_per_year = 365\n",
    "hours_per_day = 24\n",
    "mins_per_hour = 60\n",
    "secs_per_min = 60\n",
    "\n",
    "# Calculate number of seconds in four years\n",
    "total_secs = secs_per_min * mins_per_hour * hours_per_day * days_per_year * num_years\n",
    "print(total_secs)"
   ]
  },
  {
   "cell_type": "markdown",
   "metadata": {},
   "source": [
    "As calculated above, there are `126144000` seconds in four years.\n",
    "\n",
    "Note it is possible to do this calculation without variables as just `60 * 60 * 24 * 365 * 4`, but it is much harder to check that the calculation without variables does not have some error, because it is not as readable.\n",
    "When we use variables (such as `num_years`, `days_per_year`, etc), we can better keep track of each part of the calculation and more easily check for and correct any mistakes.\n",
    "\n",
    "Note that it is particularly useful to use variables when the values of the inputs can change.\n",
    "For instance, say we want to slightly improve our estimate by updating the value of the number of days in a year from `365` to `365.25`, to account for leap years.\n",
    "Then we can change the value assigned to `days_per_year` without changing any of the other variables and redo the calculation.\n"
   ]
  },
  {
   "cell_type": "code",
   "execution_count": null,
   "metadata": {},
   "outputs": [],
   "source": [
    "# Update to include leap years\n",
    "days_per_year = 365.25\n",
    "\n",
    "# Calculate number of seconds in four years\n",
    "total_secs = secs_per_min * mins_per_hour * hours_per_day * days_per_year * num_years\n",
    "print(total_secs)"
   ]
  },
  {
   "cell_type": "markdown",
   "metadata": {},
   "source": [
    "**Note**: You might have noticed the .0 added at the end of the number, which might look unnecessary.\n",
    "This is caused by the fact that in the second calculation, we used a number with a fractional part (365.25), whereas the first calculation multiplied just numbers with no fractional part.\n",
    "You'll learn more about this in [data types](#data-types).\n"
   ]
  },
  {
   "cell_type": "markdown",
   "metadata": {},
   "source": [
    "## Declare before use\n",
    "\n",
    "In Python, you need to explicitly declare and assign a value to a variable before you attempt to use it in your code.\n",
    "\n",
    "If you try to use a variable before it has been created, Python will raise an error.\n",
    "This includes attempting to use a variable name that hasn't been declared or has been misspelled.\n",
    "For example, if you tried\n",
    "\n",
    "```python\n",
    "print(other_example_number)\n",
    "```\n",
    "\n",
    "you would get `NameError: name 'other_example_number' is not defined`."
   ]
  },
  {
   "cell_type": "markdown",
   "metadata": {},
   "source": [
    "By enforcing the rule that variables must be created before they are used, Python helps catch potential errors early in the development process, promoting code clarity and preventing accidental use of undefined or misspelled variable names.\n",
    "\n",
    "<div class=\"admonition warning\">\n",
    "    <p class=\"admonition-title\">Warning</p>\n",
    "    <p style=\"padding-top: 1em\">\n",
    "        Be aware that it is the order of execution of cells that is important in a Jupyter notebook, not the order in which they appear.\n",
    "        Python will remember all the code that was run previously, including any variables you have defined, irrespective of the order in the notebook.\n",
    "        Therefore if you define variables lower down the notebook and then (re)run cells further up, those defined further down will still be present.\n",
    "    </p>\n",
    "</div>"
   ]
  },
  {
   "cell_type": "markdown",
   "metadata": {},
   "source": [
    "## Names\n",
    "\n",
    "Here are some guidelines for naming variables:\n",
    "\n",
    "-   Snake case is the most widely used convention for naming variables in Python.\n",
    "    It involves using lowercase letters and underscores to separate words.\n",
    "    For example: `my_variable`, `user_name`, `total_count`.\n",
    "-   Choose variable names that are descriptive and convey the purpose or content of the variable.\n",
    "    This makes the code more self-explanatory.\n",
    "    For instance, use `customer_name` instead of `cn` or `x`.\n",
    "-   Try to avoid single-letter variable names.\n",
    "    Exceptions include common conventions like `i`, `j`, and `k` for some numbers.\n",
    "-   If you have a variable that is meant to be a constant (i.e., its value should never change), use all uppercase letters with underscores separating words.\n",
    "    For example: `MAX_SIZE`, `PI`.\n",
    "\n",
    "[PEP 8](https://peps.python.org/pep-0008/) is the recommended style guide for Python code.\n",
    "There are some variations, but having everyone stick to a consistent style helps new developers get up to speed quicker.\n",
    "There are some formatters, like [black](https://black.readthedocs.io/en/stable/), that are widely used because the automatically format your code consistently."
   ]
  },
  {
   "cell_type": "markdown",
   "metadata": {},
   "source": [
    "## Scalars\n",
    "\n",
    "A scalar value, in the context of programming and mathematics, refers to a single value or element that is not part of a larger set or structure. It is the simplest form of data, representing a single quantity, number, or item.\n",
    "Scalar values are typically atomic and indivisible.\n",
    "They are not composed of smaller components. \n",
    "\n",
    "## Data types\n",
    "\n",
    "In programming, a data type is a classification that specifies which type of value a variable can hold.\n",
    "It defines the operations that can be performed on the data and the way the data is stored in the computer's memory.\n",
    "Data types are essential for ensuring proper representation and manipulation of information in a program.\n",
    "\n",
    "Data types define how different types of values, such as numbers, characters, or logical values, are represented in the computer's memory. For example, an integer data type may use a fixed amount of memory to store whole numbers.\n",
    "\n",
    "Each data type comes with a set of operations that can be performed on values of that type. For instance, you can perform arithmetic operations on numeric types, concatenate strings, or compare values using logical operations.\n",
    "\n",
    "Data types determine how much memory is allocated to store a particular value. Different data types may require different amounts of memory. For example, a floating-point number may require more memory than an integer.\n",
    "\n",
    "### Numeric\n",
    "\n",
    "Integers (`int`): Whole numbers without a decimal point.\n"
   ]
  },
  {
   "cell_type": "code",
   "execution_count": 7,
   "metadata": {},
   "outputs": [
    {
     "name": "stdout",
     "output_type": "stream",
     "text": [
      "<class 'int'>\n",
      "<class 'int'>\n",
      "<class 'int'>\n"
     ]
    }
   ],
   "source": [
    "print(type(1))\n",
    "print(type(-5))\n",
    "print(type(1000))"
   ]
  },
  {
   "cell_type": "markdown",
   "metadata": {},
   "source": [
    "Floating-point numbers (`float`): Numbers with a decimal point."
   ]
  },
  {
   "cell_type": "code",
   "execution_count": 8,
   "metadata": {},
   "outputs": [
    {
     "name": "stdout",
     "output_type": "stream",
     "text": [
      "<class 'float'>\n",
      "<class 'float'>\n",
      "<class 'float'>\n"
     ]
    }
   ],
   "source": [
    "print(type(3.14))\n",
    "print(type(-0.5))\n",
    "print(type(2.0))"
   ]
  },
  {
   "cell_type": "markdown",
   "metadata": {},
   "source": [
    "#### Text\n",
    "\n",
    "Strings (`str`): Represents sequences of characters, such as `\"hello\"` or `'123'`."
   ]
  },
  {
   "cell_type": "code",
   "execution_count": 9,
   "metadata": {},
   "outputs": [
    {
     "name": "stdout",
     "output_type": "stream",
     "text": [
      "<class 'str'>\n",
      "<class 'str'>\n"
     ]
    }
   ],
   "source": [
    "print(type(\"hello\"))\n",
    "print(type(\"123\"))"
   ]
  },
  {
   "cell_type": "markdown",
   "metadata": {},
   "source": [
    "You can define a string in between a pair of `\"` or `'`.\n",
    "However, people generally use `\"` because it is more common to have a `'` in the string they want to store."
   ]
  },
  {
   "cell_type": "markdown",
   "metadata": {},
   "source": [
    "### Boolean\n",
    "\n",
    "Boolean values (`bool`): Represents either `True` or `False`.\n"
   ]
  },
  {
   "cell_type": "code",
   "execution_count": 10,
   "metadata": {},
   "outputs": [
    {
     "name": "stdout",
     "output_type": "stream",
     "text": [
      "<class 'bool'>\n",
      "<class 'bool'>\n"
     ]
    }
   ],
   "source": [
    "print(type(True))\n",
    "print(type(False))"
   ]
  },
  {
   "cell_type": "markdown",
   "metadata": {},
   "source": [
    "However, if we wrap double quotes around `True` or `False` it becomes a string."
   ]
  },
  {
   "cell_type": "code",
   "execution_count": 11,
   "metadata": {},
   "outputs": [
    {
     "name": "stdout",
     "output_type": "stream",
     "text": [
      "<class 'str'>\n"
     ]
    }
   ],
   "source": [
    "print(type(\"False\"))"
   ]
  },
  {
   "cell_type": "markdown",
   "metadata": {},
   "source": [
    "### None\n",
    "\n",
    "None is a special constant representing the absence of a value or a null value.\n",
    "It is a built-in singleton object of the NoneType data type."
   ]
  },
  {
   "cell_type": "code",
   "execution_count": 12,
   "metadata": {},
   "outputs": [
    {
     "name": "stdout",
     "output_type": "stream",
     "text": [
      "<class 'NoneType'>\n"
     ]
    }
   ],
   "source": [
    "print(type(None))"
   ]
  },
  {
   "cell_type": "markdown",
   "metadata": {},
   "source": [
    "So why would you want to use a tuple instead of a list?\n",
    "\n",
    "-   If you need a collection of items that should not be changed or modified throughout the program, using a tuple provides immutability. This prevents accidental modifications and ensures data consistency.\n",
    "-   Tuples are generally more memory-efficient than lists because of their immutability. If your data does not need to change, using a tuple can result in better performance."
   ]
  },
  {
   "cell_type": "markdown",
   "metadata": {},
   "source": [
    "## Case matters\n",
    "\n",
    "Python is a case-sensitive programming language, which means that it distinguishes between uppercase and lowercase letters.\n",
    "This applies not only to variable names but also to function names, class names, and other identifiers in your code."
   ]
  },
  {
   "cell_type": "code",
   "execution_count": 13,
   "metadata": {},
   "outputs": [
    {
     "name": "stdout",
     "output_type": "stream",
     "text": [
      "10\n",
      "20\n"
     ]
    }
   ],
   "source": [
    "my_variable = 10\n",
    "My_Variable = 20\n",
    "print(my_variable)\n",
    "print(My_Variable)"
   ]
  },
  {
   "cell_type": "markdown",
   "metadata": {},
   "source": [
    "## Acknowledgements\n",
    "\n",
    "Much of this material has been adapted with permission from the following sources:\n",
    "\n",
    "- [Plotting and Programming in Python](https://swcarpentry.github.io/python-novice-gapminder/)"
   ]
  }
 ],
 "metadata": {
  "kernelspec": {
   "display_name": "biosc1540-2024s-dev",
   "language": "python",
   "name": "python3"
  },
  "language_info": {
   "codemirror_mode": {
    "name": "ipython",
    "version": 3
   },
   "file_extension": ".py",
   "mimetype": "text/x-python",
   "name": "python",
   "nbconvert_exporter": "python",
   "pygments_lexer": "ipython3",
   "version": "3.11.7"
  }
 },
 "nbformat": 4,
 "nbformat_minor": 2
}
