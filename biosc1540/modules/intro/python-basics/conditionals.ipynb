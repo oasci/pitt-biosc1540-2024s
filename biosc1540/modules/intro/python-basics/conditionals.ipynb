{
 "cells": [
  {
   "cell_type": "markdown",
   "metadata": {},
   "source": [
    "# Conditionals\n",
    "\n",
    "Python has all of the standard comparison operators shown below.\n",
    "\n",
    "`<` is less than."
   ]
  },
  {
   "cell_type": "code",
   "execution_count": 1,
   "metadata": {},
   "outputs": [
    {
     "name": "stdout",
     "output_type": "stream",
     "text": [
      "True\n",
      "True\n",
      "False\n",
      "False\n"
     ]
    }
   ],
   "source": [
    "print(3 < 5)\n",
    "print(-1 < 0)\n",
    "print(5 < 3)\n",
    "print(3 < 3)"
   ]
  },
  {
   "cell_type": "markdown",
   "metadata": {},
   "source": [
    "`<=` is less than or equal to."
   ]
  },
  {
   "cell_type": "code",
   "execution_count": 2,
   "metadata": {},
   "outputs": [
    {
     "name": "stdout",
     "output_type": "stream",
     "text": [
      "True\n",
      "True\n",
      "False\n"
     ]
    }
   ],
   "source": [
    "print(4 <= 5)\n",
    "print(5 <= 5)\n",
    "print(6 <= 5)"
   ]
  },
  {
   "cell_type": "markdown",
   "metadata": {},
   "source": [
    "`>` is greater than."
   ]
  },
  {
   "cell_type": "code",
   "execution_count": 3,
   "metadata": {},
   "outputs": [
    {
     "name": "stdout",
     "output_type": "stream",
     "text": [
      "False\n",
      "False\n",
      "True\n"
     ]
    }
   ],
   "source": [
    "print(4 > 5)\n",
    "print(5 > 5)\n",
    "print(6 > 5)"
   ]
  },
  {
   "cell_type": "markdown",
   "metadata": {},
   "source": [
    "`>=` is great than or equal to."
   ]
  },
  {
   "cell_type": "code",
   "execution_count": 4,
   "metadata": {},
   "outputs": [
    {
     "name": "stdout",
     "output_type": "stream",
     "text": [
      "False\n",
      "True\n",
      "True\n"
     ]
    }
   ],
   "source": [
    "print(4 >= 5)\n",
    "print(5 >= 5)\n",
    "print(6 >= 5)"
   ]
  },
  {
   "cell_type": "markdown",
   "metadata": {},
   "source": [
    "`==` is equal to."
   ]
  },
  {
   "cell_type": "code",
   "execution_count": 5,
   "metadata": {},
   "outputs": [
    {
     "name": "stdout",
     "output_type": "stream",
     "text": [
      "False\n",
      "True\n",
      "True\n",
      "False\n"
     ]
    }
   ],
   "source": [
    "print(4 == 5)\n",
    "print(5 == 5)\n",
    "print(5 == 5.0)\n",
    "print(5 == \"5\")"
   ]
  },
  {
   "cell_type": "markdown",
   "metadata": {},
   "source": [
    "Note that I started mixing up the data types.\n",
    "For example, `5 == 5.0` is `True` but `5 == \"5\"` is not.\n",
    "this again has to do with comparing different data types.\n",
    "Python can reason that an `int` can be turned into a `float` for comparison, but it is not going to even try to convert a `string` to a numeric type.\n",
    "However, instead of throwing an error it just returns `False`."
   ]
  },
  {
   "cell_type": "markdown",
   "metadata": {},
   "source": [
    "`!=` is not equal to.\n",
    "\n",
    "-   `4 != 5` is `True`\n",
    "-   `5 != 5` is `False`\n",
    "-   `\"5\" != 5` is `True`\n"
   ]
  },
  {
   "cell_type": "code",
   "execution_count": 6,
   "metadata": {},
   "outputs": [
    {
     "name": "stdout",
     "output_type": "stream",
     "text": [
      "True\n",
      "False\n",
      "True\n"
     ]
    }
   ],
   "source": [
    "print(4 != 5)\n",
    "print(5 != 5)\n",
    "print(\"5\" != 5)"
   ]
  },
  {
   "cell_type": "markdown",
   "metadata": {},
   "source": [
    "However, none of this means I cannot compare string."
   ]
  },
  {
   "cell_type": "code",
   "execution_count": 7,
   "metadata": {},
   "outputs": [
    {
     "name": "stdout",
     "output_type": "stream",
     "text": [
      "True\n",
      "False\n",
      "True\n"
     ]
    }
   ],
   "source": [
    "print(\"Hello\" == \"Hello\")\n",
    "print(\"Hello \" == \"Hello\")\n",
    "print(\"Whats up\" != \"doc\")"
   ]
  },
  {
   "cell_type": "markdown",
   "metadata": {},
   "source": [
    "## `if`\n",
    "\n",
    "In programming, an essential construct for controlling the flow of your code is the `if` statement, more formally known as a conditional statement.\n",
    "This powerful tool allows you to control whether a specific block of code is used based on something is `True` or `False`, called the condition.\n",
    "We hinted at this in [functions](../functions) where we said 'if the tool is equal to `\"whisk\"`, then grab a whisk'.\n",
    "In Python, this would look like this.\n",
    "\n",
    "```python\n",
    "if tool == \"whisk\":\n",
    "    grab_whisk()\n",
    "```\n",
    "\n",
    "The `==` operator compares two things and sees if it is equal; this is different than assigning a variable with `=`.\n",
    "In our case, if the data stored in the variable `tool` is `\"whisk\"`, then `tool == \"whisk\"` would evaluate to `True`.\n",
    "Since this is `True`, we go \"inside the `if` statement\" specified after the `:` and indented by four spaces."
   ]
  },
  {
   "cell_type": "code",
   "execution_count": 8,
   "metadata": {},
   "outputs": [
    {
     "name": "stdout",
     "output_type": "stream",
     "text": [
      "The number is positive.\n",
      "Done!\n"
     ]
    }
   ],
   "source": [
    "number = 10\n",
    "\n",
    "if number > 0:\n",
    "    print(\"The number is positive.\")\n",
    "\n",
    "print(\"Done!\")"
   ]
  },
  {
   "cell_type": "markdown",
   "metadata": {},
   "source": [
    "In the case above, Python will compare `10 > 0` and see that it is `True` and go inside the `if` statement.\n",
    "Remember that we have to tell Python when we have stopped defining code after `:`?\n",
    "Well, we do it there as well where `print(\"Done!\")` is not indented and will run no matter is `number > 0`."
   ]
  },
  {
   "cell_type": "code",
   "execution_count": 9,
   "metadata": {},
   "outputs": [
    {
     "name": "stdout",
     "output_type": "stream",
     "text": [
      "Done!\n"
     ]
    }
   ],
   "source": [
    "number = -10\n",
    "\n",
    "if number > 0:\n",
    "    print(\"The number is positive.\")\n",
    "\n",
    "print(\"Done!\")"
   ]
  },
  {
   "cell_type": "markdown",
   "metadata": {},
   "source": [
    "## `else`\n",
    "\n",
    "In Python, the `else` statement serves as a dynamic tool to extend the functionality of `if` statements, providing a means to execute a block of code when the specified condition in the `if` statement evaluates to `False`.\n",
    "This invaluable feature enhances the flexibility and control you have over your code execution.\n",
    "\n",
    "The `else` statement is typically used in conjunction with an `if` statement.\n",
    "It follows the body of the `if` block and introduces an alternative block of code to be executed when the condition of the `if` statement is not met."
   ]
  },
  {
   "cell_type": "code",
   "execution_count": 10,
   "metadata": {},
   "outputs": [
    {
     "name": "stdout",
     "output_type": "stream",
     "text": [
      "The number is not positive.\n",
      "Done!\n"
     ]
    }
   ],
   "source": [
    "number = -10\n",
    "\n",
    "if number > 0:\n",
    "    print(\"The number is positive.\")\n",
    "else:\n",
    "    print(\"The number is not positive.\")\n",
    "\n",
    "print(\"Done!\")"
   ]
  },
  {
   "cell_type": "code",
   "execution_count": 11,
   "metadata": {},
   "outputs": [
    {
     "name": "stdout",
     "output_type": "stream",
     "text": [
      "The number is positive.\n",
      "Done!\n"
     ]
    }
   ],
   "source": [
    "number = 10\n",
    "\n",
    "if number > 0:\n",
    "    print(\"The number is positive.\")\n",
    "else:\n",
    "    print(\"The number is not positive.\")\n",
    "\n",
    "print(\"Done!\")"
   ]
  },
  {
   "cell_type": "markdown",
   "metadata": {},
   "source": [
    "## `elif`\n",
    "\n",
    "In Python, the `elif` (short for \"else if\") statement emerges as a powerful tool for introducing multiple tests within the decision-making process.\n",
    "This feature is especially useful when you need to provide several choices, each contingent on its own set of conditions.\n",
    "Understanding the nuances of `elif` is key to enhancing the flexibility and sophistication of your programs.\n",
    "\n",
    "For example, what about 0?\n",
    "Zero is not positive, or negative, so we have another conditional."
   ]
  },
  {
   "cell_type": "code",
   "execution_count": 12,
   "metadata": {},
   "outputs": [
    {
     "name": "stdout",
     "output_type": "stream",
     "text": [
      "The number is zero.\n",
      "Done!\n"
     ]
    }
   ],
   "source": [
    "number = 0\n",
    "\n",
    "if number > 0:\n",
    "    print(\"The number is positive.\")\n",
    "elif number == 0:\n",
    "    print(\"The number is zero.\")\n",
    "else:\n",
    "    print(\"The number is negative.\")\n",
    "\n",
    "print(\"Done!\")"
   ]
  },
  {
   "cell_type": "markdown",
   "metadata": {},
   "source": [
    "Note that we can change our conditionals if we like.\n",
    "We will still get the same behavior."
   ]
  },
  {
   "cell_type": "code",
   "execution_count": 13,
   "metadata": {},
   "outputs": [
    {
     "name": "stdout",
     "output_type": "stream",
     "text": [
      "The number is zero.\n",
      "Done!\n"
     ]
    }
   ],
   "source": [
    "number = 0\n",
    "\n",
    "if number > 0:\n",
    "    print(\"The number is positive.\")\n",
    "elif number < 0:\n",
    "    print(\"The number is negative.\")\n",
    "else:\n",
    "    print(\"The number is zero.\")\n",
    "\n",
    "print(\"Done!\")"
   ]
  },
  {
   "cell_type": "markdown",
   "metadata": {},
   "source": [
    "## Scope\n",
    "\n",
    "Remember how in functions we had a local and a global scope?\n",
    "Well, there is no additional scope creation when we are using `if` statements."
   ]
  }
 ],
 "metadata": {
  "kernelspec": {
   "display_name": "biosc1540-2024s-dev",
   "language": "python",
   "name": "python3"
  },
  "language_info": {
   "codemirror_mode": {
    "name": "ipython",
    "version": 3
   },
   "file_extension": ".py",
   "mimetype": "text/x-python",
   "name": "python",
   "nbconvert_exporter": "python",
   "pygments_lexer": "ipython3",
   "version": "3.11.7"
  }
 },
 "nbformat": 4,
 "nbformat_minor": 2
}
