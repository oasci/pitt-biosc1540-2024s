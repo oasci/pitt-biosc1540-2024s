{
 "cells": [
  {
   "cell_type": "markdown",
   "metadata": {},
   "source": [
    "# Libraries\n",
    "\n",
    "In Python, a library serves as a structured repository of functionality encapsulated within a collection of files known as modules.\n",
    "These modules act as containers for various elements, predominantly functions but also encompassing other components such as data values, constants, and potentially more.\n",
    "The primary purpose of a Python library is to provide a modular and reusable set of tools that can be easily integrated into other programs.\n",
    "This modular design facilitates code reuse and helps developers avoid the redundancy of reinventing solutions to common problems, contributing to the efficiency and maintainability of their codebase.\n",
    "\n",
    "The essence of a library lies in its potential for widespread applicability.\n",
    "By creating reusable modules, developers can encapsulate specific functionalities or algorithms, making them readily available for integration into diverse projects.\n",
    "This promotes a more streamlined development process, as programmers can leverage the existing functionality of a library rather than starting from scratch for each new project.\n",
    "\n",
    "Although libraries are conceived with the idea of containing related functionalities, Python does not enforce strict rules on their internal organization.\n",
    "This flexibility allows developers creative freedom in structuring their libraries.\n",
    "However, this lack of enforcement comes with the responsibility of logical organization.\n",
    "Developers are expected to organize functions and data in a coherent and comprehensible manner within a library, ensuring that users can easily navigate and comprehend its contents.\n",
    "This logical organization not only benefits the library's creator but also enhances the usability of the library for others who may want to leverage its functionality.\n",
    "Overall, the freedom and responsibility associated with Python libraries contribute to a dynamic and collaborative programming environment.\n"
   ]
  },
  {
   "cell_type": "markdown",
   "metadata": {},
   "source": [
    "## Standard library\n",
    "\n",
    "Python comes with a comprehensive standard library.\n",
    "This library includes a wide range of modules covering diverse functionalities, from basic operations to advanced features.\n",
    "It provides a solid foundation for building various types of applications without requiring additional installations."
   ]
  },
  {
   "cell_type": "markdown",
   "metadata": {},
   "source": [
    "## General imports\n",
    "\n",
    "Before you can leverage the tools and features offered by a library, it's crucial to import the relevant module into your program's memory.\n",
    "This ensures that the program recognizes and can access the functions, data, and other elements contained within the library.\n",
    "\n",
    "The `import` keyword plays a pivotal role in incorporating external functionality into your Python program.\n",
    "To use a library module, you employ the import keyword followed by the name of the module.\n",
    "This action essentially loads the module into the program's memory, making its contents accessible for use."
   ]
  },
  {
   "cell_type": "code",
   "execution_count": 1,
   "metadata": {},
   "outputs": [],
   "source": [
    "import math"
   ]
  },
  {
   "cell_type": "markdown",
   "metadata": {},
   "source": [
    "## Accessing\n",
    "\n",
    "Once a library module is imported, you can refer to its elements using a specific syntax: `module_name.element_name`.\n",
    "Here, `module_name` represents the name of the imported module, and `element_name` denotes the specific function, data, or other components you wish to utilize from within that module.\n",
    "\n",
    "Python employs the dot notation (`.`) to signify the relationship between the module and its elements.\n",
    "When you see `module_name.thing_name`, the dot (`.`) serves as an indicator of belonging or being \"part of.\"\n",
    "It's a visual cue that the referenced element is a component or functionality encapsulated within the specified module.\n",
    "\n",
    "You can also think of this as specifying a file in a folder.\n",
    "If you have a folder called `fridge` with a file called `tomato`, then you could specify this in dot notation as `fridge.tomato`.\n",
    "Except in Python, we are specifying a path to a piece of code we want to use."
   ]
  },
  {
   "cell_type": "code",
   "execution_count": 2,
   "metadata": {},
   "outputs": [
    {
     "name": "stdout",
     "output_type": "stream",
     "text": [
      "π is 3.141592653589793\n",
      "cos(π) is -1.0\n"
     ]
    }
   ],
   "source": [
    "print(\"π is\", math.pi)\n",
    "print(\"cos(π) is\", math.cos(math.pi))"
   ]
  },
  {
   "cell_type": "markdown",
   "metadata": {},
   "source": [
    "If we try to use `pi` or `cos` without the `math.` prefix we will get a `NameError`."
   ]
  },
  {
   "cell_type": "code",
   "execution_count": 3,
   "metadata": {},
   "outputs": [
    {
     "ename": "NameError",
     "evalue": "name 'pi' is not defined",
     "output_type": "error",
     "traceback": [
      "\u001b[0;31m---------------------------------------------------------------------------\u001b[0m",
      "\u001b[0;31mNameError\u001b[0m                                 Traceback (most recent call last)",
      "Cell \u001b[0;32mIn[3], line 1\u001b[0m\n\u001b[0;32m----> 1\u001b[0m \u001b[38;5;28mprint\u001b[39m(\u001b[38;5;124m\"\u001b[39m\u001b[38;5;124mπ is\u001b[39m\u001b[38;5;124m\"\u001b[39m, \u001b[43mpi\u001b[49m)\n\u001b[1;32m      2\u001b[0m \u001b[38;5;28mprint\u001b[39m(\u001b[38;5;124m\"\u001b[39m\u001b[38;5;124mcos(π) is\u001b[39m\u001b[38;5;124m\"\u001b[39m, cos(math\u001b[38;5;241m.\u001b[39mpi))\n",
      "\u001b[0;31mNameError\u001b[0m: name 'pi' is not defined"
     ]
    }
   ],
   "source": [
    "print(\"π is\", pi)\n",
    "print(\"cos(π) is\", cos(math.pi))"
   ]
  },
  {
   "cell_type": "markdown",
   "metadata": {},
   "source": [
    "They are not in our namespace yet, but `math` is.\n",
    "That is why `math.pi` and `math.cos` work.\n",
    "\n",
    "We can fix this with a specific import."
   ]
  },
  {
   "cell_type": "markdown",
   "metadata": {},
   "source": [
    "## Specific imports\n",
    "\n",
    "In Python programming, efficiency and code clarity are key considerations.\n",
    "One effective way to achieve these goals is by selectively importing only the specific items you need from a library module.\n",
    "This not only helps in keeping your programs concise but also enhances readability.\n",
    "\n",
    "The `from ... import ...` syntax allows you to import specific items directly from a library module.\n",
    "This targeted approach ensures that only the necessary elements are brought into your program's scope.\n",
    "Once you've used the `from ... import ...` statement, you can directly reference the imported items in your code without prefixing them with the library name.\n",
    "This can significantly reduce the verbosity of your code and make it more straightforward."
   ]
  },
  {
   "cell_type": "code",
   "execution_count": 4,
   "metadata": {},
   "outputs": [],
   "source": [
    "from math import pi, cos"
   ]
  },
  {
   "cell_type": "code",
   "execution_count": 5,
   "metadata": {},
   "outputs": [
    {
     "name": "stdout",
     "output_type": "stream",
     "text": [
      "π is 3.141592653589793\n",
      "cos(π) is -1.0\n"
     ]
    }
   ],
   "source": [
    "print(\"π is\", pi)\n",
    "print(\"cos(π) is\", cos(math.pi))"
   ]
  },
  {
   "cell_type": "markdown",
   "metadata": {},
   "source": [
    "## Aliases\n",
    "\n",
    "To further streamline your code and reduce verbosity, Python provides a mechanism to create aliases for library modules.\n",
    "This involves using the `import ... as ...` syntax, allowing you to give a library a short and customized alias during the import process.\n",
    "This alias can then be used as a shorthand reference to the library's functionalities within your program."
   ]
  },
  {
   "cell_type": "code",
   "execution_count": 6,
   "metadata": {},
   "outputs": [],
   "source": [
    "import math as m"
   ]
  },
  {
   "cell_type": "code",
   "execution_count": 7,
   "metadata": {},
   "outputs": [
    {
     "name": "stdout",
     "output_type": "stream",
     "text": [
      "5.0\n"
     ]
    }
   ],
   "source": [
    "print(m.sqrt(25))"
   ]
  },
  {
   "cell_type": "markdown",
   "metadata": {},
   "source": [
    "Choose meaningful and intuitive alias names that reflect the purpose of the library to enhance code understanding.\n",
    "\n",
    "Be mindful of potential naming conflicts; avoid overly generic alias names that may clash with common variable names."
   ]
  },
  {
   "cell_type": "markdown",
   "metadata": {},
   "source": [
    "## External libraries\n",
    "\n",
    "In addition to the standard library, Python users can access a vast array of additional libraries hosted on PyPI.\n",
    "These libraries are contributed by the Python community and cover specialized domains, allowing developers to extend Python's capabilities for specific tasks.\n",
    "\n",
    "PyPI libraries cater to a broad spectrum of needs, including web development, data science, machine learning, networking, and more.\n",
    "This extensibility is a key strength of the Python ecosystem.\n",
    "\n",
    "We will be heavily using the following libraries in this course:\n",
    "\n",
    "-   [NumPy](https://numpy.org/)\n",
    "-   [pandas](https://pandas.pydata.org/)\n",
    "-   [matplotlib](https://matplotlib.org/)\n",
    "-   [seaborn](https://seaborn.pydata.org/)\n",
    "-   [SciPy](https://scipy.org/)\n",
    "-   [sklearn](https://scikit-learn.org)\n"
   ]
  }
 ],
 "metadata": {
  "kernelspec": {
   "display_name": "biosc1540-2024s-dev",
   "language": "python",
   "name": "python3"
  },
  "language_info": {
   "codemirror_mode": {
    "name": "ipython",
    "version": 3
   },
   "file_extension": ".py",
   "mimetype": "text/x-python",
   "name": "python",
   "nbconvert_exporter": "python",
   "pygments_lexer": "ipython3",
   "version": "3.11.7"
  }
 },
 "nbformat": 4,
 "nbformat_minor": 2
}
