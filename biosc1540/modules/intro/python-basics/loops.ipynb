{
 "cells": [
  {
   "cell_type": "markdown",
   "metadata": {},
   "source": [
    "# Loops\n",
    "\n",
    "At its core, loops in programming are structures that enable the computer to execute a specific set of instructions repeatedly.\n",
    "Imagine you have a list of tasks, and you want the computer to perform each task one after the other.\n",
    "Instead of writing the same set of instructions multiple times, you can use loops to automate the process.\n",
    "They allow you to efficiently repeat a block of code until a certain condition is met, making it a fundamental concept in programming."
   ]
  },
  {
   "cell_type": "markdown",
   "metadata": {},
   "source": [
    "## range\n",
    "\n",
    "First, let's just write code that will print something five times.\n",
    "This is the perfect task for the `range` function in Python.\n",
    "`range` simply generates numbers from a starting point up to, but not including, the stopping point.\n",
    "You call it by providing `range(start, stop, step=1)`; thus, we should use `range(0, 5)`."
   ]
  },
  {
   "cell_type": "code",
   "execution_count": 1,
   "metadata": {},
   "outputs": [
    {
     "name": "stdout",
     "output_type": "stream",
     "text": [
      "[range(0, 5)]\n"
     ]
    }
   ],
   "source": [
    "print([range(0, 5)])"
   ]
  },
  {
   "cell_type": "markdown",
   "metadata": {},
   "source": [
    "Wait a second, that does not look right.\n",
    "I should have a list of numbers like this: `[0, 1, 2, 3, 4]`.\n",
    "This looks nothing like it.\n",
    "Normally we define a list with `[]`, but this does not seem to work.\n",
    "\n",
    "It turns out, `range` is a special type of function called a `generator`.\n",
    "These functions do not `return` one value, but they repeatedly `yield` one value at a time.\n",
    "For example, imagine you are building an Ikea table and have a friend to help you.\n",
    "Your friend is responsible for handing you the screws and you screw them in.\n",
    "If you asked your friend to `return` the screws, they would hand you all of the screws at once.\n",
    "If you asked your friend to `yield` the screws, they would hand you one screw at a time each time you asked.\n",
    "\n",
    "When we use `[range(0, 5)]`, Python just takes the `range(0, 5)` function and puts it into a list.\n",
    "It does not ask `range` to give it numbers.\n",
    "In actuality, we need to use `list()` instead.\n",
    "This function still creates a list, but it is designed to ask whatever is in between `()` to keep handing it values until it runs out.\n",
    "\n",
    "Also, we can leave out the `0` in our `range` call, as this is the default value."
   ]
  },
  {
   "cell_type": "code",
   "execution_count": 2,
   "metadata": {},
   "outputs": [
    {
     "name": "stdout",
     "output_type": "stream",
     "text": [
      "[0, 1, 2, 3, 4]\n"
     ]
    }
   ],
   "source": [
    "print(list(range(5)))"
   ]
  },
  {
   "cell_type": "markdown",
   "metadata": {},
   "source": [
    "That looks better!\n",
    "Now, let's just have Python print each number.\n",
    "We do this with a `for` loop."
   ]
  },
  {
   "cell_type": "markdown",
   "metadata": {},
   "source": [
    "## for\n",
    "\n",
    "A fundamental concept in programming, the `for` loop allows us to efficiently execute a set of commands a certain number of times.\n",
    "Let's see how this works and then I'll explain it."
   ]
  },
  {
   "cell_type": "code",
   "execution_count": 3,
   "metadata": {},
   "outputs": [
    {
     "name": "stdout",
     "output_type": "stream",
     "text": [
      "0\n",
      "1\n",
      "2\n",
      "3\n",
      "4\n",
      "Done!\n"
     ]
    }
   ],
   "source": [
    "for i in range(5):\n",
    "    print(i)\n",
    "print(\"Done!\")"
   ]
  },
  {
   "cell_type": "markdown",
   "metadata": {},
   "source": [
    "Okay, so we have a few new things here.\n",
    "First, we have our standard `:` and then indent syntax; which makes sense because we need to tell Python what to repeat.\n",
    "We have seen the `range(5)` before, but `for i in` looks different.\n",
    "What happens if I just take out `i in`.\n",
    "\n",
    "```python\n",
    "for range(5)\n",
    "    print(\n",
    "```\n",
    "\n",
    "Wait, what do I put inside the print statement?\n",
    "I need a variable to put inside `print()`, and that is exactly what the `i in` part does.\n",
    "`for` will ask `range(5)` for a value, and then store it `in` `i`.\n",
    "I can then use `i` inside of my `for` loop.\n",
    "However, `for range(5) in i` does not read well, so we change its order to `for i in range(5)` to make it flow better."
   ]
  },
  {
   "cell_type": "markdown",
   "metadata": {},
   "source": [
    "Okay, do I have to use a generator in a `for` loop?\n",
    "Nope!\n",
    "You can use anything that `for` can ask for one value at a time, like in a list."
   ]
  },
  {
   "cell_type": "code",
   "execution_count": 4,
   "metadata": {},
   "outputs": [
    {
     "name": "stdout",
     "output_type": "stream",
     "text": [
      "red\n",
      "orange\n",
      "yellow\n",
      "green\n",
      "blue\n",
      "indigo\n",
      "violet\n"
     ]
    }
   ],
   "source": [
    "colors = [\"red\", \"orange\", \"yellow\", \"green\", \"blue\", \"indigo\", \"violet\"]\n",
    "\n",
    "for color in colors:\n",
    "    print(color)"
   ]
  },
  {
   "cell_type": "markdown",
   "metadata": {},
   "source": [
    "Remember, the `for` loop is asking the list for a value, storing it in a variable, and repeat.\n",
    "I do not necessarily have to name the variable `color`."
   ]
  },
  {
   "cell_type": "code",
   "execution_count": 5,
   "metadata": {},
   "outputs": [
    {
     "name": "stdout",
     "output_type": "stream",
     "text": [
      "red\n",
      "orange\n",
      "yellow\n",
      "green\n",
      "blue\n",
      "indigo\n",
      "violet\n"
     ]
    }
   ],
   "source": [
    "for onomatopoeia in colors:\n",
    "    print(onomatopoeia)"
   ]
  },
  {
   "cell_type": "markdown",
   "metadata": {},
   "source": [
    "I also do not technically use the `for` loop variable as well."
   ]
  },
  {
   "cell_type": "code",
   "execution_count": 6,
   "metadata": {},
   "outputs": [
    {
     "name": "stdout",
     "output_type": "stream",
     "text": [
      "Hellllloooooooo\n",
      "Hellllloooooooo\n",
      "Hellllloooooooo\n",
      "Hellllloooooooo\n",
      "Hellllloooooooo\n",
      "Hellllloooooooo\n",
      "Hellllloooooooo\n"
     ]
    }
   ],
   "source": [
    "for color in colors:\n",
    "    print(\"Hellllloooooooo\")"
   ]
  },
  {
   "cell_type": "markdown",
   "metadata": {},
   "source": [
    "Another common usage of `for` loop is to builds lists.\n",
    "For example, suppose you have a bunch of temperatures in Celsius that you want to convert to Fahrenheit."
   ]
  },
  {
   "cell_type": "code",
   "execution_count": 7,
   "metadata": {},
   "outputs": [],
   "source": [
    "celsius_temps = [0, 10, 20, 30, 40]"
   ]
  },
  {
   "cell_type": "markdown",
   "metadata": {},
   "source": [
    "We can use the formula to do just that.\n",
    "\n",
    "$$\n",
    "F = \\frac{9}{5} C + 32\n",
    "$$"
   ]
  },
  {
   "cell_type": "code",
   "execution_count": 8,
   "metadata": {},
   "outputs": [],
   "source": [
    "def celsius_to_fahrenheit(temp):\n",
    "    return (9 / 5) * temp + 32"
   ]
  },
  {
   "cell_type": "markdown",
   "metadata": {},
   "source": [
    "One valid&mdash;but tedious&mdash;way to do it is this."
   ]
  },
  {
   "cell_type": "code",
   "execution_count": 9,
   "metadata": {},
   "outputs": [
    {
     "name": "stdout",
     "output_type": "stream",
     "text": [
      "[32.0, 50.0, 68.0, 86.0, 104.0]\n"
     ]
    }
   ],
   "source": [
    "fahrenheit_temps = []\n",
    "fahrenheit_temps.append(celsius_to_fahrenheit(celsius_temps[0]))\n",
    "fahrenheit_temps.append(celsius_to_fahrenheit(celsius_temps[1]))\n",
    "fahrenheit_temps.append(celsius_to_fahrenheit(celsius_temps[2]))\n",
    "fahrenheit_temps.append(celsius_to_fahrenheit(celsius_temps[3]))\n",
    "fahrenheit_temps.append(celsius_to_fahrenheit(celsius_temps[4]))\n",
    "print(fahrenheit_temps)"
   ]
  },
  {
   "cell_type": "markdown",
   "metadata": {},
   "source": [
    "That's annoying.\n",
    "Instead, I can use a `for` loop!"
   ]
  },
  {
   "cell_type": "code",
   "execution_count": 10,
   "metadata": {},
   "outputs": [
    {
     "name": "stdout",
     "output_type": "stream",
     "text": [
      "[32.0, 50.0, 68.0, 86.0, 104.0]\n"
     ]
    }
   ],
   "source": [
    "fahrenheit_temps = []\n",
    "for temp in celsius_temps:\n",
    "    fahrenheit_temps.append(celsius_to_fahrenheit(temp))\n",
    "\n",
    "print(fahrenheit_temps)"
   ]
  },
  {
   "cell_type": "markdown",
   "metadata": {},
   "source": [
    "This framework is an extremely useful to to process or convert data."
   ]
  }
 ],
 "metadata": {
  "kernelspec": {
   "display_name": "biosc1540-2024s-dev",
   "language": "python",
   "name": "python3"
  },
  "language_info": {
   "codemirror_mode": {
    "name": "ipython",
    "version": 3
   },
   "file_extension": ".py",
   "mimetype": "text/x-python",
   "name": "python",
   "nbconvert_exporter": "python",
   "pygments_lexer": "ipython3",
   "version": "3.11.7"
  }
 },
 "nbformat": 4,
 "nbformat_minor": 2
}
