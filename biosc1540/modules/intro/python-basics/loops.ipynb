{
 "cells": [
  {
   "cell_type": "markdown",
   "metadata": {},
   "source": [
    "# Loops\n",
    "\n",
    "<div class=\"admonition danger\">\n",
    "    <p class=\"admonition-title\">DRAFT</p>\n",
    "    <p style=\"padding-top: 1em\">\n",
    "        This page is a work in progress and is subject to change at any moment.\n",
    "    </p>\n",
    "</div>\n",
    "\n",
    "Loops are fundamental constructs in programming that enable the execution of a set of statements repeatedly.\n",
    "Loops play a crucial role in automating repetitive tasks and efficiently processing collections of data.\n",
    "In this educational guide, we'll delve into the general concept of loops, explore their syntax, and highlight how they contribute to writing concise, readable, and effective code in various programming languages.\n",
    "\n",
    "## for\n",
    "\n",
    "A fundamental concept in programming, the `for` loop allows us to efficiently execute a set of commands for each element in a collection.\n",
    "This powerful control structure is particularly useful when dealing with lists, character strings, or any other iterable.\n",
    "\n",
    "At its core, a for loop is a mechanism that instructs Python to perform a specific set of operations for each value in a given collection.\n",
    "This makes it much easier to work with data, especially when you find yourself dealing with a list of items or a string of characters.\n",
    "\n",
    "Let's consider a scenario where you have a list of temperatures in Celsius, and you want to convert each temperature to Fahrenheit using the formula:\n",
    "\n",
    "$$\n",
    "F = \\frac{9}{5} C + 32\n",
    "$$\n",
    "\n",
    "First, we define a function to do the math for us."
   ]
  },
  {
   "cell_type": "code",
   "execution_count": 1,
   "metadata": {},
   "outputs": [],
   "source": [
    "def celsius_to_fahrenheit(temp):\n",
    "    return (9 / 5) * temp + 32"
   ]
  },
  {
   "cell_type": "code",
   "execution_count": 2,
   "metadata": {},
   "outputs": [
    {
     "name": "stdout",
     "output_type": "stream",
     "text": [
      "32.0\n"
     ]
    }
   ],
   "source": [
    "print(celsius_to_fahrenheit(0))"
   ]
  },
  {
   "cell_type": "code",
   "execution_count": 3,
   "metadata": {},
   "outputs": [
    {
     "name": "stdout",
     "output_type": "stream",
     "text": [
      "212.0\n"
     ]
    }
   ],
   "source": [
    "print(celsius_to_fahrenheit(100))"
   ]
  },
  {
   "cell_type": "markdown",
   "metadata": {},
   "source": [
    "Suppose we have a list of temperatures in Celsius."
   ]
  },
  {
   "cell_type": "code",
   "execution_count": 4,
   "metadata": {},
   "outputs": [
    {
     "name": "stdout",
     "output_type": "stream",
     "text": [
      "[32.0, 50.0, 68.0, 86.0, 104.0]\n"
     ]
    }
   ],
   "source": [
    "celsius_temperatures = [0, 10, 20, 30, 40]\n",
    "\n",
    "fahrenheit_temperatures = []\n",
    "\n",
    "for celsius in celsius_temperatures:\n",
    "    fahrenheit = celsius_to_fahrenheit(celsius)\n",
    "    fahrenheit_temperatures.append(fahrenheit)\n",
    "\n",
    "print(fahrenheit_temperatures)"
   ]
  },
  {
   "cell_type": "markdown",
   "metadata": {},
   "source": [
    "## range\n",
    "\n",
    "The `range` function generates a sequence of numbers, but unlike a list, it does so on demand.\n",
    "This on-demand feature optimizes the efficiency of looping, especially when dealing with extensive ranges.\n",
    "When you use `range(N)`, it produces the numbers from `0` to `N-1`.\n",
    "These values align precisely with the legal indices of a list or character string of length `N`."
   ]
  },
  {
   "cell_type": "code",
   "execution_count": 5,
   "metadata": {},
   "outputs": [
    {
     "name": "stdout",
     "output_type": "stream",
     "text": [
      "0°C is equal to 32.00°F\n",
      "10°C is equal to 50.00°F\n",
      "20°C is equal to 68.00°F\n",
      "30°C is equal to 86.00°F\n",
      "40°C is equal to 104.00°F\n"
     ]
    }
   ],
   "source": [
    "for i in range(len(celsius_temperatures)):\n",
    "    print(f\"{celsius_temperatures[i]}°C is equal to {fahrenheit_temperatures[i]:.2f}°F\")"
   ]
  },
  {
   "cell_type": "markdown",
   "metadata": {},
   "source": [
    "The efficiency of `range` shines when dealing with large datasets.\n",
    "By generating numbers on demand, it conserves memory and computational resources, making it a preferred choice for various applications."
   ]
  }
 ],
 "metadata": {
  "kernelspec": {
   "display_name": "biosc1540-2024s-dev",
   "language": "python",
   "name": "python3"
  },
  "language_info": {
   "codemirror_mode": {
    "name": "ipython",
    "version": 3
   },
   "file_extension": ".py",
   "mimetype": "text/x-python",
   "name": "python",
   "nbconvert_exporter": "python",
   "pygments_lexer": "ipython3",
   "version": "3.11.7"
  }
 },
 "nbformat": 4,
 "nbformat_minor": 2
}
