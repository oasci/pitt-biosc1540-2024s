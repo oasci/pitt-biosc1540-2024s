{
 "cells": [
  {
   "cell_type": "markdown",
   "metadata": {},
   "source": [
    "# Functions\n",
    "\n",
    "<div class=\"admonition danger\">\n",
    "    <p class=\"admonition-title\">DRAFT</p>\n",
    "    <p style=\"padding-top: 1em\">\n",
    "        This page is a work in progress and is subject to change at any moment.\n",
    "    </p>\n",
    "</div>\n",
    "\n",
    "Functions are reusable pieces of programs.\n",
    "They allow you to give a label to a group of Python code, allowing you to run that block by using its name anywhere.\n",
    "This can be a challenging concept in programming, so let's get acquainted using an example: let's open up a cookie shop.\n",
    "Specifically, chocolate chip cookies 🍪.\n",
    "\n",
    "But first, we need a [recipe](https://joyfoodsunshine.com/the-most-amazing-chocolate-chip-cookies/).\n",
    "The ingredients are:\n",
    "\n",
    "-   1 cup salted butter softened\n",
    "-   2 cups granulated sugar\n",
    "-   2 teaspoons pure vanilla extract\n",
    "-   2 large eggs\n",
    "-   3 cups all-purpose flour\n",
    "-   1 teaspoon baking soda\n",
    "-   1/2 teaspoon baking powder\n",
    "-   1 teaspoon sea salt\n",
    "-   2 cups chocolate chips (14 oz)\n",
    "\n",
    "with the following steps:\n",
    "\n",
    "1.  Preheat oven to 375 degrees F.\n",
    "    Line three baking sheets with parchment paper and set aside.\n",
    "2.  In a medium bowl mix flour, baking soda, baking powder and salt.\n",
    "    Set aside.\n",
    "3.  Cream together butter and sugars until combined.\n",
    "4.  Beat in eggs and vanilla until light (about 1 minute).\n",
    "5.  Mix in the dry ingredients until combined.\n",
    "6.  Add chocolate chips and mix well.\n",
    "7.  Roll 2-3 Tablespoons (depending on how large you like your cookies) of dough at a time into balls and place them evenly spaced on your prepared cookie sheets.\n",
    "8.  Bake in preheated oven for approximately 8-10 minutes. Take them out when they are just barely starting to turn brown.\n",
    "9.  Let them sit on the baking pan for 2 minutes before removing to cooling rack.\n"
   ]
  },
  {
   "cell_type": "markdown",
   "metadata": {},
   "source": [
    "We are not going to your typical cookie shop, we are going to use robots 🦾 and we bought this building to put them in.\n",
    "\n",
    "![](https://gitlab.com/oasci/courses/pitt/biosc1540-2024s/-/raw/main/biosc1540/img/functions/blank-building.svg)\n",
    "\n",
    "Now, we have have to create a room for the robot to make our cookies and then give it instructions.\n",
    "For example, we can give the robot these exact set of instructions to perform whenever we give it the ingredients.\n",
    "We can call these set of instructions `make_cookies`.\n",
    "\n",
    "![](https://gitlab.com/oasci/courses/pitt/biosc1540-2024s/-/raw/main/biosc1540/img/functions/robot-window.svg)\n",
    "\n",
    "Now we are ready to give the robot instructions, we do this with the `def` keyword in Python.\n",
    "This keyword tells Python we are ready to start giving it instructions and that we are going to call it `make_cookies`.\n",
    "\n",
    "```python\n",
    "def make_cookies():\n",
    "```\n",
    "\n",
    "Do not worry about the `()` for now, but do know that we use the `:` at the end to tell Python we are ready to start our instructions.\n",
    "\n",
    "```python\n",
    "def make_cookies():\n",
    "    turn_on_oven()\n",
    "    prepare_cookie_sheet()\n",
    "    mix_dry_ingredients()\n",
    "    whip_wet_ingredients()\n",
    "    mix_everything()\n",
    "    add_chocolate()\n",
    "    place_dough_balls()\n",
    "    bake_cookies()\n",
    "    cool_cookies()\n",
    "```\n",
    "\n",
    "You may be thinking, \"Why is every line indented four spaces?\"\n",
    "Well, in Python, you need to indent lines that are within the function to communicate when it ends.\n",
    "For example, if I defined `make_cookies` and then separately welcome a customer I need to unindent the `print(\"Welcome!\")` line like so.\n",
    "\n",
    "```python\n",
    "def make_cookies():\n",
    "    turn_on_oven()\n",
    "    prepare_cookie_sheet()\n",
    "    mix_dry_ingredients()\n",
    "    whip_wet_ingredients()\n",
    "    mix_everything()\n",
    "    add_chocolate()\n",
    "    place_dough_balls()\n",
    "    bake_cookies()\n",
    "    cool_cookies()\n",
    "print(\"Welcome!\")\n",
    "```\n",
    "\n",
    "This means that `print(\"Welcome!\")` is outside of the functions **scope** (which we will talk more about later) because I want the greet the customer, not the robot.\n",
    "If I had `print(\"Welcome\")` indented, then this would be part of the robot's instructions and it would be talking in an empty room.\n",
    "That's just too weird."
   ]
  },
  {
   "cell_type": "markdown",
   "metadata": {},
   "source": [
    "Great!\n",
    "We have a set of instructions that a robot can use to make cookies; however, we have not given the robot any ingredients.\n",
    "We can not just give the robot ingredients, we have to tell it beforehand what to expect&mdash;Python is the same.\n",
    "To tell Python what data it will need to use inside the function, we use placeholders called **parameters** that are placed inside the `()`.\n",
    "Note that we also specify which ingredients are used where.\n",
    "This is not really important for understanding, I'm just trying to be somewhat realistic.\n",
    "\n",
    "```python\n",
    "def make_cookies(butter, sugar, vanilla_extract, eggs, flour, baking_soda, baking_powder, salt, chocolate_chips):\n",
    "    turn_on_oven()\n",
    "    cookie_sheet = prepare_cookie_sheet()\n",
    "    dry_mixed = mix_dry_ingredients(flour, baking_soda, baking_powder, salt)\n",
    "    wet_mixed = whip_wet_ingredients(butter, sugar, eggs, vanilla_extract)\n",
    "    mix = mix_everything(dry_mixed, wet_mixed)\n",
    "    mix = add_chocolate(mix, chocolate_chips)\n",
    "    cookie_sheet = place_dough_balls(cookie_sheet, mix)\n",
    "    cookies = bake_cookies(cookie_sheet)\n",
    "    cookies = cool_cookies(cookies)\n",
    "```\n",
    "\n",
    "Holy cow!\n",
    "That is a long list of ingredients that makes it hard to see everything without scrolling.\n",
    "Python gives us a different way to type the parameters like so.\n",
    "\n",
    "```python\n",
    "def make_cookies(\n",
    "    butter, sugar, vanilla_extract, eggs,\n",
    "    flour, baking_soda, baking_powder,\n",
    "    salt, chocolate_chips\n",
    "):\n",
    "    turn_on_oven()\n",
    "    cookie_sheet = prepare_cookie_sheet()\n",
    "    dry_mixed = mix_dry_ingredients(flour, baking_soda, baking_powder, salt)\n",
    "    wet_mixed = whip_wet_ingredients(butter, sugar, eggs, vanilla_extract)\n",
    "    mix = mix_everything(dry_mixed, wet_mixed)\n",
    "    mix = add_chocolate(mix, chocolate_chips)\n",
    "    cookie_sheet = place_dough_balls(cookie_sheet, mix)\n",
    "    cookies = bake_cookies(cookie_sheet)\n",
    "    cookies = cool_cookies(cookies)\n",
    "```\n",
    "\n",
    "I know the `):` on the left looks weird, but this is because we have not told Python we are done defining our function with `:` yet.\n",
    "But hold up, we have the parameters indented, is that allowed?\n",
    "Yes it is.\n",
    "When you are within a `( )`, Python treats that all within the original scope; meaning you can choose to indent or not.\n",
    "The following Python code is valid as well, but it looks weird to Python programmers.\n",
    "\n",
    "```python\n",
    "def make_cookies(\n",
    "butter, sugar, vanilla_extract, eggs,\n",
    "flour, baking_soda, baking_powder,\n",
    "salt, chocolate_chips\n",
    "):\n",
    "    turn_on_oven()\n",
    "    cookie_sheet = prepare_cookie_sheet()\n",
    "    dry_mixed = mix_dry_ingredients(flour, baking_soda, baking_powder, salt)\n",
    "    wet_mixed = whip_wet_ingredients(butter, sugar, eggs, vanilla_extract)\n",
    "    mix = mix_everything(dry_mixed, wet_mixed)\n",
    "    mix = add_chocolate(mix, chocolate_chips)\n",
    "    cookie_sheet = place_dough_balls(cookie_sheet, mix)\n",
    "    cookies = bake_cookies(cookie_sheet)\n",
    "    cookies = cool_cookies(cookies)\n",
    "```\n",
    "\n",
    "At this point, it is like we put little transfer boxes in the wall of our bakery with numbers to know where to put which ingredient.\n",
    "\n",
    "![](https://gitlab.com/oasci/courses/pitt/biosc1540-2024s/-/raw/main/biosc1540/img/functions/robot-ingredients.svg)\n",
    "\n",
    "Let's try it out.\n",
    "To perform a function, we call that **calling** or running the function.\n",
    "We basically repeat the function definition without the `def` or `:`.\n",
    "\n",
    "```python\n",
    "make_cookies(\n",
    "    butter_1_cup, sugar_2_cups, vanilla_extract_2_tsp, eggs_2,\n",
    "    flour_3_cups, baking_soda_1_tsp, baking_powder_half_tsp,\n",
    "    salt_1_tsp, chocolate_chips_2_cups\n",
    ")\n",
    "```\n",
    "\n",
    "Hold up, why do I have different variable names here?\n",
    "In my function, I said the parameters are `butter`, `sugar`, etc. but I have `butter_1_cup`, `sugar_2_cups`, and so on.\n",
    "Let's took a look at what the robot sees.\n",
    "\n",
    "![](https://gitlab.com/oasci/courses/pitt/biosc1540-2024s/-/raw/main/biosc1540/img/functions/robot-ingredients-local.svg)\n",
    "\n",
    "\n",
    "That's interesting, the robot does not see `butter_1_cup`, but `butter`, just like in the function definition.\n",
    "This is actually by design, as the function parameters are just placeholders for me to put my data and then define a label I can use inside the function.\n",
    "So it does not matter what the variable name is when I call the function; I could use `Pitt` as my variable name as long as it contained 1 cup of butter.\n",
    "What is important is the order I put the variables in.\n",
    "It has to go in the same order as I defined them in my function.\n",
    "If I accidentally call the function and put first `sugar_2_cups` and then `butter_1_cup` the robot cannot tell the difference.\n",
    "All it knows is that whatever comes in the upper right transfer box is called `butter` and it will try to use it like `butter`.\n",
    "Again, computers are dumb.\n",
    "\n",
    "Okay, so let's go back to calling the `make_cookies` function.\n",
    "\n",
    "![](https://gitlab.com/oasci/courses/pitt/biosc1540-2024s/-/raw/main/biosc1540/img/functions/robot-ingredients-no-cookies.svg)\n",
    "\n",
    "IT STILL HAS MY COOKIES!\n",
    "The robot just took the ingredients, made the cookies, and now is taunting me.\n",
    "I need those cookies!\n",
    "\n",
    "Oh, we forgot to tell the robot to give us the cookies back.\n",
    "In Python, we call this a `return` statement.\n",
    "This tells Python that, once it finishes it's instructions inside the function (or in the room this case) that it needs to give us something back.\n",
    "\n",
    "```python\n",
    "def make_cookies(\n",
    "    butter, sugar, vanilla_extract, eggs,\n",
    "    flour, baking_soda, baking_powder,\n",
    "    salt, chocolate_chips\n",
    "):\n",
    "    turn_on_oven()\n",
    "    cookie_sheet = prepare_cookie_sheet()\n",
    "    dry_mixed = mix_dry_ingredients(flour, baking_soda, baking_powder, salt)\n",
    "    wet_mixed = whip_wet_ingredients(butter, sugar, eggs, vanilla_extract)\n",
    "    mix = mix_everything(dry_mixed, wet_mixed)\n",
    "    mix = add_chocolate(mix, chocolate_chips)\n",
    "    cookie_sheet = place_dough_balls(cookie_sheet, mix)\n",
    "    cookies = bake_cookies(cookie_sheet)\n",
    "    cookies = cool_cookies(cookies)\n",
    "\n",
    "    return cookies\n",
    "```"
   ]
  },
  {
   "cell_type": "markdown",
   "metadata": {},
   "source": [
    "TODO:"
   ]
  },
  {
   "cell_type": "markdown",
   "metadata": {},
   "source": [
    "## Function parameters\n",
    "\n",
    "A function can take parameters, which are values you supply to the function so that the function\n",
    "can do something utilizing those values.\n",
    "These parameters are just like variables except that the values of these variables are defined when we call the function and are already assigned values when the function runs.\n",
    "\n",
    "Parameters are specified within the pair of parentheses in the function definition, separated by commas.\n",
    "When we call the function, we supply the values in the same way.\n",
    "Note the terminology used - the names given in the function definition are called *parameters* whereas the values you supply in the function call are called *arguments*."
   ]
  },
  {
   "cell_type": "code",
   "execution_count": 3,
   "metadata": {},
   "outputs": [
    {
     "name": "stdout",
     "output_type": "stream",
     "text": [
      "Hello, Alice!\n",
      "Hello, Alice!\n"
     ]
    }
   ],
   "source": [
    "def greet(name):\n",
    "    print(\"Hello,\", name + \"!\")\n",
    "\n",
    "\n",
    "# directly pass literal values\n",
    "greet(\"Alice\")\n",
    "\n",
    "customer_name = \"Alice\"\n",
    "\n",
    "# pass variables as arguments\n",
    "greet(customer_name)"
   ]
  },
  {
   "cell_type": "markdown",
   "metadata": {},
   "source": [
    "The above Python code defines a function called `greet` that takes a single parameter named `name`.\n",
    "Inside the function, a greeting message is printed, incorporating the provided `name`.\n",
    "\n",
    "The code demonstrates two ways to call a function.\n",
    "\n",
    "1.  Directly calls greet with the literal value `\"Alice\"` as an argument, resulting in the output `\"Hello, Alice!\"`.\n",
    "2.  It assigns the string `\"Alice\"` to a variable named customer_name and calls the greet function with this variable as an argument.\n",
    "    The function processes the value stored in customer_name, leading to the same greeting message, `\"Hello, Alice!\"`.\n",
    "\n",
    "This illustrates how functions can be defined to accept parameters, allowing them to be called with different values, whether literals or variables, making the code more versatile and reusable."
   ]
  },
  {
   "cell_type": "markdown",
   "metadata": {},
   "source": [
    "## Local variables\n",
    "\n",
    "When you declare variables inside a function definition, they are not related in any way to other variables with the same names used outside the function&mdash;variable names are local to the function.\n",
    "This is called the scope of the variable.\n",
    "All variables have the scope of the block they are declared in starting from the point of definition of the name."
   ]
  },
  {
   "cell_type": "code",
   "execution_count": 4,
   "metadata": {},
   "outputs": [
    {
     "name": "stdout",
     "output_type": "stream",
     "text": [
      "x is 50\n",
      "Changed local x to 2\n",
      "x is still 50\n"
     ]
    }
   ],
   "source": [
    "x = 50\n",
    "\n",
    "\n",
    "def func(x):\n",
    "    print(\"x is\", x)\n",
    "    x = 2\n",
    "    print(\"Changed local x to\", x)\n",
    "\n",
    "\n",
    "func(x)\n",
    "print(\"x is still\", x)"
   ]
  },
  {
   "cell_type": "markdown",
   "metadata": {},
   "source": [
    "The parameter `x` in the function definition acts as a local variable within the scope of the function.\n",
    "It is a variable that is only accessible and meaningful within the function.\n",
    "In the function body, when the code assigns a new value (`x = 2`), it creates a new local variable `x` that only exists within the function.\n",
    "This local variable shadows the parameter `x`.\n",
    "\n",
    "Outside the function, there could be a variable with the same name `x`, but it is a different variable and has a different scope (it is not the same as the local `x` inside the function).\n",
    "If there is a global variable named `x` in the broader scope of the program, it is not affected by the local variable `x` within the function.\n",
    "\n",
    "### Scope chain\n",
    "\n",
    "The resolution of variable references follows a scope chain.\n",
    "This is a sequential search through different levels of scope to find the value associated with a variable.\n",
    "\n",
    "-   When a variable is referenced, Python first looks in the local scope, which is the innermost context, such as within a function.\n",
    "    If the variable is found locally, Python uses the value from the local scope.\n",
    "-   If not found, Python extends the search to enclosing scopes, including nested functions, checking each level hierarchically.\n",
    "-   If the variable is still not found, Python looks in the global scope, representing the entire script or module.\n",
    "\n",
    "The scope chain ensures a systematic search for variable values, preventing unintended conflicts between local and global variables and allowing for proper variable resolution based on the hierarchical structure of the code.\n",
    "\n",
    "### Lifetime\n",
    "\n",
    "The local variable (`x` inside the function) only exists for the duration of the function call. These variables are created when the function is called and cease to exist once the function's execution is completed.\n",
    "This temporary existence helps prevent variable name conflicts and ensures that each function call has its own isolated space for variables.\n",
    "Now, let's delve into the breakdown of what happens in memory during the different stages of the function call.\n",
    "\n",
    "**Before the function call**<br>\n",
    "At this point, a global variable `x` already exists with its own value.\n",
    "This variable is separate from any local variable that may be created within a function.\n",
    "\n",
    "**During the function call**<br>\n",
    "When the function is called, a parameter `x` is created as a local variable within the function's scope.\n",
    "It is initialized with the value of the argument passed during the function call.\n",
    "Subsequently, within the function, the local variable `x` is reassigned a new value.\n",
    "This reassignment only affects the local variable and does not impact the global variable with the same name.\n",
    "\n",
    "**After the function call**<br>\n",
    "Once the function call is complete, the local variable `x` that existed within the function is destroyed. The memory allocated to this local variable is released.\n",
    "Importantly, the destruction of the local variable does not affect the global variable `x`, which maintains its original value and remains unaffected by the changes made within the function."
   ]
  },
  {
   "cell_type": "markdown",
   "metadata": {},
   "source": [
    "## Global variables in functions\n",
    "\n",
    "If you want to assign a value to a name defined at the top level of the program (i.e. not inside any kind of scope such as functions or classes), then you have to tell Python that the name is not local, but it is global.\n",
    "We do this using the `global` statement.\n",
    "It is impossible to assign a value to a variable defined outside a function without the `global` statement.\n",
    "\n",
    "You can use the values of such variables defined outside the function (assuming there is no variable with the same name within the function). However, this is not encouraged and should be avoided since it becomes unclear to the reader of the program as to where that variable's definition is.\n",
    "Using the `global` statement makes it amply clear that the variable is defined in an outermost block."
   ]
  },
  {
   "cell_type": "code",
   "execution_count": 5,
   "metadata": {},
   "outputs": [
    {
     "name": "stdout",
     "output_type": "stream",
     "text": [
      "x is 50\n",
      "Changed global x to 2\n",
      "Value of x is 2\n"
     ]
    }
   ],
   "source": [
    "x = 50\n",
    "\n",
    "\n",
    "def func_global():\n",
    "    global x\n",
    "\n",
    "    print(\"x is\", x)\n",
    "    x = 2\n",
    "    print(\"Changed global x to\", x)\n",
    "\n",
    "\n",
    "func_global()\n",
    "print(\"Value of x is\", x)"
   ]
  },
  {
   "cell_type": "markdown",
   "metadata": {},
   "source": [
    "The function `func_global` has its own local scope.\n",
    "When the function references `x` without the global statement, it would normally create a new local variable named `x` within the function, separate from the global variable.\n",
    "\n",
    "By using `global x` inside the function, Python is explicitly instructed to look for the variable `x` in the global scope.\n",
    "This means that any reference to `x` within the function refers to the global variable `x` defined outside the function.\n",
    "\n",
    "The assignment `x = 2` inside the function modifies the global variable `x` rather than creating a new local variable.\n",
    "This is because of the global statement, which directs Python to look for `x` in the global scope."
   ]
  },
  {
   "cell_type": "markdown",
   "metadata": {},
   "source": [
    "## Default arguments\n",
    "\n",
    "For some functions, you may want to make some parameters optional and use default values in case the user does not want to provide values for them.\n",
    "This is done with the help of default argument values.\n",
    "You can specify default argument values for parameters by appending to the parameter name in the function definition the assignment operator (`=`) followed by the default value.\n",
    "\n",
    "Note that the default argument value should be a constant.\n",
    "More precisely, the default argument value should be immutable."
   ]
  },
  {
   "cell_type": "code",
   "execution_count": 6,
   "metadata": {},
   "outputs": [
    {
     "name": "stdout",
     "output_type": "stream",
     "text": [
      "Hello\n",
      "WorldWorldWorldWorldWorld\n"
     ]
    }
   ],
   "source": [
    "def say(message, times=1):\n",
    "    print(message * times)\n",
    "\n",
    "\n",
    "say(\"Hello\")\n",
    "say(\"World\", 5)"
   ]
  },
  {
   "cell_type": "markdown",
   "metadata": {},
   "source": [
    "The `say` function has a default parameter `times` set to `1`.\n",
    "When the function is called with only one argument (`'Hello'`), it uses the default value for times, printing the message once.\n",
    "When called with two arguments (`'World'` and `5`), the explicitly provided value for times overrides the default, and the message is printed multiple times accordingly.\n",
    "\n",
    "Default parameters offer flexibility by allowing functions to be called with or without certain arguments, providing reasonable default values when necessary.\n",
    "\n",
    "<div class=\"admonition warning\">\n",
    "    <p class=\"admonition-title\">Caution</p>\n",
    "    <p style=\"padding-top: 1em\">\n",
    "        Only those parameters which are at the end of the parameter list can be given default argument values.\n",
    "        You cannot have a parameter with a default argument value preceding a parameter without a default argument value in the function's parameter list.\n",
    "    </p>\n",
    "    <p>\n",
    "        This is because the values are assigned to the parameters by position.\n",
    "        For example, <code>def func(a, b=5)</code> is valid, but <code>def func(a=5, b)</code> is not valid\n",
    "    </p>\n",
    "</div>"
   ]
  },
  {
   "cell_type": "markdown",
   "metadata": {},
   "source": [
    "## Keyword arguments\n",
    "\n",
    "When defining and calling functions in Python, we have been using positional arguments thus far&mdash;arguments that are passed to a function in a specified order.\n",
    "However, Python also gives us the ability to pass arguments by keyword instead.\n",
    "This can be highly useful for functions that have numerous parameters, when you want to specify arguments out of order, or when you want to specify some parameters while letting others take their default values.\n",
    "\n",
    "Here is how it works.\n",
    "\n",
    "First we define a function called func that takes three parameters: `a`, `b`, and `c`.\n",
    "Inside the function we simply print out the values of the parameters."
   ]
  },
  {
   "cell_type": "code",
   "execution_count": 7,
   "metadata": {},
   "outputs": [],
   "source": [
    "def func_kwargs(a, b=5, c=10):\n",
    "    print(\"a is\", a, \"and b is\", b, \"and c is\", c)"
   ]
  },
  {
   "cell_type": "markdown",
   "metadata": {},
   "source": [
    "Note that we have set default values for parameters `b` and `c`, but not for `a`. This means:\n",
    "\n",
    "-   `a` is a required parameter, it does NOT have a default value\n",
    "-   `b` and `c` are optional parameters, they have the default values `5` and `10` respectively\n",
    "\n",
    "Let's call our function.\n",
    "Below, we pass `3` to parameter `a`, and override the default value of `b` by passing `7`.\n",
    "Since we didn't pass anything for `c`, it will take its default value `10`."
   ]
  },
  {
   "cell_type": "code",
   "execution_count": 8,
   "metadata": {},
   "outputs": [
    {
     "name": "stdout",
     "output_type": "stream",
     "text": [
      "a is 3 and b is 7 and c is 10\n"
     ]
    }
   ],
   "source": [
    "func_kwargs(3, 7)"
   ]
  },
  {
   "cell_type": "markdown",
   "metadata": {},
   "source": [
    "In this next call, we use a keyword argument.\n",
    "Here 25 gets assigned to `a`.\n",
    "We don't pass anything for `b` so it uses its default of `5`.\n",
    "Then we pass `24` to `c` by specifying it as a keyword argument."
   ]
  },
  {
   "cell_type": "code",
   "execution_count": 9,
   "metadata": {},
   "outputs": [
    {
     "name": "stdout",
     "output_type": "stream",
     "text": [
      "a is 25 and b is 5 and c is 24\n"
     ]
    }
   ],
   "source": [
    "func_kwargs(25, c=24)"
   ]
  },
  {
   "cell_type": "markdown",
   "metadata": {},
   "source": [
    "Finally, we can even pass arguments out of order using keywords.\n",
    "`c` is set to `50`, and `a` is set to `100`.\n",
    "`b` uses its default since it wasn't passed."
   ]
  },
  {
   "cell_type": "code",
   "execution_count": 10,
   "metadata": {},
   "outputs": [
    {
     "name": "stdout",
     "output_type": "stream",
     "text": [
      "a is 100 and b is 5 and c is 50\n"
     ]
    }
   ],
   "source": [
    "func_kwargs(c=50, a=100)"
   ]
  },
  {
   "cell_type": "markdown",
   "metadata": {},
   "source": [
    "Benefits of keyword arguments:\n",
    "\n",
    "-   **Order Flexibility:** Because we're passing arguments by name rather than position, we can specify them in any order we want in the function call.\n",
    "-   **Clarity:** Giving arguments by name makes our code more readable, especially with functions that have many parameters.\n",
    "    We can see at the call site exactly which values we're passing to the function.\n",
    "-   **Default Values:** By defining default values for parameters, we can omit those arguments when calling the function and the defaults will kick in.\n",
    "    This allows for customizable function calls.\n",
    "\n",
    "When you define a function, Python actually constructs an argument namespace dictionary for that function.\n",
    "In our `func_keywords` example, the namespace would be\n",
    "\n",
    "```python\n",
    "{\"a\": , \"b\": 5, \"c\": 10}\n",
    "```\n",
    "\n",
    "This is a special dictionary that maps the parameter names to the argument values that will be passed in.\n",
    "Python will populate the argument namespace with the keyword arguments you passed.\n",
    "\n",
    "```python\n",
    "func_kwargs(a=1, c=12)\n",
    "```\n",
    "\n",
    "would change the namespace to\n",
    "\n",
    "```python\n",
    "{\"a\": 1, \"b\": 5, \"c\": 12}\n",
    "```"
   ]
  },
  {
   "cell_type": "markdown",
   "metadata": {},
   "source": [
    "## Acknowledgements\n",
    "\n",
    "Much of this material has been adapted with permission from the following sources:\n",
    "\n",
    "- [Byte of Python](https://python.swaroopch.com/)"
   ]
  }
 ],
 "metadata": {
  "kernelspec": {
   "display_name": "biosc1540-2024s-dev",
   "language": "python",
   "name": "python3"
  },
  "language_info": {
   "codemirror_mode": {
    "name": "ipython",
    "version": 3
   },
   "file_extension": ".py",
   "mimetype": "text/x-python",
   "name": "python",
   "nbconvert_exporter": "python",
   "pygments_lexer": "ipython3",
   "version": "3.11.7"
  }
 },
 "nbformat": 4,
 "nbformat_minor": 2
}
