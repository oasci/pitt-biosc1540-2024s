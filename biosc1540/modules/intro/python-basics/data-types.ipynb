{
 "cells": [
  {
   "cell_type": "markdown",
   "metadata": {},
   "source": [
    "# Data types\n",
    "\n",
    "<div class=\"admonition danger\">\n",
    "    <p class=\"admonition-title\">DRAFT</p>\n",
    "    <p style=\"padding-top: 1em\">\n",
    "        This page is a work in progress and is subject to change at any moment.\n",
    "    </p>\n",
    "</div>\n",
    "\n",
    "In programming, a data type is a classification that specifies which type of value a variable can hold.\n",
    "It defines the operations that can be performed on the data and the way the data is stored in the computer's memory.\n",
    "Data types are essential for ensuring proper representation and manipulation of information in a program.\n",
    "\n",
    "Data types define how different types of values, such as numbers, characters, or logical values, are represented in the computer's memory. For example, an integer data type may use a fixed amount of memory to store whole numbers.\n",
    "\n",
    "Each data type comes with a set of operations that can be performed on values of that type. For instance, you can perform arithmetic operations on numeric types, concatenate strings, or compare values using logical operations.\n",
    "\n",
    "Data types determine how much memory is allocated to store a particular value. Different data types may require different amounts of memory. For example, a floating-point number may require more memory than an integer.\n"
   ]
  },
  {
   "cell_type": "markdown",
   "metadata": {},
   "source": [
    "### Numeric\n",
    "\n",
    "Integers (`int`): Whole numbers without a decimal point.\n"
   ]
  },
  {
   "cell_type": "code",
   "execution_count": 1,
   "metadata": {},
   "outputs": [
    {
     "name": "stdout",
     "output_type": "stream",
     "text": [
      "<class 'int'>\n",
      "<class 'int'>\n",
      "<class 'int'>\n"
     ]
    }
   ],
   "source": [
    "print(type(1))\n",
    "print(type(-5))\n",
    "print(type(1000))"
   ]
  },
  {
   "cell_type": "markdown",
   "metadata": {},
   "source": [
    "Floating-point numbers (`float`): Numbers with a decimal point."
   ]
  },
  {
   "cell_type": "code",
   "execution_count": 2,
   "metadata": {},
   "outputs": [
    {
     "name": "stdout",
     "output_type": "stream",
     "text": [
      "<class 'float'>\n",
      "<class 'float'>\n",
      "<class 'float'>\n"
     ]
    }
   ],
   "source": [
    "print(type(3.14))\n",
    "print(type(-0.5))\n",
    "print(type(2.0))"
   ]
  },
  {
   "cell_type": "markdown",
   "metadata": {},
   "source": [
    "#### Text\n",
    "\n",
    "Strings (`str`): Represents sequences of characters, such as `\"hello\"` or `'123'`."
   ]
  },
  {
   "cell_type": "code",
   "execution_count": 3,
   "metadata": {},
   "outputs": [
    {
     "name": "stdout",
     "output_type": "stream",
     "text": [
      "<class 'str'>\n",
      "<class 'str'>\n"
     ]
    }
   ],
   "source": [
    "print(type(\"hello\"))\n",
    "print(type(\"123\"))"
   ]
  },
  {
   "cell_type": "markdown",
   "metadata": {},
   "source": [
    "You can define a string in between a pair of `\"` or `'`.\n",
    "However, people generally use `\"` because it is more common to have a `'` in the string they want to store."
   ]
  },
  {
   "cell_type": "markdown",
   "metadata": {},
   "source": [
    "### Boolean\n",
    "\n",
    "Boolean values (`bool`): Represents either `True` or `False`.\n"
   ]
  },
  {
   "cell_type": "code",
   "execution_count": 4,
   "metadata": {},
   "outputs": [
    {
     "name": "stdout",
     "output_type": "stream",
     "text": [
      "<class 'bool'>\n",
      "<class 'bool'>\n"
     ]
    }
   ],
   "source": [
    "print(type(True))\n",
    "print(type(False))"
   ]
  },
  {
   "cell_type": "markdown",
   "metadata": {},
   "source": [
    "However, if we wrap double quotes around `True` or `False` it becomes a string."
   ]
  },
  {
   "cell_type": "code",
   "execution_count": 5,
   "metadata": {},
   "outputs": [
    {
     "name": "stdout",
     "output_type": "stream",
     "text": [
      "<class 'str'>\n"
     ]
    }
   ],
   "source": [
    "print(type(\"False\"))"
   ]
  },
  {
   "cell_type": "markdown",
   "metadata": {},
   "source": [
    "### None\n",
    "\n",
    "None is a special constant representing the absence of a value or a null value.\n",
    "It is a built-in singleton object of the NoneType data type."
   ]
  },
  {
   "cell_type": "code",
   "execution_count": 6,
   "metadata": {},
   "outputs": [
    {
     "name": "stdout",
     "output_type": "stream",
     "text": [
      "<class 'NoneType'>\n"
     ]
    }
   ],
   "source": [
    "print(type(None))"
   ]
  },
  {
   "cell_type": "markdown",
   "metadata": {},
   "source": [
    "So why would you want to use a tuple instead of a list?\n",
    "\n",
    "-   If you need a collection of items that should not be changed or modified throughout the program, using a tuple provides immutability. This prevents accidental modifications and ensures data consistency.\n",
    "-   Tuples are generally more memory-efficient than lists because of their immutability. If your data does not need to change, using a tuple can result in better performance."
   ]
  },
  {
   "cell_type": "markdown",
   "metadata": {},
   "source": [
    "## Case matters\n",
    "\n",
    "Python is a case-sensitive programming language, which means that it distinguishes between uppercase and lowercase letters.\n",
    "This applies not only to variable names but also to function names, class names, and other identifiers in your code."
   ]
  },
  {
   "cell_type": "code",
   "execution_count": 7,
   "metadata": {},
   "outputs": [
    {
     "name": "stdout",
     "output_type": "stream",
     "text": [
      "10\n",
      "20\n"
     ]
    }
   ],
   "source": [
    "my_variable = 10\n",
    "My_Variable = 20\n",
    "print(my_variable)\n",
    "print(My_Variable)"
   ]
  },
  {
   "cell_type": "markdown",
   "metadata": {},
   "source": [
    "## Acknowledgements\n",
    "\n",
    "Much of this material has been adapted with permission from the following sources:\n",
    "\n",
    "- [Plotting and Programming in Python](https://swcarpentry.github.io/python-novice-gapminder/)"
   ]
  }
 ],
 "metadata": {
  "kernelspec": {
   "display_name": "biosc1540-2024s-dev",
   "language": "python",
   "name": "python3"
  },
  "language_info": {
   "codemirror_mode": {
    "name": "ipython",
    "version": 3
   },
   "file_extension": ".py",
   "mimetype": "text/x-python",
   "name": "python",
   "nbconvert_exporter": "python",
   "pygments_lexer": "ipython3",
   "version": "3.11.7"
  }
 },
 "nbformat": 4,
 "nbformat_minor": 2
}
