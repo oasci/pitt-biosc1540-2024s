{
 "cells": [
  {
   "cell_type": "markdown",
   "metadata": {},
   "source": [
    "# Collections\n",
    "\n",
    "In [variables](../variables), we introduced data types like `int`, `float`, and `bool`.\n",
    "However, these types can only represent single, simple values.\n",
    "In many cases, we need more flexible ways to store, access, and manipulate data.\n",
    "This brings us to the topic of collections.\n",
    "\n",
    "Collections allow us to work with groups of data.\n",
    "One analogy is to think of scalar types as single eggs, while collections are like egg cartons - structured collections to store multiple eggs together.\n",
    "This document will cover the core collections types: lists, tuples, dictionaries.\n",
    "Each solve related but distinct needs."
   ]
  },
  {
   "cell_type": "markdown",
   "metadata": {},
   "source": [
    "## Lists\n",
    "\n",
    "Lists represent the simplest, most versatile, and most used ordered collections type.\n",
    "They can story more than one type of data, they have a specific order, and the contents can change.\n",
    "For example, we can create a list of things I have in my pocket.\n",
    "We instruct Python to create a list by surrounding data with square brackets: `[ ]`."
   ]
  },
  {
   "cell_type": "code",
   "execution_count": 1,
   "metadata": {},
   "outputs": [
    {
     "name": "stdout",
     "output_type": "stream",
     "text": [
      "[21, False, None, 'apple', 3.14]\n"
     ]
    }
   ],
   "source": [
    "in_my_pocket = [21, False, None, \"apple\", 3.14]\n",
    "print(in_my_pocket)"
   ]
  },
  {
   "cell_type": "markdown",
   "metadata": {},
   "source": [
    "We do not necessarily have to start with data inside.\n",
    "We can create an empty list as well with just `[ ]`."
   ]
  },
  {
   "cell_type": "code",
   "execution_count": 2,
   "metadata": {},
   "outputs": [
    {
     "name": "stdout",
     "output_type": "stream",
     "text": [
      "[]\n"
     ]
    }
   ],
   "source": [
    "in_my_other_pocket = []\n",
    "print(in_my_other_pocket)"
   ]
  },
  {
   "cell_type": "markdown",
   "metadata": {},
   "source": [
    "### Indexing\n",
    "\n",
    "One of the most fundamental things you use lists for is to get individual values.\n",
    "Because the order of the items in the list matter, I can refer to an item using it's position in the list.\n",
    "This position in programming languages is called the `index`; with the first index being `0`, then `1`, then `2`, and so on.\n",
    "\n",
    "Let's print the first value."
   ]
  },
  {
   "cell_type": "code",
   "execution_count": 3,
   "metadata": {},
   "outputs": [
    {
     "name": "stdout",
     "output_type": "stream",
     "text": [
      "21\n"
     ]
    }
   ],
   "source": [
    "print(in_my_pocket[0])"
   ]
  },
  {
   "cell_type": "markdown",
   "metadata": {},
   "source": [
    "You may have noticed that we are using `[]` to both create the list and index it.\n",
    "This was designed on purpose to be more readable, and the main difference is if `[]` is directly next to a variable like in our `in_my_pocket[0]` example.\n",
    "If we did\n",
    "\n",
    "```python\n",
    "in_my_pocket [0]\n",
    "```\n",
    "\n",
    "we would get an error.\n",
    "\n",
    "While we can count from start to end of the list, we can also count backwards.\n",
    "To get the last element of a list, we can use the index `-1`."
   ]
  },
  {
   "cell_type": "code",
   "execution_count": 4,
   "metadata": {},
   "outputs": [
    {
     "name": "stdout",
     "output_type": "stream",
     "text": [
      "3.14\n"
     ]
    }
   ],
   "source": [
    "print(in_my_pocket[-1])"
   ]
  },
  {
   "cell_type": "markdown",
   "metadata": {},
   "source": [
    "A table of the available elements are shown below.\n",
    "\n",
    "| Element | Index from start | Index from end |\n",
    "| ----- | ---------------- | -------------- |\n",
    "| `21` | 0 | -5 |\n",
    "| `False` | 1 | -4 |\n",
    "| `None` | 2 | -3 |\n",
    "| `\"apple\"` | 3 | -2 |\n",
    "| `3.14` | 4 | -1 |\n",
    "\n",
    "Either of these indices would get you the same element."
   ]
  },
  {
   "cell_type": "markdown",
   "metadata": {},
   "source": [
    "### Length\n",
    "\n",
    "Another important thing is that you cannot use an index that is outside the bounds of the list.\n",
    "For example we cannot ask for the 6th element of `in_my_pocket` since there are only five items.\n",
    "We can get the length of a list by using the `len` function."
   ]
  },
  {
   "cell_type": "code",
   "execution_count": 5,
   "metadata": {},
   "outputs": [
    {
     "name": "stdout",
     "output_type": "stream",
     "text": [
      "5\n"
     ]
    }
   ],
   "source": [
    "print(len(in_my_pocket))"
   ]
  },
  {
   "cell_type": "markdown",
   "metadata": {},
   "source": [
    "This means that there are 5 elements and the largest (positive) index I can use is minus one of that, so `4`."
   ]
  },
  {
   "cell_type": "markdown",
   "metadata": {},
   "source": [
    "### Slicing\n",
    "\n",
    "While accessing individual list elements is useful, often we want to extract a subsection, or slice, of a list's items.\n",
    "This is accomplished in Python using slicing.\n",
    "Slicing allows copying a portion of a list&mdash;either from one or both sides.\n",
    "This enables cleanly breaking large lists into usable parts.\n",
    "\n",
    "In Python, the colon `:` is used for slicing with the general syntax of `start:stop:step`.\n",
    "\n",
    "-   `start`: The index at which the slice begins (inclusive).\n",
    "    If omitted or `None`, it defaults to the beginning of the sequence.\n",
    "-   `stop`: The index at which the slice ends (exclusive).\n",
    "    If omitted or `None`, it defaults to the end of the sequence.\n",
    "-   `step`: The step size or the number of indices between each slice.\n",
    "    If omitted or `None`, it defaults to 1.\n",
    "\n",
    "First, let us print the full list like we normally have been doing."
   ]
  },
  {
   "cell_type": "code",
   "execution_count": 6,
   "metadata": {},
   "outputs": [
    {
     "name": "stdout",
     "output_type": "stream",
     "text": [
      "[21, False, None, 'apple', 3.14]\n"
     ]
    }
   ],
   "source": [
    "print(in_my_pocket)"
   ]
  },
  {
   "cell_type": "markdown",
   "metadata": {},
   "source": [
    "We can get the same view if we slice `in_my_pocket` without specifying `start`, `stop`, or `step`."
   ]
  },
  {
   "cell_type": "code",
   "execution_count": 7,
   "metadata": {},
   "outputs": [
    {
     "name": "stdout",
     "output_type": "stream",
     "text": [
      "[21, False, None, 'apple', 3.14]\n"
     ]
    }
   ],
   "source": [
    "print(in_my_pocket[::])"
   ]
  },
  {
   "cell_type": "markdown",
   "metadata": {},
   "source": [
    "Remember that `None` is often used to specify the absence of a value, so it should give us the same as `[::]`."
   ]
  },
  {
   "cell_type": "code",
   "execution_count": 8,
   "metadata": {},
   "outputs": [
    {
     "name": "stdout",
     "output_type": "stream",
     "text": [
      "[21, False, None, 'apple', 3.14]\n"
     ]
    }
   ],
   "source": [
    "print(in_my_pocket[None:None:None])"
   ]
  },
  {
   "cell_type": "markdown",
   "metadata": {},
   "source": [
    "Yup!\n",
    "This gives us the same slice of the list `in_my_pocket`.\n",
    "\n",
    "Now, if I want only the first two elements of the list, I want to tell Python to stop slicing (and not include) at the index of `2`."
   ]
  },
  {
   "cell_type": "code",
   "execution_count": 9,
   "metadata": {},
   "outputs": [
    {
     "name": "stdout",
     "output_type": "stream",
     "text": [
      "[21, False]\n"
     ]
    }
   ],
   "source": [
    "print(in_my_pocket[:2])"
   ]
  },
  {
   "cell_type": "markdown",
   "metadata": {},
   "source": [
    "I can also tell Python I want the elements at index `2` and `3`."
   ]
  },
  {
   "cell_type": "code",
   "execution_count": 10,
   "metadata": {},
   "outputs": [
    {
     "name": "stdout",
     "output_type": "stream",
     "text": [
      "[None, 'apple']\n"
     ]
    }
   ],
   "source": [
    "print(in_my_pocket[2:4])"
   ]
  },
  {
   "cell_type": "markdown",
   "metadata": {},
   "source": [
    "### Mutating\n",
    "\n",
    "The contents of list are `mutable`, meaning that the contents of the collection can be changed.\n",
    "\n",
    "#### Replace\n",
    "\n",
    "For example, I can replace `None` in my pocket with my `\"wallet\"`."
   ]
  },
  {
   "cell_type": "code",
   "execution_count": 11,
   "metadata": {},
   "outputs": [
    {
     "name": "stdout",
     "output_type": "stream",
     "text": [
      "[21, False, None, 'apple', 3.14]\n",
      "[21, False, 'wallet', 'apple', 3.14]\n"
     ]
    }
   ],
   "source": [
    "in_my_pocket = [21, False, None, \"apple\", 3.14]\n",
    "print(in_my_pocket)\n",
    "in_my_pocket[2] = \"wallet\"\n",
    "print(in_my_pocket)"
   ]
  },
  {
   "cell_type": "markdown",
   "metadata": {},
   "source": [
    "This works the same way as memory allocation for [variables](../variables).\n",
    "Python will go to where the third element is located in memory, throw out `None`, and put `\"wallet\"` there instead."
   ]
  },
  {
   "cell_type": "markdown",
   "metadata": {},
   "source": [
    "#### Append\n",
    "\n",
    "However, what if I want to add an element to my list and not remove anything?\n",
    "We can do this with `append`.\n",
    "For example, let's say I keep everything in my pocket that is already there, but then I want to add my keys."
   ]
  },
  {
   "cell_type": "code",
   "execution_count": 12,
   "metadata": {},
   "outputs": [
    {
     "name": "stdout",
     "output_type": "stream",
     "text": [
      "[21, False, 'wallet', 'apple', 3.14]\n",
      "5\n",
      "[21, False, 'wallet', 'apple', 3.14, 'keys']\n",
      "6\n"
     ]
    }
   ],
   "source": [
    "print(in_my_pocket)\n",
    "print(len(in_my_pocket))\n",
    "in_my_pocket.append(\"keys\")\n",
    "print(in_my_pocket)\n",
    "print(len(in_my_pocket))"
   ]
  },
  {
   "cell_type": "markdown",
   "metadata": {},
   "source": [
    "Now our list has an additional element and a new length of `6`."
   ]
  },
  {
   "cell_type": "markdown",
   "metadata": {},
   "source": [
    "#### Delete\n",
    "\n",
    "Just like we can add things to a list, we can also remove them with the `del` keyword in Python"
   ]
  },
  {
   "cell_type": "code",
   "execution_count": 13,
   "metadata": {},
   "outputs": [
    {
     "name": "stdout",
     "output_type": "stream",
     "text": [
      "[21, False, 'wallet', 'apple', 3.14, 'keys']\n",
      "6\n",
      "[21, False, 'wallet', 3.14, 'keys']\n",
      "5\n"
     ]
    }
   ],
   "source": [
    "print(in_my_pocket)\n",
    "print(len(in_my_pocket))\n",
    "del in_my_pocket[3]\n",
    "print(in_my_pocket)\n",
    "print(len(in_my_pocket))"
   ]
  },
  {
   "cell_type": "markdown",
   "metadata": {},
   "source": [
    "## Tuples\n",
    "\n",
    "A tuple is just like a list except the content cannot change, meaning I cannot do any mutation (i.e., replace, append, or delete)."
   ]
  },
  {
   "cell_type": "code",
   "execution_count": 14,
   "metadata": {},
   "outputs": [
    {
     "name": "stdout",
     "output_type": "stream",
     "text": [
      "(21, False, None, 'apple', 3.14)\n"
     ]
    }
   ],
   "source": [
    "in_my_closed_pocket = (21, False, None, \"apple\", 3.14)\n",
    "print(in_my_closed_pocket)"
   ]
  },
  {
   "cell_type": "code",
   "execution_count": 15,
   "metadata": {},
   "outputs": [
    {
     "name": "stdout",
     "output_type": "stream",
     "text": [
      "apple\n"
     ]
    }
   ],
   "source": [
    "print(in_my_closed_pocket[3])"
   ]
  },
  {
   "cell_type": "code",
   "execution_count": 16,
   "metadata": {},
   "outputs": [
    {
     "ename": "AttributeError",
     "evalue": "'tuple' object has no attribute 'append'",
     "output_type": "error",
     "traceback": [
      "\u001b[0;31m---------------------------------------------------------------------------\u001b[0m",
      "\u001b[0;31mAttributeError\u001b[0m                            Traceback (most recent call last)",
      "Cell \u001b[0;32mIn[16], line 1\u001b[0m\n\u001b[0;32m----> 1\u001b[0m \u001b[43min_my_closed_pocket\u001b[49m\u001b[38;5;241;43m.\u001b[39;49m\u001b[43mappend\u001b[49m(\u001b[38;5;124m\"\u001b[39m\u001b[38;5;124mwallet\u001b[39m\u001b[38;5;124m\"\u001b[39m)\n",
      "\u001b[0;31mAttributeError\u001b[0m: 'tuple' object has no attribute 'append'"
     ]
    }
   ],
   "source": [
    "in_my_closed_pocket.append(\"wallet\")"
   ]
  },
  {
   "cell_type": "code",
   "execution_count": 17,
   "metadata": {},
   "outputs": [
    {
     "ename": "TypeError",
     "evalue": "'tuple' object doesn't support item deletion",
     "output_type": "error",
     "traceback": [
      "\u001b[0;31m---------------------------------------------------------------------------\u001b[0m",
      "\u001b[0;31mTypeError\u001b[0m                                 Traceback (most recent call last)",
      "Cell \u001b[0;32mIn[17], line 1\u001b[0m\n\u001b[0;32m----> 1\u001b[0m \u001b[38;5;28;01mdel\u001b[39;00m \u001b[43min_my_closed_pocket\u001b[49m\u001b[43m[\u001b[49m\u001b[38;5;241;43m3\u001b[39;49m\u001b[43m]\u001b[49m\n",
      "\u001b[0;31mTypeError\u001b[0m: 'tuple' object doesn't support item deletion"
     ]
    }
   ],
   "source": [
    "del in_my_closed_pocket[3]"
   ]
  },
  {
   "cell_type": "markdown",
   "metadata": {},
   "source": [
    "So why would you want to use a tuple instead of a list?\n",
    "\n",
    "-   If you need a collection of items that should not be changed or modified throughout the program, using a tuple provides immutability.\n",
    "    This prevents accidental modifications and ensures data consistency.\n",
    "-   Tuples are generally more memory-efficient than lists because of their immutability.\n",
    "    If your data does not need to change, using a tuple can result in better performance."
   ]
  },
  {
   "cell_type": "markdown",
   "metadata": {},
   "source": [
    "## Dictionaries\n",
    "\n",
    "Lists allow us to store ordered collections of data which can be flexibly accessed via indices.\n",
    "However, frequently we need an alternative access pattern&mdash;looking up values by a descriptive key rather than numerical index.\n",
    "This is enabled in Python using dictionaries.\n",
    "\n",
    "Dictionaries provide a flexible mapping of unique keys to associated values, like a real world dictionary maps words to definitions.\n",
    "Defining a dictionary uses braces with colons separating keys and values."
   ]
  },
  {
   "cell_type": "code",
   "execution_count": 18,
   "metadata": {},
   "outputs": [
    {
     "name": "stdout",
     "output_type": "stream",
     "text": [
      "{'color': 'blue', 'food': ['Chinese', 'Thai', 'American'], 'number': 32}\n"
     ]
    }
   ],
   "source": [
    "person_favorites = {\n",
    "    \"color\": \"blue\",\n",
    "    \"food\": [\"Chinese\", \"Thai\", \"American\"],\n",
    "    \"number\": 32,\n",
    "}\n",
    "print(person_favorites)"
   ]
  },
  {
   "cell_type": "markdown",
   "metadata": {},
   "source": [
    "Dictionaries have some key capabilities:\n",
    "\n",
    "-   Store mappings of objects to easy retrieval by descriptive keys;\n",
    "-   High performance lookup time even for large data sets;\n",
    "-   Keys can use many immutable types: strings, numbers, tuples;\n",
    "-   Values can be any Python object;\n",
    "-   Extensible structure allowing easy growth.\n"
   ]
  },
  {
   "cell_type": "code",
   "execution_count": 19,
   "metadata": {},
   "outputs": [
    {
     "name": "stdout",
     "output_type": "stream",
     "text": [
      "dict_keys(['color', 'food', 'number'])\n"
     ]
    }
   ],
   "source": [
    "print(person_favorites.keys())"
   ]
  },
  {
   "cell_type": "code",
   "execution_count": 20,
   "metadata": {},
   "outputs": [
    {
     "name": "stdout",
     "output_type": "stream",
     "text": [
      "blue\n",
      "['Chinese', 'Thai', 'American']\n",
      "32\n"
     ]
    }
   ],
   "source": [
    "print(person_favorites[\"color\"])\n",
    "print(person_favorites[\"food\"])\n",
    "print(person_favorites[\"number\"])"
   ]
  },
  {
   "cell_type": "code",
   "execution_count": 21,
   "metadata": {},
   "outputs": [
    {
     "name": "stdout",
     "output_type": "stream",
     "text": [
      "{'color': 'red', 'food': ['Chinese', 'Thai', 'American'], 'number': 32}\n"
     ]
    }
   ],
   "source": [
    "person_favorites[\"color\"] = \"red\"\n",
    "print(person_favorites)"
   ]
  },
  {
   "cell_type": "code",
   "execution_count": 22,
   "metadata": {},
   "outputs": [
    {
     "name": "stdout",
     "output_type": "stream",
     "text": [
      "{'color': 'red', 'food': ['Chinese', 'Thai', 'American'], 'number': 32, 'city': 'Pittsburgh'}\n"
     ]
    }
   ],
   "source": [
    "person_favorites[\"city\"] = \"Pittsburgh\"\n",
    "print(person_favorites)"
   ]
  },
  {
   "cell_type": "code",
   "execution_count": 23,
   "metadata": {},
   "outputs": [
    {
     "name": "stdout",
     "output_type": "stream",
     "text": [
      "{'color': 'red', 'food': ['Chinese', 'Thai', 'Italian'], 'number': 32, 'city': 'Pittsburgh'}\n"
     ]
    }
   ],
   "source": [
    "person_favorites[\"food\"][2] = \"Italian\"\n",
    "print(person_favorites)"
   ]
  },
  {
   "cell_type": "markdown",
   "metadata": {},
   "source": [
    "## Iterables\n",
    "\n",
    "You may hear people say \"iterable\" and \"sequence\" interchangeably.\n",
    "They are not the same!\n",
    "An iterable is any object that can be iterated over, meaning you can go through its data one element at a time.\n",
    "Sequences, on the other hand, can be iterated over **and** get specific values based on an index.\n",
    "Every sequence is an iterable, but not every iterable is a sequence.\n",
    "This is not really important for this course, but becomes crucial for [type hints](https://peps.python.org/pep-0484/) and efficient algorithm design."
   ]
  }
 ],
 "metadata": {
  "kernelspec": {
   "display_name": "biosc1540-2024s-dev",
   "language": "python",
   "name": "python3"
  },
  "language_info": {
   "codemirror_mode": {
    "name": "ipython",
    "version": 3
   },
   "file_extension": ".py",
   "mimetype": "text/x-python",
   "name": "python",
   "nbconvert_exporter": "python",
   "pygments_lexer": "ipython3",
   "version": "3.11.7"
  }
 },
 "nbformat": 4,
 "nbformat_minor": 2
}
