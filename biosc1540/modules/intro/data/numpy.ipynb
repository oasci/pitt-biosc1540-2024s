{
 "cells": [
  {
   "cell_type": "markdown",
   "metadata": {},
   "source": [
    "# NumPy\n",
    "\n",
    "<div class=\"admonition danger\">\n",
    "    <p class=\"admonition-title\">DRAFT</p>\n",
    "    <p style=\"padding-top: 1em\">\n",
    "        This page is a work in progress and is subject to change at any moment.\n",
    "    </p>\n",
    "</div>\n",
    "\n",
    "Key resources:\n",
    "\n",
    "-   [NumPy documentation](https://numpy.org/doc/stable)\n",
    "-   [NumPy learn](https://numpy.org/learn/)\n",
    "\n",
    "## Vanilla Python\n",
    "\n",
    "Python, a versatile and powerful programming language, offers a range of high-level number objects and containers that form the foundation for various computational tasks.\n",
    "Understanding these objects is crucial for effective programming.\n",
    "\n",
    "High-level number objects, including integers and floating-point numbers, enable you to perform arithmetic operations with ease.\n",
    "\n",
    "Containers are essential data structures in Python that facilitate the organization and manipulation of data. Two prominent containers are:\n",
    "\n",
    "-   **Lists** provide costless insertion and appending operations, making them efficient for dynamic data storage. They are versatile and can store elements of different data types, allowing for flexibility in programming.\n",
    "-   **Dictionaries** offer fast lookup capabilities by associating keys with values. This makes them ideal for scenarios where efficient data retrieval is crucial. Understanding how to leverage lists and dictionaries is fundamental for effective Python programming.\n",
    "\n",
    "These are covered in [Python basics](../../python-basics/)."
   ]
  },
  {
   "cell_type": "code",
   "execution_count": 1,
   "metadata": {},
   "outputs": [
    {
     "name": "stdout",
     "output_type": "stream",
     "text": [
      "[0, 1, 2, 3, 4, 5]\n"
     ]
    }
   ],
   "source": [
    "data_list = [0, 1, 2, 3, 4, 5]\n",
    "print(data_list)"
   ]
  },
  {
   "cell_type": "markdown",
   "metadata": {},
   "source": [
    "## What is NumPy?\n",
    "\n",
    "NumPy, short for Numerical Python, is a powerful extension package that enhances Python's capabilities for scientific computation.\n",
    "Let's explore the key features and advantages that NumPy brings to the table.\n",
    "\n",
    "## One-dimensional arrays\n",
    "\n",
    "A one-dimensional array is a fundamental data structure in programming that represents a collection of elements stored in a linear sequence.\n",
    "Each element in the array is identified by an index, starting from 0 for the first element."
   ]
  },
  {
   "cell_type": "code",
   "execution_count": 2,
   "metadata": {},
   "outputs": [
    {
     "name": "stdout",
     "output_type": "stream",
     "text": [
      "[0 1 2 3 4 5]\n"
     ]
    }
   ],
   "source": [
    "import numpy as np\n",
    "\n",
    "data_array = np.array([0, 1, 2, 3, 4, 5])\n",
    "print(data_array)"
   ]
  },
  {
   "cell_type": "code",
   "execution_count": 3,
   "metadata": {},
   "outputs": [
    {
     "name": "stdout",
     "output_type": "stream",
     "text": [
      "List:  [2, 3, 4, 5, 6, 7]\n",
      "Array: [2 3 4 5 6 7]\n"
     ]
    }
   ],
   "source": [
    "list_added = [i + 2 for i in data_list]\n",
    "print(f\"List:  {list_added}\")\n",
    "\n",
    "array_added = data_array + 2\n",
    "print(f\"Array: {array_added}\")"
   ]
  },
  {
   "cell_type": "code",
   "execution_count": 4,
   "metadata": {},
   "outputs": [
    {
     "name": "stdout",
     "output_type": "stream",
     "text": [
      "List:  15\n",
      "Array: 15\n"
     ]
    }
   ],
   "source": [
    "list_sum = sum(data_list)\n",
    "print(f\"List:  {list_sum}\")\n",
    "\n",
    "array_sum = np.sum(data_array)\n",
    "print(f\"Array: {array_sum}\")"
   ]
  },
  {
   "cell_type": "code",
   "execution_count": 5,
   "metadata": {},
   "outputs": [
    {
     "name": "stdout",
     "output_type": "stream",
     "text": [
      "List:  2.5\n",
      "Array: 2.5\n"
     ]
    }
   ],
   "source": [
    "list_mean = sum(data_list) / len(data_list)\n",
    "print(f\"List:  {list_mean}\")\n",
    "\n",
    "array_mean = np.mean(data_array)\n",
    "print(f\"Array: {array_mean}\")"
   ]
  },
  {
   "cell_type": "markdown",
   "metadata": {},
   "source": [
    "## Multi-dimensional arrays\n",
    "\n",
    "NumPy introduces the concept of multi-dimensional arrays, providing a powerful and efficient data structure for numerical computations.\n",
    "These arrays allow for seamless handling of matrices and other multi-dimensional data, a crucial feature in scientific computing."
   ]
  },
  {
   "cell_type": "code",
   "execution_count": 6,
   "metadata": {},
   "outputs": [
    {
     "name": "stdout",
     "output_type": "stream",
     "text": [
      "List\n",
      "[[0, 1, 2, 3, 4, 5], [6, 7, 8, 9, 10, 11]]\n",
      "Array\n",
      "[[ 0  1  2  3  4  5]\n",
      " [ 6  7  8  9 10 11]]\n"
     ]
    }
   ],
   "source": [
    "data_2d_list = [[0, 1, 2, 3, 4, 5], [6, 7, 8, 9, 10, 11]]\n",
    "print(\"List\")\n",
    "print(data_2d_list)\n",
    "\n",
    "data_2d_array = np.array([[0, 1, 2, 3, 4, 5], [6, 7, 8, 9, 10, 11]])\n",
    "print(\"Array\")\n",
    "print(data_2d_array)"
   ]
  },
  {
   "cell_type": "code",
   "execution_count": 7,
   "metadata": {},
   "outputs": [
    {
     "name": "stdout",
     "output_type": "stream",
     "text": [
      "List\n",
      "[[2, 3, 4, 5, 6, 7], [8, 9, 10, 11, 12, 13]]\n",
      "Array\n",
      "[[ 2  3  4  5  6  7]\n",
      " [ 8  9 10 11 12 13]]\n"
     ]
    }
   ],
   "source": [
    "list_2d_added = []\n",
    "for row in data_2d_list:\n",
    "    list_2d_added.append([])\n",
    "    for value in row:\n",
    "        list_2d_added[-1].append(value + 2)\n",
    "print(\"List\")\n",
    "print(list_2d_added)\n",
    "\n",
    "array_2d_added = data_2d_array + 2\n",
    "print(\"Array\")\n",
    "print(array_2d_added)"
   ]
  },
  {
   "cell_type": "code",
   "execution_count": 8,
   "metadata": {},
   "outputs": [
    {
     "name": "stdout",
     "output_type": "stream",
     "text": [
      "List:  66\n",
      "Array: 66\n"
     ]
    }
   ],
   "source": [
    "list_2d_sum = 0\n",
    "for row in data_2d_list:\n",
    "    for element in row:\n",
    "        list_2d_sum += element\n",
    "print(f\"List:  {list_2d_sum}\")\n",
    "\n",
    "array_2d_sum = np.sum(data_2d_array)\n",
    "print(f\"Array: {array_2d_sum}\")"
   ]
  },
  {
   "cell_type": "code",
   "execution_count": 9,
   "metadata": {},
   "outputs": [
    {
     "name": "stdout",
     "output_type": "stream",
     "text": [
      "List:  5.5\n",
      "Array: 5.5\n"
     ]
    }
   ],
   "source": [
    "list_2d_sum = 0\n",
    "list_2d_n = 0\n",
    "for row in data_2d_list:\n",
    "    for item in row:\n",
    "        list_2d_sum += item\n",
    "        list_2d_n += 1\n",
    "list_2d_mean = list_2d_sum / list_2d_n\n",
    "print(f\"List:  {list_2d_mean}\")\n",
    "\n",
    "array_2d_mean = np.mean(data_2d_array)\n",
    "print(f\"Array: {array_2d_mean}\")"
   ]
  },
  {
   "cell_type": "markdown",
   "metadata": {},
   "source": [
    "## Creating arrays\n",
    "\n",
    "[Documentation](https://numpy.org/doc/stable/user/basics.creation.html#arrays-creation)\n",
    "\n",
    "### `np.linspace`\n",
    "\n",
    "Creates an array with evenly spaced values over a specified range.\n",
    "\n",
    "[Documentation](https://numpy.org/doc/stable/reference/generated/numpy.linspace.html)"
   ]
  },
  {
   "cell_type": "code",
   "execution_count": 10,
   "metadata": {},
   "outputs": [
    {
     "name": "stdout",
     "output_type": "stream",
     "text": [
      "[0.   0.25 0.5  0.75 1.  ]\n"
     ]
    }
   ],
   "source": [
    "linspace_array = np.linspace(0, 1, 5)\n",
    "print(linspace_array)"
   ]
  },
  {
   "cell_type": "markdown",
   "metadata": {},
   "source": [
    "### `np.arange`\n",
    "\n",
    "Creates an array with regularly spaced values within a given interval.\n",
    "\n",
    "[Documentation](https://numpy.org/doc/stable/reference/generated/numpy.arange.html)"
   ]
  },
  {
   "cell_type": "code",
   "execution_count": 11,
   "metadata": {},
   "outputs": [
    {
     "name": "stdout",
     "output_type": "stream",
     "text": [
      "[0 1 2 3 4 5 6 7 8 9]\n"
     ]
    }
   ],
   "source": [
    "arange_array = np.arange(10)\n",
    "print(arange_array)"
   ]
  },
  {
   "cell_type": "markdown",
   "metadata": {},
   "source": [
    "### `np.zeros`\n",
    "\n",
    "Creates an array filled with zeros.\n",
    "\n",
    "[Documentation](https://numpy.org/doc/stable/reference/generated/numpy.zeros.html)"
   ]
  },
  {
   "cell_type": "code",
   "execution_count": 12,
   "metadata": {},
   "outputs": [
    {
     "name": "stdout",
     "output_type": "stream",
     "text": [
      "[0. 0. 0. 0. 0.]\n"
     ]
    }
   ],
   "source": [
    "zeros_array = np.zeros(5)\n",
    "print(zeros_array)"
   ]
  },
  {
   "cell_type": "markdown",
   "metadata": {},
   "source": [
    "### `np.full`\n",
    "\n",
    "Return a new array of given shape and type, filled with fill_value.\n",
    "\n",
    "[Documentation](https://numpy.org/doc/stable/reference/generated/numpy.full.html)"
   ]
  },
  {
   "cell_type": "code",
   "execution_count": 13,
   "metadata": {},
   "outputs": [
    {
     "name": "stdout",
     "output_type": "stream",
     "text": [
      "[[nan nan]\n",
      " [nan nan]]\n"
     ]
    }
   ],
   "source": [
    "full_array = np.full((2, 2), np.nan)\n",
    "print(full_array)"
   ]
  },
  {
   "cell_type": "markdown",
   "metadata": {},
   "source": [
    "## Indexing and slicing\n",
    "\n",
    "In Python, the colon `:` is used for slicing in sequences, such as strings, lists, and NumPy arrays.\n",
    "The syntax for slicing is generally `start:stop:step`.\n",
    "Here's an explanation of each part:\n",
    "\n",
    "-   `start`: The index at which the slice begins (inclusive). If omitted, it defaults to the beginning of the sequence.\n",
    "-   `stop`: The index at which the slice ends (exclusive). If omitted, it defaults to the end of the sequence.\n",
    "-   `step`: The step size or the number of indices between each slice. If omitted, it defaults to 1.\n",
    "\n",
    "[Documentation](https://numpy.org/doc/stable/user/basics.indexing.html)"
   ]
  },
  {
   "cell_type": "code",
   "execution_count": 14,
   "metadata": {},
   "outputs": [
    {
     "name": "stdout",
     "output_type": "stream",
     "text": [
      "[[ 0  1  2  3  4  5]\n",
      " [10 11 12 13 14 15]\n",
      " [20 21 22 23 24 25]\n",
      " [30 31 32 33 34 35]\n",
      " [40 41 42 43 44 45]\n",
      " [50 51 52 53 54 55]]\n"
     ]
    }
   ],
   "source": [
    "array = np.array(\n",
    "    [\n",
    "        [0, 1, 2, 3, 4, 5],\n",
    "        [10, 11, 12, 13, 14, 15],\n",
    "        [20, 21, 22, 23, 24, 25],\n",
    "        [30, 31, 32, 33, 34, 35],\n",
    "        [40, 41, 42, 43, 44, 45],\n",
    "        [50, 51, 52, 53, 54, 55],\n",
    "    ]\n",
    ")\n",
    "print(array)"
   ]
  },
  {
   "cell_type": "code",
   "execution_count": 15,
   "metadata": {},
   "outputs": [
    {
     "data": {
      "text/plain": [
       "array([0, 1, 2, 3, 4, 5])"
      ]
     },
     "execution_count": 15,
     "metadata": {},
     "output_type": "execute_result"
    }
   ],
   "source": [
    "array[0]"
   ]
  },
  {
   "cell_type": "code",
   "execution_count": 16,
   "metadata": {},
   "outputs": [
    {
     "data": {
      "text/plain": [
       "array([3, 4])"
      ]
     },
     "execution_count": 16,
     "metadata": {},
     "output_type": "execute_result"
    }
   ],
   "source": [
    "array[0, 3:5]"
   ]
  },
  {
   "cell_type": "code",
   "execution_count": 17,
   "metadata": {},
   "outputs": [
    {
     "data": {
      "text/plain": [
       "array([[44, 45],\n",
       "       [54, 55]])"
      ]
     },
     "execution_count": 17,
     "metadata": {},
     "output_type": "execute_result"
    }
   ],
   "source": [
    "array[4:, 4:]"
   ]
  },
  {
   "cell_type": "code",
   "execution_count": 18,
   "metadata": {},
   "outputs": [
    {
     "data": {
      "text/plain": [
       "array([ 2, 12, 22, 32, 42, 52])"
      ]
     },
     "execution_count": 18,
     "metadata": {},
     "output_type": "execute_result"
    }
   ],
   "source": [
    "array[:, 2]"
   ]
  },
  {
   "cell_type": "code",
   "execution_count": 19,
   "metadata": {},
   "outputs": [
    {
     "data": {
      "text/plain": [
       "array([[20, 22, 24],\n",
       "       [40, 42, 44]])"
      ]
     },
     "execution_count": 19,
     "metadata": {},
     "output_type": "execute_result"
    }
   ],
   "source": [
    "array[2::2, ::2]"
   ]
  },
  {
   "cell_type": "markdown",
   "metadata": {},
   "source": []
  },
  {
   "cell_type": "markdown",
   "metadata": {},
   "source": [
    "## Acknowledgements\n",
    "\n",
    "Some material here was adapted with permission from the following sources:\n",
    "\n",
    "-   [Scientific Python Lectures](https://github.com/scipy-lectures/scientific-python-lectures)"
   ]
  }
 ],
 "metadata": {
  "kernelspec": {
   "display_name": "biosc1540-2024s-dev",
   "language": "python",
   "name": "python3"
  },
  "language_info": {
   "codemirror_mode": {
    "name": "ipython",
    "version": 3
   },
   "file_extension": ".py",
   "mimetype": "text/x-python",
   "name": "python",
   "nbconvert_exporter": "python",
   "pygments_lexer": "ipython3",
   "version": "3.11.7"
  }
 },
 "nbformat": 4,
 "nbformat_minor": 2
}
