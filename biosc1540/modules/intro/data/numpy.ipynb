{
 "cells": [
  {
   "cell_type": "markdown",
   "metadata": {},
   "source": [
    "# NumPy\n",
    "\n",
    "<div class=\"admonition danger\">\n",
    "    <p class=\"admonition-title\">DRAFT</p>\n",
    "    <p style=\"padding-top: 1em\">\n",
    "        This page is a work in progress and is subject to change at any moment.\n",
    "    </p>\n",
    "</div>\n",
    "\n",
    "NumPy is a Python library used for working with arrays.\n",
    "It provides support for large, multi-dimensional arrays and matrices, along with a large collection of high-level mathematical functions to operate on these arrays.\n",
    "NumPy is a fundamental package for scientific computing with Python and is widely used in the field of data science.\n",
    "\n",
    "NumPy is particularly well-suited for numerical computations, as it provides an array object that is up to 50x faster than traditional Python lists.\n",
    "The array object in NumPy is called ndarray, and it provides a lot of supporting functions that make working with ndarray very easy.\n",
    "Arrays are very frequently used in data science, where speed and resources are very important.\n",
    "\n",
    "One of the most important features of NumPy is its ability to perform element-wise operations on arrays.\n",
    "This means that you can perform mathematical operations on entire arrays at once, without having to loop over each element of the array.\n",
    "NumPy also provides support for linear algebra, Fourier transforms, and other advanced mathematical functions, making it a powerful tool for scientific computing.\n",
    "\n",
    "Key resources:\n",
    "\n",
    "-   [NumPy documentation](https://numpy.org/doc/stable)\n",
    "-   [NumPy learn](https://numpy.org/learn/)"
   ]
  },
  {
   "cell_type": "markdown",
   "metadata": {},
   "source": [
    "## One-dimensional arrays\n",
    "\n",
    "A one-dimensional array is a fundamental data structure in programming that represents a collection of elements stored in a linear sequence.\n",
    "Each element in the array is identified by an index, starting from 0 for the first element.\n",
    "This sounds a lot like a list (and it is).\n",
    "\n",
    "Let's start by creating a simple list of `int` values."
   ]
  },
  {
   "cell_type": "code",
   "execution_count": 1,
   "metadata": {},
   "outputs": [
    {
     "name": "stdout",
     "output_type": "stream",
     "text": [
      "[0, 1, 2, 3, 4, 5]\n",
      "<class 'list'>\n"
     ]
    }
   ],
   "source": [
    "data_list = [0, 1, 2, 3, 4, 5]\n",
    "print(data_list)\n",
    "print(type(data_list))"
   ]
  },
  {
   "cell_type": "markdown",
   "metadata": {},
   "source": [
    "We can create something very similar in [NumPy](https://numpy.org/doc/stable) called an [array](https://numpy.org/doc/stable/user/basics.creation.html).\n",
    "\n",
    "<div class=\"admonition note\">\n",
    "    <p class=\"admonition-title\">Note</p>\n",
    "    <p style=\"padding-top: 1em\">\n",
    "        Note that other programming languages use the term \"array\" or \"vector\" for the equivalent data structure of a Python list.\n",
    "        Whenever we are talking about Python, we will often say \"array\" to mean specifically a NumPy array.\n",
    "        If you are ever confused, always ask to clarify if we mean a NumPy array.\n",
    "    </p>\n",
    "</div>\n",
    "\n",
    "Okay, back to creating our Numpy array."
   ]
  },
  {
   "cell_type": "code",
   "execution_count": 2,
   "metadata": {},
   "outputs": [
    {
     "name": "stdout",
     "output_type": "stream",
     "text": [
      "[0 1 2 3 4 5]\n",
      "<class 'numpy.ndarray'>\n"
     ]
    }
   ],
   "source": [
    "import numpy as np\n",
    "\n",
    "data_array = np.array([0, 1, 2, 3, 4, 5])\n",
    "print(data_array)\n",
    "print(type(data_array))"
   ]
  },
  {
   "cell_type": "markdown",
   "metadata": {},
   "source": [
    "`data_array` contains the same information (`int`s from 0 to 5) with some major usability differences.\n",
    "First, we notice that there are no commas in between the elements when we print the array; this is mainly just for aesthetic purposes and you *could* tell NumPy to print them.\n",
    "We also check that, indeed, the data type is not a `list`, but a `numpy.ndarray`.\n",
    "\n",
    "Let's do some numerical operations with our two data structures and see the differences.\n",
    "First, let's just add `2` to each element.\n",
    "\n",
    "For a list we need to create a new list and then [loop](../../python-basics/loops) over each element, add `2`, and then `append` it to `list_added`."
   ]
  },
  {
   "cell_type": "code",
   "execution_count": 3,
   "metadata": {},
   "outputs": [
    {
     "name": "stdout",
     "output_type": "stream",
     "text": [
      "List:  [2, 3, 4, 5, 6, 7]\n"
     ]
    }
   ],
   "source": [
    "list_added = []\n",
    "for num in data_list:\n",
    "    list_added.append(num + 2)\n",
    "print(f\"List:  {list_added}\")"
   ]
  },
  {
   "cell_type": "markdown",
   "metadata": {},
   "source": [
    "For a NumPy array, we do this."
   ]
  },
  {
   "cell_type": "code",
   "execution_count": 4,
   "metadata": {},
   "outputs": [
    {
     "name": "stdout",
     "output_type": "stream",
     "text": [
      "Array: [2 3 4 5 6 7]\n"
     ]
    }
   ],
   "source": [
    "array_added = data_array + 2\n",
    "print(f\"Array: {array_added}\")"
   ]
  },
  {
   "cell_type": "markdown",
   "metadata": {},
   "source": [
    "Wow, that was easy.\n",
    "And indeed, NumPy is designed to be the de facto [library](../../python-basics/libraries) for numerical operations.\n",
    "\n",
    "What about a sum?"
   ]
  },
  {
   "cell_type": "code",
   "execution_count": 5,
   "metadata": {},
   "outputs": [
    {
     "name": "stdout",
     "output_type": "stream",
     "text": [
      "List:  15\n"
     ]
    }
   ],
   "source": [
    "list_sum = sum(data_list)\n",
    "print(f\"List:  {list_sum}\")"
   ]
  },
  {
   "cell_type": "markdown",
   "metadata": {},
   "source": [
    "Okay, not too bad."
   ]
  },
  {
   "cell_type": "code",
   "execution_count": 6,
   "metadata": {},
   "outputs": [
    {
     "name": "stdout",
     "output_type": "stream",
     "text": [
      "Array: 15\n"
     ]
    }
   ],
   "source": [
    "array_sum = np.sum(data_array)\n",
    "print(f\"Array: {array_sum}\")"
   ]
  },
  {
   "cell_type": "markdown",
   "metadata": {},
   "source": [
    "There was not much of a difference there.\n",
    "\n",
    "What about computing the mean?"
   ]
  },
  {
   "cell_type": "code",
   "execution_count": 7,
   "metadata": {},
   "outputs": [
    {
     "name": "stdout",
     "output_type": "stream",
     "text": [
      "List:  2.5\n",
      "Array: 2.5\n"
     ]
    }
   ],
   "source": [
    "list_mean = sum(data_list) / len(data_list)\n",
    "print(f\"List:  {list_mean}\")\n",
    "\n",
    "array_mean = np.mean(data_array)\n",
    "print(f\"Array: {array_mean}\")"
   ]
  },
  {
   "cell_type": "markdown",
   "metadata": {},
   "source": [
    "Alright, that does not seem like too big of a difference.\n",
    "What gives?"
   ]
  },
  {
   "cell_type": "markdown",
   "metadata": {},
   "source": [
    "## Multi-dimensional arrays\n",
    "\n",
    "The real selling point for NumPy is the concept of multi-dimensional arrays which are important in computational biology.\n",
    "\n",
    "For out example, suppose we have a data set of different patient vital signs like `pulse`, `temperature`, and `spo2`.\n",
    "We could potentially have thousands, but let's stick with only three patients.\n",
    "\n",
    "While we have not covered it yet, you can actually store a list inside of a list!"
   ]
  },
  {
   "cell_type": "code",
   "execution_count": 8,
   "metadata": {},
   "outputs": [
    {
     "name": "stdout",
     "output_type": "stream",
     "text": [
      "List\n",
      "[[57, 99.0, 0.98], [68, 101.2, 0.92], [60, 98.3, 1.0]]\n"
     ]
    }
   ],
   "source": [
    "patient_data_list = [[57, 99.0, 0.98], [68, 101.2, 0.92], [60, 98.3, 1.00]]\n",
    "print(\"List\")\n",
    "print(patient_data_list)"
   ]
  },
  {
   "cell_type": "code",
   "execution_count": 9,
   "metadata": {},
   "outputs": [
    {
     "name": "stdout",
     "output_type": "stream",
     "text": [
      "Array\n",
      "[[ 57.    99.     0.98]\n",
      " [ 68.   101.2    0.92]\n",
      " [ 60.    98.3    1.  ]]\n"
     ]
    }
   ],
   "source": [
    "patient_data_array = np.array([[57, 99.0, 0.98], [68, 101.2, 0.92], [60, 98.3, 1.00]])\n",
    "print(\"Array\")\n",
    "print(patient_data_array)"
   ]
  },
  {
   "cell_type": "markdown",
   "metadata": {},
   "source": [
    "We can also use `patient_data_list` to create the array!"
   ]
  },
  {
   "cell_type": "code",
   "execution_count": 10,
   "metadata": {},
   "outputs": [
    {
     "name": "stdout",
     "output_type": "stream",
     "text": [
      "Array\n",
      "[[ 57.    99.     0.98]\n",
      " [ 68.   101.2    0.92]\n",
      " [ 60.    98.3    1.  ]]\n"
     ]
    }
   ],
   "source": [
    "patient_data_array = np.array(patient_data_list)\n",
    "print(\"Array\")\n",
    "print(patient_data_array)"
   ]
  },
  {
   "cell_type": "markdown",
   "metadata": {},
   "source": [
    "Okay, now lets compute the mean of each data category (i.e., column)."
   ]
  },
  {
   "cell_type": "code",
   "execution_count": 11,
   "metadata": {},
   "outputs": [
    {
     "name": "stdout",
     "output_type": "stream",
     "text": [
      "3\n",
      "[0.0, 0.0, 0.0]\n"
     ]
    }
   ],
   "source": [
    "# First, we create a list to store our means.\n",
    "n_patients = len(patient_data_list)  # total number of rows/patients we have\n",
    "print(n_patients)\n",
    "patient_data_mean_list = [0.0] * n_patients  # Creates list with zeros for each mean\n",
    "print(patient_data_mean_list)"
   ]
  },
  {
   "cell_type": "code",
   "execution_count": 12,
   "metadata": {},
   "outputs": [
    {
     "name": "stdout",
     "output_type": "stream",
     "text": [
      "[61.666666666666664, 99.5, 0.9666666666666667]\n"
     ]
    }
   ],
   "source": [
    "for patient_data in patient_data_list:\n",
    "    for i in range(len(patient_data)):\n",
    "        patient_data_mean_list[i] = patient_data_mean_list[i] + patient_data[i]\n",
    "\n",
    "for i in range(len(patient_data_mean_list)):\n",
    "    patient_data_mean_list[i] = patient_data_mean_list[i] / n_patients\n",
    "\n",
    "print(patient_data_mean_list)"
   ]
  },
  {
   "cell_type": "code",
   "execution_count": 13,
   "metadata": {},
   "outputs": [
    {
     "name": "stdout",
     "output_type": "stream",
     "text": [
      "Array: [61.66666667 99.5         0.96666667]\n"
     ]
    }
   ],
   "source": [
    "patient_data_mean_array = np.mean(patient_data_array, axis=0)\n",
    "print(f\"Array: {patient_data_mean_array}\")"
   ]
  },
  {
   "cell_type": "markdown",
   "metadata": {},
   "source": [
    "## Creating arrays\n",
    "\n",
    "[Documentation](https://numpy.org/doc/stable/user/basics.creation.html#arrays-creation)\n",
    "\n",
    "### `np.linspace`\n",
    "\n",
    "Creates an array with evenly spaced values over a specified range.\n",
    "\n",
    "[Documentation](https://numpy.org/doc/stable/reference/generated/numpy.linspace.html)"
   ]
  },
  {
   "cell_type": "code",
   "execution_count": 14,
   "metadata": {},
   "outputs": [
    {
     "name": "stdout",
     "output_type": "stream",
     "text": [
      "[0.   0.25 0.5  0.75 1.  ]\n"
     ]
    }
   ],
   "source": [
    "linspace_array = np.linspace(0, 1, 5)\n",
    "print(linspace_array)"
   ]
  },
  {
   "cell_type": "markdown",
   "metadata": {},
   "source": [
    "### `np.arange`\n",
    "\n",
    "Creates an array with regularly spaced values within a given interval.\n",
    "\n",
    "[Documentation](https://numpy.org/doc/stable/reference/generated/numpy.arange.html)"
   ]
  },
  {
   "cell_type": "code",
   "execution_count": 15,
   "metadata": {},
   "outputs": [
    {
     "name": "stdout",
     "output_type": "stream",
     "text": [
      "[0 1 2 3 4 5 6 7 8 9]\n"
     ]
    }
   ],
   "source": [
    "arange_array = np.arange(10)\n",
    "print(arange_array)"
   ]
  },
  {
   "cell_type": "markdown",
   "metadata": {},
   "source": [
    "### `np.zeros`\n",
    "\n",
    "Creates an array filled with zeros.\n",
    "\n",
    "[Documentation](https://numpy.org/doc/stable/reference/generated/numpy.zeros.html)"
   ]
  },
  {
   "cell_type": "code",
   "execution_count": 16,
   "metadata": {},
   "outputs": [
    {
     "name": "stdout",
     "output_type": "stream",
     "text": [
      "[0. 0. 0. 0. 0.]\n"
     ]
    }
   ],
   "source": [
    "zeros_array = np.zeros(5)\n",
    "print(zeros_array)"
   ]
  },
  {
   "cell_type": "markdown",
   "metadata": {},
   "source": [
    "### `np.full`\n",
    "\n",
    "Return a new array of given shape and type, filled with fill_value.\n",
    "\n",
    "[Documentation](https://numpy.org/doc/stable/reference/generated/numpy.full.html)"
   ]
  },
  {
   "cell_type": "code",
   "execution_count": 17,
   "metadata": {},
   "outputs": [
    {
     "name": "stdout",
     "output_type": "stream",
     "text": [
      "[[nan nan]\n",
      " [nan nan]]\n"
     ]
    }
   ],
   "source": [
    "full_array = np.full((2, 2), np.nan)\n",
    "print(full_array)"
   ]
  },
  {
   "cell_type": "markdown",
   "metadata": {},
   "source": [
    "## Indexing and slicing\n",
    "\n",
    "In Python, the colon `:` is used for slicing in sequences, such as strings, lists, and NumPy arrays.\n",
    "The syntax for slicing is generally `start:stop:step`.\n",
    "Here's an explanation of each part:\n",
    "\n",
    "-   `start`: The index at which the slice begins (inclusive). If omitted, it defaults to the beginning of the sequence.\n",
    "-   `stop`: The index at which the slice ends (exclusive). If omitted, it defaults to the end of the sequence.\n",
    "-   `step`: The step size or the number of indices between each slice. If omitted, it defaults to 1.\n",
    "\n",
    "[Documentation](https://numpy.org/doc/stable/user/basics.indexing.html)"
   ]
  },
  {
   "cell_type": "code",
   "execution_count": 18,
   "metadata": {},
   "outputs": [
    {
     "name": "stdout",
     "output_type": "stream",
     "text": [
      "[[ 0  1  2  3  4  5]\n",
      " [10 11 12 13 14 15]\n",
      " [20 21 22 23 24 25]\n",
      " [30 31 32 33 34 35]\n",
      " [40 41 42 43 44 45]\n",
      " [50 51 52 53 54 55]]\n"
     ]
    }
   ],
   "source": [
    "array = np.array(\n",
    "    [\n",
    "        [0, 1, 2, 3, 4, 5],\n",
    "        [10, 11, 12, 13, 14, 15],\n",
    "        [20, 21, 22, 23, 24, 25],\n",
    "        [30, 31, 32, 33, 34, 35],\n",
    "        [40, 41, 42, 43, 44, 45],\n",
    "        [50, 51, 52, 53, 54, 55],\n",
    "    ]\n",
    ")\n",
    "print(array)"
   ]
  },
  {
   "cell_type": "code",
   "execution_count": 19,
   "metadata": {},
   "outputs": [
    {
     "data": {
      "text/plain": [
       "array([0, 1, 2, 3, 4, 5])"
      ]
     },
     "execution_count": 19,
     "metadata": {},
     "output_type": "execute_result"
    }
   ],
   "source": [
    "array[0]"
   ]
  },
  {
   "cell_type": "code",
   "execution_count": 20,
   "metadata": {},
   "outputs": [
    {
     "data": {
      "text/plain": [
       "array([3, 4])"
      ]
     },
     "execution_count": 20,
     "metadata": {},
     "output_type": "execute_result"
    }
   ],
   "source": [
    "array[0, 3:5]"
   ]
  },
  {
   "cell_type": "code",
   "execution_count": 21,
   "metadata": {},
   "outputs": [
    {
     "data": {
      "text/plain": [
       "array([[44, 45],\n",
       "       [54, 55]])"
      ]
     },
     "execution_count": 21,
     "metadata": {},
     "output_type": "execute_result"
    }
   ],
   "source": [
    "array[4:, 4:]"
   ]
  },
  {
   "cell_type": "code",
   "execution_count": 22,
   "metadata": {},
   "outputs": [
    {
     "data": {
      "text/plain": [
       "array([ 2, 12, 22, 32, 42, 52])"
      ]
     },
     "execution_count": 22,
     "metadata": {},
     "output_type": "execute_result"
    }
   ],
   "source": [
    "array[:, 2]"
   ]
  },
  {
   "cell_type": "code",
   "execution_count": 23,
   "metadata": {},
   "outputs": [
    {
     "data": {
      "text/plain": [
       "array([[20, 22, 24],\n",
       "       [40, 42, 44]])"
      ]
     },
     "execution_count": 23,
     "metadata": {},
     "output_type": "execute_result"
    }
   ],
   "source": [
    "array[2::2, ::2]"
   ]
  },
  {
   "cell_type": "markdown",
   "metadata": {},
   "source": [
    "## Acknowledgements\n",
    "\n",
    "Some material here was adapted with permission from the following sources:\n",
    "\n",
    "-   [Scientific Python Lectures](https://github.com/scipy-lectures/scientific-python-lectures)"
   ]
  }
 ],
 "metadata": {
  "kernelspec": {
   "display_name": "biosc1540-2024s-dev",
   "language": "python",
   "name": "python3"
  },
  "language_info": {
   "codemirror_mode": {
    "name": "ipython",
    "version": 3
   },
   "file_extension": ".py",
   "mimetype": "text/x-python",
   "name": "python",
   "nbconvert_exporter": "python",
   "pygments_lexer": "ipython3",
   "version": "3.11.7"
  }
 },
 "nbformat": 4,
 "nbformat_minor": 2
}
