{
 "cells": [
  {
   "cell_type": "markdown",
   "metadata": {},
   "source": [
    "# pandas\n",
    "\n",
    "<div class=\"admonition danger\">\n",
    "    <p class=\"admonition-title\">DRAFT</p>\n",
    "    <p style=\"padding-top: 1em\">\n",
    "        This page is a work in progress and is subject to change at any moment.\n",
    "    </p>\n",
    "</div>\n",
    "\n",
    "Pandas has so many uses that it might make sense to list the things it can't do instead of what it can do. \n",
    "Through pandas, you get acquainted with your data by cleaning, transforming, and analyzing it.\n",
    "\n",
    "For example, say you want to explore a dataset stored in a CSV on your computer.\n",
    "Pandas will extract the data from that CSV into a DataFrame&mdash;a table, basically&mdash;then let you do things like:\n",
    "\n",
    "-   Calculate statistics and answer questions about the data, like\n",
    "    -   What's the average, median, max, or min of each column?\n",
    "    -   Does column A correlate with column B?\n",
    "    -   What does the distribution of data in column C look like?\n",
    "- Clean the data by doing things like removing missing values and filtering rows or columns by some criteria\n",
    "- Visualize the data with help from Matplotlib. Plot bars, lines, histograms, bubbles, and more. \n",
    "- Store the cleaned, transformed data back into a CSV, other file or database\n",
    "\n",
    "\n",
    "Before you jump into the modeling or the complex visualizations you need to have a good understanding of the nature of your dataset and pandas is the best avenue through which to do that.\n",
    "\n",
    "Key resources:\n",
    "\n",
    "-   [Documentation](https://pandas.pydata.org/docs/)\n",
    "-   [Learn](https://pandas.pydata.org/docs/user_guide/index.html)\n",
    "\n",
    "First things first, let's import NumPy and pandas."
   ]
  },
  {
   "cell_type": "code",
   "execution_count": 1,
   "metadata": {},
   "outputs": [],
   "source": [
    "import numpy as np\n",
    "import pandas as pd"
   ]
  },
  {
   "cell_type": "markdown",
   "metadata": {},
   "source": [
    "The two main components that pandas adds are [Series](https://pandas.pydata.org/docs/reference/api/pandas.Series.html) and [DataFrames]().\n",
    "\n",
    "## Series\n",
    "\n",
    "[Series](https://pandas.pydata.org/docs/reference/api/pandas.Series.html) is a one-dimensional labeled array.\n",
    "On other words, it is like a column in an Excel file.\n",
    "\n",
    "First, let us create some synthetic data to use.\n",
    "The provided data encapsulates a snapshot of gene expression levels and corresponding treatments in a biological study.\n",
    "Each gene, identified by a unique identifier such as `\"G1\"` or `\"G2\"`, is associated with a specific expression level, denoted in numerical values.\n",
    "Simultaneously, the treatment administered to each gene is recorded, categorizing them into groups like `\"Control\"`, `\"TreatmentA\"`, or `\"TreatmentB\"`."
   ]
  },
  {
   "cell_type": "code",
   "execution_count": 2,
   "metadata": {},
   "outputs": [],
   "source": [
    "gene_id = np.array([\"G1\", \"G2\", \"G3\", \"G4\", \"G5\"])\n",
    "expression_Level = np.array([2.5, 1.8, 3.2, 2.0, 3.5])\n",
    "treatment = np.array([\"Control\", \"TreatmentA\", \"TreatmentB\", \"Control\", \"TreatmentA\"])"
   ]
  },
  {
   "cell_type": "code",
   "execution_count": 3,
   "metadata": {},
   "outputs": [
    {
     "name": "stdout",
     "output_type": "stream",
     "text": [
      "0    G1\n",
      "1    G2\n",
      "2    G3\n",
      "3    G4\n",
      "4    G5\n",
      "dtype: object\n"
     ]
    }
   ],
   "source": [
    "s_gene = pd.Series(gene_id)\n",
    "print(s_gene)"
   ]
  },
  {
   "cell_type": "markdown",
   "metadata": {},
   "source": [
    "We can technically rename the index of each row."
   ]
  },
  {
   "cell_type": "code",
   "execution_count": 4,
   "metadata": {},
   "outputs": [
    {
     "name": "stdout",
     "output_type": "stream",
     "text": [
      "A    G1\n",
      "B    G2\n",
      "C    G3\n",
      "D    G4\n",
      "E    G5\n",
      "dtype: object\n"
     ]
    }
   ],
   "source": [
    "s_gene_other = pd.Series(gene_id, index=[\"A\", \"B\", \"C\", \"D\", \"E\"])\n",
    "print(s_gene_other)"
   ]
  },
  {
   "cell_type": "markdown",
   "metadata": {},
   "source": [
    "However, we generally leave it to default to `int`."
   ]
  },
  {
   "cell_type": "code",
   "execution_count": 5,
   "metadata": {},
   "outputs": [
    {
     "name": "stdout",
     "output_type": "stream",
     "text": [
      "0    2.5\n",
      "1    1.8\n",
      "2    3.2\n",
      "3    2.0\n",
      "4    3.5\n",
      "dtype: float64\n"
     ]
    }
   ],
   "source": [
    "s_express = pd.Series(expression_Level)\n",
    "print(s_express)"
   ]
  },
  {
   "cell_type": "code",
   "execution_count": 6,
   "metadata": {},
   "outputs": [
    {
     "name": "stdout",
     "output_type": "stream",
     "text": [
      "0       Control\n",
      "1    TreatmentA\n",
      "2    TreatmentB\n",
      "3       Control\n",
      "4    TreatmentA\n",
      "dtype: object\n"
     ]
    }
   ],
   "source": [
    "s_treatment = pd.Series(treatment)\n",
    "print(s_treatment)"
   ]
  },
  {
   "cell_type": "markdown",
   "metadata": {},
   "source": [
    "## DataFrame\n",
    "\n",
    "[`DataFrame`](https://pandas.pydata.org/docs/reference/api/pandas.DataFrame.html) is a 2-dimensional labeled data structure with columns of potentially different types.\n",
    "You can think of it like a spreadsheet or SQL table, or a dict of Series objects.\n",
    "It is generally the most commonly used pandas object.\n",
    "Like Series, DataFrame accepts many different kinds of input:\n",
    "\n",
    "-   Dict of 1D ndarrays, lists, dicts, or Series\n",
    "-   2-D numpy.ndarray\n",
    "-   Structured or record ndarray\n",
    "-   A Series\n",
    "-   Another DataFrame\n",
    "\n",
    "## Creation\n",
    "\n",
    "Along with the data, you can optionally pass index (row labels) and columns (column labels) arguments.\n",
    "If you pass an index and / or columns, you are guaranteeing the index and / or columns of the resulting DataFrame.\n",
    "Thus, a dict of Series plus a specific index will discard all data not matching up to the passed index.\n",
    "\n",
    "If axis labels are not passed, they will be constructed from the input data based on common sense rules.\n",
    "\n",
    "First, let's use the series we created."
   ]
  },
  {
   "cell_type": "code",
   "execution_count": 7,
   "metadata": {},
   "outputs": [
    {
     "name": "stdout",
     "output_type": "stream",
     "text": [
      "  gene_id  expression_level   treatment\n",
      "0      G1               2.5     Control\n",
      "1      G2               1.8  TreatmentA\n",
      "2      G3               3.2  TreatmentB\n",
      "3      G4               2.0     Control\n",
      "4      G5               3.5  TreatmentA\n"
     ]
    }
   ],
   "source": [
    "df = pd.DataFrame(\n",
    "    data={\"gene_id\": s_gene, \"expression_level\": s_express, \"treatment\": s_treatment}\n",
    ")\n",
    "print(df)"
   ]
  },
  {
   "cell_type": "markdown",
   "metadata": {},
   "source": [
    "Each (key, value) item in `data` corresponds to a column in the resulting DataFrame.\n",
    "The Index of this DataFrame was given to us on creation as the numbers 0 to 4.\n",
    "\n",
    "It is annoying to have to create a `Series` first and then a `DataFrame`; instead, we can just use a dictionary."
   ]
  },
  {
   "cell_type": "code",
   "execution_count": 8,
   "metadata": {},
   "outputs": [
    {
     "name": "stdout",
     "output_type": "stream",
     "text": [
      "  gene_id  expression_level   treatment\n",
      "0      G1               2.5     Control\n",
      "1      G2               1.8  TreatmentA\n",
      "2      G3               3.2  TreatmentB\n",
      "3      G4               2.0     Control\n",
      "4      G5               3.5  TreatmentA\n"
     ]
    }
   ],
   "source": [
    "df = pd.DataFrame(\n",
    "    data={\n",
    "        \"gene_id\": [\"G1\", \"G2\", \"G3\", \"G4\", \"G5\"],\n",
    "        \"expression_level\": [2.5, 1.8, 3.2, 2.0, 3.5],\n",
    "        \"treatment\": [\"Control\", \"TreatmentA\", \"TreatmentB\", \"Control\", \"TreatmentA\"],\n",
    "    }\n",
    ")\n",
    "print(df)"
   ]
  },
  {
   "cell_type": "markdown",
   "metadata": {},
   "source": [
    "## Loading\n",
    "\n",
    "It’s quite simple to load data from various file formats into a DataFrame.\n"
   ]
  },
  {
   "cell_type": "markdown",
   "metadata": {},
   "source": [
    "### CSV\n",
    "\n",
    "A CSV (Comma-Separated Values) file is a plain text file format commonly used to store tabular data (numbers and text) in a plain-text form, where each line of the file represents a row of the table, and the values within each row are separated by commas.\n",
    "Each line in a CSV file typically corresponds to a record, and the values or fields within that record are separated by commas or other delimiters.\n",
    "\n",
    "For example:\n",
    "\n",
    "```text\n",
    "Name, Age, City\n",
    "John, 25, New York\n",
    "Alice, 30, Los Angeles\n",
    "Bob, 22, Chicago\n",
    "```\n",
    "\n",
    "In this example, each line represents a person's information with columns for name, age, and city.\n",
    "The values in each column are separated by commas.\n",
    "CSV files are widely used for data exchange between different software applications and can be easily imported/exported in spreadsheet programs like Microsoft Excel or Google Sheets.\n",
    "\n",
    "We use [`pd.read_csv`](https://pandas.pydata.org/docs/reference/api/pandas.read_csv.html) to create a DataFrame."
   ]
  },
  {
   "cell_type": "code",
   "execution_count": 9,
   "metadata": {},
   "outputs": [
    {
     "name": "stdout",
     "output_type": "stream",
     "text": [
      "     Age        BMI  Glucose  Insulin      HOMA   Leptin  Adiponectin  \\\n",
      "0     48  23.500000       70    2.707  0.467409   8.8071     9.702400   \n",
      "1     83  20.690495       92    3.115  0.706897   8.8438     5.429285   \n",
      "2     82  23.124670       91    4.498  1.009651  17.9393    22.432040   \n",
      "3     68  21.367521       77    3.226  0.612725   9.8827     7.169560   \n",
      "4     86  21.111111       92    3.549  0.805386   6.6994     4.819240   \n",
      "..   ...        ...      ...      ...       ...      ...          ...   \n",
      "111   45  26.850000       92    3.330  0.755688  54.6800    12.100000   \n",
      "112   62  26.840000      100    4.530  1.117400  12.4500    21.420000   \n",
      "113   65  32.050000       97    5.730  1.370998  61.4800    22.540000   \n",
      "114   72  25.590000       82    2.820  0.570392  24.9600    33.750000   \n",
      "115   86  27.180000      138   19.910  6.777364  90.2800    14.110000   \n",
      "\n",
      "     Resistin    MCP.1  Classification  \n",
      "0     7.99585  417.114               1  \n",
      "1     4.06405  468.786               1  \n",
      "2     9.27715  554.697               1  \n",
      "3    12.76600  928.220               1  \n",
      "4    10.57635  773.920               1  \n",
      "..        ...      ...             ...  \n",
      "111  10.96000  268.230               2  \n",
      "112   7.32000  330.160               2  \n",
      "113  10.33000  314.050               2  \n",
      "114   3.27000  392.460               2  \n",
      "115   4.35000   90.090               2  \n",
      "\n",
      "[116 rows x 10 columns]\n"
     ]
    }
   ],
   "source": [
    "file_url = \"https://gitlab.com/oasci/courses/pitt/biosc1540-2024s/-/raw/main/biosc1540/files/csv/coimbra_breast_cancer_dataset.csv\"\n",
    "df_breast_cancer = pd.read_csv(file_url)  # Note that we can directly load from a URL\n",
    "print(df_breast_cancer)"
   ]
  },
  {
   "cell_type": "markdown",
   "metadata": {},
   "source": [
    "This CSV file presents a comprehensive exploration of clinical features observed or measured for 64 patients with breast cancer and 52 healthy controls.\n",
    "The dataset encompasses both quantitative attributes and corresponding labels for effective analysis and modeling.\n",
    "\n",
    "Quantitative Attributes:\n",
    "\n",
    "-   `Age` (years): Age of the individuals.\n",
    "-   `BMI` (kg/m²): Body Mass Index, a measure of body fat based on weight and height.\n",
    "-   `Glucose` (mg/dL): Blood glucose levels, an important metabolic indicator.\n",
    "-   `Insulin` (µU/mL): Insulin levels, a hormone related to glucose regulation.\n",
    "-   `HOMA`: Homeostatic Model Assessment, a method for assessing insulin resistance and beta-cell function.\n",
    "-   `Leptin` (ng/mL): Leptin levels, a hormone involved in regulating appetite and energy balance.\n",
    "-   `Adiponectin` (µg/mL): Adiponectin levels, a protein associated with metabolic regulation.\n",
    "-   `Resistin` (ng/mL): Resistin levels, a protein implicated in insulin resistance.\n",
    "-   `MCP-1` (pg/dL): Monocyte Chemoattractant Protein-1, a cytokine involved in inflammation.\n",
    "\n",
    "Classification (i.e., labels):\n",
    "\n",
    "-   `1`: Healthy controls\n",
    "-   `2`: Patients with breast cancer\n",
    "\n",
    "### Other\n",
    "\n",
    "You are also able to read from [Excel](https://pandas.pydata.org/pandas-docs/stable/reference/api/pandas.read_excel.html), [json](https://pandas.pydata.org/pandas-docs/stable/reference/api/pandas.read_json.html), [XML](https://pandas.pydata.org/pandas-docs/stable/reference/api/pandas.read_xml.html), and more.\n",
    "However, we will normally use CSV files."
   ]
  },
  {
   "cell_type": "markdown",
   "metadata": {},
   "source": [
    "## head and tail\n",
    "\n",
    "DataFrames can contain thousands and thousands of columns and/or rows.\n",
    "Pandas gives us some helper functions so we can take a peek: [`.head()`](https://pandas.pydata.org/pandas-docs/stable/reference/api/pandas.DataFrame.head.html) and [`.tail()`](https://pandas.pydata.org/pandas-docs/stable/reference/api/pandas.DataFrame.tail.html).\n",
    "These methods give us a few rows from the beginning or end of the DataFrame, respectively."
   ]
  },
  {
   "cell_type": "code",
   "execution_count": 10,
   "metadata": {},
   "outputs": [
    {
     "name": "stdout",
     "output_type": "stream",
     "text": [
      "   Age        BMI  Glucose  Insulin      HOMA  Leptin  Adiponectin  Resistin  \\\n",
      "0   48  23.500000       70    2.707  0.467409  8.8071     9.702400   7.99585   \n",
      "1   83  20.690495       92    3.115  0.706897  8.8438     5.429285   4.06405   \n",
      "\n",
      "     MCP.1  Classification  \n",
      "0  417.114               1  \n",
      "1  468.786               1  \n"
     ]
    }
   ],
   "source": [
    "print(df_breast_cancer.head(n=2))"
   ]
  },
  {
   "cell_type": "code",
   "execution_count": 11,
   "metadata": {},
   "outputs": [
    {
     "name": "stdout",
     "output_type": "stream",
     "text": [
      "     Age    BMI  Glucose  Insulin      HOMA  Leptin  Adiponectin  Resistin  \\\n",
      "113   65  32.05       97     5.73  1.370998   61.48        22.54     10.33   \n",
      "114   72  25.59       82     2.82  0.570392   24.96        33.75      3.27   \n",
      "115   86  27.18      138    19.91  6.777364   90.28        14.11      4.35   \n",
      "\n",
      "      MCP.1  Classification  \n",
      "113  314.05               2  \n",
      "114  392.46               2  \n",
      "115   90.09               2  \n"
     ]
    }
   ],
   "source": [
    "print(df_breast_cancer.tail(n=3))"
   ]
  },
  {
   "cell_type": "markdown",
   "metadata": {},
   "source": [
    "## info\n",
    "\n",
    "The `DataFrame.info()` method is used to display a concise summary of a `DataFrame`, including information about the data types, memory usage, and the number of non-null (i.e., not missing) values in each column.\n",
    "It provides a quick overview of the structure and properties of the `DataFrame`."
   ]
  },
  {
   "cell_type": "code",
   "execution_count": 12,
   "metadata": {},
   "outputs": [
    {
     "name": "stdout",
     "output_type": "stream",
     "text": [
      "<class 'pandas.core.frame.DataFrame'>\n",
      "RangeIndex: 116 entries, 0 to 115\n",
      "Data columns (total 10 columns):\n",
      " #   Column          Non-Null Count  Dtype  \n",
      "---  ------          --------------  -----  \n",
      " 0   Age             116 non-null    int64  \n",
      " 1   BMI             116 non-null    float64\n",
      " 2   Glucose         116 non-null    int64  \n",
      " 3   Insulin         116 non-null    float64\n",
      " 4   HOMA            116 non-null    float64\n",
      " 5   Leptin          116 non-null    float64\n",
      " 6   Adiponectin     116 non-null    float64\n",
      " 7   Resistin        116 non-null    float64\n",
      " 8   MCP.1           116 non-null    float64\n",
      " 9   Classification  116 non-null    int64  \n",
      "dtypes: float64(7), int64(3)\n",
      "memory usage: 9.2 KB\n",
      "None\n"
     ]
    }
   ],
   "source": [
    "print(df_breast_cancer.info())"
   ]
  },
  {
   "cell_type": "markdown",
   "metadata": {},
   "source": [
    "Here's what the `DataFrame.info()` method typically shows:\n",
    "\n",
    "-   The total number of entries (rows) in the DataFrame.\n",
    "-   The number of non-null values for each column.\n",
    "-   The data type of each column.\n",
    "-   The memory usage of the DataFrame.\n",
    "\n",
    "This information is helpful for understanding the composition of your DataFrame, identifying missing values, and assessing memory usage, which can be useful in optimizing memory usage for large datasets.\n",
    "\n",
    "If there were missing values, you would see something like this.\n",
    "\n",
    "```text\n",
    "Index: 1000 entries, Guardians of the Galaxy to Nine Lives\n",
    "Data columns (total 11 columns):\n",
    "Rank                  1000 non-null int64\n",
    "Genre                 1000 non-null object\n",
    "Description           1000 non-null object\n",
    "Director              1000 non-null object\n",
    "Actors                1000 non-null object\n",
    "Year                  1000 non-null int64\n",
    "Runtime (Minutes)     1000 non-null int64\n",
    "Rating                1000 non-null float64\n",
    "Votes                 1000 non-null int64\n",
    "Revenue (Millions)    872 non-null float64\n",
    "Metascore             936 non-null float64\n",
    "dtypes: float64(3), int64(4), object(4)\n",
    "memory usage: 93.8+ KB\n",
    "```\n",
    "\n",
    "Notice how `Revenue (Millions)` and `Metascore` are lower than the other columns."
   ]
  },
  {
   "cell_type": "markdown",
   "metadata": {},
   "source": [
    "## shape\n",
    "\n",
    "The `DataFrame.shape` attribute is used to get the dimensions of a DataFrame.\n",
    "It returns a tuple representing the number of rows and columns in the DataFrame.\n",
    "The tuple has two elements: the first element is the number of rows, and the second element is the number of columns."
   ]
  },
  {
   "cell_type": "code",
   "execution_count": 13,
   "metadata": {},
   "outputs": [
    {
     "name": "stdout",
     "output_type": "stream",
     "text": [
      "(116, 10)\n"
     ]
    }
   ],
   "source": [
    "print(df_breast_cancer.shape)"
   ]
  },
  {
   "cell_type": "markdown",
   "metadata": {},
   "source": [
    "This is a quick and convenient way to determine the size of your DataFrame.\n",
    "It's useful for understanding the structure of your data and can be particularly handy when working with large datasets."
   ]
  },
  {
   "cell_type": "markdown",
   "metadata": {},
   "source": [
    "## Indexing and selecting\n",
    "\n",
    "The axis labeling information in pandas objects serves many purposes:\n",
    "\n",
    "-   Identifies data (i.e. provides metadata) using known indicators, important for analysis, visualization, and interactive console display.\n",
    "-   Enables automatic and explicit data alignment.\n",
    "-   Allows intuitive getting and setting of subsets of the data set.\n",
    "\n",
    "In this section, we will focus on the final point: namely, how to slice, dice, and generally get and set subsets of pandas objects.\n",
    "The primary focus will be on Series and DataFrame as they have received more development attention in this area.\n",
    "\n",
    "Object selection has had a number of user-requested additions in order to support more explicit location based indexing.\n",
    "pandas now supports three types of multi-axis indexing.\n",
    "\n",
    "### `.loc`\n",
    "\n",
    "[`.loc`](https://pandas.pydata.org/pandas-docs/stable/reference/api/pandas.DataFrame.loc.html) allows you to access a group of rows and columns by label(s) or a boolean array.\n",
    "This works very similar to [NumPy](../numpy) slicing with extra steps where you have to specify the rows the columns.\n",
    "For example, to get all rows and the column of `\"Glucose\"` we would do the following."
   ]
  },
  {
   "cell_type": "code",
   "execution_count": 14,
   "metadata": {},
   "outputs": [
    {
     "name": "stdout",
     "output_type": "stream",
     "text": [
      "0       70\n",
      "1       92\n",
      "2       91\n",
      "3       77\n",
      "4       92\n",
      "      ... \n",
      "111     92\n",
      "112    100\n",
      "113     97\n",
      "114     82\n",
      "115    138\n",
      "Name: Glucose, Length: 116, dtype: int64\n"
     ]
    }
   ],
   "source": [
    "print(df_breast_cancer.loc[:, \"Glucose\"])"
   ]
  },
  {
   "cell_type": "markdown",
   "metadata": {},
   "source": [
    "If we wanted only rows `7` to `10`."
   ]
  },
  {
   "cell_type": "code",
   "execution_count": 15,
   "metadata": {},
   "outputs": [
    {
     "name": "stdout",
     "output_type": "stream",
     "text": [
      "7     118\n",
      "8      97\n",
      "9      83\n",
      "10     78\n",
      "Name: Glucose, dtype: int64\n"
     ]
    }
   ],
   "source": [
    "print(df_breast_cancer.loc[7:10, \"Glucose\"])"
   ]
  },
  {
   "cell_type": "markdown",
   "metadata": {},
   "source": [
    "<div class=\"admonition warning\">\n",
    "    <p class=\"admonition-title\">Warning</p>\n",
    "    <p style=\"padding-top: 1em\">\n",
    "        Pandas includes the stop index when slicing, which is different than most of Python.\n",
    "        For example, usually we would not include row with index <code>`10`</code> when slicing a NumPy array, but pandas did.\n",
    "        Why?\n",
    "        Honestly, I have no clue.\n",
    "    </p>\n",
    "</div>"
   ]
  },
  {
   "cell_type": "markdown",
   "metadata": {},
   "source": [
    "We can also select multiple columns in any order we request."
   ]
  },
  {
   "cell_type": "code",
   "execution_count": 16,
   "metadata": {},
   "outputs": [
    {
     "name": "stdout",
     "output_type": "stream",
     "text": [
      "     Glucose  Age\n",
      "0         70   48\n",
      "1         92   83\n",
      "2         91   82\n",
      "3         77   68\n",
      "4         92   86\n",
      "..       ...  ...\n",
      "111       92   45\n",
      "112      100   62\n",
      "113       97   65\n",
      "114       82   72\n",
      "115      138   86\n",
      "\n",
      "[116 rows x 2 columns]\n"
     ]
    }
   ],
   "source": [
    "print(df_breast_cancer.loc[:, [\"Glucose\", \"Age\"]])"
   ]
  },
  {
   "cell_type": "markdown",
   "metadata": {},
   "source": [
    "### `.iloc`\n",
    "\n",
    "[`.iloc`](https://pandas.pydata.org/pandas-docs/stable/reference/api/pandas.DataFrame.iloc.html) is purely integer-location based indexing for selection by position from `0` to `length-1` of the axis."
   ]
  },
  {
   "cell_type": "code",
   "execution_count": 17,
   "metadata": {},
   "outputs": [
    {
     "name": "stdout",
     "output_type": "stream",
     "text": [
      "   Age        BMI  Glucose  Insulin      HOMA  Leptin  Adiponectin  Resistin  \\\n",
      "0   48  23.500000       70    2.707  0.467409  8.8071      9.70240   7.99585   \n",
      "3   68  21.367521       77    3.226  0.612725  9.8827      7.16956  12.76600   \n",
      "4   86  21.111111       92    3.549  0.805386  6.6994      4.81924  10.57635   \n",
      "\n",
      "     MCP.1  Classification  \n",
      "0  417.114               1  \n",
      "3  928.220               1  \n",
      "4  773.920               1  \n"
     ]
    }
   ],
   "source": [
    "print(df_breast_cancer.iloc[[0, 3, 4]])"
   ]
  },
  {
   "cell_type": "markdown",
   "metadata": {},
   "source": [
    "### boolean\n",
    "\n",
    "Another common operation is the use of boolean vectors to filter the data.\n",
    "The operators are: `|` for `or`, `&` for `and`, and `~` for `not`.\n",
    "These must be grouped by using parentheses, since by default Python will evaluate an expression such as `df['A'] > 2 & df['B'] < 3` as `df['A'] > (2 & df['B']) < 3`, while the desired evaluation order is `(df['A'] > 2) & (df['B'] < 3)`.\n",
    "\n",
    "Using a boolean vector to index a Series works exactly as in a NumPy ndarray.\n",
    "For example, suppose I only want data for patients that are younger than 35."
   ]
  },
  {
   "cell_type": "code",
   "execution_count": 18,
   "metadata": {},
   "outputs": [
    {
     "name": "stdout",
     "output_type": "stream",
     "text": [
      "0      False\n",
      "1      False\n",
      "2      False\n",
      "3      False\n",
      "4      False\n",
      "       ...  \n",
      "111    False\n",
      "112    False\n",
      "113    False\n",
      "114    False\n",
      "115    False\n",
      "Name: Age, Length: 116, dtype: bool\n"
     ]
    }
   ],
   "source": [
    "mask = df_breast_cancer[\"Age\"] < 35\n",
    "print(mask)"
   ]
  },
  {
   "cell_type": "markdown",
   "metadata": {},
   "source": [
    "Now I can use this mask to get only the data where the rows are `True`."
   ]
  },
  {
   "cell_type": "code",
   "execution_count": 19,
   "metadata": {},
   "outputs": [
    {
     "name": "stdout",
     "output_type": "stream",
     "text": [
      "    Age        BMI  Glucose  Insulin      HOMA   Leptin  Adiponectin  \\\n",
      "10   34  21.470000       78    3.469  0.667436  14.5700    13.110000   \n",
      "11   29  23.010000       82    5.663  1.145436  35.5900    26.720000   \n",
      "12   25  22.860000       82    4.090  0.827271  20.4500    23.670000   \n",
      "13   24  18.670000       88    6.107  1.330000   8.8800    36.060000   \n",
      "19   32  36.512637       87   14.026  3.009980  49.3727     5.100000   \n",
      "21   34  31.975015       87    4.530  0.972138  28.7502     7.642760   \n",
      "22   29  32.270788       84    5.810  1.203832  45.6196     6.209635   \n",
      "32   28  35.855815       87    8.576  1.840410  68.5102     4.794200   \n",
      "55   34  24.242424       92   21.699  4.924226  16.7353    21.823745   \n",
      "\n",
      "    Resistin    MCP.1  Classification  \n",
      "10   6.92000  354.600               1  \n",
      "11   4.58000  174.800               1  \n",
      "12   5.14000  313.730               1  \n",
      "13   6.85000  632.220               1  \n",
      "19  17.10223  588.460               1  \n",
      "21   5.62592  572.783               1  \n",
      "22  24.60330  904.981               1  \n",
      "32  21.44366  358.624               1  \n",
      "55  12.06534  481.949               2  \n"
     ]
    }
   ],
   "source": [
    "print(df_breast_cancer[mask])"
   ]
  },
  {
   "cell_type": "markdown",
   "metadata": {},
   "source": [
    "Now, suppose I want patients who are younger than 35 that had breast cancer.\n",
    "I do not need to define a mask variable to slice the `DataFrame`; I can do it all in one go."
   ]
  },
  {
   "cell_type": "code",
   "execution_count": 20,
   "metadata": {},
   "outputs": [
    {
     "name": "stdout",
     "output_type": "stream",
     "text": [
      "    Age        BMI  Glucose  Insulin      HOMA   Leptin  Adiponectin  \\\n",
      "55   34  24.242424       92   21.699  4.924226  16.7353    21.823745   \n",
      "\n",
      "    Resistin    MCP.1  Classification  \n",
      "55  12.06534  481.949               2  \n"
     ]
    }
   ],
   "source": [
    "print(\n",
    "    df_breast_cancer[\n",
    "        (df_breast_cancer[\"Age\"] < 35) & (df_breast_cancer[\"Classification\"] == 2)\n",
    "    ]\n",
    ")"
   ]
  },
  {
   "cell_type": "markdown",
   "metadata": {},
   "source": [
    "## Concatenating objects\n",
    "\n",
    "The [`concat()`](https://pandas.pydata.org/docs/reference/api/pandas.concat.html) function (in the main pandas namespace) does all of the heavy lifting of performing concatenation operations along an axis while performing optional set logic (union or intersection) of the indexes (if any) on the other axes.\n",
    "Note that I say “if any” because there is only a single possible axis of concatenation for Series."
   ]
  },
  {
   "cell_type": "markdown",
   "metadata": {},
   "source": [
    "## Duplicates\n",
    "\n",
    "This dataset does not have duplicate rows, but it is always important to verify you aren't aggregating duplicate rows. \n",
    "To demonstrate, let's simply just double up our movies DataFrame by appending it to itself."
   ]
  },
  {
   "cell_type": "markdown",
   "metadata": {},
   "source": [
    "## Acknowledgements\n",
    "\n",
    "This content was adapted from the following sources:\n",
    "\n",
    "-   [LearnDataSci](https://www.learndatasci.com/tutorials/python-pandas-tutorial-complete-introduction-for-beginners/)\n",
    "-   [Kaggle](https://www.kaggle.com/learn/pandas)\n",
    "-   [DataCamp](https://www.datacamp.com/tutorial/pandas)\n"
   ]
  }
 ],
 "metadata": {
  "kernelspec": {
   "display_name": "biosc1540-2024s-dev",
   "language": "python",
   "name": "python3"
  },
  "language_info": {
   "codemirror_mode": {
    "name": "ipython",
    "version": 3
   },
   "file_extension": ".py",
   "mimetype": "text/x-python",
   "name": "python",
   "nbconvert_exporter": "python",
   "pygments_lexer": "ipython3",
   "version": "3.11.7"
  }
 },
 "nbformat": 4,
 "nbformat_minor": 2
}
