{
 "cells": [
  {
   "cell_type": "markdown",
   "metadata": {},
   "source": [
    "# pandas\n",
    "\n",
    "<div class=\"admonition danger\">\n",
    "    <p class=\"admonition-title\">DRAFT</p>\n",
    "    <p style=\"padding-top: 1em\">\n",
    "        This page is a work in progress and is subject to change at any moment.\n",
    "    </p>\n",
    "</div>\n",
    "\n",
    "Pandas has so many uses that it might make sense to list the things it can't do instead of what it can do. \n",
    "Through pandas, you get acquainted with your data by cleaning, transforming, and analyzing it.\n",
    "\n",
    "For example, say you want to explore a dataset stored in a CSV on your computer.\n",
    "Pandas will extract the data from that CSV into a DataFrame&mdash;a table, basically&mdash;then let you do things like:\n",
    "\n",
    "-   Calculate statistics and answer questions about the data, like\n",
    "    -   What's the average, median, max, or min of each column?\n",
    "    -   Does column A correlate with column B?\n",
    "    -   What does the distribution of data in column C look like?\n",
    "- Clean the data by doing things like removing missing values and filtering rows or columns by some criteria\n",
    "- Visualize the data with help from Matplotlib. Plot bars, lines, histograms, bubbles, and more. \n",
    "- Store the cleaned, transformed data back into a CSV, other file or database\n",
    "\n",
    "\n",
    "Before you jump into the modeling or the complex visualizations you need to have a good understanding of the nature of your dataset and pandas is the best avenue through which to do that.\n",
    "\n",
    "Key resources:\n",
    "\n",
    "-   [Documentation](https://pandas.pydata.org/docs/)\n",
    "-   [Learn](https://pandas.pydata.org/docs/user_guide/index.html)\n",
    "\n",
    "First things first, let's import NumPy and pandas."
   ]
  },
  {
   "cell_type": "code",
   "execution_count": 1,
   "metadata": {},
   "outputs": [],
   "source": [
    "import numpy as np\n",
    "import pandas as pd"
   ]
  },
  {
   "cell_type": "markdown",
   "metadata": {},
   "source": [
    "The two main components that pandas adds are [Series](https://pandas.pydata.org/docs/reference/api/pandas.Series.html) and [DataFrames]().\n",
    "\n",
    "## Series\n",
    "\n",
    "[Series](https://pandas.pydata.org/docs/reference/api/pandas.Series.html) is a one-dimensional labeled array.\n",
    "On other words, it is like a column in an Excel file.\n",
    "\n",
    "First, let us create some synthetic data to use.\n",
    "The provided data encapsulates a snapshot of gene expression levels and corresponding treatments in a biological study.\n",
    "Each gene, identified by a unique identifier such as `\"G1\"` or `\"G2\"`, is associated with a specific expression level, denoted in numerical values.\n",
    "Simultaneously, the treatment administered to each gene is recorded, categorizing them into groups like `\"Control\"`, `\"TreatmentA\"`, or `\"TreatmentB\"`."
   ]
  },
  {
   "cell_type": "code",
   "execution_count": 2,
   "metadata": {},
   "outputs": [],
   "source": [
    "gene_id = np.array([\"G1\", \"G2\", \"G3\", \"G4\", \"G5\"])\n",
    "expression_Level = np.array([2.5, 1.8, 3.2, 2.0, 3.5])\n",
    "treatment = np.array([\"Control\", \"TreatmentA\", \"TreatmentB\", \"Control\", \"TreatmentA\"])"
   ]
  },
  {
   "cell_type": "code",
   "execution_count": 3,
   "metadata": {},
   "outputs": [
    {
     "name": "stdout",
     "output_type": "stream",
     "text": [
      "0    G1\n",
      "1    G2\n",
      "2    G3\n",
      "3    G4\n",
      "4    G5\n",
      "dtype: object\n"
     ]
    }
   ],
   "source": [
    "s_gene = pd.Series(gene_id)\n",
    "print(s_gene)"
   ]
  },
  {
   "cell_type": "markdown",
   "metadata": {},
   "source": [
    "We can technically rename the index of each row."
   ]
  },
  {
   "cell_type": "code",
   "execution_count": 4,
   "metadata": {},
   "outputs": [
    {
     "name": "stdout",
     "output_type": "stream",
     "text": [
      "A    G1\n",
      "B    G2\n",
      "C    G3\n",
      "D    G4\n",
      "E    G5\n",
      "dtype: object\n"
     ]
    }
   ],
   "source": [
    "s_gene_other = pd.Series(gene_id, index=[\"A\", \"B\", \"C\", \"D\", \"E\"])\n",
    "print(s_gene_other)"
   ]
  },
  {
   "cell_type": "markdown",
   "metadata": {},
   "source": [
    "However, we generally leave it to default to `int`."
   ]
  },
  {
   "cell_type": "code",
   "execution_count": 5,
   "metadata": {},
   "outputs": [
    {
     "name": "stdout",
     "output_type": "stream",
     "text": [
      "0    2.5\n",
      "1    1.8\n",
      "2    3.2\n",
      "3    2.0\n",
      "4    3.5\n",
      "dtype: float64\n"
     ]
    }
   ],
   "source": [
    "s_express = pd.Series(expression_Level)\n",
    "print(s_express)"
   ]
  },
  {
   "cell_type": "code",
   "execution_count": 6,
   "metadata": {},
   "outputs": [
    {
     "name": "stdout",
     "output_type": "stream",
     "text": [
      "0       Control\n",
      "1    TreatmentA\n",
      "2    TreatmentB\n",
      "3       Control\n",
      "4    TreatmentA\n",
      "dtype: object\n"
     ]
    }
   ],
   "source": [
    "s_treatment = pd.Series(treatment)\n",
    "print(s_treatment)"
   ]
  },
  {
   "cell_type": "markdown",
   "metadata": {},
   "source": [
    "## DataFrame\n",
    "\n",
    "[`DataFrame`](https://pandas.pydata.org/docs/reference/api/pandas.DataFrame.html) is a 2-dimensional labeled data structure with columns of potentially different types.\n",
    "You can think of it like a spreadsheet or SQL table, or a dict of Series objects.\n",
    "It is generally the most commonly used pandas object.\n",
    "Like Series, DataFrame accepts many different kinds of input:\n",
    "\n",
    "-   Dict of 1D ndarrays, lists, dicts, or Series\n",
    "-   2-D numpy.ndarray\n",
    "-   Structured or record ndarray\n",
    "-   A Series\n",
    "-   Another DataFrame\n",
    "\n",
    "Along with the data, you can optionally pass index (row labels) and columns (column labels) arguments.\n",
    "If you pass an index and / or columns, you are guaranteeing the index and / or columns of the resulting DataFrame.\n",
    "Thus, a dict of Series plus a specific index will discard all data not matching up to the passed index.\n",
    "\n",
    "If axis labels are not passed, they will be constructed from the input data based on common sense rules.\n",
    "\n",
    "First, let's use the series we created."
   ]
  },
  {
   "cell_type": "code",
   "execution_count": 7,
   "metadata": {},
   "outputs": [
    {
     "name": "stdout",
     "output_type": "stream",
     "text": [
      "  gene_id  expression_level   treatment\n",
      "0      G1               2.5     Control\n",
      "1      G2               1.8  TreatmentA\n",
      "2      G3               3.2  TreatmentB\n",
      "3      G4               2.0     Control\n",
      "4      G5               3.5  TreatmentA\n"
     ]
    }
   ],
   "source": [
    "df = pd.DataFrame(\n",
    "    data={\"gene_id\": s_gene, \"expression_level\": s_express, \"treatment\": s_treatment}\n",
    ")\n",
    "print(df)"
   ]
  },
  {
   "cell_type": "markdown",
   "metadata": {},
   "source": [
    "It is annoying to have to create a `Series` first and then a `DataFrame`; instead, we can just use a dictionary."
   ]
  },
  {
   "cell_type": "code",
   "execution_count": 8,
   "metadata": {},
   "outputs": [
    {
     "name": "stdout",
     "output_type": "stream",
     "text": [
      "  gene_id  expression_level   treatment\n",
      "0      G1               2.5     Control\n",
      "1      G2               1.8  TreatmentA\n",
      "2      G3               3.2  TreatmentB\n",
      "3      G4               2.0     Control\n",
      "4      G5               3.5  TreatmentA\n"
     ]
    }
   ],
   "source": [
    "df = pd.DataFrame(\n",
    "    data={\n",
    "        \"gene_id\": [\"G1\", \"G2\", \"G3\", \"G4\", \"G5\"],\n",
    "        \"expression_level\": [2.5, 1.8, 3.2, 2.0, 3.5],\n",
    "        \"treatment\": [\"Control\", \"TreatmentA\", \"TreatmentB\", \"Control\", \"TreatmentA\"],\n",
    "    }\n",
    ")\n",
    "print(df)"
   ]
  },
  {
   "cell_type": "markdown",
   "metadata": {},
   "source": [
    "## Acknowledgements\n",
    "\n",
    "This content was adapted from the following sources:\n",
    "\n",
    "-   [LearnDataSci](https://www.learndatasci.com/tutorials/python-pandas-tutorial-complete-introduction-for-beginners/)\n",
    "-   [Kaggle](https://www.kaggle.com/learn/pandas)\n",
    "-   [DataCamp](https://www.datacamp.com/tutorial/pandas)\n"
   ]
  }
 ],
 "metadata": {
  "kernelspec": {
   "display_name": "biosc1540-2024s-dev",
   "language": "python",
   "name": "python3"
  },
  "language_info": {
   "codemirror_mode": {
    "name": "ipython",
    "version": 3
   },
   "file_extension": ".py",
   "mimetype": "text/x-python",
   "name": "python",
   "nbconvert_exporter": "python",
   "pygments_lexer": "ipython3",
   "version": "3.11.7"
  }
 },
 "nbformat": 4,
 "nbformat_minor": 2
}
