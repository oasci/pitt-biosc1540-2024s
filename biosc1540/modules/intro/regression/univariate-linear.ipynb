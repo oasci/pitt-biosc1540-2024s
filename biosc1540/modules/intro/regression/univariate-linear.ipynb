{
 "cells": [
  {
   "cell_type": "markdown",
   "metadata": {},
   "source": [
    "# Univariate linear\n",
    "\n",
    "There are different types of regression models, with linear regression being the most common.\n",
    "In linear regression, the relationship between variables is assumed to be linear, meaning it can be represented by a straight line.\n",
    "The model estimates the coefficients of the line to best fit the data.\n",
    "Linear regression is widely used in various fields, including economics, finance, biology, and marketing, for modeling and analyzing the relationships between variables.\n",
    "\n",
    "The linear equation is of the form:\n",
    "\n",
    "$$\n",
    "y = \\beta_0 + \\beta_1 x_1 + \\beta_2 x_2 + \\ldots + \\beta_n x_n\n",
    "$$\n",
    "\n",
    "-   $y$ is the dependent variable (target),\n",
    "-   $\\beta_0$​ is the intercept (constant),\n",
    "-   $\\beta_1, \\beta_2, \\ldots, \\beta_n$​ are the coefficients associated with each feature $x_1, x_2, \\ldots, x_n$​​.\n"
   ]
  },
  {
   "cell_type": "markdown",
   "metadata": {},
   "source": [
    "## What does linear mean?\n",
    "\n",
    "Linear regression, despite its name, doesn't restrict us to modeling only straight-line relationships.\n",
    "The \"linear\" refers to linearity in the model parameters, specifically the weights (i.e., $\\beta_i$) assigned to each feature.\n",
    "Our model is a linear combination of the input features, where each feature is multiplied by a weight, and the sum of these products forms the predicted output.\n",
    "This linear relationship between the features and the target variable allows us to fit a model efficiently to our data.\n",
    "\n",
    "In other words, linear regression requires adding the contributions of each input feature.\n",
    "For example, $\\beta_0$ **+** $\\beta_1 x_1$ **+** $\\beta_2 x_2$ would be a valid linear model; while we have multiplication in each term, we still add each term together.\n",
    "$\\beta_0$ **+** $\\beta_1 x_1 x_2$, would also be a linear combination between we have a term with two inputs ($x_1$ and $x_2$) being multiplied.\n",
    "$\\beta_0$ **+** $\\beta_1 x_1^{2}$ **+** $\\beta_2 x_2^{2}$ would still be linear regression because we are adding our terms (i.e., feature combinations) together.\n",
    "\n",
    "So, when we talk about linear regression, we emphasize that we're finding the best linear combination of features, not necessarily restricting the relationship between the features and the target variable to a straight line.\n",
    "This clarification sets the foundation for understanding how linear regression can be extended to capture more complex relationships.\n",
    "\n",
    "<div class=\"admonition note\">\n",
    "    <p class=\"admonition-title\">Note</p>\n",
    "    <p style=\"padding-top: 1em\">\n",
    "        You may notice that we will switching between lower and uppercase variables like $X$ and $x$.\n",
    "        This is standard notation for linear algebra where an uppercase variable, $X$, is an array (i.e., matrix) and a lowercase variable, $x$, is a scalar (i.e., single value).\n",
    "    </p>\n",
    "</div>"
   ]
  },
  {
   "cell_type": "markdown",
   "metadata": {},
   "source": [
    "## Limitations\n",
    "\n",
    "Linear regression is a powerful and widely used statistical method for modeling the relationship between variables.\n",
    "However, like any modeling approach, it has its limitations.\n",
    "Here, we explore the constraints and considerations associated with linear regression.\n",
    "\n",
    "**Assumption of Linearity**\n",
    "\n",
    "Linear regression assumes a linear relationship between the independent and dependent variables. The model is designed to capture linear patterns, and deviations from linearity can lead to inaccurate predictions.\n",
    "\n",
    "**Sensitivity to Outliers**\n",
    "\n",
    "Linear regression is sensitive to outliers, which are extreme observations that can disproportionately influence the model. Outliers can skew coefficient estimates and compromise the accuracy of predictions.\n",
    "\n",
    "**Assumption of Independence**\n",
    "\n",
    "The independence of residuals is a critical assumption in linear regression. If residuals exhibit autocorrelation, where the values are not independent, it can violate the model's assumptions and impact the reliability of results.\n",
    "\n",
    "**Multicollinearity**\n",
    "\n",
    "Multicollinearity arises when independent variables are highly correlated, leading to instability in coefficient estimates. This phenomenon complicates the interpretation of individual variable impacts and poses challenges in identifying true predictors.\n",
    "\n",
    "**Assumption of Homoscedasticity**\n",
    "\n",
    "Homoscedasticity, or constant variance of residuals across different levels of the independent variable, is assumed in linear regression. Heteroscedasticity can introduce bias in standard errors and affect hypothesis testing.\n",
    "\n",
    "**Limited to Linear Relationships**\n",
    "\n",
    "Linear regression is limited to capturing linear relationships between variables. When faced with nonlinear patterns, the model may fail to accurately represent the underlying dynamics.\n",
    "\n",
    "**Influence of Scaling**\n",
    "\n",
    "The scale of variables can impact linear regression coefficients. Changes in variable scale can alter their perceived impact on the model, and comparisons between coefficients may lose meaning.\n",
    "\n",
    "**No Variable Selection**\n",
    "\n",
    "Linear regression includes all features in the model, irrespective of their relevance. Lack of automatic variable selection can lead to overfitting if irrelevant features are incorporated.\n",
    "\n",
    "**Not Robust to Violations of Assumptions**\n",
    "\n",
    "Violations of linear regression assumptions, such as nonlinearity or heteroscedasticity, can result in biased estimates and unreliable predictions. The model's performance is contingent on meeting these assumptions.\n",
    "\n",
    "**Correlation vs. Causation**\n",
    "\n",
    "While linear regression establishes correlations between variables, it does not imply causation. Associations observed may be coincidental or influenced by unobserved factors, necessitating caution in drawing causal inferences."
   ]
  },
  {
   "cell_type": "markdown",
   "metadata": {},
   "source": [
    "## Objective\n",
    "\n",
    "The goal of linear regression is to find the values of the coefficients that minimize the difference between the predicted values and the actual values in the training data. This is often done using a method called Ordinary Least Squares (OLS).\n",
    "Specifically, the objective function to be minimized is the sum of squared differences between the predicted values ($y_i$) and the actual values ($\\hat{y}$):\n",
    "\n",
    "$$\n",
    "\\text{minimize} \\sum \\left( y_i - \\hat{y}_i \\right)^{2}\n",
    "$$\n",
    "\n",
    "The accuracy of a linear regression model is typically measured using various statistical metrics that assess how well the model's predictions align with the actual values in the dataset.\n",
    "We often call this the **loss function**.\n",
    "\n",
    "![](https://images.squarespace-cdn.com/content/v1/5acbdd3a25bf024c12f4c8b4/1600368657769-5BJU5FK86VZ6UXZGRC1M/Mean+Squared+Error.png)\n",
    "\n",
    "Here are key points regarding the importance of loss functions in regression.\n",
    "\n",
    "1. **Quantifying Error:** Loss functions measure the error or deviation between predicted and actual values.\n",
    "2. **Optimization:** During a regression model's training, the goal is to find the set of parameters (coefficients) that minimize the chosen loss function.\n",
    "    This process is known as optimization.\n",
    "    The model learns to make predictions close to the actual outcomes by minimizing the loss.\n",
    "3. **Model Evaluation:** Loss functions are also used for evaluating the performance of a trained model on new, unseen data.\n",
    "    A lower loss indicates better model performance, implying that the model's predictions are closer to the true values.\n",
    "4. **Comparison of Models:** Different regression models or configurations can be compared based on their respective loss values.\n",
    "    Models with lower loss values are more effective in capturing the underlying patterns in the data.\n",
    "\n",
    "### Loss functions\n",
    "\n",
    "Here are some standard loss functions for evaluating the accuracy of a linear regression model:\n",
    "\n",
    "**Mean Squared Error (MSE)**\n",
    "\n",
    "MSE is one of the most widely used metrics for regression problems.\n",
    "It calculates the average squared difference between predicted and actual values.\n",
    "The formula is given by:\n",
    "\n",
    "$$\n",
    "\\text{MSE} = \\frac{1}{n} \\sum_{i=1}^{n} (y_i - \\hat{y}_i)^2\n",
    "$$\n",
    "\n",
    "Lower MSE values indicate better model performance.\n",
    "\n",
    "**Root Mean Squared Error (RMSE)**\n",
    "\n",
    "RMSE is the square root of the MSE and measures the average magnitude of the errors in the model's predictions.\n",
    "The formula is:\n",
    "\n",
    "$$\n",
    "\\text{RMSE} = \\sqrt{\\text{MSE}}\n",
    "$$\n",
    "\n",
    "Like MSE, lower RMSE values indicate better model accuracy.\n",
    "\n",
    "**Mean Absolute Error (MAE)**\n",
    "\n",
    "MAE is the average absolute difference between the predicted and actual values.\n",
    "It is less sensitive to outliers compared to MSE.\n",
    "The formula is:\n",
    "\n",
    "$$\n",
    "\\text{MAE} = \\frac{1}{n} \\sum_{i=1}^{n} |y_i - \\hat{y}_i|\n",
    "$$\n",
    "\n",
    "Lower MAE values indicate better model accuracy.\n",
    "\n",
    "**R-squared ($R^2$)**\n",
    "\n",
    "R-squared measures the proportion of the variance in the dependent variable that is explained by the independent variables in the model.\n",
    "It ranges from 0 to 1, where 1 indicates a perfect fit.\n",
    "The formula is:\n",
    "\n",
    "$$\n",
    "R^2 = 1 - \\frac{\\sum_{i=1}^{n} (y_i - \\hat{y}_i)^2}{\\sum_{i=1}^{n} (y_i - \\bar{y})^2}\n",
    "$$\n",
    "\n",
    "Higher $R^2$ values indicate better explanatory power of the model.\n",
    "\n",
    "\n",
    "**Percentage of Explained Variance**\n",
    "\n",
    "This metric quantifies the percentage of variance in the dependent variable that the model explains.\n",
    "It is calculated as \n",
    "\n",
    "$$\n",
    "\\text{Percentage of Explained Variance} = 100 \\times \\left(1 - \\frac{\\text{MSE}}{\\text{Var}(y)}\\right)\n",
    "$$\n",
    "\n",
    "\n",
    "The choice of metric depends on the specific goals of the analysis. For example, MSE and RMSE emphasize accurate prediction, while $R^2$ provides insight into the model's overall explanatory power.\n",
    "Practitioners often consider a combination of these metrics to evaluate the performance of a linear regression model comprehensively.\n"
   ]
  },
  {
   "cell_type": "markdown",
   "metadata": {},
   "source": [
    "## Our example\n",
    "\n",
    "The money spent on ads like TV, social media, and influencer marketing is considered the input, represented as $X_1$, $X_2$, $X_3$, etc.\n",
    "The sales, which are influenced by these ad budgets, are the output, $Y$.\n",
    "\n",
    "$$\n",
    "Y = \\beta_0 + \\sum_{i = 1} \\beta_i x_i\n",
    "$$\n",
    "\n",
    "Now we can determine these $\\beta$ coefficients.\n",
    "\n",
    "Instead of trying to find all parameters simultaneously, we will start with `Social_Media` and call this $x_1$.\n",
    "This makes our expression\n",
    "\n",
    "$$\n",
    "y = \\beta_0 + \\beta_1 x_1.\n",
    "$$\n",
    "\n",
    "Let's explore different ways to get $\\beta_0$ and $\\beta_1$."
   ]
  },
  {
   "cell_type": "markdown",
   "metadata": {},
   "source": [
    "## Google Sheets\n",
    "\n",
    "You probably have experience with regression in the domain of Excel or Google Sheets&mdash;called curve fitting.\n",
    "I made [and example](https://docs.google.com/spreadsheets/d/1BvsIj_HgAcCK348GSRJRdYBtpR0HE37tAi-MfmI0Tu0/edit?usp=sharing) of regression on Google Sheets.\n",
    "After adding a trend line, we get $\\beta_0 = 5932$ and $\\beta_1 = 2.42$; keep these values in mind as we proceed.\n",
    "You will eventually see how similar they are; only how we interact with the computer changes."
   ]
  },
  {
   "cell_type": "markdown",
   "metadata": {},
   "source": [
    "## DataFrame\n",
    "\n",
    "As we do in most exercises, we have to load our dataset into a pandas DataFrame."
   ]
  },
  {
   "cell_type": "code",
   "execution_count": 1,
   "metadata": {},
   "outputs": [
    {
     "name": "stdout",
     "output_type": "stream",
     "text": [
      "         TV  Billboards  Google_Ads  Social_Media  Influencer_Marketing  \\\n",
      "0    281.42      538.80      123.94        349.30                242.77   \n",
      "1    702.97      296.53      558.13        180.55                781.06   \n",
      "2    313.14      295.94      642.96        505.71                438.91   \n",
      "3    898.52       61.27      548.73        240.93                278.96   \n",
      "4    766.52      550.72      651.91        666.33                396.33   \n",
      "..      ...         ...         ...           ...                   ...   \n",
      "395  873.32      234.67      563.21        401.88                789.44   \n",
      "396  421.88      449.22      564.77        334.88                689.77   \n",
      "397  599.22      789.88      831.32        450.88                398.44   \n",
      "398  784.33      500.67      958.88        635.22                786.44   \n",
      "399  290.67      321.88      640.56        765.22                409.77   \n",
      "\n",
      "     Affiliate_Marketing  Product_Sold  \n",
      "0                 910.10        7164.0  \n",
      "1                 132.43        5055.0  \n",
      "2                 464.23        6154.0  \n",
      "3                 432.27        5480.0  \n",
      "4                 841.93        9669.0  \n",
      "..                   ...           ...  \n",
      "395               683.67        8023.0  \n",
      "396               710.45        7334.0  \n",
      "397               561.89        8721.0  \n",
      "398               462.11        9311.0  \n",
      "399               688.45        6211.0  \n",
      "\n",
      "[400 rows x 7 columns]\n"
     ]
    }
   ],
   "source": [
    "import pandas as pd\n",
    "\n",
    "# Specify where to find our CSV file.\n",
    "CSV_PATH = \"https://gitlab.com/oasci/courses/pitt/biosc1540-2024s/-/raw/main/biosc1540/files/csv/advertising-data.csv\"\n",
    "\n",
    "# Load a print the DataFrame\n",
    "df_adv = pd.read_csv(CSV_PATH)\n",
    "print(df_adv)"
   ]
  },
  {
   "cell_type": "markdown",
   "metadata": {},
   "source": [
    "A pandas DataFrame is mostly just an interface to our actual data stored in NumPy arrays.\n",
    "Most scientific Python packages require the data presented to them in this format.\n",
    "Although, some allow you to pass a DataFrame into a function or method; it will just automate getting the NumPy arrays for you.\n",
    "\n",
    "In our case, let's manually get our relevant data into NumPy arrays.\n",
    "Pandas has a method called [`to_numpy()`](https://pandas.pydata.org/pandas-docs/stable/reference/api/pandas.Series.to_numpy.html) that takes one or multiple Series and converts the values to a NumPy array.\n",
    "Since we are only working with `Social_Media` and `Product_Sold`, we need to slice, convert to an array, and then store this into variables."
   ]
  },
  {
   "cell_type": "code",
   "execution_count": 2,
   "metadata": {},
   "outputs": [],
   "source": [
    "import numpy as np\n",
    "\n",
    "cost_social_media = df_adv[\"Social_Media\"].to_numpy()\n",
    "product_sold = df_adv[\"Product_Sold\"].to_numpy()"
   ]
  },
  {
   "cell_type": "markdown",
   "metadata": {},
   "source": [
    "Let's make sure this worked correctly by printing the shape and the first `10` elements."
   ]
  },
  {
   "cell_type": "code",
   "execution_count": 3,
   "metadata": {},
   "outputs": [
    {
     "name": "stdout",
     "output_type": "stream",
     "text": [
      "(400,)\n",
      "[349.3  180.55 505.71 240.93 666.33 142.96 271.62  97.85 759.04 329.15]\n"
     ]
    }
   ],
   "source": [
    "print(cost_social_media.shape)\n",
    "print(cost_social_media[:10])"
   ]
  },
  {
   "cell_type": "code",
   "execution_count": 4,
   "metadata": {},
   "outputs": [
    {
     "name": "stdout",
     "output_type": "stream",
     "text": [
      "(400,)\n",
      "[7164. 5055. 6154. 5480. 9669. 7627. 5177. 3726. 9801. 8652.]\n"
     ]
    }
   ],
   "source": [
    "print(product_sold.shape)\n",
    "print(product_sold[:10])"
   ]
  },
  {
   "cell_type": "markdown",
   "metadata": {},
   "source": [
    "Great!\n",
    "We that we have our data, we can start fitting functions."
   ]
  },
  {
   "cell_type": "markdown",
   "metadata": {},
   "source": [
    "## SciPy\n",
    "\n",
    "[SciPy](https://scipy.org/) is an open-source library in Python used for scientific and technical computing.\n",
    "It builds on the capabilities of [NumPy](https://numpy.org/).\n",
    "It provides additional modules for optimization, signal and image processing, statistical functions, linear algebra, integration, interpolation, and more.\n",
    "Physics, engineering, biology, and data science all widely use SciPy.\n",
    "\n",
    "SciPy can handle the vast majority of analyses you would want.\n",
    "It offers an excellent conceptual foundation about what is going on in high-level packages like [sklearn](#sklearn) that we will primarily use in the course."
   ]
  },
  {
   "cell_type": "markdown",
   "metadata": {},
   "source": [
    "### Model\n",
    "\n",
    "The first step for regression is defining the equation or model to fit our data to.\n",
    "In our case, we defined this above as \n",
    "\n",
    "$$\n",
    "y = \\beta_0 + \\beta_1 x_1.\n",
    "$$\n",
    "\n",
    "You may be wondering how, or even why, we are using this model.\n",
    "Especially when you are not being told which model to use.\n",
    "The answer is that you can usually never know *a priori* (i.e., before looking at the data) what model to use.\n",
    "In real-world problems, most of it is by mathematical intuition where, based on prior knowledge or work, we expect the relationship to behave a certain way.\n",
    "You can also look at the data like we did previously to check for similarities between known mathematical representations.\n",
    "\n",
    "In order to optimize an equation in Python, we have to define a function that takes in inputs then computes and return the outputs.\n",
    "This is just like defining an equation in Google Sheets: `= $B$0 + $B$1 + $A1` would perform our computation for us using cell references to the parameters in column `B` and input in column `A`.\n",
    "In Python, the only difference is that we need to give it a name and follow it's unique syntax.\n",
    "\n",
    "The `linear_model` function, defined in the upcoming code block, represents a generic linear expression with parameters `betas` and inputs `x`."
   ]
  },
  {
   "cell_type": "code",
   "execution_count": 5,
   "metadata": {},
   "outputs": [],
   "source": [
    "def linear_model(betas, x):\n",
    "    \"\"\"Generic linear expression. We will use generic `x` and `y` to show that\n",
    "    this is generalized to any linear problem.\n",
    "\n",
    "    Args:\n",
    "        betas (Iterable[float]): A collection of parameters we can change;\n",
    "            for example, `[beta_0, beta_1]`.\n",
    "        x (float or np.ndarray[float]): The independent variable; in this case,\n",
    "            this should contain `social_media`.\n",
    "\n",
    "    Returns:\n",
    "        The dependent variable; in this case, `product_sold`.\n",
    "    \"\"\"\n",
    "    beta_0, beta_1 = betas  # unpack the list\n",
    "    y = beta_0 + beta_1 * x  # compute the linear expression\n",
    "    return y"
   ]
  },
  {
   "cell_type": "markdown",
   "metadata": {},
   "source": [
    "The `linear_model` function takes two parameters: `betas` and `x`.\n",
    "\n",
    "-   `betas`: This parameter is a sequence (e.g., list or array) containing the coefficients of the linear model.\n",
    "    In a simple linear regression model, `betas` typically have two elements, representing the intercept (`beta_0`) and the slope (`beta_1`).\n",
    "- `x`: This parameter represents the input values for which the function will compute the corresponding output.\n",
    "\n",
    "<div class=\"admonition note\">\n",
    "    <p class=\"admonition-title\">Note</p>\n",
    "    <p style=\"padding-top: 1em\">\n",
    "        You may notice that we say <code>x</code> can be either a <code>float</code> or <code>np.ndarray[float]</code>.\n",
    "        This is not a mistake.\n",
    "        Because of the way NumPy is designed, if you write your code correctly your function will work for both cases.\n",
    "    </p>\n",
    "</div>\n",
    "\n",
    "Inside the function:\n",
    "\n",
    "1. The coefficients are unpacked from `betas` into individual variables (`beta_0` and `beta_1`).\n",
    "2. The linear expression $y = \\beta_0 + \\beta_1 x$ is computed.\n",
    "    This equation represents a straight line where `beta_0` is the intercept, `beta_1` is the slope, and `x` is the input variable.\n",
    "3. The computed `y' is returned as the function's output.\n",
    "\n",
    "By defining the linear model in this way, you create a flexible and reusable function that can handle various linear models with different numbers of coefficients.\n",
    "This abstraction is advantageous when optimizing or fitting the model to data, as it allows you to use the same function with varying sets of parameters, making it adaptable to a wide range of scenarios in regression analysis.\n",
    "\n",
    "\n",
    "**Why is it `linear_model(betas, x)` and not `linear_model(beta_0, beta_1, x)`?**\n",
    "\n",
    "> The choice of `(betas, x)` in the function signature `linear_model(betas, x)` is a deliberate design decision for enhanced flexibility and generality.\n",
    ">\n",
    "> The function becomes more versatile by using a single parameter, `betas`, instead of individually specifying `beta_0` and `beta_1`.\n",
    "> It can accommodate a variable number of parameters.\n",
    "> The `betas` parameter is expected to be a sequence (e.g., a list or array) containing all the linear model coefficients.\n",
    "> In the case of a simple linear regression model (as in your example), `betas` would represent `beta_0` and `beta_1`.\n",
    "> However, this design allows the model extension to include additional coefficients without modifying the function signature.\n",
    "> Whether dealing with a simple or more complex linear model, this approach enhances the reusability of the `linear_model` function, aligning with clean and extensible code principles."
   ]
  },
  {
   "cell_type": "markdown",
   "metadata": {},
   "source": [
    "### Loss\n",
    "\n",
    "For this example, we will use the mean squared error (MSE) as it is commonly used and robust for regression.\n",
    "\n",
    "$$\n",
    "\\text{MSE} = \\frac{1}{n} \\sum_{i=1}^{n} (y_i - \\hat{y}_i)^2\n",
    "$$\n",
    "\n",
    "-   $n$ is the number of observations or data points.\n",
    "-   $y_i$ represents the actual or observed value for the $i$-th data point.\n",
    "-   $\\hat{y}_i$ represents the predicted value for the $i$-th data point.\n",
    "-   The summation $\\sum_{i=1}^{n}$ is taken over all data points.\n",
    "-   The squared difference $(y_i - \\hat{y}_i)^2$ is calculated for each data point.\n",
    "-   The overall MSE is the average of these squared differences.\n"
   ]
  },
  {
   "cell_type": "code",
   "execution_count": 6,
   "metadata": {},
   "outputs": [],
   "source": [
    "def mse(betas, x_data, y_data):\n",
    "    \"\"\"Compute mean squared error of a linear model.\n",
    "\n",
    "    Args:\n",
    "        betas (Iterable[float]): A list of parameters we can change; for example, `[beta_0, beta_1]`.\n",
    "        x_data (np.ndarray[float]): An array of known x values.\n",
    "        y_data (np.ndarray[float]): An array of known y values.\n",
    "\n",
    "    Returns:\n",
    "        float: The mean squared error of the linear model.\n",
    "    \"\"\"\n",
    "    # Compute y predictions using `linear_model`.\n",
    "    y_pred = linear_model(betas, x_data)\n",
    "\n",
    "    # Square and average errors\n",
    "    errors = y_pred - y_data\n",
    "    squared_errors = errors**2\n",
    "    mse = squared_errors.mean()\n",
    "    return mse"
   ]
  },
  {
   "cell_type": "markdown",
   "metadata": {},
   "source": [
    "Here is what is going on inside the function:\n",
    "\n",
    "1. The coefficients (`beta_0` and `beta_1`) are unpacked from `betas`.\n",
    "2. The linear model predictions (`y_pred`) are computed using the provided input data (`x_data`).\n",
    "3. The squared errors between the predicted and actual values (`y_data`) are calculated.\n",
    "4. The mean squared error (MSE) is computed by averaging the squared errors.\n",
    "5. The computed MSE is returned as the output of the function.\n"
   ]
  },
  {
   "cell_type": "markdown",
   "metadata": {},
   "source": [
    "### Initial parameters\n",
    "\n",
    "In many cases, we often need to provide starting parameters to the optimization functions.\n",
    "Optimization is inherently an iterative process, meaning we try some parameters, see how we should change them, change them, and try again.\n",
    "\n",
    "Some packages, like [sklearn](#sklearn), give reasonable default values; however, there are several reasons why you would want to provide tailored initial parameters.\n",
    "\n",
    "-   **Starting Point for Optimization**<br>\n",
    "    Optimization algorithms typically work iteratively, adjusting the parameters in each iteration to minimize the objective function.\n",
    "    The initial parameters provide the starting point for this iterative process.\n",
    "    The algorithm explores the parameter space around these initial values to find the minimum of the objective function.\n",
    "-   **Local Minimum vs. Global Minimum**<br>\n",
    "    Multiple local minima may exist depending on the shape of the objective function's surface (or landscape).\n",
    "    The optimization algorithm seeks to find the global minimum, representing the overall lowest value of the objective function.\n",
    "    The choice of initial parameters can influence whether the algorithm converges to a local or global minimum.\n",
    "-   **Convergence Behavior**<br>\n",
    "    The behavior of the optimization algorithm during convergence can be sensitive to the initial parameters.\n",
    "    The algorithm might converge to different solutions based on where it starts in the parameter space.\n",
    "    Properly chosen initial parameters can help the algorithm converge quickly and reliably to a good solution.\n",
    "-   **Numerical Stability**<br>\n",
    "    Some optimization algorithms involve numerical computations that may not be stable or well-behaved for certain parameter values.\n",
    "    Choosing reasonable initial parameters can contribute to numerical stability during the optimization process.\n",
    "-   **Domain Knowledge**<br>\n",
    "    In some cases, domain knowledge or prior information about the problem can guide the selection of initial parameters.\n",
    "    For example, if you have an educated guess about the likely range of values for certain parameters, using that information as initial values can expedite the optimization.\n",
    "-   **Avoiding Convergence to Undesirable Solutions**<br>\n",
    "    In situations where the objective function has multiple minima, setting initial parameters far from the desired solution may help avoid convergence to undesirable solutions.\n",
    "    It can guide the optimization process toward regions of the parameter space that are more likely to lead to a good solution.\n",
    "\n",
    "In simple problems, using `1` for everything does not typically change the final results.\n",
    "Some extra thought and care are needed for more complicated cases; for example, the initial wave function plays a massive role in the final results of my quantum chemistry calculations."
   ]
  },
  {
   "cell_type": "markdown",
   "metadata": {},
   "source": [
    "Let's walk through how we could approach initial guesses for our parameters.\n",
    "\n",
    "First, `beta_0` is our y-intercept, which can make it hard to guess automatically without holding up a piece of paper to your monitor and guessing.\n",
    "Instead, the lowest value of the `y` can get us around the correct answer.\n",
    "The final value will undoubtedly change; however, the optimization algorithm will handle that.\n"
   ]
  },
  {
   "cell_type": "code",
   "execution_count": 7,
   "metadata": {},
   "outputs": [
    {
     "name": "stdout",
     "output_type": "stream",
     "text": [
      "beta_0 guess: 2259.00\n"
     ]
    }
   ],
   "source": [
    "beta_0_guess = np.min(product_sold)\n",
    "print(f\"beta_0 guess: {beta_0_guess:.2f}\")"
   ]
  },
  {
   "cell_type": "markdown",
   "metadata": {},
   "source": [
    "For `beta_1`, we can roughly approximate the slope of the data by computing.\n",
    "\n",
    "$$\n",
    "\\beta_1 \\approx \\frac{\\Delta y}{\\Delta x}.\n",
    "$$\n",
    "\n",
    "In other words, the ratio of `y` maximum change (rise) and `x` maximum change (run).\n",
    "This ratio estimates the slope of the linear relationship between the two variables.\n",
    "This approach is reasonable, especially if you want the initial guess for the slope to capture the overall trend in the data."
   ]
  },
  {
   "cell_type": "code",
   "execution_count": 8,
   "metadata": {},
   "outputs": [
    {
     "name": "stdout",
     "output_type": "stream",
     "text": [
      "beta_1 guess: 10.13\n"
     ]
    }
   ],
   "source": [
    "y_delta = np.max(product_sold) - np.min(product_sold)\n",
    "x_delta = np.max(cost_social_media) - np.min(cost_social_media)\n",
    "beta_1_guess = y_delta / x_delta\n",
    "\n",
    "print(f\"beta_1 guess: {beta_1_guess:.2f}\")"
   ]
  },
  {
   "cell_type": "markdown",
   "metadata": {},
   "source": [
    "### Optimization\n",
    "\n",
    "The optimization process aims to find the values of parameters (coefficients) for the linear model that minimizes the MSE.\n",
    "\n",
    "-   **Objective Function**<br>\n",
    "    The [`scipy.optimize.minimize`](https://docs.scipy.org/doc/scipy/reference/generated/scipy.optimize.minimize.html) function requires an objective function to minimize.\n",
    "    In this case, the objective is to minimize the mean squared error, so the `mse` function is used as the objective function.\n",
    "-   **Optimization Algorithm**<br>\n",
    "    The minimize function uses an optimization algorithm (specified by the method parameter) to adjust the parameters to minimize the objective function iteratively.\n",
    "    The BFGS algorithm is a popular choice for unconstrained optimization.\n",
    "-   **Parameter Update**<br>\n",
    "    The optimization algorithm iteratively updates the parameters by considering the gradient of the objective function.\n",
    "    This process continues until convergence is achieved or a maximum number of iterations is reached.\n",
    "-   **Convergence**<br>\n",
    "    The optimization process stops when the algorithm converges to a set of parameters that approximately minimize the mean squared error.\n",
    "-   **Result**<br>\n",
    "    The result object contains information about the optimization, including the optimized parameters (`res.x`).\n",
    "    These parameters represent the linear model coefficients that best fit the given data.\n",
    "\n",
    "By using the mean squared error as the objective function, the optimization aims to find the parameters that result in the smallest average squared difference between the predicted and actual values, leading to an improved linear model for the given dataset.\n",
    "\n",
    "Be sure to check the [`scipy.optimize.minimize` documentation](https://docs.scipy.org/doc/scipy/reference/generated/scipy.optimize.minimize.html) for how it works!\n",
    "\n",
    "Now, let's find our parameters!"
   ]
  },
  {
   "cell_type": "code",
   "execution_count": 9,
   "metadata": {},
   "outputs": [
    {
     "name": "stdout",
     "output_type": "stream",
     "text": [
      "beta_0 = 5932.468\n",
      "beta_1 =    2.418\n"
     ]
    }
   ],
   "source": [
    "from scipy.optimize import minimize\n",
    "\n",
    "\n",
    "betas_guess = [beta_0_guess, beta_1_guess]\n",
    "res = minimize(mse, betas_guess, (cost_social_media, product_sold))\n",
    "betas_scipy = res.x\n",
    "\n",
    "\n",
    "print(f\"beta_0 = {betas_scipy[0]:.3f}\")\n",
    "print(f\"beta_1 =    {betas_scipy[1]:.3f}\")"
   ]
  },
  {
   "cell_type": "markdown",
   "metadata": {},
   "source": [
    "$\\beta_0$​ represents the intercept of the linear model.\n",
    "In this context, the optimized value of $\\beta_0 = 5932.468$ implies that when the social media advertising cost ($x$) is zero, the model predicts that the number of products sold ($y$) would be approximately 5932.468. This intercept value provides a baseline estimate for the number of products sold when no cost is associated with social media advertising.\n",
    "\n",
    "$\\beta_1$ is the slope of the linear model, indicating the rate of change in the predicted number of products sold for a one-unit change in social media advertising cost.\n",
    "In this case, the optimized value of $\\beta_0 = 2.418$ suggests that, on average, the predicted number of products sold increases by approximately 2.418 units for each additional unit increase in social media advertising cost.\n",
    "This slope reflects the estimated impact of social media advertising cost on product sales according to the optimized linear model.\n",
    "\n",
    "This results in the following model.\n",
    "\n",
    "$$\n",
    "y = 5932.463 + 2.418 x_1\n",
    "$$"
   ]
  },
  {
   "cell_type": "markdown",
   "metadata": {},
   "source": [
    "We can also see the optimization process evolved by keeping track of the parameters that SciPy tried using a `callback` function.\n",
    "This following code is not web friendly, so I rendered this animation using the code below and saved as a gif.\n",
    "\n",
    "![](https://gitlab.com/oasci/courses/pitt/biosc1540-2024s/-/raw/main/biosc1540/files/gallery/scipy-opt-sales.gif)\n",
    "\n",
    "<details><summary>Code</summary>\n",
    "\n",
    "```python\n",
    "import matplotlib.pyplot as plt\n",
    "from matplotlib.animation import FuncAnimation\n",
    "\n",
    "parameter_history = []\n",
    "def callback(x):\n",
    "    parameter_history.append(x)\n",
    "\n",
    "betas_guess = [beta_0_guess, beta_1_guess]\n",
    "res = minimize(mse, betas_guess, (cost_social_media, product_sold), callback=callback)\n",
    "\n",
    "betas_scipy = res.x\n",
    "parameter_history = np.array(parameter_history)\n",
    "\n",
    "def update_plot(frame_index):\n",
    "    global current_params\n",
    "    current_params = parameter_history[frame_index]\n",
    "\n",
    "    # Plot the current fit\n",
    "    plt.clf()\n",
    "    plt.scatter(cost_social_media, product_sold, color=\"grey\", alpha=0.2, label=\"Data\")\n",
    "    plt.plot(\n",
    "        cost_social_media,\n",
    "        model_sklearn(cost_social_media, current_params[0], current_params[1]),\n",
    "        color=\"#025099\",\n",
    "        linestyle=\"-\",\n",
    "        marker=\"\",\n",
    "        linewidth=2.5,\n",
    "        label=\"Fit\"\n",
    "    )\n",
    "    plt.title(f'Iteration {frame_index + 1}')\n",
    "    plt.xlabel('Cost of Social Media')\n",
    "    plt.ylabel('Number of Products Sold')\n",
    "    plt.legend()\n",
    "\n",
    "fig, ax = plt.subplots()\n",
    "animation = FuncAnimation(\n",
    "    fig, update_plot, frames=range(parameter_history.shape[0]), interval=500, repeat=True\n",
    ")\n",
    "animation.save('../../../files/gallery/scipy-opt-sales.gif')\n",
    "```\n",
    "</details>"
   ]
  },
  {
   "cell_type": "markdown",
   "metadata": {},
   "source": [
    "#### Optimization algorithm\n",
    "\n",
    "<div class=\"admonition warning\">\n",
    "    <p class=\"admonition-title\">Warning</p>\n",
    "    <p style=\"padding-top: 1em\">\n",
    "        This section is just for completeness; you do not need to know this for the course.\n",
    "    </p>\n",
    "</div>\n",
    "\n",
    "The BFGS (Broyden-Fletcher-Goldfarb-Shanno) optimization algorithm is an iterative optimization algorithm used for unconstrained nonlinear optimization problems. It belongs to the family of quasi-Newton methods, which are iterative numerical optimization techniques for finding local minima or maxima of a differentiable scalar function.\n",
    "\n",
    "Here's an overview of how the BFGS optimization algorithm works:\n",
    "\n",
    "1.  **Initialization:** Start with an initial guess for the optimal solution.\n",
    "2.  **Objective Function and Gradient:** Evaluate the objective function (the function to be minimized) and its gradient (partial derivatives with respect to each variable) at the current solution.\n",
    "3.  **Update Rule:** Update the approximation of the inverse Hessian matrix, which is a crucial component in the BFGS method. The Hessian matrix represents the second-order partial derivatives of the objective function.\n",
    "4.  **Search Direction:** Use the updated inverse Hessian matrix to determine the search direction for the next iteration. This step involves finding the direction that minimizes the quadratic approximation of the objective function.\n",
    "5.  **Line Search:** Perform a line search along the chosen search direction to find an optimal step size that minimizes the objective function along that direction.\n",
    "6.  **Update Solution:** Update the solution by taking a step in the determined search direction with the optimal step size.\n",
    "7.  **Convergence Check:** Check for convergence by examining whether the change in the objective function and the change in the solution are sufficiently small. If convergence criteria are met, the algorithm terminates.\n",
    "8.  **Iteration:**  Repeat steps 2-7 until the convergence criteria are satisfied.\n",
    "\n",
    "The key feature of BFGS is its ability to approximate the inverse Hessian matrix without explicitly computing it.\n",
    "This is achieved through iterative updates that maintain an approximation of the inverse Hessian matrix.\n",
    "The BFGS algorithm is known for its efficiency in terms of convergence speed and is widely used for solving smooth, unconstrained optimization problems."
   ]
  },
  {
   "cell_type": "markdown",
   "metadata": {},
   "source": [
    "### Analysis\n",
    "\n",
    "We can investigate the performance of the optimization by computing the MSE of the final parameters."
   ]
  },
  {
   "cell_type": "code",
   "execution_count": 10,
   "metadata": {},
   "outputs": [
    {
     "name": "stdout",
     "output_type": "stream",
     "text": [
      "2280263.4052061457\n"
     ]
    }
   ],
   "source": [
    "mse_scipy = mse(betas_scipy, cost_social_media, product_sold)\n",
    "print(mse_scipy)"
   ]
  },
  {
   "cell_type": "markdown",
   "metadata": {},
   "source": [
    "Woah that is a pretty large MSE!\n",
    "Before we try to find anything wrong, let's first check whether our optimization makes sense.\n",
    "\n",
    "We leverage Matplotlib to create a scatter plot depicting the relationship between social media advertising costs (`cost_social_media`) and the corresponding product sales (`product_sold`).\n",
    "The scatter plot is enhanced by superimposing a fitted linear model obtained through the optimization process using `scipy.optimize.minimize`.\n",
    "The `model_scipy` function defines the linear model, which utilizes the optimized coefficients (`betas_scipy`).\n",
    "The resulting plot illustrates the observed data points in grey with reduced opacity for clarity.\n",
    "At the same time, a solid blue line depicts the optimized linear model.\n"
   ]
  },
  {
   "cell_type": "code",
   "execution_count": 11,
   "metadata": {},
   "outputs": [
    {
     "data": {
      "image/png": "[encoded data removed]",
      "text/plain": [
       "<Figure size 640x480 with 1 Axes>"
      ]
     },
     "metadata": {},
     "output_type": "display_data"
    }
   ],
   "source": [
    "import matplotlib.pyplot as plt\n",
    "\n",
    "\n",
    "def model_scipy(x):\n",
    "    beta_0, beta_1 = betas_scipy\n",
    "    return beta_0 + beta_1 * x\n",
    "\n",
    "\n",
    "fix, ax = plt.subplots()\n",
    "ax.scatter(cost_social_media, product_sold, color=\"grey\", alpha=0.2, label=\"Data\")\n",
    "ax.plot(\n",
    "    cost_social_media,\n",
    "    model_scipy(cost_social_media),\n",
    "    color=\"#025099\",\n",
    "    linewidth=2.5,\n",
    "    linestyle=\"-\",\n",
    "    marker=\"\",\n",
    "    label=\"Fit\",\n",
    ")\n",
    "\n",
    "ax.set_xlabel(\"cost_social_media\")\n",
    "ax.set_ylabel(\"product_sold\")\n",
    "plt.legend()\n",
    "\n",
    "plt.show()"
   ]
  },
  {
   "cell_type": "markdown",
   "metadata": {},
   "source": [
    "Looking at this again, the large MSE makes sense because we have many values far from the linear model.\n",
    "But our intuition sees that this model fits the data's **overall trend**.\n",
    "We could try to use some crazy nonlinear model with many parameters to reduce the MSE; however, our model would look more like a game of connecting the dots and lose all interoperability.\n",
    "The point I am trying to make is that the absolute value of MSE (`2280263.4052061457`) does not matter in this case, just that it is the lowest possible with our model."
   ]
  },
  {
   "cell_type": "markdown",
   "metadata": {},
   "source": [
    "## sklearn\n",
    "\n",
    "In this section, we explore an alternative approach to linear regression using the sklearn library.\n",
    "\n",
    "Specifically, we employ the `LinearRegression` class to fit a model to our advertising data, relating social media advertising costs (`cost_social_media`) to product sales (`product_sold`).\n",
    "Unlike the previous section, which utilized the `scipy.optimize.minimize` function for optimization, sklearn provides a streamlined interface for linear regression.\n",
    "We'll use the `LinearRegression` class to handle the optimization process automatically and obtain optimal coefficients for our linear model."
   ]
  },
  {
   "cell_type": "markdown",
   "metadata": {},
   "source": [
    "### Reshaping arrays\n",
    "\n",
    "The `LinearRegression` class in sklearn expects the input features (`X`) to be a 2D array for a couple of reasons related to its design and functionality:\n",
    "\n",
    "-   The `LinearRegression` class is designed to handle multiple features simultaneously.\n",
    "    When you provide a single feature, sklearn expects it to be represented as a 2D array with one column.\n",
    "    This design allows the same class to seamlessly handle cases with multiple features, where each feature corresponds to a different column in the 2D array.\n",
    "-   Sklearn follows a consistent API design, and many of its algorithms, including LinearRegression, are designed to work with 2D arrays or matrices as input features.\n",
    "    This design choice simplifies the use of various sklearn tools and functionalities that are built around the assumption of 2D input arrays.\n",
    "\n",
    "The `reshape(-1, 1)` operation converts a 1D array into a 2D array with a single column."
   ]
  },
  {
   "cell_type": "code",
   "execution_count": 12,
   "metadata": {},
   "outputs": [
    {
     "name": "stdout",
     "output_type": "stream",
     "text": [
      "Old shape\n",
      "(400,)\n",
      "[7164. 5055. 6154. 5480. 9669. 7627. 5177. 3726. 9801. 8652.]\n",
      "\n",
      "New shape\n",
      "(400, 1)\n",
      "[[7164.]\n",
      " [5055.]\n",
      " [6154.]\n",
      " [5480.]\n",
      " [9669.]\n",
      " [7627.]\n",
      " [5177.]\n",
      " [3726.]\n",
      " [9801.]\n",
      " [8652.]]\n"
     ]
    }
   ],
   "source": [
    "cost_social_media_sklearn = cost_social_media.reshape(-1, 1)\n",
    "product_sold_sklearn = product_sold.reshape(-1, 1)\n",
    "\n",
    "print(\"Old shape\")\n",
    "print(product_sold.shape)\n",
    "print(product_sold[:10])\n",
    "\n",
    "print(\"\\nNew shape\")\n",
    "print(product_sold_sklearn.shape)\n",
    "print(product_sold_sklearn[:10])"
   ]
  },
  {
   "cell_type": "markdown",
   "metadata": {},
   "source": [
    "### Running"
   ]
  },
  {
   "cell_type": "code",
   "execution_count": 13,
   "metadata": {},
   "outputs": [],
   "source": [
    "from sklearn.linear_model import LinearRegression"
   ]
  },
  {
   "cell_type": "code",
   "execution_count": 14,
   "metadata": {},
   "outputs": [
    {
     "name": "stdout",
     "output_type": "stream",
     "text": [
      "beta_0 = 5932.473\n",
      "beta_1 =    2.418\n"
     ]
    }
   ],
   "source": [
    "model = LinearRegression()\n",
    "\n",
    "model.fit(X=cost_social_media_sklearn, y=product_sold_sklearn)\n",
    "betas_sklearn = [model.intercept_[0], model.coef_[0][0]]\n",
    "\n",
    "print(f\"beta_0 = {betas_sklearn[0]:.3f}\")\n",
    "print(f\"beta_1 =    {betas_sklearn[1]:.3f}\")"
   ]
  },
  {
   "cell_type": "markdown",
   "metadata": {},
   "source": [
    "### Analysis\n"
   ]
  },
  {
   "cell_type": "code",
   "execution_count": 15,
   "metadata": {},
   "outputs": [
    {
     "name": "stdout",
     "output_type": "stream",
     "text": [
      "-5.9050507843494415e-06\n"
     ]
    }
   ],
   "source": [
    "mse_sklearn = mse(betas_sklearn, cost_social_media, product_sold)\n",
    "print(mse_sklearn - mse_scipy)"
   ]
  },
  {
   "cell_type": "markdown",
   "metadata": {},
   "source": [
    "We see our SciPy implementation and sklearn has negligible difference.\n",
    "\n",
    "How accurate is this though?\n",
    "sklearn provides us a [`score`](https://scikit-learn.org/stable/modules/generated/sklearn.linear_model.LinearRegression.html#sklearn.linear_model.LinearRegression.score) method that will provide the $R^2$ value.\n",
    "Let's see what our model is."
   ]
  },
  {
   "cell_type": "code",
   "execution_count": 16,
   "metadata": {},
   "outputs": [
    {
     "name": "stdout",
     "output_type": "stream",
     "text": [
      "0.1539407733628292\n"
     ]
    }
   ],
   "source": [
    "print(model.score(X=cost_social_media_sklearn, y=product_sold_sklearn))"
   ]
  },
  {
   "cell_type": "markdown",
   "metadata": {},
   "source": [
    "Yikes, that is not great.\n",
    "However, remember that we are predicting `product_sold` from just the `social_media` data.\n",
    "It has an impact, but it does not completely determine the value of `product_sold`."
   ]
  },
  {
   "cell_type": "markdown",
   "metadata": {},
   "source": [
    "We can also visualize our model using matplotlib."
   ]
  },
  {
   "cell_type": "code",
   "execution_count": 17,
   "metadata": {},
   "outputs": [
    {
     "data": {
      "text/plain": [
       "Text(0, 0.5, 'product_sold')"
      ]
     },
     "execution_count": 17,
     "metadata": {},
     "output_type": "execute_result"
    },
    {
     "data": {
      "image/png": "[encoded data removed]",
      "text/plain": [
       "<Figure size 640x480 with 1 Axes>"
      ]
     },
     "metadata": {},
     "output_type": "display_data"
    }
   ],
   "source": [
    "def model_sklearn(x, beta_0, beta_1):\n",
    "    return beta_0 + beta_1 * x\n",
    "\n",
    "\n",
    "fix, ax = plt.subplots()\n",
    "ax.scatter(cost_social_media, product_sold, color=\"grey\", alpha=0.2)\n",
    "ax.plot(\n",
    "    cost_social_media,\n",
    "    model_sklearn(cost_social_media, betas_sklearn[0], betas_sklearn[1]),\n",
    "    color=\"#025099\",\n",
    "    linewidth=2.5,\n",
    ")\n",
    "\n",
    "ax.set_xlabel(\"cost_social_media\")\n",
    "ax.set_ylabel(\"product_sold\")"
   ]
  },
  {
   "cell_type": "markdown",
   "metadata": {},
   "source": [
    "We can also visualize how the loss function changes with respect to the intercept and slope.\n",
    "We create a range of parameters, compute the loss function, and then plot [contours](https://matplotlib.org/stable/api/_as_gen/matplotlib.axes.Axes.contourf.html#matplotlib.axes.Axes.contourf)."
   ]
  },
  {
   "cell_type": "code",
   "execution_count": 18,
   "metadata": {
    "tags": [
     "hide_code"
    ]
   },
   "outputs": [],
   "source": [
    "from sklearn.metrics import mean_squared_error\n",
    "\n",
    "model = LinearRegression()\n",
    "\n",
    "X = cost_social_media_sklearn\n",
    "y = product_sold_sklearn\n",
    "\n",
    "model.fit(X=X, y=y)\n",
    "\n",
    "beta_0_values = np.linspace(model.intercept_[0] * 0.5, model.intercept_[0] * 1.5, 300)\n",
    "beta_1_values = np.linspace(model.coef_[0][0] * 0.5, model.coef_[0][0] * 1.5, 300)\n",
    "\n",
    "# Initialize arrays to store results\n",
    "mse_values = np.zeros((len(beta_0_values), len(beta_1_values)))\n",
    "\n",
    "# Loop through each combination of beta_0 and beta_1\n",
    "for i, beta_0 in enumerate(beta_0_values):\n",
    "    for j, beta_1 in enumerate(beta_1_values):\n",
    "        # Fit the model\n",
    "        model.intercept_ = np.array([beta_0])  # Set beta_0\n",
    "        model.coef_ = np.array([[beta_1]])  # Set beta_1\n",
    "        predictions = model.predict(X)\n",
    "\n",
    "        # Calculate mean squared error\n",
    "        mse_values[i, j] = mean_squared_error(y, predictions)\n",
    "\n",
    "rmse_values = np.sqrt(mse_values)\n",
    "\n",
    "beta_0_values, beta_1_values = np.meshgrid(beta_0_values, beta_1_values)"
   ]
  },
  {
   "cell_type": "code",
   "execution_count": 19,
   "metadata": {
    "tags": [
     "hide_code"
    ]
   },
   "outputs": [
    {
     "data": {
      "image/png": "[encoded data removed]",
      "text/plain": [
       "<Figure size 640x480 with 2 Axes>"
      ]
     },
     "metadata": {},
     "output_type": "display_data"
    }
   ],
   "source": [
    "# Create filled contour plot\n",
    "plt.contourf(beta_0_values, beta_1_values, rmse_values.T, levels=30, cmap=\"viridis\")\n",
    "plt.colorbar(label=\"RMSE\")\n",
    "\n",
    "plt.xlabel(\"beta_0\")\n",
    "plt.ylabel(\"beta_1\")\n",
    "plt.show()"
   ]
  },
  {
   "cell_type": "markdown",
   "metadata": {},
   "source": [
    "This plot visually shows us what the RMSE of our model would be if we chose a specific `beta_0` and `beta_1`.\n",
    "We see that the best model with the lowest RMSE has a purple color, and the further away we get, the higher our RMSE gets towards yellow."
   ]
  }
 ],
 "metadata": {
  "kernelspec": {
   "display_name": "biosc1540-2024s-dev",
   "language": "python",
   "name": "python3"
  },
  "language_info": {
   "codemirror_mode": {
    "name": "ipython",
    "version": 3
   },
   "file_extension": ".py",
   "mimetype": "text/x-python",
   "name": "python",
   "nbconvert_exporter": "python",
   "pygments_lexer": "ipython3",
   "version": "3.11.7"
  }
 },
 "nbformat": 4,
 "nbformat_minor": 2
}
