{
 "cells": [
  {
   "cell_type": "markdown",
   "metadata": {},
   "source": [
    "# NumPy\n",
    "\n",
    "<div class=\"admonition danger\">\n",
    "    <p class=\"admonition-title\">DRAFT</p>\n",
    "    <p style=\"padding-top: 1em\">\n",
    "        This page is a work in progress and is subject to change at any moment.\n",
    "    </p>\n",
    "</div>\n",
    "\n",
    "Key resources:\n",
    "\n",
    "-   [NumPy documentation](https://numpy.org/doc/stable)\n",
    "-   [NumPy learn](https://numpy.org/learn/)\n",
    "\n",
    "## Vanilla Python\n",
    "\n",
    "Python, a versatile and powerful programming language, offers a range of high-level number objects and containers that form the foundation for various computational tasks.\n",
    "Understanding these objects is crucial for effective programming.\n",
    "\n",
    "High-level number objects, including integers and floating-point numbers, enable you to perform arithmetic operations with ease.\n",
    "\n",
    "Containers are essential data structures in Python that facilitate the organization and manipulation of data. Two prominent containers are:\n",
    "\n",
    "-   **Lists** provide costless insertion and appending operations, making them efficient for dynamic data storage. They are versatile and can store elements of different data types, allowing for flexibility in programming.\n",
    "-   **Dictionaries** offer fast lookup capabilities by associating keys with values. This makes them ideal for scenarios where efficient data retrieval is crucial. Understanding how to leverage lists and dictionaries is fundamental for effective Python programming.\n",
    "\n",
    "These are covered in [Python basics](../../python-basics/)."
   ]
  },
  {
   "cell_type": "code",
   "execution_count": 3,
   "metadata": {},
   "outputs": [
    {
     "name": "stdout",
     "output_type": "stream",
     "text": [
      "[0, 1, 2, 3, 4, 5]\n"
     ]
    }
   ],
   "source": [
    "data_list = [0, 1, 2, 3, 4, 5]\n",
    "print(data_list)"
   ]
  },
  {
   "cell_type": "markdown",
   "metadata": {},
   "source": [
    "## What is NumPy?\n",
    "\n",
    "NumPy, short for Numerical Python, is a powerful extension package that enhances Python's capabilities for scientific computation.\n",
    "Let's explore the key features and advantages that NumPy brings to the table.\n",
    "\n",
    "## Multi-dimensional arrays\n",
    "\n",
    "NumPy introduces the concept of multi-dimensional arrays, providing a powerful and efficient data structure for numerical computations.\n",
    "These arrays allow for seamless handling of matrices and other multi-dimensional data, a crucial feature in scientific computing."
   ]
  },
  {
   "cell_type": "code",
   "execution_count": 6,
   "metadata": {},
   "outputs": [
    {
     "name": "stdout",
     "output_type": "stream",
     "text": [
      "[0 1 2 3 4 5]\n"
     ]
    }
   ],
   "source": [
    "import numpy as np\n",
    "\n",
    "data_array = np.array([0, 1, 2, 3, 4, 5])\n",
    "print(data_array)"
   ]
  },
  {
   "cell_type": "code",
   "execution_count": 9,
   "metadata": {},
   "outputs": [
    {
     "name": "stdout",
     "output_type": "stream",
     "text": [
      "List:  [2, 3, 4, 5, 6, 7]\n",
      "Array: [2 3 4 5 6 7]\n"
     ]
    }
   ],
   "source": [
    "list_added = [i + 2 for i in data_list]\n",
    "print(f\"List:  {list_added}\")\n",
    "\n",
    "array_added = data_array + 2\n",
    "print(f\"Array: {array_added}\")"
   ]
  },
  {
   "cell_type": "code",
   "execution_count": 10,
   "metadata": {},
   "outputs": [
    {
     "name": "stdout",
     "output_type": "stream",
     "text": [
      "List:  2.5\n",
      "Array: 2.5\n"
     ]
    }
   ],
   "source": [
    "list_mean = sum(data_list) / len(data_list)\n",
    "print(f\"List:  {list_mean}\")\n",
    "\n",
    "array_mean = np.mean(data_array)\n",
    "print(f\"Array: {array_mean}\")"
   ]
  },
  {
   "cell_type": "markdown",
   "metadata": {},
   "source": [
    "## Acknowledgements\n",
    "\n",
    "Some material here was adapted with permission from the following sources:\n",
    "\n",
    "-   [Scientific Python Lectures](https://github.com/scipy-lectures/scientific-python-lectures)"
   ]
  }
 ],
 "metadata": {
  "kernelspec": {
   "display_name": "biosc1540-2024s-dev",
   "language": "python",
   "name": "python3"
  },
  "language_info": {
   "codemirror_mode": {
    "name": "ipython",
    "version": 3
   },
   "file_extension": ".py",
   "mimetype": "text/x-python",
   "name": "python",
   "nbconvert_exporter": "python",
   "pygments_lexer": "ipython3",
   "version": "3.11.7"
  }
 },
 "nbformat": 4,
 "nbformat_minor": 2
}
