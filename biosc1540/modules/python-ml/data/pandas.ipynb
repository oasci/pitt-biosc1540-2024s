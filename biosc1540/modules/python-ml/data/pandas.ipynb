{
 "cells": [
  {
   "cell_type": "markdown",
   "metadata": {},
   "source": [
    "# pandas\n",
    "\n",
    "<div class=\"admonition danger\">\n",
    "    <p class=\"admonition-title\">DRAFT</p>\n",
    "    <p style=\"padding-top: 1em\">\n",
    "        This page is a work in progress and is subject to change at any moment.\n",
    "    </p>\n",
    "</div>\n",
    "\n",
    "Key resources:\n",
    "\n",
    "-   [Documentation](https://pandas.pydata.org/docs/)\n",
    "-   [Learn](https://pandas.pydata.org/docs/user_guide/index.html)\n"
   ]
  },
  {
   "cell_type": "code",
   "execution_count": 1,
   "metadata": {},
   "outputs": [],
   "source": [
    "import numpy as np\n",
    "import pandas as pd"
   ]
  },
  {
   "cell_type": "markdown",
   "metadata": {},
   "source": [
    "The two main components that pandas adds are [Series](https://pandas.pydata.org/docs/reference/api/pandas.Series.html) and [DataFrames]().\n",
    "\n",
    "## Series\n",
    "\n",
    "[Series](https://pandas.pydata.org/docs/reference/api/pandas.Series.html) is a one-dimensional labeled array.\n",
    "On other words, it is like a column in an Excel file.\n",
    "\n",
    "First, let us create some synthetic data to use."
   ]
  },
  {
   "cell_type": "code",
   "execution_count": 21,
   "metadata": {},
   "outputs": [],
   "source": [
    "gene_id = [\"G1\", \"G2\", \"G3\", \"G4\", \"G5\"]\n",
    "expression_Level = [2.5, 1.8, 3.2, 2.0, 3.5]\n",
    "treatment = [\"Control\", \"TreatmentA\", \"TreatmentB\", \"Control\", \"TreatmentA\"]"
   ]
  },
  {
   "cell_type": "code",
   "execution_count": 23,
   "metadata": {},
   "outputs": [
    {
     "name": "stdout",
     "output_type": "stream",
     "text": [
      "0    G1\n",
      "1    G2\n",
      "2    G3\n",
      "3    G4\n",
      "4    G5\n",
      "dtype: object\n"
     ]
    }
   ],
   "source": [
    "s = pd.Series(np.array(gene_id))\n",
    "print(s)"
   ]
  },
  {
   "cell_type": "code",
   "execution_count": 25,
   "metadata": {},
   "outputs": [
    {
     "name": "stdout",
     "output_type": "stream",
     "text": [
      "A    G1\n",
      "B    G2\n",
      "C    G3\n",
      "D    G4\n",
      "E    G5\n",
      "dtype: object\n"
     ]
    }
   ],
   "source": [
    "s = pd.Series(gene_id, index=[\"A\", \"B\", \"C\", \"D\", \"E\"])\n",
    "print(s)"
   ]
  },
  {
   "cell_type": "code",
   "execution_count": 4,
   "metadata": {},
   "outputs": [
    {
     "name": "stdout",
     "output_type": "stream",
     "text": [
      "a    0.754328\n",
      "b   -0.599190\n",
      "c    0.219729\n",
      "d    0.451087\n",
      "e    0.281973\n",
      "dtype: float64\n"
     ]
    }
   ],
   "source": [
    "s = pd.Series(data, index=[\"a\", \"b\", \"c\", \"d\", \"e\"])\n",
    "print(s)"
   ]
  }
 ],
 "metadata": {
  "kernelspec": {
   "display_name": "biosc1540-2024s-dev",
   "language": "python",
   "name": "python3"
  },
  "language_info": {
   "codemirror_mode": {
    "name": "ipython",
    "version": 3
   },
   "file_extension": ".py",
   "mimetype": "text/x-python",
   "name": "python",
   "nbconvert_exporter": "python",
   "pygments_lexer": "ipython3",
   "version": "3.11.7"
  }
 },
 "nbformat": 4,
 "nbformat_minor": 2
}
