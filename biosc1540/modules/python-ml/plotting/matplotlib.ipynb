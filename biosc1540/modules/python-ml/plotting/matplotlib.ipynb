{
 "cells": [
  {
   "cell_type": "markdown",
   "metadata": {},
   "source": [
    "# matplotlib\n",
    "\n",
    "Key resources:\n",
    "\n",
    "-   [Tutorials](https://matplotlib.org/stable/tutorials/index.html)\n",
    "-   [User Guide](https://matplotlib.org/stable/users/index.html)\n",
    "-   [Examples](https://matplotlib.org/stable/gallery/index.html)\n",
    "-   [API](https://matplotlib.org/stable/api/index.html)\n"
   ]
  }
 ],
 "metadata": {
  "kernelspec": {
   "display_name": "biosc1540-2024s-dev",
   "language": "python",
   "name": "python3"
  },
  "language_info": {
   "codemirror_mode": {
    "name": "ipython",
    "version": 3
   },
   "file_extension": ".py",
   "mimetype": "text/x-python",
   "name": "python",
   "nbconvert_exporter": "python",
   "pygments_lexer": "ipython3",
   "version": "3.11.7"
  }
 },
 "nbformat": 4,
 "nbformat_minor": 2
}
