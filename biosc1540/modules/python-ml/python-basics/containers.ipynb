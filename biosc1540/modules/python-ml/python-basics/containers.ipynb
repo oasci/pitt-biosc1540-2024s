{
 "cells": [
  {
   "cell_type": "markdown",
   "metadata": {},
   "source": [
    "# Containers\n",
    "\n",
    "In [variables](../variables), we introduced scalar data types like `int`, `float`, and `bool`.\n",
    "However, these types can only represent single, simple values. In many cases, we need more flexible ways to store, access, and manipulate data.\n",
    "This brings us to the topic of containers.\n",
    "\n",
    "Containers allow us to work with grouped collections of data, ranging from ordered sequences to key-mapped dicts.\n",
    "Containers provide powerful, efficient ways of wrangling data in Python.\n",
    "There are several reasons we may want to use them:\n",
    "\n",
    "-   Store related pieces of data together in complex structures\n",
    "-   Access elements by index (lists) or key (dicts) instead of individual variables\n",
    "-   Write algorithms that iterate over entire data structures\n",
    "-   Write functions that accept multi-item containers as arguments\n",
    "-   Build custom data objects tailored to our use case\n",
    "-   Optimize performance for search, access and mutation operations\n",
    "\n",
    "One analogy is to think of scalar types as single eggs, while containers are like egg cartons - structured containers to store multiple eggs together.\n",
    "This course will cover the core container types: lists, tuples, dictionaries.\n",
    "Each solve related but distinct needs.\n",
    "\n",
    "By mastering container types, we greatly expand the flexibility and organization of our Python code.\n",
    "Instead of individual variables, we can model real-world data relations.\n",
    "Our functions become versatile and reusable around structured data."
   ]
  },
  {
   "cell_type": "markdown",
   "metadata": {},
   "source": [
    "## Lists\n",
    "\n",
    "Lists represent the simplest and most versatile ordered container type.\n",
    "Lists allow us to store an mutable ordered sequence of objects which can be accessed by index.\n",
    "Defining lists uses square brackets."
   ]
  },
  {
   "cell_type": "code",
   "execution_count": 1,
   "metadata": {},
   "outputs": [],
   "source": [
    "in_my_pocket = [21, False, None, \"apple\", 3.14]"
   ]
  },
  {
   "cell_type": "markdown",
   "metadata": {},
   "source": [
    "### Indexing\n",
    "\n",
    "One of the most fundamental list operations is accessing elements.\n",
    "Python lists support accessing elements by index.\n",
    "Indexes start at `0` and go up to the length of the list minus `1`.\n",
    "\n",
    "We can get the length of a list with the `len` function."
   ]
  },
  {
   "cell_type": "code",
   "execution_count": 2,
   "metadata": {},
   "outputs": [
    {
     "name": "stdout",
     "output_type": "stream",
     "text": [
      "5\n"
     ]
    }
   ],
   "source": [
    "print(len(in_my_pocket))"
   ]
  },
  {
   "cell_type": "markdown",
   "metadata": {},
   "source": [
    "We can access the first item, `21`, with index `0`."
   ]
  },
  {
   "cell_type": "code",
   "execution_count": 3,
   "metadata": {},
   "outputs": [
    {
     "name": "stdout",
     "output_type": "stream",
     "text": [
      "21\n"
     ]
    }
   ],
   "source": [
    "print(in_my_pocket[0])"
   ]
  },
  {
   "cell_type": "markdown",
   "metadata": {},
   "source": [
    "The index value indicates the position of that element in the list.\n",
    "The second item, `False`, can be accessed with index `1`."
   ]
  },
  {
   "cell_type": "code",
   "execution_count": 4,
   "metadata": {},
   "outputs": [
    {
     "name": "stdout",
     "output_type": "stream",
     "text": [
      "False\n"
     ]
    }
   ],
   "source": [
    "print(in_my_pocket[1])"
   ]
  },
  {
   "cell_type": "markdown",
   "metadata": {},
   "source": [
    "And if we tried to access index 5, we would get an `IndexError`, since that index does not exist in the list."
   ]
  },
  {
   "cell_type": "code",
   "execution_count": 5,
   "metadata": {},
   "outputs": [
    {
     "ename": "IndexError",
     "evalue": "list index out of range",
     "output_type": "error",
     "traceback": [
      "\u001b[0;31m---------------------------------------------------------------------------\u001b[0m",
      "\u001b[0;31mIndexError\u001b[0m                                Traceback (most recent call last)",
      "Cell \u001b[0;32mIn[5], line 1\u001b[0m\n\u001b[0;32m----> 1\u001b[0m \u001b[38;5;28mprint\u001b[39m(\u001b[43min_my_pocket\u001b[49m\u001b[43m[\u001b[49m\u001b[38;5;241;43m5\u001b[39;49m\u001b[43m]\u001b[49m)\n",
      "\u001b[0;31mIndexError\u001b[0m: list index out of range"
     ]
    }
   ],
   "source": [
    "print(in_my_pocket[5])"
   ]
  },
  {
   "cell_type": "markdown",
   "metadata": {},
   "source": [
    "In addition to positive indexes starting at `0`, we can also use negative indexes which start counting from the end of the list.\n",
    "We can access the last element, `3.14`, with index `-1`."
   ]
  },
  {
   "cell_type": "code",
   "execution_count": 6,
   "metadata": {},
   "outputs": [
    {
     "name": "stdout",
     "output_type": "stream",
     "text": [
      "3.14\n"
     ]
    }
   ],
   "source": [
    "print(in_my_pocket[-1])"
   ]
  },
  {
   "cell_type": "markdown",
   "metadata": {},
   "source": [
    "The second to last element `\"apple\"` can be accessed with index `-2`."
   ]
  },
  {
   "cell_type": "code",
   "execution_count": 7,
   "metadata": {},
   "outputs": [
    {
     "name": "stdout",
     "output_type": "stream",
     "text": [
      "apple\n"
     ]
    }
   ],
   "source": [
    "print(in_my_pocket[-2])"
   ]
  },
  {
   "cell_type": "markdown",
   "metadata": {},
   "source": [
    "And extending further negative, the first element 21 can be retrieved with index -5."
   ]
  },
  {
   "cell_type": "code",
   "execution_count": 8,
   "metadata": {},
   "outputs": [
    {
     "name": "stdout",
     "output_type": "stream",
     "text": [
      "21\n"
     ]
    }
   ],
   "source": [
    "print(in_my_pocket[-5])"
   ]
  },
  {
   "cell_type": "markdown",
   "metadata": {},
   "source": [
    "Negative indexes provide an alternative means of accessing elements from the end, instead of just from the beginning.\n",
    "This gives greater flexibility in coding list access patterns."
   ]
  },
  {
   "cell_type": "markdown",
   "metadata": {},
   "source": [
    "### Slicing\n",
    "\n",
    "While accessing individual list elements is useful, often we want to extract a subsection, or slice, of a list's items.\n",
    "This is accomplished in Python using slicing.\n",
    "\n",
    "Slicing allows copying a portion of a list&mdash;either from one or both sides.\n",
    "This enables cleanly breaking large lists into usable parts.\n",
    "Common use cases include:\n",
    "\n",
    "-   Extracting logical chunks of a large list;\n",
    "-   Grabbing all elements except first/last few;\n",
    "-   Splitting a sequence into equally-sized partitions for parallel processing;\n",
    "-   Accessing beginning or ending windows of sequenced data.\n",
    "\n",
    "In Python, the colon `:` is used for slicing with the general syntax of `start:stop:step`.\n",
    "\n",
    "-   `start`: The index at which the slice begins (inclusive).\n",
    "    If omitted or `None`, it defaults to the beginning of the sequence.\n",
    "-   `stop`: The index at which the slice ends (exclusive).\n",
    "    If omitted or `None`, it defaults to the end of the sequence.\n",
    "-   `step`: The step size or the number of indices between each slice.\n",
    "    If omitted or `None`, it defaults to 1.\n",
    "\n",
    "First, let us print the full list like we normally have been doing."
   ]
  },
  {
   "cell_type": "code",
   "execution_count": 9,
   "metadata": {},
   "outputs": [
    {
     "name": "stdout",
     "output_type": "stream",
     "text": [
      "[21, False, None, 'apple', 3.14]\n"
     ]
    }
   ],
   "source": [
    "print(in_my_pocket)"
   ]
  },
  {
   "cell_type": "markdown",
   "metadata": {},
   "source": [
    "We can get the same view if we slice `in_my_pocket` without specifying `start`, `stop`, or `step`."
   ]
  },
  {
   "cell_type": "code",
   "execution_count": 10,
   "metadata": {},
   "outputs": [
    {
     "name": "stdout",
     "output_type": "stream",
     "text": [
      "[21, False, None, 'apple', 3.14]\n"
     ]
    }
   ],
   "source": [
    "print(in_my_pocket[::])"
   ]
  },
  {
   "cell_type": "markdown",
   "metadata": {},
   "source": [
    "Remember that `None` is often used to specify the absence of a value, so it should give us the same as `[::]`."
   ]
  },
  {
   "cell_type": "code",
   "execution_count": 11,
   "metadata": {},
   "outputs": [
    {
     "name": "stdout",
     "output_type": "stream",
     "text": [
      "[21, False, None, 'apple', 3.14]\n"
     ]
    }
   ],
   "source": [
    "print(in_my_pocket[None:None:None])"
   ]
  },
  {
   "cell_type": "code",
   "execution_count": 12,
   "metadata": {},
   "outputs": [
    {
     "name": "stdout",
     "output_type": "stream",
     "text": [
      "[21]\n",
      "[21]\n"
     ]
    }
   ],
   "source": [
    "print(in_my_pocket[:1])\n",
    "print(in_my_pocket[::10])"
   ]
  },
  {
   "cell_type": "code",
   "execution_count": 13,
   "metadata": {},
   "outputs": [
    {
     "name": "stdout",
     "output_type": "stream",
     "text": [
      "[False]\n",
      "[False]\n"
     ]
    }
   ],
   "source": [
    "print(in_my_pocket[1:2])\n",
    "print(in_my_pocket[1:5:5])"
   ]
  },
  {
   "cell_type": "code",
   "execution_count": 14,
   "metadata": {},
   "outputs": [
    {
     "name": "stdout",
     "output_type": "stream",
     "text": [
      "[21, False]\n"
     ]
    }
   ],
   "source": [
    "print(in_my_pocket[:2])"
   ]
  },
  {
   "cell_type": "markdown",
   "metadata": {},
   "source": [
    "### Mutating\n",
    "\n",
    "The contents of list are `mutable`, meaning that the contents of the container can be changed.\n",
    "For example, I can replace `None` in my pocket with my `\"wallet\"`."
   ]
  },
  {
   "cell_type": "code",
   "execution_count": 15,
   "metadata": {},
   "outputs": [
    {
     "name": "stdout",
     "output_type": "stream",
     "text": [
      "[21, False, None, 'apple', 3.14]\n"
     ]
    }
   ],
   "source": [
    "in_my_pocket = [21, False, None, \"apple\", 3.14]\n",
    "print(in_my_pocket)\n",
    "in_my_pocket[2] = \"wallet\""
   ]
  },
  {
   "cell_type": "code",
   "execution_count": 16,
   "metadata": {},
   "outputs": [
    {
     "name": "stdout",
     "output_type": "stream",
     "text": [
      "[21, False, 'wallet', 'apple', 3.14, 'keys']\n"
     ]
    }
   ],
   "source": [
    "in_my_pocket.append(\"keys\")\n",
    "print(in_my_pocket)"
   ]
  },
  {
   "cell_type": "code",
   "execution_count": 17,
   "metadata": {},
   "outputs": [
    {
     "name": "stdout",
     "output_type": "stream",
     "text": [
      "[21, False, 'wallet', 3.14, 'keys']\n"
     ]
    }
   ],
   "source": [
    "del in_my_pocket[3]\n",
    "print(in_my_pocket)"
   ]
  },
  {
   "cell_type": "code",
   "execution_count": 18,
   "metadata": {},
   "outputs": [
    {
     "name": "stdout",
     "output_type": "stream",
     "text": [
      "[21, False, 'wallet', 'apple core', 3.14, 'keys']\n"
     ]
    }
   ],
   "source": [
    "in_my_pocket.insert(3, \"apple core\")\n",
    "print(in_my_pocket)"
   ]
  },
  {
   "cell_type": "markdown",
   "metadata": {},
   "source": [
    "## Tuples\n",
    "\n",
    "A tuple is an immutable ordered sequence of values.\n",
    "Tuples are defined using parentheses."
   ]
  },
  {
   "cell_type": "code",
   "execution_count": 19,
   "metadata": {},
   "outputs": [
    {
     "name": "stdout",
     "output_type": "stream",
     "text": [
      "(21, False, None, 'apple', 3.14)\n"
     ]
    }
   ],
   "source": [
    "in_my_closed_pocket = (21, False, None, \"apple\", 3.14)\n",
    "print(in_my_closed_pocket)"
   ]
  },
  {
   "cell_type": "code",
   "execution_count": 20,
   "metadata": {},
   "outputs": [
    {
     "name": "stdout",
     "output_type": "stream",
     "text": [
      "apple\n"
     ]
    }
   ],
   "source": [
    "print(in_my_closed_pocket[3])"
   ]
  },
  {
   "cell_type": "code",
   "execution_count": 21,
   "metadata": {},
   "outputs": [
    {
     "ename": "AttributeError",
     "evalue": "'tuple' object has no attribute 'append'",
     "output_type": "error",
     "traceback": [
      "\u001b[0;31m---------------------------------------------------------------------------\u001b[0m",
      "\u001b[0;31mAttributeError\u001b[0m                            Traceback (most recent call last)",
      "Cell \u001b[0;32mIn[21], line 1\u001b[0m\n\u001b[0;32m----> 1\u001b[0m \u001b[43min_my_closed_pocket\u001b[49m\u001b[38;5;241;43m.\u001b[39;49m\u001b[43mappend\u001b[49m(\u001b[38;5;124m\"\u001b[39m\u001b[38;5;124mwallet\u001b[39m\u001b[38;5;124m\"\u001b[39m)\n",
      "\u001b[0;31mAttributeError\u001b[0m: 'tuple' object has no attribute 'append'"
     ]
    }
   ],
   "source": [
    "in_my_closed_pocket.append(\"wallet\")"
   ]
  },
  {
   "cell_type": "code",
   "execution_count": 22,
   "metadata": {},
   "outputs": [
    {
     "ename": "TypeError",
     "evalue": "'tuple' object doesn't support item deletion",
     "output_type": "error",
     "traceback": [
      "\u001b[0;31m---------------------------------------------------------------------------\u001b[0m",
      "\u001b[0;31mTypeError\u001b[0m                                 Traceback (most recent call last)",
      "Cell \u001b[0;32mIn[22], line 1\u001b[0m\n\u001b[0;32m----> 1\u001b[0m \u001b[38;5;28;01mdel\u001b[39;00m \u001b[43min_my_closed_pocket\u001b[49m\u001b[43m[\u001b[49m\u001b[38;5;241;43m3\u001b[39;49m\u001b[43m]\u001b[49m\n",
      "\u001b[0;31mTypeError\u001b[0m: 'tuple' object doesn't support item deletion"
     ]
    }
   ],
   "source": [
    "del in_my_closed_pocket[3]"
   ]
  },
  {
   "cell_type": "markdown",
   "metadata": {},
   "source": [
    "So why would you want to use a tuple instead of a list?\n",
    "\n",
    "-   If you need a collection of items that should not be changed or modified throughout the program, using a tuple provides immutability.\n",
    "    This prevents accidental modifications and ensures data consistency.\n",
    "-   Tuples are generally more memory-efficient than lists because of their immutability.\n",
    "    If your data does not need to change, using a tuple can result in better performance."
   ]
  },
  {
   "cell_type": "markdown",
   "metadata": {},
   "source": [
    "## Dictionaries\n",
    "\n",
    "Lists allow us to store ordered collections of data which can be flexibly accessed via indices.\n",
    "However, frequently we need an alternative access pattern&mdash;looking up values by a descriptive key rather than numerical index.\n",
    "This is enabled in Python using dictionaries.\n",
    "\n",
    "Dictionaries provide a flexible mapping of unique keys to associated values, like a real world dictionary maps words to definitions.\n",
    "Defining a dictionary uses braces with colons separating keys and values."
   ]
  },
  {
   "cell_type": "code",
   "execution_count": 23,
   "metadata": {},
   "outputs": [
    {
     "name": "stdout",
     "output_type": "stream",
     "text": [
      "{'color': 'blue', 'food': ['Chinese', 'Thai', 'American'], 'number': 32}\n"
     ]
    }
   ],
   "source": [
    "person_favorites = {\n",
    "    \"color\": \"blue\",\n",
    "    \"food\": [\"Chinese\", \"Thai\", \"American\"],\n",
    "    \"number\": 32,\n",
    "}\n",
    "print(person_favorites)"
   ]
  },
  {
   "cell_type": "markdown",
   "metadata": {},
   "source": [
    "Dictionaries have some key capabilities:\n",
    "\n",
    "-   Store mappings of objects to easy retrieval by descriptive keys;\n",
    "-   High performance lookup time even for large data sets;\n",
    "-   Keys can use many immutable types: strings, numbers, tuples;\n",
    "-   Values can be any Python object;\n",
    "-   Extensible structure allowing easy growth.\n"
   ]
  },
  {
   "cell_type": "code",
   "execution_count": 24,
   "metadata": {},
   "outputs": [
    {
     "name": "stdout",
     "output_type": "stream",
     "text": [
      "dict_keys(['color', 'food', 'number'])\n"
     ]
    }
   ],
   "source": [
    "print(person_favorites.keys())"
   ]
  },
  {
   "cell_type": "code",
   "execution_count": 25,
   "metadata": {},
   "outputs": [
    {
     "name": "stdout",
     "output_type": "stream",
     "text": [
      "blue\n",
      "['Chinese', 'Thai', 'American']\n",
      "32\n"
     ]
    }
   ],
   "source": [
    "print(person_favorites[\"color\"])\n",
    "print(person_favorites[\"food\"])\n",
    "print(person_favorites[\"number\"])"
   ]
  },
  {
   "cell_type": "markdown",
   "metadata": {},
   "source": [
    "## Iterables\n",
    "\n",
    "You may hear people say \"iterable\" and \"sequence\" interchangeably.\n",
    "They are not the same!\n",
    "An iterable is any object that can be iterated over, meaning you can go through its data one element at a time.\n",
    "Sequences, on the other hand, can be iterated over **and** get specific values based on an index.\n",
    "Every sequence is an iterable, but not every iterable is a sequence.\n",
    "This is not really important for this course, but becomes crucial for [type hints](https://peps.python.org/pep-0484/) and efficient algorithm design."
   ]
  }
 ],
 "metadata": {
  "kernelspec": {
   "display_name": "biosc1540-2024s-dev",
   "language": "python",
   "name": "python3"
  },
  "language_info": {
   "codemirror_mode": {
    "name": "ipython",
    "version": 3
   },
   "file_extension": ".py",
   "mimetype": "text/x-python",
   "name": "python",
   "nbconvert_exporter": "python",
   "pygments_lexer": "ipython3",
   "version": "3.11.7"
  }
 },
 "nbformat": 4,
 "nbformat_minor": 2
}
