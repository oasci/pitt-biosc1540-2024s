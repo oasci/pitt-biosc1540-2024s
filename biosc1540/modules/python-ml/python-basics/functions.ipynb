{
 "cells": [
  {
   "cell_type": "markdown",
   "metadata": {},
   "source": [
    "# Functions\n",
    "\n",
    "Functions are reusable pieces of programs.\n",
    "They allow you to give a name to a block of statements, allowing you to run that block using the specified name anywhere in your program and any number of times.\n",
    "This is known as calling the function. We have already used many built-in functions such as `len` and `print`.\n",
    "\n",
    "Functions are defined using the `def` keyword.\n",
    "After this keyword comes an identifier name for the function, followed by a pair of parentheses which may enclose some names of variables, and by the final colon that ends the line.\n",
    "Next follows the block of statements that are part of this function."
   ]
  },
  {
   "cell_type": "code",
   "execution_count": 1,
   "metadata": {},
   "outputs": [],
   "source": [
    "def say_hello():\n",
    "    print(\"hello world\")"
   ]
  },
  {
   "cell_type": "markdown",
   "metadata": {},
   "source": [
    "Here are the different parts of the function definition.\n",
    "\n",
    "-   `def` keyword is used to define a function.\n",
    "-   `say_hello` is the name of the function.\n",
    "    You can choose any name you like, but it should follow the rules for variable names in Python.\n",
    "-   The parentheses `()` after the function name are used for parameters (input values), but in this case, the function takes no parameters.\n",
    "-   The colon `:` indicates the start of the function body.\n",
    "\n",
    "## Function body\n",
    "\n",
    "The function body is the part of a function in Python that contains the set of instructions or statements that define what the function does when it is called.\n",
    "It is indented under the function definition and is executed whenever the function is invoked.\n",
    "In Python, the indentation (usually with four spaces) is crucial to indicate the scope of the function body.\n",
    "\n",
    "In this case, the function `say_hello` prints the string 'hello world' to the console.\n",
    "\n",
    "## Function call\n",
    "\n",
    "A function call is the act of requesting a function to execute its defined set of instructions or code.\n",
    "When you define a function in Python, you're essentially creating a reusable piece of code.\n",
    "To make use of this code, you \"call\" the function, which means you ask Python to run the specific block of code associated with that function.\n",
    "\n",
    "In the code below, each `say_hello()` line is a single function call."
   ]
  },
  {
   "cell_type": "code",
   "execution_count": 2,
   "metadata": {},
   "outputs": [
    {
     "name": "stdout",
     "output_type": "stream",
     "text": [
      "hello world\n",
      "hello world\n"
     ]
    }
   ],
   "source": [
    "say_hello()\n",
    "say_hello()"
   ]
  },
  {
   "cell_type": "markdown",
   "metadata": {},
   "source": [
    "## Function parameters\n",
    "\n",
    "A function can take parameters, which are values you supply to the function so that the function\n",
    "can do something utilizing those values.\n",
    "These parameters are just like variables except that the values of these variables are defined when we call the function and are already assigned values when the function runs.\n",
    "\n",
    "Parameters are specified within the pair of parentheses in the function definition, separated by commas.\n",
    "When we call the function, we supply the values in the same way.\n",
    "Note the terminology used - the names given in the function definition are called *parameters* whereas the values you supply in the function call are called *arguments*."
   ]
  },
  {
   "cell_type": "code",
   "execution_count": 3,
   "metadata": {},
   "outputs": [
    {
     "name": "stdout",
     "output_type": "stream",
     "text": [
      "Hello, Alice!\n",
      "Hello, Alice!\n"
     ]
    }
   ],
   "source": [
    "def greet(name):\n",
    "    print(\"Hello,\", name + \"!\")\n",
    "\n",
    "\n",
    "# directly pass literal values\n",
    "greet(\"Alice\")\n",
    "\n",
    "customer_name = \"Alice\"\n",
    "\n",
    "# pass variables as arguments\n",
    "greet(customer_name)"
   ]
  },
  {
   "cell_type": "markdown",
   "metadata": {},
   "source": [
    "The above Python code defines a function called `greet` that takes a single parameter named `name`.\n",
    "Inside the function, a greeting message is printed, incorporating the provided `name`.\n",
    "\n",
    "The code demonstrates two ways to call a function.\n",
    "\n",
    "1.  Directly calls greet with the literal value `\"Alice\"` as an argument, resulting in the output `\"Hello, Alice!\"`.\n",
    "2.  It assigns the string `\"Alice\"` to a variable named customer_name and calls the greet function with this variable as an argument.\n",
    "    The function processes the value stored in customer_name, leading to the same greeting message, `\"Hello, Alice!\"`.\n",
    "\n",
    "This illustrates how functions can be defined to accept parameters, allowing them to be called with different values, whether literals or variables, making the code more versatile and reusable."
   ]
  },
  {
   "cell_type": "markdown",
   "metadata": {},
   "source": [
    "## Local variables\n",
    "\n",
    "When you declare variables inside a function definition, they are not related in any way to other variables with the same names used outside the function&mdash;variable names are local to the function.\n",
    "This is called the scope of the variable.\n",
    "All variables have the scope of the block they are declared in starting from the point of definition of the name."
   ]
  },
  {
   "cell_type": "code",
   "execution_count": 4,
   "metadata": {},
   "outputs": [
    {
     "name": "stdout",
     "output_type": "stream",
     "text": [
      "x is 50\n",
      "Changed local x to 2\n",
      "x is still 50\n"
     ]
    }
   ],
   "source": [
    "x = 50\n",
    "\n",
    "\n",
    "def func(x):\n",
    "    print(\"x is\", x)\n",
    "    x = 2\n",
    "    print(\"Changed local x to\", x)\n",
    "\n",
    "\n",
    "func(x)\n",
    "print(\"x is still\", x)"
   ]
  },
  {
   "cell_type": "markdown",
   "metadata": {},
   "source": [
    "The parameter `x` in the function definition acts as a local variable within the scope of the function.\n",
    "It is a variable that is only accessible and meaningful within the function.\n",
    "In the function body, when the code assigns a new value (`x = 2`), it creates a new local variable `x` that only exists within the function.\n",
    "This local variable shadows the parameter `x`.\n",
    "\n",
    "Outside the function, there could be a variable with the same name `x`, but it is a different variable and has a different scope (it is not the same as the local `x` inside the function).\n",
    "If there is a global variable named `x` in the broader scope of the program, it is not affected by the local variable `x` within the function.\n",
    "\n",
    "### Scope chain\n",
    "\n",
    "The resolution of variable references follows a scope chain.\n",
    "This is a sequential search through different levels of scope to find the value associated with a variable.\n",
    "\n",
    "-   When a variable is referenced, Python first looks in the local scope, which is the innermost context, such as within a function.\n",
    "    If the variable is found locally, Python uses the value from the local scope.\n",
    "-   If not found, Python extends the search to enclosing scopes, including nested functions, checking each level hierarchically.\n",
    "-   If the variable is still not found, Python looks in the global scope, representing the entire script or module.\n",
    "\n",
    "The scope chain ensures a systematic search for variable values, preventing unintended conflicts between local and global variables and allowing for proper variable resolution based on the hierarchical structure of the code.\n",
    "\n",
    "### Lifetime\n",
    "\n",
    "The local variable (`x` inside the function) only exists for the duration of the function call. These variables are created when the function is called and cease to exist once the function's execution is completed.\n",
    "This temporary existence helps prevent variable name conflicts and ensures that each function call has its own isolated space for variables.\n",
    "Now, let's delve into the breakdown of what happens in memory during the different stages of the function call.\n",
    "\n",
    "**Before the function call**<br>\n",
    "At this point, a global variable `x` already exists with its own value.\n",
    "This variable is separate from any local variable that may be created within a function.\n",
    "\n",
    "**During the function call**<br>\n",
    "When the function is called, a parameter `x` is created as a local variable within the function's scope.\n",
    "It is initialized with the value of the argument passed during the function call.\n",
    "Subsequently, within the function, the local variable `x` is reassigned a new value.\n",
    "This reassignment only affects the local variable and does not impact the global variable with the same name.\n",
    "\n",
    "**After the function call**<br>\n",
    "Once the function call is complete, the local variable `x` that existed within the function is destroyed. The memory allocated to this local variable is released.\n",
    "Importantly, the destruction of the local variable does not affect the global variable `x`, which maintains its original value and remains unaffected by the changes made within the function."
   ]
  },
  {
   "cell_type": "markdown",
   "metadata": {},
   "source": [
    "## Global variables in functions\n",
    "\n",
    "If you want to assign a value to a name defined at the top level of the program (i.e. not inside any kind of scope such as functions or classes), then you have to tell Python that the name is not local, but it is global.\n",
    "We do this using the `global` statement.\n",
    "It is impossible to assign a value to a variable defined outside a function without the `global` statement.\n",
    "\n",
    "You can use the values of such variables defined outside the function (assuming there is no variable with the same name within the function). However, this is not encouraged and should be avoided since it becomes unclear to the reader of the program as to where that variable's definition is.\n",
    "Using the `global` statement makes it amply clear that the variable is defined in an outermost block."
   ]
  },
  {
   "cell_type": "code",
   "execution_count": 5,
   "metadata": {},
   "outputs": [
    {
     "name": "stdout",
     "output_type": "stream",
     "text": [
      "x is 50\n",
      "Changed global x to 2\n",
      "Value of x is 2\n"
     ]
    }
   ],
   "source": [
    "x = 50\n",
    "\n",
    "\n",
    "def func_global():\n",
    "    global x\n",
    "\n",
    "    print(\"x is\", x)\n",
    "    x = 2\n",
    "    print(\"Changed global x to\", x)\n",
    "\n",
    "\n",
    "func_global()\n",
    "print(\"Value of x is\", x)"
   ]
  },
  {
   "cell_type": "markdown",
   "metadata": {},
   "source": [
    "The function `func_global` has its own local scope.\n",
    "When the function references `x` without the global statement, it would normally create a new local variable named `x` within the function, separate from the global variable.\n",
    "\n",
    "By using `global x` inside the function, Python is explicitly instructed to look for the variable `x` in the global scope.\n",
    "This means that any reference to `x` within the function refers to the global variable `x` defined outside the function.\n",
    "\n",
    "The assignment `x = 2` inside the function modifies the global variable `x` rather than creating a new local variable.\n",
    "This is because of the global statement, which directs Python to look for `x` in the global scope."
   ]
  },
  {
   "cell_type": "markdown",
   "metadata": {},
   "source": [
    "## Default arguments\n",
    "\n",
    "For some functions, you may want to make some parameters optional and use default values in case the user does not want to provide values for them.\n",
    "This is done with the help of default argument values.\n",
    "You can specify default argument values for parameters by appending to the parameter name in the function definition the assignment operator (`=`) followed by the default value.\n",
    "\n",
    "Note that the default argument value should be a constant.\n",
    "More precisely, the default argument value should be immutable."
   ]
  },
  {
   "cell_type": "code",
   "execution_count": 6,
   "metadata": {},
   "outputs": [
    {
     "name": "stdout",
     "output_type": "stream",
     "text": [
      "Hello\n",
      "WorldWorldWorldWorldWorld\n"
     ]
    }
   ],
   "source": [
    "def say(message, times=1):\n",
    "    print(message * times)\n",
    "\n",
    "\n",
    "say(\"Hello\")\n",
    "say(\"World\", 5)"
   ]
  },
  {
   "cell_type": "markdown",
   "metadata": {},
   "source": [
    "The `say` function has a default parameter `times` set to `1`.\n",
    "When the function is called with only one argument (`'Hello'`), it uses the default value for times, printing the message once.\n",
    "When called with two arguments (`'World'` and `5`), the explicitly provided value for times overrides the default, and the message is printed multiple times accordingly.\n",
    "\n",
    "Default parameters offer flexibility by allowing functions to be called with or without certain arguments, providing reasonable default values when necessary.\n",
    "\n",
    "<div class=\"admonition warning\">\n",
    "    <p class=\"admonition-title\">Caution</p>\n",
    "    <p style=\"padding-top: 1em\">\n",
    "        Only those parameters which are at the end of the parameter list can be given default argument values.\n",
    "        You cannot have a parameter with a default argument value preceding a parameter without a default argument value in the function's parameter list.\n",
    "    </p>\n",
    "    <p>\n",
    "        This is because the values are assigned to the parameters by position.\n",
    "        For example, <code>def func(a, b=5)</code> is valid, but <code>def func(a=5, b)</code> is not valid\n",
    "    </p>\n",
    "</div>"
   ]
  },
  {
   "cell_type": "markdown",
   "metadata": {},
   "source": [
    "## Keyword arguments\n",
    "\n",
    "When defining and calling functions in Python, we have been using positional arguments thus far&mdash;arguments that are passed to a function in a specified order.\n",
    "However, Python also gives us the ability to pass arguments by keyword instead.\n",
    "This can be highly useful for functions that have numerous parameters, when you want to specify arguments out of order, or when you want to specify some parameters while letting others take their default values.\n",
    "\n",
    "Here is how it works.\n",
    "\n",
    "First we define a function called func that takes three parameters: `a`, `b`, and `c`.\n",
    "Inside the function we simply print out the values of the parameters."
   ]
  },
  {
   "cell_type": "code",
   "execution_count": 7,
   "metadata": {},
   "outputs": [],
   "source": [
    "def func_kwargs(a, b=5, c=10):\n",
    "    print(\"a is\", a, \"and b is\", b, \"and c is\", c)"
   ]
  },
  {
   "cell_type": "markdown",
   "metadata": {},
   "source": [
    "Note that we have set default values for parameters `b` and `c`, but not for `a`. This means:\n",
    "\n",
    "-   `a` is a required parameter, it does NOT have a default value\n",
    "-   `b` and `c` are optional parameters, they have the default values `5` and `10` respectively\n",
    "\n",
    "Let's call our function.\n",
    "Below, we pass `3` to parameter `a`, and override the default value of `b` by passing `7`.\n",
    "Since we didn't pass anything for `c`, it will take its default value `10`."
   ]
  },
  {
   "cell_type": "code",
   "execution_count": 8,
   "metadata": {},
   "outputs": [
    {
     "name": "stdout",
     "output_type": "stream",
     "text": [
      "a is 3 and b is 7 and c is 10\n"
     ]
    }
   ],
   "source": [
    "func_kwargs(3, 7)"
   ]
  },
  {
   "cell_type": "markdown",
   "metadata": {},
   "source": [
    "In this next call, we use a keyword argument.\n",
    "Here 25 gets assigned to `a`.\n",
    "We don't pass anything for `b` so it uses its default of `5`.\n",
    "Then we pass `24` to `c` by specifying it as a keyword argument."
   ]
  },
  {
   "cell_type": "code",
   "execution_count": 9,
   "metadata": {},
   "outputs": [
    {
     "name": "stdout",
     "output_type": "stream",
     "text": [
      "a is 25 and b is 5 and c is 24\n"
     ]
    }
   ],
   "source": [
    "func_kwargs(25, c=24)"
   ]
  },
  {
   "cell_type": "markdown",
   "metadata": {},
   "source": [
    "Finally, we can even pass arguments out of order using keywords.\n",
    "`c` is set to `50`, and `a` is set to `100`.\n",
    "`b` uses its default since it wasn't passed."
   ]
  },
  {
   "cell_type": "code",
   "execution_count": 10,
   "metadata": {},
   "outputs": [
    {
     "name": "stdout",
     "output_type": "stream",
     "text": [
      "a is 100 and b is 5 and c is 50\n"
     ]
    }
   ],
   "source": [
    "func_kwargs(c=50, a=100)"
   ]
  },
  {
   "cell_type": "markdown",
   "metadata": {},
   "source": [
    "Benefits of keyword arguments:\n",
    "\n",
    "-   **Order Flexibility:** Because we're passing arguments by name rather than position, we can specify them in any order we want in the function call.\n",
    "-   **Clarity:** Giving arguments by name makes our code more readable, especially with functions that have many parameters.\n",
    "    We can see at the call site exactly which values we're passing to the function.\n",
    "-   **Default Values:** By defining default values for parameters, we can omit those arguments when calling the function and the defaults will kick in.\n",
    "    This allows for customizable function calls.\n",
    "\n",
    "When you define a function, Python actually constructs an argument namespace dictionary for that function.\n",
    "In our `func_keywords` example, the namespace would be\n",
    "\n",
    "```python\n",
    "{\"a\": , \"b\": 5, \"c\": 10}\n",
    "```\n",
    "\n",
    "This is a special dictionary that maps the parameter names to the argument values that will be passed in.\n",
    "Python will populate the argument namespace with the keyword arguments you passed.\n",
    "\n",
    "```python\n",
    "func_kwargs(a=1, c=12)\n",
    "```\n",
    "\n",
    "would change the namespace to\n",
    "\n",
    "```python\n",
    "{\"a\": 1, \"b\": 5, \"c\": 12}\n",
    "```"
   ]
  },
  {
   "cell_type": "markdown",
   "metadata": {},
   "source": [
    "## Acknowledgements\n",
    "\n",
    "Much of this material has been adapted with permission from the following sources:\n",
    "\n",
    "- [Byte of Python](https://python.swaroopch.com/)"
   ]
  }
 ],
 "metadata": {
  "kernelspec": {
   "display_name": "biosc1540-2024s-dev",
   "language": "python",
   "name": "python3"
  },
  "language_info": {
   "codemirror_mode": {
    "name": "ipython",
    "version": 3
   },
   "file_extension": ".py",
   "mimetype": "text/x-python",
   "name": "python",
   "nbconvert_exporter": "python",
   "pygments_lexer": "ipython3",
   "version": "3.11.7"
  }
 },
 "nbformat": 4,
 "nbformat_minor": 2
}
