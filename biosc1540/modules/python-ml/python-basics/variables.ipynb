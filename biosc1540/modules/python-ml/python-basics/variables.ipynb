{
 "cells": [
  {
   "cell_type": "markdown",
   "metadata": {},
   "source": [
    "# Variables and assignment\n",
    "\n",
    "In programming languages, variables play a crucial role as they serve as containers for storing and manipulating data.\n",
    "A variable is essentially a symbolic name or identifier associated with a memory location that holds a value.\n",
    "These values can be numbers, characters, strings, or more complex data structures.\n",
    "\n",
    "## Names\n",
    "\n",
    "[PEP 8](https://peps.python.org/pep-0008/) is the recommended style guide for Python code.\n",
    "There are some variations, but having everyone stick to a consistent style helps new developers get up to speed quicker.\n",
    "There are some formatters, like [black](https://black.readthedocs.io/en/stable/), that are widely used because the automatically format your code consistently.\n",
    "\n",
    "Here are some guidelines for naming variables:\n",
    "\n",
    "-   Snake case is the most widely used convention for naming variables in Python.\n",
    "    It involves using lowercase letters and underscores to separate words.\n",
    "    For example: `my_variable`, `user_name`, `total_count`.\n",
    "-   Choose variable names that are descriptive and convey the purpose or content of the variable.\n",
    "    This makes the code more self-explanatory. For instance, use `customer_name` instead of `cn` or `x`.\n",
    "-   Unless used as loop counters or in certain mathematical contexts, try to avoid single-letter variable names.\n",
    "    Exceptions include common conventions like `i`, `j`, and `k` for loop counters.\n",
    "-   If you have a variable that is meant to be a constant (i.e., its value should never change), use all uppercase letters with underscores separating words.\n",
    "    For example: `MAX_SIZE`, `PI`."
   ]
  },
  {
   "cell_type": "markdown",
   "metadata": {},
   "source": [
    "## Assignment operator\n",
    "\n",
    "In Python, an assignment operator is used to assign a value to a variable.\n",
    "The most common assignment operator is the equal sign `(=).`\n",
    "It is important to note that the equal sign in the context of variable assignment is not a mathematical equality but rather an instruction to assign the value on the right-hand side to the variable on the left-hand side.\n",
    "\n",
    "When you use the assignment operator (`=`) to create a variable, Python reserves a space in memory to store the value associated with that variable."
   ]
  },
  {
   "cell_type": "code",
   "execution_count": 1,
   "metadata": {},
   "outputs": [],
   "source": [
    "example_number = 10"
   ]
  },
  {
   "cell_type": "markdown",
   "metadata": {},
   "source": [
    "In this case, Python creates a variable named `example_number` and allocates memory to store the integer value `10`."
   ]
  },
  {
   "cell_type": "code",
   "execution_count": 2,
   "metadata": {},
   "outputs": [
    {
     "name": "stdout",
     "output_type": "stream",
     "text": [
      "10\n"
     ]
    }
   ],
   "source": [
    "print(example_number)"
   ]
  },
  {
   "cell_type": "markdown",
   "metadata": {},
   "source": [
    "The memory allocated for the variable holds the actual value.\n",
    "It's important to note that Python automatically manages memory, and you don't need to explicitly allocate or deallocate memory as you might in some lower-level languages.\n",
    "\n",
    "The variable `example_number` becomes a reference to the memory location where the value `10` is stored.\n",
    "Think of a variable as a label or a name pointing to a specific location in the computer's memory.\n",
    "\n",
    "If you later reassign a new value to the same variable, Python updates the content of the memory location associated with that variable."
   ]
  },
  {
   "cell_type": "code",
   "execution_count": 3,
   "metadata": {},
   "outputs": [
    {
     "name": "stdout",
     "output_type": "stream",
     "text": [
      "20\n"
     ]
    }
   ],
   "source": [
    "example_number = 20\n",
    "print(example_number)"
   ]
  },
  {
   "cell_type": "markdown",
   "metadata": {},
   "source": [
    "Now, `example_number` refers to a memory location containing the value `20`, and the previous value `10` is no longer associated with `example_number`."
   ]
  },
  {
   "cell_type": "markdown",
   "metadata": {},
   "source": [
    "## print\n",
    "\n",
    "We have already seen this above, but the `print()` function is used to display information on the console or terminal.\n",
    "It is a built-in function that allows you to output text, variables, or expressions for debugging, user interaction, or any other purpose where you need to see the output of your program."
   ]
  },
  {
   "cell_type": "code",
   "execution_count": 4,
   "metadata": {},
   "outputs": [
    {
     "name": "stdout",
     "output_type": "stream",
     "text": [
      "Look ma, I'm printing!\n"
     ]
    }
   ],
   "source": [
    "print(\"Look ma, I'm printing!\")"
   ]
  },
  {
   "cell_type": "markdown",
   "metadata": {},
   "source": [
    "We can also provide multiple values."
   ]
  },
  {
   "cell_type": "code",
   "execution_count": 5,
   "metadata": {},
   "outputs": [
    {
     "name": "stdout",
     "output_type": "stream",
     "text": [
      "Alex is 20 years old.\n"
     ]
    }
   ],
   "source": [
    "print(\"Alex is\", example_number, \"years old.\")"
   ]
  },
  {
   "cell_type": "markdown",
   "metadata": {},
   "source": [
    "## Declare before use\n",
    "\n",
    "In Python, you need to explicitly declare and assign a value to a variable before you attempt to use it in your code.\n",
    "\n",
    "If you try to use a variable before it has been created, Python will raise an error.\n",
    "This includes attempting to use a variable name that hasn't been declared or has been misspelled. For example:"
   ]
  },
  {
   "cell_type": "code",
   "execution_count": 6,
   "metadata": {},
   "outputs": [
    {
     "ename": "NameError",
     "evalue": "name 'other_example_number' is not defined",
     "output_type": "error",
     "traceback": [
      "\u001b[0;31m---------------------------------------------------------------------------\u001b[0m",
      "\u001b[0;31mNameError\u001b[0m                                 Traceback (most recent call last)",
      "Cell \u001b[0;32mIn[6], line 1\u001b[0m\n\u001b[0;32m----> 1\u001b[0m \u001b[38;5;28mprint\u001b[39m(\u001b[43mother_example_number\u001b[49m)\n",
      "\u001b[0;31mNameError\u001b[0m: name 'other_example_number' is not defined"
     ]
    }
   ],
   "source": [
    "print(other_example_number)"
   ]
  },
  {
   "cell_type": "markdown",
   "metadata": {},
   "source": [
    "By enforcing the rule that variables must be created before they are used, Python helps catch potential errors early in the development process, promoting code clarity and preventing accidental use of undefined or misspelled variable names.\n",
    "\n",
    "<div class=\"admonition warning\">\n",
    "    <p class=\"admonition-title\">Warning</p>\n",
    "    <p style=\"padding-top: 1em\">\n",
    "        Be aware that it is the order of execution of cells that is important in a Jupyter notebook, not the order in which they appear.\n",
    "        Python will remember all the code that was run previously, including any variables you have defined, irrespective of the order in the notebook.\n",
    "        Therefore if you define variables lower down the notebook and then (re)run cells further up, those defined further down will still be present.\n",
    "    </p>\n",
    "</div>"
   ]
  },
  {
   "cell_type": "markdown",
   "metadata": {},
   "source": [
    "## Data types\n",
    "\n",
    "In programming, a data type is a classification that specifies which type of value a variable can hold.\n",
    "It defines the operations that can be performed on the data and the way the data is stored in the computer's memory.\n",
    "Data types are essential for ensuring proper representation and manipulation of information in a program.\n",
    "\n",
    "Data types define how different types of values, such as numbers, characters, or logical values, are represented in the computer's memory. For example, an integer data type may use a fixed amount of memory to store whole numbers.\n",
    "\n",
    "Each data type comes with a set of operations that can be performed on values of that type. For instance, you can perform arithmetic operations on numeric types, concatenate strings, or compare values using logical operations.\n",
    "\n",
    "Data types determine how much memory is allocated to store a particular value. Different data types may require different amounts of memory. For example, a floating-point number may require more memory than an integer.\n",
    "\n",
    "### Scalar\n",
    "\n",
    "A scalar value, in the context of programming and mathematics, refers to a single value or element that is not part of a larger set or structure. It is the simplest form of data, representing a single quantity, number, or item.\n",
    "Scalar values are typically atomic and indivisible.\n",
    "They are not composed of smaller components. \n",
    "\n",
    "#### Numeric\n",
    "\n",
    "Integers (`int`): Whole numbers without a decimal point.\n"
   ]
  },
  {
   "cell_type": "code",
   "execution_count": 7,
   "metadata": {},
   "outputs": [
    {
     "name": "stdout",
     "output_type": "stream",
     "text": [
      "<class 'int'>\n",
      "<class 'int'>\n",
      "<class 'int'>\n"
     ]
    }
   ],
   "source": [
    "print(type(1))\n",
    "print(type(-5))\n",
    "print(type(1000))"
   ]
  },
  {
   "cell_type": "markdown",
   "metadata": {},
   "source": [
    "Floating-point numbers (`float`): Numbers with a decimal point."
   ]
  },
  {
   "cell_type": "code",
   "execution_count": 8,
   "metadata": {},
   "outputs": [
    {
     "name": "stdout",
     "output_type": "stream",
     "text": [
      "<class 'float'>\n",
      "<class 'float'>\n",
      "<class 'float'>\n"
     ]
    }
   ],
   "source": [
    "print(type(3.14))\n",
    "print(type(-0.5))\n",
    "print(type(2.0))"
   ]
  },
  {
   "cell_type": "markdown",
   "metadata": {},
   "source": [
    "#### Text\n",
    "\n",
    "Strings (`str`): Represents sequences of characters, such as `\"hello\"` or `'123'`."
   ]
  },
  {
   "cell_type": "code",
   "execution_count": 9,
   "metadata": {},
   "outputs": [
    {
     "name": "stdout",
     "output_type": "stream",
     "text": [
      "<class 'str'>\n",
      "<class 'str'>\n"
     ]
    }
   ],
   "source": [
    "print(type(\"hello\"))\n",
    "print(type(\"123\"))"
   ]
  },
  {
   "cell_type": "markdown",
   "metadata": {},
   "source": [
    "You can define a string in between a pair of `\"` or `'`.\n",
    "However, people generally use `\"` because it is more common to have a `'` in the string they want to store."
   ]
  },
  {
   "cell_type": "markdown",
   "metadata": {},
   "source": [
    "#### Boolean\n",
    "\n",
    "Boolean values (`bool`): Represents either `True` or `False`.\n"
   ]
  },
  {
   "cell_type": "code",
   "execution_count": 10,
   "metadata": {},
   "outputs": [
    {
     "name": "stdout",
     "output_type": "stream",
     "text": [
      "<class 'bool'>\n",
      "<class 'bool'>\n"
     ]
    }
   ],
   "source": [
    "print(type(True))\n",
    "print(type(False))"
   ]
  },
  {
   "cell_type": "markdown",
   "metadata": {},
   "source": [
    "However, if we wrap double quotes around `True` or `False` it becomes a string."
   ]
  },
  {
   "cell_type": "code",
   "execution_count": 11,
   "metadata": {},
   "outputs": [
    {
     "name": "stdout",
     "output_type": "stream",
     "text": [
      "<class 'str'>\n"
     ]
    }
   ],
   "source": [
    "print(type(\"False\"))"
   ]
  },
  {
   "cell_type": "markdown",
   "metadata": {},
   "source": [
    "#### None\n",
    "\n",
    "None is a special constant representing the absence of a value or a null value.\n",
    "It is a built-in singleton object of the NoneType data type."
   ]
  },
  {
   "cell_type": "code",
   "execution_count": 12,
   "metadata": {},
   "outputs": [
    {
     "name": "stdout",
     "output_type": "stream",
     "text": [
      "<class 'NoneType'>\n"
     ]
    }
   ],
   "source": [
    "print(type(None))"
   ]
  },
  {
   "cell_type": "markdown",
   "metadata": {},
   "source": [
    "### Sequence\n",
    "\n",
    "In Python, a sequence is a type of data structure that represents an ordered collection of elements.\n",
    "Elements within a sequence are indexed by their position, starting from `0` for the first element.\n",
    "Sequences support various operations such as indexing, slicing, iteration, and concatenation.\n",
    "\n",
    "You are also able to store different data types in the same sequence.\n",
    "\n",
    "#### list\n",
    "\n",
    "Lists are mutable, meaning you can add, remove, or modify elements after the list is created."
   ]
  },
  {
   "cell_type": "code",
   "execution_count": 13,
   "metadata": {},
   "outputs": [
    {
     "name": "stdout",
     "output_type": "stream",
     "text": [
      "[21, False, '24', 'apple', 22]\n"
     ]
    }
   ],
   "source": [
    "student_ages = [21, False, \"24\", \"apple\", 22]\n",
    "print(student_ages)"
   ]
  },
  {
   "cell_type": "code",
   "execution_count": 14,
   "metadata": {},
   "outputs": [
    {
     "name": "stdout",
     "output_type": "stream",
     "text": [
      "21\n"
     ]
    }
   ],
   "source": [
    "print(student_ages[0])"
   ]
  },
  {
   "cell_type": "code",
   "execution_count": 15,
   "metadata": {},
   "outputs": [
    {
     "name": "stdout",
     "output_type": "stream",
     "text": [
      "22\n"
     ]
    }
   ],
   "source": [
    "print(student_ages[4])"
   ]
  },
  {
   "cell_type": "code",
   "execution_count": 16,
   "metadata": {},
   "outputs": [
    {
     "name": "stdout",
     "output_type": "stream",
     "text": [
      "[21, False, '24', 'apple', 22, 25]\n"
     ]
    }
   ],
   "source": [
    "student_ages.append(25)\n",
    "print(student_ages)"
   ]
  },
  {
   "cell_type": "markdown",
   "metadata": {},
   "source": [
    "You can use negative indices to count backwards in any sequence.\n",
    "`-1` would mean the last element in the sequence, `-2` the second to last element, etc."
   ]
  },
  {
   "cell_type": "code",
   "execution_count": 17,
   "metadata": {},
   "outputs": [
    {
     "name": "stdout",
     "output_type": "stream",
     "text": [
      "[21, False, '24', 20, 22, 25]\n"
     ]
    }
   ],
   "source": [
    "student_ages[-3] = 20\n",
    "print(student_ages)"
   ]
  },
  {
   "cell_type": "markdown",
   "metadata": {},
   "source": [
    "You can also get the number of elements in a sequence."
   ]
  },
  {
   "cell_type": "code",
   "execution_count": 18,
   "metadata": {},
   "outputs": [
    {
     "data": {
      "text/plain": [
       "6"
      ]
     },
     "execution_count": 18,
     "metadata": {},
     "output_type": "execute_result"
    }
   ],
   "source": [
    "len(student_ages)"
   ]
  },
  {
   "cell_type": "markdown",
   "metadata": {},
   "source": [
    "This does not work for scalars."
   ]
  },
  {
   "cell_type": "code",
   "execution_count": 19,
   "metadata": {},
   "outputs": [
    {
     "ename": "TypeError",
     "evalue": "object of type 'int' has no len()",
     "output_type": "error",
     "traceback": [
      "\u001b[0;31m---------------------------------------------------------------------------\u001b[0m",
      "\u001b[0;31mTypeError\u001b[0m                                 Traceback (most recent call last)",
      "Cell \u001b[0;32mIn[19], line 1\u001b[0m\n\u001b[0;32m----> 1\u001b[0m \u001b[38;5;28;43mlen\u001b[39;49m\u001b[43m(\u001b[49m\u001b[38;5;241;43m21\u001b[39;49m\u001b[43m)\u001b[49m\n",
      "\u001b[0;31mTypeError\u001b[0m: object of type 'int' has no len()"
     ]
    }
   ],
   "source": [
    "len(21)"
   ]
  },
  {
   "cell_type": "markdown",
   "metadata": {},
   "source": [
    "#### tuple\n",
    "\n",
    "Similar to lists but immutable. Once a tuple is created, its elements cannot be changed."
   ]
  },
  {
   "cell_type": "code",
   "execution_count": 20,
   "metadata": {},
   "outputs": [
    {
     "name": "stdout",
     "output_type": "stream",
     "text": [
      "(21, 22, False, 'apple', 23)\n"
     ]
    }
   ],
   "source": [
    "instructor_ages = (21, 22, False, \"apple\", 23)\n",
    "print(instructor_ages)"
   ]
  },
  {
   "cell_type": "code",
   "execution_count": 21,
   "metadata": {},
   "outputs": [
    {
     "name": "stdout",
     "output_type": "stream",
     "text": [
      "21\n"
     ]
    }
   ],
   "source": [
    "print(instructor_ages[0])"
   ]
  },
  {
   "cell_type": "code",
   "execution_count": 22,
   "metadata": {},
   "outputs": [
    {
     "ename": "AttributeError",
     "evalue": "'tuple' object has no attribute 'append'",
     "output_type": "error",
     "traceback": [
      "\u001b[0;31m---------------------------------------------------------------------------\u001b[0m",
      "\u001b[0;31mAttributeError\u001b[0m                            Traceback (most recent call last)",
      "Cell \u001b[0;32mIn[22], line 1\u001b[0m\n\u001b[0;32m----> 1\u001b[0m \u001b[43minstructor_ages\u001b[49m\u001b[38;5;241;43m.\u001b[39;49m\u001b[43mappend\u001b[49m(\u001b[38;5;241m25\u001b[39m)\n",
      "\u001b[0;31mAttributeError\u001b[0m: 'tuple' object has no attribute 'append'"
     ]
    }
   ],
   "source": [
    "instructor_ages.append(25)"
   ]
  },
  {
   "cell_type": "code",
   "execution_count": 23,
   "metadata": {},
   "outputs": [
    {
     "ename": "TypeError",
     "evalue": "'tuple' object does not support item assignment",
     "output_type": "error",
     "traceback": [
      "\u001b[0;31m---------------------------------------------------------------------------\u001b[0m",
      "\u001b[0;31mTypeError\u001b[0m                                 Traceback (most recent call last)",
      "Cell \u001b[0;32mIn[23], line 1\u001b[0m\n\u001b[0;32m----> 1\u001b[0m \u001b[43minstructor_ages\u001b[49m\u001b[43m[\u001b[49m\u001b[38;5;241;43m-\u001b[39;49m\u001b[38;5;241;43m3\u001b[39;49m\u001b[43m]\u001b[49m \u001b[38;5;241m=\u001b[39m \u001b[38;5;241m20\u001b[39m\n",
      "\u001b[0;31mTypeError\u001b[0m: 'tuple' object does not support item assignment"
     ]
    }
   ],
   "source": [
    "instructor_ages[-3] = 20"
   ]
  },
  {
   "cell_type": "markdown",
   "metadata": {},
   "source": [
    "So why would you want to use a tuple instead of a list?\n",
    "\n",
    "-   If you need a collection of items that should not be changed or modified throughout the program, using a tuple provides immutability. This prevents accidental modifications and ensures data consistency.\n",
    "-   Tuples are generally more memory-efficient than lists because of their immutability. If your data does not need to change, using a tuple can result in better performance."
   ]
  },
  {
   "cell_type": "markdown",
   "metadata": {},
   "source": [
    "### Iterables\n",
    "\n",
    "You may hear people say \"iterable\" and \"sequence\" interchangeably.\n",
    "They are not the same!\n",
    "An iterable is any object that can be iterated over, meaning you can go through its data one element at a time.\n",
    "Sequences, on the other hand, can be iterated over **and** get specific values based on an index.\n",
    "Every sequence is an iterable, but not every iterable is a sequence.\n",
    "This is not really important for this course, but becomes crucial for [type hints](https://peps.python.org/pep-0484/) and efficient algorithm design."
   ]
  },
  {
   "cell_type": "markdown",
   "metadata": {},
   "source": [
    "## Slicing\n",
    "\n",
    "In Python, the colon `:` is used for slicing in sequences, such as strings, lists, and tuples.\n",
    "The syntax for slicing is generally `start:stop:step`.\n",
    "Here's an explanation of each part:\n",
    "\n",
    "-   `start`: The index at which the slice begins (inclusive).\n",
    "    If omitted, it defaults to the beginning of the sequence.\n",
    "-   `stop`: The index at which the slice ends (exclusive).\n",
    "    If omitted, it defaults to the end of the sequence.\n",
    "-   `step`: The step size or the number of indices between each slice.\n",
    "    If omitted, it defaults to 1.\n",
    "\n",
    "\n",
    "`None` is used to define the absence of one of these values."
   ]
  },
  {
   "cell_type": "code",
   "execution_count": 24,
   "metadata": {},
   "outputs": [
    {
     "name": "stdout",
     "output_type": "stream",
     "text": [
      "(21, 22, False, 'apple', 23)\n",
      "(21, 22, False, 'apple', 23)\n",
      "(21, 22, False, 'apple', 23)\n"
     ]
    }
   ],
   "source": [
    "print(instructor_ages)\n",
    "print(instructor_ages[None:None:None])\n",
    "print(instructor_ages[::])"
   ]
  },
  {
   "cell_type": "code",
   "execution_count": 25,
   "metadata": {},
   "outputs": [
    {
     "name": "stdout",
     "output_type": "stream",
     "text": [
      "(False, 'apple', 23)\n",
      "(False, 'apple', 23)\n",
      "(False, 'apple', 23)\n"
     ]
    }
   ],
   "source": [
    "print(instructor_ages[2:None:None])\n",
    "print(instructor_ages[2:None:])\n",
    "print(instructor_ages[2:])"
   ]
  },
  {
   "cell_type": "code",
   "execution_count": 26,
   "metadata": {},
   "outputs": [
    {
     "name": "stdout",
     "output_type": "stream",
     "text": [
      "(21, 22)\n",
      "(21, 22)\n"
     ]
    }
   ],
   "source": [
    "print(instructor_ages[:2])\n",
    "print(instructor_ages[:2:])"
   ]
  },
  {
   "cell_type": "code",
   "execution_count": 27,
   "metadata": {},
   "outputs": [
    {
     "name": "stdout",
     "output_type": "stream",
     "text": [
      "(21, False, 23)\n"
     ]
    }
   ],
   "source": [
    "print(instructor_ages[None:None:2])"
   ]
  },
  {
   "cell_type": "markdown",
   "metadata": {},
   "source": [
    "## Case matters\n",
    "\n",
    "Python is a case-sensitive programming language, which means that it distinguishes between uppercase and lowercase letters.\n",
    "This applies not only to variable names but also to function names, class names, and other identifiers in your code."
   ]
  },
  {
   "cell_type": "code",
   "execution_count": 28,
   "metadata": {},
   "outputs": [
    {
     "name": "stdout",
     "output_type": "stream",
     "text": [
      "10\n",
      "20\n"
     ]
    }
   ],
   "source": [
    "my_variable = 10\n",
    "My_Variable = 20\n",
    "print(my_variable)\n",
    "print(My_Variable)"
   ]
  },
  {
   "cell_type": "markdown",
   "metadata": {},
   "source": [
    "## Acknowledgements\n",
    "\n",
    "Much of this material has been adapted with permission from the following sources:\n",
    "\n",
    "- [Plotting and Programming in Python](https://swcarpentry.github.io/python-novice-gapminder/)"
   ]
  }
 ],
 "metadata": {
  "kernelspec": {
   "display_name": "biosc1540-2024s-dev",
   "language": "python",
   "name": "python3"
  },
  "language_info": {
   "codemirror_mode": {
    "name": "ipython",
    "version": 3
   },
   "file_extension": ".py",
   "mimetype": "text/x-python",
   "name": "python",
   "nbconvert_exporter": "python",
   "pygments_lexer": "ipython3",
   "version": "3.11.7"
  }
 },
 "nbformat": 4,
 "nbformat_minor": 2
}
