{
 "cells": [
  {
   "cell_type": "markdown",
   "metadata": {},
   "source": [
    "# Linear regression\n",
    "\n",
    "Now that we have our linear expression \n",
    "\n",
    "$$\n",
    "Y = \\beta_0 + \\sum_{i = 1} \\beta_i X_i\n",
    "$$\n",
    "\n",
    "we can attempt to find the values for each $\\beta$."
   ]
  },
  {
   "cell_type": "code",
   "execution_count": 1,
   "metadata": {},
   "outputs": [
    {
     "name": "stdout",
     "output_type": "stream",
     "text": [
      "         TV  Billboards  Google_Ads  Social_Media  Influencer_Marketing  \\\n",
      "0    281.42      538.80      123.94        349.30                242.77   \n",
      "1    702.97      296.53      558.13        180.55                781.06   \n",
      "2    313.14      295.94      642.96        505.71                438.91   \n",
      "3    898.52       61.27      548.73        240.93                278.96   \n",
      "4    766.52      550.72      651.91        666.33                396.33   \n",
      "..      ...         ...         ...           ...                   ...   \n",
      "395  873.32      234.67      563.21        401.88                789.44   \n",
      "396  421.88      449.22      564.77        334.88                689.77   \n",
      "397  599.22      789.88      831.32        450.88                398.44   \n",
      "398  784.33      500.67      958.88        635.22                786.44   \n",
      "399  290.67      321.88      640.56        765.22                409.77   \n",
      "\n",
      "     Affiliate_Marketing  Product_Sold  \n",
      "0                 910.10        7164.0  \n",
      "1                 132.43        5055.0  \n",
      "2                 464.23        6154.0  \n",
      "3                 432.27        5480.0  \n",
      "4                 841.93        9669.0  \n",
      "..                   ...           ...  \n",
      "395               683.67        8023.0  \n",
      "396               710.45        7334.0  \n",
      "397               561.89        8721.0  \n",
      "398               462.11        9311.0  \n",
      "399               688.45        6211.0  \n",
      "\n",
      "[400 rows x 7 columns]\n"
     ]
    }
   ],
   "source": [
    "import pandas as pd\n",
    "\n",
    "df_adv = pd.read_csv(\"./advertising-data.csv\")\n",
    "print(df_adv)"
   ]
  },
  {
   "cell_type": "markdown",
   "metadata": {},
   "source": [
    "Instead of trying to find all these at once we will just start with `Social_Media`."
   ]
  },
  {
   "cell_type": "code",
   "execution_count": 2,
   "metadata": {},
   "outputs": [
    {
     "name": "stdout",
     "output_type": "stream",
     "text": [
      "(400,)\n",
      "[7164. 5055. 6154. 5480. 9669. 7627. 5177. 3726. 9801. 8652.]\n"
     ]
    }
   ],
   "source": [
    "import numpy as np\n",
    "\n",
    "cost_social_media = df_adv[\"Social_Media\"].to_numpy()\n",
    "product_sold = df_adv[\"Product_Sold\"].to_numpy()\n",
    "\n",
    "print(product_sold.shape)\n",
    "print(product_sold[:10])"
   ]
  },
  {
   "cell_type": "markdown",
   "metadata": {},
   "source": [
    "## SciPy"
   ]
  },
  {
   "cell_type": "code",
   "execution_count": 3,
   "metadata": {},
   "outputs": [],
   "source": [
    "def linear_model(betas, x):\n",
    "    \"\"\"Generic linear expression\"\"\"\n",
    "    beta_0, beta_1 = betas\n",
    "    y = beta_0 + x * beta_1\n",
    "    return y"
   ]
  },
  {
   "cell_type": "code",
   "execution_count": 4,
   "metadata": {},
   "outputs": [],
   "source": [
    "def mse(betas, x_data, y_data):\n",
    "    \"\"\"Compute mean squared error of a linear model.\"\"\"\n",
    "    # Compute squared error\n",
    "    beta_0, beta_1 = betas\n",
    "    y_pred = beta_0 + beta_1 * x_data\n",
    "\n",
    "    # Square and average errors\n",
    "    squared_errors = (y_pred - y_data) ** 2\n",
    "    mse = squared_errors.mean()\n",
    "\n",
    "    return mse"
   ]
  },
  {
   "cell_type": "code",
   "execution_count": 5,
   "metadata": {},
   "outputs": [
    {
     "name": "stdout",
     "output_type": "stream",
     "text": [
      "beta_0 = 5932.463\n",
      "beta_1 =    2.418\n"
     ]
    }
   ],
   "source": [
    "from scipy.optimize import minimize\n",
    "\n",
    "betas_guess = [1.0, 1.0]\n",
    "res = minimize(mse, betas_guess, (cost_social_media, product_sold))\n",
    "betas_scipy = res.x\n",
    "\n",
    "print(f\"beta_0 = {betas_scipy[0]:.3f}\")\n",
    "print(f\"beta_1 =    {betas_scipy[1]:.3f}\")"
   ]
  },
  {
   "cell_type": "markdown",
   "metadata": {},
   "source": [
    "## sklearn\n"
   ]
  },
  {
   "cell_type": "markdown",
   "metadata": {},
   "source": [
    "TODO:"
   ]
  },
  {
   "cell_type": "code",
   "execution_count": 6,
   "metadata": {},
   "outputs": [
    {
     "name": "stdout",
     "output_type": "stream",
     "text": [
      "\n",
      "New shape\n",
      "(400, 1)\n",
      "[[7164.]\n",
      " [5055.]\n",
      " [6154.]\n",
      " [5480.]\n",
      " [9669.]\n",
      " [7627.]\n",
      " [5177.]\n",
      " [3726.]\n",
      " [9801.]\n",
      " [8652.]]\n"
     ]
    }
   ],
   "source": [
    "cost_social_media = cost_social_media.reshape(-1, 1)\n",
    "product_sold = product_sold.reshape(-1, 1)\n",
    "\n",
    "print(\"\\nNew shape\")\n",
    "print(product_sold.shape)\n",
    "print(product_sold[:10])"
   ]
  },
  {
   "cell_type": "code",
   "execution_count": 7,
   "metadata": {},
   "outputs": [],
   "source": [
    "from sklearn.linear_model import LinearRegression\n",
    "\n",
    "reg = LinearRegression()"
   ]
  },
  {
   "cell_type": "code",
   "execution_count": 8,
   "metadata": {},
   "outputs": [
    {
     "name": "stdout",
     "output_type": "stream",
     "text": [
      "beta_0 = 5932.473\n",
      "beta_1 =    2.418\n"
     ]
    }
   ],
   "source": [
    "reg.fit(X=cost_social_media, y=product_sold)\n",
    "\n",
    "print(f\"beta_0 = {reg.intercept_[0]:.3f}\")\n",
    "print(f\"beta_1 =    {reg.coef_[0][0]:.3f}\")"
   ]
  },
  {
   "cell_type": "markdown",
   "metadata": {},
   "source": [
    "## Acknowledgements\n",
    "\n",
    "Much of this material has been adapted from [An Introduction to Statistical Learning](https://www.statlearning.com/) to be more digestible for undergraduates starting in Biology."
   ]
  }
 ],
 "metadata": {
  "kernelspec": {
   "display_name": "biosc1540-2024s-dev",
   "language": "python",
   "name": "python3"
  },
  "language_info": {
   "codemirror_mode": {
    "name": "ipython",
    "version": 3
   },
   "file_extension": ".py",
   "mimetype": "text/x-python",
   "name": "python",
   "nbconvert_exporter": "python",
   "pygments_lexer": "ipython3",
   "version": "3.11.7"
  }
 },
 "nbformat": 4,
 "nbformat_minor": 2
}
