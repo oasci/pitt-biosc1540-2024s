{
 "cells": [
  {
   "cell_type": "markdown",
   "metadata": {},
   "source": [
    "# Linear regression\n",
    "\n",
    "Now that we have our linear expression \n",
    "\n",
    "$$\n",
    "Y = \\beta_0 + \\sum_{i = 1} \\beta_i X_i\n",
    "$$\n",
    "\n",
    "we can attempt to find the values for each $\\beta$."
   ]
  },
  {
   "cell_type": "code",
   "execution_count": 1,
   "metadata": {},
   "outputs": [
    {
     "name": "stdout",
     "output_type": "stream",
     "text": [
      "         TV  Billboards  Google_Ads  Social_Media  Influencer_Marketing  \\\n",
      "0    281.42      538.80      123.94        349.30                242.77   \n",
      "1    702.97      296.53      558.13        180.55                781.06   \n",
      "2    313.14      295.94      642.96        505.71                438.91   \n",
      "3    898.52       61.27      548.73        240.93                278.96   \n",
      "4    766.52      550.72      651.91        666.33                396.33   \n",
      "..      ...         ...         ...           ...                   ...   \n",
      "395  873.32      234.67      563.21        401.88                789.44   \n",
      "396  421.88      449.22      564.77        334.88                689.77   \n",
      "397  599.22      789.88      831.32        450.88                398.44   \n",
      "398  784.33      500.67      958.88        635.22                786.44   \n",
      "399  290.67      321.88      640.56        765.22                409.77   \n",
      "\n",
      "     Affiliate_Marketing  Product_Sold  \n",
      "0                 910.10        7164.0  \n",
      "1                 132.43        5055.0  \n",
      "2                 464.23        6154.0  \n",
      "3                 432.27        5480.0  \n",
      "4                 841.93        9669.0  \n",
      "..                   ...           ...  \n",
      "395               683.67        8023.0  \n",
      "396               710.45        7334.0  \n",
      "397               561.89        8721.0  \n",
      "398               462.11        9311.0  \n",
      "399               688.45        6211.0  \n",
      "\n",
      "[400 rows x 7 columns]\n"
     ]
    }
   ],
   "source": [
    "import pandas as pd\n",
    "\n",
    "df_adv = pd.read_csv(\"./advertising-data.csv\")\n",
    "print(df_adv)"
   ]
  },
  {
   "cell_type": "markdown",
   "metadata": {},
   "source": [
    "Instead of trying to find all these at once we will just start with `Social_Media`."
   ]
  },
  {
   "cell_type": "code",
   "execution_count": 2,
   "metadata": {},
   "outputs": [
    {
     "name": "stdout",
     "output_type": "stream",
     "text": [
      "(400,)\n",
      "[7164. 5055. 6154. 5480. 9669. 7627. 5177. 3726. 9801. 8652.]\n"
     ]
    }
   ],
   "source": [
    "import numpy as np\n",
    "\n",
    "cost_social_media = df_adv[\"Social_Media\"].to_numpy()\n",
    "product_sold = df_adv[\"Product_Sold\"].to_numpy()\n",
    "\n",
    "print(product_sold.shape)\n",
    "print(product_sold[:10])"
   ]
  },
  {
   "cell_type": "markdown",
   "metadata": {},
   "source": [
    "## SciPy"
   ]
  },
  {
   "cell_type": "code",
   "execution_count": 3,
   "metadata": {},
   "outputs": [],
   "source": [
    "def linear_model(betas, x):\n",
    "    \"\"\"Generic linear expression\"\"\"\n",
    "    beta_0, beta_1 = betas\n",
    "    y = beta_0 + x * beta_1\n",
    "    return y"
   ]
  },
  {
   "cell_type": "code",
   "execution_count": 4,
   "metadata": {},
   "outputs": [],
   "source": [
    "def mse(betas, x_data, y_data):\n",
    "    \"\"\"Compute mean squared error of a linear model.\"\"\"\n",
    "    # Compute squared error\n",
    "    beta_0, beta_1 = betas\n",
    "    y_pred = beta_0 + beta_1 * x_data\n",
    "\n",
    "    # Square and average errors\n",
    "    squared_errors = (y_pred - y_data) ** 2\n",
    "    mse = squared_errors.mean()\n",
    "\n",
    "    return mse"
   ]
  },
  {
   "cell_type": "code",
   "execution_count": 5,
   "metadata": {},
   "outputs": [
    {
     "name": "stdout",
     "output_type": "stream",
     "text": [
      "beta_0 = 5932.463\n",
      "beta_1 =    2.418\n"
     ]
    }
   ],
   "source": [
    "from scipy.optimize import minimize\n",
    "\n",
    "betas_guess = [1.0, 1.0]\n",
    "res = minimize(mse, betas_guess, (cost_social_media, product_sold))\n",
    "betas_scipy = res.x\n",
    "\n",
    "print(f\"beta_0 = {betas_scipy[0]:.3f}\")\n",
    "print(f\"beta_1 =    {betas_scipy[1]:.3f}\")"
   ]
  },
  {
   "cell_type": "markdown",
   "metadata": {},
   "source": [
    "## sklearn\n"
   ]
  },
  {
   "cell_type": "code",
   "execution_count": 6,
   "metadata": {},
   "outputs": [
    {
     "ename": "ValueError",
     "evalue": "Expected 2D array, got 1D array instead:\narray=[349.3  180.55 505.71 240.93 666.33 142.96 271.62  97.85 759.04 329.15\n 970.28 992.3  626.87 102.96 358.88 153.75 531.53 609.33  74.83  31.38\n 347.92 252.3  145.03 968.13 895.59 695.95 855.9  800.94 580.06 793.12\n 526.25 316.48 834.98 213.33 887.1  758.   170.31 304.15 664.95 573.63\n  35.43 471.67 298.49 109.31  32.52 624.03 155.25 586.17 276.39 786.06\n 470.89 192.2  257.88 829.   206.61 230.22 254.77 393.81 555.73 496.81\n 910.23 901.98 407.08 557.15 353.72 767.46  11.69 369.57 873.18 619.22\n 917.84 694.84 918.84 438.44 725.44 595.24 837.4  162.85 535.22 630.16\n 657.96 593.97 362.43 888.42 539.74 646.87 679.08  50.03 689.61 161.65\n 100.35 285.48 373.02 361.36 352.17 595.41 235.03 597.94 421.19  29.11\n 744.64 764.15 477.59 531.5  117.63 221.03 314.81 884.94 762.53 379.17\n 681.03  48.06 851.19 588.1   63.47 199.95 934.6  547.92 349.42 411.67\n 443.14 653.83 360.1  189.84 810.67 320.03 408.09 663.6  485.14 401.46\n 574.66 510.64 662.46 809.05 487.63 588.21 144.69 679.19 317.25 425.96\n 734.   562.54 569.2  949.21  57.73  55.67  48.26 961.58 429.08 779.52\n 906.55 644.91 914.94 552.05 794.89 753.24 440.71 160.58 484.32 436.82\n  95.81  44.73  79.95 907.89 406.79 731.43 888.38 277.28 907.29 152.38\n 576.07 300.17 364.03 559.48 203.09 512.33 172.98 313.47 857.64 949.07\n 230.73 116.79 531.67 296.04 381.83 222.02 642.39 329.66 601.86 905.36\n 735.75 620.32 655.5  385.05 944.26 686.41 622.36  40.6  461.4  228.75\n 455.   283.05  18.49 464.89 651.29 510.37 579.99  37.54 228.98  99.33\n 828.4  656.   479.65  77.17 208.8  650.2  654.59 332.31  48.41 617.71\n 578.32 236.32 589.08 299.63 823.89 886.41  91.9  728.87 711.14 477.86\n 493.29 581.93 354.38 953.58 583.57 384.3  398.59 284.39 325.73 496.54\n 289.98 769.67 962.41 946.4  410.78 454.6  184.65 166.23 226.57  39.88\n 660.73 123.44 472.84 475.05 151.49 996.16 268.19  48.   709.57  28.84\n 877.91 589.36 295.79 416.52 753.44 584.88 557.25 466.47 244.74 677.43\n 578.7  861.16 811.9  852.62 334.76  42.51 723.51 121.48 202.29 712.51\n 891.25 217.72 229.34 948.97 986.35 872.34 362.08 868.58 852.48 932.19\n 587.2  360.38 622.86 979.08 555.71 172.26 366.95  60.61 343.65 802.3\n 431.15 837.32 729.18 114.52 753.47 281.77 325.04 920.04 603.16 793.14\n 460.89 401.89 244.39 761.02 588.15 629.94 756.21 322.58 897.83 392.8\n 724.99 720.85 892.34 331.55 512.61 904.64 226.84 245.09 953.77 764.22\n 552.67 716.33 371.62 564.83 803.65 789.12 423.27 543.34 212.45 347.51\n 587.61 723.46 847.77 474.62 408.78 238.32 685.13 982.15 642.81 854.62\n 493.23 420.32 321.87 459.12 189.04 632.73 490.32 280.15 125.49 698.12\n 287.33 745.36 680.28 301.79 120.67 421.01 189.78 708.49 582.33 121.33\n  52.14 409.28 180.45 189.74 890.67 823.09 643.98 759.88 689.22 459.76\n 632.21 214.77 798.12 510.32 875.43 289.12 430.67 760.77 889.12 121.44\n 360.32 697.44 543.22 765.32 208.88 401.88 334.88 450.88 635.22 765.22].\nReshape your data either using array.reshape(-1, 1) if your data has a single feature or array.reshape(1, -1) if it contains a single sample.",
     "output_type": "error",
     "traceback": [
      "\u001b[0;31m---------------------------------------------------------------------------\u001b[0m",
      "\u001b[0;31mValueError\u001b[0m                                Traceback (most recent call last)",
      "Cell \u001b[0;32mIn[6], line 3\u001b[0m\n\u001b[1;32m      1\u001b[0m \u001b[38;5;28;01mfrom\u001b[39;00m \u001b[38;5;21;01msklearn\u001b[39;00m\u001b[38;5;21;01m.\u001b[39;00m\u001b[38;5;21;01mlinear_model\u001b[39;00m \u001b[38;5;28;01mimport\u001b[39;00m LinearRegression\n\u001b[1;32m      2\u001b[0m reg \u001b[38;5;241m=\u001b[39m LinearRegression()\n\u001b[0;32m----> 3\u001b[0m \u001b[43mreg\u001b[49m\u001b[38;5;241;43m.\u001b[39;49m\u001b[43mfit\u001b[49m\u001b[43m(\u001b[49m\u001b[43mX\u001b[49m\u001b[38;5;241;43m=\u001b[39;49m\u001b[43mdf_adv\u001b[49m\u001b[43m[\u001b[49m\u001b[38;5;124;43m\"\u001b[39;49m\u001b[38;5;124;43mSocial_Media\u001b[39;49m\u001b[38;5;124;43m\"\u001b[39;49m\u001b[43m]\u001b[49m\u001b[43m,\u001b[49m\u001b[43m \u001b[49m\u001b[43my\u001b[49m\u001b[38;5;241;43m=\u001b[39;49m\u001b[43mdf_adv\u001b[49m\u001b[43m[\u001b[49m\u001b[38;5;124;43m\"\u001b[39;49m\u001b[38;5;124;43mProduct_Sold\u001b[39;49m\u001b[38;5;124;43m\"\u001b[39;49m\u001b[43m]\u001b[49m\u001b[43m)\u001b[49m\n",
      "File \u001b[0;32m~/miniconda3/envs/biosc1540-2024s-dev/lib/python3.11/site-packages/sklearn/base.py:1152\u001b[0m, in \u001b[0;36m_fit_context.<locals>.decorator.<locals>.wrapper\u001b[0;34m(estimator, *args, **kwargs)\u001b[0m\n\u001b[1;32m   1145\u001b[0m     estimator\u001b[38;5;241m.\u001b[39m_validate_params()\n\u001b[1;32m   1147\u001b[0m \u001b[38;5;28;01mwith\u001b[39;00m config_context(\n\u001b[1;32m   1148\u001b[0m     skip_parameter_validation\u001b[38;5;241m=\u001b[39m(\n\u001b[1;32m   1149\u001b[0m         prefer_skip_nested_validation \u001b[38;5;129;01mor\u001b[39;00m global_skip_validation\n\u001b[1;32m   1150\u001b[0m     )\n\u001b[1;32m   1151\u001b[0m ):\n\u001b[0;32m-> 1152\u001b[0m     \u001b[38;5;28;01mreturn\u001b[39;00m \u001b[43mfit_method\u001b[49m\u001b[43m(\u001b[49m\u001b[43mestimator\u001b[49m\u001b[43m,\u001b[49m\u001b[43m \u001b[49m\u001b[38;5;241;43m*\u001b[39;49m\u001b[43margs\u001b[49m\u001b[43m,\u001b[49m\u001b[43m \u001b[49m\u001b[38;5;241;43m*\u001b[39;49m\u001b[38;5;241;43m*\u001b[39;49m\u001b[43mkwargs\u001b[49m\u001b[43m)\u001b[49m\n",
      "File \u001b[0;32m~/miniconda3/envs/biosc1540-2024s-dev/lib/python3.11/site-packages/sklearn/linear_model/_base.py:678\u001b[0m, in \u001b[0;36mLinearRegression.fit\u001b[0;34m(self, X, y, sample_weight)\u001b[0m\n\u001b[1;32m    674\u001b[0m n_jobs_ \u001b[38;5;241m=\u001b[39m \u001b[38;5;28mself\u001b[39m\u001b[38;5;241m.\u001b[39mn_jobs\n\u001b[1;32m    676\u001b[0m accept_sparse \u001b[38;5;241m=\u001b[39m \u001b[38;5;28;01mFalse\u001b[39;00m \u001b[38;5;28;01mif\u001b[39;00m \u001b[38;5;28mself\u001b[39m\u001b[38;5;241m.\u001b[39mpositive \u001b[38;5;28;01melse\u001b[39;00m [\u001b[38;5;124m\"\u001b[39m\u001b[38;5;124mcsr\u001b[39m\u001b[38;5;124m\"\u001b[39m, \u001b[38;5;124m\"\u001b[39m\u001b[38;5;124mcsc\u001b[39m\u001b[38;5;124m\"\u001b[39m, \u001b[38;5;124m\"\u001b[39m\u001b[38;5;124mcoo\u001b[39m\u001b[38;5;124m\"\u001b[39m]\n\u001b[0;32m--> 678\u001b[0m X, y \u001b[38;5;241m=\u001b[39m \u001b[38;5;28;43mself\u001b[39;49m\u001b[38;5;241;43m.\u001b[39;49m\u001b[43m_validate_data\u001b[49m\u001b[43m(\u001b[49m\n\u001b[1;32m    679\u001b[0m \u001b[43m    \u001b[49m\u001b[43mX\u001b[49m\u001b[43m,\u001b[49m\u001b[43m \u001b[49m\u001b[43my\u001b[49m\u001b[43m,\u001b[49m\u001b[43m \u001b[49m\u001b[43maccept_sparse\u001b[49m\u001b[38;5;241;43m=\u001b[39;49m\u001b[43maccept_sparse\u001b[49m\u001b[43m,\u001b[49m\u001b[43m \u001b[49m\u001b[43my_numeric\u001b[49m\u001b[38;5;241;43m=\u001b[39;49m\u001b[38;5;28;43;01mTrue\u001b[39;49;00m\u001b[43m,\u001b[49m\u001b[43m \u001b[49m\u001b[43mmulti_output\u001b[49m\u001b[38;5;241;43m=\u001b[39;49m\u001b[38;5;28;43;01mTrue\u001b[39;49;00m\n\u001b[1;32m    680\u001b[0m \u001b[43m\u001b[49m\u001b[43m)\u001b[49m\n\u001b[1;32m    682\u001b[0m has_sw \u001b[38;5;241m=\u001b[39m sample_weight \u001b[38;5;129;01mis\u001b[39;00m \u001b[38;5;129;01mnot\u001b[39;00m \u001b[38;5;28;01mNone\u001b[39;00m\n\u001b[1;32m    683\u001b[0m \u001b[38;5;28;01mif\u001b[39;00m has_sw:\n",
      "File \u001b[0;32m~/miniconda3/envs/biosc1540-2024s-dev/lib/python3.11/site-packages/sklearn/base.py:622\u001b[0m, in \u001b[0;36mBaseEstimator._validate_data\u001b[0;34m(self, X, y, reset, validate_separately, cast_to_ndarray, **check_params)\u001b[0m\n\u001b[1;32m    620\u001b[0m         y \u001b[38;5;241m=\u001b[39m check_array(y, input_name\u001b[38;5;241m=\u001b[39m\u001b[38;5;124m\"\u001b[39m\u001b[38;5;124my\u001b[39m\u001b[38;5;124m\"\u001b[39m, \u001b[38;5;241m*\u001b[39m\u001b[38;5;241m*\u001b[39mcheck_y_params)\n\u001b[1;32m    621\u001b[0m     \u001b[38;5;28;01melse\u001b[39;00m:\n\u001b[0;32m--> 622\u001b[0m         X, y \u001b[38;5;241m=\u001b[39m \u001b[43mcheck_X_y\u001b[49m\u001b[43m(\u001b[49m\u001b[43mX\u001b[49m\u001b[43m,\u001b[49m\u001b[43m \u001b[49m\u001b[43my\u001b[49m\u001b[43m,\u001b[49m\u001b[43m \u001b[49m\u001b[38;5;241;43m*\u001b[39;49m\u001b[38;5;241;43m*\u001b[39;49m\u001b[43mcheck_params\u001b[49m\u001b[43m)\u001b[49m\n\u001b[1;32m    623\u001b[0m     out \u001b[38;5;241m=\u001b[39m X, y\n\u001b[1;32m    625\u001b[0m \u001b[38;5;28;01mif\u001b[39;00m \u001b[38;5;129;01mnot\u001b[39;00m no_val_X \u001b[38;5;129;01mand\u001b[39;00m check_params\u001b[38;5;241m.\u001b[39mget(\u001b[38;5;124m\"\u001b[39m\u001b[38;5;124mensure_2d\u001b[39m\u001b[38;5;124m\"\u001b[39m, \u001b[38;5;28;01mTrue\u001b[39;00m):\n",
      "File \u001b[0;32m~/miniconda3/envs/biosc1540-2024s-dev/lib/python3.11/site-packages/sklearn/utils/validation.py:1146\u001b[0m, in \u001b[0;36mcheck_X_y\u001b[0;34m(X, y, accept_sparse, accept_large_sparse, dtype, order, copy, force_all_finite, ensure_2d, allow_nd, multi_output, ensure_min_samples, ensure_min_features, y_numeric, estimator)\u001b[0m\n\u001b[1;32m   1141\u001b[0m         estimator_name \u001b[38;5;241m=\u001b[39m _check_estimator_name(estimator)\n\u001b[1;32m   1142\u001b[0m     \u001b[38;5;28;01mraise\u001b[39;00m \u001b[38;5;167;01mValueError\u001b[39;00m(\n\u001b[1;32m   1143\u001b[0m         \u001b[38;5;124mf\u001b[39m\u001b[38;5;124m\"\u001b[39m\u001b[38;5;132;01m{\u001b[39;00mestimator_name\u001b[38;5;132;01m}\u001b[39;00m\u001b[38;5;124m requires y to be passed, but the target y is None\u001b[39m\u001b[38;5;124m\"\u001b[39m\n\u001b[1;32m   1144\u001b[0m     )\n\u001b[0;32m-> 1146\u001b[0m X \u001b[38;5;241m=\u001b[39m \u001b[43mcheck_array\u001b[49m\u001b[43m(\u001b[49m\n\u001b[1;32m   1147\u001b[0m \u001b[43m    \u001b[49m\u001b[43mX\u001b[49m\u001b[43m,\u001b[49m\n\u001b[1;32m   1148\u001b[0m \u001b[43m    \u001b[49m\u001b[43maccept_sparse\u001b[49m\u001b[38;5;241;43m=\u001b[39;49m\u001b[43maccept_sparse\u001b[49m\u001b[43m,\u001b[49m\n\u001b[1;32m   1149\u001b[0m \u001b[43m    \u001b[49m\u001b[43maccept_large_sparse\u001b[49m\u001b[38;5;241;43m=\u001b[39;49m\u001b[43maccept_large_sparse\u001b[49m\u001b[43m,\u001b[49m\n\u001b[1;32m   1150\u001b[0m \u001b[43m    \u001b[49m\u001b[43mdtype\u001b[49m\u001b[38;5;241;43m=\u001b[39;49m\u001b[43mdtype\u001b[49m\u001b[43m,\u001b[49m\n\u001b[1;32m   1151\u001b[0m \u001b[43m    \u001b[49m\u001b[43morder\u001b[49m\u001b[38;5;241;43m=\u001b[39;49m\u001b[43morder\u001b[49m\u001b[43m,\u001b[49m\n\u001b[1;32m   1152\u001b[0m \u001b[43m    \u001b[49m\u001b[43mcopy\u001b[49m\u001b[38;5;241;43m=\u001b[39;49m\u001b[43mcopy\u001b[49m\u001b[43m,\u001b[49m\n\u001b[1;32m   1153\u001b[0m \u001b[43m    \u001b[49m\u001b[43mforce_all_finite\u001b[49m\u001b[38;5;241;43m=\u001b[39;49m\u001b[43mforce_all_finite\u001b[49m\u001b[43m,\u001b[49m\n\u001b[1;32m   1154\u001b[0m \u001b[43m    \u001b[49m\u001b[43mensure_2d\u001b[49m\u001b[38;5;241;43m=\u001b[39;49m\u001b[43mensure_2d\u001b[49m\u001b[43m,\u001b[49m\n\u001b[1;32m   1155\u001b[0m \u001b[43m    \u001b[49m\u001b[43mallow_nd\u001b[49m\u001b[38;5;241;43m=\u001b[39;49m\u001b[43mallow_nd\u001b[49m\u001b[43m,\u001b[49m\n\u001b[1;32m   1156\u001b[0m \u001b[43m    \u001b[49m\u001b[43mensure_min_samples\u001b[49m\u001b[38;5;241;43m=\u001b[39;49m\u001b[43mensure_min_samples\u001b[49m\u001b[43m,\u001b[49m\n\u001b[1;32m   1157\u001b[0m \u001b[43m    \u001b[49m\u001b[43mensure_min_features\u001b[49m\u001b[38;5;241;43m=\u001b[39;49m\u001b[43mensure_min_features\u001b[49m\u001b[43m,\u001b[49m\n\u001b[1;32m   1158\u001b[0m \u001b[43m    \u001b[49m\u001b[43mestimator\u001b[49m\u001b[38;5;241;43m=\u001b[39;49m\u001b[43mestimator\u001b[49m\u001b[43m,\u001b[49m\n\u001b[1;32m   1159\u001b[0m \u001b[43m    \u001b[49m\u001b[43minput_name\u001b[49m\u001b[38;5;241;43m=\u001b[39;49m\u001b[38;5;124;43m\"\u001b[39;49m\u001b[38;5;124;43mX\u001b[39;49m\u001b[38;5;124;43m\"\u001b[39;49m\u001b[43m,\u001b[49m\n\u001b[1;32m   1160\u001b[0m \u001b[43m\u001b[49m\u001b[43m)\u001b[49m\n\u001b[1;32m   1162\u001b[0m y \u001b[38;5;241m=\u001b[39m _check_y(y, multi_output\u001b[38;5;241m=\u001b[39mmulti_output, y_numeric\u001b[38;5;241m=\u001b[39my_numeric, estimator\u001b[38;5;241m=\u001b[39mestimator)\n\u001b[1;32m   1164\u001b[0m check_consistent_length(X, y)\n",
      "File \u001b[0;32m~/miniconda3/envs/biosc1540-2024s-dev/lib/python3.11/site-packages/sklearn/utils/validation.py:938\u001b[0m, in \u001b[0;36mcheck_array\u001b[0;34m(array, accept_sparse, accept_large_sparse, dtype, order, copy, force_all_finite, ensure_2d, allow_nd, ensure_min_samples, ensure_min_features, estimator, input_name)\u001b[0m\n\u001b[1;32m    936\u001b[0m     \u001b[38;5;66;03m# If input is 1D raise error\u001b[39;00m\n\u001b[1;32m    937\u001b[0m     \u001b[38;5;28;01mif\u001b[39;00m array\u001b[38;5;241m.\u001b[39mndim \u001b[38;5;241m==\u001b[39m \u001b[38;5;241m1\u001b[39m:\n\u001b[0;32m--> 938\u001b[0m         \u001b[38;5;28;01mraise\u001b[39;00m \u001b[38;5;167;01mValueError\u001b[39;00m(\n\u001b[1;32m    939\u001b[0m             \u001b[38;5;124m\"\u001b[39m\u001b[38;5;124mExpected 2D array, got 1D array instead:\u001b[39m\u001b[38;5;130;01m\\n\u001b[39;00m\u001b[38;5;124marray=\u001b[39m\u001b[38;5;132;01m{}\u001b[39;00m\u001b[38;5;124m.\u001b[39m\u001b[38;5;130;01m\\n\u001b[39;00m\u001b[38;5;124m\"\u001b[39m\n\u001b[1;32m    940\u001b[0m             \u001b[38;5;124m\"\u001b[39m\u001b[38;5;124mReshape your data either using array.reshape(-1, 1) if \u001b[39m\u001b[38;5;124m\"\u001b[39m\n\u001b[1;32m    941\u001b[0m             \u001b[38;5;124m\"\u001b[39m\u001b[38;5;124myour data has a single feature or array.reshape(1, -1) \u001b[39m\u001b[38;5;124m\"\u001b[39m\n\u001b[1;32m    942\u001b[0m             \u001b[38;5;124m\"\u001b[39m\u001b[38;5;124mif it contains a single sample.\u001b[39m\u001b[38;5;124m\"\u001b[39m\u001b[38;5;241m.\u001b[39mformat(array)\n\u001b[1;32m    943\u001b[0m         )\n\u001b[1;32m    945\u001b[0m \u001b[38;5;28;01mif\u001b[39;00m dtype_numeric \u001b[38;5;129;01mand\u001b[39;00m \u001b[38;5;28mhasattr\u001b[39m(array\u001b[38;5;241m.\u001b[39mdtype, \u001b[38;5;124m\"\u001b[39m\u001b[38;5;124mkind\u001b[39m\u001b[38;5;124m\"\u001b[39m) \u001b[38;5;129;01mand\u001b[39;00m array\u001b[38;5;241m.\u001b[39mdtype\u001b[38;5;241m.\u001b[39mkind \u001b[38;5;129;01min\u001b[39;00m \u001b[38;5;124m\"\u001b[39m\u001b[38;5;124mUSV\u001b[39m\u001b[38;5;124m\"\u001b[39m:\n\u001b[1;32m    946\u001b[0m     \u001b[38;5;28;01mraise\u001b[39;00m \u001b[38;5;167;01mValueError\u001b[39;00m(\n\u001b[1;32m    947\u001b[0m         \u001b[38;5;124m\"\u001b[39m\u001b[38;5;124mdtype=\u001b[39m\u001b[38;5;124m'\u001b[39m\u001b[38;5;124mnumeric\u001b[39m\u001b[38;5;124m'\u001b[39m\u001b[38;5;124m is not compatible with arrays of bytes/strings.\u001b[39m\u001b[38;5;124m\"\u001b[39m\n\u001b[1;32m    948\u001b[0m         \u001b[38;5;124m\"\u001b[39m\u001b[38;5;124mConvert your data to numeric values explicitly instead.\u001b[39m\u001b[38;5;124m\"\u001b[39m\n\u001b[1;32m    949\u001b[0m     )\n",
      "\u001b[0;31mValueError\u001b[0m: Expected 2D array, got 1D array instead:\narray=[349.3  180.55 505.71 240.93 666.33 142.96 271.62  97.85 759.04 329.15\n 970.28 992.3  626.87 102.96 358.88 153.75 531.53 609.33  74.83  31.38\n 347.92 252.3  145.03 968.13 895.59 695.95 855.9  800.94 580.06 793.12\n 526.25 316.48 834.98 213.33 887.1  758.   170.31 304.15 664.95 573.63\n  35.43 471.67 298.49 109.31  32.52 624.03 155.25 586.17 276.39 786.06\n 470.89 192.2  257.88 829.   206.61 230.22 254.77 393.81 555.73 496.81\n 910.23 901.98 407.08 557.15 353.72 767.46  11.69 369.57 873.18 619.22\n 917.84 694.84 918.84 438.44 725.44 595.24 837.4  162.85 535.22 630.16\n 657.96 593.97 362.43 888.42 539.74 646.87 679.08  50.03 689.61 161.65\n 100.35 285.48 373.02 361.36 352.17 595.41 235.03 597.94 421.19  29.11\n 744.64 764.15 477.59 531.5  117.63 221.03 314.81 884.94 762.53 379.17\n 681.03  48.06 851.19 588.1   63.47 199.95 934.6  547.92 349.42 411.67\n 443.14 653.83 360.1  189.84 810.67 320.03 408.09 663.6  485.14 401.46\n 574.66 510.64 662.46 809.05 487.63 588.21 144.69 679.19 317.25 425.96\n 734.   562.54 569.2  949.21  57.73  55.67  48.26 961.58 429.08 779.52\n 906.55 644.91 914.94 552.05 794.89 753.24 440.71 160.58 484.32 436.82\n  95.81  44.73  79.95 907.89 406.79 731.43 888.38 277.28 907.29 152.38\n 576.07 300.17 364.03 559.48 203.09 512.33 172.98 313.47 857.64 949.07\n 230.73 116.79 531.67 296.04 381.83 222.02 642.39 329.66 601.86 905.36\n 735.75 620.32 655.5  385.05 944.26 686.41 622.36  40.6  461.4  228.75\n 455.   283.05  18.49 464.89 651.29 510.37 579.99  37.54 228.98  99.33\n 828.4  656.   479.65  77.17 208.8  650.2  654.59 332.31  48.41 617.71\n 578.32 236.32 589.08 299.63 823.89 886.41  91.9  728.87 711.14 477.86\n 493.29 581.93 354.38 953.58 583.57 384.3  398.59 284.39 325.73 496.54\n 289.98 769.67 962.41 946.4  410.78 454.6  184.65 166.23 226.57  39.88\n 660.73 123.44 472.84 475.05 151.49 996.16 268.19  48.   709.57  28.84\n 877.91 589.36 295.79 416.52 753.44 584.88 557.25 466.47 244.74 677.43\n 578.7  861.16 811.9  852.62 334.76  42.51 723.51 121.48 202.29 712.51\n 891.25 217.72 229.34 948.97 986.35 872.34 362.08 868.58 852.48 932.19\n 587.2  360.38 622.86 979.08 555.71 172.26 366.95  60.61 343.65 802.3\n 431.15 837.32 729.18 114.52 753.47 281.77 325.04 920.04 603.16 793.14\n 460.89 401.89 244.39 761.02 588.15 629.94 756.21 322.58 897.83 392.8\n 724.99 720.85 892.34 331.55 512.61 904.64 226.84 245.09 953.77 764.22\n 552.67 716.33 371.62 564.83 803.65 789.12 423.27 543.34 212.45 347.51\n 587.61 723.46 847.77 474.62 408.78 238.32 685.13 982.15 642.81 854.62\n 493.23 420.32 321.87 459.12 189.04 632.73 490.32 280.15 125.49 698.12\n 287.33 745.36 680.28 301.79 120.67 421.01 189.78 708.49 582.33 121.33\n  52.14 409.28 180.45 189.74 890.67 823.09 643.98 759.88 689.22 459.76\n 632.21 214.77 798.12 510.32 875.43 289.12 430.67 760.77 889.12 121.44\n 360.32 697.44 543.22 765.32 208.88 401.88 334.88 450.88 635.22 765.22].\nReshape your data either using array.reshape(-1, 1) if your data has a single feature or array.reshape(1, -1) if it contains a single sample."
     ]
    }
   ],
   "source": [
    "from sklearn.linear_model import LinearRegression\n",
    "\n",
    "reg = LinearRegression()\n",
    "reg.fit(X=df_adv[\"Social_Media\"], y=df_adv[\"Product_Sold\"])"
   ]
  },
  {
   "cell_type": "markdown",
   "metadata": {},
   "source": [
    "TODO:"
   ]
  },
  {
   "cell_type": "code",
   "execution_count": 7,
   "metadata": {},
   "outputs": [
    {
     "name": "stdout",
     "output_type": "stream",
     "text": [
      "\n",
      "New shape\n",
      "(400, 1)\n",
      "[[7164.]\n",
      " [5055.]\n",
      " [6154.]\n",
      " [5480.]\n",
      " [9669.]\n",
      " [7627.]\n",
      " [5177.]\n",
      " [3726.]\n",
      " [9801.]\n",
      " [8652.]]\n"
     ]
    }
   ],
   "source": [
    "cost_social_media = cost_social_media.reshape(-1, 1)\n",
    "product_sold = product_sold.reshape(-1, 1)\n",
    "\n",
    "print(\"\\nNew shape\")\n",
    "print(product_sold.shape)\n",
    "print(product_sold[:10])"
   ]
  },
  {
   "cell_type": "code",
   "execution_count": 8,
   "metadata": {},
   "outputs": [
    {
     "name": "stdout",
     "output_type": "stream",
     "text": [
      "beta_0 = 5932.473\n",
      "beta_1 =    2.418\n"
     ]
    }
   ],
   "source": [
    "reg.fit(X=cost_social_media, y=product_sold)\n",
    "\n",
    "print(f\"beta_0 = {reg.intercept_[0]:.3f}\")\n",
    "print(f\"beta_1 =    {reg.coef_[0][0]:.3f}\")"
   ]
  },
  {
   "cell_type": "markdown",
   "metadata": {},
   "source": [
    "## Acknowledgements\n",
    "\n",
    "Much of this material has been adapted from [An Introduction to Statistical Learning](https://www.statlearning.com/) to be more digestible for undergraduates starting in Biology."
   ]
  }
 ],
 "metadata": {
  "kernelspec": {
   "display_name": "biosc1540-2024s-dev",
   "language": "python",
   "name": "python3"
  },
  "language_info": {
   "codemirror_mode": {
    "name": "ipython",
    "version": 3
   },
   "file_extension": ".py",
   "mimetype": "text/x-python",
   "name": "python",
   "nbconvert_exporter": "python",
   "pygments_lexer": "ipython3",
   "version": "3.11.7"
  }
 },
 "nbformat": 4,
 "nbformat_minor": 2
}
