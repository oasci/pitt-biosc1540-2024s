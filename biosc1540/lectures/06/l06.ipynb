{
 "cells": [
  {
   "cell_type": "markdown",
   "metadata": {},
   "source": [
    "# Lecture 06\n",
    "\n",
    "**Date:** Jan 25, 2024\n",
    "\n",
    "🚀 Welcome to the Computational Biology <sub>micro</sub>Hackathon! 🚀\n",
    "\n",
    "Today, we dive into health data to unravel insights and innovations in understanding and diagnosing diabetes.\n",
    "Diabetes is a significant health challenge affecting millions, and your mission is to use data to contribute to the fight against this chronic condition.\n",
    "\n",
    "## The Quest\n",
    "\n",
    "**🌐 Mission:** Your mission is to explore a health-related dataset collected from over 400,000 individuals.\n",
    "Dive deep into the features, uncover patterns, and create solutions that can aid in the diagnosis and understanding of diabetes.\n",
    "\n",
    "**📈 Data Exploration:** Your challenge is to navigate through the vast dataset containing responses from individuals across the United States.\n",
    "Understand the nuances of diabetes and its risk factors hidden within the features provided.\n",
    "\n",
    "**💻 Code for Health:** Use your coding prowess to analyze and train a classifier using sklearn to predict if a patient has diabetes.\n",
    "\n",
    "## The Rules\n",
    "\n",
    "**🔍 Guidelines:** Respect the data, understand the context, and keep your solutions ethical and impactful.\n",
    "\n",
    "**⏰ Time Limit:** The clock is ticking!\n",
    "You have 50 minutes to unveil the potential insights hidden in the data.\n",
    "\n",
    "**🤝 Collaboration:** Form teams and combine your diverse skills for a holistic approach.\n",
    "\n",
    "## The Submission\n",
    "\n",
    "**📤 Export with Joblib:** As part of the submission process, ensure your sklearn model is exportable using the joblib library.\n",
    "This will enable seamless evaluation and comparison of your models against the held-out test data.\n",
    "\n",
    "```python\n",
    "joblib.dump(model, 'my-model.joblib')\n",
    "```\n",
    "\n",
    "My autograder has the following code.\n",
    "\n",
    "```python\n",
    "student_model = joblib.load(\"model.joblib\")\n",
    "X_processed = process_features(X_test)\n",
    "score = student_model.score(X_processed, y_test)\n",
    "```\n",
    "\n",
    "You have unlimited submissions.\n",
    "\n",
    "## The Rewards\n",
    "\n",
    "**💯 Grading:** To receive full credit for today's <sub>micro</sub>Hackathon, your model must have an R-squared value above 0.5 on the test set.\n",
    "Your teaching team tested the most straightforward solution, which had a R-squared value of 0.74.\n",
    "\n",
    "**🌟 Model Mastery:** The true test of your model's prowess awaits! After fine-tuning your solutions, you'll have the opportunity to submit your models to Gradescope.\n",
    "Your models will undergo evaluation against test data that hasn't been provided.\n",
    "The groups achieving the highest R-squared values will not only earn an additional mystery prize to be determined.\n",
    "\n",
    "## Begin!"
   ]
  },
  {
   "cell_type": "code",
   "execution_count": 1,
   "metadata": {},
   "outputs": [],
   "source": [
    "import joblib\n",
    "import numpy as np\n",
    "import pandas as pd"
   ]
  },
  {
   "cell_type": "code",
   "execution_count": null,
   "metadata": {},
   "outputs": [],
   "source": []
  },
  {
   "cell_type": "code",
   "execution_count": 2,
   "metadata": {},
   "outputs": [],
   "source": [
    "def process_features(X):\n",
    "    \"\"\"This is your general function to ensure compatability with my autograder.\n",
    "    If you make any changes to your features, you should do them here, then return them.\n",
    "\n",
    "    Args:\n",
    "        X (np.ndarray): The original features from the CSV file.\n",
    "\n",
    "    Returns:\n",
    "        np.ndarray: Your processed features that you use for fitting.\n",
    "    \"\"\"\n",
    "    return X"
   ]
  },
  {
   "cell_type": "code",
   "execution_count": null,
   "metadata": {},
   "outputs": [],
   "source": []
  },
  {
   "cell_type": "code",
   "execution_count": null,
   "metadata": {},
   "outputs": [],
   "source": []
  }
 ],
 "metadata": {
  "kernelspec": {
   "display_name": "biosc1540-2024s-dev",
   "language": "python",
   "name": "python3"
  },
  "language_info": {
   "codemirror_mode": {
    "name": "ipython",
    "version": 3
   },
   "file_extension": ".py",
   "mimetype": "text/x-python",
   "name": "python",
   "nbconvert_exporter": "python",
   "pygments_lexer": "ipython3",
   "version": "3.11.7"
  }
 },
 "nbformat": 4,
 "nbformat_minor": 2
}
