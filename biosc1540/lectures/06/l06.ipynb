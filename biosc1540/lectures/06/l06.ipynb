{
 "cells": [
  {
   "cell_type": "markdown",
   "metadata": {},
   "source": [
    "# Lecture 06\n",
    "\n",
    "**Date:** Jan 25, 2024\n",
    "\n",
    "🚀 Welcome to the Computational Biology <sub>micro</sub>Hackathon! 🚀\n",
    "\n",
    "Today, we dive into health data to unravel insights and innovations in understanding and diagnosing diabetes.\n",
    "Diabetes is a significant health challenge affecting millions, and your mission is to use data to contribute to the fight against this chronic condition.\n",
    "\n",
    "Your task is to change change the parameters to see how high of a score you can get.\n",
    "\n",
    "```python\n",
    "model = RidgeClassifier(\n",
    "    alpha=1.0,\n",
    "    fit_intercept=True,\n",
    "    tol=1e-4,\n",
    "    solver='auto',\n",
    "    max_iter=10000,\n",
    "    class_weight=None,\n",
    "    random_state=42\n",
    ")\n",
    "```"
   ]
  },
  {
   "cell_type": "code",
   "execution_count": 1,
   "metadata": {},
   "outputs": [],
   "source": [
    "import joblib\n",
    "import numpy as np\n",
    "import pandas as pd\n",
    "\n",
    "from sklearn.preprocessing import MinMaxScaler\n",
    "from sklearn.linear_model import RidgeClassifier\n",
    "from sklearn.metrics import balanced_accuracy_score"
   ]
  },
  {
   "cell_type": "code",
   "execution_count": 2,
   "metadata": {},
   "outputs": [],
   "source": [
    "CSV_PATH_FEATURES = \"https://gitlab.com/oasci/courses/pitt/biosc1540-2024s/-/raw/main/biosc1540/files/csv/diabetes/diabetes-features-train.csv\"\n",
    "CSV_PATH_LABELS = \"https://gitlab.com/oasci/courses/pitt/biosc1540-2024s/-/raw/main/biosc1540/files/csv/diabetes/diabetes-labels-train.csv\"\n",
    "\n",
    "X_train = pd.read_csv(CSV_PATH_FEATURES)\n",
    "y_train = pd.read_csv(CSV_PATH_LABELS)\n",
    "\n",
    "\n",
    "def preprocess(X):\n",
    "    \"\"\"This is your general function to ensure compatibility with my autograder.\n",
    "    If you make any changes to your features, you should do them here, then return them.\n",
    "\n",
    "    Args:\n",
    "        X (np.ndarray): Normalized features from the CSV file with MinMaxScaler().\n",
    "\n",
    "    Returns:\n",
    "        np.ndarray: Your processed features that are used for fitting.\n",
    "    \"\"\"\n",
    "    # Process X\n",
    "    return X\n",
    "\n",
    "\n",
    "X_train = preprocess(X_train)\n",
    "\n",
    "X_train = X_train.to_numpy()\n",
    "y_train = y_train.to_numpy()\n",
    "\n",
    "scaler_features = MinMaxScaler()\n",
    "X_train = scaler_features.fit_transform(X_train)"
   ]
  },
  {
   "cell_type": "code",
   "execution_count": 3,
   "metadata": {},
   "outputs": [
    {
     "data": {
      "text/plain": [
       "['model.joblib']"
      ]
     },
     "execution_count": 3,
     "metadata": {},
     "output_type": "execute_result"
    }
   ],
   "source": [
    "model = RidgeClassifier(\n",
    "    alpha=1.0,\n",
    "    fit_intercept=True,\n",
    "    tol=1e-4,\n",
    "    solver=\"auto\",\n",
    "    max_iter=10000,\n",
    "    class_weight=None,\n",
    "    random_state=42,\n",
    ")\n",
    "model.fit(X_train, y_train.ravel())\n",
    "\n",
    "y_pred = model.predict(X_train)\n",
    "score = balanced_accuracy_score(y_train, y_pred)\n",
    "\n",
    "joblib.dump(model, \"model.joblib\")"
   ]
  }
 ],
 "metadata": {
  "kernelspec": {
   "display_name": "biosc1540-2024s-dev",
   "language": "python",
   "name": "python3"
  },
  "language_info": {
   "codemirror_mode": {
    "name": "ipython",
    "version": 3
   },
   "file_extension": ".py",
   "mimetype": "text/x-python",
   "name": "python",
   "nbconvert_exporter": "python",
   "pygments_lexer": "ipython3",
   "version": "3.11.7"
  }
 },
 "nbformat": 4,
 "nbformat_minor": 2
}
