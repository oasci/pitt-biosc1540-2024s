{
 "cells": [
  {
   "cell_type": "markdown",
   "metadata": {},
   "source": [
    "# Lecture 06\n",
    "\n",
    "**Date:** Jan 25, 2024\n",
    "\n",
    "🚀 Welcome to the Computational Biology <sub>micro</sub>Hackathon! 🚀\n",
    "\n",
    "Today, we dive into health data to unravel insights and innovations in understanding and diagnosing diabetes.\n",
    "Diabetes is a significant health challenge affecting millions, and your mission is to use data to contribute to the fight against this chronic condition.\n",
    "\n",
    "## The Quest\n",
    "\n",
    "**🌐 Mission:** Your mission is to explore a health-related dataset collected from over 400,000 individuals.\n",
    "Dive deep into the features, uncover patterns, and create solutions that can aid in the diagnosis and understanding of diabetes.\n",
    "\n",
    "**📈 Data Exploration:** Your challenge is to navigate through the vast dataset containing responses from individuals across the United States.\n",
    "Understand the nuances of diabetes and its risk factors hidden within the features provided.\n",
    "\n",
    "**💻 Code for Health:** Use your coding prowess to analyze and train a classifier using sklearn to predict if a patient has diabetes."
   ]
  },
  {
   "cell_type": "markdown",
   "metadata": {},
   "source": [
    "## The Rules\n",
    "\n",
    "**🔍 Guidelines:** You may use the course website, pandas+numpy+sklearn documentation, and search engines.\n",
    "\n",
    "**🤖 Generative AI:** You may not use any generative AI model such as ChatGPT, Bing Chat, Bard, etc.\n",
    "\n",
    "**⏰ Time Limit:** You have until the end of class to submit your code and model.\n",
    "\n",
    "**🤝 Collaboration:** You can work together, but each students needs to have their own submission."
   ]
  },
  {
   "cell_type": "markdown",
   "metadata": {},
   "source": [
    "## The Submission\n",
    "\n",
    "**📤 Export with Joblib:** As part of the submission process, ensure your sklearn model is exportable using the joblib library.\n",
    "This will enable seamless evaluation and comparison of your models against the held-out test data.\n",
    "\n",
    "```python\n",
    "import joblib\n",
    "joblib.dump(model, 'model.joblib')\n",
    "```\n",
    "\n",
    "My autograder has the following code.\n",
    "\n",
    "```python\n",
    "student_model = joblib.load(\"model.joblib\")\n",
    "X_processed = process_features(X_test)\n",
    "score = student_model.score(X_processed, y_test)\n",
    "```\n",
    "\n",
    "Thus, you need to download the Jupyter notebook as a `.py` file and turn that in along with your `model.joblib` file.\n",
    "You have unlimited submissions.\n",
    "\n",
    "Make sure you put your team name somewhere in your leaderboard submission name.\n",
    "For example, \"Linda Belcher (Team: Bob's Burgers)\".\n"
   ]
  },
  {
   "cell_type": "markdown",
   "metadata": {},
   "source": [
    "## The Leaderboard\n",
    "\n",
    "The overall score for your submission is computed as a linear combination of your model's accuracy on the train set, test set, as well as the speed.\n",
    "\n",
    "```python\n",
    "student_model = joblib.load(\"model.joblib\")\n",
    "\n",
    "X_train = preprocess(X_train)\n",
    "y_pred = student_model.predict(X_train)\n",
    "score_train = balanced_accuracy_score(y_train, y_pred)\n",
    "\n",
    "X_test = preprocess(X_test)\n",
    "y_pred = student_model.predict(X_test)\n",
    "score_test = balanced_accuracy_score(y_test, y_pred)\n",
    "\n",
    "n_runs = 5\n",
    "t_start = time.time()\n",
    "X_test = preprocess(X_test)\n",
    "for _ in range(n_runs):\n",
    "    _ = self.student_model.predict(X_test)\n",
    "t_end = time.time()\n",
    "t_delta = t_end - t_start\n",
    "t_delta *= 1000\n",
    "t_delta /= n_runs\n",
    "\n",
    "overall_score = 0.2 * score_train + 0.8 * score_test + 0.03 / t_delta\n",
    "```"
   ]
  },
  {
   "cell_type": "markdown",
   "metadata": {},
   "source": [
    "## The Rewards\n",
    "\n",
    "**💯 Grading:** To receive full autograder credit (10 points) for today's <sub>micro</sub>Hackathon, your model must have a score above 0.7 on the test set.\n",
    "The teaching team tested the most straightforward solution, which had a score of 0.74.\n",
    "\n",
    "**🌟 Model Mastery:**\n",
    "\n",
    "-   Each teaching team member will be assigned a section of the class.\n",
    "    Towards the end of class, the instructor will average the **top three unique test scores** as your team score (subject to change based on the results).\n",
    "    The team with the highest score will be able to drop a homework assignment.\n",
    "-   If any valid submission has an overall score above `0.90` I will bring in treats for the whole class.\n",
    "    Each student would have a choice between candy or a rubber duck.\n",
    "-   The submission with the highest overall score will be able to choose a rubber duck today!\n",
    "\n",
    "Any and all disputes will be settled with a rock-paper-scissors competition.\n",
    "\n",
    "## Begin!"
   ]
  },
  {
   "cell_type": "markdown",
   "metadata": {},
   "source": [
    "## Note\n",
    "\n",
    "This <sub>micro</sub>Hackathon is also a way for you check your level of Python mastery for this course.\n",
    "You are expected, and encouraged, to look things up in the documentation and course website."
   ]
  },
  {
   "cell_type": "code",
   "execution_count": 1,
   "metadata": {},
   "outputs": [],
   "source": [
    "import joblib\n",
    "import numpy as np\n",
    "import pandas as pd"
   ]
  },
  {
   "cell_type": "code",
   "execution_count": null,
   "metadata": {},
   "outputs": [],
   "source": []
  },
  {
   "cell_type": "code",
   "execution_count": 2,
   "metadata": {},
   "outputs": [],
   "source": [
    "def preprocess(X):\n",
    "    \"\"\"This is your general function to ensure compatibility with my autograder.\n",
    "    If you make any changes to your features, you should do them here, then return them.\n",
    "\n",
    "    Args:\n",
    "        X (np.ndarray): Normalized features from the CSV file with MinMaxScaler().\n",
    "\n",
    "    Returns:\n",
    "        np.ndarray: Your processed features that are used for fitting.\n",
    "    \"\"\"\n",
    "    # Process X\n",
    "    return X"
   ]
  },
  {
   "cell_type": "code",
   "execution_count": null,
   "metadata": {},
   "outputs": [],
   "source": []
  },
  {
   "cell_type": "code",
   "execution_count": null,
   "metadata": {},
   "outputs": [],
   "source": []
  }
 ],
 "metadata": {
  "kernelspec": {
   "display_name": "biosc1540-2024s-dev",
   "language": "python",
   "name": "python3"
  },
  "language_info": {
   "codemirror_mode": {
    "name": "ipython",
    "version": 3
   },
   "file_extension": ".py",
   "mimetype": "text/x-python",
   "name": "python",
   "nbconvert_exporter": "python",
   "pygments_lexer": "ipython3",
   "version": "3.11.7"
  }
 },
 "nbformat": 4,
 "nbformat_minor": 2
}
