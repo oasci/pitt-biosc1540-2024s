{
 "cells": [
  {
   "cell_type": "markdown",
   "metadata": {},
   "source": [
    "# L04 notebook\n",
    "\n",
    "Today, we will have a guided lecture about exploring a data set on protein contact maps and molecular properties."
   ]
  },
  {
   "cell_type": "code",
   "execution_count": 1,
   "metadata": {},
   "outputs": [],
   "source": [
    "import numpy as np\n",
    "import pandas as pd\n",
    "import matplotlib.pyplot as plt"
   ]
  },
  {
   "cell_type": "markdown",
   "metadata": {},
   "source": [
    "## Contact maps\n",
    "\n",
    "Here is what a protein looks like.\n",
    "\n",
    "<div id=\"msegfp-view\" class=\"mol-container\"></div>\n",
    "<script>\n",
    "var uri = 'https://files.rcsb.org/view/8DTA.pdb';\n",
    "jQuery.ajax( uri, {\n",
    "    success: function(data) {\n",
    "        // https://3dmol.org/doc/GLViewer.html\n",
    "        let viewer = $3Dmol.createViewer(\n",
    "            document.querySelector('#msegfp-view'),\n",
    "            { backgroundAlpha: '0.0' }\n",
    "        );\n",
    "        viewer.addModel( data, 'pdb' );\n",
    "        viewer.setStyle({chain: 'A'}, {cartoon: {color: 'spectrum'}});\n",
    "        viewer.setStyle({chain: 'A', resn: 'CRO'}, {stick: {}, cartoon: {color: \"spectrum\"}});\n",
    "        viewer.setStyle({chain: 'A', resi: '147'}, {stick: {}, cartoon: {color: \"spectrum\"}});\n",
    "        viewer.setStyle({chain: 'A', resi: '202'}, {stick: {}, cartoon: {color: \"spectrum\"}});\n",
    "        viewer.setView([ -60.64682338153259, -20.114962159611807, 0.5702077286702113, 80.5194132281471, -0.15077826938374425, 0.19679882644092048, -0.8102144809849335, -0.5311201654949984 ]);\n",
    "        viewer.render();\n",
    "    },\n",
    "    error: function(hdr, status, err) {\n",
    "        console.error( \"Failed to load \" + uri + \": \" + err );\n",
    "    },\n",
    "});\n",
    "</script>"
   ]
  },
  {
   "cell_type": "code",
   "execution_count": null,
   "metadata": {},
   "outputs": [],
   "source": [
    "import io\n",
    "from urllib import request\n",
    "\n",
    "NPY_PATH = \"https://gitlab.com/oasci/courses/pitt/biosc1540-2024s/-/raw/main/biosc1540/files/npy/protein-contact-maps.npy\"\n",
    "\n",
    "response = request.urlopen(NPY_PATH)\n",
    "content = response.read()\n",
    "\n",
    "# Load the .npy file\n",
    "contact_maps = np.load(io.BytesIO(content))"
   ]
  },
  {
   "cell_type": "code",
   "execution_count": null,
   "metadata": {},
   "outputs": [],
   "source": []
  },
  {
   "cell_type": "markdown",
   "metadata": {},
   "source": [
    "## Molecular properties"
   ]
  },
  {
   "cell_type": "code",
   "execution_count": 7,
   "metadata": {},
   "outputs": [
    {
     "name": "stdout",
     "output_type": "stream",
     "text": [
      "      CAS-RN             Smiles Class  SpMax_L  J_Dz(e)  nHM  F01[N-N]  \\\n",
      "0  1120-21-4        CCCCCCCCCCC    RB    3.919   2.6909    0         0   \n",
      "1   106-88-7            CCC1CO1    RB    4.170   2.1144    0         0   \n",
      "2   112-50-5       CCOCCOCCOCCO    RB    3.932   3.2512    0         0   \n",
      "3    64-18-6               OC=O    RB    3.000   2.7098    0         0   \n",
      "4   124-17-4  CCCCOCCOCCOC(C)=O    RB    4.236   3.3944    0         0   \n",
      "\n",
      "   F04[C-N]  NssssC  nCb-  ...  nCrt  C-026  F02[C-N]  nHDon  SpMax_B(m)  \\\n",
      "0         0       0     0  ...     0      0         0      0       2.949   \n",
      "1         0       0     0  ...     0      0         0      0       3.315   \n",
      "2         0       0     0  ...     0      0         0      1       3.076   \n",
      "3         0       0     0  ...     0      0         0      1       3.046   \n",
      "4         0       0     0  ...     0      0         0      0       3.351   \n",
      "\n",
      "   Psi_i_A  nN  SM6_B(m)  nArCOOR  nX  \n",
      "0    1.591   0     7.253        0   0  \n",
      "1    1.967   0     7.257        0   0  \n",
      "2    2.417   0     7.601        0   0  \n",
      "3    5.000   0     6.690        0   0  \n",
      "4    2.405   0     8.003        0   0  \n",
      "\n",
      "[5 rows x 44 columns]\n"
     ]
    }
   ],
   "source": [
    "CSV_PATH = \"https://gitlab.com/oasci/courses/pitt/biosc1540-2024s/-/raw/main/biosc1540/files/csv/mol-biodegrade-props.csv\"\n",
    "\n",
    "df_all = pd.read_csv(CSV_PATH)\n",
    "\n",
    "print(df_all.head())"
   ]
  },
  {
   "cell_type": "markdown",
   "metadata": {},
   "source": [
    "## Get acquainted\n",
    "\n",
    "I define a function called `show_mol` in a hidden cell that allows you to display a 3D molecule from it's `\"Smiles\"` string using [rdkit](https://www.rdkit.org/) and [py3Dmol](https://3dmol.org/)."
   ]
  },
  {
   "cell_type": "code",
   "execution_count": 3,
   "metadata": {
    "tags": [
     "hide_code"
    ]
   },
   "outputs": [],
   "source": [
    "# @title\n",
    "\n",
    "from rdkit import Chem\n",
    "from rdkit.Chem import AllChem\n",
    "from rdkit.Chem import Draw\n",
    "import py3Dmol\n",
    "\n",
    "\n",
    "def show_mol(smi, style=\"stick\"):\n",
    "    mol = Chem.MolFromSmiles(smi)\n",
    "    mol = Chem.AddHs(mol)\n",
    "    AllChem.EmbedMolecule(mol)\n",
    "    AllChem.MMFFOptimizeMolecule(mol, maxIters=200)\n",
    "    mblock = Chem.MolToMolBlock(mol)\n",
    "\n",
    "    view = py3Dmol.view(width=500, height=500)\n",
    "    view.addModel(mblock, \"mol\")\n",
    "    view.setStyle({style: {}})\n",
    "    view.zoomTo()\n",
    "    view.show()"
   ]
  },
  {
   "cell_type": "code",
   "execution_count": 6,
   "metadata": {},
   "outputs": [
    {
     "data": {
      "application/3dmoljs_load.v0": "<div id=\"3dmolviewer_17055513919884586\"  style=\"position: relative; width: 500px; height: 500px;\">\n        <p id=\"3dmolwarning_17055513919884586\" style=\"background-color:#ffcccc;color:black\">You appear to be running in JupyterLab (or JavaScript failed to load for some other reason).  You need to install the 3dmol extension: <br>\n        <tt>jupyter labextension install jupyterlab_3dmol</tt></p>\n        </div>\n<script>\n\nvar loadScriptAsync = function(uri){\n  return new Promise((resolve, reject) => {\n    //this is to ignore the existence of requirejs amd\n    var savedexports, savedmodule;\n    if (typeof exports !== 'undefined') savedexports = exports;\n    else exports = {}\n    if (typeof module !== 'undefined') savedmodule = module;\n    else module = {}\n\n    var tag = document.createElement('script');\n    tag.src = uri;\n    tag.async = true;\n    tag.onload = () => {\n        exports = savedexports;\n        module = savedmodule;\n        resolve();\n    };\n  var firstScriptTag = document.getElementsByTagName('script')[0];\n  firstScriptTag.parentNode.insertBefore(tag, firstScriptTag);\n});\n};\n\nif(typeof $3Dmolpromise === 'undefined') {\n$3Dmolpromise = null;\n  $3Dmolpromise = loadScriptAsync('https://cdnjs.cloudflare.com/ajax/libs/3Dmol/2.0.4/3Dmol-min.js');\n}\n\nvar viewer_17055513919884586 = null;\nvar warn = document.getElementById(\"3dmolwarning_17055513919884586\");\nif(warn) {\n    warn.parentNode.removeChild(warn);\n}\n$3Dmolpromise.then(function() {\nviewer_17055513919884586 = $3Dmol.createViewer(document.getElementById(\"3dmolviewer_17055513919884586\"),{backgroundColor:\"white\"});\nviewer_17055513919884586.zoomTo();\n\tviewer_17055513919884586.addModel(\"\\n     RDKit          3D\\n\\n 20 20  0  0  0  0  0  0  0  0999 V2000\\n    3.0016   -0.7358    0.0936 C   0  0  0  0  0  0  0  0  0  0  0  0\\n    1.6171   -1.0492    0.0632 O   0  0  0  0  0  0  0  0  0  0  0  0\\n    0.7283   -0.0030    0.0192 C   0  0  0  0  0  0  0  0  0  0  0  0\\n    1.0966    1.3474    0.0024 C   0  0  0  0  0  0  0  0  0  0  0  0\\n    0.1210    2.3452   -0.0429 C   0  0  0  0  0  0  0  0  0  0  0  0\\n   -1.2268    2.0016   -0.0717 C   0  0  0  0  0  0  0  0  0  0  0  0\\n   -1.6068    0.6582   -0.0553 C   0  0  0  0  0  0  0  0  0  0  0  0\\n   -0.6381   -0.3514   -0.0100 C   0  0  0  0  0  0  0  0  0  0  0  0\\n   -0.9188   -1.6957    0.0090 O   0  0  0  0  0  0  0  0  0  0  0  0\\n   -2.2844   -2.0834   -0.0193 C   0  0  0  0  0  0  0  0  0  0  0  0\\n    3.2587   -0.1674    0.9935 H   0  0  0  0  0  0  0  0  0  0  0  0\\n    3.5571   -1.6780    0.1268 H   0  0  0  0  0  0  0  0  0  0  0  0\\n    3.3064   -0.2028   -0.8130 H   0  0  0  0  0  0  0  0  0  0  0  0\\n    2.1358    1.6567    0.0237 H   0  0  0  0  0  0  0  0  0  0  0  0\\n    0.4155    3.3916   -0.0557 H   0  0  0  0  0  0  0  0  0  0  0  0\\n   -1.9854    2.7795   -0.1069 H   0  0  0  0  0  0  0  0  0  0  0  0\\n   -2.6672    0.4322   -0.0788 H   0  0  0  0  0  0  0  0  0  0  0  0\\n   -2.3221   -3.1769    0.0012 H   0  0  0  0  0  0  0  0  0  0  0  0\\n   -2.8180   -1.7166    0.8637 H   0  0  0  0  0  0  0  0  0  0  0  0\\n   -2.7705   -1.7521   -0.9428 H   0  0  0  0  0  0  0  0  0  0  0  0\\n  1  2  1  0\\n  2  3  1  0\\n  3  4  2  0\\n  4  5  1  0\\n  5  6  2  0\\n  6  7  1  0\\n  7  8  2  0\\n  8  9  1  0\\n  9 10  1  0\\n  8  3  1  0\\n  1 11  1  0\\n  1 12  1  0\\n  1 13  1  0\\n  4 14  1  0\\n  5 15  1  0\\n  6 16  1  0\\n  7 17  1  0\\n 10 18  1  0\\n 10 19  1  0\\n 10 20  1  0\\nM  END\\n\",\"mol\");\n\tviewer_17055513919884586.setStyle({\"stick\": {}});\n\tviewer_17055513919884586.zoomTo();\nviewer_17055513919884586.render();\n});\n</script>",
      "text/html": [
       "<div id=\"3dmolviewer_17055513919884586\"  style=\"position: relative; width: 500px; height: 500px;\">\n",
       "        <p id=\"3dmolwarning_17055513919884586\" style=\"background-color:#ffcccc;color:black\">You appear to be running in JupyterLab (or JavaScript failed to load for some other reason).  You need to install the 3dmol extension: <br>\n",
       "        <tt>jupyter labextension install jupyterlab_3dmol</tt></p>\n",
       "        </div>\n",
       "<script>\n",
       "\n",
       "var loadScriptAsync = function(uri){\n",
       "  return new Promise((resolve, reject) => {\n",
       "    //this is to ignore the existence of requirejs amd\n",
       "    var savedexports, savedmodule;\n",
       "    if (typeof exports !== 'undefined') savedexports = exports;\n",
       "    else exports = {}\n",
       "    if (typeof module !== 'undefined') savedmodule = module;\n",
       "    else module = {}\n",
       "\n",
       "    var tag = document.createElement('script');\n",
       "    tag.src = uri;\n",
       "    tag.async = true;\n",
       "    tag.onload = () => {\n",
       "        exports = savedexports;\n",
       "        module = savedmodule;\n",
       "        resolve();\n",
       "    };\n",
       "  var firstScriptTag = document.getElementsByTagName('script')[0];\n",
       "  firstScriptTag.parentNode.insertBefore(tag, firstScriptTag);\n",
       "});\n",
       "};\n",
       "\n",
       "if(typeof $3Dmolpromise === 'undefined') {\n",
       "$3Dmolpromise = null;\n",
       "  $3Dmolpromise = loadScriptAsync('https://cdnjs.cloudflare.com/ajax/libs/3Dmol/2.0.4/3Dmol-min.js');\n",
       "}\n",
       "\n",
       "var viewer_17055513919884586 = null;\n",
       "var warn = document.getElementById(\"3dmolwarning_17055513919884586\");\n",
       "if(warn) {\n",
       "    warn.parentNode.removeChild(warn);\n",
       "}\n",
       "$3Dmolpromise.then(function() {\n",
       "viewer_17055513919884586 = $3Dmol.createViewer(document.getElementById(\"3dmolviewer_17055513919884586\"),{backgroundColor:\"white\"});\n",
       "viewer_17055513919884586.zoomTo();\n",
       "\tviewer_17055513919884586.addModel(\"\\n     RDKit          3D\\n\\n 20 20  0  0  0  0  0  0  0  0999 V2000\\n    3.0016   -0.7358    0.0936 C   0  0  0  0  0  0  0  0  0  0  0  0\\n    1.6171   -1.0492    0.0632 O   0  0  0  0  0  0  0  0  0  0  0  0\\n    0.7283   -0.0030    0.0192 C   0  0  0  0  0  0  0  0  0  0  0  0\\n    1.0966    1.3474    0.0024 C   0  0  0  0  0  0  0  0  0  0  0  0\\n    0.1210    2.3452   -0.0429 C   0  0  0  0  0  0  0  0  0  0  0  0\\n   -1.2268    2.0016   -0.0717 C   0  0  0  0  0  0  0  0  0  0  0  0\\n   -1.6068    0.6582   -0.0553 C   0  0  0  0  0  0  0  0  0  0  0  0\\n   -0.6381   -0.3514   -0.0100 C   0  0  0  0  0  0  0  0  0  0  0  0\\n   -0.9188   -1.6957    0.0090 O   0  0  0  0  0  0  0  0  0  0  0  0\\n   -2.2844   -2.0834   -0.0193 C   0  0  0  0  0  0  0  0  0  0  0  0\\n    3.2587   -0.1674    0.9935 H   0  0  0  0  0  0  0  0  0  0  0  0\\n    3.5571   -1.6780    0.1268 H   0  0  0  0  0  0  0  0  0  0  0  0\\n    3.3064   -0.2028   -0.8130 H   0  0  0  0  0  0  0  0  0  0  0  0\\n    2.1358    1.6567    0.0237 H   0  0  0  0  0  0  0  0  0  0  0  0\\n    0.4155    3.3916   -0.0557 H   0  0  0  0  0  0  0  0  0  0  0  0\\n   -1.9854    2.7795   -0.1069 H   0  0  0  0  0  0  0  0  0  0  0  0\\n   -2.6672    0.4322   -0.0788 H   0  0  0  0  0  0  0  0  0  0  0  0\\n   -2.3221   -3.1769    0.0012 H   0  0  0  0  0  0  0  0  0  0  0  0\\n   -2.8180   -1.7166    0.8637 H   0  0  0  0  0  0  0  0  0  0  0  0\\n   -2.7705   -1.7521   -0.9428 H   0  0  0  0  0  0  0  0  0  0  0  0\\n  1  2  1  0\\n  2  3  1  0\\n  3  4  2  0\\n  4  5  1  0\\n  5  6  2  0\\n  6  7  1  0\\n  7  8  2  0\\n  8  9  1  0\\n  9 10  1  0\\n  8  3  1  0\\n  1 11  1  0\\n  1 12  1  0\\n  1 13  1  0\\n  4 14  1  0\\n  5 15  1  0\\n  6 16  1  0\\n  7 17  1  0\\n 10 18  1  0\\n 10 19  1  0\\n 10 20  1  0\\nM  END\\n\",\"mol\");\n",
       "\tviewer_17055513919884586.setStyle({\"stick\": {}});\n",
       "\tviewer_17055513919884586.zoomTo();\n",
       "viewer_17055513919884586.render();\n",
       "});\n",
       "</script>"
      ]
     },
     "metadata": {},
     "output_type": "display_data"
    },
    {
     "name": "stdout",
     "output_type": "stream",
     "text": [
      "CAS-RN              91-16-7\n",
      "Smiles         COc1ccccc1OC\n",
      "Class                    RB\n",
      "SpMax_L               4.828\n",
      "J_Dz(e)              3.3386\n",
      "nHM                       0\n",
      "F01[N-N]                  0\n",
      "F04[C-N]                  0\n",
      "NssssC                    0\n",
      "nCb-                      2\n",
      "C%                     40.0\n",
      "nCp                       0\n",
      "nO                        2\n",
      "F03[C-N]                  0\n",
      "SdssC                   0.0\n",
      "HyWi_B(m)             3.203\n",
      "LOC                   1.261\n",
      "SM6_L                 9.749\n",
      "F03[C-O]                  4\n",
      "Me                    1.004\n",
      "Mi                    1.125\n",
      "nN-N                      0\n",
      "nArNO2                    0\n",
      "nCRX3                     0\n",
      "SpPosA_B(p)           1.219\n",
      "nCIR                      1\n",
      "B01[C-Br]                 0\n",
      "B03[C-Cl]                 0\n",
      "N-073                     0\n",
      "SpMax_A               2.247\n",
      "Psi_i_1d              0.014\n",
      "B04[C-Br]                 0\n",
      "SdO                     0.0\n",
      "TI2_L                 1.436\n",
      "nCrt                      0\n",
      "C-026                     2\n",
      "F02[C-N]                  0\n",
      "nHDon                     0\n",
      "SpMax_B(m)            3.677\n",
      "Psi_i_A               2.233\n",
      "nN                        0\n",
      "SM6_B(m)              8.114\n",
      "nArCOOR                   0\n",
      "nX                        0\n",
      "Name: 62, dtype: object\n"
     ]
    }
   ],
   "source": [
    "df_index = 62  # Change me to some int from 0 to 1054\n",
    "_ = df_all.iloc[df_index]\n",
    "show_mol(_[\"Smiles\"])\n",
    "print(_)"
   ]
  },
  {
   "cell_type": "markdown",
   "metadata": {},
   "source": [
    "We have a ton of information about each molecule.\n",
    "\n",
    "For completeness, here are the column descriptions.\n",
    "You do not need to know what any of these mean; we are just using this for some realistic data.\n",
    "\n",
    "<details><summary>Open to view data definitions</summary>\n",
    "\n",
    "| Column | Description |\n",
    "| ------ | ----------- |\n",
    "| B01[C-Br] | presence/absence of C–Br at topological distance 1 |\n",
    "| B03[C-Cl] | presence/absence of C–Cl at topological distance 3 |\n",
    "| B04[C-Br] | presence/absence of C–Br at topological distance 4 |\n",
    "| C% | percentage of C atoms |\n",
    "| C-026 | R–CX–R |\n",
    "| F01[N-N] | frequency of N–N at topological distance 1 |\n",
    "| F02[C-N] | frequency of C–N at topological distance 2 |\n",
    "| F03[C-N] | frequency of C–N at topological distance 3 |\n",
    "| F03[C-O] | frequency of C–O at topological distance 3 |\n",
    "| F04[C-N] | frequency of C–N at topological distance 4 |\n",
    "| HyWi_B(m) | hyper-Wiener-like index (log function) from Burden matrix weighted by mass |\n",
    "| J_Dz(e) | Balaban-like index from Barysz matrix weighted by Sanderson electronegativity |\n",
    "| LOC | lopping centric index |\n",
    "| Me | mean atomic Sanderson electronegativity (scaled on Carbon atom) |\n",
    "| Mi | mean first ionization potential (scaled on carbon atom) |\n",
    "| N-073 | Ar2NH/Ar3N/Ar2N–Al/R···N···R |\n",
    "| nArCOOR | number of esters (aromatic) |\n",
    "| nArNO2 | number of nitro groups (aromatic) |\n",
    "| nCb- | number of substituted benzene C(sp2) |\n",
    "| nCIR | number of circuits |\n",
    "| nCp | number of terminal primary C(sp3) |\n",
    "| nCrt | number of ring tertiary C(sp3) |\n",
    "| nCRX3 | number of CRX3 |\n",
    "| nHDon | number of donor atoms for H-bonds (N and O) |\n",
    "| nHM | number of heavy atoms |\n",
    "| nN | number of nitrogen atoms |\n",
    "| nN-N | number of N hydrazines |\n",
    "| nO | number of oxygen atoms |\n",
    "| NssssC | number of atoms of type ssssC |\n",
    "| nX | number of halogen atoms |\n",
    "| Psi_i_1d | intrinsic state pseudoconnectivity index–type 1d |\n",
    "| Psi_i_A | intrinsic state pseudoconnectivity index—type S average |\n",
    "| SdO | sum of dO E-states |\n",
    "| SdssC | sum of dssC E-states |\n",
    "| SM6_B(m) | spectral moment of order 6 from Burden matrix weighted by mass |\n",
    "| SM6_L | spectral moment of order 6 from Laplace matrix |\n",
    "| SpMax_A | leading eigenvalue from adjacency matrix (Lovasz–Pelikan index) |\n",
    "| SpMax_B(m) | leading eigenvalue from Burden matrix weighted by mass |\n",
    "| SpMax_L | leading eigenvalue from Laplace matrix |\n",
    "| SpPosA_B(p) | normalized spectral positive sum from Burden matrix weighted by polarizability |\n",
    "| TI2_L | second Mohar index from Laplace matrix |\n",
    "</details>"
   ]
  },
  {
   "cell_type": "markdown",
   "metadata": {},
   "source": [
    "## Acknowledgements\n",
    "\n",
    "This CSV file was taken from [this paper](https://pubs.acs.org/doi/10.1021/ci4000213)."
   ]
  }
 ],
 "metadata": {
  "kernelspec": {
   "display_name": "biosc1540-2024s-dev",
   "language": "python",
   "name": "python3"
  },
  "language_info": {
   "codemirror_mode": {
    "name": "ipython",
    "version": 3
   },
   "file_extension": ".py",
   "mimetype": "text/x-python",
   "name": "python",
   "nbconvert_exporter": "python",
   "pygments_lexer": "ipython3",
   "version": "3.11.7"
  }
 },
 "nbformat": 4,
 "nbformat_minor": 2
}
