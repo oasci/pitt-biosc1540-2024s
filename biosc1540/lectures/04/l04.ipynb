{
 "cells": [
  {
   "cell_type": "markdown",
   "metadata": {},
   "source": [
    "# Lecture 04\n",
    "\n",
    "**Date:** Jan 18, 2024\n",
    "\n",
    "## Learning objectives\n",
    "\n",
    "What you should be able to do after today's lecture.\n",
    "\n",
    "1.  🐍 Understand the basics of NumPy arrays and their role in data manipulation.\n",
    "2.  🐍 Understand the role of pandas DataFrames in data analysis and manipulation.\n",
    "3.  🐍 Explain and employ the key components of a matplotlib Figure.\n",
    "\n",
    "## Readings\n",
    "\n",
    "Relevant material for today's lecture.\n",
    "\n",
    "-   [Working with data](../../../modules/intro/data/)\n",
    "-   [Plotting](../../../modules/intro/plotting/)\n",
    "\n",
    "Today, we will have a guided lecture about exploring a data set on protein contact maps and molecular properties."
   ]
  },
  {
   "cell_type": "code",
   "execution_count": 1,
   "metadata": {
    "tags": [
     "hide_code"
    ]
   },
   "outputs": [],
   "source": [
    "import sys\n",
    "\n",
    "IN_COLAB = \"google.colab\" in sys.modules\n",
    "if IN_COLAB:\n",
    "    !pip install rdkit-pypi\n",
    "    !pip install py3dmol"
   ]
  },
  {
   "cell_type": "code",
   "execution_count": 2,
   "metadata": {},
   "outputs": [],
   "source": [
    "# Here, we import our standard libraries to use in Python\n",
    "\n",
    "import numpy as np\n",
    "import pandas as pd\n",
    "import matplotlib.pyplot as plt"
   ]
  },
  {
   "cell_type": "markdown",
   "metadata": {},
   "source": [
    "## Contact maps\n",
    "\n",
    "You have probably seen cartoon depictions of proteins like this one of the Green Fluorescent Protein (GFP).\n",
    "\n",
    "<script src=\"https://cdnjs.cloudflare.com/ajax/libs/3Dmol/2.0.6/3Dmol.js\"></script>\n",
    "<script src=\"https://cdnjs.cloudflare.com/ajax/libs/jquery/2.1.1/jquery.min.js\"></script>\n",
    "\n",
    "<div id=\"rogfp2-cartoon-view\" class=\"mol-container\"></div>\n",
    "<script>\n",
    "var uri = 'https://files.rcsb.org/view/1JC0.pdb';\n",
    "jQuery.ajax( uri, {\n",
    "    success: function(data) {\n",
    "        // https://3dmol.org/doc/GLViewer.html\n",
    "        let viewer = $3Dmol.createViewer(\n",
    "            document.querySelector('#rogfp2-cartoon-view'),\n",
    "            { backgroundAlpha: '0.0' }\n",
    "        );\n",
    "        viewer.addModel( data, 'pdb' );\n",
    "        viewer.setStyle({chain: 'A'}, {cartoon: {color: 'spectrum'}});\n",
    "        viewer.setStyle({chain: 'B'}, {});\n",
    "        viewer.setStyle({chain: 'C'}, {});\n",
    "        viewer.setStyle({chain: 'A', resn: 'CRO'}, {stick: {}});  \n",
    "        viewer.zoomTo({chain: 'A'});\n",
    "        viewer.render();\n",
    "    },\n",
    "    error: function(hdr, status, err) {\n",
    "        console.error( \"Failed to load \" + uri + \": \" + err );\n",
    "    },\n",
    "});\n",
    "</script>\n",
    "\n",
    "This is a very intuitive representation of the GFP structure.\n"
   ]
  },
  {
   "cell_type": "markdown",
   "metadata": {},
   "source": [
    "We can see the $\\beta$ strands and the chromophore in the center.\n",
    "However, that is just one intuitive representation; a more physically accurate representation is the atomistic structure shown below.\n",
    "\n",
    "<div id=\"rogfp2-view\" class=\"mol-container\"></div>\n",
    "<script>\n",
    "var uri = 'https://files.rcsb.org/view/1JC0.pdb';\n",
    "jQuery.ajax( uri, {\n",
    "    success: function(data) {\n",
    "        // https://3dmol.org/doc/GLViewer.html\n",
    "        let viewer = $3Dmol.createViewer(\n",
    "            document.querySelector('#rogfp2-view'),\n",
    "            { backgroundAlpha: '0.0' }\n",
    "        );\n",
    "        viewer.addModel( data, 'pdb' );\n",
    "        viewer.setStyle({chain: 'A'}, {stick: {}});\n",
    "        viewer.setStyle({chain: 'B'}, {});\n",
    "        viewer.setStyle({chain: 'C'}, {});\n",
    "        viewer.setStyle({chain: 'A', resn: 'CRO'}, {stick: {}});  \n",
    "        viewer.zoomTo({chain: 'A'});\n",
    "        viewer.render();\n",
    "    },\n",
    "    error: function(hdr, status, err) {\n",
    "        console.error( \"Failed to load \" + uri + \": \" + err );\n",
    "    },\n",
    "});\n",
    "</script>\n",
    "\n",
    "Wow, that is a lot harder to interpret, and the same goes for trying to quantitatively describe this structure without over complicating things.\n",
    "The sheer complexity of this molecular architecture makes it challenging to grasp the structural nuances and relationships at a glance."
   ]
  },
  {
   "cell_type": "markdown",
   "metadata": {},
   "source": [
    "To overcome this complexity, researchers often simplify their representation by focusing on specific key elements, such as $\\alpha$ carbons.\n",
    "This simplification is crucial for making the analysis tractable and insightful.\n",
    "By selectively highlighting essential features, like $\\alpha$ carbons, researchers can create contact maps that distill the intricate details of inter-atomic interactions into a comprehensible array.\n",
    "\n",
    "<div id=\"rogfp2-alphac-view\" class=\"mol-container\"></div>\n",
    "<script>\n",
    "var uri = 'https://files.rcsb.org/view/1JC0.pdb';\n",
    "jQuery.ajax( uri, {\n",
    "    success: function(data) {\n",
    "        // https://3dmol.org/doc/GLViewer.html\n",
    "        let viewer = $3Dmol.createViewer(\n",
    "            document.querySelector('#rogfp2-alphac-view'),\n",
    "            { backgroundAlpha: '0.0' }\n",
    "        );\n",
    "        viewer.addModel( data, 'pdb' );\n",
    "        viewer.setStyle({chain: 'A'}, {stick: {opacity: 0.7}});\n",
    "        viewer.setStyle({chain: 'B'}, {});\n",
    "        viewer.setStyle({chain: 'C'}, {});\n",
    "        viewer.setStyle({chain: 'A', atom: 'CA'}, {sphere: {radius: 0.5, color: \"purple\"}});  \n",
    "        viewer.zoomTo({chain: 'A'});\n",
    "        viewer.render();\n",
    "    },\n",
    "    error: function(hdr, status, err) {\n",
    "        console.error( \"Failed to load \" + uri + \": \" + err );\n",
    "    },\n",
    "});\n",
    "</script>\n",
    "\n",
    "This simplified view not only aids in visualization but also allows for the identification of spatial patterns and functional domains within the protein.\n",
    "In essence, simplifying the representation is a strategic approach to distilling the wealth of structural information in proteins, enabling researchers to extract meaningful insights without becoming overwhelmed by the intricacies of individual atoms."
   ]
  },
  {
   "cell_type": "markdown",
   "metadata": {},
   "source": [
    "Since proteins can get very large, we will use a synthetic dataset to thoughtfully probe.\n",
    "Below is the standard code we will use in this course to load NumPy arrays from the [GitLab repository](https://gitlab.com/oasci/courses/pitt/biosc1540-2024s).\n",
    "\n",
    "Here is what is going on.\n"
   ]
  },
  {
   "cell_type": "code",
   "execution_count": 3,
   "metadata": {},
   "outputs": [],
   "source": [
    "import io\n",
    "from urllib import request\n",
    "\n",
    "NPY_PATH = \"https://gitlab.com/oasci/courses/pitt/biosc1540-2024s/-/raw/main/biosc1540/files/npy/protein-contact-maps.npy\"\n",
    "\n",
    "response = request.urlopen(NPY_PATH)\n",
    "content = response.read()\n",
    "\n",
    "# Load the .npy file\n",
    "contact_maps = np.load(io.BytesIO(content))"
   ]
  },
  {
   "cell_type": "markdown",
   "metadata": {},
   "source": [
    "1.  **Retrieving the .npy File from the URL:**\n",
    "    The URL specified in NPY_PATH points to a .npy file containing protein contact maps. The code uses urlopen from the urllib library to open the URL and obtain a response object. The read() method is then called on this response to retrieve the binary content of the file.\n",
    "2.  **Creating a Binary Stream:**\n",
    "    To load the binary content into a NumPy array, the code utilizes io.BytesIO. This class allows the binary content obtained from the URL to be treated as a binary stream.\n",
    "    This step is crucial because NumPy's np.load expects a file-like object, and io.BytesIO provides a convenient way to convert binary content into such an object.\n",
    "3.  **Loading the .npy File Using NumPy:**\n",
    "    The heart of the code lies in the np.load(io.BytesIO(content)) line. Here, NumPy's load function is employed to read and interpret the binary content as a NumPy array.\n",
    "    The io.BytesIO object serves as an interface between the binary content and NumPy, allowing seamless loading of the data directly from the web.\n",
    "4.  **Result:**\n",
    "    The final result is a NumPy array named contact_maps, which contains the protein contact maps from the remote .npy file.\n",
    "    This approach is efficient for situations where the data is hosted online, as it avoids the need to manually download the file and then load it into the Python environment."
   ]
  },
  {
   "cell_type": "code",
   "execution_count": 4,
   "metadata": {},
   "outputs": [
    {
     "name": "stdout",
     "output_type": "stream",
     "text": [
      "(500, 16, 16)\n"
     ]
    }
   ],
   "source": [
    "print(contact_maps.shape)"
   ]
  },
  {
   "cell_type": "code",
   "execution_count": 5,
   "metadata": {},
   "outputs": [
    {
     "name": "stdout",
     "output_type": "stream",
     "text": [
      "[[ 0.          3.83347011  6.93431997  9.98147011 12.15553474 10.16739845\n",
      "   9.63760185 13.3811655  14.22265434 12.16785812 11.25229836 13.22015572\n",
      "  14.96301937 17.38097    19.78103447 22.77887917]\n",
      " [ 3.83347011  0.          3.8165617   6.73455429  8.41300297  6.38442278\n",
      "   6.43562698 10.01253414 10.86362839  9.45881081  9.09638691 11.9043169\n",
      "  13.0393858  15.49612617 18.04162598 21.29822922]\n",
      " [ 6.93431997  3.8165617   0.          3.76643252  5.74598122  5.59764814\n",
      "   6.23895741  8.78576565 10.59183884 10.48924541 10.03008556 13.47540855\n",
      "  14.49065304 17.1993618  19.9050312  23.19474792]\n",
      " [ 9.98147011  6.73455429  3.76643252  0.          3.8503058   5.13913107\n",
      "   4.87924004  5.94701481  8.74501419  9.5961504   8.79932785 12.51224041\n",
      "  13.42786694 16.42795753 19.28792381 22.37532425]\n",
      " [12.15553474  8.41300297  5.74598122  3.8503058   0.          3.77418947\n",
      "   5.90038109  5.66926956  7.38994122  9.34163666 10.01371002 13.80911827\n",
      "  13.64373016 15.98110294 18.59047318 21.94004059]\n",
      " [10.16739845  6.38442278  5.59764814  5.13913107  3.77418947  0.\n",
      "   3.814219    5.32540131  5.52614164  6.2771306   7.62956429 11.21958637\n",
      "  10.80824089 12.91573048 15.47144699 18.95276451]\n",
      " [ 9.63760185  6.43562698  6.23895741  4.87924004  5.90038109  3.814219\n",
      "   0.          3.84189367  5.24102783  4.85362387  4.28000212  8.05894279\n",
      "   8.61529446 11.6186676  14.51467228 17.55732536]\n",
      " [13.3811655  10.01253414  8.78576565  5.94701481  5.66926956  5.32540131\n",
      "   3.84189367  0.          3.80009866  5.91654396  5.86260748  9.34318256\n",
      "   9.13790512 11.97058105 14.8023243  17.64043427]\n",
      " [14.22265434 10.86362839 10.59183884  8.74501419  7.38994122  5.52614164\n",
      "   5.24102783  3.80009866  0.          3.78293824  6.09677839  8.91283798\n",
      "   7.21902609  9.08563805 11.66036892 14.80839062]\n",
      " [12.16785812  9.45881081 10.48924541  9.5961504   9.34163666  6.2771306\n",
      "   4.85362387  5.91654396  3.78293824  0.          3.83865476  6.04987001\n",
      "   4.57770157  6.87256861  9.69551563 12.89520073]\n",
      " [11.25229836  9.09638691 10.03008556  8.79932785 10.01371002  7.62956429\n",
      "   4.28000212  5.86260748  6.09677839  3.83865476  0.          3.81472421\n",
      "   5.13977671  8.78009987 11.8008461  14.2960453 ]\n",
      " [13.22015572 11.9043169  13.47540855 12.51224041 13.80911827 11.21958637\n",
      "   8.05894279  9.34318256  8.91283798  6.04987001  3.81472421  0.\n",
      "   3.84088945  7.41899681 10.20746708 11.91767979]\n",
      " [14.96301937 13.0393858  14.49065304 13.42786694 13.64373016 10.80824089\n",
      "   8.61529446  9.13790512  7.21902609  4.57770157  5.13977671  3.84088945\n",
      "   0.          3.87939882  6.86835098  9.17101002]\n",
      " [17.38097    15.49612617 17.1993618  16.42795753 15.98110294 12.91573048\n",
      "  11.6186676  11.97058105  9.08563805  6.87256861  8.78009987  7.41899681\n",
      "   3.87939882  0.          3.03756285  6.05153513]\n",
      " [19.78103447 18.04162598 19.9050312  19.28792381 18.59047318 15.47144699\n",
      "  14.51467228 14.8023243  11.66036892  9.69551563 11.8008461  10.20746708\n",
      "   6.86835098  3.03756285  0.          3.89077282]\n",
      " [22.77887917 21.29822922 23.19474792 22.37532425 21.94004059 18.95276451\n",
      "  17.55732536 17.64043427 14.80839062 12.89520073 14.2960453  11.91767979\n",
      "   9.17101002  6.05153513  3.89077282  0.        ]]\n"
     ]
    }
   ],
   "source": [
    "print(contact_maps[0])"
   ]
  },
  {
   "cell_type": "code",
   "execution_count": 6,
   "metadata": {},
   "outputs": [
    {
     "data": {
      "image/png": "[encoded data removed]",
      "text/plain": [
       "<Figure size 640x480 with 2 Axes>"
      ]
     },
     "metadata": {},
     "output_type": "display_data"
    }
   ],
   "source": [
    "index = 0\n",
    "plt.imshow(contact_maps[index], cmap=\"viridis\", interpolation=\"nearest\")\n",
    "plt.colorbar()\n",
    "\n",
    "plt.show()"
   ]
  },
  {
   "cell_type": "code",
   "execution_count": 7,
   "metadata": {},
   "outputs": [
    {
     "name": "stdout",
     "output_type": "stream",
     "text": [
      "[[ 0.          3.83347011  6.93431997 ... 17.38097    19.78103447\n",
      "  22.77887917]\n",
      " [ 0.          3.81670856  6.60578823 ... 20.97814941 19.54075432\n",
      "  16.61600304]\n",
      " [ 0.          3.80369949  7.25624418 ... 23.25949669 23.68174362\n",
      "  26.26152611]\n",
      " ...\n",
      " [ 0.          3.84979677  6.23215246 ... 12.16074181 13.03322315\n",
      "  15.69995117]\n",
      " [ 0.          3.87816453  5.80189323 ... 15.25770855 14.67540646\n",
      "  18.14950562]\n",
      " [ 0.          3.90148878  5.80140972 ... 20.25053787 21.37346077\n",
      "  22.67399979]]\n",
      "(500, 16)\n"
     ]
    }
   ],
   "source": [
    "aa_values = contact_maps[:, 0]\n",
    "print(aa_values)\n",
    "print(aa_values.shape)"
   ]
  },
  {
   "cell_type": "code",
   "execution_count": 8,
   "metadata": {},
   "outputs": [
    {
     "name": "stdout",
     "output_type": "stream",
     "text": [
      "[11.99111439 11.97024673 15.17017302  8.57789998 11.98437238 11.28796546\n",
      " 11.04551125 12.96451695 13.04674888  9.33696827  9.73044434 16.1866824\n",
      " 21.38740641 11.53940398 12.05457219 11.62484162 10.17643495 11.88070583\n",
      " 13.65726094 11.99471892 16.83260553 10.85588773 19.32457812 10.6284204\n",
      " 14.23978885 11.90934056 12.85869028 19.63310583 10.96395595 16.28667821\n",
      " 11.63892934 10.4522976  13.1936086  11.27021123 10.39140265 10.62757346\n",
      "  9.29321992 10.87964851 17.13238373 17.33406818 19.59616062 18.46880299\n",
      " 19.91673662  9.56926294 16.85157    18.39389022 20.28002788 18.64135811\n",
      " 14.78038821 16.37198833 13.82168923 17.00406849 17.12714995 13.17792772\n",
      " 16.98283355 16.42749873 11.54413424 15.05712384 20.31567428 16.47410102\n",
      " 17.46657319 14.77779043 10.48447445 13.83417466 17.18588948 12.73746775\n",
      " 12.20609529 12.05412054 12.01460744 11.29121611 11.70313466 11.61252895\n",
      " 13.64778627 11.26277857 11.75401624 12.11137974 13.26923315 11.44849372\n",
      " 13.13520652 12.02761523 10.04821604 12.44371416 11.30188988 11.3897779\n",
      " 11.68264055 11.89774048 16.06025259 16.48208772 19.4638871  12.85553691\n",
      " 10.52122834 15.21977518 17.65289241 11.35329087 12.71105894 18.71048534\n",
      " 10.00822809 14.2751051  20.42819668 12.87416796 17.96835907 10.95407623\n",
      " 15.35312857 10.02559711 14.24555977 16.29491699 12.94919042 10.15257518\n",
      " 15.0316316  12.7072532  12.50445521 16.35172428 10.19089249  6.86338776\n",
      " 12.76079436 11.35516442 13.31074093 11.34308775  8.51167318 11.88352555\n",
      " 10.19627655 14.21124959 11.61558315 12.88925526 12.62342373 12.80976719\n",
      " 16.14097032 12.21746975 11.33818297 11.44322689 17.96488315 11.94386694\n",
      " 12.42891751 17.46236502 11.08046052 16.92411691 14.47797127  8.91511224\n",
      "  8.3848349  15.28778315 12.49589781 15.03674839  9.38540131 17.51669587\n",
      " 19.56425391 10.02343209  8.39278969 15.20996472 17.73399468  8.86478101\n",
      "  8.77766673 14.20392886 16.17092644 11.79892012 12.47155963 10.52967834\n",
      " 11.26200169  9.64359757 10.20603712 11.68225679 12.59414752 13.447449\n",
      "  9.5597948  10.49285698 14.02870631 19.58093074 13.94013897 13.68378088\n",
      " 17.18304382 10.18525811 13.262033   13.52080558 12.29264136 17.29667197\n",
      " 16.63775636 13.78861505 12.96248992 14.29422151 11.84805396 11.17843041\n",
      " 13.27770223 12.22347708 19.24533494 14.28979769 18.86833714  9.87947379\n",
      " 16.10085882 12.39641701  9.44830546 16.24889795 15.68570821  8.43551649\n",
      " 15.18023285 10.29381882  9.92140779 14.75981581 15.58533558 16.83068585\n",
      " 10.41600592 18.12487562 16.72789429  9.94090222 20.75214662 14.67564775\n",
      " 15.53911389 12.08234198 15.77021536 10.32458095 10.09890024 12.99415092\n",
      " 11.88099636  9.72366449  8.96108831 10.14785703 10.08867516 12.86063713\n",
      " 14.15457216  8.39232481 12.45299265  9.78685349 17.7267478  12.31238531\n",
      " 11.7870322   8.11240773 12.02613801 11.45939139 14.14620852 11.92454316\n",
      " 12.6588871  10.25360334 11.92154399 11.79917486  8.95862183 13.81042735\n",
      " 11.89846615 10.29423036  9.1220955  11.39136159  9.37677985  9.27622508\n",
      " 14.55444261 14.54879045  9.52471799 12.10089663 13.02516535 10.55059873\n",
      " 12.17285223 12.32911888 10.66640303 11.46106832 10.4308053   9.60166231\n",
      " 11.37104237  9.09815507 12.29849543 11.76893932 14.89303581 11.89372319\n",
      " 14.59686974 19.25375773 11.52582757 11.35721089 14.90722528 10.57131581\n",
      " 17.49221522 11.92504312 21.33040906 19.55487382  7.20299618 10.06123155\n",
      " 19.11048412 18.45153178 12.22579542 16.42697598 18.85629398  9.60856184\n",
      " 11.43247323 11.80149429 16.16217059  9.02483077  9.44610079 19.75499003\n",
      " 12.12366796 10.64581595  8.62960501  9.81892495 10.62363927 11.15585692\n",
      " 13.11267385 14.98288202 13.18483566 14.75182384 13.44604637 10.5500451\n",
      " 15.56263278 15.68083122 11.14822808 13.20229609 11.74985082 10.27320385\n",
      " 11.86862908 15.43622458 18.19814233  9.79700179 11.18738763 17.03365208\n",
      " 10.22830208  7.54716571 15.91239248 11.79750815  9.03943726 11.62224476\n",
      " 12.34774595 10.6232491   8.4037815  12.4461256  14.42590465  9.37340559\n",
      "  8.67784205  8.97586808 11.5293939  14.15096006 12.36072296 11.72847727\n",
      " 12.7639035  11.21654998 23.30364662 11.19206738 11.88025412 11.69001535\n",
      " 10.4550837   8.72465068 11.9744598  10.68448031 12.5921506  12.47026332\n",
      "  9.83780491 12.12130305 19.30864665 14.8401659  10.12432711 16.7778993\n",
      " 12.36627342 13.81426804 24.38646728 20.40128869 12.05323955 11.95470642\n",
      " 12.11774237  8.5247723  16.36391336 10.75545923 14.17828728 11.66422252\n",
      " 12.12483622 19.3086118  12.09912494 17.50770894 16.38705085 20.6526792\n",
      " 21.33603001 11.55824079 10.5731338  17.4712536  16.83941823 14.65183066\n",
      "  9.21173863 17.43582915 13.99521677  9.70164745 11.54165958 14.84647906\n",
      " 15.1610017  11.3683254  12.21425064 20.74211776 15.21355368  8.95942535\n",
      " 14.29668981  9.60655352  9.5062269  20.42652453  8.68797043 15.88289215\n",
      "  9.46389394 17.74227652 11.86691782 11.90421788 10.61330397 11.10087031\n",
      " 14.41637444 13.10874464 16.18068139 10.99732995 16.38784428 14.59780194\n",
      "  8.39663294  9.53046164  8.75736296 16.10581097 10.0463341  20.84557393\n",
      " 11.11463228 13.61537078 17.07863767 16.89424352 13.95120156 20.70046864\n",
      " 16.656184   16.55907524 10.0643611  14.14772946 17.29069455 11.61502762\n",
      " 14.29489942 17.09266184 12.21772598 14.5283559  16.37594961 12.4489281\n",
      " 12.19565542 11.98085842 10.5470214  10.02081199 12.85653792  8.69174235\n",
      " 12.61476223 11.72002073 10.53140229 11.8402167  11.10997656 12.63269356\n",
      "  9.83503728 12.50512715  9.66631839 12.07166031 12.67113185 10.93027048\n",
      " 12.15939231 13.94646838  9.29421631 17.21628311 15.29145132 11.83385569\n",
      " 10.30782886  7.63462079 15.03620465 10.33183554  9.86722265 12.22362484\n",
      " 14.28212245 19.04522105 20.95738165 19.44060765  9.60948586 13.60533728\n",
      " 13.21245709 11.62866722  9.00694221 12.00498691  9.83203869 10.81353962\n",
      " 14.82254457 10.74780683 14.60689229  9.66474718  9.93508968 13.65417461\n",
      " 16.06214368 16.85422975 12.74392636 21.75052401 11.66645949 16.06550214\n",
      " 11.36593778  8.71455133  7.56851193 12.33034436  9.30700335 13.19562271\n",
      " 10.90539114 12.16622108 19.59636794 11.83300112 11.20427772 12.87754732\n",
      " 12.05860224  9.68854578 10.936398   13.29383577 10.25559799 10.20060045\n",
      " 12.27753791 12.42324382  8.18629088 12.11357734 11.36847647  9.04804382\n",
      " 10.72887827 12.05564639]\n"
     ]
    }
   ],
   "source": [
    "aa_0_mean = np.mean(aa_values, axis=1)\n",
    "print(aa_0_mean)"
   ]
  },
  {
   "cell_type": "markdown",
   "metadata": {},
   "source": [
    "## Molecular properties"
   ]
  },
  {
   "cell_type": "code",
   "execution_count": 9,
   "metadata": {},
   "outputs": [
    {
     "name": "stdout",
     "output_type": "stream",
     "text": [
      "      CAS-RN             Smiles Class  SpMax_L  J_Dz(e)  nHM  F01[N-N]  \\\n",
      "0  1120-21-4        CCCCCCCCCCC    RB    3.919   2.6909    0         0   \n",
      "1   106-88-7            CCC1CO1    RB    4.170   2.1144    0         0   \n",
      "2   112-50-5       CCOCCOCCOCCO    RB    3.932   3.2512    0         0   \n",
      "3    64-18-6               OC=O    RB    3.000   2.7098    0         0   \n",
      "4   124-17-4  CCCCOCCOCCOC(C)=O    RB    4.236   3.3944    0         0   \n",
      "\n",
      "   F04[C-N]  NssssC  nCb-  ...  nCrt  C-026  F02[C-N]  nHDon  SpMax_B(m)  \\\n",
      "0         0       0     0  ...     0      0         0      0       2.949   \n",
      "1         0       0     0  ...     0      0         0      0       3.315   \n",
      "2         0       0     0  ...     0      0         0      1       3.076   \n",
      "3         0       0     0  ...     0      0         0      1       3.046   \n",
      "4         0       0     0  ...     0      0         0      0       3.351   \n",
      "\n",
      "   Psi_i_A  nN  SM6_B(m)  nArCOOR  nX  \n",
      "0    1.591   0     7.253        0   0  \n",
      "1    1.967   0     7.257        0   0  \n",
      "2    2.417   0     7.601        0   0  \n",
      "3    5.000   0     6.690        0   0  \n",
      "4    2.405   0     8.003        0   0  \n",
      "\n",
      "[5 rows x 44 columns]\n"
     ]
    }
   ],
   "source": [
    "CSV_PATH = \"https://gitlab.com/oasci/courses/pitt/biosc1540-2024s/-/raw/main/biosc1540/files/csv/mol-biodegrade-props.csv\"\n",
    "\n",
    "df_all = pd.read_csv(CSV_PATH)\n",
    "\n",
    "print(df_all.head())"
   ]
  },
  {
   "cell_type": "markdown",
   "metadata": {},
   "source": [
    "## Get acquainted\n",
    "\n",
    "I define a function called `show_mol` in a hidden cell that allows you to display a 3D molecule from it's `\"Smiles\"` string using [rdkit](https://www.rdkit.org/) and [py3Dmol](https://3dmol.org/)."
   ]
  },
  {
   "cell_type": "code",
   "execution_count": 10,
   "metadata": {
    "tags": [
     "hide_code"
    ]
   },
   "outputs": [],
   "source": [
    "from rdkit import Chem\n",
    "from rdkit.Chem import AllChem\n",
    "from rdkit.Chem import Draw\n",
    "import py3Dmol\n",
    "\n",
    "\n",
    "def show_mol(smi, style=\"stick\"):\n",
    "    mol = Chem.MolFromSmiles(smi)\n",
    "    mol = Chem.AddHs(mol)\n",
    "    AllChem.EmbedMolecule(mol)\n",
    "    AllChem.MMFFOptimizeMolecule(mol, maxIters=200)\n",
    "    mblock = Chem.MolToMolBlock(mol)\n",
    "\n",
    "    view = py3Dmol.view(width=500, height=500)\n",
    "    view.addModel(mblock, \"mol\")\n",
    "    view.setStyle({style: {}})\n",
    "    view.zoomTo()\n",
    "    view.show()"
   ]
  },
  {
   "cell_type": "code",
   "execution_count": 11,
   "metadata": {},
   "outputs": [
    {
     "data": {
      "application/3dmoljs_load.v0": "<div id=\"3dmolviewer_17057107763010514\"  style=\"position: relative; width: 500px; height: 500px;\">\n        <p id=\"3dmolwarning_17057107763010514\" style=\"background-color:#ffcccc;color:black\">You appear to be running in JupyterLab (or JavaScript failed to load for some other reason).  You need to install the 3dmol extension: <br>\n        <tt>jupyter labextension install jupyterlab_3dmol</tt></p>\n        </div>\n<script>\n\nvar loadScriptAsync = function(uri){\n  return new Promise((resolve, reject) => {\n    //this is to ignore the existence of requirejs amd\n    var savedexports, savedmodule;\n    if (typeof exports !== 'undefined') savedexports = exports;\n    else exports = {}\n    if (typeof module !== 'undefined') savedmodule = module;\n    else module = {}\n\n    var tag = document.createElement('script');\n    tag.src = uri;\n    tag.async = true;\n    tag.onload = () => {\n        exports = savedexports;\n        module = savedmodule;\n        resolve();\n    };\n  var firstScriptTag = document.getElementsByTagName('script')[0];\n  firstScriptTag.parentNode.insertBefore(tag, firstScriptTag);\n});\n};\n\nif(typeof $3Dmolpromise === 'undefined') {\n$3Dmolpromise = null;\n  $3Dmolpromise = loadScriptAsync('https://cdnjs.cloudflare.com/ajax/libs/3Dmol/2.0.4/3Dmol-min.js');\n}\n\nvar viewer_17057107763010514 = null;\nvar warn = document.getElementById(\"3dmolwarning_17057107763010514\");\nif(warn) {\n    warn.parentNode.removeChild(warn);\n}\n$3Dmolpromise.then(function() {\nviewer_17057107763010514 = $3Dmol.createViewer(document.getElementById(\"3dmolviewer_17057107763010514\"),{backgroundColor:\"white\"});\nviewer_17057107763010514.zoomTo();\n\tviewer_17057107763010514.addModel(\"\\n     RDKit          3D\\n\\n 20 20  0  0  0  0  0  0  0  0999 V2000\\n    2.9939   -0.7080    0.3079 C   0  0  0  0  0  0  0  0  0  0  0  0\\n    1.6323   -1.0256    0.0609 O   0  0  0  0  0  0  0  0  0  0  0  0\\n    0.7212    0.0014    0.1029 C   0  0  0  0  0  0  0  0  0  0  0  0\\n    1.0461    1.3362    0.3721 C   0  0  0  0  0  0  0  0  0  0  0  0\\n    0.0505    2.3149    0.3940 C   0  0  0  0  0  0  0  0  0  0  0  0\\n   -1.2739    1.9677    0.1474 C   0  0  0  0  0  0  0  0  0  0  0  0\\n   -1.6105    0.6398   -0.1224 C   0  0  0  0  0  0  0  0  0  0  0  0\\n   -0.6215   -0.3506   -0.1471 C   0  0  0  0  0  0  0  0  0  0  0  0\\n   -0.8597   -1.6788   -0.4029 O   0  0  0  0  0  0  0  0  0  0  0  0\\n   -2.2004   -2.0696   -0.6590 C   0  0  0  0  0  0  0  0  0  0  0  0\\n    3.1301   -0.3105    1.3190 H   0  0  0  0  0  0  0  0  0  0  0  0\\n    3.5719   -1.6343    0.2354 H   0  0  0  0  0  0  0  0  0  0  0  0\\n    3.3816   -0.0154   -0.4464 H   0  0  0  0  0  0  0  0  0  0  0  0\\n    2.0660    1.6476    0.5694 H   0  0  0  0  0  0  0  0  0  0  0  0\\n    0.3112    3.3492    0.6039 H   0  0  0  0  0  0  0  0  0  0  0  0\\n   -2.0481    2.7307    0.1648 H   0  0  0  0  0  0  0  0  0  0  0  0\\n   -2.6539    0.4104   -0.3092 H   0  0  0  0  0  0  0  0  0  0  0  0\\n   -2.8413   -1.8757    0.2074 H   0  0  0  0  0  0  0  0  0  0  0  0\\n   -2.5900   -1.5807   -1.5581 H   0  0  0  0  0  0  0  0  0  0  0  0\\n   -2.2055   -3.1488   -0.8401 H   0  0  0  0  0  0  0  0  0  0  0  0\\n  1  2  1  0\\n  2  3  1  0\\n  3  4  2  0\\n  4  5  1  0\\n  5  6  2  0\\n  6  7  1  0\\n  7  8  2  0\\n  8  9  1  0\\n  9 10  1  0\\n  8  3  1  0\\n  1 11  1  0\\n  1 12  1  0\\n  1 13  1  0\\n  4 14  1  0\\n  5 15  1  0\\n  6 16  1  0\\n  7 17  1  0\\n 10 18  1  0\\n 10 19  1  0\\n 10 20  1  0\\nM  END\\n\",\"mol\");\n\tviewer_17057107763010514.setStyle({\"stick\": {}});\n\tviewer_17057107763010514.zoomTo();\nviewer_17057107763010514.render();\n});\n</script>",
      "text/html": [
       "<div id=\"3dmolviewer_17057107763010514\"  style=\"position: relative; width: 500px; height: 500px;\">\n",
       "        <p id=\"3dmolwarning_17057107763010514\" style=\"background-color:#ffcccc;color:black\">You appear to be running in JupyterLab (or JavaScript failed to load for some other reason).  You need to install the 3dmol extension: <br>\n",
       "        <tt>jupyter labextension install jupyterlab_3dmol</tt></p>\n",
       "        </div>\n",
       "<script>\n",
       "\n",
       "var loadScriptAsync = function(uri){\n",
       "  return new Promise((resolve, reject) => {\n",
       "    //this is to ignore the existence of requirejs amd\n",
       "    var savedexports, savedmodule;\n",
       "    if (typeof exports !== 'undefined') savedexports = exports;\n",
       "    else exports = {}\n",
       "    if (typeof module !== 'undefined') savedmodule = module;\n",
       "    else module = {}\n",
       "\n",
       "    var tag = document.createElement('script');\n",
       "    tag.src = uri;\n",
       "    tag.async = true;\n",
       "    tag.onload = () => {\n",
       "        exports = savedexports;\n",
       "        module = savedmodule;\n",
       "        resolve();\n",
       "    };\n",
       "  var firstScriptTag = document.getElementsByTagName('script')[0];\n",
       "  firstScriptTag.parentNode.insertBefore(tag, firstScriptTag);\n",
       "});\n",
       "};\n",
       "\n",
       "if(typeof $3Dmolpromise === 'undefined') {\n",
       "$3Dmolpromise = null;\n",
       "  $3Dmolpromise = loadScriptAsync('https://cdnjs.cloudflare.com/ajax/libs/3Dmol/2.0.4/3Dmol-min.js');\n",
       "}\n",
       "\n",
       "var viewer_17057107763010514 = null;\n",
       "var warn = document.getElementById(\"3dmolwarning_17057107763010514\");\n",
       "if(warn) {\n",
       "    warn.parentNode.removeChild(warn);\n",
       "}\n",
       "$3Dmolpromise.then(function() {\n",
       "viewer_17057107763010514 = $3Dmol.createViewer(document.getElementById(\"3dmolviewer_17057107763010514\"),{backgroundColor:\"white\"});\n",
       "viewer_17057107763010514.zoomTo();\n",
       "\tviewer_17057107763010514.addModel(\"\\n     RDKit          3D\\n\\n 20 20  0  0  0  0  0  0  0  0999 V2000\\n    2.9939   -0.7080    0.3079 C   0  0  0  0  0  0  0  0  0  0  0  0\\n    1.6323   -1.0256    0.0609 O   0  0  0  0  0  0  0  0  0  0  0  0\\n    0.7212    0.0014    0.1029 C   0  0  0  0  0  0  0  0  0  0  0  0\\n    1.0461    1.3362    0.3721 C   0  0  0  0  0  0  0  0  0  0  0  0\\n    0.0505    2.3149    0.3940 C   0  0  0  0  0  0  0  0  0  0  0  0\\n   -1.2739    1.9677    0.1474 C   0  0  0  0  0  0  0  0  0  0  0  0\\n   -1.6105    0.6398   -0.1224 C   0  0  0  0  0  0  0  0  0  0  0  0\\n   -0.6215   -0.3506   -0.1471 C   0  0  0  0  0  0  0  0  0  0  0  0\\n   -0.8597   -1.6788   -0.4029 O   0  0  0  0  0  0  0  0  0  0  0  0\\n   -2.2004   -2.0696   -0.6590 C   0  0  0  0  0  0  0  0  0  0  0  0\\n    3.1301   -0.3105    1.3190 H   0  0  0  0  0  0  0  0  0  0  0  0\\n    3.5719   -1.6343    0.2354 H   0  0  0  0  0  0  0  0  0  0  0  0\\n    3.3816   -0.0154   -0.4464 H   0  0  0  0  0  0  0  0  0  0  0  0\\n    2.0660    1.6476    0.5694 H   0  0  0  0  0  0  0  0  0  0  0  0\\n    0.3112    3.3492    0.6039 H   0  0  0  0  0  0  0  0  0  0  0  0\\n   -2.0481    2.7307    0.1648 H   0  0  0  0  0  0  0  0  0  0  0  0\\n   -2.6539    0.4104   -0.3092 H   0  0  0  0  0  0  0  0  0  0  0  0\\n   -2.8413   -1.8757    0.2074 H   0  0  0  0  0  0  0  0  0  0  0  0\\n   -2.5900   -1.5807   -1.5581 H   0  0  0  0  0  0  0  0  0  0  0  0\\n   -2.2055   -3.1488   -0.8401 H   0  0  0  0  0  0  0  0  0  0  0  0\\n  1  2  1  0\\n  2  3  1  0\\n  3  4  2  0\\n  4  5  1  0\\n  5  6  2  0\\n  6  7  1  0\\n  7  8  2  0\\n  8  9  1  0\\n  9 10  1  0\\n  8  3  1  0\\n  1 11  1  0\\n  1 12  1  0\\n  1 13  1  0\\n  4 14  1  0\\n  5 15  1  0\\n  6 16  1  0\\n  7 17  1  0\\n 10 18  1  0\\n 10 19  1  0\\n 10 20  1  0\\nM  END\\n\",\"mol\");\n",
       "\tviewer_17057107763010514.setStyle({\"stick\": {}});\n",
       "\tviewer_17057107763010514.zoomTo();\n",
       "viewer_17057107763010514.render();\n",
       "});\n",
       "</script>"
      ]
     },
     "metadata": {},
     "output_type": "display_data"
    },
    {
     "name": "stdout",
     "output_type": "stream",
     "text": [
      "CAS-RN              91-16-7\n",
      "Smiles         COc1ccccc1OC\n",
      "Class                    RB\n",
      "SpMax_L               4.828\n",
      "J_Dz(e)              3.3386\n",
      "nHM                       0\n",
      "F01[N-N]                  0\n",
      "F04[C-N]                  0\n",
      "NssssC                    0\n",
      "nCb-                      2\n",
      "C%                     40.0\n",
      "nCp                       0\n",
      "nO                        2\n",
      "F03[C-N]                  0\n",
      "SdssC                   0.0\n",
      "HyWi_B(m)             3.203\n",
      "LOC                   1.261\n",
      "SM6_L                 9.749\n",
      "F03[C-O]                  4\n",
      "Me                    1.004\n",
      "Mi                    1.125\n",
      "nN-N                      0\n",
      "nArNO2                    0\n",
      "nCRX3                     0\n",
      "SpPosA_B(p)           1.219\n",
      "nCIR                      1\n",
      "B01[C-Br]                 0\n",
      "B03[C-Cl]                 0\n",
      "N-073                     0\n",
      "SpMax_A               2.247\n",
      "Psi_i_1d              0.014\n",
      "B04[C-Br]                 0\n",
      "SdO                     0.0\n",
      "TI2_L                 1.436\n",
      "nCrt                      0\n",
      "C-026                     2\n",
      "F02[C-N]                  0\n",
      "nHDon                     0\n",
      "SpMax_B(m)            3.677\n",
      "Psi_i_A               2.233\n",
      "nN                        0\n",
      "SM6_B(m)              8.114\n",
      "nArCOOR                   0\n",
      "nX                        0\n",
      "Name: 62, dtype: object\n"
     ]
    }
   ],
   "source": [
    "df_index = 62  # Change me to some int from 0 to 1054\n",
    "_ = df_all.iloc[df_index]\n",
    "show_mol(_[\"Smiles\"])\n",
    "print(_)"
   ]
  },
  {
   "cell_type": "markdown",
   "metadata": {},
   "source": [
    "We have a ton of information about each molecule.\n",
    "\n",
    "For completeness, here are the column descriptions.\n",
    "You do not need to know what any of these mean; we are just using this for some realistic data.\n",
    "\n",
    "<details><summary>Open to view data definitions</summary>\n",
    "\n",
    "| Column | Description |\n",
    "| ------ | ----------- |\n",
    "| B01[C-Br] | presence/absence of C–Br at topological distance 1 |\n",
    "| B03[C-Cl] | presence/absence of C–Cl at topological distance 3 |\n",
    "| B04[C-Br] | presence/absence of C–Br at topological distance 4 |\n",
    "| C% | percentage of C atoms |\n",
    "| C-026 | R–CX–R |\n",
    "| F01[N-N] | frequency of N–N at topological distance 1 |\n",
    "| F02[C-N] | frequency of C–N at topological distance 2 |\n",
    "| F03[C-N] | frequency of C–N at topological distance 3 |\n",
    "| F03[C-O] | frequency of C–O at topological distance 3 |\n",
    "| F04[C-N] | frequency of C–N at topological distance 4 |\n",
    "| HyWi_B(m) | hyper-Wiener-like index (log function) from Burden matrix weighted by mass |\n",
    "| J_Dz(e) | Balaban-like index from Barysz matrix weighted by Sanderson electronegativity |\n",
    "| LOC | lopping centric index |\n",
    "| Me | mean atomic Sanderson electronegativity (scaled on Carbon atom) |\n",
    "| Mi | mean first ionization potential (scaled on carbon atom) |\n",
    "| N-073 | Ar2NH/Ar3N/Ar2N–Al/R···N···R |\n",
    "| nArCOOR | number of esters (aromatic) |\n",
    "| nArNO2 | number of nitro groups (aromatic) |\n",
    "| nCb- | number of substituted benzene C(sp2) |\n",
    "| nCIR | number of circuits |\n",
    "| nCp | number of terminal primary C(sp3) |\n",
    "| nCrt | number of ring tertiary C(sp3) |\n",
    "| nCRX3 | number of CRX3 |\n",
    "| nHDon | number of donor atoms for H-bonds (N and O) |\n",
    "| nHM | number of heavy atoms |\n",
    "| nN | number of nitrogen atoms |\n",
    "| nN-N | number of N hydrazines |\n",
    "| nO | number of oxygen atoms |\n",
    "| NssssC | number of atoms of type ssssC |\n",
    "| nX | number of halogen atoms |\n",
    "| Psi_i_1d | intrinsic state pseudoconnectivity index–type 1d |\n",
    "| Psi_i_A | intrinsic state pseudoconnectivity index—type S average |\n",
    "| SdO | sum of dO E-states |\n",
    "| SdssC | sum of dssC E-states |\n",
    "| SM6_B(m) | spectral moment of order 6 from Burden matrix weighted by mass |\n",
    "| SM6_L | spectral moment of order 6 from Laplace matrix |\n",
    "| SpMax_A | leading eigenvalue from adjacency matrix (Lovasz–Pelikan index) |\n",
    "| SpMax_B(m) | leading eigenvalue from Burden matrix weighted by mass |\n",
    "| SpMax_L | leading eigenvalue from Laplace matrix |\n",
    "| SpPosA_B(p) | normalized spectral positive sum from Burden matrix weighted by polarizability |\n",
    "| TI2_L | second Mohar index from Laplace matrix |\n",
    "</details>"
   ]
  },
  {
   "cell_type": "markdown",
   "metadata": {},
   "source": [
    "Let's take a look at our DataFrame."
   ]
  },
  {
   "cell_type": "code",
   "execution_count": 12,
   "metadata": {},
   "outputs": [
    {
     "name": "stdout",
     "output_type": "stream",
     "text": [
      "<class 'pandas.core.frame.DataFrame'>\n",
      "RangeIndex: 1055 entries, 0 to 1054\n",
      "Data columns (total 44 columns):\n",
      " #   Column       Non-Null Count  Dtype  \n",
      "---  ------       --------------  -----  \n",
      " 0   CAS-RN       1055 non-null   object \n",
      " 1   Smiles       1055 non-null   object \n",
      " 2   Class        1055 non-null   object \n",
      " 3   SpMax_L      1055 non-null   float64\n",
      " 4   J_Dz(e)      1055 non-null   float64\n",
      " 5   nHM          1055 non-null   int64  \n",
      " 6   F01[N-N]     1055 non-null   int64  \n",
      " 7   F04[C-N]     1055 non-null   int64  \n",
      " 8   NssssC       1055 non-null   int64  \n",
      " 9   nCb-         1055 non-null   int64  \n",
      " 10  C%           1055 non-null   float64\n",
      " 11  nCp          1055 non-null   int64  \n",
      " 12  nO           1055 non-null   int64  \n",
      " 13  F03[C-N]     1055 non-null   int64  \n",
      " 14  SdssC        1055 non-null   float64\n",
      " 15  HyWi_B(m)    1055 non-null   float64\n",
      " 16  LOC          1055 non-null   float64\n",
      " 17  SM6_L        1055 non-null   float64\n",
      " 18  F03[C-O]     1055 non-null   int64  \n",
      " 19  Me           1055 non-null   float64\n",
      " 20  Mi           1055 non-null   float64\n",
      " 21  nN-N         1055 non-null   int64  \n",
      " 22  nArNO2       1055 non-null   int64  \n",
      " 23  nCRX3        1055 non-null   int64  \n",
      " 24  SpPosA_B(p)  1055 non-null   float64\n",
      " 25  nCIR         1055 non-null   int64  \n",
      " 26  B01[C-Br]    1055 non-null   int64  \n",
      " 27  B03[C-Cl]    1055 non-null   int64  \n",
      " 28  N-073        1055 non-null   int64  \n",
      " 29  SpMax_A      1055 non-null   float64\n",
      " 30  Psi_i_1d     1055 non-null   float64\n",
      " 31  B04[C-Br]    1055 non-null   int64  \n",
      " 32  SdO          1055 non-null   float64\n",
      " 33  TI2_L        1055 non-null   float64\n",
      " 34  nCrt         1055 non-null   int64  \n",
      " 35  C-026        1055 non-null   int64  \n",
      " 36  F02[C-N]     1055 non-null   int64  \n",
      " 37  nHDon        1055 non-null   int64  \n",
      " 38  SpMax_B(m)   1055 non-null   float64\n",
      " 39  Psi_i_A      1055 non-null   float64\n",
      " 40  nN           1055 non-null   int64  \n",
      " 41  SM6_B(m)     1055 non-null   float64\n",
      " 42  nArCOOR      1055 non-null   int64  \n",
      " 43  nX           1055 non-null   int64  \n",
      "dtypes: float64(17), int64(24), object(3)\n",
      "memory usage: 362.8+ KB\n",
      "None\n"
     ]
    }
   ],
   "source": [
    "print(df_all.info())"
   ]
  },
  {
   "cell_type": "code",
   "execution_count": 13,
   "metadata": {},
   "outputs": [
    {
     "name": "stdout",
     "output_type": "stream",
     "text": [
      "(1055, 44)\n"
     ]
    }
   ],
   "source": [
    "print(df_all.shape)"
   ]
  },
  {
   "cell_type": "markdown",
   "metadata": {},
   "source": [
    "We have 1055 molecules and 44 columns.\n",
    "\n",
    "However, lots of this information is not really too useful to us data explorers, so we can remove this information.\n",
    "We do this by dropping a column from the table."
   ]
  },
  {
   "cell_type": "code",
   "execution_count": 14,
   "metadata": {},
   "outputs": [
    {
     "name": "stdout",
     "output_type": "stream",
     "text": [
      "  Class  SpMax_L  J_Dz(e)  nHM  F01[N-N]  F04[C-N]  NssssC  nCb-    C%  nCp  \\\n",
      "0    RB    3.919   2.6909    0         0         0       0     0  31.4    2   \n",
      "1    RB    4.170   2.1144    0         0         0       0     0  30.8    1   \n",
      "2    RB    3.932   3.2512    0         0         0       0     0  26.7    2   \n",
      "3    RB    3.000   2.7098    0         0         0       0     0  20.0    0   \n",
      "4    RB    4.236   3.3944    0         0         0       0     0  29.4    2   \n",
      "\n",
      "   ...  nCrt  C-026  F02[C-N]  nHDon  SpMax_B(m)  Psi_i_A  nN  SM6_B(m)  \\\n",
      "0  ...     0      0         0      0       2.949    1.591   0     7.253   \n",
      "1  ...     0      0         0      0       3.315    1.967   0     7.257   \n",
      "2  ...     0      0         0      1       3.076    2.417   0     7.601   \n",
      "3  ...     0      0         0      1       3.046    5.000   0     6.690   \n",
      "4  ...     0      0         0      0       3.351    2.405   0     8.003   \n",
      "\n",
      "   nArCOOR  nX  \n",
      "0        0   0  \n",
      "1        0   0  \n",
      "2        0   0  \n",
      "3        0   0  \n",
      "4        0   0  \n",
      "\n",
      "[5 rows x 42 columns]\n"
     ]
    }
   ],
   "source": [
    "df = df_all.drop(labels=[\"CAS-RN\", \"Smiles\"], axis=1)\n",
    "print(df.head())"
   ]
  },
  {
   "cell_type": "markdown",
   "metadata": {},
   "source": [
    "Okay, so we have `Class` column where values of `\"RB\"` and `\"NRB\"` which means \"Ready Biodegradability\" and \"Not Ready Biodegradability\".\n",
    "I wonder how many we have of each?\n",
    "\n",
    "Let's first get just the column to work with."
   ]
  },
  {
   "cell_type": "code",
   "execution_count": 15,
   "metadata": {},
   "outputs": [
    {
     "name": "stdout",
     "output_type": "stream",
     "text": [
      "0        RB\n",
      "1        RB\n",
      "2        RB\n",
      "3        RB\n",
      "4        RB\n",
      "       ... \n",
      "1050    NRB\n",
      "1051    NRB\n",
      "1052    NRB\n",
      "1053    NRB\n",
      "1054    NRB\n",
      "Name: Class, Length: 1055, dtype: object\n"
     ]
    }
   ],
   "source": [
    "mol_class = df[\"Class\"]\n",
    "print(mol_class)"
   ]
  },
  {
   "cell_type": "code",
   "execution_count": 16,
   "metadata": {},
   "outputs": [
    {
     "data": {
      "text/plain": [
       "Class\n",
       "NRB    699\n",
       "RB     356\n",
       "Name: count, dtype: int64"
      ]
     },
     "execution_count": 16,
     "metadata": {},
     "output_type": "execute_result"
    }
   ],
   "source": [
    "mol_class.value_counts()"
   ]
  },
  {
   "cell_type": "code",
   "execution_count": 17,
   "metadata": {},
   "outputs": [
    {
     "name": "stdout",
     "output_type": "stream",
     "text": [
      "  Biodegradable  SpMax_L  J_Dz(e)  nHM  F01[N-N]  F04[C-N]  NssssC  nCb-  \\\n",
      "0            RB    3.919   2.6909    0         0         0       0     0   \n",
      "1            RB    4.170   2.1144    0         0         0       0     0   \n",
      "2            RB    3.932   3.2512    0         0         0       0     0   \n",
      "3            RB    3.000   2.7098    0         0         0       0     0   \n",
      "4            RB    4.236   3.3944    0         0         0       0     0   \n",
      "\n",
      "     C%  nCp  ...  nCrt  C-026  F02[C-N]  nHDon  SpMax_B(m)  Psi_i_A  nN  \\\n",
      "0  31.4    2  ...     0      0         0      0       2.949    1.591   0   \n",
      "1  30.8    1  ...     0      0         0      0       3.315    1.967   0   \n",
      "2  26.7    2  ...     0      0         0      1       3.076    2.417   0   \n",
      "3  20.0    0  ...     0      0         0      1       3.046    5.000   0   \n",
      "4  29.4    2  ...     0      0         0      0       3.351    2.405   0   \n",
      "\n",
      "   SM6_B(m)  nArCOOR  nX  \n",
      "0     7.253        0   0  \n",
      "1     7.257        0   0  \n",
      "2     7.601        0   0  \n",
      "3     6.690        0   0  \n",
      "4     8.003        0   0  \n",
      "\n",
      "[5 rows x 42 columns]\n"
     ]
    }
   ],
   "source": [
    "df.rename(columns={\"Class\": \"Biodegradable\"}, inplace=True)\n",
    "print(df.head())"
   ]
  },
  {
   "cell_type": "code",
   "execution_count": 18,
   "metadata": {},
   "outputs": [
    {
     "name": "stdout",
     "output_type": "stream",
     "text": [
      "   Biodegradable  SpMax_L  J_Dz(e)  nHM  F01[N-N]  F04[C-N]  NssssC  nCb-  \\\n",
      "0           True    3.919   2.6909    0         0         0       0     0   \n",
      "1           True    4.170   2.1144    0         0         0       0     0   \n",
      "2           True    3.932   3.2512    0         0         0       0     0   \n",
      "3           True    3.000   2.7098    0         0         0       0     0   \n",
      "4           True    4.236   3.3944    0         0         0       0     0   \n",
      "\n",
      "     C%  nCp  ...  nCrt  C-026  F02[C-N]  nHDon  SpMax_B(m)  Psi_i_A  nN  \\\n",
      "0  31.4    2  ...     0      0         0      0       2.949    1.591   0   \n",
      "1  30.8    1  ...     0      0         0      0       3.315    1.967   0   \n",
      "2  26.7    2  ...     0      0         0      1       3.076    2.417   0   \n",
      "3  20.0    0  ...     0      0         0      1       3.046    5.000   0   \n",
      "4  29.4    2  ...     0      0         0      0       3.351    2.405   0   \n",
      "\n",
      "   SM6_B(m)  nArCOOR  nX  \n",
      "0     7.253        0   0  \n",
      "1     7.257        0   0  \n",
      "2     7.601        0   0  \n",
      "3     6.690        0   0  \n",
      "4     8.003        0   0  \n",
      "\n",
      "[5 rows x 42 columns]\n"
     ]
    }
   ],
   "source": [
    "df[\"Biodegradable\"] = df[\"Biodegradable\"].replace(\n",
    "    {\"RB\": True, \"NRB\": False}, inplace=False\n",
    ")\n",
    "print(df.head())"
   ]
  },
  {
   "cell_type": "markdown",
   "metadata": {},
   "source": [
    "Great, now let's try to explore our data some more.\n",
    "One of our columns is `nCb-`, which is the number of substituted benzene C(sp2).\n",
    "From chemical intuition, this should be pretty impactful for the biodegradation potential."
   ]
  },
  {
   "cell_type": "code",
   "execution_count": 19,
   "metadata": {},
   "outputs": [
    {
     "name": "stdout",
     "output_type": "stream",
     "text": [
      "[0 0 0 ... 5 9 4]\n"
     ]
    }
   ],
   "source": [
    "ncb_data = df[\"nCb-\"].to_numpy()\n",
    "print(ncb_data)"
   ]
  },
  {
   "cell_type": "code",
   "execution_count": 20,
   "metadata": {},
   "outputs": [
    {
     "name": "stdout",
     "output_type": "stream",
     "text": [
      "1.6464454976303318\n"
     ]
    }
   ],
   "source": [
    "print(np.mean(ncb_data))"
   ]
  },
  {
   "cell_type": "code",
   "execution_count": 21,
   "metadata": {},
   "outputs": [
    {
     "name": "stdout",
     "output_type": "stream",
     "text": [
      "2.223767387554041\n"
     ]
    }
   ],
   "source": [
    "print(np.std(ncb_data))"
   ]
  },
  {
   "cell_type": "code",
   "execution_count": 22,
   "metadata": {},
   "outputs": [
    {
     "name": "stdout",
     "output_type": "stream",
     "text": [
      "18\n"
     ]
    }
   ],
   "source": [
    "print(np.max(ncb_data))"
   ]
  },
  {
   "cell_type": "markdown",
   "metadata": {},
   "source": [
    "Let's find an example where the molecule **is not biodegradable**."
   ]
  },
  {
   "cell_type": "code",
   "execution_count": 23,
   "metadata": {},
   "outputs": [
    {
     "name": "stdout",
     "output_type": "stream",
     "text": [
      "      Biodegradable  SpMax_L  J_Dz(e)  nHM  F01[N-N]  F04[C-N]  NssssC  nCb-  \\\n",
      "284           False    4.825   3.1934    3         0         0       0     3   \n",
      "289           False    5.236   3.9153    6         0         0       0     6   \n",
      "290           False    5.522   3.7026    0         0         0       3     4   \n",
      "293           False    5.798   1.9414    1         0         0       0     4   \n",
      "294           False    5.451   2.8245    0         1         9       2     6   \n",
      "...             ...      ...      ...  ...       ...       ...     ...   ...   \n",
      "1048          False    5.265   3.3444    2         0         6       0     1   \n",
      "1049          False    5.029   2.5966    0         0         0       0     4   \n",
      "1052          False    4.869   1.7670    0         1         9       0     5   \n",
      "1053          False    5.158   1.6914    2         0        36       0     9   \n",
      "1054          False    5.076   2.6588    2         0         0       0     4   \n",
      "\n",
      "        C%  nCp  ...  nCrt  C-026  F02[C-N]  nHDon  SpMax_B(m)  Psi_i_A  nN  \\\n",
      "284   46.7    1  ...     0      2         0      0       4.054    2.483   0   \n",
      "289   50.0    0  ...     0      6         0      0       4.337    2.889   0   \n",
      "290   36.7    9  ...     0      1         0      1       3.876    2.022   0   \n",
      "293   53.3    0  ...     0      0         0      0      10.329    1.883   0   \n",
      "294   39.2    6  ...     0      4         8      1       3.910    2.481   3   \n",
      "...    ...  ...  ...   ...    ...       ...    ...         ...      ...  ..   \n",
      "1048  35.3    2  ...     0      0         3      0       4.698    2.463   2   \n",
      "1049  46.7    0  ...     0      0         0      0       3.919    2.611   0   \n",
      "1052  44.4    0  ...     0      4        13      0       3.848    2.576   5   \n",
      "1053  56.1    0  ...     0      1        16      0       5.808    2.055   8   \n",
      "1054  54.5    0  ...     0      2         0      0       4.009    2.206   0   \n",
      "\n",
      "      SM6_B(m)  nArCOOR  nX  \n",
      "284      9.085        0   3  \n",
      "289      9.676        0   6  \n",
      "290      8.780        0   0  \n",
      "293     14.016        0   0  \n",
      "294      9.320        0   0  \n",
      "...        ...      ...  ..  \n",
      "1048     9.666        0   0  \n",
      "1049     8.958        2   0  \n",
      "1052     9.537        1   0  \n",
      "1053    11.055        0   1  \n",
      "1054     9.130        0   2  \n",
      "\n",
      "[425 rows x 42 columns]\n"
     ]
    }
   ],
   "source": [
    "df_benzene_nrb = df[(df[\"Biodegradable\"] == False) & (df[\"nCb-\"] > 0)]\n",
    "print(df_benzene_nrb)"
   ]
  },
  {
   "cell_type": "code",
   "execution_count": 24,
   "metadata": {},
   "outputs": [
    {
     "data": {
      "application/3dmoljs_load.v0": "<div id=\"3dmolviewer_17057108115039485\"  style=\"position: relative; width: 500px; height: 500px;\">\n        <p id=\"3dmolwarning_17057108115039485\" style=\"background-color:#ffcccc;color:black\">You appear to be running in JupyterLab (or JavaScript failed to load for some other reason).  You need to install the 3dmol extension: <br>\n        <tt>jupyter labextension install jupyterlab_3dmol</tt></p>\n        </div>\n<script>\n\nvar loadScriptAsync = function(uri){\n  return new Promise((resolve, reject) => {\n    //this is to ignore the existence of requirejs amd\n    var savedexports, savedmodule;\n    if (typeof exports !== 'undefined') savedexports = exports;\n    else exports = {}\n    if (typeof module !== 'undefined') savedmodule = module;\n    else module = {}\n\n    var tag = document.createElement('script');\n    tag.src = uri;\n    tag.async = true;\n    tag.onload = () => {\n        exports = savedexports;\n        module = savedmodule;\n        resolve();\n    };\n  var firstScriptTag = document.getElementsByTagName('script')[0];\n  firstScriptTag.parentNode.insertBefore(tag, firstScriptTag);\n});\n};\n\nif(typeof $3Dmolpromise === 'undefined') {\n$3Dmolpromise = null;\n  $3Dmolpromise = loadScriptAsync('https://cdnjs.cloudflare.com/ajax/libs/3Dmol/2.0.4/3Dmol-min.js');\n}\n\nvar viewer_17057108115039485 = null;\nvar warn = document.getElementById(\"3dmolwarning_17057108115039485\");\nif(warn) {\n    warn.parentNode.removeChild(warn);\n}\n$3Dmolpromise.then(function() {\nviewer_17057108115039485 = $3Dmol.createViewer(document.getElementById(\"3dmolviewer_17057108115039485\"),{backgroundColor:\"white\"});\nviewer_17057108115039485.zoomTo();\n\tviewer_17057108115039485.addModel(\"\\n     RDKit          3D\\n\\n135138  0  0  0  0  0  0  0  0999 V2000\\n    2.3969    2.1106    0.6548 C   0  0  0  0  0  0  0  0  0  0  0  0\\n    1.2757    1.3907   -0.0701 C   0  0  0  0  0  0  0  0  0  0  0  0\\n   -0.0629    1.5989    0.3731 C   0  0  0  0  0  0  0  0  0  0  0  0\\n   -0.3485    2.5905    1.5072 C   0  0  0  0  0  0  0  0  0  0  0  0\\n   -0.7818    3.9834    1.0782 C   0  0  0  0  0  0  0  0  0  0  0  0\\n   -0.4904    4.5096   -0.1878 C   0  0  0  0  0  0  0  0  0  0  0  0\\n   -0.8765    5.8036   -0.5876 C   0  0  0  0  0  0  0  0  0  0  0  0\\n   -1.5419    6.5834    0.3899 C   0  0  0  0  0  0  0  0  0  0  0  0\\n   -1.8862    7.8794    0.1180 O   0  0  0  0  0  0  0  0  0  0  0  0\\n   -1.8643    6.1004    1.6854 C   0  0  0  0  0  0  0  0  0  0  0  0\\n   -1.4659    4.7887    1.9949 C   0  0  0  0  0  0  0  0  0  0  0  0\\n   -2.5965    6.9655    2.7416 C   0  0  0  0  0  0  0  0  0  0  0  0\\n   -2.9069    6.2118    4.0625 C   0  0  0  0  0  0  0  0  0  0  0  0\\n   -3.9615    7.4572    2.2076 C   0  0  0  0  0  0  0  0  0  0  0  0\\n   -1.7192    8.1761    3.1372 C   0  0  0  0  0  0  0  0  0  0  0  0\\n   -0.5574    6.2776   -2.0300 C   0  0  0  0  0  0  0  0  0  0  0  0\\n    0.6646    7.2177   -2.0042 C   0  0  0  0  0  0  0  0  0  0  0  0\\n   -1.7640    6.9870   -2.6926 C   0  0  0  0  0  0  0  0  0  0  0  0\\n   -0.2004    5.1104   -2.9976 C   0  0  0  0  0  0  0  0  0  0  0  0\\n   -1.1434    0.9346   -0.2734 C   0  0  0  0  0  0  0  0  0  0  0  0\\n   -2.5599    1.1280    0.2386 C   0  0  0  0  0  0  0  0  0  0  0  0\\n   -0.8849    0.0399   -1.3493 C   0  0  0  0  0  0  0  0  0  0  0  0\\n   -2.0487   -0.7005   -2.0154 C   0  0  0  0  0  0  0  0  0  0  0  0\\n   -2.6051   -1.8624   -1.2109 C   0  0  0  0  0  0  0  0  0  0  0  0\\n   -1.7750   -2.9032   -0.7731 C   0  0  0  0  0  0  0  0  0  0  0  0\\n   -2.2588   -4.0221   -0.0662 C   0  0  0  0  0  0  0  0  0  0  0  0\\n   -3.6439   -4.0133    0.2395 C   0  0  0  0  0  0  0  0  0  0  0  0\\n   -4.1964   -5.0241    0.9781 O   0  0  0  0  0  0  0  0  0  0  0  0\\n   -4.5304   -2.9860   -0.1805 C   0  0  0  0  0  0  0  0  0  0  0  0\\n   -3.9718   -1.9302   -0.9218 C   0  0  0  0  0  0  0  0  0  0  0  0\\n   -6.0408   -2.9887    0.1706 C   0  0  0  0  0  0  0  0  0  0  0  0\\n   -6.2361   -2.9485    1.7053 C   0  0  0  0  0  0  0  0  0  0  0  0\\n   -6.8151   -1.7663   -0.3889 C   0  0  0  0  0  0  0  0  0  0  0  0\\n   -6.7338   -4.2394   -0.4157 C   0  0  0  0  0  0  0  0  0  0  0  0\\n   -1.2753   -5.1612    0.3137 C   0  0  0  0  0  0  0  0  0  0  0  0\\n   -0.9221   -5.0650    1.8125 C   0  0  0  0  0  0  0  0  0  0  0  0\\n   -1.8475   -6.5583   -0.0204 C   0  0  0  0  0  0  0  0  0  0  0  0\\n    0.0799   -5.0885   -0.4542 C   0  0  0  0  0  0  0  0  0  0  0  0\\n    0.4550   -0.1732   -1.7899 C   0  0  0  0  0  0  0  0  0  0  0  0\\n    0.7257   -1.0934   -2.9655 C   0  0  0  0  0  0  0  0  0  0  0  0\\n    1.5336    0.5231   -1.1677 C   0  0  0  0  0  0  0  0  0  0  0  0\\n    2.9646    0.2971   -1.6606 C   0  0  0  0  0  0  0  0  0  0  0  0\\n    3.6708   -0.9161   -1.0770 C   0  0  0  0  0  0  0  0  0  0  0  0\\n    3.4938   -1.3144    0.2553 C   0  0  0  0  0  0  0  0  0  0  0  0\\n    4.1376   -2.4346    0.8186 C   0  0  0  0  0  0  0  0  0  0  0  0\\n    5.0202   -3.1380   -0.0386 C   0  0  0  0  0  0  0  0  0  0  0  0\\n    5.7144   -4.2279    0.4103 O   0  0  0  0  0  0  0  0  0  0  0  0\\n    5.2441   -2.7744   -1.3944 C   0  0  0  0  0  0  0  0  0  0  0  0\\n    4.5589   -1.6439   -1.8759 C   0  0  0  0  0  0  0  0  0  0  0  0\\n    6.2019   -3.5672   -2.3231 C   0  0  0  0  0  0  0  0  0  0  0  0\\n    5.7326   -5.0324   -2.4617 C   0  0  0  0  0  0  0  0  0  0  0  0\\n    7.6486   -3.5205   -1.7769 C   0  0  0  0  0  0  0  0  0  0  0  0\\n    6.2744   -3.0075   -3.7697 C   0  0  0  0  0  0  0  0  0  0  0  0\\n    3.8315   -2.8279    2.2891 C   0  0  0  0  0  0  0  0  0  0  0  0\\n    5.0424   -2.4991    3.1896 C   0  0  0  0  0  0  0  0  0  0  0  0\\n    3.4473   -4.3187    2.4116 C   0  0  0  0  0  0  0  0  0  0  0  0\\n    2.6305   -2.0533    2.9091 C   0  0  0  0  0  0  0  0  0  0  0  0\\n    2.2813    3.1935    0.5525 H   0  0  0  0  0  0  0  0  0  0  0  0\\n    2.3935    1.8337    1.7163 H   0  0  0  0  0  0  0  0  0  0  0  0\\n    3.4019    1.8678    0.3109 H   0  0  0  0  0  0  0  0  0  0  0  0\\n    0.5145    2.7088    2.1667 H   0  0  0  0  0  0  0  0  0  0  0  0\\n   -1.1097    2.1498    2.1629 H   0  0  0  0  0  0  0  0  0  0  0  0\\n    0.0538    3.8718   -0.8776 H   0  0  0  0  0  0  0  0  0  0  0  0\\n   -1.1483    8.2816   -0.3603 H   0  0  0  0  0  0  0  0  0  0  0  0\\n   -1.6720    4.3590    2.9720 H   0  0  0  0  0  0  0  0  0  0  0  0\\n   -3.4373    6.8584    4.7719 H   0  0  0  0  0  0  0  0  0  0  0  0\\n   -3.5429    5.3373    3.8882 H   0  0  0  0  0  0  0  0  0  0  0  0\\n   -1.9920    5.8802    4.5653 H   0  0  0  0  0  0  0  0  0  0  0  0\\n   -3.8683    8.1720    1.3843 H   0  0  0  0  0  0  0  0  0  0  0  0\\n   -4.5313    7.9676    2.9954 H   0  0  0  0  0  0  0  0  0  0  0  0\\n   -4.5696    6.6171    1.8479 H   0  0  0  0  0  0  0  0  0  0  0  0\\n   -2.1887    8.7602    3.9374 H   0  0  0  0  0  0  0  0  0  0  0  0\\n   -1.5476    8.8659    2.3044 H   0  0  0  0  0  0  0  0  0  0  0  0\\n   -0.7361    7.8472    3.4969 H   0  0  0  0  0  0  0  0  0  0  0  0\\n    0.4574    8.1695   -1.5110 H   0  0  0  0  0  0  0  0  0  0  0  0\\n    1.0038    7.4520   -3.0189 H   0  0  0  0  0  0  0  0  0  0  0  0\\n    1.5034    6.7550   -1.4740 H   0  0  0  0  0  0  0  0  0  0  0  0\\n   -1.5860    7.1560   -3.7646 H   0  0  0  0  0  0  0  0  0  0  0  0\\n   -2.6771    6.3851   -2.6000 H   0  0  0  0  0  0  0  0  0  0  0  0\\n   -1.9701    7.9755   -2.2704 H   0  0  0  0  0  0  0  0  0  0  0  0\\n   -0.0680    5.4700   -4.0276 H   0  0  0  0  0  0  0  0  0  0  0  0\\n   -0.9913    4.3481   -3.0202 H   0  0  0  0  0  0  0  0  0  0  0  0\\n    0.7441    4.6243   -2.7264 H   0  0  0  0  0  0  0  0  0  0  0  0\\n   -3.3055    1.0623   -0.5560 H   0  0  0  0  0  0  0  0  0  0  0  0\\n   -2.7244    2.1182    0.6685 H   0  0  0  0  0  0  0  0  0  0  0  0\\n   -2.7793    0.3774    1.0018 H   0  0  0  0  0  0  0  0  0  0  0  0\\n   -1.7817   -1.0762   -3.0084 H   0  0  0  0  0  0  0  0  0  0  0  0\\n   -2.8357    0.0229   -2.2533 H   0  0  0  0  0  0  0  0  0  0  0  0\\n   -0.7186   -2.8191   -1.0048 H   0  0  0  0  0  0  0  0  0  0  0  0\\n   -3.5547   -5.2935    1.6517 H   0  0  0  0  0  0  0  0  0  0  0  0\\n   -4.5967   -1.1185   -1.2820 H   0  0  0  0  0  0  0  0  0  0  0  0\\n   -7.2961   -2.8541    1.9657 H   0  0  0  0  0  0  0  0  0  0  0  0\\n   -5.7052   -2.0959    2.1458 H   0  0  0  0  0  0  0  0  0  0  0  0\\n   -5.8743   -3.8522    2.2045 H   0  0  0  0  0  0  0  0  0  0  0  0\\n   -6.7722   -1.7255   -1.4841 H   0  0  0  0  0  0  0  0  0  0  0  0\\n   -6.4240   -0.8213    0.0099 H   0  0  0  0  0  0  0  0  0  0  0  0\\n   -7.8758   -1.8094   -0.1144 H   0  0  0  0  0  0  0  0  0  0  0  0\\n   -6.5284   -4.3360   -1.4865 H   0  0  0  0  0  0  0  0  0  0  0  0\\n   -7.8219   -4.1811   -0.2888 H   0  0  0  0  0  0  0  0  0  0  0  0\\n   -6.4145   -5.1651    0.0681 H   0  0  0  0  0  0  0  0  0  0  0  0\\n   -0.1477   -5.7916    2.0802 H   0  0  0  0  0  0  0  0  0  0  0  0\\n   -1.7773   -5.2547    2.4667 H   0  0  0  0  0  0  0  0  0  0  0  0\\n   -0.5387   -4.0692    2.0621 H   0  0  0  0  0  0  0  0  0  0  0  0\\n   -2.6868   -6.8446    0.6180 H   0  0  0  0  0  0  0  0  0  0  0  0\\n   -1.0906   -7.3393    0.1184 H   0  0  0  0  0  0  0  0  0  0  0  0\\n   -2.1872   -6.6040   -1.0612 H   0  0  0  0  0  0  0  0  0  0  0  0\\n    0.7143   -5.9533   -0.2249 H   0  0  0  0  0  0  0  0  0  0  0  0\\n   -0.0720   -5.0781   -1.5418 H   0  0  0  0  0  0  0  0  0  0  0  0\\n    0.6631   -4.2017   -0.1774 H   0  0  0  0  0  0  0  0  0  0  0  0\\n    0.6010   -0.5362   -3.9011 H   0  0  0  0  0  0  0  0  0  0  0  0\\n    0.0651   -1.9636   -2.9754 H   0  0  0  0  0  0  0  0  0  0  0  0\\n    1.7277   -1.5287   -2.9475 H   0  0  0  0  0  0  0  0  0  0  0  0\\n    2.9403    0.2220   -2.7562 H   0  0  0  0  0  0  0  0  0  0  0  0\\n    3.5894    1.1840   -1.5090 H   0  0  0  0  0  0  0  0  0  0  0  0\\n    2.8080   -0.7281    0.8564 H   0  0  0  0  0  0  0  0  0  0  0  0\\n    5.9010   -4.1228    1.3515 H   0  0  0  0  0  0  0  0  0  0  0  0\\n    4.6909   -1.3062   -2.9012 H   0  0  0  0  0  0  0  0  0  0  0  0\\n    4.6840   -5.0817   -2.7814 H   0  0  0  0  0  0  0  0  0  0  0  0\\n    5.8135   -5.5993   -1.5291 H   0  0  0  0  0  0  0  0  0  0  0  0\\n    6.3326   -5.5739   -3.2045 H   0  0  0  0  0  0  0  0  0  0  0  0\\n    8.3415   -4.0381   -2.4504 H   0  0  0  0  0  0  0  0  0  0  0  0\\n    7.7540   -3.9952   -0.7973 H   0  0  0  0  0  0  0  0  0  0  0  0\\n    7.9965   -2.4866   -1.6766 H   0  0  0  0  0  0  0  0  0  0  0  0\\n    5.2957   -3.0285   -4.2612 H   0  0  0  0  0  0  0  0  0  0  0  0\\n    6.9567   -3.5996   -4.3914 H   0  0  0  0  0  0  0  0  0  0  0  0\\n    6.6472   -1.9774   -3.7858 H   0  0  0  0  0  0  0  0  0  0  0  0\\n    5.3020   -1.4335    3.1235 H   0  0  0  0  0  0  0  0  0  0  0  0\\n    5.9443   -3.0632    2.9387 H   0  0  0  0  0  0  0  0  0  0  0  0\\n    4.8187   -2.7160    4.2434 H   0  0  0  0  0  0  0  0  0  0  0  0\\n    3.1091   -4.5548    3.4300 H   0  0  0  0  0  0  0  0  0  0  0  0\\n    2.6283   -4.5703    1.7254 H   0  0  0  0  0  0  0  0  0  0  0  0\\n    4.2736   -5.0063    2.2057 H   0  0  0  0  0  0  0  0  0  0  0  0\\n    2.4196   -2.3949    3.9311 H   0  0  0  0  0  0  0  0  0  0  0  0\\n    1.7103   -2.1943    2.3257 H   0  0  0  0  0  0  0  0  0  0  0  0\\n    2.8323   -0.9758    2.9851 H   0  0  0  0  0  0  0  0  0  0  0  0\\n  1  2  1  0\\n  2  3  2  0\\n  3  4  1  0\\n  4  5  1  0\\n  5  6  2  0\\n  6  7  1  0\\n  7  8  2  0\\n  8  9  1  0\\n  8 10  1  0\\n 10 11  2  0\\n 10 12  1  0\\n 12 13  1  0\\n 12 14  1  0\\n 12 15  1  0\\n  7 16  1  0\\n 16 17  1  0\\n 16 18  1  0\\n 16 19  1  0\\n  3 20  1  0\\n 20 21  1  0\\n 20 22  2  0\\n 22 23  1  0\\n 23 24  1  0\\n 24 25  2  0\\n 25 26  1  0\\n 26 27  2  0\\n 27 28  1  0\\n 27 29  1  0\\n 29 30  2  0\\n 29 31  1  0\\n 31 32  1  0\\n 31 33  1  0\\n 31 34  1  0\\n 26 35  1  0\\n 35 36  1  0\\n 35 37  1  0\\n 35 38  1  0\\n 22 39  1  0\\n 39 40  1  0\\n 39 41  2  0\\n 41 42  1  0\\n 42 43  1  0\\n 43 44  2  0\\n 44 45  1  0\\n 45 46  2  0\\n 46 47  1  0\\n 46 48  1  0\\n 48 49  2  0\\n 48 50  1  0\\n 50 51  1  0\\n 50 52  1  0\\n 50 53  1  0\\n 45 54  1  0\\n 54 55  1  0\\n 54 56  1  0\\n 54 57  1  0\\n 41  2  1  0\\n 11  5  1  0\\n 30 24  1  0\\n 49 43  1  0\\n  1 58  1  0\\n  1 59  1  0\\n  1 60  1  0\\n  4 61  1  0\\n  4 62  1  0\\n  6 63  1  0\\n  9 64  1  0\\n 11 65  1  0\\n 13 66  1  0\\n 13 67  1  0\\n 13 68  1  0\\n 14 69  1  0\\n 14 70  1  0\\n 14 71  1  0\\n 15 72  1  0\\n 15 73  1  0\\n 15 74  1  0\\n 17 75  1  0\\n 17 76  1  0\\n 17 77  1  0\\n 18 78  1  0\\n 18 79  1  0\\n 18 80  1  0\\n 19 81  1  0\\n 19 82  1  0\\n 19 83  1  0\\n 21 84  1  0\\n 21 85  1  0\\n 21 86  1  0\\n 23 87  1  0\\n 23 88  1  0\\n 25 89  1  0\\n 28 90  1  0\\n 30 91  1  0\\n 32 92  1  0\\n 32 93  1  0\\n 32 94  1  0\\n 33 95  1  0\\n 33 96  1  0\\n 33 97  1  0\\n 34 98  1  0\\n 34 99  1  0\\n 34100  1  0\\n 36101  1  0\\n 36102  1  0\\n 36103  1  0\\n 37104  1  0\\n 37105  1  0\\n 37106  1  0\\n 38107  1  0\\n 38108  1  0\\n 38109  1  0\\n 40110  1  0\\n 40111  1  0\\n 40112  1  0\\n 42113  1  0\\n 42114  1  0\\n 44115  1  0\\n 47116  1  0\\n 49117  1  0\\n 51118  1  0\\n 51119  1  0\\n 51120  1  0\\n 52121  1  0\\n 52122  1  0\\n 52123  1  0\\n 53124  1  0\\n 53125  1  0\\n 53126  1  0\\n 55127  1  0\\n 55128  1  0\\n 55129  1  0\\n 56130  1  0\\n 56131  1  0\\n 56132  1  0\\n 57133  1  0\\n 57134  1  0\\n 57135  1  0\\nM  END\\n\",\"mol\");\n\tviewer_17057108115039485.setStyle({\"stick\": {}});\n\tviewer_17057108115039485.zoomTo();\nviewer_17057108115039485.render();\n});\n</script>",
      "text/html": [
       "<div id=\"3dmolviewer_17057108115039485\"  style=\"position: relative; width: 500px; height: 500px;\">\n",
       "        <p id=\"3dmolwarning_17057108115039485\" style=\"background-color:#ffcccc;color:black\">You appear to be running in JupyterLab (or JavaScript failed to load for some other reason).  You need to install the 3dmol extension: <br>\n",
       "        <tt>jupyter labextension install jupyterlab_3dmol</tt></p>\n",
       "        </div>\n",
       "<script>\n",
       "\n",
       "var loadScriptAsync = function(uri){\n",
       "  return new Promise((resolve, reject) => {\n",
       "    //this is to ignore the existence of requirejs amd\n",
       "    var savedexports, savedmodule;\n",
       "    if (typeof exports !== 'undefined') savedexports = exports;\n",
       "    else exports = {}\n",
       "    if (typeof module !== 'undefined') savedmodule = module;\n",
       "    else module = {}\n",
       "\n",
       "    var tag = document.createElement('script');\n",
       "    tag.src = uri;\n",
       "    tag.async = true;\n",
       "    tag.onload = () => {\n",
       "        exports = savedexports;\n",
       "        module = savedmodule;\n",
       "        resolve();\n",
       "    };\n",
       "  var firstScriptTag = document.getElementsByTagName('script')[0];\n",
       "  firstScriptTag.parentNode.insertBefore(tag, firstScriptTag);\n",
       "});\n",
       "};\n",
       "\n",
       "if(typeof $3Dmolpromise === 'undefined') {\n",
       "$3Dmolpromise = null;\n",
       "  $3Dmolpromise = loadScriptAsync('https://cdnjs.cloudflare.com/ajax/libs/3Dmol/2.0.4/3Dmol-min.js');\n",
       "}\n",
       "\n",
       "var viewer_17057108115039485 = null;\n",
       "var warn = document.getElementById(\"3dmolwarning_17057108115039485\");\n",
       "if(warn) {\n",
       "    warn.parentNode.removeChild(warn);\n",
       "}\n",
       "$3Dmolpromise.then(function() {\n",
       "viewer_17057108115039485 = $3Dmol.createViewer(document.getElementById(\"3dmolviewer_17057108115039485\"),{backgroundColor:\"white\"});\n",
       "viewer_17057108115039485.zoomTo();\n",
       "\tviewer_17057108115039485.addModel(\"\\n     RDKit          3D\\n\\n135138  0  0  0  0  0  0  0  0999 V2000\\n    2.3969    2.1106    0.6548 C   0  0  0  0  0  0  0  0  0  0  0  0\\n    1.2757    1.3907   -0.0701 C   0  0  0  0  0  0  0  0  0  0  0  0\\n   -0.0629    1.5989    0.3731 C   0  0  0  0  0  0  0  0  0  0  0  0\\n   -0.3485    2.5905    1.5072 C   0  0  0  0  0  0  0  0  0  0  0  0\\n   -0.7818    3.9834    1.0782 C   0  0  0  0  0  0  0  0  0  0  0  0\\n   -0.4904    4.5096   -0.1878 C   0  0  0  0  0  0  0  0  0  0  0  0\\n   -0.8765    5.8036   -0.5876 C   0  0  0  0  0  0  0  0  0  0  0  0\\n   -1.5419    6.5834    0.3899 C   0  0  0  0  0  0  0  0  0  0  0  0\\n   -1.8862    7.8794    0.1180 O   0  0  0  0  0  0  0  0  0  0  0  0\\n   -1.8643    6.1004    1.6854 C   0  0  0  0  0  0  0  0  0  0  0  0\\n   -1.4659    4.7887    1.9949 C   0  0  0  0  0  0  0  0  0  0  0  0\\n   -2.5965    6.9655    2.7416 C   0  0  0  0  0  0  0  0  0  0  0  0\\n   -2.9069    6.2118    4.0625 C   0  0  0  0  0  0  0  0  0  0  0  0\\n   -3.9615    7.4572    2.2076 C   0  0  0  0  0  0  0  0  0  0  0  0\\n   -1.7192    8.1761    3.1372 C   0  0  0  0  0  0  0  0  0  0  0  0\\n   -0.5574    6.2776   -2.0300 C   0  0  0  0  0  0  0  0  0  0  0  0\\n    0.6646    7.2177   -2.0042 C   0  0  0  0  0  0  0  0  0  0  0  0\\n   -1.7640    6.9870   -2.6926 C   0  0  0  0  0  0  0  0  0  0  0  0\\n   -0.2004    5.1104   -2.9976 C   0  0  0  0  0  0  0  0  0  0  0  0\\n   -1.1434    0.9346   -0.2734 C   0  0  0  0  0  0  0  0  0  0  0  0\\n   -2.5599    1.1280    0.2386 C   0  0  0  0  0  0  0  0  0  0  0  0\\n   -0.8849    0.0399   -1.3493 C   0  0  0  0  0  0  0  0  0  0  0  0\\n   -2.0487   -0.7005   -2.0154 C   0  0  0  0  0  0  0  0  0  0  0  0\\n   -2.6051   -1.8624   -1.2109 C   0  0  0  0  0  0  0  0  0  0  0  0\\n   -1.7750   -2.9032   -0.7731 C   0  0  0  0  0  0  0  0  0  0  0  0\\n   -2.2588   -4.0221   -0.0662 C   0  0  0  0  0  0  0  0  0  0  0  0\\n   -3.6439   -4.0133    0.2395 C   0  0  0  0  0  0  0  0  0  0  0  0\\n   -4.1964   -5.0241    0.9781 O   0  0  0  0  0  0  0  0  0  0  0  0\\n   -4.5304   -2.9860   -0.1805 C   0  0  0  0  0  0  0  0  0  0  0  0\\n   -3.9718   -1.9302   -0.9218 C   0  0  0  0  0  0  0  0  0  0  0  0\\n   -6.0408   -2.9887    0.1706 C   0  0  0  0  0  0  0  0  0  0  0  0\\n   -6.2361   -2.9485    1.7053 C   0  0  0  0  0  0  0  0  0  0  0  0\\n   -6.8151   -1.7663   -0.3889 C   0  0  0  0  0  0  0  0  0  0  0  0\\n   -6.7338   -4.2394   -0.4157 C   0  0  0  0  0  0  0  0  0  0  0  0\\n   -1.2753   -5.1612    0.3137 C   0  0  0  0  0  0  0  0  0  0  0  0\\n   -0.9221   -5.0650    1.8125 C   0  0  0  0  0  0  0  0  0  0  0  0\\n   -1.8475   -6.5583   -0.0204 C   0  0  0  0  0  0  0  0  0  0  0  0\\n    0.0799   -5.0885   -0.4542 C   0  0  0  0  0  0  0  0  0  0  0  0\\n    0.4550   -0.1732   -1.7899 C   0  0  0  0  0  0  0  0  0  0  0  0\\n    0.7257   -1.0934   -2.9655 C   0  0  0  0  0  0  0  0  0  0  0  0\\n    1.5336    0.5231   -1.1677 C   0  0  0  0  0  0  0  0  0  0  0  0\\n    2.9646    0.2971   -1.6606 C   0  0  0  0  0  0  0  0  0  0  0  0\\n    3.6708   -0.9161   -1.0770 C   0  0  0  0  0  0  0  0  0  0  0  0\\n    3.4938   -1.3144    0.2553 C   0  0  0  0  0  0  0  0  0  0  0  0\\n    4.1376   -2.4346    0.8186 C   0  0  0  0  0  0  0  0  0  0  0  0\\n    5.0202   -3.1380   -0.0386 C   0  0  0  0  0  0  0  0  0  0  0  0\\n    5.7144   -4.2279    0.4103 O   0  0  0  0  0  0  0  0  0  0  0  0\\n    5.2441   -2.7744   -1.3944 C   0  0  0  0  0  0  0  0  0  0  0  0\\n    4.5589   -1.6439   -1.8759 C   0  0  0  0  0  0  0  0  0  0  0  0\\n    6.2019   -3.5672   -2.3231 C   0  0  0  0  0  0  0  0  0  0  0  0\\n    5.7326   -5.0324   -2.4617 C   0  0  0  0  0  0  0  0  0  0  0  0\\n    7.6486   -3.5205   -1.7769 C   0  0  0  0  0  0  0  0  0  0  0  0\\n    6.2744   -3.0075   -3.7697 C   0  0  0  0  0  0  0  0  0  0  0  0\\n    3.8315   -2.8279    2.2891 C   0  0  0  0  0  0  0  0  0  0  0  0\\n    5.0424   -2.4991    3.1896 C   0  0  0  0  0  0  0  0  0  0  0  0\\n    3.4473   -4.3187    2.4116 C   0  0  0  0  0  0  0  0  0  0  0  0\\n    2.6305   -2.0533    2.9091 C   0  0  0  0  0  0  0  0  0  0  0  0\\n    2.2813    3.1935    0.5525 H   0  0  0  0  0  0  0  0  0  0  0  0\\n    2.3935    1.8337    1.7163 H   0  0  0  0  0  0  0  0  0  0  0  0\\n    3.4019    1.8678    0.3109 H   0  0  0  0  0  0  0  0  0  0  0  0\\n    0.5145    2.7088    2.1667 H   0  0  0  0  0  0  0  0  0  0  0  0\\n   -1.1097    2.1498    2.1629 H   0  0  0  0  0  0  0  0  0  0  0  0\\n    0.0538    3.8718   -0.8776 H   0  0  0  0  0  0  0  0  0  0  0  0\\n   -1.1483    8.2816   -0.3603 H   0  0  0  0  0  0  0  0  0  0  0  0\\n   -1.6720    4.3590    2.9720 H   0  0  0  0  0  0  0  0  0  0  0  0\\n   -3.4373    6.8584    4.7719 H   0  0  0  0  0  0  0  0  0  0  0  0\\n   -3.5429    5.3373    3.8882 H   0  0  0  0  0  0  0  0  0  0  0  0\\n   -1.9920    5.8802    4.5653 H   0  0  0  0  0  0  0  0  0  0  0  0\\n   -3.8683    8.1720    1.3843 H   0  0  0  0  0  0  0  0  0  0  0  0\\n   -4.5313    7.9676    2.9954 H   0  0  0  0  0  0  0  0  0  0  0  0\\n   -4.5696    6.6171    1.8479 H   0  0  0  0  0  0  0  0  0  0  0  0\\n   -2.1887    8.7602    3.9374 H   0  0  0  0  0  0  0  0  0  0  0  0\\n   -1.5476    8.8659    2.3044 H   0  0  0  0  0  0  0  0  0  0  0  0\\n   -0.7361    7.8472    3.4969 H   0  0  0  0  0  0  0  0  0  0  0  0\\n    0.4574    8.1695   -1.5110 H   0  0  0  0  0  0  0  0  0  0  0  0\\n    1.0038    7.4520   -3.0189 H   0  0  0  0  0  0  0  0  0  0  0  0\\n    1.5034    6.7550   -1.4740 H   0  0  0  0  0  0  0  0  0  0  0  0\\n   -1.5860    7.1560   -3.7646 H   0  0  0  0  0  0  0  0  0  0  0  0\\n   -2.6771    6.3851   -2.6000 H   0  0  0  0  0  0  0  0  0  0  0  0\\n   -1.9701    7.9755   -2.2704 H   0  0  0  0  0  0  0  0  0  0  0  0\\n   -0.0680    5.4700   -4.0276 H   0  0  0  0  0  0  0  0  0  0  0  0\\n   -0.9913    4.3481   -3.0202 H   0  0  0  0  0  0  0  0  0  0  0  0\\n    0.7441    4.6243   -2.7264 H   0  0  0  0  0  0  0  0  0  0  0  0\\n   -3.3055    1.0623   -0.5560 H   0  0  0  0  0  0  0  0  0  0  0  0\\n   -2.7244    2.1182    0.6685 H   0  0  0  0  0  0  0  0  0  0  0  0\\n   -2.7793    0.3774    1.0018 H   0  0  0  0  0  0  0  0  0  0  0  0\\n   -1.7817   -1.0762   -3.0084 H   0  0  0  0  0  0  0  0  0  0  0  0\\n   -2.8357    0.0229   -2.2533 H   0  0  0  0  0  0  0  0  0  0  0  0\\n   -0.7186   -2.8191   -1.0048 H   0  0  0  0  0  0  0  0  0  0  0  0\\n   -3.5547   -5.2935    1.6517 H   0  0  0  0  0  0  0  0  0  0  0  0\\n   -4.5967   -1.1185   -1.2820 H   0  0  0  0  0  0  0  0  0  0  0  0\\n   -7.2961   -2.8541    1.9657 H   0  0  0  0  0  0  0  0  0  0  0  0\\n   -5.7052   -2.0959    2.1458 H   0  0  0  0  0  0  0  0  0  0  0  0\\n   -5.8743   -3.8522    2.2045 H   0  0  0  0  0  0  0  0  0  0  0  0\\n   -6.7722   -1.7255   -1.4841 H   0  0  0  0  0  0  0  0  0  0  0  0\\n   -6.4240   -0.8213    0.0099 H   0  0  0  0  0  0  0  0  0  0  0  0\\n   -7.8758   -1.8094   -0.1144 H   0  0  0  0  0  0  0  0  0  0  0  0\\n   -6.5284   -4.3360   -1.4865 H   0  0  0  0  0  0  0  0  0  0  0  0\\n   -7.8219   -4.1811   -0.2888 H   0  0  0  0  0  0  0  0  0  0  0  0\\n   -6.4145   -5.1651    0.0681 H   0  0  0  0  0  0  0  0  0  0  0  0\\n   -0.1477   -5.7916    2.0802 H   0  0  0  0  0  0  0  0  0  0  0  0\\n   -1.7773   -5.2547    2.4667 H   0  0  0  0  0  0  0  0  0  0  0  0\\n   -0.5387   -4.0692    2.0621 H   0  0  0  0  0  0  0  0  0  0  0  0\\n   -2.6868   -6.8446    0.6180 H   0  0  0  0  0  0  0  0  0  0  0  0\\n   -1.0906   -7.3393    0.1184 H   0  0  0  0  0  0  0  0  0  0  0  0\\n   -2.1872   -6.6040   -1.0612 H   0  0  0  0  0  0  0  0  0  0  0  0\\n    0.7143   -5.9533   -0.2249 H   0  0  0  0  0  0  0  0  0  0  0  0\\n   -0.0720   -5.0781   -1.5418 H   0  0  0  0  0  0  0  0  0  0  0  0\\n    0.6631   -4.2017   -0.1774 H   0  0  0  0  0  0  0  0  0  0  0  0\\n    0.6010   -0.5362   -3.9011 H   0  0  0  0  0  0  0  0  0  0  0  0\\n    0.0651   -1.9636   -2.9754 H   0  0  0  0  0  0  0  0  0  0  0  0\\n    1.7277   -1.5287   -2.9475 H   0  0  0  0  0  0  0  0  0  0  0  0\\n    2.9403    0.2220   -2.7562 H   0  0  0  0  0  0  0  0  0  0  0  0\\n    3.5894    1.1840   -1.5090 H   0  0  0  0  0  0  0  0  0  0  0  0\\n    2.8080   -0.7281    0.8564 H   0  0  0  0  0  0  0  0  0  0  0  0\\n    5.9010   -4.1228    1.3515 H   0  0  0  0  0  0  0  0  0  0  0  0\\n    4.6909   -1.3062   -2.9012 H   0  0  0  0  0  0  0  0  0  0  0  0\\n    4.6840   -5.0817   -2.7814 H   0  0  0  0  0  0  0  0  0  0  0  0\\n    5.8135   -5.5993   -1.5291 H   0  0  0  0  0  0  0  0  0  0  0  0\\n    6.3326   -5.5739   -3.2045 H   0  0  0  0  0  0  0  0  0  0  0  0\\n    8.3415   -4.0381   -2.4504 H   0  0  0  0  0  0  0  0  0  0  0  0\\n    7.7540   -3.9952   -0.7973 H   0  0  0  0  0  0  0  0  0  0  0  0\\n    7.9965   -2.4866   -1.6766 H   0  0  0  0  0  0  0  0  0  0  0  0\\n    5.2957   -3.0285   -4.2612 H   0  0  0  0  0  0  0  0  0  0  0  0\\n    6.9567   -3.5996   -4.3914 H   0  0  0  0  0  0  0  0  0  0  0  0\\n    6.6472   -1.9774   -3.7858 H   0  0  0  0  0  0  0  0  0  0  0  0\\n    5.3020   -1.4335    3.1235 H   0  0  0  0  0  0  0  0  0  0  0  0\\n    5.9443   -3.0632    2.9387 H   0  0  0  0  0  0  0  0  0  0  0  0\\n    4.8187   -2.7160    4.2434 H   0  0  0  0  0  0  0  0  0  0  0  0\\n    3.1091   -4.5548    3.4300 H   0  0  0  0  0  0  0  0  0  0  0  0\\n    2.6283   -4.5703    1.7254 H   0  0  0  0  0  0  0  0  0  0  0  0\\n    4.2736   -5.0063    2.2057 H   0  0  0  0  0  0  0  0  0  0  0  0\\n    2.4196   -2.3949    3.9311 H   0  0  0  0  0  0  0  0  0  0  0  0\\n    1.7103   -2.1943    2.3257 H   0  0  0  0  0  0  0  0  0  0  0  0\\n    2.8323   -0.9758    2.9851 H   0  0  0  0  0  0  0  0  0  0  0  0\\n  1  2  1  0\\n  2  3  2  0\\n  3  4  1  0\\n  4  5  1  0\\n  5  6  2  0\\n  6  7  1  0\\n  7  8  2  0\\n  8  9  1  0\\n  8 10  1  0\\n 10 11  2  0\\n 10 12  1  0\\n 12 13  1  0\\n 12 14  1  0\\n 12 15  1  0\\n  7 16  1  0\\n 16 17  1  0\\n 16 18  1  0\\n 16 19  1  0\\n  3 20  1  0\\n 20 21  1  0\\n 20 22  2  0\\n 22 23  1  0\\n 23 24  1  0\\n 24 25  2  0\\n 25 26  1  0\\n 26 27  2  0\\n 27 28  1  0\\n 27 29  1  0\\n 29 30  2  0\\n 29 31  1  0\\n 31 32  1  0\\n 31 33  1  0\\n 31 34  1  0\\n 26 35  1  0\\n 35 36  1  0\\n 35 37  1  0\\n 35 38  1  0\\n 22 39  1  0\\n 39 40  1  0\\n 39 41  2  0\\n 41 42  1  0\\n 42 43  1  0\\n 43 44  2  0\\n 44 45  1  0\\n 45 46  2  0\\n 46 47  1  0\\n 46 48  1  0\\n 48 49  2  0\\n 48 50  1  0\\n 50 51  1  0\\n 50 52  1  0\\n 50 53  1  0\\n 45 54  1  0\\n 54 55  1  0\\n 54 56  1  0\\n 54 57  1  0\\n 41  2  1  0\\n 11  5  1  0\\n 30 24  1  0\\n 49 43  1  0\\n  1 58  1  0\\n  1 59  1  0\\n  1 60  1  0\\n  4 61  1  0\\n  4 62  1  0\\n  6 63  1  0\\n  9 64  1  0\\n 11 65  1  0\\n 13 66  1  0\\n 13 67  1  0\\n 13 68  1  0\\n 14 69  1  0\\n 14 70  1  0\\n 14 71  1  0\\n 15 72  1  0\\n 15 73  1  0\\n 15 74  1  0\\n 17 75  1  0\\n 17 76  1  0\\n 17 77  1  0\\n 18 78  1  0\\n 18 79  1  0\\n 18 80  1  0\\n 19 81  1  0\\n 19 82  1  0\\n 19 83  1  0\\n 21 84  1  0\\n 21 85  1  0\\n 21 86  1  0\\n 23 87  1  0\\n 23 88  1  0\\n 25 89  1  0\\n 28 90  1  0\\n 30 91  1  0\\n 32 92  1  0\\n 32 93  1  0\\n 32 94  1  0\\n 33 95  1  0\\n 33 96  1  0\\n 33 97  1  0\\n 34 98  1  0\\n 34 99  1  0\\n 34100  1  0\\n 36101  1  0\\n 36102  1  0\\n 36103  1  0\\n 37104  1  0\\n 37105  1  0\\n 37106  1  0\\n 38107  1  0\\n 38108  1  0\\n 38109  1  0\\n 40110  1  0\\n 40111  1  0\\n 40112  1  0\\n 42113  1  0\\n 42114  1  0\\n 44115  1  0\\n 47116  1  0\\n 49117  1  0\\n 51118  1  0\\n 51119  1  0\\n 51120  1  0\\n 52121  1  0\\n 52122  1  0\\n 52123  1  0\\n 53124  1  0\\n 53125  1  0\\n 53126  1  0\\n 55127  1  0\\n 55128  1  0\\n 55129  1  0\\n 56130  1  0\\n 56131  1  0\\n 56132  1  0\\n 57133  1  0\\n 57134  1  0\\n 57135  1  0\\nM  END\\n\",\"mol\");\n",
       "\tviewer_17057108115039485.setStyle({\"stick\": {}});\n",
       "\tviewer_17057108115039485.zoomTo();\n",
       "viewer_17057108115039485.render();\n",
       "});\n",
       "</script>"
      ]
     },
     "metadata": {},
     "output_type": "display_data"
    },
    {
     "name": "stdout",
     "output_type": "stream",
     "text": [
      "Biodegradable     False\n",
      "SpMax_L           5.493\n",
      "J_Dz(e)           2.107\n",
      "nHM                   0\n",
      "F01[N-N]              0\n",
      "F04[C-N]              0\n",
      "NssssC                6\n",
      "nCb-                 18\n",
      "C%                 40.0\n",
      "nCp                  21\n",
      "nO                    3\n",
      "F03[C-N]              0\n",
      "SdssC               0.0\n",
      "HyWi_B(m)         4.889\n",
      "LOC                0.97\n",
      "SM6_L            12.308\n",
      "F03[C-O]             12\n",
      "Me                0.974\n",
      "Mi                1.125\n",
      "nN-N                  0\n",
      "nArNO2                0\n",
      "nCRX3                 0\n",
      "SpPosA_B(p)       1.283\n",
      "nCIR                  4\n",
      "B01[C-Br]             0\n",
      "B03[C-Cl]             0\n",
      "N-073                 0\n",
      "SpMax_A           2.525\n",
      "Psi_i_1d            0.0\n",
      "B04[C-Br]             0\n",
      "SdO                 0.0\n",
      "TI2_L             3.898\n",
      "nCrt                  0\n",
      "C-026                 3\n",
      "F02[C-N]              0\n",
      "nHDon                 3\n",
      "SpMax_B(m)        3.956\n",
      "Psi_i_A             2.0\n",
      "nN                    0\n",
      "SM6_B(m)          9.962\n",
      "nArCOOR               0\n",
      "nX                    0\n",
      "Name: 567, dtype: object\n"
     ]
    }
   ],
   "source": [
    "idx_max_nrb = df_benzene_nrb[\"nCb-\"].idxmax()\n",
    "_ = df_all.iloc[idx_max_nrb]\n",
    "show_mol(_[\"Smiles\"])\n",
    "\n",
    "row_with_max_value = df.iloc[idx_max_nrb]\n",
    "print(row_with_max_value)"
   ]
  },
  {
   "cell_type": "markdown",
   "metadata": {},
   "source": [
    "What about one that **is biodegradable**?"
   ]
  },
  {
   "cell_type": "code",
   "execution_count": 25,
   "metadata": {},
   "outputs": [
    {
     "data": {
      "application/3dmoljs_load.v0": "<div id=\"3dmolviewer_1705710814721169\"  style=\"position: relative; width: 500px; height: 500px;\">\n        <p id=\"3dmolwarning_1705710814721169\" style=\"background-color:#ffcccc;color:black\">You appear to be running in JupyterLab (or JavaScript failed to load for some other reason).  You need to install the 3dmol extension: <br>\n        <tt>jupyter labextension install jupyterlab_3dmol</tt></p>\n        </div>\n<script>\n\nvar loadScriptAsync = function(uri){\n  return new Promise((resolve, reject) => {\n    //this is to ignore the existence of requirejs amd\n    var savedexports, savedmodule;\n    if (typeof exports !== 'undefined') savedexports = exports;\n    else exports = {}\n    if (typeof module !== 'undefined') savedmodule = module;\n    else module = {}\n\n    var tag = document.createElement('script');\n    tag.src = uri;\n    tag.async = true;\n    tag.onload = () => {\n        exports = savedexports;\n        module = savedmodule;\n        resolve();\n    };\n  var firstScriptTag = document.getElementsByTagName('script')[0];\n  firstScriptTag.parentNode.insertBefore(tag, firstScriptTag);\n});\n};\n\nif(typeof $3Dmolpromise === 'undefined') {\n$3Dmolpromise = null;\n  $3Dmolpromise = loadScriptAsync('https://cdnjs.cloudflare.com/ajax/libs/3Dmol/2.0.4/3Dmol-min.js');\n}\n\nvar viewer_1705710814721169 = null;\nvar warn = document.getElementById(\"3dmolwarning_1705710814721169\");\nif(warn) {\n    warn.parentNode.removeChild(warn);\n}\n$3Dmolpromise.then(function() {\nviewer_1705710814721169 = $3Dmol.createViewer(document.getElementById(\"3dmolviewer_1705710814721169\"),{backgroundColor:\"white\"});\nviewer_1705710814721169.zoomTo();\n\tviewer_1705710814721169.addModel(\"\\n     RDKit          3D\\n\\n 13 13  0  0  0  0  0  0  0  0999 V2000\\n   -2.5034    0.2283   -0.1142 O   0  0  0  0  0  0  0  0  0  0  0  0\\n   -1.1368    0.1374   -0.0509 C   0  0  0  0  0  0  0  0  0  0  0  0\\n   -0.3672    1.3020    0.0206 C   0  0  0  0  0  0  0  0  0  0  0  0\\n   -1.0990    2.8648    0.0313 Cl  0  0  0  0  0  0  0  0  0  0  0  0\\n    1.0248    1.2196    0.0854 C   0  0  0  0  0  0  0  0  0  0  0  0\\n    1.6419   -0.0305    0.0784 C   0  0  0  0  0  0  0  0  0  0  0  0\\n    3.3576   -0.1326    0.1583 Cl  0  0  0  0  0  0  0  0  0  0  0  0\\n    0.8860   -1.1990    0.0075 C   0  0  0  0  0  0  0  0  0  0  0  0\\n   -0.5035   -1.1099   -0.0570 C   0  0  0  0  0  0  0  0  0  0  0  0\\n   -1.4347   -2.5600   -0.1448 Cl  0  0  0  0  0  0  0  0  0  0  0  0\\n   -2.8655   -0.6762   -0.1584 H   0  0  0  0  0  0  0  0  0  0  0  0\\n    1.6237    2.1251    0.1411 H   0  0  0  0  0  0  0  0  0  0  0  0\\n    1.3760   -2.1691    0.0025 H   0  0  0  0  0  0  0  0  0  0  0  0\\n  1  2  1  0\\n  2  3  2  0\\n  3  4  1  0\\n  3  5  1  0\\n  5  6  2  0\\n  6  7  1  0\\n  6  8  1  0\\n  8  9  2  0\\n  9 10  1  0\\n  9  2  1  0\\n  1 11  1  0\\n  5 12  1  0\\n  8 13  1  0\\nM  END\\n\",\"mol\");\n\tviewer_1705710814721169.setStyle({\"stick\": {}});\n\tviewer_1705710814721169.zoomTo();\nviewer_1705710814721169.render();\n});\n</script>",
      "text/html": [
       "<div id=\"3dmolviewer_1705710814721169\"  style=\"position: relative; width: 500px; height: 500px;\">\n",
       "        <p id=\"3dmolwarning_1705710814721169\" style=\"background-color:#ffcccc;color:black\">You appear to be running in JupyterLab (or JavaScript failed to load for some other reason).  You need to install the 3dmol extension: <br>\n",
       "        <tt>jupyter labextension install jupyterlab_3dmol</tt></p>\n",
       "        </div>\n",
       "<script>\n",
       "\n",
       "var loadScriptAsync = function(uri){\n",
       "  return new Promise((resolve, reject) => {\n",
       "    //this is to ignore the existence of requirejs amd\n",
       "    var savedexports, savedmodule;\n",
       "    if (typeof exports !== 'undefined') savedexports = exports;\n",
       "    else exports = {}\n",
       "    if (typeof module !== 'undefined') savedmodule = module;\n",
       "    else module = {}\n",
       "\n",
       "    var tag = document.createElement('script');\n",
       "    tag.src = uri;\n",
       "    tag.async = true;\n",
       "    tag.onload = () => {\n",
       "        exports = savedexports;\n",
       "        module = savedmodule;\n",
       "        resolve();\n",
       "    };\n",
       "  var firstScriptTag = document.getElementsByTagName('script')[0];\n",
       "  firstScriptTag.parentNode.insertBefore(tag, firstScriptTag);\n",
       "});\n",
       "};\n",
       "\n",
       "if(typeof $3Dmolpromise === 'undefined') {\n",
       "$3Dmolpromise = null;\n",
       "  $3Dmolpromise = loadScriptAsync('https://cdnjs.cloudflare.com/ajax/libs/3Dmol/2.0.4/3Dmol-min.js');\n",
       "}\n",
       "\n",
       "var viewer_1705710814721169 = null;\n",
       "var warn = document.getElementById(\"3dmolwarning_1705710814721169\");\n",
       "if(warn) {\n",
       "    warn.parentNode.removeChild(warn);\n",
       "}\n",
       "$3Dmolpromise.then(function() {\n",
       "viewer_1705710814721169 = $3Dmol.createViewer(document.getElementById(\"3dmolviewer_1705710814721169\"),{backgroundColor:\"white\"});\n",
       "viewer_1705710814721169.zoomTo();\n",
       "\tviewer_1705710814721169.addModel(\"\\n     RDKit          3D\\n\\n 13 13  0  0  0  0  0  0  0  0999 V2000\\n   -2.5034    0.2283   -0.1142 O   0  0  0  0  0  0  0  0  0  0  0  0\\n   -1.1368    0.1374   -0.0509 C   0  0  0  0  0  0  0  0  0  0  0  0\\n   -0.3672    1.3020    0.0206 C   0  0  0  0  0  0  0  0  0  0  0  0\\n   -1.0990    2.8648    0.0313 Cl  0  0  0  0  0  0  0  0  0  0  0  0\\n    1.0248    1.2196    0.0854 C   0  0  0  0  0  0  0  0  0  0  0  0\\n    1.6419   -0.0305    0.0784 C   0  0  0  0  0  0  0  0  0  0  0  0\\n    3.3576   -0.1326    0.1583 Cl  0  0  0  0  0  0  0  0  0  0  0  0\\n    0.8860   -1.1990    0.0075 C   0  0  0  0  0  0  0  0  0  0  0  0\\n   -0.5035   -1.1099   -0.0570 C   0  0  0  0  0  0  0  0  0  0  0  0\\n   -1.4347   -2.5600   -0.1448 Cl  0  0  0  0  0  0  0  0  0  0  0  0\\n   -2.8655   -0.6762   -0.1584 H   0  0  0  0  0  0  0  0  0  0  0  0\\n    1.6237    2.1251    0.1411 H   0  0  0  0  0  0  0  0  0  0  0  0\\n    1.3760   -2.1691    0.0025 H   0  0  0  0  0  0  0  0  0  0  0  0\\n  1  2  1  0\\n  2  3  2  0\\n  3  4  1  0\\n  3  5  1  0\\n  5  6  2  0\\n  6  7  1  0\\n  6  8  1  0\\n  8  9  2  0\\n  9 10  1  0\\n  9  2  1  0\\n  1 11  1  0\\n  5 12  1  0\\n  8 13  1  0\\nM  END\\n\",\"mol\");\n",
       "\tviewer_1705710814721169.setStyle({\"stick\": {}});\n",
       "\tviewer_1705710814721169.zoomTo();\n",
       "viewer_1705710814721169.render();\n",
       "});\n",
       "</script>"
      ]
     },
     "metadata": {},
     "output_type": "display_data"
    },
    {
     "name": "stdout",
     "output_type": "stream",
     "text": [
      "Biodegradable     True\n",
      "SpMax_L           4.97\n",
      "J_Dz(e)          3.567\n",
      "nHM                  3\n",
      "F01[N-N]             0\n",
      "F04[C-N]             0\n",
      "NssssC               0\n",
      "nCb-                 4\n",
      "C%                46.2\n",
      "nCp                  0\n",
      "nO                   1\n",
      "F03[C-N]             0\n",
      "SdssC              0.0\n",
      "HyWi_B(m)         3.66\n",
      "LOC              0.861\n",
      "SM6_L            10.06\n",
      "F03[C-O]             2\n",
      "Me               1.073\n",
      "Mi               1.099\n",
      "nN-N                 0\n",
      "nArNO2               0\n",
      "nCRX3                0\n",
      "SpPosA_B(p)      1.334\n",
      "nCIR                 1\n",
      "B01[C-Br]            0\n",
      "B03[C-Cl]            1\n",
      "N-073                0\n",
      "SpMax_A          2.307\n",
      "Psi_i_1d         0.015\n",
      "B04[C-Br]            0\n",
      "SdO                0.0\n",
      "TI2_L            0.962\n",
      "nCrt                 0\n",
      "C-026                4\n",
      "F02[C-N]             0\n",
      "nHDon                1\n",
      "SpMax_B(m)       4.106\n",
      "Psi_i_A            2.9\n",
      "nN                   0\n",
      "SM6_B(m)         9.154\n",
      "nArCOOR              0\n",
      "nX                   3\n",
      "Name: 152, dtype: object\n"
     ]
    }
   ],
   "source": [
    "df_benzene_rb = df[(df[\"Biodegradable\"] == True) & (df[\"nCb-\"] > 0)]\n",
    "idx_max_rb = df_benzene_rb[\"nCb-\"].idxmax()\n",
    "_ = df_all.iloc[idx_max_rb]\n",
    "show_mol(_[\"Smiles\"])\n",
    "\n",
    "row_with_max_value = df.iloc[idx_max_rb]\n",
    "print(row_with_max_value)"
   ]
  },
  {
   "cell_type": "code",
   "execution_count": 27,
   "metadata": {},
   "outputs": [
    {
     "data": {
      "image/png": "[encoded data removed]",
      "text/plain": [
       "<Figure size 640x480 with 1 Axes>"
      ]
     },
     "metadata": {},
     "output_type": "display_data"
    }
   ],
   "source": [
    "# Histogram for Biodegradable Chemicals\n",
    "fig, ax1 = plt.subplots()\n",
    "ax1.hist(\n",
    "    df[\"nCb-\"][df[\"Biodegradable\"] == True],\n",
    "    bins=20,\n",
    "    alpha=0.7,\n",
    "    color=\"blue\",\n",
    "    align=\"mid\",\n",
    ")\n",
    "ax1.set_title(\"Histogram of nCb- for Biodegradable Chemicals\")\n",
    "ax1.set_xlabel(\"nCb-\")\n",
    "ax1.set_ylabel(\"Frequency\")\n",
    "\n",
    "plt.show()"
   ]
  },
  {
   "cell_type": "code",
   "execution_count": 28,
   "metadata": {},
   "outputs": [
    {
     "data": {
      "image/png": "[encoded data removed]",
      "text/plain": [
       "<Figure size 640x480 with 1 Axes>"
      ]
     },
     "metadata": {},
     "output_type": "display_data"
    }
   ],
   "source": [
    "# Histogram for Non-Biodegradable Chemicals\n",
    "fig, ax = plt.subplots()\n",
    "ax.hist(df[\"nCb-\"][df[\"Biodegradable\"] == False], bins=20, alpha=0.7, color=\"red\")\n",
    "ax.set_title(\"Histogram of nCb- for Non-Biodegradable Chemicals\")\n",
    "ax.set_xlabel(\"nCb-\")\n",
    "ax.set_ylabel(\"Frequency\")\n",
    "\n",
    "plt.show()"
   ]
  },
  {
   "cell_type": "code",
   "execution_count": 29,
   "metadata": {},
   "outputs": [
    {
     "data": {
      "image/png": "[encoded data removed]",
      "text/plain": [
       "<Figure size 640x480 with 1 Axes>"
      ]
     },
     "metadata": {},
     "output_type": "display_data"
    }
   ],
   "source": [
    "# Scatter Plot of Molecular Descriptors\n",
    "label_1 = \"Psi_i_A\"\n",
    "label_2 = \"SpMax_B(m)\"\n",
    "plt.scatter(\n",
    "    df[df[\"Biodegradable\"] == True][label_1],\n",
    "    df[df[\"Biodegradable\"] == True][label_2],\n",
    "    label=\"Biodegradable\",\n",
    "    color=\"blue\",\n",
    "    alpha=0.5,\n",
    ")\n",
    "plt.scatter(\n",
    "    df[df[\"Biodegradable\"] == False][label_1],\n",
    "    df[df[\"Biodegradable\"] == False][label_2],\n",
    "    label=\"Non-Biodegradable\",\n",
    "    color=\"red\",\n",
    "    alpha=0.5,\n",
    ")\n",
    "\n",
    "plt.title(\"Scatter Plot of Molecular Descriptors\")\n",
    "plt.xlabel(label_1)\n",
    "plt.ylabel(label_2)\n",
    "plt.legend()  # Show legend to distinguish between Biodegradable and Non-Biodegradable points\n",
    "plt.show()"
   ]
  },
  {
   "cell_type": "markdown",
   "metadata": {},
   "source": [
    "## Acknowledgements\n",
    "\n",
    "This CSV file was taken from [this paper](https://pubs.acs.org/doi/10.1021/ci4000213)."
   ]
  }
 ],
 "metadata": {
  "kernelspec": {
   "display_name": "biosc1540-2024s-dev",
   "language": "python",
   "name": "python3"
  },
  "language_info": {
   "codemirror_mode": {
    "name": "ipython",
    "version": 3
   },
   "file_extension": ".py",
   "mimetype": "text/x-python",
   "name": "python",
   "nbconvert_exporter": "python",
   "pygments_lexer": "ipython3",
   "version": "3.11.7"
  }
 },
 "nbformat": 4,
 "nbformat_minor": 2
}
