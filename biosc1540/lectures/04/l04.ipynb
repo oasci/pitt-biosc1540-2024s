{
 "cells": [
  {
   "cell_type": "markdown",
   "metadata": {},
   "source": [
    "# Lecture 04\n",
    "\n",
    "## Learning objectives\n",
    "\n",
    "What you should be able to do after today's lecture.\n",
    "\n",
    "TODO:\n",
    "\n",
    "## Readings\n",
    "\n",
    "Relevant content for today's lecture.\n",
    "\n",
    "-   [Working with data](../../../modules/intro/data/)\n",
    "-   [Plotting](../../../modules/intro/plotting/)\n",
    "\n",
    "Today, we will have a guided lecture about exploring a data set on protein contact maps and molecular properties."
   ]
  },
  {
   "cell_type": "code",
   "execution_count": null,
   "metadata": {
    "tags": [
     "hide_code"
    ]
   },
   "outputs": [],
   "source": [
    "# @title\n",
    "\n",
    "import sys\n",
    "\n",
    "IN_COLAB = \"google.colab\" in sys.modules\n",
    "if IN_COLAB:\n",
    "    !sudo apt-get update -y > /dev/null 2>&1\n",
    "    !sudo apt-get install python3.11 python3.11-dev python3.11-distutils libpython3.11-dev > /dev/null 2>&1\n",
    "    !sudo update-alternatives --install /usr/bin/python3 python3 /usr/bin/python3.11 2 > /dev/null 2>&1\n",
    "    %pip install rdkit > /dev/null 2>&1\n",
    "    %pip install py3dmol > /dev/null 2>&1"
   ]
  },
  {
   "cell_type": "code",
   "execution_count": null,
   "metadata": {},
   "outputs": [],
   "source": [
    "import numpy as np\n",
    "import pandas as pd\n",
    "import matplotlib.pyplot as plt"
   ]
  },
  {
   "cell_type": "markdown",
   "metadata": {},
   "source": [
    "## Contact maps\n",
    "\n",
    "Here is what a protein looks like.\n",
    "\n",
    "<div id=\"msegfp-view\" class=\"mol-container\"></div>\n",
    "<script>\n",
    "var uri = 'https://files.rcsb.org/view/8DTA.pdb';\n",
    "jQuery.ajax( uri, {\n",
    "    success: function(data) {\n",
    "        // https://3dmol.org/doc/GLViewer.html\n",
    "        let viewer = $3Dmol.createViewer(\n",
    "            document.querySelector('#msegfp-view'),\n",
    "            { backgroundAlpha: '0.0' }\n",
    "        );\n",
    "        viewer.addModel( data, 'pdb' );\n",
    "        viewer.setStyle({chain: 'A'}, {cartoon: {color: 'spectrum'}});\n",
    "        viewer.setStyle({chain: 'A', resn: 'CRO'}, {stick: {}, cartoon: {color: \"spectrum\"}});\n",
    "        viewer.setStyle({chain: 'A', resi: '147'}, {stick: {}, cartoon: {color: \"spectrum\"}});\n",
    "        viewer.setStyle({chain: 'A', resi: '202'}, {stick: {}, cartoon: {color: \"spectrum\"}});\n",
    "        viewer.setView([ -60.64682338153259, -20.114962159611807, 0.5702077286702113, 80.5194132281471, -0.15077826938374425, 0.19679882644092048, -0.8102144809849335, -0.5311201654949984 ]);\n",
    "        viewer.render();\n",
    "    },\n",
    "    error: function(hdr, status, err) {\n",
    "        console.error( \"Failed to load \" + uri + \": \" + err );\n",
    "    },\n",
    "});\n",
    "</script>"
   ]
  },
  {
   "cell_type": "code",
   "execution_count": null,
   "metadata": {},
   "outputs": [],
   "source": [
    "import io\n",
    "from urllib import request\n",
    "\n",
    "NPY_PATH = \"https://gitlab.com/oasci/courses/pitt/biosc1540-2024s/-/raw/main/biosc1540/files/npy/protein-contact-maps.npy\"\n",
    "\n",
    "response = request.urlopen(NPY_PATH)\n",
    "content = response.read()\n",
    "\n",
    "# Load the .npy file\n",
    "contact_maps = np.load(io.BytesIO(content))"
   ]
  },
  {
   "cell_type": "code",
   "execution_count": null,
   "metadata": {},
   "outputs": [],
   "source": []
  },
  {
   "cell_type": "markdown",
   "metadata": {},
   "source": [
    "## Molecular properties"
   ]
  },
  {
   "cell_type": "code",
   "execution_count": null,
   "metadata": {},
   "outputs": [],
   "source": [
    "CSV_PATH = \"https://gitlab.com/oasci/courses/pitt/biosc1540-2024s/-/raw/main/biosc1540/files/csv/mol-biodegrade-props.csv\"\n",
    "\n",
    "df_all = pd.read_csv(CSV_PATH)\n",
    "\n",
    "print(df_all.head())"
   ]
  },
  {
   "cell_type": "markdown",
   "metadata": {},
   "source": [
    "## Get acquainted\n",
    "\n",
    "I define a function called `show_mol` in a hidden cell that allows you to display a 3D molecule from it's `\"Smiles\"` string using [rdkit](https://www.rdkit.org/) and [py3Dmol](https://3dmol.org/)."
   ]
  },
  {
   "cell_type": "code",
   "execution_count": null,
   "metadata": {
    "tags": [
     "hide_code"
    ]
   },
   "outputs": [],
   "source": [
    "# @title\n",
    "\n",
    "from rdkit import Chem\n",
    "from rdkit.Chem import AllChem\n",
    "from rdkit.Chem import Draw\n",
    "import py3Dmol\n",
    "\n",
    "\n",
    "def show_mol(smi, style=\"stick\"):\n",
    "    mol = Chem.MolFromSmiles(smi)\n",
    "    mol = Chem.AddHs(mol)\n",
    "    AllChem.EmbedMolecule(mol)\n",
    "    AllChem.MMFFOptimizeMolecule(mol, maxIters=200)\n",
    "    mblock = Chem.MolToMolBlock(mol)\n",
    "\n",
    "    view = py3Dmol.view(width=500, height=500)\n",
    "    view.addModel(mblock, \"mol\")\n",
    "    view.setStyle({style: {}})\n",
    "    view.zoomTo()\n",
    "    view.show()"
   ]
  },
  {
   "cell_type": "code",
   "execution_count": null,
   "metadata": {},
   "outputs": [],
   "source": [
    "df_index = 62  # Change me to some int from 0 to 1054\n",
    "_ = df_all.iloc[df_index]\n",
    "show_mol(_[\"Smiles\"])\n",
    "print(_)"
   ]
  },
  {
   "cell_type": "markdown",
   "metadata": {},
   "source": [
    "We have a ton of information about each molecule.\n",
    "\n",
    "For completeness, here are the column descriptions.\n",
    "You do not need to know what any of these mean; we are just using this for some realistic data.\n",
    "\n",
    "<details><summary>Open to view data definitions</summary>\n",
    "\n",
    "| Column | Description |\n",
    "| ------ | ----------- |\n",
    "| B01[C-Br] | presence/absence of C–Br at topological distance 1 |\n",
    "| B03[C-Cl] | presence/absence of C–Cl at topological distance 3 |\n",
    "| B04[C-Br] | presence/absence of C–Br at topological distance 4 |\n",
    "| C% | percentage of C atoms |\n",
    "| C-026 | R–CX–R |\n",
    "| F01[N-N] | frequency of N–N at topological distance 1 |\n",
    "| F02[C-N] | frequency of C–N at topological distance 2 |\n",
    "| F03[C-N] | frequency of C–N at topological distance 3 |\n",
    "| F03[C-O] | frequency of C–O at topological distance 3 |\n",
    "| F04[C-N] | frequency of C–N at topological distance 4 |\n",
    "| HyWi_B(m) | hyper-Wiener-like index (log function) from Burden matrix weighted by mass |\n",
    "| J_Dz(e) | Balaban-like index from Barysz matrix weighted by Sanderson electronegativity |\n",
    "| LOC | lopping centric index |\n",
    "| Me | mean atomic Sanderson electronegativity (scaled on Carbon atom) |\n",
    "| Mi | mean first ionization potential (scaled on carbon atom) |\n",
    "| N-073 | Ar2NH/Ar3N/Ar2N–Al/R···N···R |\n",
    "| nArCOOR | number of esters (aromatic) |\n",
    "| nArNO2 | number of nitro groups (aromatic) |\n",
    "| nCb- | number of substituted benzene C(sp2) |\n",
    "| nCIR | number of circuits |\n",
    "| nCp | number of terminal primary C(sp3) |\n",
    "| nCrt | number of ring tertiary C(sp3) |\n",
    "| nCRX3 | number of CRX3 |\n",
    "| nHDon | number of donor atoms for H-bonds (N and O) |\n",
    "| nHM | number of heavy atoms |\n",
    "| nN | number of nitrogen atoms |\n",
    "| nN-N | number of N hydrazines |\n",
    "| nO | number of oxygen atoms |\n",
    "| NssssC | number of atoms of type ssssC |\n",
    "| nX | number of halogen atoms |\n",
    "| Psi_i_1d | intrinsic state pseudoconnectivity index–type 1d |\n",
    "| Psi_i_A | intrinsic state pseudoconnectivity index—type S average |\n",
    "| SdO | sum of dO E-states |\n",
    "| SdssC | sum of dssC E-states |\n",
    "| SM6_B(m) | spectral moment of order 6 from Burden matrix weighted by mass |\n",
    "| SM6_L | spectral moment of order 6 from Laplace matrix |\n",
    "| SpMax_A | leading eigenvalue from adjacency matrix (Lovasz–Pelikan index) |\n",
    "| SpMax_B(m) | leading eigenvalue from Burden matrix weighted by mass |\n",
    "| SpMax_L | leading eigenvalue from Laplace matrix |\n",
    "| SpPosA_B(p) | normalized spectral positive sum from Burden matrix weighted by polarizability |\n",
    "| TI2_L | second Mohar index from Laplace matrix |\n",
    "</details>"
   ]
  },
  {
   "cell_type": "markdown",
   "metadata": {},
   "source": [
    "## Acknowledgements\n",
    "\n",
    "This CSV file was taken from [this paper](https://pubs.acs.org/doi/10.1021/ci4000213)."
   ]
  }
 ],
 "metadata": {
  "kernelspec": {
   "display_name": "biosc1540-2024s-dev",
   "language": "python",
   "name": "python3"
  },
  "language_info": {
   "codemirror_mode": {
    "name": "ipython",
    "version": 3
   },
   "file_extension": ".py",
   "mimetype": "text/x-python",
   "name": "python",
   "nbconvert_exporter": "python",
   "pygments_lexer": "ipython3",
   "version": "3.11.7"
  }
 },
 "nbformat": 4,
 "nbformat_minor": 2
}
