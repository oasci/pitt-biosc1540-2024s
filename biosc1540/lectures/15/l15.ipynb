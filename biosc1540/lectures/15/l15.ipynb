{
 "cells": [
  {
   "cell_type": "markdown",
   "metadata": {
    "id": "Jb7JJzMsUxmy"
   },
   "source": [
    "# Lecture 15\n",
    "\n",
    "## Readings\n",
    "\n",
    "Relevant content for today's lecture: none!\n",
    "Today we are exploring how to analyze gene expression data in Python."
   ]
  },
  {
   "cell_type": "code",
   "execution_count": 1,
   "metadata": {
    "id": "bZQsgrFrUxmz"
   },
   "outputs": [],
   "source": [
    "# DO NOT MODIFY CODE BELOW THIS LINE.\n",
    "import numpy as np\n",
    "import pandas as pd\n",
    "\n",
    "GE_CSV_PATH = \"https://gitlab.com/oasci/courses/pitt/biosc1540-2024s/-/raw/main/large-files/ecoli-transcriptome-cell.stress.csv\"\n",
    "df_ge = pd.read_csv(GE_CSV_PATH)\n",
    "gene_names = df_ge[\"gene_id\"].to_numpy()\n",
    "n_genes = len(df_ge)\n",
    "\n",
    "\n",
    "def select_stress(df, stress):\n",
    "    columns_control_ns = [\n",
    "        \"gene_id\",\n",
    "        \"Parent_replicate1\",\n",
    "        \"Parent_replicate2\",\n",
    "        \"Parent_replicate3\",\n",
    "    ]\n",
    "    columns_control_s = [\"gene_id\", \"P_\" + stress]\n",
    "    columns_resistant_ns = [\"gene_id\"]\n",
    "    columns_resistant_ns.extend([c for c in df.columns if stress in c and \"_NS\" in c])\n",
    "    columns_resistant_s = [\"gene_id\"]\n",
    "    columns_resistant_s.extend([c for c in df.columns if stress in c and \"_S\" in c])\n",
    "    return (\n",
    "        df[columns_control_ns],\n",
    "        df[columns_control_s],\n",
    "        df[columns_resistant_ns],\n",
    "        df[columns_resistant_s],\n",
    "    )"
   ]
  },
  {
   "cell_type": "markdown",
   "metadata": {},
   "source": [
    "First, we print our main DataFrame to get a look into the data."
   ]
  },
  {
   "cell_type": "code",
   "execution_count": 2,
   "metadata": {
    "colab": {
     "base_uri": "https://localhost:8080/"
    },
    "id": "AQvNVsUiUxm0",
    "outputId": "1372b463-6d76-4660-afcd-c09a07e45edc"
   },
   "outputs": [
    {
     "name": "stdout",
     "output_type": "stream",
     "text": [
      "     gene_id  Parent_replicate1  Parent_replicate2  Parent_replicate3  \\\n",
      "0       aaeA           1.600048           1.580573           1.596062   \n",
      "1       aaeB           2.384388           2.490061           2.490061   \n",
      "2       aaeR           2.313178           2.259222           2.262170   \n",
      "3       aaeX           1.675798           1.691446           1.548673   \n",
      "4        aas           2.355012           2.326936           2.338066   \n",
      "...      ...                ...                ...                ...   \n",
      "4461    zraR           1.642945           1.712818           1.612395   \n",
      "4462    zraS           1.351927           1.320579           1.411618   \n",
      "4463    zupT           3.076438           3.090366           3.103091   \n",
      "4464     zur           2.874605           2.888892           2.915271   \n",
      "4465     zwf           2.411021           2.456952           2.431736   \n",
      "\n",
      "        P_NaCl     P_KCl      P_Co   P_SoCar     P_Lac     P_Mal  ...  \\\n",
      "0     1.505947  1.571618  1.657503  1.794461  1.636620  1.733818  ...   \n",
      "1     2.712741  2.608243  2.252648  2.700831  2.531299  2.638515  ...   \n",
      "2     2.486852  2.434341  2.464022  2.664427  2.400416  2.435800  ...   \n",
      "3     1.616997  1.605543  1.729344  1.906402  1.804496  1.834359  ...   \n",
      "4     2.187426  2.261457  2.419453  2.271215  2.225404  2.292616  ...   \n",
      "...        ...       ...       ...       ...       ...       ...  ...   \n",
      "4461  1.703715  1.710452  1.716975  1.672586  1.630339  1.618635  ...   \n",
      "4462  2.355012  2.020198  1.414805  1.713586  1.429495  1.439386  ...   \n",
      "4463  3.146936  3.112203  3.055677  2.972196  2.851262  2.916235  ...   \n",
      "4464  3.637942  3.451852  2.661680  3.260481  3.276503  3.394158  ...   \n",
      "4465  2.207367  2.334575  2.550223  2.207994  2.526819  2.536596  ...   \n",
      "\n",
      "       BuOH1_S   BuOH2_S   BuOH3_S   BuOH4_S   BuOH5_S    CPC1_S    CPC2_S  \\\n",
      "0     1.722702  1.734668  1.615403  1.659911  1.491966  1.540602  1.522781   \n",
      "1     2.119643  2.103084  2.059417  2.092505  1.895477  2.591529  2.543114   \n",
      "2     2.404603  2.406878  2.257621  2.324243  2.295485  2.401106  2.381655   \n",
      "3     1.761060  1.756508  1.708768  1.695332  1.650667  1.666059  1.655673   \n",
      "4     2.267557  2.275145  2.408982  2.271862  2.422097  2.342745  2.362458   \n",
      "...        ...       ...       ...       ...       ...       ...       ...   \n",
      "4461  1.705543  1.795434  1.619502  1.739766  1.704639  1.614533  1.730317   \n",
      "4462  1.265447  1.413991  1.544611  1.391484  1.318039  1.434168  1.286209   \n",
      "4463  3.123856  3.166544  3.155791  3.206214  3.268047  3.132553  3.187512   \n",
      "4464  2.948851  2.823860  2.825326  2.862295  2.574781  3.259043  3.158823   \n",
      "4465  2.654892  2.660059  2.617217  2.753869  2.656393  2.501117  2.526819   \n",
      "\n",
      "        CPC3_S    CPC4_S    CPC5_S  \n",
      "0     1.588795  1.635115  1.624323  \n",
      "1     2.473677  2.414380  2.386672  \n",
      "2     2.355012  2.532993  2.521780  \n",
      "3     1.756508  1.602228  1.614533  \n",
      "4     2.308134  2.332424  2.354325  \n",
      "...        ...       ...       ...  \n",
      "4461  1.562786  1.520455  1.522781  \n",
      "4462  1.527510  1.418340  1.345129  \n",
      "4463  3.100817  3.099084  3.090366  \n",
      "4464  2.992532  2.929574  2.892283  \n",
      "4465  2.523108  2.430455  2.398973  \n",
      "\n",
      "[4466 rows x 125 columns]\n"
     ]
    }
   ],
   "source": [
    "print(df_ge)"
   ]
  },
  {
   "cell_type": "markdown",
   "metadata": {},
   "source": [
    "Let's use the `select_stress` function to get the relevant data for NaCl."
   ]
  },
  {
   "cell_type": "code",
   "execution_count": 3,
   "metadata": {
    "id": "5qBPSI-aUxm0"
   },
   "outputs": [
    {
     "name": "stdout",
     "output_type": "stream",
     "text": [
      "<class 'tuple'>\n"
     ]
    }
   ],
   "source": [
    "nacl_data = select_stress(df_ge, \"NaCl\")\n",
    "print(type(nacl_data))"
   ]
  },
  {
   "cell_type": "markdown",
   "metadata": {},
   "source": [
    "Our function gives us four DataFrames, so we have to \"unpack\" them into four separate variables."
   ]
  },
  {
   "cell_type": "code",
   "execution_count": 4,
   "metadata": {
    "id": "fnXve8gQWcep"
   },
   "outputs": [],
   "source": [
    "df_control_ns, df_control_s, df_mal_ns, df_mal_s = nacl_data"
   ]
  },
  {
   "cell_type": "code",
   "execution_count": 5,
   "metadata": {
    "colab": {
     "base_uri": "https://localhost:8080/"
    },
    "id": "bVSfPVQUWVv8",
    "outputId": "8129cec2-1c55-45be-d6c9-3329c4166090"
   },
   "outputs": [
    {
     "name": "stdout",
     "output_type": "stream",
     "text": [
      "     gene_id  Parent_replicate1  Parent_replicate2  Parent_replicate3\n",
      "0       aaeA           1.600048           1.580573           1.596062\n",
      "1       aaeB           2.384388           2.490061           2.490061\n",
      "2       aaeR           2.313178           2.259222           2.262170\n",
      "3       aaeX           1.675798           1.691446           1.548673\n",
      "4        aas           2.355012           2.326936           2.338066\n",
      "...      ...                ...                ...                ...\n",
      "4461    zraR           1.642945           1.712818           1.612395\n",
      "4462    zraS           1.351927           1.320579           1.411618\n",
      "4463    zupT           3.076438           3.090366           3.103091\n",
      "4464     zur           2.874605           2.888892           2.915271\n",
      "4465     zwf           2.411021           2.456952           2.431736\n",
      "\n",
      "[4466 rows x 4 columns]\n"
     ]
    }
   ],
   "source": [
    "print(df_control_ns)"
   ]
  },
  {
   "cell_type": "code",
   "execution_count": 6,
   "metadata": {
    "colab": {
     "base_uri": "https://localhost:8080/"
    },
    "id": "LrvxyW7XWsX4",
    "outputId": "49c8e04a-527c-49d8-85f0-e58f49c9e52a"
   },
   "outputs": [
    {
     "name": "stdout",
     "output_type": "stream",
     "text": [
      "     gene_id    P_NaCl\n",
      "0       aaeA  1.505947\n",
      "1       aaeB  2.712741\n",
      "2       aaeR  2.486852\n",
      "3       aaeX  1.616997\n",
      "4        aas  2.187426\n",
      "...      ...       ...\n",
      "4461    zraR  1.703715\n",
      "4462    zraS  2.355012\n",
      "4463    zupT  3.146936\n",
      "4464     zur  3.637942\n",
      "4465     zwf  2.207367\n",
      "\n",
      "[4466 rows x 2 columns]\n"
     ]
    }
   ],
   "source": [
    "print(df_control_s)"
   ]
  },
  {
   "cell_type": "markdown",
   "metadata": {},
   "source": [
    "We want to just get the numbers."
   ]
  },
  {
   "cell_type": "code",
   "execution_count": 7,
   "metadata": {
    "colab": {
     "base_uri": "https://localhost:8080/"
    },
    "id": "VCNOD6akWV0d",
    "outputId": "0fef36bf-4145-472f-92b4-da0038140cba"
   },
   "outputs": [
    {
     "name": "stdout",
     "output_type": "stream",
     "text": [
      "[[1.60004796 1.58057272 1.59606189]\n",
      " [2.38438839 2.49006068 2.49006068]\n",
      " [2.31317839 2.25922236 2.26216996]\n",
      " ...\n",
      " [3.07643761 3.09036635 3.1030913 ]\n",
      " [2.87460481 2.88889245 2.91527066]\n",
      " [2.41102055 2.45695249 2.43173646]]\n"
     ]
    }
   ],
   "source": [
    "control_ns = df_control_ns.drop(columns=[\"gene_id\"], inplace=False).values\n",
    "print(control_ns)"
   ]
  },
  {
   "cell_type": "code",
   "execution_count": 8,
   "metadata": {
    "id": "TGb8zMFJWV8v"
   },
   "outputs": [],
   "source": [
    "control_ns = np.mean(control_ns, axis=1)"
   ]
  },
  {
   "cell_type": "code",
   "execution_count": 9,
   "metadata": {
    "colab": {
     "base_uri": "https://localhost:8080/"
    },
    "id": "mqqxpO__WV-5",
    "outputId": "bddc1ed4-27cd-4e55-f59b-b9bee1a2e5f1"
   },
   "outputs": [
    {
     "name": "stdout",
     "output_type": "stream",
     "text": [
      "[[1.50594672]\n",
      " [2.71274138]\n",
      " [2.48685151]\n",
      " ...\n",
      " [3.14693561]\n",
      " [3.63794232]\n",
      " [2.20736673]]\n",
      "(4466, 1)\n"
     ]
    }
   ],
   "source": [
    "control_s = df_control_s.drop(columns=[\"gene_id\"], inplace=False).values\n",
    "\n",
    "print(control_s)\n",
    "print(control_s.shape)"
   ]
  },
  {
   "cell_type": "code",
   "execution_count": 10,
   "metadata": {},
   "outputs": [
    {
     "name": "stdout",
     "output_type": "stream",
     "text": [
      "[1.50594672 2.71274138 2.48685151 ... 3.14693561 3.63794232 2.20736673]\n",
      "(4466,)\n"
     ]
    }
   ],
   "source": [
    "control_s = control_s.flatten()\n",
    "print(control_s)\n",
    "print(control_s.shape)"
   ]
  },
  {
   "cell_type": "code",
   "execution_count": 11,
   "metadata": {
    "colab": {
     "base_uri": "https://localhost:8080/"
    },
    "id": "u2Q8azMkWWA7",
    "outputId": "ad044606-c276-46ad-b005-289a5e4db480"
   },
   "outputs": [
    {
     "name": "stdout",
     "output_type": "stream",
     "text": [
      "[-0.08628081  0.2579048   0.20866128 ...  0.05697053  0.74501968\n",
      " -0.22586977]\n"
     ]
    }
   ],
   "source": [
    "control_diff = control_s - control_ns\n",
    "print(control_diff)"
   ]
  },
  {
   "cell_type": "code",
   "execution_count": 12,
   "metadata": {
    "colab": {
     "base_uri": "https://localhost:8080/"
    },
    "id": "KTHAeuItWWDF",
    "outputId": "7de6d5f0-5071-41c5-800d-35ce028b7afa"
   },
   "outputs": [
    {
     "data": {
      "text/plain": [
       "3.0941512849999997"
      ]
     },
     "execution_count": 12,
     "metadata": {},
     "output_type": "execute_result"
    }
   ],
   "source": [
    "np.max(np.abs(control_diff))"
   ]
  },
  {
   "cell_type": "code",
   "execution_count": 13,
   "metadata": {
    "colab": {
     "base_uri": "https://localhost:8080/"
    },
    "id": "8_eCYnmWWWE7",
    "outputId": "1bb9efdd-ebaf-487d-9956-6f746cdc95ad"
   },
   "outputs": [
    {
     "data": {
      "text/plain": [
       "8.881784197001252e-16"
      ]
     },
     "execution_count": 13,
     "metadata": {},
     "output_type": "execute_result"
    }
   ],
   "source": [
    "np.min(np.abs(control_diff))"
   ]
  },
  {
   "cell_type": "code",
   "execution_count": 14,
   "metadata": {
    "colab": {
     "base_uri": "https://localhost:8080/"
    },
    "id": "c1I1lRgwWWG3",
    "outputId": "248fa726-e73b-4600-e96e-5c077d73f5c9"
   },
   "outputs": [
    {
     "data": {
      "text/plain": [
       "0.05929744729218926"
      ]
     },
     "execution_count": 14,
     "metadata": {},
     "output_type": "execute_result"
    }
   ],
   "source": [
    "np.var(control_diff)"
   ]
  },
  {
   "cell_type": "code",
   "execution_count": 15,
   "metadata": {
    "colab": {
     "base_uri": "https://localhost:8080/"
    },
    "id": "-1tNjhYuWWJJ",
    "outputId": "4daef9d2-58d5-4b52-e2aa-4159d00c53e7"
   },
   "outputs": [
    {
     "name": "stdout",
     "output_type": "stream",
     "text": [
      "[ 8.88178420e-16  1.23297333e-04 -1.43241667e-04 ...  1.76809606e+00\n",
      "  1.83709646e+00 -3.09415128e+00]\n",
      "[ 329 2422 2228 ... 1893 3596 4286]\n"
     ]
    }
   ],
   "source": [
    "sort_idxs = np.argsort(np.abs(control_diff))\n",
    "print(control_diff[sort_idxs])\n",
    "print(sort_idxs)"
   ]
  },
  {
   "cell_type": "code",
   "execution_count": 16,
   "metadata": {
    "colab": {
     "base_uri": "https://localhost:8080/"
    },
    "id": "BQqTNu7Eeu5F",
    "outputId": "5509bd29-1372-4d10-cc69-89d4195be7bd"
   },
   "outputs": [
    {
     "name": "stdout",
     "output_type": "stream",
     "text": [
      "[-3.09415128e+00  1.83709646e+00  1.76809606e+00 ... -1.43241667e-04\n",
      "  1.23297333e-04  8.88178420e-16]\n",
      "[4286 3596 1893 ... 2228 2422  329]\n"
     ]
    }
   ],
   "source": [
    "sort_idxs = np.argsort(np.abs(control_diff))[None:None:-1]\n",
    "print(control_diff[sort_idxs])\n",
    "print(sort_idxs)"
   ]
  },
  {
   "cell_type": "code",
   "execution_count": 17,
   "metadata": {
    "colab": {
     "base_uri": "https://localhost:8080/",
     "height": 443
    },
    "id": "Ww7eZDBLeu9e",
    "outputId": "35ff1929-fa42-40d4-cbfb-06c1d2d43fe9"
   },
   "outputs": [
    {
     "data": {
      "text/html": [
       "<div>\n",
       "<style scoped>\n",
       "    .dataframe tbody tr th:only-of-type {\n",
       "        vertical-align: middle;\n",
       "    }\n",
       "\n",
       "    .dataframe tbody tr th {\n",
       "        vertical-align: top;\n",
       "    }\n",
       "\n",
       "    .dataframe thead th {\n",
       "        text-align: right;\n",
       "    }\n",
       "</style>\n",
       "<table border=\"1\" class=\"dataframe\">\n",
       "  <thead>\n",
       "    <tr style=\"text-align: right;\">\n",
       "      <th></th>\n",
       "      <th>gene_id</th>\n",
       "      <th>Parent_replicate1</th>\n",
       "      <th>Parent_replicate2</th>\n",
       "      <th>Parent_replicate3</th>\n",
       "      <th>P_NaCl</th>\n",
       "      <th>P_KCl</th>\n",
       "      <th>P_Co</th>\n",
       "      <th>P_SoCar</th>\n",
       "      <th>P_Lac</th>\n",
       "      <th>P_Mal</th>\n",
       "      <th>...</th>\n",
       "      <th>BuOH1_S</th>\n",
       "      <th>BuOH2_S</th>\n",
       "      <th>BuOH3_S</th>\n",
       "      <th>BuOH4_S</th>\n",
       "      <th>BuOH5_S</th>\n",
       "      <th>CPC1_S</th>\n",
       "      <th>CPC2_S</th>\n",
       "      <th>CPC3_S</th>\n",
       "      <th>CPC4_S</th>\n",
       "      <th>CPC5_S</th>\n",
       "    </tr>\n",
       "  </thead>\n",
       "  <tbody>\n",
       "    <tr>\n",
       "      <th>4286</th>\n",
       "      <td>yodB</td>\n",
       "      <td>4.678731</td>\n",
       "      <td>4.670634</td>\n",
       "      <td>4.714923</td>\n",
       "      <td>1.593945</td>\n",
       "      <td>2.115288</td>\n",
       "      <td>1.518068</td>\n",
       "      <td>1.549497</td>\n",
       "      <td>1.825058</td>\n",
       "      <td>2.725969</td>\n",
       "      <td>...</td>\n",
       "      <td>4.427224</td>\n",
       "      <td>1.681780</td>\n",
       "      <td>4.210672</td>\n",
       "      <td>1.698021</td>\n",
       "      <td>1.789033</td>\n",
       "      <td>2.106388</td>\n",
       "      <td>4.495029</td>\n",
       "      <td>4.275344</td>\n",
       "      <td>3.400194</td>\n",
       "      <td>4.261676</td>\n",
       "    </tr>\n",
       "    <tr>\n",
       "      <th>3596</th>\n",
       "      <td>ygaX</td>\n",
       "      <td>2.688027</td>\n",
       "      <td>2.632626</td>\n",
       "      <td>2.605742</td>\n",
       "      <td>4.479228</td>\n",
       "      <td>4.232069</td>\n",
       "      <td>3.158823</td>\n",
       "      <td>3.783039</td>\n",
       "      <td>2.653236</td>\n",
       "      <td>1.957980</td>\n",
       "      <td>...</td>\n",
       "      <td>2.913075</td>\n",
       "      <td>2.910853</td>\n",
       "      <td>2.866889</td>\n",
       "      <td>2.991380</td>\n",
       "      <td>2.911913</td>\n",
       "      <td>2.531869</td>\n",
       "      <td>2.313878</td>\n",
       "      <td>2.798263</td>\n",
       "      <td>2.951115</td>\n",
       "      <td>2.948324</td>\n",
       "    </tr>\n",
       "    <tr>\n",
       "      <th>1893</th>\n",
       "      <td>proX</td>\n",
       "      <td>3.094475</td>\n",
       "      <td>3.049540</td>\n",
       "      <td>3.004708</td>\n",
       "      <td>4.817671</td>\n",
       "      <td>4.636924</td>\n",
       "      <td>3.553367</td>\n",
       "      <td>4.271946</td>\n",
       "      <td>3.041538</td>\n",
       "      <td>2.108719</td>\n",
       "      <td>...</td>\n",
       "      <td>3.335322</td>\n",
       "      <td>3.308732</td>\n",
       "      <td>3.316546</td>\n",
       "      <td>3.409435</td>\n",
       "      <td>3.290096</td>\n",
       "      <td>2.999753</td>\n",
       "      <td>2.724896</td>\n",
       "      <td>3.233769</td>\n",
       "      <td>3.411236</td>\n",
       "      <td>3.371803</td>\n",
       "    </tr>\n",
       "    <tr>\n",
       "      <th>4180</th>\n",
       "      <td>ymdF</td>\n",
       "      <td>2.359584</td>\n",
       "      <td>2.373460</td>\n",
       "      <td>2.402602</td>\n",
       "      <td>4.127130</td>\n",
       "      <td>3.676813</td>\n",
       "      <td>2.297827</td>\n",
       "      <td>2.924252</td>\n",
       "      <td>3.265844</td>\n",
       "      <td>4.327708</td>\n",
       "      <td>...</td>\n",
       "      <td>2.190760</td>\n",
       "      <td>2.188255</td>\n",
       "      <td>2.069192</td>\n",
       "      <td>2.019406</td>\n",
       "      <td>2.061853</td>\n",
       "      <td>2.832869</td>\n",
       "      <td>2.796733</td>\n",
       "      <td>2.510046</td>\n",
       "      <td>2.626998</td>\n",
       "      <td>2.582298</td>\n",
       "    </tr>\n",
       "    <tr>\n",
       "      <th>4459</th>\n",
       "      <td>znuC</td>\n",
       "      <td>4.630019</td>\n",
       "      <td>4.630019</td>\n",
       "      <td>4.695153</td>\n",
       "      <td>2.953263</td>\n",
       "      <td>3.179441</td>\n",
       "      <td>2.867457</td>\n",
       "      <td>2.716297</td>\n",
       "      <td>3.013608</td>\n",
       "      <td>3.689238</td>\n",
       "      <td>...</td>\n",
       "      <td>4.451010</td>\n",
       "      <td>2.876743</td>\n",
       "      <td>4.454109</td>\n",
       "      <td>2.894816</td>\n",
       "      <td>2.982333</td>\n",
       "      <td>3.334461</td>\n",
       "      <td>4.630019</td>\n",
       "      <td>4.591646</td>\n",
       "      <td>4.127130</td>\n",
       "      <td>4.695153</td>\n",
       "    </tr>\n",
       "    <tr>\n",
       "      <th>...</th>\n",
       "      <td>...</td>\n",
       "      <td>...</td>\n",
       "      <td>...</td>\n",
       "      <td>...</td>\n",
       "      <td>...</td>\n",
       "      <td>...</td>\n",
       "      <td>...</td>\n",
       "      <td>...</td>\n",
       "      <td>...</td>\n",
       "      <td>...</td>\n",
       "      <td>...</td>\n",
       "      <td>...</td>\n",
       "      <td>...</td>\n",
       "      <td>...</td>\n",
       "      <td>...</td>\n",
       "      <td>...</td>\n",
       "      <td>...</td>\n",
       "      <td>...</td>\n",
       "      <td>...</td>\n",
       "      <td>...</td>\n",
       "      <td>...</td>\n",
       "    </tr>\n",
       "    <tr>\n",
       "      <th>1793</th>\n",
       "      <td>phnC</td>\n",
       "      <td>1.387270</td>\n",
       "      <td>1.318039</td>\n",
       "      <td>1.449391</td>\n",
       "      <td>1.385086</td>\n",
       "      <td>1.488599</td>\n",
       "      <td>1.409373</td>\n",
       "      <td>1.385086</td>\n",
       "      <td>1.447068</td>\n",
       "      <td>1.476008</td>\n",
       "      <td>...</td>\n",
       "      <td>1.423862</td>\n",
       "      <td>1.509091</td>\n",
       "      <td>1.356017</td>\n",
       "      <td>1.474472</td>\n",
       "      <td>1.538871</td>\n",
       "      <td>1.354199</td>\n",
       "      <td>1.365299</td>\n",
       "      <td>1.442657</td>\n",
       "      <td>1.306350</td>\n",
       "      <td>1.252333</td>\n",
       "    </tr>\n",
       "    <tr>\n",
       "      <th>3323</th>\n",
       "      <td>yedN_1</td>\n",
       "      <td>0.814256</td>\n",
       "      <td>0.797663</td>\n",
       "      <td>0.801634</td>\n",
       "      <td>0.804686</td>\n",
       "      <td>0.803897</td>\n",
       "      <td>0.784515</td>\n",
       "      <td>0.763734</td>\n",
       "      <td>0.754080</td>\n",
       "      <td>0.878126</td>\n",
       "      <td>...</td>\n",
       "      <td>0.775659</td>\n",
       "      <td>0.749113</td>\n",
       "      <td>0.753385</td>\n",
       "      <td>0.813190</td>\n",
       "      <td>0.773893</td>\n",
       "      <td>0.792075</td>\n",
       "      <td>0.752987</td>\n",
       "      <td>0.793821</td>\n",
       "      <td>0.771247</td>\n",
       "      <td>0.747404</td>\n",
       "    </tr>\n",
       "    <tr>\n",
       "      <th>2228</th>\n",
       "      <td>rygC</td>\n",
       "      <td>2.733641</td>\n",
       "      <td>2.686830</td>\n",
       "      <td>2.710021</td>\n",
       "      <td>2.710021</td>\n",
       "      <td>2.651550</td>\n",
       "      <td>2.782318</td>\n",
       "      <td>2.641222</td>\n",
       "      <td>2.632082</td>\n",
       "      <td>2.668627</td>\n",
       "      <td>...</td>\n",
       "      <td>2.633536</td>\n",
       "      <td>2.626998</td>\n",
       "      <td>2.653879</td>\n",
       "      <td>2.676098</td>\n",
       "      <td>2.695565</td>\n",
       "      <td>2.654396</td>\n",
       "      <td>2.608742</td>\n",
       "      <td>2.559854</td>\n",
       "      <td>2.956615</td>\n",
       "      <td>2.935965</td>\n",
       "    </tr>\n",
       "    <tr>\n",
       "      <th>2422</th>\n",
       "      <td>tfaS</td>\n",
       "      <td>0.768232</td>\n",
       "      <td>0.767123</td>\n",
       "      <td>0.746238</td>\n",
       "      <td>0.760655</td>\n",
       "      <td>0.763734</td>\n",
       "      <td>0.763215</td>\n",
       "      <td>0.783060</td>\n",
       "      <td>0.773893</td>\n",
       "      <td>0.773471</td>\n",
       "      <td>...</td>\n",
       "      <td>0.755846</td>\n",
       "      <td>0.734381</td>\n",
       "      <td>0.737486</td>\n",
       "      <td>0.759389</td>\n",
       "      <td>0.746887</td>\n",
       "      <td>0.771247</td>\n",
       "      <td>0.768756</td>\n",
       "      <td>0.748633</td>\n",
       "      <td>0.784992</td>\n",
       "      <td>0.757972</td>\n",
       "    </tr>\n",
       "    <tr>\n",
       "      <th>329</th>\n",
       "      <td>clpB</td>\n",
       "      <td>5.512269</td>\n",
       "      <td>5.512269</td>\n",
       "      <td>5.512269</td>\n",
       "      <td>5.512269</td>\n",
       "      <td>5.512269</td>\n",
       "      <td>5.512269</td>\n",
       "      <td>5.512269</td>\n",
       "      <td>5.512269</td>\n",
       "      <td>5.512269</td>\n",
       "      <td>...</td>\n",
       "      <td>5.512269</td>\n",
       "      <td>5.512269</td>\n",
       "      <td>5.512269</td>\n",
       "      <td>5.512269</td>\n",
       "      <td>5.512269</td>\n",
       "      <td>5.512269</td>\n",
       "      <td>5.512269</td>\n",
       "      <td>5.512269</td>\n",
       "      <td>5.512269</td>\n",
       "      <td>5.512269</td>\n",
       "    </tr>\n",
       "  </tbody>\n",
       "</table>\n",
       "<p>4466 rows × 125 columns</p>\n",
       "</div>"
      ],
      "text/plain": [
       "     gene_id  Parent_replicate1  Parent_replicate2  Parent_replicate3  \\\n",
       "4286    yodB           4.678731           4.670634           4.714923   \n",
       "3596    ygaX           2.688027           2.632626           2.605742   \n",
       "1893    proX           3.094475           3.049540           3.004708   \n",
       "4180    ymdF           2.359584           2.373460           2.402602   \n",
       "4459    znuC           4.630019           4.630019           4.695153   \n",
       "...      ...                ...                ...                ...   \n",
       "1793    phnC           1.387270           1.318039           1.449391   \n",
       "3323  yedN_1           0.814256           0.797663           0.801634   \n",
       "2228    rygC           2.733641           2.686830           2.710021   \n",
       "2422    tfaS           0.768232           0.767123           0.746238   \n",
       "329     clpB           5.512269           5.512269           5.512269   \n",
       "\n",
       "        P_NaCl     P_KCl      P_Co   P_SoCar     P_Lac     P_Mal  ...  \\\n",
       "4286  1.593945  2.115288  1.518068  1.549497  1.825058  2.725969  ...   \n",
       "3596  4.479228  4.232069  3.158823  3.783039  2.653236  1.957980  ...   \n",
       "1893  4.817671  4.636924  3.553367  4.271946  3.041538  2.108719  ...   \n",
       "4180  4.127130  3.676813  2.297827  2.924252  3.265844  4.327708  ...   \n",
       "4459  2.953263  3.179441  2.867457  2.716297  3.013608  3.689238  ...   \n",
       "...        ...       ...       ...       ...       ...       ...  ...   \n",
       "1793  1.385086  1.488599  1.409373  1.385086  1.447068  1.476008  ...   \n",
       "3323  0.804686  0.803897  0.784515  0.763734  0.754080  0.878126  ...   \n",
       "2228  2.710021  2.651550  2.782318  2.641222  2.632082  2.668627  ...   \n",
       "2422  0.760655  0.763734  0.763215  0.783060  0.773893  0.773471  ...   \n",
       "329   5.512269  5.512269  5.512269  5.512269  5.512269  5.512269  ...   \n",
       "\n",
       "       BuOH1_S   BuOH2_S   BuOH3_S   BuOH4_S   BuOH5_S    CPC1_S    CPC2_S  \\\n",
       "4286  4.427224  1.681780  4.210672  1.698021  1.789033  2.106388  4.495029   \n",
       "3596  2.913075  2.910853  2.866889  2.991380  2.911913  2.531869  2.313878   \n",
       "1893  3.335322  3.308732  3.316546  3.409435  3.290096  2.999753  2.724896   \n",
       "4180  2.190760  2.188255  2.069192  2.019406  2.061853  2.832869  2.796733   \n",
       "4459  4.451010  2.876743  4.454109  2.894816  2.982333  3.334461  4.630019   \n",
       "...        ...       ...       ...       ...       ...       ...       ...   \n",
       "1793  1.423862  1.509091  1.356017  1.474472  1.538871  1.354199  1.365299   \n",
       "3323  0.775659  0.749113  0.753385  0.813190  0.773893  0.792075  0.752987   \n",
       "2228  2.633536  2.626998  2.653879  2.676098  2.695565  2.654396  2.608742   \n",
       "2422  0.755846  0.734381  0.737486  0.759389  0.746887  0.771247  0.768756   \n",
       "329   5.512269  5.512269  5.512269  5.512269  5.512269  5.512269  5.512269   \n",
       "\n",
       "        CPC3_S    CPC4_S    CPC5_S  \n",
       "4286  4.275344  3.400194  4.261676  \n",
       "3596  2.798263  2.951115  2.948324  \n",
       "1893  3.233769  3.411236  3.371803  \n",
       "4180  2.510046  2.626998  2.582298  \n",
       "4459  4.591646  4.127130  4.695153  \n",
       "...        ...       ...       ...  \n",
       "1793  1.442657  1.306350  1.252333  \n",
       "3323  0.793821  0.771247  0.747404  \n",
       "2228  2.559854  2.956615  2.935965  \n",
       "2422  0.748633  0.784992  0.757972  \n",
       "329   5.512269  5.512269  5.512269  \n",
       "\n",
       "[4466 rows x 125 columns]"
      ]
     },
     "execution_count": 17,
     "metadata": {},
     "output_type": "execute_result"
    }
   ],
   "source": [
    "df_ge.iloc[sort_idxs]"
   ]
  },
  {
   "cell_type": "code",
   "execution_count": 18,
   "metadata": {
    "colab": {
     "base_uri": "https://localhost:8080/"
    },
    "id": "pxZtH7BAeu_Y",
    "outputId": "6465a4eb-0127-4d53-fae9-ce9c6d9fb90f"
   },
   "outputs": [
    {
     "name": "stdout",
     "output_type": "stream",
     "text": [
      "[1281 2424 2426 ... 4459 2276 4286]\n"
     ]
    }
   ],
   "source": [
    "sort_idxs_ratio = np.argsort(control_s / control_ns)[None:None:-1]\n",
    "print(sort_idxs_ratio)"
   ]
  },
  {
   "cell_type": "code",
   "execution_count": 19,
   "metadata": {
    "id": "FGqr5KnLhGjB"
   },
   "outputs": [
    {
     "data": {
      "text/html": [
       "<div>\n",
       "<style scoped>\n",
       "    .dataframe tbody tr th:only-of-type {\n",
       "        vertical-align: middle;\n",
       "    }\n",
       "\n",
       "    .dataframe tbody tr th {\n",
       "        vertical-align: top;\n",
       "    }\n",
       "\n",
       "    .dataframe thead th {\n",
       "        text-align: right;\n",
       "    }\n",
       "</style>\n",
       "<table border=\"1\" class=\"dataframe\">\n",
       "  <thead>\n",
       "    <tr style=\"text-align: right;\">\n",
       "      <th></th>\n",
       "      <th>gene_id</th>\n",
       "      <th>Parent_replicate1</th>\n",
       "      <th>Parent_replicate2</th>\n",
       "      <th>Parent_replicate3</th>\n",
       "      <th>P_NaCl</th>\n",
       "      <th>P_KCl</th>\n",
       "      <th>P_Co</th>\n",
       "      <th>P_SoCar</th>\n",
       "      <th>P_Lac</th>\n",
       "      <th>P_Mal</th>\n",
       "      <th>...</th>\n",
       "      <th>BuOH1_S</th>\n",
       "      <th>BuOH2_S</th>\n",
       "      <th>BuOH3_S</th>\n",
       "      <th>BuOH4_S</th>\n",
       "      <th>BuOH5_S</th>\n",
       "      <th>CPC1_S</th>\n",
       "      <th>CPC2_S</th>\n",
       "      <th>CPC3_S</th>\n",
       "      <th>CPC4_S</th>\n",
       "      <th>CPC5_S</th>\n",
       "    </tr>\n",
       "  </thead>\n",
       "  <tbody>\n",
       "    <tr>\n",
       "      <th>1281</th>\n",
       "      <td>kdpF</td>\n",
       "      <td>0.957432</td>\n",
       "      <td>1.051754</td>\n",
       "      <td>0.799222</td>\n",
       "      <td>2.456309</td>\n",
       "      <td>0.994012</td>\n",
       "      <td>1.776002</td>\n",
       "      <td>0.861017</td>\n",
       "      <td>1.259539</td>\n",
       "      <td>1.589559</td>\n",
       "      <td>...</td>\n",
       "      <td>0.806693</td>\n",
       "      <td>0.761083</td>\n",
       "      <td>0.775282</td>\n",
       "      <td>0.928758</td>\n",
       "      <td>0.782602</td>\n",
       "      <td>1.203230</td>\n",
       "      <td>0.794336</td>\n",
       "      <td>0.812139</td>\n",
       "      <td>1.168332</td>\n",
       "      <td>1.187458</td>\n",
       "    </tr>\n",
       "    <tr>\n",
       "      <th>2424</th>\n",
       "      <td>thiC</td>\n",
       "      <td>1.374374</td>\n",
       "      <td>1.461510</td>\n",
       "      <td>1.435003</td>\n",
       "      <td>2.790718</td>\n",
       "      <td>2.140124</td>\n",
       "      <td>1.647559</td>\n",
       "      <td>1.759285</td>\n",
       "      <td>1.525931</td>\n",
       "      <td>1.281743</td>\n",
       "      <td>...</td>\n",
       "      <td>2.352245</td>\n",
       "      <td>2.572021</td>\n",
       "      <td>2.406101</td>\n",
       "      <td>2.436446</td>\n",
       "      <td>2.712741</td>\n",
       "      <td>1.398773</td>\n",
       "      <td>1.338533</td>\n",
       "      <td>1.528405</td>\n",
       "      <td>1.356744</td>\n",
       "      <td>1.327078</td>\n",
       "    </tr>\n",
       "    <tr>\n",
       "      <th>2426</th>\n",
       "      <td>thiE</td>\n",
       "      <td>1.644415</td>\n",
       "      <td>1.617800</td>\n",
       "      <td>1.595423</td>\n",
       "      <td>3.077589</td>\n",
       "      <td>2.422097</td>\n",
       "      <td>1.877849</td>\n",
       "      <td>2.025810</td>\n",
       "      <td>1.752811</td>\n",
       "      <td>1.675798</td>\n",
       "      <td>...</td>\n",
       "      <td>2.594852</td>\n",
       "      <td>2.827982</td>\n",
       "      <td>2.634024</td>\n",
       "      <td>2.696574</td>\n",
       "      <td>2.998708</td>\n",
       "      <td>1.584882</td>\n",
       "      <td>1.527510</td>\n",
       "      <td>1.779675</td>\n",
       "      <td>1.526814</td>\n",
       "      <td>1.547157</td>\n",
       "    </tr>\n",
       "    <tr>\n",
       "      <th>2456</th>\n",
       "      <td>tnaB</td>\n",
       "      <td>1.164081</td>\n",
       "      <td>1.267826</td>\n",
       "      <td>1.374374</td>\n",
       "      <td>2.373460</td>\n",
       "      <td>1.477557</td>\n",
       "      <td>1.204007</td>\n",
       "      <td>1.059174</td>\n",
       "      <td>1.662314</td>\n",
       "      <td>1.020382</td>\n",
       "      <td>...</td>\n",
       "      <td>1.342623</td>\n",
       "      <td>1.381784</td>\n",
       "      <td>1.351107</td>\n",
       "      <td>1.804496</td>\n",
       "      <td>1.389750</td>\n",
       "      <td>1.112660</td>\n",
       "      <td>1.193639</td>\n",
       "      <td>1.293827</td>\n",
       "      <td>1.440254</td>\n",
       "      <td>1.476008</td>\n",
       "    </tr>\n",
       "    <tr>\n",
       "      <th>3597</th>\n",
       "      <td>ygaY</td>\n",
       "      <td>1.704639</td>\n",
       "      <td>1.681039</td>\n",
       "      <td>1.582408</td>\n",
       "      <td>3.063054</td>\n",
       "      <td>2.968620</td>\n",
       "      <td>2.037092</td>\n",
       "      <td>2.453727</td>\n",
       "      <td>2.152173</td>\n",
       "      <td>2.237927</td>\n",
       "      <td>...</td>\n",
       "      <td>1.959806</td>\n",
       "      <td>1.970070</td>\n",
       "      <td>1.885148</td>\n",
       "      <td>1.973783</td>\n",
       "      <td>1.930201</td>\n",
       "      <td>1.763589</td>\n",
       "      <td>1.618635</td>\n",
       "      <td>1.672586</td>\n",
       "      <td>1.813288</td>\n",
       "      <td>1.791640</td>\n",
       "    </tr>\n",
       "    <tr>\n",
       "      <th>...</th>\n",
       "      <td>...</td>\n",
       "      <td>...</td>\n",
       "      <td>...</td>\n",
       "      <td>...</td>\n",
       "      <td>...</td>\n",
       "      <td>...</td>\n",
       "      <td>...</td>\n",
       "      <td>...</td>\n",
       "      <td>...</td>\n",
       "      <td>...</td>\n",
       "      <td>...</td>\n",
       "      <td>...</td>\n",
       "      <td>...</td>\n",
       "      <td>...</td>\n",
       "      <td>...</td>\n",
       "      <td>...</td>\n",
       "      <td>...</td>\n",
       "      <td>...</td>\n",
       "      <td>...</td>\n",
       "      <td>...</td>\n",
       "      <td>...</td>\n",
       "    </tr>\n",
       "    <tr>\n",
       "      <th>2634</th>\n",
       "      <td>xylB</td>\n",
       "      <td>1.950199</td>\n",
       "      <td>1.970070</td>\n",
       "      <td>2.024819</td>\n",
       "      <td>1.296491</td>\n",
       "      <td>1.328608</td>\n",
       "      <td>1.655673</td>\n",
       "      <td>1.278955</td>\n",
       "      <td>2.822272</td>\n",
       "      <td>2.414993</td>\n",
       "      <td>...</td>\n",
       "      <td>1.421376</td>\n",
       "      <td>1.659015</td>\n",
       "      <td>1.696132</td>\n",
       "      <td>1.630339</td>\n",
       "      <td>1.711218</td>\n",
       "      <td>2.895786</td>\n",
       "      <td>2.481158</td>\n",
       "      <td>2.087654</td>\n",
       "      <td>1.878748</td>\n",
       "      <td>1.927464</td>\n",
       "    </tr>\n",
       "    <tr>\n",
       "      <th>1773</th>\n",
       "      <td>pfkB</td>\n",
       "      <td>2.649123</td>\n",
       "      <td>2.609813</td>\n",
       "      <td>2.665436</td>\n",
       "      <td>1.693009</td>\n",
       "      <td>1.869521</td>\n",
       "      <td>2.666011</td>\n",
       "      <td>2.039641</td>\n",
       "      <td>2.335915</td>\n",
       "      <td>2.233470</td>\n",
       "      <td>...</td>\n",
       "      <td>2.499898</td>\n",
       "      <td>2.457583</td>\n",
       "      <td>2.518857</td>\n",
       "      <td>2.403200</td>\n",
       "      <td>2.499228</td>\n",
       "      <td>2.395470</td>\n",
       "      <td>2.550223</td>\n",
       "      <td>2.532993</td>\n",
       "      <td>2.803962</td>\n",
       "      <td>2.824413</td>\n",
       "    </tr>\n",
       "    <tr>\n",
       "      <th>4459</th>\n",
       "      <td>znuC</td>\n",
       "      <td>4.630019</td>\n",
       "      <td>4.630019</td>\n",
       "      <td>4.695153</td>\n",
       "      <td>2.953263</td>\n",
       "      <td>3.179441</td>\n",
       "      <td>2.867457</td>\n",
       "      <td>2.716297</td>\n",
       "      <td>3.013608</td>\n",
       "      <td>3.689238</td>\n",
       "      <td>...</td>\n",
       "      <td>4.451010</td>\n",
       "      <td>2.876743</td>\n",
       "      <td>4.454109</td>\n",
       "      <td>2.894816</td>\n",
       "      <td>2.982333</td>\n",
       "      <td>3.334461</td>\n",
       "      <td>4.630019</td>\n",
       "      <td>4.591646</td>\n",
       "      <td>4.127130</td>\n",
       "      <td>4.695153</td>\n",
       "    </tr>\n",
       "    <tr>\n",
       "      <th>2276</th>\n",
       "      <td>serU</td>\n",
       "      <td>3.022674</td>\n",
       "      <td>2.939124</td>\n",
       "      <td>3.130691</td>\n",
       "      <td>1.558518</td>\n",
       "      <td>1.646716</td>\n",
       "      <td>1.690550</td>\n",
       "      <td>1.250627</td>\n",
       "      <td>1.581476</td>\n",
       "      <td>1.786974</td>\n",
       "      <td>...</td>\n",
       "      <td>2.841486</td>\n",
       "      <td>1.429495</td>\n",
       "      <td>2.652080</td>\n",
       "      <td>1.624323</td>\n",
       "      <td>1.693009</td>\n",
       "      <td>1.691446</td>\n",
       "      <td>2.892283</td>\n",
       "      <td>2.782318</td>\n",
       "      <td>2.313878</td>\n",
       "      <td>2.940866</td>\n",
       "    </tr>\n",
       "    <tr>\n",
       "      <th>4286</th>\n",
       "      <td>yodB</td>\n",
       "      <td>4.678731</td>\n",
       "      <td>4.670634</td>\n",
       "      <td>4.714923</td>\n",
       "      <td>1.593945</td>\n",
       "      <td>2.115288</td>\n",
       "      <td>1.518068</td>\n",
       "      <td>1.549497</td>\n",
       "      <td>1.825058</td>\n",
       "      <td>2.725969</td>\n",
       "      <td>...</td>\n",
       "      <td>4.427224</td>\n",
       "      <td>1.681780</td>\n",
       "      <td>4.210672</td>\n",
       "      <td>1.698021</td>\n",
       "      <td>1.789033</td>\n",
       "      <td>2.106388</td>\n",
       "      <td>4.495029</td>\n",
       "      <td>4.275344</td>\n",
       "      <td>3.400194</td>\n",
       "      <td>4.261676</td>\n",
       "    </tr>\n",
       "  </tbody>\n",
       "</table>\n",
       "<p>4466 rows × 125 columns</p>\n",
       "</div>"
      ],
      "text/plain": [
       "     gene_id  Parent_replicate1  Parent_replicate2  Parent_replicate3  \\\n",
       "1281    kdpF           0.957432           1.051754           0.799222   \n",
       "2424    thiC           1.374374           1.461510           1.435003   \n",
       "2426    thiE           1.644415           1.617800           1.595423   \n",
       "2456    tnaB           1.164081           1.267826           1.374374   \n",
       "3597    ygaY           1.704639           1.681039           1.582408   \n",
       "...      ...                ...                ...                ...   \n",
       "2634    xylB           1.950199           1.970070           2.024819   \n",
       "1773    pfkB           2.649123           2.609813           2.665436   \n",
       "4459    znuC           4.630019           4.630019           4.695153   \n",
       "2276    serU           3.022674           2.939124           3.130691   \n",
       "4286    yodB           4.678731           4.670634           4.714923   \n",
       "\n",
       "        P_NaCl     P_KCl      P_Co   P_SoCar     P_Lac     P_Mal  ...  \\\n",
       "1281  2.456309  0.994012  1.776002  0.861017  1.259539  1.589559  ...   \n",
       "2424  2.790718  2.140124  1.647559  1.759285  1.525931  1.281743  ...   \n",
       "2426  3.077589  2.422097  1.877849  2.025810  1.752811  1.675798  ...   \n",
       "2456  2.373460  1.477557  1.204007  1.059174  1.662314  1.020382  ...   \n",
       "3597  3.063054  2.968620  2.037092  2.453727  2.152173  2.237927  ...   \n",
       "...        ...       ...       ...       ...       ...       ...  ...   \n",
       "2634  1.296491  1.328608  1.655673  1.278955  2.822272  2.414993  ...   \n",
       "1773  1.693009  1.869521  2.666011  2.039641  2.335915  2.233470  ...   \n",
       "4459  2.953263  3.179441  2.867457  2.716297  3.013608  3.689238  ...   \n",
       "2276  1.558518  1.646716  1.690550  1.250627  1.581476  1.786974  ...   \n",
       "4286  1.593945  2.115288  1.518068  1.549497  1.825058  2.725969  ...   \n",
       "\n",
       "       BuOH1_S   BuOH2_S   BuOH3_S   BuOH4_S   BuOH5_S    CPC1_S    CPC2_S  \\\n",
       "1281  0.806693  0.761083  0.775282  0.928758  0.782602  1.203230  0.794336   \n",
       "2424  2.352245  2.572021  2.406101  2.436446  2.712741  1.398773  1.338533   \n",
       "2426  2.594852  2.827982  2.634024  2.696574  2.998708  1.584882  1.527510   \n",
       "2456  1.342623  1.381784  1.351107  1.804496  1.389750  1.112660  1.193639   \n",
       "3597  1.959806  1.970070  1.885148  1.973783  1.930201  1.763589  1.618635   \n",
       "...        ...       ...       ...       ...       ...       ...       ...   \n",
       "2634  1.421376  1.659015  1.696132  1.630339  1.711218  2.895786  2.481158   \n",
       "1773  2.499898  2.457583  2.518857  2.403200  2.499228  2.395470  2.550223   \n",
       "4459  4.451010  2.876743  4.454109  2.894816  2.982333  3.334461  4.630019   \n",
       "2276  2.841486  1.429495  2.652080  1.624323  1.693009  1.691446  2.892283   \n",
       "4286  4.427224  1.681780  4.210672  1.698021  1.789033  2.106388  4.495029   \n",
       "\n",
       "        CPC3_S    CPC4_S    CPC5_S  \n",
       "1281  0.812139  1.168332  1.187458  \n",
       "2424  1.528405  1.356744  1.327078  \n",
       "2426  1.779675  1.526814  1.547157  \n",
       "2456  1.293827  1.440254  1.476008  \n",
       "3597  1.672586  1.813288  1.791640  \n",
       "...        ...       ...       ...  \n",
       "2634  2.087654  1.878748  1.927464  \n",
       "1773  2.532993  2.803962  2.824413  \n",
       "4459  4.591646  4.127130  4.695153  \n",
       "2276  2.782318  2.313878  2.940866  \n",
       "4286  4.275344  3.400194  4.261676  \n",
       "\n",
       "[4466 rows x 125 columns]"
      ]
     },
     "execution_count": 19,
     "metadata": {},
     "output_type": "execute_result"
    }
   ],
   "source": [
    "df_ge.iloc[sort_idxs_ratio]"
   ]
  }
 ],
 "metadata": {
  "colab": {
   "provenance": []
  },
  "kernelspec": {
   "display_name": "biosc1540-2024s-dev",
   "language": "python",
   "name": "python3"
  },
  "language_info": {
   "codemirror_mode": {
    "name": "ipython",
    "version": 3
   },
   "file_extension": ".py",
   "mimetype": "text/x-python",
   "name": "python",
   "nbconvert_exporter": "python",
   "pygments_lexer": "ipython3",
   "version": "3.11.7"
  }
 },
 "nbformat": 4,
 "nbformat_minor": 0
}
