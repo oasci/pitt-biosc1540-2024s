{
 "cells": [
  {
   "cell_type": "markdown",
   "metadata": {},
   "source": [
    "# Lecture 15\n",
    "\n",
    "## Readings\n",
    "\n",
    "Relevant content for today's lecture: none!\n",
    "Today we are exploring how to analyze gene expression data in Python."
   ]
  },
  {
   "cell_type": "code",
   "execution_count": 1,
   "metadata": {},
   "outputs": [],
   "source": [
    "# DO NOT MODIFY CODE BELOW THIS LINE.\n",
    "import numpy as np\n",
    "import pandas as pd\n",
    "\n",
    "GE_CSV_PATH = \"https://gitlab.com/oasci/courses/pitt/biosc1540-2024s/-/raw/main/large-files/ecoli-transcriptome-cell.stress.csv\"\n",
    "df_ge = pd.read_csv(GE_CSV_PATH)\n",
    "gene_names = df_ge[\"gene_id\"].to_numpy()\n",
    "n_genes = len(df_ge)\n",
    "\n",
    "\n",
    "def select_stress(df, stress):\n",
    "    columns_control_ns = [\n",
    "        \"gene_id\",\n",
    "        \"Parent_replicate1\",\n",
    "        \"Parent_replicate2\",\n",
    "        \"Parent_replicate3\",\n",
    "    ]\n",
    "    columns_control_s = [\"gene_id\", \"P_\" + stress]\n",
    "    columns_resistant_ns = [\"gene_id\"]\n",
    "    columns_resistant_ns.extend([c for c in df.columns if stress in c and \"_NS\" in c])\n",
    "    columns_resistant_s = [\"gene_id\"]\n",
    "    columns_resistant_s.extend([c for c in df.columns if stress in c and \"_S\" in c])\n",
    "    return (\n",
    "        df[columns_control_ns],\n",
    "        df[columns_control_s],\n",
    "        df[columns_resistant_ns],\n",
    "        df[columns_resistant_s],\n",
    "    )"
   ]
  },
  {
   "cell_type": "code",
   "execution_count": null,
   "metadata": {},
   "outputs": [],
   "source": []
  },
  {
   "cell_type": "code",
   "execution_count": null,
   "metadata": {},
   "outputs": [],
   "source": []
  },
  {
   "cell_type": "code",
   "execution_count": null,
   "metadata": {},
   "outputs": [],
   "source": []
  }
 ],
 "metadata": {
  "kernelspec": {
   "display_name": "biosc1540-2024s-dev",
   "language": "python",
   "name": "python3"
  },
  "language_info": {
   "codemirror_mode": {
    "name": "ipython",
    "version": 3
   },
   "file_extension": ".py",
   "mimetype": "text/x-python",
   "name": "python",
   "nbconvert_exporter": "python",
   "pygments_lexer": "ipython3",
   "version": "3.11.7"
  }
 },
 "nbformat": 4,
 "nbformat_minor": 2
}
