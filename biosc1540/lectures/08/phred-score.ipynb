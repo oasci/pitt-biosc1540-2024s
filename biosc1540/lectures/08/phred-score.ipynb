{
 "cells": [
  {
   "cell_type": "markdown",
   "metadata": {},
   "source": [
    "# Phred scores\n"
   ]
  },
  {
   "cell_type": "code",
   "execution_count": 3,
   "metadata": {},
   "outputs": [],
   "source": [
    "from Bio import SeqIO\n",
    "import numpy as np\n",
    "\n",
    "\n",
    "def phred_score(char):\n",
    "    \"\"\"Convert ASCII character to Phred score.\"\"\"\n",
    "    return ord(char) - 33\n",
    "\n",
    "\n",
    "def compute_phred_scores(seq):\n",
    "    \"\"\"Compute Phred scores from a FASTQ file using Biopython.\"\"\"\n",
    "    phred_scores = []\n",
    "\n",
    "    for record in seq:\n",
    "        quality_line = record.letter_annotations[\"phred_quality\"]\n",
    "        phred_scores.extend(quality_line)\n",
    "    phred_scores = np.array(phred_scores)\n",
    "\n",
    "    return phred_scores"
   ]
  },
  {
   "cell_type": "code",
   "execution_count": 8,
   "metadata": {},
   "outputs": [],
   "source": [
    "import io\n",
    "from urllib.request import urlopen\n",
    "\n",
    "\n",
    "def get_seq(url):\n",
    "    with urlopen(url) as response:\n",
    "        with response as file:\n",
    "            return SeqIO.parse(io.StringIO(response.read().decode(\"utf-8\")), \"fastq\")"
   ]
  },
  {
   "cell_type": "code",
   "execution_count": 9,
   "metadata": {},
   "outputs": [
    {
     "name": "stdout",
     "output_type": "stream",
     "text": [
      "First 10 Phred scores: [12 23 23 32 34 32 36 36 36 34]\n"
     ]
    }
   ],
   "source": [
    "fastq_file_path = \"https://gitlab.com/oasci/courses/pitt/biosc1540-2024s/-/raw/main/biosc1540/files/fastq/SRR25437009-sample.fastq\"\n",
    "\n",
    "seq = get_seq(fastq_file_path)\n",
    "\n",
    "phred_scores = compute_phred_scores(seq)\n",
    "\n",
    "# Print the first 10 Phred scores as an example\n",
    "print(\"First 10 Phred scores:\", phred_scores[:10])"
   ]
  }
 ],
 "metadata": {
  "kernelspec": {
   "display_name": "biosc1540-2024s-dev",
   "language": "python",
   "name": "python3"
  },
  "language_info": {
   "codemirror_mode": {
    "name": "ipython",
    "version": 3
   },
   "file_extension": ".py",
   "mimetype": "text/x-python",
   "name": "python",
   "nbconvert_exporter": "python",
   "pygments_lexer": "ipython3",
   "version": "3.11.7"
  }
 },
 "nbformat": 4,
 "nbformat_minor": 2
}
