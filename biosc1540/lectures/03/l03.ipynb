{
 "cells": [
  {
   "cell_type": "markdown",
   "metadata": {},
   "source": [
    "# L03 notebook\n",
    "\n",
    "In this programming session, we will focus on the practical application of Python programming concepts in the context of biological data analysis.\n",
    "The task involves creating a Python program capable of managing a dataset containing DNA sequences, sequence lengths, and organism names.\n",
    "Throughout the session, we will cover fundamental Python elements, including variables, lists, dictionaries, conditional logic, loops, and functions.\n",
    "The goal is to provide students with a solid understanding of how to utilize programming for the systematic analysis of biological datasets."
   ]
  },
  {
   "cell_type": "markdown",
   "metadata": {},
   "source": [
    "## Variables\n",
    "\n",
    "In the initial phase of this coding activity, your first task is to declare variables that will serve as placeholders for essential biological data.\n",
    "Specifically, we need variables to represent DNA sequences, sequence lengths, and organism names.\n",
    "This step is crucial for initializing the foundation of our program.\n",
    "\n",
    "### DNA sequences\n",
    "\n",
    "Declare a variable to store three DNA sequences in a variable called `dna_sequences`.\n",
    "These sequences are strings composed of nucleotide bases (`A`, `T`, `C`, `G`) and will be the focal point of our biological data.\n",
    "Feel free to make these different lengths!"
   ]
  },
  {
   "cell_type": "code",
   "execution_count": null,
   "metadata": {},
   "outputs": [],
   "source": []
  },
  {
   "cell_type": "markdown",
   "metadata": {},
   "source": [
    "<div class=\"admonition tip\">\n",
    "    <p class=\"admonition-title\">Hint</p>\n",
    "    <p style=\"padding-top: 1em\">\n",
    "        <code>dna_sequences</code> should be a collection.\n",
    "    </p>\n",
    "</div>"
   ]
  },
  {
   "cell_type": "markdown",
   "metadata": {},
   "source": [
    "### Sequence Lengths\n",
    "\n",
    "Create another variable called `sequence_lengths` to store the corresponding lengths of the DNA sequences.\n",
    "The lengths will be integers representing the number of bases in each sequence."
   ]
  },
  {
   "cell_type": "code",
   "execution_count": null,
   "metadata": {},
   "outputs": [],
   "source": []
  },
  {
   "cell_type": "markdown",
   "metadata": {},
   "source": [
    "<div class=\"admonition tip\">\n",
    "    <p class=\"admonition-title\">Hint</p>\n",
    "    <p style=\"padding-top: 1em\">\n",
    "        You should <b>loop</b> over <code>dna_sequences</code> and add the length to <code>sequence_lengths</code>.\n",
    "    </p>\n",
    "</div>"
   ]
  },
  {
   "cell_type": "markdown",
   "metadata": {},
   "source": [
    "### Organism names\n",
    "\n",
    "Lastly, declare a variable called `organism_names` to store the names of the organisms associated with each DNA sequence.\n",
    "These names will provide context to the biological data."
   ]
  },
  {
   "cell_type": "code",
   "execution_count": null,
   "metadata": {},
   "outputs": [],
   "source": []
  },
  {
   "cell_type": "markdown",
   "metadata": {},
   "source": [
    "<div class=\"admonition tip\">\n",
    "    <p class=\"admonition-title\">Hint</p>\n",
    "    <p style=\"padding-top: 1em\">\n",
    "        You should manually name them anything you would like.\n",
    "    </p>\n",
    "</div>"
   ]
  },
  {
   "cell_type": "markdown",
   "metadata": {},
   "source": [
    "## Collecting the data\n",
    "\n",
    "Now that we have our variables representing biological data, the next step involves organizing and managing this information systematically.\n",
    "To achieve this, we will use a dictionary&mdash;a powerful data structure in Python."
   ]
  },
  {
   "cell_type": "markdown",
   "metadata": {},
   "source": [
    "### Create a DNA Data Dictionary\n",
    "\n",
    "Introduce a dictionary named `dna_data` to comprehensively store information about each DNA sequence.\n",
    "This dictionary will serve as a centralized repository, associating each sequence with its length and the respective organism.\n",
    "\n",
    "Start with an empty dictionary, and then iterate over  `organism_names`, `dna_sequences`, and `sequence_lengths` using only one `for` loop.\n",
    "Each dictionary key should be exactly one name, and each value should be another dictionary with keys `sequence` and `length` with their respective data."
   ]
  },
  {
   "cell_type": "code",
   "execution_count": null,
   "metadata": {},
   "outputs": [],
   "source": []
  },
  {
   "cell_type": "markdown",
   "metadata": {},
   "source": [
    "<div class=\"admonition tip\">\n",
    "    <p class=\"admonition-title\">Hint</p>\n",
    "    <p style=\"padding-top: 1em\">\n",
    "        You can also loop over the index of each element in the list.\n",
    "    </p>\n",
    "</div>"
   ]
  },
  {
   "cell_type": "markdown",
   "metadata": {},
   "source": [
    "### Get DNA information\n",
    "\n",
    "Retrieve the sequence from one of your organisms using one of your keys and print it."
   ]
  },
  {
   "cell_type": "code",
   "execution_count": null,
   "metadata": {},
   "outputs": [],
   "source": []
  },
  {
   "cell_type": "markdown",
   "metadata": {},
   "source": [
    "### Fix a correction\n",
    "\n",
    "Whoops, you forgot to add `ATTGTGC` to the end of one of your sequences.\n",
    "Fix the sequence and update the length."
   ]
  },
  {
   "cell_type": "code",
   "execution_count": null,
   "metadata": {},
   "outputs": [],
   "source": []
  },
  {
   "cell_type": "markdown",
   "metadata": {},
   "source": [
    "<div class=\"admonition tip\">\n",
    "    <p class=\"admonition-title\">Hint</p>\n",
    "    <p style=\"padding-top: 1em\">\n",
    "        Add the string `\"ATTGTGC\"` to one of your `sequence` keys and then recalculate the length.\n",
    "    </p>\n",
    "</div>"
   ]
  },
  {
   "cell_type": "markdown",
   "metadata": {},
   "source": [
    "## Short sequences only\n",
    "\n",
    "As we delve deeper into our biological data, it becomes essential to introduce conditional statements that allow us to make decisions based on specific criteria.\n",
    "In this section, we will implement if/else conditional logic to check if a DNA sequence exceeds a defined length threshold."
   ]
  },
  {
   "cell_type": "markdown",
   "metadata": {},
   "source": [
    "### Define the length threshold\n",
    "\n",
    "Start by defining a length threshold that serves as the criterion for our conditional check.\n",
    "This threshold will determine whether a DNA sequence is considered \"long\" or \"short.\""
   ]
  },
  {
   "cell_type": "code",
   "execution_count": null,
   "metadata": {},
   "outputs": [],
   "source": []
  },
  {
   "cell_type": "markdown",
   "metadata": {},
   "source": [
    "<div class=\"admonition tip\">\n",
    "    <p class=\"admonition-title\">Hint</p>\n",
    "    <p style=\"padding-top: 1em\">\n",
    "        All you need is to define an <code>int</code>.\n",
    "    </p>\n",
    "</div>"
   ]
  },
  {
   "cell_type": "markdown",
   "metadata": {},
   "source": [
    "### Implement Conditional Logic\n",
    "\n",
    "Utilize `if`/`else` statements to check each DNA sequence against the defined length threshold.\n",
    "In this example, we'll print whether each organism's DNA sequence is considered `\"long\"` or `\"short\"`."
   ]
  },
  {
   "cell_type": "code",
   "execution_count": null,
   "metadata": {},
   "outputs": [],
   "source": []
  },
  {
   "cell_type": "markdown",
   "metadata": {},
   "source": [
    "<div class=\"admonition tip\">\n",
    "    <p class=\"admonition-title\">Hint</p>\n",
    "    <p style=\"padding-top: 1em\">\n",
    "        You should <b>loop</b> over <code>dna_data</code> and print the <code>\"long\"</code> and <code>\"short</code>.\n",
    "    </p>\n",
    "</div>"
   ]
  },
  {
   "cell_type": "markdown",
   "metadata": {},
   "source": [
    "## Looping\n",
    "\n",
    "Utilize a `for` loop to iterate through each organism's DNA data.\n",
    "Print relevant information such as organism name, DNA sequence, and length for each iteration."
   ]
  },
  {
   "cell_type": "code",
   "execution_count": null,
   "metadata": {},
   "outputs": [],
   "source": []
  },
  {
   "cell_type": "markdown",
   "metadata": {},
   "source": [
    "## Let's get more realistic\n",
    "\n",
    "I am going to create a long random nucleotide sequence.\n",
    "Do not worry too much about understanding the cell directly below, but do not change."
   ]
  },
  {
   "cell_type": "code",
   "execution_count": 1,
   "metadata": {},
   "outputs": [
    {
     "name": "stdout",
     "output_type": "stream",
     "text": [
      "AGGATACAACCAGGGTAGGCGGGAGTAGTATTCGAAGATTTGAGTTATGTCAAACCAAATGAGATACGGAATTTTTAGTCTTCTATAGTTAACTACTGCAGATCGCCCTCATTTCGTCGTACTACCTCGAACTATCGCGGATTGTAAGATTACGATTTTCGGGGGATTAATCCCCGGCAGTGGATTAAGGTCAAAAACAAGAAACCGACACACATATTGCGATATCCTGAGCGCTGCGCTTGAATCATCCCTCTTAGGACGAGAATCAGGAACAATTGGGATCTTGCCGATGGGAATGGCTGTAACGGCGCCACCGGGAATGAACTTAGAACCTCAAAGTGAGCTCTCATCCGGTAACTACGGCTGGGCGCTAGTGGTTCGATTGGACACGATGGCATAGTCAGTTGGAGAAAATCGAACTGAACCTAATCTGGTAAAGTAAGGTCCCACTTCATTGGTTCACCCCCGCGTTGGGTTTCACCAAGTTGTTTCCGATTAGGAGGTACATTATCATTTCCATCTTAGTGTGTTCAGCAGCACGTCTAAATAGGGCGTATACTGCCACGATCTCAACAGCAGTCGCTTAATCCGTGCTCGCCTGACGGTAGACTTTGGGACGACAGGGCATGACATTACAGGGGAGGATTCAAGTGTTCACTGAACAGATGAAGTGGATTTTGTGGAGTGGGCAGGCTAACATCTCAAATCTAGAGAGGCATGCACCGTGCTTCTGATTGACGAAGAGCAATGCTCCTGCCGTTGAATCCCCCCCACAATCGACGCGTCACGCACGGTCTGCTTTGCAAGTCGAGTATCTAGCACTACAGCACACGCCCCTAGCGTCGCACGTGAGTCTACCCTTACACAGTTGATGAACCGTCCGTACAGCGGTCGCGCAAGCTCATCGCAAAAGGGTTAGATTCCCGTAGGCGATGCACGGCCACTAGCTCACAAAGTAGTTTCTAGCCACGGAACAATCATCCGATTATATTTTCACAAG\n"
     ]
    }
   ],
   "source": [
    "import random\n",
    "\n",
    "random.seed(8793624980237)\n",
    "\n",
    "bases = [\"A\", \"T\", \"C\", \"G\"]\n",
    "\n",
    "\n",
    "def generate_realistic_sequence(length):\n",
    "    global bases\n",
    "    return \"\".join(random.choice(bases) for _ in range(length))\n",
    "\n",
    "\n",
    "realistic_sequence = generate_realistic_sequence(1000)\n",
    "print(realistic_sequence)"
   ]
  },
  {
   "cell_type": "markdown",
   "metadata": {},
   "source": [
    "### Nucleotide counts\n",
    "\n",
    "Create a function called `nucleotide_counts` to count the occurrences of each nucleotide (A, T, C, G) in a DNA sequence.\n",
    "\n",
    "This should take in a sequence and return a dictionary where they keys are the nucleotides with the values being the counts."
   ]
  },
  {
   "cell_type": "code",
   "execution_count": null,
   "metadata": {},
   "outputs": [],
   "source": []
  },
  {
   "cell_type": "markdown",
   "metadata": {},
   "source": [
    "### GC Content Calculation\n",
    "\n",
    "Define a function called `gc_content` to calculate the GC content of a DNA sequence.\n",
    "GC content represents the percentage of bases in a DNA sequence that are either Guanine (G) or Cytosine (C).\n",
    "\n",
    "This should take in a sequence and then return a float of GC content."
   ]
  },
  {
   "cell_type": "code",
   "execution_count": null,
   "metadata": {},
   "outputs": [],
   "source": []
  },
  {
   "cell_type": "markdown",
   "metadata": {},
   "source": [
    "### Reverse Complement\n",
    "\n",
    "Create a function called `reverse_complement` to find the reverse complement of a DNA sequence.\n",
    "The reverse complement is formed by reversing the sequence and replacing each base with its complementary base (A with T, C with G, and vice versa).\n",
    "\n",
    "This should take in a sequence and then return a string of the reverse complement."
   ]
  },
  {
   "cell_type": "code",
   "execution_count": null,
   "metadata": {},
   "outputs": [],
   "source": []
  }
 ],
 "metadata": {
  "kernelspec": {
   "display_name": "biosc1540-2024s-dev",
   "language": "python",
   "name": "python3"
  },
  "language_info": {
   "codemirror_mode": {
    "name": "ipython",
    "version": 3
   },
   "file_extension": ".py",
   "mimetype": "text/x-python",
   "name": "python",
   "nbconvert_exporter": "python",
   "pygments_lexer": "ipython3",
   "version": "3.11.7"
  }
 },
 "nbformat": 4,
 "nbformat_minor": 2
}
