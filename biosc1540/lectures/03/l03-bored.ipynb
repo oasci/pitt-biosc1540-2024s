{
 "cells": [
  {
   "cell_type": "markdown",
   "metadata": {},
   "source": [
    "# L03 notebook - Bored edition\n",
    "\n",
    "Okay, I know this may be review for some of you; however, I have to make sure everyone is up to speed.\n",
    "If you would prefer to work on more complicated problem: here you go."
   ]
  },
  {
   "cell_type": "markdown",
   "metadata": {},
   "source": [
    "## Setup\n",
    "\n",
    "I am going to generate a sequence of DNA with random order and length."
   ]
  },
  {
   "cell_type": "code",
   "execution_count": 1,
   "metadata": {},
   "outputs": [],
   "source": [
    "import random\n",
    "\n",
    "\n",
    "# This makes sure I get the same sequence every time.\n",
    "random.seed(8793624980237)\n",
    "\n",
    "bases = [\"A\", \"T\", \"C\", \"G\"]\n",
    "\n",
    "\n",
    "def get_sequence(length):\n",
    "    global bases\n",
    "    return \"\".join(random.choice(bases) for _ in range(length))\n",
    "\n",
    "\n",
    "sequence = get_sequence(int(random.uniform(1111111, 9999999)) * 3)\n",
    "# Don't try to print this; it's not worth it."
   ]
  },
  {
   "cell_type": "markdown",
   "metadata": {},
   "source": [
    "Now I am going to make a random number of mutations."
   ]
  },
  {
   "cell_type": "code",
   "execution_count": 2,
   "metadata": {},
   "outputs": [],
   "source": [
    "def randomly_mutate_sequence(original_sequence, mutation_rate=0.1):\n",
    "    mutated_sequence = list(original_sequence)\n",
    "\n",
    "    for i in range(len(mutated_sequence)):\n",
    "        if random.random() < mutation_rate:\n",
    "            # Introduce a random mutation (replace the base with a different one)\n",
    "            mutated_sequence[i] = random.choice([\"A\", \"T\", \"C\", \"G\"])\n",
    "\n",
    "    return \"\".join(mutated_sequence)\n",
    "\n",
    "\n",
    "mutated_sequence = randomly_mutate_sequence(sequence)"
   ]
  },
  {
   "cell_type": "markdown",
   "metadata": {},
   "source": [
    "## Questions\n",
    "\n",
    "-   How many many DNA mutations are there?\n",
    "-   Where are these DNA mutations?\n",
    "-   Does the polypeptide change? If so, where?\n",
    "\n",
    "Happy coding!"
   ]
  },
  {
   "cell_type": "code",
   "execution_count": null,
   "metadata": {},
   "outputs": [],
   "source": []
  }
 ],
 "metadata": {
  "kernelspec": {
   "display_name": "biosc1540-2024s-dev",
   "language": "python",
   "name": "python3"
  },
  "language_info": {
   "codemirror_mode": {
    "name": "ipython",
    "version": 3
   },
   "file_extension": ".py",
   "mimetype": "text/x-python",
   "name": "python",
   "nbconvert_exporter": "python",
   "pygments_lexer": "ipython3",
   "version": "3.11.7"
  }
 },
 "nbformat": 4,
 "nbformat_minor": 2
}
