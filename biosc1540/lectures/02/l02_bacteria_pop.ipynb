{
 "cells": [
  {
   "cell_type": "markdown",
   "metadata": {},
   "source": [
    "# Lecture 02\n",
    "\n",
    "**Date:** Jan 11, 2024\n",
    "\n",
    "## Learning objectives\n",
    "\n",
    "What you should be able to do after today's lecture.\n",
    "\n",
    "1.  🐍 Define key programming concepts of variables, data types, conditionals, functions, and loops.\n",
    "2.  🐍 Implement `if`/`else` conditional logic to control program flow.\n",
    "3.  🐍 Utilize `for` loops to iterate through data programmatically.\n",
    "4.  🐍 Write basic Python code using foundational building blocks.\n",
    "\n",
    "## Readings\n",
    "\n",
    "Relevant content for today's lecture.\n",
    "\n",
    "-   [Python basics](../../../modules/intro/python-basics/)\n"
   ]
  },
  {
   "cell_type": "markdown",
   "metadata": {},
   "source": [
    "## Computing bacteria concentration\n",
    "\n",
    "Understanding bacterial growth dynamics is an essential skill in microbiology.\n",
    "When conducting experiments, researchers need to be able to accurately predict how bacterial populations will expand over time.\n",
    "In this exercise, we will use Python programming to model the growth curve of a hypothetical bacteria sample.\n",
    "\n",
    "You may not import any module except for `math`."
   ]
  },
  {
   "cell_type": "code",
   "execution_count": null,
   "metadata": {},
   "outputs": [],
   "source": [
    "import math"
   ]
  },
  {
   "cell_type": "markdown",
   "metadata": {},
   "source": [
    "## Concentration measurement\n",
    "\n",
    "A fast way to estimate cell amounts uses light blockage through liquid cultures.\n",
    "Cells suspended in growth media stop some light from going straight through.\n",
    "By measuring how much less light passes through a sample, scientists can calculate roughly how many cells are there.\n",
    "\n",
    "They use a tool called a spectrometer to compare light levels going into versus coming out the other side of a culture tube.\n",
    "More cells in the tube block more light, making less get through.\n",
    "The relationship allows converting light blockage into cell density.\n",
    "\n",
    "Two things make cells block light: absorbing photons or scattering them in different directions.\n",
    "As cultures grow dense with many cells, very little light emerges out the back end.\n",
    "By comparing to known densities that give certain light block levels, new readings can quickly estimate actual cells present without needing to visually count every single one under a microscope.\n",
    "\n",
    "This simple trick works as an easy proxy for direct cell counts as long as no other floating particles or chemicals interfere with the light absorption.\n",
    "\n",
    "### Calibration\n",
    "\n",
    "You perform some experiments to calibrate your spectrophotometer by measuring adsorption at 600 nm.\n",
    "The reference cell mass is computed by centrifuging the sample, washing with a buffer solution, drying the wet cell mass at 80 centigrade for 24 hours, and then recording the mass.\n",
    "You use polynomial regression in Excel and come up with the following expression to predict *E. coli* concentration in cells/mL from Optical Density (OD).\n",
    "\n",
    "$$\n",
    "X = 3.3 \\times 10^8 OD^4 - 2.1 \\times 10^8 OD^3 + 4.9 \\times 10^8 OD^2 + 8.3 \\times 10^8 OD + 4.2 \\times 10^4\n",
    "$$\n",
    "\n",
    "Now that you have this calibration, you want to automate the conversion of $OD$ to $X$ using Python.\n",
    "You want to set up a function that, when given a list of $OD$ values, it returns the values of $X$ in the same order.\n",
    "\n",
    "Write your function below."
   ]
  },
  {
   "cell_type": "code",
   "execution_count": null,
   "metadata": {},
   "outputs": [],
   "source": [
    "def od_converter(od_values):\n",
    "    # TODO: write your function body using a for loop and .append\n",
    "    return x_values"
   ]
  },
  {
   "cell_type": "markdown",
   "metadata": {},
   "source": [
    "<div class=\"admonition tip\">\n",
    "    <p class=\"admonition-title\">Hint</p>\n",
    "    <p style=\"padding-top: 1em\">\n",
    "        <code>od_values</code> will be a list, and <code>x_values</code> should be a list, so we should loop through the values.\n",
    "    </p>\n",
    "</div>"
   ]
  },
  {
   "cell_type": "markdown",
   "metadata": {},
   "source": [
    "Now that we have our function, let's make a table with some example data.\n",
    "\n",
    "| Optical density | Cell concentration |\n",
    "| --------------- | ------------------ |\n",
    "| 0.1 |  |\n",
    "| 0.2 |  |\n",
    "| 0.3 |  |\n",
    "| 0.4 |  |\n",
    "| 0.5 |  |\n",
    "| 1.0 |  |\n",
    "| 5.0 |  |\n",
    "| 10.0 |  |\n",
    "| 20.0 |  |\n",
    "\n",
    "Write Python code below that will allow you to fill in this table by printing each $X$ in cell/mL in scientific notation.\n",
    "You can print a number in Python in scientific notation using the following format.\n",
    "\n",
    "```python\n",
    "x = 347382929482912\n",
    "print(f\"{x:.2e} cells/mL\")\n",
    "```\n",
    "\n",
    "This would print `3.47e+14 cells/mL`."
   ]
  },
  {
   "cell_type": "code",
   "execution_count": null,
   "metadata": {},
   "outputs": [],
   "source": [
    "# TODO: Write your Python here"
   ]
  },
  {
   "cell_type": "markdown",
   "metadata": {},
   "source": [
    "## The no sampling way\n",
    "\n",
    "Okay, now we can compute the concentration of *E. coli*; however, it is so tedious to have to measure the OD.\n",
    "If only I could compute the concentration just based on time.\n",
    "\n",
    "Oh, that is right!\n",
    "We can model the growth phase of bacteria cultures using a standard growth curve.\n",
    "\n",
    "![Bacterial growth curve](https://app.jove.com/files/ftp_upload/10511/10511fig1.jpg)\n",
    "\n",
    "If we have mathematical expressions to model each growth phase, we could directly predict the cell concentration.\n",
    "\n",
    "### Growth phases\n",
    "\n",
    "When a liquid nutrient medium is inoculated with a seed culture, the organisms selectively take up dissolved nutrients from the medium and convert them into biomass.\n",
    "A typical batch growth curve includes the following phases.\n",
    "\n",
    "#### Lag\n",
    "\n",
    "Upon introduction into a new environment, a preliminary period transpires in which microbes acclimate to the unfamiliar conditions while refraining from proliferation.\n",
    "During this transitional phase, the microorganisms reconfigure their internal molecular machinery to align with the alternate medium.\n",
    "Adapting to the changed nutritional profile necessitates recommencing the synthesis of certain beneficial enzymes, halting production of now redundant enzymes, and reshaping the overall intracellular structures to optimize fitness for the surrounding habitat.\n",
    "By undertaking these initial modifications, the microbes ready themselves for subsequent replication once the adjustments conclude.\n",
    "Thus, though no population expansion arises throughout the duration, this preliminary acclimatization stage facilitates future success and expansion under the new environmental parameters.\n",
    "\n",
    "For this exercise, let's assume that the cells stay in lag phase for `1` hour after inoculation.\n",
    "\n",
    "#### Exponential\n",
    "\n",
    "After the initial adjustment phase, microorganisms can rapidly divide without limits once they adapt to the surroundings.\n",
    "When environmental factors no longer restrict them, uncontrolled replication occurs, leading to a significant increase in both cell count and overall biomass over time.\n",
    "During this growth, the cellular components maintain a consistent composition, indicating a balanced and synchronized growth process.\n",
    "The proliferation is independent of nutrient density, as intrinsic factors become more influential than extrinsic ones when there is an abundance of nutrients in the environment.\n",
    "This period represents an optimal time for unrestricted, exponential cell multiplication, given that adaptation to external conditions has already taken place.\n",
    "The duration is determined by the prevention of inhibition caused by accumulating waste byproducts.\n",
    "\n",
    "The exponential growth rate is first order:\n",
    "\n",
    "$$\n",
    "X = X_0 \\exp \\left( \\mu_\\text{net}t_\\text{delta} \\right)\n",
    "$$\n",
    "\n",
    "where $X$ is the **number** of cells, $t_\\text{delta}$ is the amount of exponential time, and $\\mu_\\text{net}$ is the net specific growth rate in h<sup>-1</sup>.\n",
    "We can integrate this equation to get an expression for $X$ with respect to initial number of cells $X_0$.\n",
    "\n",
    "For this exercise, let's assume that the cells are in exponential growth phase from hours `1` to `7`.\n",
    "\n",
    "Write a function called `exp_growth` that computes $X$ from the expression above with the following parameters: `X0`, `mu_net`, `t_delta`.\n",
    "Have `mu_net` be a keyword argument to the function and set it to `1.0`."
   ]
  },
  {
   "cell_type": "code",
   "execution_count": null,
   "metadata": {},
   "outputs": [],
   "source": [
    "def exp_growth(x0, t_delta, mu_net=1.0):\n",
    "    x = x0 * math.exp(mu_net * t_delta)\n",
    "    return x"
   ]
  },
  {
   "cell_type": "markdown",
   "metadata": {},
   "source": [
    "<div class=\"admonition tip\">\n",
    "    <p class=\"admonition-title\">Hint</p>\n",
    "    <p style=\"padding-top: 1em\">\n",
    "        <code>x0</code> is a float, <code>t_delta</code> is a float, and <code>mu_net</code> is an optional float. Thus, we should return a float.\n",
    "    </p>\n",
    "</div>"
   ]
  },
  {
   "cell_type": "markdown",
   "metadata": {},
   "source": [
    "#### Deceleration\n",
    "\n",
    "The exponential proliferation phase eventually subsides once particular inhibiting factors emerge.\n",
    "Two principal limitations can end unchecked growth: vital nutrient scarcity from excessive consumption, or accumulation of toxic metabolites as byproducts.\n",
    "The collective deprivation rapidly produces profound effects, inducing an abrupt log-to-lag transition due to escalating stresses.\n",
    "\n",
    "Starved of specific necessities or poisoned by self-created waste, uniform expansion halts.\n",
    "Internal equilibrium now fails as some biomolecules become unavailable but others overproduced and unequally distributed.\n",
    "External changes outpacing internal adaptation capacities causes this imbalance.\n",
    "\n",
    "Initially evolutionarily geared purely for rapid reproductive success when resources abounded, the abrupt insufficiency requires radical internal realignment for basic survival.\n",
    "Reshuffling priorities, cell physiology and structure modify to sustain viability just long enough to transmit some genetic material through the succession of generations progressing towards a dormant state.\n",
    "Thus stressed lineages prioritize longevity probabilities over immediate doubling rates.\n",
    "\n",
    "For this exercise, let's assume that the deceleration happens between hours `7` and `8` with no change in cell concentration.\n",
    "\n",
    "#### Stationary\n",
    "\n",
    "After the decline phase is over, the culture enters a steady plateau with negligible new growth.\n",
    "This lack of expansion arises because cell births match cell deaths. But just because overall numbers don't rise doesn't mean cells are fully inactive. They continue showing metabolic function and producing specialized chemicals.\n",
    "\n",
    "Typically, younger cells build so-called \"primary\" compounds directly needed for copying themselves.\n",
    "But now that multiplication has ceased, older cells switch to converting available resources into unrelated “secondary” compounds instead.\n",
    "Certain secondary metabolites defend against competitors (like antibiotics) or coordinate community behaviors (like signals), possibly ensuring group survival.\n",
    "This helps explain why plates produce more antibiotics and hormones than exponentially multiplying batches would.\n",
    "\n",
    "The takeaway is these plateau communities downregulate the growth machinery to focus on protective and structural investments rather than pure expansion of more cells in what could become an over-crowded niche.\n",
    "So it’s not quite dormancy so much as extreme culture age signifying the final shifts to supportive group behaviors over competitive individualism.\n",
    "\n",
    "For this exercise, let's assume that the stationary phase occurs from hours `8` to `12`."
   ]
  },
  {
   "cell_type": "markdown",
   "metadata": {},
   "source": [
    "#### Death\n",
    "\n",
    "Eventually, cultures run out of resources and start dying off. It can be tricky to say exactly when the plateau phase ends and dying starts. Some cells die early while others are still alive and active.\n",
    "\n",
    "As cells run out of food and drown in their waste, they break open. This temporarily feeds remaining cells and extends the plateau phase a bit by recycling resources.\n",
    "\n",
    "But over time, dying speeds up across the whole culture.\n",
    "More cells die than new ones form as nutrients get too scarce and toxins too abundant.\n",
    "Things breakdown faster and faster once age and waste buildup pass critical tipping points.\n",
    "\n",
    "The relentless slow then rapid death march signals the final decline phase before all cells in the culture eventually perish, unable to sustain themselves.\n",
    "Only the hardiest spores can survive at this point, staying dormant until placed in fresh nutrients when the cycle starts anew.\n",
    "\n",
    "The rate of death usually follows first-order kinetics:\n",
    "\n",
    "$$\n",
    "\\frac{dX}{dt} = -k_d' X\n",
    "$$\n",
    "\n",
    "where $t$ is time and $k_d'$ is the first-order death-rate constant.\n",
    "We can integrate this expression in the same way as above and get\n",
    "\n",
    "$$\n",
    "X = X_s \\exp \\left( -k_d' t_\\text{delta} \\right)\n",
    "$$\n",
    "\n",
    "where $X_s$ is the concentration of cells at the end of the stationary phase.\n",
    "\n",
    "Write a function called `death_phase` that computes $X$ from the expression above with the following parameters: `Xs`, `t_delta`, and `kd`.\n",
    "Have `kd` be a keyword parameter to the function and set it to `0.5`."
   ]
  },
  {
   "cell_type": "code",
   "execution_count": null,
   "metadata": {},
   "outputs": [],
   "source": [
    "def death_phase(Xs, t_delta, kd=0.5):\n",
    "    X = Xs * math.exp(-kd * t_delta)\n",
    "    return X"
   ]
  },
  {
   "cell_type": "markdown",
   "metadata": {},
   "source": [
    "<div class=\"admonition tip\">\n",
    "    <p class=\"admonition-title\">Hint</p>\n",
    "    <p style=\"padding-top: 1em\">\n",
    "        <code>Xs</code> is a float, <code>t_delta</code> is a float, and <code>mu_net</code> is an optional float.\n",
    "        Thus, we should return a float.\n",
    "    </p>\n",
    "    <p>\n",
    "        This equation does not compute the <b>change</b> of cells, it returns the concentration at time <code>t</code>.\n",
    "    </p>\n",
    "</div>"
   ]
  },
  {
   "cell_type": "markdown",
   "metadata": {},
   "source": [
    "Now, write a function called `get_cell_conc` that computes the concentration of cells given a time `t` in hours and starting cell concentration `X0`.\n",
    "\n",
    "Your function should behave in the following way.\n",
    "\n",
    "-   When in the lag phase for one hour there is no growth, so your function should just return `X0`.\n",
    "-   If you are in the exponential growth phase, think about how many hours of exponential growth you will have at `t = 2`.\n",
    "    (Hint: `t_delta` is not `2`).\n",
    "-   Any time after the exponential growth phase, you will have to add the full amount of growth.\n",
    "    (Hint: it is not 7, and it is always a constant maximum value).\n",
    "-   You only need to recalculate `X` if we have entered the death phase when `t` is 12 or larger.\n",
    "    (Hint: `t_delta` should be less than `t`, but by how much?)\n",
    "\n",
    "Your function should have a couple `if` (and maybe `elif`) statements to control how your function runs is working."
   ]
  },
  {
   "cell_type": "code",
   "execution_count": null,
   "metadata": {},
   "outputs": [],
   "source": [
    "def get_cell_conc(X0, t):\n",
    "    X = X0\n",
    "    if t > 1:\n",
    "        # Write an if and else statement here to handle how many hours of exponential\n",
    "        # growth there is.\n",
    "    # You should not use exp_growth below this line.\n",
    "    if t > 12:\n",
    "        # use death_phase here\n",
    "    return X"
   ]
  },
  {
   "cell_type": "markdown",
   "metadata": {},
   "source": [
    "## Acknowledgements\n",
    "\n",
    "-   Data was used from [this paper](https://doi.org/10.1371/journal.pone.0276040)."
   ]
  }
 ],
 "metadata": {
  "kernelspec": {
   "display_name": "biosc1540-2024s-dev",
   "language": "python",
   "name": "python3"
  },
  "language_info": {
   "codemirror_mode": {
    "name": "ipython",
    "version": 3
   },
   "file_extension": ".py",
   "mimetype": "text/x-python",
   "name": "python",
   "nbconvert_exporter": "python",
   "pygments_lexer": "ipython3",
   "version": "3.11.7"
  }
 },
 "nbformat": 4,
 "nbformat_minor": 2
}
