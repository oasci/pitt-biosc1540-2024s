{
 "cells": [
  {
   "cell_type": "markdown",
   "metadata": {},
   "source": [
    "# Lecture 02\n",
    "\n",
    "## Learning objectives\n",
    "\n",
    "-   TODO:\n",
    "\n",
    "## Readings\n",
    "\n",
    "Relevant content for today's lecture.\n",
    "\n",
    "-   [Python basics](../../modules/python-ml/python-basics/)\n",
    "-   [Working with data](../../modules/python-ml/data/)\n",
    "-   [Plotting](../../modules/python-ml/plotting/)\n"
   ]
  }
 ],
 "metadata": {
  "kernelspec": {
   "display_name": "biosc1540-2024s-dev",
   "language": "python",
   "name": "python3"
  },
  "language_info": {
   "codemirror_mode": {
    "name": "ipython",
    "version": 3
   },
   "file_extension": ".py",
   "mimetype": "text/x-python",
   "name": "python",
   "nbconvert_exporter": "python",
   "pygments_lexer": "ipython3",
   "version": "3.11.7"
  }
 },
 "nbformat": 4,
 "nbformat_minor": 2
}
