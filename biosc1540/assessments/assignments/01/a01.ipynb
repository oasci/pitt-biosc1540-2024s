{
 "cells": [
  {
   "cell_type": "markdown",
   "metadata": {},
   "source": [
    "# Assignment 01\n",
    "\n",
    "**Due**: Jan 16 at 11:59 pm\n",
    "\n",
    "**Points**: 10\n",
    "\n",
    "This assignment is designed to give you practice with the basics of Python.\n",
    "\n",
    "## Notes\n",
    "\n",
    "I will use `None` as a placeholder for you remove and put your answers."
   ]
  },
  {
   "cell_type": "markdown",
   "metadata": {},
   "source": [
    "## Problem 1\n",
    "\n",
    "Change `\"Your message here!\"` to use a different message.\n",
    "For instance, you might like to change it to something like:\n",
    "\n",
    "- `print(\"Good morning!\")`\n",
    "- `print(\"I am learning how to code :D\")`\n",
    "\n",
    "Or, you might like to see what happens if you write something like `print(\"3+4\")`. \n",
    "Does it return 7, or does it just think of `\"3+4\"` as just another message?\n",
    "\n",
    "Make sure that your message is enclosed in quotation marks (`\"`), and the message itself does not use quotation marks.\n",
    "For instance, this will throw an error: `print(\"She said \"great job\" and gave me a high-five!\")` because the message contains quotation marks.\n",
    "\n",
    "Feel free to try out multiple messages!"
   ]
  },
  {
   "cell_type": "code",
   "execution_count": null,
   "metadata": {},
   "outputs": [],
   "source": [
    "print(\"Your message here!\")"
   ]
  },
  {
   "cell_type": "markdown",
   "metadata": {},
   "source": [
    "<div class=\"admonition quote\">\n",
    "    <p class=\"admonition-title\">Autograder</p>\n",
    "    <p style=\"padding-top: 1em\">\n",
    "        All the autograder is going to check for is that \"Your message here!\" is not printed.\n",
    "    </p>\n",
    "</div>"
   ]
  },
  {
   "cell_type": "markdown",
   "metadata": {},
   "source": [
    "## Problem 2\n",
    "\n",
    "A comment in Python has a pound sign (`#`) in front of it, which tells Python to ignore the text after it.\n",
    "\n",
    "Putting a pound sign in front of a line of code will make Python ignore that code.\n",
    "For instance, this line would be ignored by Python, and nothing would appear in the output:\n",
    "\n",
    "```python\n",
    "# print(1+2)\n",
    "```\n",
    "\n",
    "Removing the pound sign will make it so that you can run the code again.\n",
    "When we remove the pound sign in front of a line of code, we call this **uncommenting**.\n",
    "\n",
    "Comment out the line `print(\"Every Villain Is Lemons\")` and uncomment `print(\"Please, print me.\")`.\n",
    "This should result in `\"Please, print me.\"` being printed."
   ]
  },
  {
   "cell_type": "code",
   "execution_count": null,
   "metadata": {},
   "outputs": [],
   "source": [
    "# print(\"Please, print me.\")\n",
    "print(\"Every Villain Is Lemons\")"
   ]
  },
  {
   "cell_type": "markdown",
   "metadata": {},
   "source": [
    "<div class=\"admonition quote\">\n",
    "    <p class=\"admonition-title\">Autograder</p>\n",
    "    <p style=\"padding-top: 1em\">\n",
    "        The autograder is going to check for \"Every Villain Is Lemons\" not being printed, and \"Please, print me.\" is.\n",
    "    </p>\n",
    "</div>"
   ]
  },
  {
   "cell_type": "markdown",
   "metadata": {},
   "source": [
    "## Problem 3\n",
    "\n",
    "In the tutorial, you defined several variables to calculate the total number of seconds in a year.\n",
    "Run the next code cell to do the calculation here."
   ]
  },
  {
   "cell_type": "code",
   "execution_count": null,
   "metadata": {},
   "outputs": [],
   "source": [
    "# Create variables\n",
    "num_years = 4\n",
    "days_per_year = 365\n",
    "hours_per_day = 24\n",
    "mins_per_hour = 60\n",
    "secs_per_min = 60\n",
    "\n",
    "# Calculate number of seconds in four years\n",
    "total_secs = None"
   ]
  },
  {
   "cell_type": "markdown",
   "metadata": {},
   "source": [
    "Use the next code cell to:\n",
    "\n",
    "-   Define a variable `births_per_min` and set it to 250."
   ]
  },
  {
   "cell_type": "code",
   "execution_count": null,
   "metadata": {},
   "outputs": [],
   "source": [
    "# TODO: Set the value of the births_per_min variable\n",
    "births_per_min = None  # Remove `None` and put your value."
   ]
  },
  {
   "cell_type": "markdown",
   "metadata": {},
   "source": [
    "Now, compute how many babies are born in one year using `births_per_min` and store it in the variable `births_per_year`."
   ]
  },
  {
   "cell_type": "code",
   "execution_count": null,
   "metadata": {},
   "outputs": [],
   "source": [
    "# TODO: compute the average number of births per year.\n",
    "births_per_year = None  # Remove `None` and put your expression"
   ]
  },
  {
   "cell_type": "markdown",
   "metadata": {},
   "source": [
    "<div class=\"admonition quote\">\n",
    "    <p class=\"admonition-title\">Autograder</p>\n",
    "    <p style=\"padding-top: 1em\">\n",
    "        The autograder is parse your Python file and check that you only have variables we have defined to compute <code>births_per_year</code>.\n",
    "        It will also check that the value is correct.\n",
    "    </p>\n",
    "</div>"
   ]
  },
  {
   "cell_type": "markdown",
   "metadata": {},
   "source": [
    "## Problem 4\n",
    "\n",
    "You are getting ready to head to your favorite class, computational biology, and need to pack your backpack.\n",
    "It starts empty and is created in the next cell."
   ]
  },
  {
   "cell_type": "code",
   "execution_count": null,
   "metadata": {},
   "outputs": [],
   "source": [
    "backpack = []"
   ]
  },
  {
   "cell_type": "markdown",
   "metadata": {},
   "source": [
    "You have to put your `\"laptop\"`, `\"charger\"`, and `\"pen\"` in your backpack.\n",
    "Use the `append` method to add these one at a time in the same order as in the last sentence (i.e., first `\"laptop\"`, then `\"charger\"`, then `\"pen\"`)."
   ]
  },
  {
   "cell_type": "code",
   "execution_count": null,
   "metadata": {},
   "outputs": [],
   "source": [
    "# TODO: write three lines that adds the things to your backpack."
   ]
  },
  {
   "cell_type": "markdown",
   "metadata": {},
   "source": [
    "Whoops!\n",
    "You made a mistake and put a `\"pencil\"`, not a `\"pen\"`, in your backpack.\n",
    "Change `\"pen\"` in your list to be `\"pencil\"` by referencing `\"pen\"`'s index."
   ]
  },
  {
   "cell_type": "code",
   "execution_count": null,
   "metadata": {},
   "outputs": [],
   "source": [
    "# TODO: change the last item in your list (which should be pen) to pencil."
   ]
  },
  {
   "cell_type": "markdown",
   "metadata": {},
   "source": [
    "<div class=\"admonition quote\">\n",
    "    <p class=\"admonition-title\">Autograder</p>\n",
    "    <p style=\"padding-top: 1em\">\n",
    "        The autograder is going to parse your file and check for the specific lines.\n",
    "        Then it will check the final list.\n",
    "    </p>\n",
    "</div>"
   ]
  },
  {
   "cell_type": "markdown",
   "metadata": {},
   "source": [
    "## Problem 5\n",
    "\n",
    "You are trying to figure out what your letter grade in your class would be given a percentage.\n",
    "Suppose that the class is using the following scale:\n",
    "\n",
    "-   A: 90.0 to 100.0,\n",
    "-   B: 80.0 to 89.9,\n",
    "-   C: 70.0 to 79.9,\n",
    "-   D: 60.0 to 69.9,\n",
    "-   F: 0.0 to 59.9.\n",
    "\n",
    "Write a function called `calculate_grade` that returns your letter grade given any `percentage`.\n",
    "For example, to return `\"A\"` you would write\n",
    "\n",
    "```python\n",
    "if percentage >= 90.0:\n",
    "    return \"A\"\n",
    "```"
   ]
  },
  {
   "cell_type": "code",
   "execution_count": null,
   "metadata": {},
   "outputs": [],
   "source": [
    "def calculate_grade(percentage):\n",
    "    # TODO: Convert percentage to grade\n",
    "    # TODO: remember that `None` is just a placeholder for your function return.\n",
    "    return None"
   ]
  },
  {
   "cell_type": "markdown",
   "metadata": {},
   "source": [
    "<div class=\"admonition quote\">\n",
    "    <p class=\"admonition-title\">Autograder</p>\n",
    "    <p style=\"padding-top: 1em\">\n",
    "        Will check various percentages and that the letter grade is correct.\n",
    "    </p>\n",
    "</div>"
   ]
  }
 ],
 "metadata": {
  "kernelspec": {
   "display_name": "biosc1540-2024s-dev",
   "language": "python",
   "name": "python3"
  },
  "language_info": {
   "codemirror_mode": {
    "name": "ipython",
    "version": 3
   },
   "file_extension": ".py",
   "mimetype": "text/x-python",
   "name": "python",
   "nbconvert_exporter": "python",
   "pygments_lexer": "ipython3",
   "version": "3.11.7"
  }
 },
 "nbformat": 4,
 "nbformat_minor": 2
}
