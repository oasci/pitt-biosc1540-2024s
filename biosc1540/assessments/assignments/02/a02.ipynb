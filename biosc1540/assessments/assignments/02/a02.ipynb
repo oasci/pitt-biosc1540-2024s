{
 "cells": [
  {
   "cell_type": "markdown",
   "metadata": {},
   "source": [
    "# Assignment 02\n",
    "\n",
    "**Due**: Jan 25 at 11:59 pm\n",
    "\n",
    "**Points**: 10\n",
    "\n",
    "In this assignment, we will explore a [real dataset](https://www.kaggle.com/competitions/lish-moa/overview) involving gene expression data and its change when cells are exposed to different drugs.\n",
    "This type of data is used to elucidate the drug's mechanism of action (MoA).\n",
    "\n",
    "You can find the documentation for the relevant pages:\n",
    "\n",
    "-   [numpy](https://numpy.org/doc/stable/)\n",
    "-   [pandas](https://pandas.pydata.org/docs/index.html)\n",
    "-   [matplotlib](https://matplotlib.org/)"
   ]
  },
  {
   "cell_type": "markdown",
   "metadata": {},
   "source": [
    "## Setup\n",
    "\n",
    "The following cell is needed to setup your Jupyter Notebook.\n"
   ]
  },
  {
   "cell_type": "code",
   "execution_count": null,
   "metadata": {},
   "outputs": [],
   "source": [
    "import numpy as np\n",
    "import pandas as pd\n",
    "import matplotlib.pyplot as plt"
   ]
  },
  {
   "cell_type": "markdown",
   "metadata": {},
   "source": [
    "## Problem 1\n",
    "\n",
    "Below, we have a URL stored in `CSV_PATH_FEATURES` that direct to a comma separated value (CSV) file.\n",
    "Use pandas to load the CSV file located at `CSV_PATH_FEATURES` into a DataFrame, and store the DataFrame in a variable named `df_feat`."
   ]
  },
  {
   "cell_type": "code",
   "execution_count": null,
   "metadata": {},
   "outputs": [],
   "source": [
    "CSV_PATH_FEATURES = \"https://gitlab.com/oasci/courses/pitt/biosc1540-2024s/-/raw/main/biosc1540/files/csv/moa_cancer/train_features.csv\""
   ]
  },
  {
   "cell_type": "markdown",
   "metadata": {},
   "source": [
    "Put the variable CSV_PATH_FEATURES into the function below."
   ]
  },
  {
   "cell_type": "code",
   "execution_count": null,
   "metadata": {},
   "outputs": [],
   "source": [
    "df_feat = pd.read_csv()"
   ]
  },
  {
   "cell_type": "markdown",
   "metadata": {},
   "source": [
    "We have the following information in our CSV file: features `g-` signify gene expression data, and `c-` signify cell viability data.\n",
    "`cp_type` indicates samples treated with a compound (`cp_vehicle`) or with a control perturbation (`ctrl_vehicle`); control perturbations have no MoAs; `cp_time` and `cp_dose` indicate treatment duration (24, 48, 72 hours) and dose (high or low)."
   ]
  },
  {
   "cell_type": "markdown",
   "metadata": {},
   "source": [
    "## Problem 2\n",
    "\n",
    "Drop the column `sig_id` from `df_feat` and store the resulting DataFrame in a variable called `df_feat_cleaned`.\n",
    "Be sure to not overwrite your `df_feat` variable.\n",
    "\n",
    "Fix the column name."
   ]
  },
  {
   "cell_type": "code",
   "execution_count": null,
   "metadata": {},
   "outputs": [],
   "source": [
    "df_feat_cleaned = df_feat.drop(labels=\"wrong_column_name\", axis=1)"
   ]
  },
  {
   "cell_type": "markdown",
   "metadata": {},
   "source": [
    "## Problem 3\n",
    "\n",
    "Slice `df_feat_cleaned` using a boolean mask where `cp_time` is equal to `24` and store it in a new variable called `df_feat_sliced`.\n",
    "\n",
    "-   Change 48 to the correct number of hours.\n"
   ]
  },
  {
   "cell_type": "code",
   "execution_count": null,
   "metadata": {},
   "outputs": [],
   "source": [
    "# Put your code for problem 3 here.\n",
    "mask = df_feat_cleaned[\"cp_time\"] == 48\n",
    "df_feat_sliced = df_feat_cleaned[mask]"
   ]
  },
  {
   "cell_type": "markdown",
   "metadata": {},
   "source": [
    "Explain in this cell below what the cell above is doing.\n",
    "\n"
   ]
  },
  {
   "cell_type": "markdown",
   "metadata": {},
   "source": [
    "## Problem 4\n",
    "\n",
    "Using `df_feat_sliced`, create a variable named `cp_type_list` and assign it a list containing each unique value of `cp_type`.\n",
    "Hint: The length of your `cp_type_list` should be equal to `2`."
   ]
  },
  {
   "cell_type": "code",
   "execution_count": null,
   "metadata": {},
   "outputs": [],
   "source": [
    "cp_type_list = df_feat_sliced[\"cp_type\"].unique()"
   ]
  },
  {
   "cell_type": "markdown",
   "metadata": {},
   "source": [
    "## Problem 5\n",
    "\n",
    "Using `df_feat_sliced`, store the data under column `g-0` in a NumPy array called `g_0_expression` and `g-1` in `g_1_expression`.\n",
    "\n",
    "Add `.to_numpy()` to the end of each line below."
   ]
  },
  {
   "cell_type": "code",
   "execution_count": null,
   "metadata": {},
   "outputs": [],
   "source": [
    "# Put your code for problem 5 here.\n",
    "g_0_expression = df_feat_sliced[\"g-0\"]\n",
    "print(type(g_0_expression))\n",
    "g_1_expression = df_feat_sliced[\"g-1\"]\n",
    "print(type(g_1_expression))"
   ]
  },
  {
   "cell_type": "markdown",
   "metadata": {},
   "source": [
    "In this cell, write down what data type `g_0_expression` was before you put the `.to_numpy()` at the end of each line.\n",
    "\n",
    "Write down here what the difference is."
   ]
  },
  {
   "cell_type": "markdown",
   "metadata": {},
   "source": [
    "## Problem 6\n",
    "\n",
    "Create a dictionary named `g_stats` with keys `g-0` and `g-1`.\n",
    "Set the values for these keys to be empty dictionaries `{}`.\n",
    "\n",
    "I have used `()` instead of `{}`, so please fix them."
   ]
  },
  {
   "cell_type": "code",
   "execution_count": null,
   "metadata": {},
   "outputs": [],
   "source": [
    "g_stats = {\"g-0\": (), \"g-1\": ()}"
   ]
  },
  {
   "cell_type": "markdown",
   "metadata": {},
   "source": [
    "Now, compute the following statistics and store them under their respective key.\n",
    "\n",
    "-   `mean` the mean\n",
    "-   `std`: standard deviation\n",
    "\n",
    "For example, compute the mean of `g_0_expression` and store it in `g-0`.\n",
    "\n",
    "I forgot to put `g_0_expression` and `g_1_expression` inside of the function."
   ]
  },
  {
   "cell_type": "code",
   "execution_count": null,
   "metadata": {},
   "outputs": [],
   "source": [
    "g_stats[\"g-0\"][\"mean\"] = np.mean()\n",
    "g_stats[\"g-0\"][\"std\"] = np.std()\n",
    "\n",
    "g_stats[\"g-1\"][\"mean\"] = np.mean()\n",
    "g_stats[\"g-1\"][\"std\"] = np.std()"
   ]
  },
  {
   "cell_type": "markdown",
   "metadata": {},
   "source": [
    "## Problem 7\n",
    "\n",
    "Create a scatter plot with `g_0_expression` on the x-axis and `g_1_expression` on the y-axis.\n",
    "\n",
    "I have a typo and put the data on the wrong axis."
   ]
  },
  {
   "cell_type": "code",
   "execution_count": null,
   "metadata": {},
   "outputs": [],
   "source": [
    "fig, ax = plt.subplots(ncols=1, nrows=1)\n",
    "\n",
    "ax.scatter(y=g_0_expression, x=g_1_expression)\n",
    "ax.set_xlabel(\"g-0 expression\")\n",
    "ax.set_ylabel(\"g-1 expression\")\n",
    "plt.show()"
   ]
  }
 ],
 "metadata": {
  "kernelspec": {
   "display_name": "biosc1540-2024s-dev",
   "language": "python",
   "name": "python3"
  },
  "language_info": {
   "codemirror_mode": {
    "name": "ipython",
    "version": 3
   },
   "file_extension": ".py",
   "mimetype": "text/x-python",
   "name": "python",
   "nbconvert_exporter": "python",
   "pygments_lexer": "ipython3",
   "version": "3.11.7"
  }
 },
 "nbformat": 4,
 "nbformat_minor": 2
}
