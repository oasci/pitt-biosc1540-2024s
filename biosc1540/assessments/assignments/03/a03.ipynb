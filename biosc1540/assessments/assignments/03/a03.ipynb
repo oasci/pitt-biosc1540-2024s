{
 "cells": [
  {
   "cell_type": "markdown",
   "metadata": {},
   "source": [
    "# Assignment 03\n",
    "\n",
    "**Due**: Feb 08 at 11:59 pm\n",
    "\n",
    "**Points**: 20\n",
    "\n",
    "For each multiple-choice question, change the value of the string stored in that variable.\n",
    "If the answer for Problem 49 was `D`, then\n",
    "\n",
    "```python\n",
    "problem_49_answer = \"TODO\"\n",
    "```\n",
    "\n",
    "becomes\n",
    "\n",
    "```python\n",
    "problem_49_answer = \"D\"\n",
    "```\n",
    "\n",
    "Any other TODO means you should put your answer there."
   ]
  },
  {
   "cell_type": "markdown",
   "metadata": {},
   "source": [
    "## Problem 1\n",
    "\n",
    "**Points:** 5\n",
    "\n",
    "What is one of the primary challenges in de novo gene assembly?\n",
    "\n",
    "**A.** The uniformity of genetic sequences across different organisms, making it difficult to distinguish between species.\n",
    "\n",
    "**B.** The presence of repetitive sequences within the genome that can complicate the assembly process.\n",
    "\n",
    "**C.** The overabundance of RNA sequences in DNA sequencing data, interfering with genome assembly.\n",
    "\n",
    "**D.** The rapid degradation of DNA samples during the sequencing process, resulting in incomplete data."
   ]
  },
  {
   "cell_type": "code",
   "execution_count": 2,
   "metadata": {},
   "outputs": [],
   "source": [
    "problem_1_answer = \"TODO\""
   ]
  },
  {
   "cell_type": "markdown",
   "metadata": {},
   "source": [
    "## Problem 2\n",
    "\n",
    "**Points:** 5\n",
    "\n",
    "Which of the following statements accurately reflects a challenge associated with de novo assembly, especially when compared to reference assembly?\n",
    "\n",
    "**A.** De novo assembly is less effective at detecting single nucleotide polymorphisms (SNPs).\n",
    "\n",
    "**B.** De novo assembly cannot be used to study organisms with large or complex genomes, such as humans or plants.\n",
    "\n",
    "**C.** De novo assembly typically requires higher sequencing depth to achieve comparable accuracy and completeness to reference assembly.\n",
    "\n",
    "**D.** Reference assembly is preferred for metagenomic studies due to its superior ability to reconstruct genomes from mixed samples.\n"
   ]
  },
  {
   "cell_type": "code",
   "execution_count": 3,
   "metadata": {},
   "outputs": [],
   "source": [
    "problem_2_answer = \"TODO\""
   ]
  },
  {
   "cell_type": "markdown",
   "metadata": {},
   "source": [
    "## Problem 3\n",
    "\n",
    "**Points:** 5\n",
    "\n",
    "Imagine you are working on a simplified de novo gene assembly project where you are given a set of short DNA reads.\n",
    "Your task is to determine the shortest possible DNA sequence that contains all the given reads as subsequences. Each read is represented by a string consisting of characters A, T, C, and G, which stand for the nucleotides adenine, thymine, cytosine, and guanine, respectively.\n",
    "\n",
    "Given the following reads:\n",
    "\n",
    "-   Read 1: ATCG\n",
    "-   Read 2: CGTT\n",
    "-   Read 3: GATC\n",
    "-   Read 4: TCGA\n",
    "\n",
    "Determine the overlap between each pair of reads and combine them all into one contig.\n",
    "Start with read 1, merge with the highest overlap, then repeat until all reads are used.\n",
    "\n",
    "Put your answer in `problem_3_answer`.\n",
    "(You do not need to write any Python.)"
   ]
  },
  {
   "cell_type": "code",
   "execution_count": 4,
   "metadata": {},
   "outputs": [],
   "source": [
    "problem_3_answer = \"TODO\""
   ]
  },
  {
   "cell_type": "markdown",
   "metadata": {},
   "source": [
    "## Problem 4\n",
    "\n",
    "**Points:** 5\n",
    "\n",
    "You are given the following sequencing error probabilities from an illumina run:\n",
    "\n",
    "-   0.0398%\n",
    "-   0.0398%\n",
    "-   0.0398%\n",
    "-   0.0398%\n",
    "-   0.0398%\n",
    "-   0.0158%\n",
    "-   0.0316%\n",
    "-   0.0158%\n",
    "-   0.0251%\n",
    "-   0.02%\n",
    "\n",
    "What would the ASCII characters be in the FASTQ file?"
   ]
  },
  {
   "cell_type": "code",
   "execution_count": 5,
   "metadata": {},
   "outputs": [],
   "source": [
    "problem_4_answer = \"TODO\""
   ]
  }
 ],
 "metadata": {
  "kernelspec": {
   "display_name": "biosc1540-2024s-dev",
   "language": "python",
   "name": "python3"
  },
  "language_info": {
   "codemirror_mode": {
    "name": "ipython",
    "version": 3
   },
   "file_extension": ".py",
   "mimetype": "text/x-python",
   "name": "python",
   "nbconvert_exporter": "python",
   "pygments_lexer": "ipython3",
   "version": "3.11.7"
  }
 },
 "nbformat": 4,
 "nbformat_minor": 2
}
