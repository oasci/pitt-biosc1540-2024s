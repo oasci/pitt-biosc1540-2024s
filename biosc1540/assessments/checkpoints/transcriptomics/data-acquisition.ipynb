{
 "cells": [
  {
   "cell_type": "markdown",
   "metadata": {},
   "source": [
    "# Data acquisition\n",
    "\n",
    "[This paper][data-paper] from 2017 collected bulk RNA-seq of *E. coli* cultures after 60 hours under the respective stressor.\n",
    "RAW and normalized data are available under the [GEO](/data-sources/geo/) accession [GSE89746][data-geo].\n",
    "\n",
    "<iframe src=\"https://www.ncbi.nlm.nih.gov/geo/query/acc.cgi?acc=GSE89746\" height=\"600\" width=\"100%\"></iframe>\n",
    "\n",
    "You can browse some of the normalized data by expanding the `Samples (124)` and clicking one&mdash;[GSM2387525](https://www.ncbi.nlm.nih.gov/geo/query/acc.cgi?acc=GSM2387525) for example.\n",
    "\n",
    "<iframe src=\"https://www.ncbi.nlm.nih.gov/geo/query/acc.cgi?acc=GSM2387525\" height=\"600\" width=\"100%\"></iframe>\n",
    "\n",
    "<!-- LINKS -->\n",
    "\n",
    "[data-paper]: https://doi.org/10.1038/s41598-017-14335-7\n",
    "[data-geo]: https://www.ncbi.nlm.nih.gov/geo/query/acc.cgi?acc=GSE89746"
   ]
  },
  {
   "cell_type": "code",
   "execution_count": 1,
   "metadata": {},
   "outputs": [
    {
     "data": {
      "text/plain": [
       "True"
      ]
     },
     "execution_count": 1,
     "metadata": {},
     "output_type": "execute_result"
    }
   ],
   "source": [
    "import os\n",
    "from datetime import datetime\n",
    "import json\n",
    "import yaml\n",
    "from dotenv import load_dotenv\n",
    "\n",
    "\n",
    "load_dotenv()"
   ]
  }
 ],
 "metadata": {
  "kernelspec": {
   "display_name": "biosc1540-2024s-dev",
   "language": "python",
   "name": "python3"
  },
  "language_info": {
   "codemirror_mode": {
    "name": "ipython",
    "version": 3
   },
   "file_extension": ".py",
   "mimetype": "text/x-python",
   "name": "python",
   "nbconvert_exporter": "python",
   "pygments_lexer": "ipython3",
   "version": "3.11.6"
  }
 },
 "nbformat": 4,
 "nbformat_minor": 2
}
