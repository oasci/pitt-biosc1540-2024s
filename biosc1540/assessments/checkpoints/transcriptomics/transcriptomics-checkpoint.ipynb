{
 "cells": [
  {
   "cell_type": "markdown",
   "metadata": {},
   "source": [
    "# Transcriptomics checkpoint\n",
    "\n",
    "**Due**: Mar 21 by 11:59 pm\n",
    "\n",
    "**Points**: 100\n",
    "\n",
    "As outlined in the [project introduction](https://pitt-biosc1540-2024s.oasci.org/assessments/checkpoints/transcriptomics/), this project aims to identify genes in *E. coli* that could be engineered for enhanced stress tolerance.\n",
    "This will be accomplished by analyzing gene expression data from control and stress-resistant strains under conditions of cellular stress.\n",
    "Identifying differences in gene expression between these strains may highlight genes integral to stress resistance.\n",
    "It is highly recommended that you familiarize yourself with [the foundational paper](https://www.nature.com/articles/s41598-017-14335-7) that discusses the dataset you will be working with.\n"
   ]
  },
  {
   "cell_type": "markdown",
   "metadata": {},
   "source": [
    "## Instructions\n",
    "\n",
    "Throughout your analysis, you will come across various blocks of code accompanied by comments such as:\n",
    "\n",
    "```python\n",
    "# DO NOT MODIFY CODE BELOW THIS LINE.\n",
    "```\n",
    "\n",
    "These comments are placed to ensure the integrity of certain code segments, ensuring the evaluation process remains consistent across all student submissions.\n",
    "You must adhere to these directives and refrain from modifying the code following these comments.\n",
    "Should you mistakenly alter any of this pre-written code, or if the teaching staff recommends an adjustment, you must revert the changes.\n",
    "The correct code version can always be found and copied [directly from the course website](https://pitt-biosc1540-2024s.oasci.org/assessments/checkpoints/genomics/genomics-checkpoint/).\n",
    "\n",
    "This structured approach ensures that the focus remains on your project's analytical and interpretative aspects rather than on the underlying code infrastructure.\n",
    "Following these guidelines will help maintain the academic integrity of the project and ensure a fair and standardized assessment for all participants."
   ]
  },
  {
   "cell_type": "markdown",
   "metadata": {},
   "source": [
    "## Project Grading Options\n",
    "\n",
    "For this project, you are provided with two distinct options for completing your analysis.\n",
    "Each path caters to different skill sets and preferences, ensuring you can choose the approach that best suits your strengths and learning goals.\n",
    "\n",
    "### Option 1: Spreadsheet\n",
    "\n",
    "-   **Approach**: Download the provided CSV file from the [link](https://gitlab.com/oasci/courses/pitt/biosc1540-2024s/-/raw/main/large-files/ecoli-transcriptome-cell.stress.csv) and conduct your analysis using Google Sheets.\n",
    "-   **Deliverables**: Submit your completed spreadsheet along with a concise summary (approximately 300 words) that explains your analytical process and key findings.\n",
    "    Your summary and spreadsheet should be compiled into a single PDF document for submission.\n",
    "-   **Support**: The teaching team is equipped to provide conceptual guidance for your analysis.\n",
    "    However, specific assistance with spreadsheet functionalities or techniques will be limited.\n",
    "\n",
    "### Option 2: Python (Preferred)\n",
    "\n",
    "-   **Approach**: Complete your analysis within this Jupyter notebook using Python.\n",
    "    This method is preferred and encourages you to utilize the powerful data analysis libraries available in Python.\n",
    "-   **Deliverables**: Submit this Jupyter notebook as a Python script (`.py`) with your summary (approximately 300 words) as a markdown cell that explains your analytical process and key findings.\n",
    "-   **Support**: Opting for Python analysis enables you to receive comprehensive support from the teaching team, including both conceptual and implementation-related queries.\n",
    "-   **Bonus**: Choosing this option entitles your assignment to an additional 25 points as a bonus, recognizing the technical complexity of Python.\n",
    "\n",
    "### Choosing Your Path\n",
    "\n",
    "Select the option that aligns with your learning objectives and comfort level with the tools at your disposal.\n",
    "Whether you opt for the flexibility and accessibility of spreadsheet software or the robust and dynamic capabilities of Python, your choice should reflect your learning journey and goals for this project."
   ]
  },
  {
   "cell_type": "markdown",
   "metadata": {},
   "source": [
    "## Gene Expression Data Overview\n",
    "\n",
    "### Data Source\n",
    "\n",
    "Our investigation utilizes gene expression data from the BioProject [PRJNA353081](https://www.ncbi.nlm.nih.gov/bioproject/PRJNA353081), which explores the transcriptome of *E. coli* under a variety of stress conditions.\n",
    "The aim is to pinpoint genes instrumental in the organism's adaptive evolution to stress. \n",
    "\n",
    "### Data Accessibility and Preparation\n",
    "\n",
    "The teaching team has procured, processed, and cleansed the gene expression data from this study.\n",
    "The refined dataset is made available in the form of a CSV file, which you can access and analyze in the subsequent sections of this project.\n",
    "This data preparation step ensures that you can focus on analyzing and interpreting gene expression patterns without the initial burden of data cleaning and preprocessing.\n",
    "\n",
    "### Utilizing the Data\n",
    "\n",
    "Below, you will find instructions on how to load the provided CSV file containing the gene expression data.\n",
    "This dataset is crucial for your analysis and will be the foundation for identifying potential genes linked to stress tolerance in *E. coli*.\n",
    "It's crucial to handle this data carefully and follow any additional instructions in the forthcoming sections to ensure a thorough and accurate analysis.\n",
    "\n",
    "---\n",
    "\n",
    "**Reminder:** As you work with this dataset, remember to consider the broader context of the research and the specific objectives of our study. This approach will enhance the relevance and impact of your findings."
   ]
  },
  {
   "cell_type": "markdown",
   "metadata": {},
   "source": [
    "First, we'll import the libraries [NumPy](https://numpy.org/) and [Pandas](https://pandas.pydata.org/) into our notebook.\n",
    "These libraries are essential data manipulation and analysis tools, allowing us to work efficiently with complex datasets.\n",
    "NumPy supports large, multi-dimensional arrays and matrices, along with a collection of mathematical functions to operate on these arrays.\n",
    "Pandas offers data structures and operations for manipulating numerical tables and time series, making it indispensable for data munging and preparation tasks.\n",
    "Together, these libraries form the backbone of our data analysis toolkit in Python."
   ]
  },
  {
   "cell_type": "code",
   "execution_count": 1,
   "metadata": {},
   "outputs": [],
   "source": [
    "# DO NOT MODIFY CODE BELOW THIS LINE.\n",
    "import numpy as np\n",
    "import pandas as pd"
   ]
  },
  {
   "cell_type": "markdown",
   "metadata": {},
   "source": [
    "Before executing the code block provided, it's essential to understand its function and the data it will process.\n",
    "The dataset contains transcriptome information for *E. coli* under various stress conditions is crucial for our analysis in identifying genes involved in adaptive evolution.\n",
    "\n",
    "To proceed, we will perform the following steps:\n",
    "\n",
    "1. **Set the Data Source**: The variable `GE_CSV_PATH` is initialized with the URL of the CSV file containing the gene expression data.    \n",
    "    This ensures we access the most recent and relevant data for our analysis.\n",
    "2. **Load the Data**: Using Pandas' `read_csv` function, we load the data from the specified URL into a DataFrame named `df_ge`.\n",
    "    This DataFrame will be used to manipulate and analyze the gene expression data.\n",
    "3. **Determine the Number of Genes**: We calculate the total number of genes in the dataset by determining the length of `df_ge`.\n",
    "    This gives us an overview of the dataset's size and scope.\n",
    "4. **Preview the Data**: Finally, we display the first five entries in the dataset using `df_ge.head(n=5)`.\n",
    "    This initial peek into the data helps us understand its structure and contents before diving into a more detailed analysis.\n",
    "\n",
    "Please note that the code below this instruction is crucial for the initial data setup and should be kept the same to ensure consistency and reliability in the analysis process."
   ]
  },
  {
   "cell_type": "code",
   "execution_count": 2,
   "metadata": {},
   "outputs": [
    {
     "name": "stdout",
     "output_type": "stream",
     "text": [
      "There are 4466 genes in the dataset.\n",
      "['aaeA' 'aaeB' 'aaeR' ... 'zupT' 'zur' 'zwf']\n",
      "  gene_id  Parent_replicate1  Parent_replicate2  Parent_replicate3    P_NaCl  \\\n",
      "0    aaeA           1.600048           1.580573           1.596062  1.505947   \n",
      "1    aaeB           2.384388           2.490061           2.490061  2.712741   \n",
      "2    aaeR           2.313178           2.259222           2.262170  2.486852   \n",
      "3    aaeX           1.675798           1.691446           1.548673  1.616997   \n",
      "4     aas           2.355012           2.326936           2.338066  2.187426   \n",
      "\n",
      "      P_KCl      P_Co   P_SoCar     P_Lac     P_Mal  ...   BuOH1_S   BuOH2_S  \\\n",
      "0  1.571618  1.657503  1.794461  1.636620  1.733818  ...  1.722702  1.734668   \n",
      "1  2.608243  2.252648  2.700831  2.531299  2.638515  ...  2.119643  2.103084   \n",
      "2  2.434341  2.464022  2.664427  2.400416  2.435800  ...  2.404603  2.406878   \n",
      "3  1.605543  1.729344  1.906402  1.804496  1.834359  ...  1.761060  1.756508   \n",
      "4  2.261457  2.419453  2.271215  2.225404  2.292616  ...  2.267557  2.275145   \n",
      "\n",
      "    BuOH3_S   BuOH4_S   BuOH5_S    CPC1_S    CPC2_S    CPC3_S    CPC4_S  \\\n",
      "0  1.615403  1.659911  1.491966  1.540602  1.522781  1.588795  1.635115   \n",
      "1  2.059417  2.092505  1.895477  2.591529  2.543114  2.473677  2.414380   \n",
      "2  2.257621  2.324243  2.295485  2.401106  2.381655  2.355012  2.532993   \n",
      "3  1.708768  1.695332  1.650667  1.666059  1.655673  1.756508  1.602228   \n",
      "4  2.408982  2.271862  2.422097  2.342745  2.362458  2.308134  2.332424   \n",
      "\n",
      "     CPC5_S  \n",
      "0  1.624323  \n",
      "1  2.386672  \n",
      "2  2.521780  \n",
      "3  1.614533  \n",
      "4  2.354325  \n",
      "\n",
      "[5 rows x 125 columns]\n"
     ]
    }
   ],
   "source": [
    "# DO NOT MODIFY CODE BELOW THIS LINE.\n",
    "GE_CSV_PATH = \"https://gitlab.com/oasci/courses/pitt/biosc1540-2024s/-/raw/main/large-files/ecoli-transcriptome-cell.stress.csv\"\n",
    "df_ge = pd.read_csv(GE_CSV_PATH)\n",
    "gene_names = df_ge[\"gene_id\"].to_numpy()\n",
    "n_genes = len(df_ge)\n",
    "print(f\"There are {n_genes} genes in the dataset.\")\n",
    "print(gene_names)\n",
    "print(df_ge.head(n=5))"
   ]
  },
  {
   "cell_type": "markdown",
   "metadata": {},
   "source": [
    "Upon successfully loading and displaying the initial portion of the gene expression dataset, we now observe that it encompasses 4,466 genes, each with multiple measurements under different conditions.\n",
    "The dataset comprehensively views gene expression levels across various replicates and stress conditions.\n",
    "This rich dataset is the foundation for our analysis, aiming to identify genes associated with stress tolerance in *E. coli*."
   ]
  },
  {
   "cell_type": "markdown",
   "metadata": {},
   "source": [
    "We introduce a crucial function designed to streamline gene expression analysis under specific stress conditions.\n",
    "This function, `select_stress`, allows you to filter the comprehensive dataset to focus on gene expression data related to a particular cell stressor.\n",
    "Understanding how gene expression varies across different stress conditions is key to identifying genes contributing to stress tolerance.\n",
    "\n",
    "## How to Use `select_stress` Function\n",
    "\n",
    "The `select_stress` function is designed for simplicity and efficiency, enabling you to specify the stress condition of interest and obtain relevant subsets of the data for analysis.\n",
    "Here's how it works:\n",
    "\n",
    "1. **Parameters**: The function takes two parameters:\n",
    "   - `df`: The full DataFrame containing gene expression data.\n",
    "   - `stress`: A string indicating the specific cell stressor to focus on.\n",
    "        Valid options are: `NaCl`, `KCl`, `Co`, `SoCar`, `Lac`, `Mal`, `Metha`, `Croton`, `MG`, `BuOH`, and `CPC`.\n",
    "2. **Functionality**:\n",
    "   - The function first identifies columns in the dataset that correspond to control conditions (replicates) and those that are specific to the chosen stress condition, distinguishing between non-stressed (`_NS`) and stressed (`_S`) states.\n",
    "   - It then creates three subsets of the DataFrame:\n",
    "     - `columns_control_ns`: Includes gene IDs and control replicate measurements under no-stress conditions.\n",
    "     - `columns_control_s`: Includes gene IDs and control replicate measurements under stress conditions.\n",
    "     - `columns_resistant_ns`: Comprises gene IDs and measurements for the non-stressed state under the specified stress condition.\n",
    "     - `columns_resistant_s`: Contains gene IDs and measurements for the stressed state under the specified stress condition.\n",
    "3. **Return Values**:\n",
    "   - The function returns four DataFrames, each tailored to the specific analysis needs: one for control conditions, one for non-stressed states of the specified stressor, and one for stressed states of the stressor.\n"
   ]
  },
  {
   "cell_type": "code",
   "execution_count": 3,
   "metadata": {},
   "outputs": [],
   "source": [
    "# DO NOT MODIFY CODE BELOW THIS LINE.\n",
    "def select_stress(df, stress):\n",
    "    columns_control_ns = [\n",
    "        \"gene_id\",\n",
    "        \"Parent_replicate1\",\n",
    "        \"Parent_replicate2\",\n",
    "        \"Parent_replicate3\",\n",
    "    ]\n",
    "    columns_control_s = [\"gene_id\", \"P_\" + stress]\n",
    "    columns_resistant_ns = [\"gene_id\"]\n",
    "    columns_resistant_ns.extend([c for c in df.columns if stress in c and \"_NS\" in c])\n",
    "    columns_resistant_s = [\"gene_id\"]\n",
    "    columns_resistant_s.extend([c for c in df.columns if stress in c and \"_S\" in c])\n",
    "    return (\n",
    "        df[columns_control_ns],\n",
    "        df[columns_control_s],\n",
    "        df[columns_resistant_ns],\n",
    "        df[columns_resistant_s],\n",
    "    )"
   ]
  },
  {
   "cell_type": "markdown",
   "metadata": {},
   "source": [
    "For example, we can get data for the `Mal` stressor.\n",
    "We will use the `select_stress` function to isolate the relevant subsets of our dataset.\n",
    "This function will allow us to compare gene expression levels across three distinct groups:\n",
    "\n",
    "1. **Control Group**: Gene expression data under normal conditions without any added stressors.\n",
    "2. **Control Group with stress (P_Mal)**: Gene expression data under stress conditions induced by Malate.\n",
    "3. **Malate resistant strains under no stress (Mal_NS)**: Gene expression data for *E. coli* without inducing stress conditions with Malate.\n",
    "4. **Malate resistant strains under stress (Mal_S)**: Gene expression data for *E. coli* under stress conditions induced by Malate.\n",
    "\n",
    "The following code block employs the `select_stress` function to extract these three subsets specifically for the Malate stress condition.\n",
    "After extracting the data, we will display the first three entries from each subgroup to examine the structure of the data and to observe initial gene expression levels in these different conditions."
   ]
  },
  {
   "cell_type": "code",
   "execution_count": 4,
   "metadata": {},
   "outputs": [
    {
     "name": "stdout",
     "output_type": "stream",
     "text": [
      "  gene_id  Parent_replicate1  Parent_replicate2  Parent_replicate3\n",
      "0    aaeA           1.600048           1.580573           1.596062\n",
      "1    aaeB           2.384388           2.490061           2.490061\n",
      "2    aaeR           2.313178           2.259222           2.262170\n",
      "  gene_id     P_Mal\n",
      "0    aaeA  1.733818\n",
      "1    aaeB  2.638515\n",
      "2    aaeR  2.435800\n",
      "  gene_id   Mal1_NS   Mal2_NS   Mal3_NS   Mal4_NS   Mal5_NS\n",
      "0    aaeA  1.562037  1.578052  1.536517  1.573952  1.587251\n",
      "1    aaeB  2.378998  2.436446  2.242213  2.361704  2.413112\n",
      "2    aaeR  2.428439  2.512587  2.494518  2.498590  2.466095\n",
      "  gene_id    Mal1_S    Mal2_S    Mal3_S    Mal4_S    Mal5_S\n",
      "0    aaeA  1.698021  1.740607  1.698795  1.684337  1.723655\n",
      "1    aaeB  2.664979  2.606719  2.627551  2.785974  2.767280\n",
      "2    aaeR  2.317597  2.356564  2.312512  2.451644  2.468644\n"
     ]
    }
   ],
   "source": [
    "df_control_ns, df_control_s, df_mal_ns, df_mal_s = select_stress(df_ge, \"Mal\")\n",
    "print(df_control_ns.head(n=3))\n",
    "print(df_control_s.head(n=3))\n",
    "print(df_mal_ns.head(n=3))\n",
    "print(df_mal_s.head(n=3))"
   ]
  },
  {
   "cell_type": "markdown",
   "metadata": {},
   "source": [
    "The `Parent_replicate` columns hold gene expression data for the control (parent) *E. coli* strain across three replicates, serving as a baseline for comparison.\n",
    "The `P_Mal` column presents the gene expression levels of the control strain when subjected to stress conditions.\n",
    "Columns labeled `Mal_NS` feature gene expression data for resistant strains grown in standard media, indicating their baseline response without stress.\n",
    "Conversely, `Mal_S` columns capture the expression data of these resistant strains under stress conditions, providing insight into their adaptability and resilience.\n",
    "Each numerical suffix (e.g., 1, 2, 3, 4, and 5) denotes a distinct resistant strain, allowing for a comparative analysis between different adaptations to stress conditions."
   ]
  },
  {
   "cell_type": "markdown",
   "metadata": {},
   "source": [
    "## Analyzing the Dataset\n",
    "\n",
    "In this section, you will comprehensively analyze gene expression data to uncover insights into stress tolerance in *E. coli*.\n",
    "\n",
    "1. **Data Exploration**: Familiarize yourself with the dataset's structure and contents.\n",
    "    Note the conditions under which gene expression levels were recorded, such as `Parent_replicate1`, `P_NaCl` (sodium chloride stress), `P_KCl` (potassium chloride stress), and other stress conditions.\n",
    "    Each column represents a different experimental condition, with the first column (`gene_id`) uniquely identifying each gene.\n",
    "2. **Statistical Analysis**: Begin with basic statistical analyses to understand gene expression levels' distribution, variance, and central tendencies across different conditions.\n",
    "    This may involve calculating each gene's means, medians, and standard deviations across various conditions.\n",
    "3. **Data Visualization**: Employ data visualization techniques to represent the data graphically.\n",
    "    This could include plotting the expression levels of select genes under different stress conditions or creating heatmaps to visualize the expression levels of all genes across various situations.\n",
    "4. **Identification of Key Genes**: Utilize analytical techniques to identify genes with significant differences in expression between control and stress conditions.\n",
    "    This may involve conducting hypothesis tests or applying machine learning models to discern patterns that indicate a gene's role in stress tolerance.\n",
    "5. **Interpretation and Conclusion**: Interpret the results of your analysis to draw conclusions about which genes are potential candidates for engineering stress tolerance in *E. coli*.\n",
    "    Consider how these genes' expression levels change under stress compared to normal conditions.\n",
    "\n",
    "### Moving Forward\n",
    "\n",
    "As you proceed with your analysis, keep in mind the broader context of this research.\n",
    "Identifying genes contributing to stress tolerance can lead to significant advancements in biotechnology, including developing more resilient bacterial strains for various applications.\n",
    "Your analysis not only contributes to your understanding of computational biology techniques but also has the potential to impact real-world biological challenges."
   ]
  },
  {
   "cell_type": "code",
   "execution_count": null,
   "metadata": {},
   "outputs": [],
   "source": []
  }
 ],
 "metadata": {
  "kernelspec": {
   "display_name": "biosc1540-2024s-dev",
   "language": "python",
   "name": "python3"
  },
  "language_info": {
   "codemirror_mode": {
    "name": "ipython",
    "version": 3
   },
   "file_extension": ".py",
   "mimetype": "text/x-python",
   "name": "python",
   "nbconvert_exporter": "python",
   "pygments_lexer": "ipython3",
   "version": "3.11.7"
  }
 },
 "nbformat": 4,
 "nbformat_minor": 2
}
