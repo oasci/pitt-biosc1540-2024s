{
 "cells": [
  {
   "cell_type": "markdown",
   "metadata": {},
   "source": [
    "# Transcriptomics checkpoint\n",
    "\n",
    "**Due**: Mar 21 by 11:59 pm\n",
    "\n",
    "**Points**: 100\n",
    "\n",
    "TODO:\n",
    "\n",
    "## Instructions\n",
    "\n",
    "The teaching team has meticulously crafted this evaluation checkpoint to minimize you writing Python code from scratch.\n",
    "Throughout the assessment, you will encounter several comments, such as:\n",
    "\n",
    "```python\n",
    "# DO NOT MODIFY CODE BELOW THIS LINE.\n",
    "```\n",
    "\n",
    "This directive ensures that the code following the comment remains uniform across all submissions, thereby standardizing the evaluation process.\n",
    "If you inadvertently alter any part of this pre-written code, or if the teaching team advises a modification, you must restore the original code by copying and pasting the correct version directly [from website](https://pitt-biosc1540-2024s.oasci.org/assessments/checkpoints/transcriptomics/transcriptomics-checkpoint/).\n",
    "\n",
    "## Rubric\n",
    "\n",
    "Any rubric item that you need to fill out will be indicated with either a `STUDENT TODO:` or assigning some variable as instructed.\n",
    "Because most of the Python has been written for you, the rubric is based on your decisions and explanations.\n",
    "\n",
    "TODO:"
   ]
  }
 ],
 "metadata": {
  "kernelspec": {
   "display_name": "biosc1540-2024s-dev",
   "language": "python",
   "name": "python3"
  },
  "language_info": {
   "codemirror_mode": {
    "name": "ipython",
    "version": 3
   },
   "file_extension": ".py",
   "mimetype": "text/x-python",
   "name": "python",
   "nbconvert_exporter": "python",
   "pygments_lexer": "ipython3",
   "version": "3.11.7"
  }
 },
 "nbformat": 4,
 "nbformat_minor": 2
}
