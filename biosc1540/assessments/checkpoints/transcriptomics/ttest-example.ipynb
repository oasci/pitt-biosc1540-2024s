{
 "cells": [
  {
   "cell_type": "markdown",
   "metadata": {},
   "source": [
    "# t-test example\n",
    "\n",
    "The following code is a simple t-test using SciPy."
   ]
  },
  {
   "cell_type": "code",
   "execution_count": 1,
   "metadata": {},
   "outputs": [],
   "source": [
    "from scipy import stats"
   ]
  },
  {
   "cell_type": "markdown",
   "metadata": {},
   "source": [
    "Example data: replace these with your actual measurements"
   ]
  },
  {
   "cell_type": "code",
   "execution_count": 2,
   "metadata": {},
   "outputs": [],
   "source": [
    "control_group = [0.1, 0.2, 0.15, 0.18, 0.16]\n",
    "resistant_group = [0.25, 0.3, 0.28, 0.29, 0.27]"
   ]
  },
  {
   "cell_type": "markdown",
   "metadata": {},
   "source": [
    "Step 2: Check for normality (Optional)\n",
    "Perform Shapiro-Wilk test for normality on both groups"
   ]
  },
  {
   "cell_type": "code",
   "execution_count": 3,
   "metadata": {},
   "outputs": [
    {
     "name": "stdout",
     "output_type": "stream",
     "text": [
      "Control Group Normality, p-value: 0.7827625813922048\n",
      "Resistant Group Normality, p-value: 0.9276364233495382\n"
     ]
    }
   ],
   "source": [
    "stat, p_control_normality = stats.shapiro(control_group)\n",
    "print(\"Control Group Normality, p-value:\", p_control_normality)\n",
    "stat, p_resistant_normality = stats.shapiro(resistant_group)\n",
    "print(\"Resistant Group Normality, p-value:\", p_resistant_normality)"
   ]
  },
  {
   "cell_type": "markdown",
   "metadata": {},
   "source": [
    "For Shapiro-Wilk, null hypothesis is that the sample comes from a normally distributed population.\n",
    "In other words, a normal distribution would accept the null hypothesis.\n",
    "If p-values are greater than 0.05, we can assume normality\n",
    "\n",
    "Step 3: Perform Independent Samples t-test\n",
    "\n",
    "Step 4: Interpret the Result\n",
    "if you perform a two-sample location test, such as Student's t-test or Welch's\n",
    "t-test, and obtain a p-value less than 0.05, it generally means you have\n",
    "statistically significant evidence to reject the null hypothesis that the\n",
    "means of the two populations are equal. This threshold of 0.05 is a conventional\n",
    "criterion, often referred to as the alpha level, and it indicates a 5% risk of\n",
    "concluding that a difference exists when there actually is no true difference\n",
    "(Type I error)."
   ]
  },
  {
   "cell_type": "code",
   "execution_count": 4,
   "metadata": {},
   "outputs": [
    {
     "name": "stdout",
     "output_type": "stream",
     "text": [
      "\n",
      "Both groups follow a normal distribution. Proceeding with t-test...\n",
      "\n",
      "t-statistic: -6.342197070980279\n",
      "p-value:      0.00022246338662320464\n",
      "\n",
      "There is a statistically significant difference between the groups.\n"
     ]
    }
   ],
   "source": [
    "if p_control_normality > 0.05 and p_resistant_normality > 0.05:\n",
    "    print(\"\\nBoth groups follow a normal distribution. Proceeding with t-test...\\n\")\n",
    "    t_stat, p_value = stats.ttest_ind(control_group, resistant_group)\n",
    "    print(\"t-statistic:\", t_stat)\n",
    "    print(\"p-value:     \", p_value)\n",
    "\n",
    "    if p_value < 0.05:\n",
    "        print(\"\\nThere is a statistically significant difference between the groups.\")\n",
    "    else:\n",
    "        print(\"\\nThere is no statistically significant difference between the groups.\")\n",
    "else:\n",
    "    print(\n",
    "        \"\\nNormality assumption not met. Consider using a non-parametric test instead.\"\n",
    "    )"
   ]
  }
 ],
 "metadata": {
  "kernelspec": {
   "display_name": "biosc1540-2024s-dev",
   "language": "python",
   "name": "python3"
  },
  "language_info": {
   "codemirror_mode": {
    "name": "ipython",
    "version": 3
   },
   "file_extension": ".py",
   "mimetype": "text/x-python",
   "name": "python",
   "nbconvert_exporter": "python",
   "pygments_lexer": "ipython3",
   "version": "3.11.7"
  }
 },
 "nbformat": 4,
 "nbformat_minor": 2
}
