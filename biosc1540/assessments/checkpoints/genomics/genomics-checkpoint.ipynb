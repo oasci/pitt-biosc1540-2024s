{
 "cells": [
  {
   "cell_type": "markdown",
   "metadata": {},
   "source": [
    "# Genomics checkpoint\n",
    "\n",
    "**Due**: Feb 22 by 11:59 pm\n",
    "\n",
    "**Points**: 100\n",
    "\n",
    "As discussed in the [introduction](https://pitt-biosc1540-2024s.oasci.org/assessments/checkpoints/genomics/), we will be training a machine learning model to predict antibiotic resistance an *E. coli* strain is susceptible to.\n",
    "This involves using genomic information to train a [classifier](https://pitt-biosc1540-2024s.oasci.org/modules/intro/classification/) that predicts if a particular *E. coli* isolate is susceptible, resistant, or partially resistant to an antibiotic.\n",
    "\n",
    "## Instructions\n",
    "\n",
    "The teaching team has meticulously crafted this evaluation checkpoint to minimize you writing Python code from scratch.\n",
    "Throughout the assessment, you will encounter several comments, such as:\n",
    "\n",
    "```python\n",
    "# DO NOT MODIFY CODE BELOW THIS LINE.\n",
    "```\n",
    "\n",
    "This directive ensures that the code following the comment remains uniform across all submissions, thereby standardizing the evaluation process.\n",
    "If you inadvertently alter any part of this pre-written code, or if the teaching team advises a modification, you must restore the original code by copying and pasting the correct version directly [from website](https://pitt-biosc1540-2024s.oasci.org/assessments/checkpoints/genomics/genomics-checkpoint/)."
   ]
  },
  {
   "cell_type": "markdown",
   "metadata": {},
   "source": [
    "## Rubric\n",
    "\n",
    "Any rubric item that you need to fill out will be indicated with either a `STUDENT TODO:` or assigning some variable as instructed.\n",
    "Because most of the Python has been written for you, the rubric is based on your decisions and explanations.\n",
    "\n",
    "| # | Label | Points | Description |\n",
    "| ------ | ---- | ------ | ----------- |\n",
    "| 1 | Classifier score | 25 | Autograder evaluation of your model. |\n",
    "| 2 | AMR insight | 5 | Student provide valid insight about the AMR. |\n",
    "| 3 | Gene selection | 10 | Student has selected more than one gene and provides two points  |\n",
    "| 4 | k selection | 5 | Student chose a reasonable value and provides acceptable rationale. |\n",
    "| 5 | K-mer analysis | 20 | Student provides reasonable rationale for k-mer analysis and selection. |\n",
    "| 6 | Scaler selection | 5 | Did the student select one of the three scalers? |\n",
    "| 7 | Model selection | 15 | Did the student select one of the models? |\n",
    "| 8 | Model parameters | 15 | Did the student provide context as to why they chose those model parameters? |\n",
    "\n",
    "## Submission\n",
    "\n",
    "Submit the `model.joblib`, `features_test.npy`, and this Jupyter notebook as a `.py` file to gradescope."
   ]
  },
  {
   "cell_type": "markdown",
   "metadata": {},
   "source": [
    "## Genomes\n",
    "\n",
    "Our study leverages fully assembled and annotated genomic data from the BioProject [PRJNA278886](https://www.ncbi.nlm.nih.gov/bioproject/278886).\n",
    "This project has meticulously collected clinical isolates, conducted comprehensive whole genome sequencing (WGS), and pinpointed resistance mechanisms to carbapenemases or $\\beta$-lactamases. The samples originate from Brigham & Women's Hospital, located in Boston, MA.\n",
    "\n",
    "Our analysis will focus on a curated subset of 280 E. coli isolates, all collected in 2023. The teaching team has refined the dataset to omit any instances of sparse data. The cleaned dataset is accessible through [a CSV file](https://gitlab.com/oasci/courses/pitt/biosc1540-2024s/-/blob/main/biosc1540/files/csv/checkpoints/genomics/ecoli-amr-isolates.csv).\n",
    "In the following cells, we will demonstrate how to load this CSV file and showcase the first `n` isolates to illustrate the data we will analyze."
   ]
  },
  {
   "cell_type": "code",
   "execution_count": 1,
   "metadata": {},
   "outputs": [],
   "source": [
    "# DO NOT MODIFY CODE BELOW THIS LINE.\n",
    "import numpy as np\n",
    "import pandas as pd\n",
    "import joblib"
   ]
  },
  {
   "cell_type": "code",
   "execution_count": 2,
   "metadata": {},
   "outputs": [
    {
     "name": "stdout",
     "output_type": "stream",
     "text": [
      "There are 280 isolates in the dataset.\n",
      "          Isolate     BioSample         Assembly amoxicillin-clavulanic acid  \\\n",
      "0  PDT001830415.1  SAMN36726481  GCA_032338655.1                           S   \n",
      "1  PDT001830416.1  SAMN36726480  GCA_032338575.1                           S   \n",
      "2  PDT001830417.1  SAMN36726479  GCA_032338615.1                           I   \n",
      "3  PDT001830420.1  SAMN36726477  GCA_032338555.1                           I   \n",
      "4  PDT001830421.1  SAMN36726476  GCA_032338535.1                           S   \n",
      "\n",
      "  cefepime cefoxitin ceftazidime ceftriaxone ciprofloxacin gentamicin  \\\n",
      "0        S         S           S           R             R          R   \n",
      "1        S         S           S           R             R          S   \n",
      "2        S         R           I           R             R          R   \n",
      "3        S         R           R           R             R          R   \n",
      "4        S         S           S           S             S          S   \n",
      "\n",
      "  levofloxacin piperacillin-tazobactam tetracycline tobramycin  \\\n",
      "0            R                       S            S          I   \n",
      "1            R                       S            R          S   \n",
      "2            R                       S            R          R   \n",
      "3            R                       S            S          R   \n",
      "4            S                       S            S          S   \n",
      "\n",
      "  trimethoprim-sulfamethoxazole  \n",
      "0                             R  \n",
      "1                             R  \n",
      "2                             S  \n",
      "3                             S  \n",
      "4                             S  \n"
     ]
    }
   ],
   "source": [
    "# DO NOT MODIFY CODE BELOW THIS LINE.\n",
    "ISOLATE_CSV_PATH = \"https://gitlab.com/oasci/courses/pitt/biosc1540-2024s/-/raw/main/biosc1540/files/csv/checkpoints/genomics/ecoli-amr-isolates.csv\"\n",
    "df_isolates = pd.read_csv(ISOLATE_CSV_PATH)\n",
    "n_isolates = len(df_isolates)\n",
    "print(f\"There are {n_isolates} isolates in the dataset.\")\n",
    "print(df_isolates.head(n=5))"
   ]
  },
  {
   "cell_type": "markdown",
   "metadata": {},
   "source": [
    "Our dataset encompasses resistance data against a spectrum of 12 antibiotics, which are critical in the treatment and management of bacterial infections.\n",
    "These antibiotics include: Amoxicillin-Clavulanic Acid, Cefepime, Cefoxitin, Ceftazidime, Ceftriaxone, Ciprofloxacin, Gentamicin, Levofloxacin, Piperacillin-Tazobactam, Tetracycline, Tobramycin, and Trimethoprim-Sulfamethoxazole.\n",
    "For each antibiotic, the dataset provides insights into the bacterial isolates' susceptibility profile, which is crucial for understanding resistance patterns and guiding therapeutic decisions.\n",
    "\n",
    "The dataset categorizes the response of each *E. coli* isolate to these antibiotics using three distinct labels, reflecting the degree of resistance observed. These labels are:\n",
    "\n",
    "-   `S` (Susceptible): Indicates that the isolate is not resistant to the antibiotic, suggesting that the drug is likely to be effective in treating infections caused by this isolate.\n",
    "-   `I` (Intermediate): Signifies a moderate level of resistance; the antibiotic may be effective in certain conditions, such as when a higher dose is administered or when drug concentration at the site of infection is optimized.\n",
    "-   `R` (Resistant): Shows that the isolate has a high level of resistance to the antibiotic, implying that the drug is unlikely to be effective in treating infections caused by this isolate.\n",
    "\n",
    "This nuanced classification enables healthcare professionals and researchers to make informed decisions regarding antibiotic selection, contributing to the ongoing battle against antibiotic resistance."
   ]
  },
  {
   "cell_type": "markdown",
   "metadata": {},
   "source": [
    "## Preliminary analysis\n",
    "\n",
    "To provide valuable insights from this dataset, we calculate the frequency of each resistance label (`S`, `I`, `R`) for all antibiotics to understand the overall resistance pattern."
   ]
  },
  {
   "cell_type": "code",
   "execution_count": 3,
   "metadata": {},
   "outputs": [
    {
     "name": "stdout",
     "output_type": "stream",
     "text": [
      "                                  I      R      S\n",
      "amoxicillin-clavulanic acid    36.0   42.0  202.0\n",
      "cefepime                        0.0   34.0  246.0\n",
      "cefoxitin                      13.0   54.0  213.0\n",
      "ceftazidime                     5.0  112.0  163.0\n",
      "ceftriaxone                     0.0  254.0   26.0\n",
      "ciprofloxacin                  26.0  170.0   84.0\n",
      "gentamicin                      0.0   49.0  231.0\n",
      "levofloxacin                   54.0  158.0   68.0\n",
      "piperacillin-tazobactam         3.0   23.0  254.0\n",
      "tetracycline                    2.0  153.0  125.0\n",
      "tobramycin                     25.0   38.0  217.0\n",
      "trimethoprim-sulfamethoxazole   0.0  141.0  139.0\n"
     ]
    }
   ],
   "source": [
    "# DO NOT MODIFY CODE BELOW THIS LINE.\n",
    "resistance_summary = df_isolates.iloc[:, 3:].apply(pd.Series.value_counts).T.fillna(0)\n",
    "print(resistance_summary)"
   ]
  },
  {
   "cell_type": "markdown",
   "metadata": {},
   "source": [
    "STUDENT TODO: AMR insight\n",
    "\n",
    "Write here any insight you have with the above data.\n",
    "This can include class of antibiotics used, recommendations for hospitals, statistics, etc."
   ]
  },
  {
   "cell_type": "markdown",
   "metadata": {},
   "source": [
    "### Select antibiotic\n",
    "\n",
    "The teaching team choose `levofloxacin` for this checkpoint."
   ]
  },
  {
   "cell_type": "code",
   "execution_count": 4,
   "metadata": {},
   "outputs": [],
   "source": [
    "# DO NOT MODIFY CODE BELOW THIS LINE.\n",
    "\n",
    "antibiotic_sel = \"levofloxacin\""
   ]
  },
  {
   "cell_type": "code",
   "execution_count": 5,
   "metadata": {},
   "outputs": [
    {
     "name": "stdout",
     "output_type": "stream",
     "text": [
      "(280,)\n"
     ]
    }
   ],
   "source": [
    "# DO NOT MODIFY CODE BELOW THIS LINE.\n",
    "def encode_labels(df, antibiotic_sel):\n",
    "    labels = df[antibiotic_sel].to_numpy()\n",
    "    resistance_mapping = {\"S\": 0, \"I\": 1, \"R\": 2}\n",
    "    labels = np.vectorize(resistance_mapping.get)(labels)\n",
    "    labels = labels\n",
    "    return labels\n",
    "\n",
    "\n",
    "labels = encode_labels(df_isolates, antibiotic_sel)\n",
    "print(labels.shape)"
   ]
  },
  {
   "cell_type": "markdown",
   "metadata": {},
   "source": [
    "## Loading genes\n",
    "\n",
    "Each isolate had 2,113 sequenced genes common between them.\n",
    "However, in order to simplify downstream analyses, we limit our analysis to 1,480 genes that all had the same length across our isolates.\n",
    "This allows us to bypass the need to align sequences.\n",
    "All sequences in the same isolate order as `df_isolates` is stored [as NumPy files in a 135.11 MB zip archive](https://gitlab.com/oasci/courses/pitt/biosc1540-2024s/-/blob/main/large-files/genomics-checkpoint-genes.zip).\n",
    "\n",
    "We download this file below."
   ]
  },
  {
   "cell_type": "code",
   "execution_count": 6,
   "metadata": {},
   "outputs": [],
   "source": [
    "# DO NOT MODIFY CODE BELOW THIS LINE.\n",
    "!wget https://gitlab.com/oasci/courses/pitt/biosc1540-2024s/-/raw/main/large-files/genomics-checkpoint-genes.zip > /dev/null 2>&1"
   ]
  },
  {
   "cell_type": "markdown",
   "metadata": {},
   "source": [
    "We extract these files into a directory called `genes`."
   ]
  },
  {
   "cell_type": "code",
   "execution_count": 7,
   "metadata": {},
   "outputs": [],
   "source": [
    "# DO NOT MODIFY CODE BELOW THIS LINE.\n",
    "!unzip genomics-checkpoint-genes.zip > /dev/null 2>&1\n",
    "!mv genes-array genes"
   ]
  },
  {
   "cell_type": "markdown",
   "metadata": {},
   "source": [
    "We provide a brief description and links for each gene on [the website](https://pitt-biosc1540-2024s.oasci.org/assessments/checkpoints/genomics/genes/).\n",
    "You are encouraged to think about which genes would be relevant for antibiotic resistance.\n",
    "At the end of the day, you should be fine randomly picky genes as long as you can provide some rationale."
   ]
  },
  {
   "cell_type": "markdown",
   "metadata": {},
   "source": [
    "The following cells provide code to load in a gene to a NumPy array."
   ]
  },
  {
   "cell_type": "code",
   "execution_count": 6,
   "metadata": {},
   "outputs": [],
   "source": [
    "# DO NOT MODIFY CODE BELOW THIS LINE.\n",
    "def load_gene_data(gene_name):\n",
    "    \"\"\"Loads all variants of gene into a NumPy array.\"\"\"\n",
    "    return np.load(f\"genes/{gene_name}.npy\")"
   ]
  },
  {
   "cell_type": "markdown",
   "metadata": {},
   "source": [
    "For example, this is how you would load the DNA sequences of the fadL gene of all isolates into a NumPy array."
   ]
  },
  {
   "cell_type": "code",
   "execution_count": 7,
   "metadata": {},
   "outputs": [
    {
     "name": "stdout",
     "output_type": "stream",
     "text": [
      "[['A' 'T' 'G' ... 'T' 'G' 'A']\n",
      " ['A' 'T' 'G' ... 'T' 'G' 'A']\n",
      " ['A' 'T' 'G' ... 'T' 'G' 'A']\n",
      " ...\n",
      " ['A' 'T' 'G' ... 'T' 'G' 'A']\n",
      " ['A' 'T' 'G' ... 'T' 'G' 'A']\n",
      " ['A' 'T' 'G' ... 'T' 'G' 'A']]\n",
      "(280, 1341)\n"
     ]
    }
   ],
   "source": [
    "gene_fadL = load_gene_data(\"fadL\")\n",
    "print(gene_fadL)\n",
    "print(gene_fadL.shape)"
   ]
  },
  {
   "cell_type": "markdown",
   "metadata": {},
   "source": [
    "## Selecting genes\n",
    "\n",
    "The ability of pathogens to evolve resistance to antibiotics can be traced back to genetic variations in specific genes.\n",
    "These variations might include mutations that alter the target site of an antibiotic, the activation of efflux pumps that expel the antibiotic from the cell, or the acquisition of genes that degrade or modify the antibiotic, rendering it ineffective.\n",
    "Understanding the genetic basis of antibiotic resistance is essential for developing new therapeutic strategies and predicting the emergence of resistance in bacterial populations."
   ]
  },
  {
   "cell_type": "markdown",
   "metadata": {},
   "source": [
    "### Visualize\n",
    "\n",
    "Plotting the results of the MSA provides a visual representation of the genetic landscape of antibiotic resistance genes, highlighting areas of high variability that may be hotspots for the development of resistance.\n",
    "This visualization can be particularly illuminating, as it allows students to see the correlation between genetic variations and resistance phenotypes, reinforcing the concept that genetic changes drive antibiotic resistance.\n",
    "Furthermore, this approach can be extended to include computational models that predict resistance based on genetic data, offering a comprehensive toolset for tackling antibiotic resistance from a genetic perspective.\n",
    "\n",
    "The next cell setups up code that will plot the gene alignment for you."
   ]
  },
  {
   "cell_type": "code",
   "execution_count": 8,
   "metadata": {},
   "outputs": [],
   "source": [
    "# DO NOT MODIFY CODE BELOW THIS LINE.\n",
    "\n",
    "import math\n",
    "import matplotlib.pyplot as plt\n",
    "from matplotlib.colors import ListedColormap\n",
    "\n",
    "\n",
    "def numberizer(msa_array):\n",
    "    nucleotide_to_number = {\"A\": 0.25, \"C\": 0.5, \"G\": 0.75, \"T\": 1.0}\n",
    "    msa_array = np.vectorize(nucleotide_to_number.get)(msa_array)\n",
    "    return msa_array\n",
    "\n",
    "\n",
    "def plot_alignment(msa_array, start_seq, n_seq, nuc_per_ax=200):\n",
    "    msa_array = numberizer(msa_array)\n",
    "    seq_stop = start_seq + n_seq\n",
    "\n",
    "    msa_array = msa_array[start_seq:seq_stop]\n",
    "\n",
    "    n_nuc = msa_array.shape[1]\n",
    "    n_axes = math.ceil(n_nuc / nuc_per_ax)\n",
    "\n",
    "    custom_cmap = ListedColormap([\"#264653\", \"#f94144\", \"#f9c74f\", \"#43aa8b\"])\n",
    "\n",
    "    fig, axs = plt.subplots(n_axes, 1, figsize=(10, 3 * n_axes), sharex=True)\n",
    "    axs = np.atleast_1d(axs)  # Ensure axs is always an array for consistency\n",
    "\n",
    "    nuc_start = 0\n",
    "    for ax in axs:\n",
    "        nuc_stop = min(nuc_start + nuc_per_ax, n_nuc)\n",
    "        seq_sliced = msa_array[:, nuc_start:nuc_stop]  # Correct slicing\n",
    "\n",
    "        im = ax.imshow(\n",
    "            seq_sliced,  # Transpose for correct orientation\n",
    "            cmap=custom_cmap,\n",
    "            aspect=\"auto\",\n",
    "            interpolation=\"none\",\n",
    "        )\n",
    "\n",
    "        ax.set_xticks([])\n",
    "        ax.set_yticks([])\n",
    "        ax.set_ylabel(f\"Seq {start_seq} to {seq_stop}\")\n",
    "        ax.set_title(f\"Positions {nuc_start + 1} to {nuc_stop}\")\n",
    "        nuc_start += nuc_per_ax\n",
    "\n",
    "    plt.tight_layout()\n",
    "    plt.show()"
   ]
  },
  {
   "cell_type": "markdown",
   "metadata": {},
   "source": [
    "Now, let's choose a random gene to plot."
   ]
  },
  {
   "cell_type": "code",
   "execution_count": 9,
   "metadata": {},
   "outputs": [
    {
     "data": {
      "image/png": "[encoded data removed]",
      "text/plain": [
       "<Figure size 1000x1800 with 6 Axes>"
      ]
     },
     "metadata": {},
     "output_type": "display_data"
    }
   ],
   "source": [
    "gene_argE = load_gene_data(\"argE\")\n",
    "plot_alignment(gene_argE, 0, 50)"
   ]
  },
  {
   "cell_type": "markdown",
   "metadata": {},
   "source": [
    "### Analyze variability\n",
    "\n",
    "Your objective in this section is to pinpoint genes that are potentially pivotal in influencing how bacterial strains respond to antibiotics.\n",
    "Given the extensive list of over 1000 genes available, it's impractical to incorporate each one into our analysis due to computational constraints.\n",
    "Your challenge is to discern a subset of genes, optimally fewer than 50, to ensure our analysis remains efficient and manageable.\n",
    "Selecting a concise and relevant set of genes is crucial, as including too many can significantly prolong processing times.\n",
    "\n",
    "For the bulk of analytical methods we'll employ, numerical data is a prerequisite.\n",
    "Alphanumeric or text data must be converted into a numerical format to facilitate most statistical and machine learning analyses.\n",
    "Recognizing this need, our instructional team has devised a `numberizer` function.\n",
    "This utility is designed to transform sequences (typically represented in letters or combinations of alphanumeric characters) into corresponding integers.\n",
    "\n",
    "Below, you'll find an example demonstrating how to apply the `numberizer` function. This step is essential for preparing your data, converting gene sequences or other relevant alphanumeric information into a format that can be analyzed quantitatively. By doing so, you make the data compatible with various analytical tools and models, which rely on numerical input to function correctly."
   ]
  },
  {
   "cell_type": "code",
   "execution_count": 10,
   "metadata": {},
   "outputs": [
    {
     "name": "stdout",
     "output_type": "stream",
     "text": [
      "[['A' 'T' 'G' ... 'T' 'A' 'A']\n",
      " ['A' 'T' 'G' ... 'T' 'A' 'A']\n",
      " ['A' 'T' 'G' ... 'T' 'A' 'A']\n",
      " ...\n",
      " ['A' 'T' 'G' ... 'T' 'A' 'A']\n",
      " ['A' 'T' 'G' ... 'T' 'A' 'A']\n",
      " ['A' 'T' 'G' ... 'T' 'A' 'A']]\n",
      "[[0.25 1.   0.75 ... 1.   0.25 0.25]\n",
      " [0.25 1.   0.75 ... 1.   0.25 0.25]\n",
      " [0.25 1.   0.75 ... 1.   0.25 0.25]\n",
      " ...\n",
      " [0.25 1.   0.75 ... 1.   0.25 0.25]\n",
      " [0.25 1.   0.75 ... 1.   0.25 0.25]\n",
      " [0.25 1.   0.75 ... 1.   0.25 0.25]]\n"
     ]
    }
   ],
   "source": [
    "gene_argE = load_gene_data(\"argE\")\n",
    "gene_argE_feat = numberizer(gene_argE)\n",
    "\n",
    "print(gene_argE)\n",
    "print(gene_argE_feat)"
   ]
  },
  {
   "cell_type": "markdown",
   "metadata": {},
   "source": [
    "### Your Task\n",
    "\n",
    "1. **Analyze the Gene Data**: Begin by examining the dataset to understand the characteristics and variability of the genes. Use statistical methods to identify genes that show significant patterns or differences, which might influence antibiotic susceptibility.\n",
    "   \n",
    "2. **Select a Subset of Genes**: Based on your analysis, choose a subset of genes that you believe are most relevant for determining antibiotic susceptibility. Aim for a selection of fewer than 50 genes to maintain computational efficiency and focus on the most promising candidates.\n",
    "   \n",
    "3. **Prepare Your Data**: Apply the `numberizer` function to convert any alphanumeric gene data into numerical format, making it ready for further analysis.\n",
    "\n",
    "Remember, the goal is to narrow down the vast array of genes to those most likely to yield insights into antibiotic resistance mechanisms, using a combination of analytical strategies and data preparation techniques."
   ]
  },
  {
   "cell_type": "markdown",
   "metadata": {},
   "source": [
    "First, we have to load all of our gene names into a NumPy array."
   ]
  },
  {
   "cell_type": "code",
   "execution_count": 11,
   "metadata": {},
   "outputs": [
    {
     "name": "stdout",
     "output_type": "stream",
     "text": [
      "['fadL' 'artJ' 'araD' ... 'rpsQ' 'rpmJ' 'yrbN']\n"
     ]
    }
   ],
   "source": [
    "# DO NOT MODIFY CODE BELOW THIS LINE.\n",
    "\n",
    "import io\n",
    "from urllib import request\n",
    "\n",
    "GENE_NAMES_NPY_PATH = \"https://gitlab.com/oasci/courses/pitt/biosc1540-2024s/-/raw/main/biosc1540/assessments/checkpoints/genomics/gene-names.npy\"\n",
    "\n",
    "response = request.urlopen(GENE_NAMES_NPY_PATH)\n",
    "content = response.read()\n",
    "gene_names = np.load(io.BytesIO(content))\n",
    "print(gene_names)"
   ]
  },
  {
   "cell_type": "markdown",
   "metadata": {},
   "source": [
    "Now, you can choose your analysis to select what genes you want.\n",
    "In our hypothetical descriptor, we think the length of the gene plays a crucial role.\n",
    "So, we compute the length of each gene and store it in the list `desc_all`"
   ]
  },
  {
   "cell_type": "code",
   "execution_count": 12,
   "metadata": {},
   "outputs": [
    {
     "name": "stdout",
     "output_type": "stream",
     "text": [
      "[0.07971992 0.08134248 0.0708037  ... 0.08110919 0.08070348 0.09112559]\n"
     ]
    }
   ],
   "source": [
    "desc_all = []\n",
    "for gene_name in gene_names:\n",
    "    gene_data = load_gene_data(gene_name)\n",
    "    gene_data = numberizer(gene_data)\n",
    "    gene_desc = np.mean(np.var(gene_data, axis=1), axis=0)\n",
    "\n",
    "    desc_all.append(gene_desc)\n",
    "\n",
    "desc_all = np.array(desc_all)\n",
    "print(desc_all)"
   ]
  },
  {
   "cell_type": "markdown",
   "metadata": {},
   "source": [
    "In the field of genetics, analyzing gene expression data is crucial for understanding the roles of different genes in various biological processes and conditions.\n",
    "One common analysis is identifying genes with high variability in their expression levels across different samples or conditions.\n",
    "Genes exhibiting high variability may be of particular interest as they could be involved in key regulatory processes or responses to environmental changes.\n",
    "\n",
    "This Python code snippet demonstrates a simple yet effective approach to select genes based on their variability.\n",
    "The selection process is based on a predefined variability threshold.\n",
    "Genes with variability above this threshold are considered highly variable and thus selected for further analysis.\n",
    "\n",
    "Here's a breakdown of the code:\n",
    "\n",
    "1. **Setting the Variability Threshold**: A `threshold` value is defined, representing the minimum level of variability required for a gene to be considered highly variable. In this example, the threshold is set to `0.05`.\n",
    "    This threshold is a critical parameter as it determines which genes are selected. Adjusting this value allows you to control the stringency of your gene selection criteria.\n",
    "2. **Identifying High Variability Genes**: The code uses `np.argwhere(desc_all > threshold).ravel()` to find the indices of all genes whose variability exceeds the threshold.\n",
    "    The `desc_all` variable is assumed to be an array containing the variability measures of all genes under study.\n",
    "    The condition `desc_all > threshold` creates a boolean array, where `True` indicates that a gene's variability exceeds the threshold.\n",
    "    `np.argwhere` then retrieves the indices of these genes, and `.ravel()` flattens the array to a one-dimensional array for easy handling.\n",
    "3. **Gene Selection and Output**: The indices obtained in the previous step are used to select the corresponding gene names from the `gene_names` array. The selected gene names are then converted to a list and printed.\n",
    "    Additionally, the total number of selected genes is printed, providing a quick overview of how many genes are considered highly variable according to the set threshold."
   ]
  },
  {
   "cell_type": "code",
   "execution_count": 13,
   "metadata": {},
   "outputs": [
    {
     "name": "stdout",
     "output_type": "stream",
     "text": [
      "['tnaC', 'shoB']\n",
      "2\n"
     ]
    }
   ],
   "source": [
    "threshold = 0.093\n",
    "\n",
    "gene_idxs = np.argwhere(desc_all > threshold).ravel()\n",
    "gene_selection = gene_names[gene_idxs].tolist()\n",
    "print(gene_selection)\n",
    "print(len(gene_selection))"
   ]
  },
  {
   "cell_type": "markdown",
   "metadata": {},
   "source": [
    "### Customizing Your Gene Selection\n",
    "\n",
    "In your analysis of gene variability and selection, it is crucial to consider not just the genes identified through automated processes but also those of specific biological interest.\n",
    "This is particularly true for genes associated with critical functions such as antibiotic resistance.\n",
    "Some of these genes might not meet the variability threshold set in the initial analysis but are nonetheless essential for your study.\n",
    "\n",
    "After you've run the automated selection process based on variability, there's an opportunity to manually include any additional genes that are known to be biologically significant but were not captured in your initial selection.\n",
    "This step allows you to ensure that your analysis is comprehensive and considers all relevant genetic factors, especially those with well-established roles in antibiotic resistance or other specific biological processes.\n",
    "\n",
    "For instance, if you have identified the gene `bcr` as important for your study but it wasn't selected in the automated process, you can add it manually to your gene selection list.\n",
    "Here's how you can do it:\n",
    "\n",
    "```python\n",
    "# Manually adding a gene to the selection\n",
    "gene_selection.append(\"bcr\")\n",
    "```\n",
    "\n",
    "By appending `bcr` to `gene_selection`, you ensure that it is included in your final list of genes for further analysis, despite not meeting the automated selection criteria.\n",
    "This is not required and points will not be taken away if you do not add more genes.\n",
    "\n",
    "Now, it's your turn to customize the gene selection based on biological relevance to your research.\n",
    "If there are any specific genes you've identified as crucial for your study (e.g., related to antibiotic resistance or other significant pathways), add them to the `gene_selection` list using the method shown above.\n"
   ]
  },
  {
   "cell_type": "code",
   "execution_count": 14,
   "metadata": {},
   "outputs": [
    {
     "name": "stdout",
     "output_type": "stream",
     "text": [
      "There are 2 genes selected: ['tnaC', 'shoB']\n"
     ]
    }
   ],
   "source": [
    "# STUDENT TODO: add any genes to your `gene_selection`. (optional)\n",
    "\n",
    "\n",
    "# DO NOT MODIFY CODE BELOW THIS LINE.\n",
    "n_genes = len(gene_selection)\n",
    "print(f\"There are {n_genes} genes selected: {gene_selection}\")"
   ]
  },
  {
   "cell_type": "markdown",
   "metadata": {},
   "source": [
    "After manually adding genes to your selection, it's important to document the reasons behind these choices.\n",
    "This documentation not only supports the scientific rigor of your study but also aids in the interpretation and validation of your results.\n",
    "The rationale for adding each gene can stem from various sources, including biological significance, relevance to the study's goals, or findings from previous research and statistical analyses.\n",
    "\n",
    "### Guidelines for Documenting Your Rationale:\n",
    "\n",
    "1. **Biological Significance**: Describe the known or hypothesized role of the added gene(s) in the biological process or condition under study.\n",
    "    For example, if a gene is known to be involved in antibiotic resistance, explain how its function or regulation contributes to this process.\n",
    "2. **Statistical Analysis**: If statistical analysis or data mining techniques have highlighted these genes as potentially important, summarize the methods used and the findings that led to their selection.\n",
    "    For instance, a gene might have shown marginal variability that didn't meet the initial threshold but displayed significant differential expression in specific conditions relevant to your research.\n",
    "3. **Literature Support**: Reference any scientific literature that supports the inclusion of these genes in your study.\n",
    "    This could include previous studies showing the gene's involvement in related biological pathways, its expression in certain diseases, or its potential as a therapeutic target.\n",
    "4. **Experimental Evidence**: Mention any preliminary data or experimental observations from your own research or others' that indicate the relevance of these genes.\n",
    "    For example, if lab experiments suggest a gene's altered expression under certain conditions, this could justify its inclusion.\n",
    "5. **Computational Predictions**: If computational models or predictive algorithms suggest that a gene could be important for your study's context, outline the basis of these predictions.\n",
    "    This could involve gene-gene interaction networks, pathway analysis, or gene function predictions.\n",
    "\n",
    "Example of documenting rationale:\n",
    "\n",
    "- Gene XYZ has been implicated in the metabolic pathway responsible for drug resistance, particularly in the context of antibiotic XYZ. Its role in efflux pump regulation suggests a direct mechanism by which resistance can be conferred.\n",
    "- Although Gene XYZ's variability was below our initial threshold, subgroup analysis showed it to be significantly upregulated in strains known to exhibit resistance, suggesting its potential involvement in a resistance mechanism.\n",
    "- Smith et al. (2020) demonstrated that overexpression of Gene XYZ correlates with increased resistance levels in bacterial cultures exposed to antibiotic XYZ, supporting its relevance.\n",
    "- Preliminary experiments in our lab have shown that knockdown of Gene XYZ results in decreased resistance to antibiotic XYZ, further indicating its critical role in this biological process.\n",
    "- Network analysis using BioInformaticsTool v2.1 suggested that Gene XYZ is a hub gene in the resistance-related network, indicating its central role in the pathway.\n"
   ]
  },
  {
   "cell_type": "markdown",
   "metadata": {},
   "source": [
    "STUDENT TODO: provide two points of rationale explaining your gene selection by analysis or biological criteria."
   ]
  },
  {
   "cell_type": "markdown",
   "metadata": {},
   "source": [
    "### Featurization\n",
    "\n",
    "Featurization of DNA sequences is a critical step in applying machine learning (ML) to biological data.\n",
    "It involves transforming raw DNA sequences, which are strings of nucleotides (adenine (A), cytosine (C), guanine (G), and thymine (T)), into a numerical format that ML algorithms can process.\n",
    "This transformation is crucial because ML models do not understand textual or sequential data directly; they require numerical input to perform tasks like classification, prediction, or clustering.\n",
    "\n",
    "Different options for featurization of DNA sequences include:\n",
    "\n",
    "-   **One-hot encoding:** Each nucleotide is represented as a binary vector with a length equal to the number of possible nucleotide types (usually four: A, C, G, T). For example, A might be represented as [1, 0, 0, 0], C as [0, 1, 0, 0], and so on. This method is straightforward but can lead to very sparse and high-dimensional data for long sequences.\n",
    "-   **K-mer counting:** This approach involves breaking down DNA sequences into all possible subsequences of length k (k-mers) and counting their occurrences. The choice of k is crucial, as it determines the granularity of the feature representation. Smaller k values capture more local patterns in the sequence, while larger values capture more global patterns.\n",
    "-   **Position-weight matrices (PWMs) and motifs:** This method focuses on identifying and representing common patterns or motifs within DNA sequences. PWMs are used to represent the variability of each nucleotide at each position in the motif.\n",
    "-   **Nucleotide composition:** This simple approach involves calculating the frequencies of each nucleotide within the DNA sequence. It can also be extended to calculate the frequencies of nucleotide pairs (dinucleotides), triples (trinucleotides), etc.\n",
    "\n",
    "\n",
    "K-mer featureization stands out for its balance between capturing the local context of sequences and computational efficiency.\n",
    "By breaking down sequences into k-sized chunks, it converts the sequence data into a fixed-size vector of k-mer counts or frequencies, which can be used directly by ML models.\n",
    "\n",
    "The effectiveness of k-mer based features largely depends on the choice of k.\n",
    "A smaller k might fail to capture meaningful biological patterns due to its focus on very short subsequences, while a very large k could lead to a combinatorial explosion in the number of possible k-mers, many of which might never appear in the dataset or only appear infrequently, leading to sparse and high-dimensional feature spaces.\n",
    "\n",
    "K-mer featureization is widely used in tasks such as genome sequence classification, metagenomic content analysis, and phylogenetic analysis.\n",
    "It has the advantage of being model-agnostic, meaning that the resulting features can be used with a wide range of ML algorithms, from traditional models like SVMs and random forests to deep learning architectures.\n",
    "\n",
    "K-mer counting is particularly well-suited for building an antibiotic resistance classifier for several reasons, each tied to the unique challenges and requirements of analyzing microbial genomes for resistance traits.\n",
    "\n",
    "-   **Captures Genetic Variability:** Antibiotic resistance can be conferred by a wide range of genetic factors, including single nucleotide polymorphisms (SNPs), gene presence/absence, and even more complex genetic arrangements.\n",
    "    K-mer counting efficiently captures these variations by breaking down sequences into subsequences of length k, allowing the model to detect both broad and specific patterns associated with resistance.\n",
    "-   **Model Agnostic:** K-mer features can be used with a wide variety of machine learning models, from simpler linear classifiers to complex deep learning architectures.\n",
    "    This flexibility allows researchers to experiment with different models to find the one that best predicts resistance based on the available data.\n",
    "-   **Highly Informative Features:** K-mers can serve as highly informative features that include information about gene content, mutations, and even horizontal gene transfer events (a common mechanism for the spread of antibiotic resistance genes).\n",
    "    By analyzing the frequency and presence of specific k-mers, the classifier can learn to associate these patterns with resistance phenotypes.\n",
    "-   **Scalable to Large Datasets:** Despite the potential for high dimensionality, k-mer counting scales relatively well to large genomic datasets because the feature space, while potentially large, is fixed and can be efficiently encoded.\n",
    "    Modern computational techniques and data structures, such as hash tables or Bloom filters, enable efficient storage and retrieval of k-mer counts even in large-scale genomic analyses.\n",
    "-   **Robustness to Sequencing Errors:** K-mer approaches can be designed to be robust against sequencing errors, which are inevitable in high-throughput sequencing data.\n",
    "    By focusing on the presence and abundance of k-mers rather than exact matches to a reference sequence, k-mer based models can tolerate minor variations and errors without significant loss of accuracy.\n",
    "-   **Applicability to Unannotated Regions:** Unlike methods that rely on annotated genes or known resistance markers, k-mer counting does not require prior knowledge of the genetic basis of resistance.\n",
    "    This makes it particularly valuable for identifying novel resistance mechanisms or for analyzing microbial genomes with incomplete annotations.\n"
   ]
  },
  {
   "cell_type": "code",
   "execution_count": 15,
   "metadata": {},
   "outputs": [],
   "source": [
    "# STUDENT TODO: select your value of k.\n",
    "\n",
    "k = 2"
   ]
  },
  {
   "cell_type": "markdown",
   "metadata": {},
   "source": [
    "The following cells define the functions to efficiently compute k-mers of multiple genetic sequences.\n",
    "Algorithm explanations are also provided."
   ]
  },
  {
   "cell_type": "code",
   "execution_count": 21,
   "metadata": {},
   "outputs": [],
   "source": [
    "# DO NOT MODIFY CODE BELOW THIS LINE.\n",
    "\n",
    "import itertools\n",
    "from multiprocessing import Pool"
   ]
  },
  {
   "cell_type": "code",
   "execution_count": 22,
   "metadata": {},
   "outputs": [],
   "source": [
    "# DO NOT MODIFY CODE BELOW THIS LINE.\n",
    "\n",
    "\n",
    "def generate_all_kmers(k):\n",
    "    \"\"\"\n",
    "    Generate all possible k-mers of length k from the nucleotides A, C, G, and T.\n",
    "\n",
    "    Args:\n",
    "        k (int): Length of the k-mer.\n",
    "\n",
    "    Returns:\n",
    "        list: A list of strings, each representing a possible k-mer.\n",
    "    \"\"\"\n",
    "    nucleotides = [\"A\", \"C\", \"G\", \"T\"]\n",
    "    return [\"\".join(p) for p in itertools.product(nucleotides, repeat=k)]"
   ]
  },
  {
   "cell_type": "markdown",
   "metadata": {},
   "source": [
    "<details><summary>generate_all_kmers</summary>\n",
    "\n",
    "The algorithm is a Python list comprehension that generates all possible combinations of nucleotides of length `k`, where `k` is a given integer.\n",
    "This specific line of code uses the `itertools.product` function to produce the Cartesian product of a sequence of nucleotides repeated `k` times.\n",
    "Let's break down how it works step by step:\n",
    "\n",
    "**Components of the Algorithm**\n",
    "\n",
    "1.  A list `nucleotides` containing the four DNA nucleotides: `['A', 'C', 'G', 'T']`.\n",
    "2.  A function from the `itertools` module in Python's standard library. It is used to compute the Cartesian product of input iterables. The `repeat=k` argument specifies how many times the input iterable (in this case, the list of nucleotides) should be repeated in the product. The result is an iterator of tuples, where each tuple is a combination of nucleotides of length `k`.\n",
    "3.  This is a concise way to create lists in Python. The expression `[''.join(p) for p in itertools.product(nucleotides, repeat=k)]` iterates over each tuple `p` produced by `itertools.product(nucleotides, repeat=k)`, joins the elements of the tuple into a string using `''.join(p)`, and collects these strings into a new list.\n",
    "\n",
    "**How It Works**\n",
    "\n",
    "- The `itertools.product` function is called with the list of nucleotides and the `repeat=k` argument. This generates all possible combinations of the nucleotides repeated `k` times. For example, if `k=2`, the product would include combinations like `('A', 'A')`, `('A', 'C')`, ..., `('T', 'T')`.\n",
    "- Each tuple `p` in the iterator returned by `itertools.product` represents a unique combination of nucleotides of length `k`. The tuples might look like `('A', 'C')`, `('G', 'T')`, etc., depending on the value of `k`.\n",
    "- The list comprehension iterates over these tuples. For each tuple `p`, the `''.join(p)` method is called, which concatenates the elements of the tuple into a single string. This operation transforms a tuple of nucleotides like `('A', 'C')` into a string `\"AC\"`.\n",
    "- Finally, the list comprehension collects all these strings into a new list, which represents all possible k-mers of length `k` made up from the nucleotides 'A', 'C', 'G', 'T'.\n",
    "\n",
    "**Example**\n",
    "\n",
    "For `k=2`, the output would be a list of all possible 2-mer combinations of the nucleotides 'A', 'C', 'G', 'T', such as `[\"AA\", \"AC\", \"AG\", \"AT\", \"CA\", \"CC\", ..., \"TT\"]`.\n",
    "\n",
    "</details>"
   ]
  },
  {
   "cell_type": "code",
   "execution_count": 23,
   "metadata": {},
   "outputs": [],
   "source": [
    "# DO NOT MODIFY CODE BELOW THIS LINE.\n",
    "\n",
    "\n",
    "def create_kmer_mapping(all_kmers):\n",
    "    \"\"\"\n",
    "    Create a mapping from each k-mer to its index, facilitating quick lookups.\n",
    "\n",
    "    Args:\n",
    "        all_kmers (list): List of all possible k-mers generated by `generate_all_kmers`.\n",
    "\n",
    "    Returns:\n",
    "        dict: A dictionary with k-mers as keys and their respective indices as values.\n",
    "    \"\"\"\n",
    "    return {kmer: i for i, kmer in enumerate(all_kmers)}"
   ]
  },
  {
   "cell_type": "markdown",
   "metadata": {},
   "source": [
    "<details><summary>create_kmer_mapping</summary>\n",
    "\n",
    "The algorithm is a Python dictionary comprehension that creates a dictionary mapping each k-mer to its index within a list of all possible k-mers.\n",
    "Let's break down how this algorithm works, focusing on its components and functionality.\n",
    "\n",
    "**Components of the Algorithm**\n",
    "\n",
    "1. `all_kmers`: A list that contains all possible k-mer strings. A k-mer is a substring of length `k` derived from a longer sequence, commonly used in bioinformatics for analyzing genetic sequences.\n",
    "2. `enumerate(all_kmers)`: The `enumerate` function takes an iterable (in this case, `all_kmers`) and returns an iterator that produces pairs of an index (`i`) and the value at that index (`kmer`) from the iterable. The index starts from 0 by default.\n",
    "3. Dictionary Comprehension: `{kmer: i for i, kmer in enumerate(all_kmers)}` is a dictionary comprehension, a concise way to create dictionaries in Python. This particular comprehension iterates over each index-value pair produced by `enumerate(all_kmers)`.\n",
    "\n",
    "**How It Works**\n",
    "\n",
    "- For each iteration, `enumerate(all_kmers)` provides an index (`i`) and the value at that index (`kmer`), which is a specific k-mer string from the `all_kmers` list.\n",
    "- The dictionary comprehension takes each `i, kmer` pair and constructs a key-value pair in the resulting dictionary, where `kmer` is the key and `i` is the value. This means each k-mer string from the `all_kmers` list is mapped to its corresponding index in that list.\n",
    "- The process repeats for every item in `all_kmers`, ensuring every k-mer is included in the dictionary with its index as the value.\n",
    "\n",
    "**Purpose and Usage**\n",
    "\n",
    "The purpose of this algorithm is to create a quick lookup table where each k-mer can be identified by its position in the list of all k-mers. This is particularly useful in bioinformatics and computational biology for tasks such as k-mer counting, sequence alignment, and genome assembly, where knowing the index of a k-mer in a comprehensive list can be crucial for analysis and comparison.\n",
    "\n",
    "**Example**\n",
    "\n",
    "Suppose `all_kmers` is `['AA', 'AC', 'AG', 'AT']`. The resulting dictionary would be:\n",
    "\n",
    "```python\n",
    "{\n",
    "    'AA': 0,\n",
    "    'AC': 1,\n",
    "    'AG': 2,\n",
    "    'AT': 3\n",
    "}\n",
    "```\n",
    "\n",
    "This dictionary maps each 2-mer to its index in the list `all_kmers`.\n",
    "\n",
    "**Conclusion**\n",
    "\n",
    "This algorithm efficiently maps each k-mer to its index in a given list of k-mers, facilitating rapid index lookups and offering a compact way to reference k-mers by their position in a predefined list. This mapping is highly beneficial for numerous applications in genomics and bioinformatics where such operations are frequently required.\n",
    "\n",
    "<details>"
   ]
  },
  {
   "cell_type": "code",
   "execution_count": 24,
   "metadata": {},
   "outputs": [],
   "source": [
    "# DO NOT MODIFY CODE BELOW THIS LINE.\n",
    "\n",
    "\n",
    "def count_kmers_seq(sequence, k, kmer_mapping):\n",
    "    \"\"\"\n",
    "    Count the occurrences of each k-mer in a given sequence.\n",
    "\n",
    "    Args:\n",
    "        sequence (str): The DNA sequence to count k-mers in.\n",
    "        k (int): The k-mer size.\n",
    "        kmer_mapping (dict): A pre-generated mapping of k-mers to indices.\n",
    "\n",
    "    Returns:\n",
    "        np.ndarray: An array of counts for each k-mer.\n",
    "    \"\"\"\n",
    "    if not isinstance(sequence, str):\n",
    "        sequence = \"\".join(sequence)\n",
    "    kmer_counts = np.zeros(len(kmer_mapping), dtype=np.int32)\n",
    "\n",
    "    for i in range(len(sequence) - k + 1):\n",
    "        kmer = sequence[i : i + k]\n",
    "        index = kmer_mapping.get(kmer)\n",
    "        if index is not None:\n",
    "            kmer_counts[index] += 1\n",
    "\n",
    "    return kmer_counts"
   ]
  },
  {
   "cell_type": "markdown",
   "metadata": {},
   "source": [
    "<details><summary>count_kmers_seq</summary>\n",
    "\n",
    "This algorithm is designed to count the occurrences of each k-mer within a given DNA sequence.\n",
    "It leverages a mapping where each k-mer is associated with a specific index, and it uses this mapping to efficiently tally the counts of each k-mer in an array.\n",
    "Let's break down how it operates step-by-step.\n",
    "\n",
    "**Components of the Algorithm**\n",
    "\n",
    "1. `kmer_counts`: An array initialized with zeros, created using NumPy. The length of this array is equal to the number of unique k-mers in the `kmer_mapping`. Each position in the array is intended to hold the count of occurrences of the corresponding k-mer in the sequence. The `dtype=np.int32` specifies that the integers are 32-bit, optimizing memory usage.\n",
    "2. `sequence`: A string representing the DNA sequence from which k-mers will be counted. DNA sequences consist of nucleotides denoted by the letters A, C, G, and T.\n",
    "3. `k`: The length of the k-mers to be counted.\n",
    "4. `kmer_mapping`: A dictionary mapping each k-mer to a unique index. This mapping is used to identify the position in the `kmer_counts` array where the count for each k-mer should be incremented.\n",
    "\n",
    "**How It Works**\n",
    "\n",
    "1.  The algorithm begins by creating an array of zeros, `kmer_counts`, with a size equal to the number of entries in `kmer_mapping`.\n",
    "    This array is prepared to store the count of each k-mer found in the sequence.\n",
    "2.  It then iterates through the sequence, starting from the first nucleotide and stopping at a position where the last k-mer of length `k` can be obtained.\n",
    "    This is done by looping from 0 to `len(sequence) - k + 1`. For each position `i`, a substring of length `k` (`kmer`) is extracted from the sequence.\n",
    "3.  For each extracted k-mer, the algorithm looks up the corresponding index in `kmer_mapping` using `kmer_mapping.get(kmer)`.\n",
    "    This method returns `None` if the k-mer is not found, ensuring that only k-mers present in the mapping are considered.\n",
    "4.  If the k-mer is found in the mapping (`index` is not `None`), the count in the `kmer_counts` array at the position specified by the index is incremented by 1. This effectively tallies the occurrence of each k-mer.\n",
    "5.  After iterating through the entire sequence and updating the counts for each k-mer found, the algorithm returns the `kmer_counts` array. This array now contains the total counts of each k-mer as per their mapping indices.\n",
    "\n",
    "**Purpose and Usage**\n",
    "\n",
    "This algorithm is particularly useful in bioinformatics for analyzing the composition and frequency of k-mers within genomic sequences. Understanding the abundance of various k-mers is crucial for tasks such as genome assembly, sequence alignment, and motif discovery.\n",
    "By using a mapping and a count array, the algorithm achieves efficient and fast k-mer counting, which is essential when dealing with large genomic datasets.\n",
    "\n",
    "**Example**\n",
    "\n",
    "Consider a short sequence `ACGTAC` with `k=2` and a `kmer_mapping` of `{'AC': 0, 'CG': 1, 'GT': 2, 'TA': 3}`.\n",
    "The algorithm would produce a `kmer_counts` array `[1, 1, 1, 1]`, indicating that each of the k-mers `AC`, `CG`, `GT`, and `TA` appears exactly once in the sequence.\n",
    "\n",
    "This algorithm efficiently maps the complex problem of k-mer counting to a simple array operation, leveraging the power of Python dictionaries for fast lookup and NumPy arrays for efficient numerical operations.\n",
    "\n",
    "</details>"
   ]
  },
  {
   "cell_type": "code",
   "execution_count": 25,
   "metadata": {},
   "outputs": [],
   "source": [
    "# DO NOT MODIFY CODE BELOW THIS LINE.\n",
    "\n",
    "\n",
    "def parallel_count_kmers(sequences, k, kmer_mapping):\n",
    "    \"\"\"\n",
    "    Parallelize the counting of k-mers across multiple DNA sequences.\n",
    "\n",
    "    This function utilizes multiprocessing to efficiently process multiple sequences\n",
    "    in parallel, significantly improving performance on multi-core systems.\n",
    "\n",
    "    Args:\n",
    "        sequences (iterable of str): An iterable containing DNA sequences.\n",
    "        k (int): The k-mer size.\n",
    "        kmer_mapping (dict): Mapping from k-mers to their respective indices.\n",
    "\n",
    "    Returns:\n",
    "        np.ndarray: A 2D array where each row represents the k-mer counts for a sequence.\n",
    "    \"\"\"\n",
    "    args_list = [(sequence, k, kmer_mapping) for sequence in sequences]\n",
    "\n",
    "    with Pool() as pool:\n",
    "        result = pool.starmap(count_kmers_seq, args_list)\n",
    "\n",
    "    return np.array(result)"
   ]
  },
  {
   "cell_type": "markdown",
   "metadata": {},
   "source": [
    "<details><summary>parallel_count_kmers</summary>\n",
    "\n",
    "This algorithm is designed to count k-mers across multiple DNA sequences in parallel, using Python's multiprocessing capabilities to distribute the work across multiple processes. It is particularly useful for processing large datasets in bioinformatics, where analyzing sequences for k-mer counts can be computationally intensive. Here's a step-by-step breakdown of how this algorithm works:\n",
    "\n",
    "**Components of the Algorithm**\n",
    "\n",
    "1. `sequences`: An iterable (e.g., a list or array) of DNA sequences. Each element in this iterable is a string representing a DNA sequence from which k-mers will be counted.\n",
    "2. `k`: The length of the k-mers to be counted.\n",
    "3. `kmer_mapping`: A dictionary that maps each k-mer to a unique index. This is used to keep track of the counts of each k-mer in an ordered manner.\n",
    "4. `args_list`: A list of tuples, where each tuple contains a single sequence from `sequences`, the value of `k`, and the `kmer_mapping`. This list is prepared as input for parallel processing, with each tuple representing a set of arguments to be passed to a function that counts k-mers in a single sequence.\n",
    "5. `Pool` from `multiprocessing`: A context manager that provides a convenient way to manage a pool of worker processes. It allows for parallel execution of functions across multiple input values, distributing the workload among available CPU cores.\n",
    "6. `pool.starmap`: A method of the `Pool` class that applies a function to all items in a given iterable (`args_list` in this case), unpacking each item in the iterable to use as separate arguments to the function. It is suitable for when the function to be executed in parallel takes multiple arguments.\n",
    "\n",
    "**How It Works**\n",
    "\n",
    "1.  The algorithm starts by creating `args_list`, a list of tuples. Each tuple contains the arguments to be passed to the `count_kmers_seq` function for one of the sequences. This effectively prepares a batch of work where each piece consists of counting k-mers in one sequence.\n",
    "2.  By using `with Pool() as pool:`, a pool of worker processes is created. The number of workers is determined by the available CPU cores on the machine, allowing for parallel computation.\n",
    "3.  The `pool.starmap` function is called with two arguments: `count_kmers_seq`, which is the function to be executed in parallel, and `args_list`, the iterable of arguments prepared earlier. `starmap` iterates over `args_list`, and for each tuple in the list, it unpacks the tuple and calls `count_kmers_seq` with those unpacked arguments. This process happens in parallel across different worker processes, allowing for simultaneous counting of k-mers in multiple sequences.\n",
    "4.  The result of `pool.starmap` is a list where each element corresponds to the result of `count_kmers_seq` for one of the input sequences. This list is then converted to a NumPy array using `np.array(result)` for efficient numerical operations and storage. \n",
    "5.  Finally, the algorithm returns the NumPy array containing the k-mer counts for each sequence. Each row in this array corresponds to the counts of k-mers in one sequence from the input `sequences`.\n",
    "\n",
    "**Purpose and Usage**\n",
    "\n",
    "This algorithm significantly speeds up the process of counting k-mers across multiple sequences by leveraging multiprocessing, making it highly effective for large-scale genomic analyses. Parallel processing allows for the workload to be distributed across multiple CPU cores, reducing the overall computation time when dealing with large datasets typical in bioinformatics.\n",
    "\n",
    "</details>"
   ]
  },
  {
   "cell_type": "markdown",
   "metadata": {},
   "source": [
    "We compute all possible k-mers for the chosen k."
   ]
  },
  {
   "cell_type": "code",
   "execution_count": 26,
   "metadata": {},
   "outputs": [
    {
     "name": "stdout",
     "output_type": "stream",
     "text": [
      "There are 16 unique k-mers in the k-mer mapping\n",
      "{'AA': 0, 'AC': 1, 'AG': 2, 'AT': 3, 'CA': 4, 'CC': 5, 'CG': 6, 'CT': 7, 'GA': 8, 'GC': 9, 'GG': 10, 'GT': 11, 'TA': 12, 'TC': 13, 'TG': 14, 'TT': 15}\n"
     ]
    }
   ],
   "source": [
    "# DO NOT MODIFY CODE BELOW THIS LINE.\n",
    "\n",
    "all_kmers = generate_all_kmers(k)\n",
    "kmer_mapping = create_kmer_mapping(all_kmers)\n",
    "n_kmers = len(kmer_mapping)\n",
    "print(f\"There are {n_kmers} unique k-mers in the k-mer mapping\")\n",
    "print(kmer_mapping)"
   ]
  },
  {
   "cell_type": "markdown",
   "metadata": {},
   "source": [
    "The following cell computes all k-mer features of your selected genes in `gene_selection`."
   ]
  },
  {
   "cell_type": "code",
   "execution_count": 27,
   "metadata": {},
   "outputs": [
    {
     "name": "stdout",
     "output_type": "stream",
     "text": [
      "(2, 280, 16)\n"
     ]
    }
   ],
   "source": [
    "# DO NOT MODIFY CODE BELOW THIS LINE.\n",
    "\n",
    "features = np.empty((n_genes, n_isolates, n_kmers))\n",
    "for i, gene_name in enumerate(gene_selection):\n",
    "    gene_data = load_gene_data(gene_name)\n",
    "    features[i] = parallel_count_kmers(gene_data, k, kmer_mapping)\n",
    "print(features.shape)"
   ]
  },
  {
   "cell_type": "markdown",
   "metadata": {},
   "source": [
    "### Train and test split\n",
    "\n",
    "The purpose of train-test splitting is to prevent data leakage and ensure that the model evaluation metrics reflect its ability to generalize to unseen data.\n",
    "Here's a detailed breakdown of why this practice is essential:\n",
    "\n",
    "1.  **Preventing Data Leakage**\n",
    "\n",
    "    Data leakage occurs when information from outside the training dataset is used to create the model.\n",
    "    This can result in overly optimistic performance metrics that do not accurately represent the model's ability to generalize to new, unseen data.\n",
    "    By splitting the data into training and testing sets before scaling or normalizing, you ensure that the scaling parameters (e.g., mean and standard deviation for standardization, min and max values for normalization) are derived solely from the training data.\n",
    "    This prevents information from the test set from influencing the model training process, thus avoiding data leakage.\n",
    "2.  **Realistic Evaluation of Model Performance**\n",
    "\n",
    "    The test set acts as a stand-in for future, unseen data.\n",
    "    It provides a more realistic evaluation of how the model will perform in practice.\n",
    "    When scaling is applied after splitting, the test data is scaled using parameters from the training data, mirroring how new data would be processed and evaluated in a real-world application.\n",
    "    This ensures the performance metrics obtained during model evaluation are reliable and indicative of how the model will perform on truly unseen data.\n",
    "3.  **Mimicking Real-world Scenarios**\n",
    "\n",
    "    In practice, models are often deployed to make predictions on data that was not available during the training process. The future data must be processed (e.g., scaled or normalized) using the same parameters used for the training data.\n",
    "    By applying the train-test split before scaling, you're effectively practicing and implementing this real-world scenario, where the model is trained on a certain dataset (with its scaling parameters) and later applied to new data that must be processed in the same way.\n",
    "4.  **Ensuring Methodological Rigor**\n",
    "\n",
    "    Splitting before scaling helps maintain the methodological rigor of the machine learning process by ensuring that any preprocessing steps do not inadvertently introduce bias towards the test data.\n",
    "    This practice supports the goal of building models that generalize well to new data by ensuring that all preprocessing steps, including scaling and normalization, are conducted in a way that faithfully represents the challenges of dealing with unseen data."
   ]
  },
  {
   "cell_type": "code",
   "execution_count": 28,
   "metadata": {},
   "outputs": [
    {
     "name": "stdout",
     "output_type": "stream",
     "text": [
      "(2, 168, 16)\n",
      "(2, 112, 16)\n"
     ]
    }
   ],
   "source": [
    "# DO NOT MODIFY CODE BELOW THIS LINE.\n",
    "\n",
    "from sklearn.model_selection import train_test_split\n",
    "\n",
    "RANDOM_STATE = 472929478\n",
    "\n",
    "features_train = []\n",
    "features_test = []\n",
    "\n",
    "for i in range(len(features)):\n",
    "    f_train, f_test = train_test_split(\n",
    "        features[i], test_size=0.4, random_state=RANDOM_STATE\n",
    "    )\n",
    "    features_train.append(f_train)\n",
    "    features_test.append(f_test)\n",
    "\n",
    "features_train = np.array(features_train)\n",
    "features_test = np.array(features_test)\n",
    "\n",
    "print(features_train.shape)\n",
    "print(features_test.shape)"
   ]
  },
  {
   "cell_type": "code",
   "execution_count": 29,
   "metadata": {},
   "outputs": [
    {
     "name": "stdout",
     "output_type": "stream",
     "text": [
      "(168,)\n",
      "(112,)\n"
     ]
    }
   ],
   "source": [
    "# DO NOT MODIFY CODE BELOW THIS LINE.\n",
    "\n",
    "labels_train, labels_test = train_test_split(\n",
    "    labels, test_size=0.4, random_state=RANDOM_STATE\n",
    ")\n",
    "\n",
    "print(labels_train.shape)\n",
    "print(labels_test.shape)"
   ]
  },
  {
   "cell_type": "markdown",
   "metadata": {},
   "source": [
    "After this point, you have four variables:\n",
    "\n",
    "-   `features_train`;\n",
    "-   `features_test`;\n",
    "-   `labels_train`;\n",
    "-   `labels_test`.\n",
    "\n",
    "You should only be using `features_train` and `labels_train` from now on."
   ]
  },
  {
   "cell_type": "markdown",
   "metadata": {},
   "source": [
    "K-mer analysis is a powerful technique in bioinformatics used for various purposes, including sequence comparison, species identification, and understanding genetic diversity.\n",
    "In the context of our study, analyzing k-mers—the subsequences of length *k* found within biological sequences—will assist in refining the selection process of k-mers (select_kmers) for your predictive model, ultimately enhancing its performance.\n",
    "\n",
    "\n",
    "In the cells that follow, you are encouraged to perform analyses on k-mers derived from your dataset.\n",
    "The purpose of these analyses is to gain insights that will inform the optimization of your k-mer selection process, a crucial step for improving your model's accuracy and efficiency.\n",
    "This is very simple to how you selected genes.\n",
    "\n",
    "Below is a simple example where we calculate the mean of each k-mer across the dataset. This example serves as a basic demonstration of how you might begin to analyze k-mers, though it's worth noting that this particular approach—calculating means—may not be the most informative for your specific objectives.\n",
    "\n",
    "1. **Perform K-mer Analysis**: Utilize the cell(s) below to conduct your k-mer analysis.\n",
    "    Start with the provided example and consider how you might adapt it to yield more relevant insights for your project.\n",
    "    For instance, you might explore variance, frequency distribution, or other statistical measures that could reveal distinguishing features among k-mers.\n",
    "2. **Modify and Experiment**: Feel free to modify the analysis method.\n",
    "    The goal is to uncover patterns or characteristics in the k-mer data that could inform a more selective and effective k-mer selection strategy for your model.\n",
    "3. **Document Your Findings**: As you analyze the k-mers, keep notes on any observations or conclusions you draw.\n",
    "    These insights will be valuable for refining your `select_kmers` process and can provide justification for the choices you make in model development.\n",
    "4. **Apply Insights**: Use the insights gained from your analysis to refine your k-mer selection strategy.\n",
    "    The aim is to identify a set of k-mers that are most informative for your model, balancing computational efficiency with predictive accuracy.\n",
    "\n",
    "The k-mer analysis is an exploratory phase where creativity and critical thinking are key.\n",
    "Different datasets and objectives may benefit from varied analytical approaches, so do not hesitate to innovate and try out different methods to uncover the most informative features for your model."
   ]
  },
  {
   "cell_type": "code",
   "execution_count": 71,
   "metadata": {},
   "outputs": [
    {
     "name": "stdout",
     "output_type": "stream",
     "text": [
      "(2, 16)\n",
      "[[ 7.27380952  4.68452381  0.94642857 11.31547619  5.16071429  3.88095238\n",
      "   2.10119048  3.          5.7797619   1.          1.          4.\n",
      "   6.00595238  4.57738095  7.73214286  5.54166667]\n",
      " [ 6.00595238  4.01190476  0.99404762  9.4702381   4.99404762  3.00595238\n",
      "   2.          7.          4.30357143  3.52380952  2.          2.99404762\n",
      "   5.17857143  6.45833333  7.82738095 10.23214286]]\n"
     ]
    }
   ],
   "source": [
    "desc_kmers = []\n",
    "for feat in features_train:\n",
    "    # STUDENT TODO: Change how you analyze your k-mers below if you so desire.\n",
    "    desc = np.mean(feat, axis=0)\n",
    "\n",
    "    # DO NOT MODIFY CODE BELOW THIS LINE.\n",
    "    if desc.ndim != 1:\n",
    "        raise ValueError(\"desc should be a 1D array\")\n",
    "    if desc.shape[0] != n_kmers:\n",
    "        raise ValueError(\n",
    "            \"Make sure you are computing your descriptor using the correct axis\"\n",
    "        )\n",
    "    desc_kmers.append(desc)\n",
    "\n",
    "desc_kmers = np.array(desc_kmers)\n",
    "print(desc_kmers.shape)\n",
    "print(desc_kmers)"
   ]
  },
  {
   "cell_type": "markdown",
   "metadata": {},
   "source": [
    "`desc_kmers` has shape `(n_genes, n_kmers)`.\n",
    "\n",
    "The code snippet provided below is designed to facilitate the selection of k-mers based on a simple numerical criterion.\n",
    "Currently, it selects k-mers whose descriptive statistics exceed a certain threshold.\n",
    "This is a fundamental approach to filter out k-mers that may not contribute effectively to your model's predictive capabilities."
   ]
  },
  {
   "cell_type": "markdown",
   "metadata": {},
   "source": [
    "\n",
    "In this example, the criterion for selecting k-mers is that their descriptive statistic (such as mean, median, etc.) must be greater than `6.0`.\n",
    "This threshold is arbitrary and serves as a starting point for your analysis.\n",
    "\n",
    "\n",
    "1. **Evaluate the Current Criterion**: Start by understanding the logic behind the current selection criterion.\n",
    "    Consider why a threshold of 6.0 was chosen and what it signifies in the context of your data.\n",
    "2. **Modify the Criterion**: Based on your understanding of the dataset and the objectives of your analysis, modify the threshold value or the comparison operation (`>`).\n",
    "    Your goal is to refine this criterion so it better aligns with the characteristics of informative k-mers for your specific analysis.\n",
    "\n",
    "    For example, if you believe that only k-mers with a higher descriptive statistic are relevant, you might increase the threshold. Alternatively, you might decide that k-mers with lower values are more informative and adjust the comparison accordingly.\n",
    "3. **Experiment and Iterate**: After modifying the criterion, observe how the number of selected k-mers changes.\n",
    "    Use this feedback to iteratively refine your selection process.\n",
    "    It may take several attempts to find a balance that optimizes the number and relevance of selected k-mers.\n",
    "4. **Document Your Decisions**: Keep a record of the criteria you test and the rationale behind each change.\n",
    "    This documentation will be invaluable for understanding the impact of your selections on the model's performance and for communicating your methodology to others.\n"
   ]
  },
  {
   "cell_type": "code",
   "execution_count": 72,
   "metadata": {},
   "outputs": [
    {
     "name": "stdout",
     "output_type": "stream",
     "text": [
      "You would have 15 k-mers selected\n"
     ]
    }
   ],
   "source": [
    "# STUDENT TODO: Change your criteria and comparison for your analysis.\n",
    "# You should change this value if you keep the mean descriptor.\n",
    "# If you change your descriptor, you would need to change this value to\n",
    "# be more relevant to the minimum and maximum bounds.\n",
    "\n",
    "mask = desc_kmers > 4.9\n",
    "\n",
    "# DO NOT MODIFY CODE BELOW THIS LINE.\n",
    "kmer_idxs = np.argwhere(mask)\n",
    "print(f\"You would have {len(kmer_idxs)} k-mers selected\")"
   ]
  },
  {
   "cell_type": "markdown",
   "metadata": {},
   "source": [
    "STUDENT TODO: Put information about your k-mer analysis.\n",
    "What descriptor are you using and why?\n",
    "What threshold are you using and why?\n",
    "If you are using the default mean, you still have to provide a rationale."
   ]
  },
  {
   "cell_type": "markdown",
   "metadata": {},
   "source": [
    "By carefully adjusting your selection criteria, you'll be able to tailor the set of k-mers used in your model.\n",
    "The aim is to find a sweet spot where the number of k-mers is manageable, yet they are sufficiently informative to enhance your model's accuracy and efficiency.\n",
    "\n",
    "This feedback loop, where you modify criteria and observe outcomes, is a critical step in data-driven model refinement.\n",
    "Through thoughtful experimentation, you'll develop a deeper understanding of your dataset and how best to utilize it for your predictive modeling efforts."
   ]
  },
  {
   "cell_type": "code",
   "execution_count": 73,
   "metadata": {},
   "outputs": [
    {
     "name": "stdout",
     "output_type": "stream",
     "text": [
      "[[0, 3, 4, 8, 12, 14, 15], [0, 3, 4, 7, 12, 13, 14, 15]]\n"
     ]
    }
   ],
   "source": [
    "# DO NOT MODIFY CODE BELOW THIS LINE.\n",
    "\n",
    "kmer_selections = [[] for _ in range(n_genes)]\n",
    "for sel in kmer_idxs:\n",
    "    gene_idx, kmer_idx = sel\n",
    "    kmer_selections[gene_idx].append(kmer_idx)\n",
    "print(kmer_selections)"
   ]
  },
  {
   "cell_type": "markdown",
   "metadata": {},
   "source": [
    "`kmer_selections` contains a list of which k-mers for each gene we selected."
   ]
  },
  {
   "cell_type": "code",
   "execution_count": 74,
   "metadata": {},
   "outputs": [
    {
     "name": "stdout",
     "output_type": "stream",
     "text": [
      "[[8.0, 7.0, 7.0, 7.0, 7.0, 7.0, 7.0, 9.0, 7.0, 7.0, 7.0, 7.0, 7.0, 8.0, 7.0, 8.0, 7.0, 7.0, 7.0, 7.0, 7.0, 7.0, 7.0, 7.0, 7.0, 7.0, 7.0, 7.0, 7.0, 7.0, 9.0, 9.0, 8.0, 8.0, 7.0, 7.0, 7.0, 7.0, 7.0, 7.0, 7.0, 7.0, 7.0, 7.0, 7.0, 8.0, 7.0, 7.0, 7.0, 7.0, 7.0, 7.0, 8.0, 7.0, 7.0, 8.0, 8.0, 7.0, 7.0, 7.0, 7.0, 7.0, 7.0, 7.0, 7.0, 7.0, 7.0, 7.0, 7.0, 9.0, 7.0, 8.0, 7.0, 7.0, 8.0, 7.0, 7.0, 8.0, 7.0, 8.0, 7.0, 8.0, 7.0, 7.0, 7.0, 7.0, 7.0, 8.0, 8.0, 8.0, 7.0, 7.0, 7.0, 7.0, 7.0, 7.0, 8.0, 7.0, 7.0, 9.0, 7.0, 8.0, 8.0, 8.0, 7.0, 7.0, 7.0, 7.0, 7.0, 7.0, 7.0, 7.0, 7.0, 7.0, 7.0, 7.0, 7.0, 8.0, 7.0, 7.0, 7.0, 8.0, 7.0, 7.0, 7.0, 7.0, 7.0, 7.0, 7.0, 7.0, 8.0, 7.0, 7.0, 9.0, 7.0, 8.0, 7.0, 7.0, 7.0, 7.0, 9.0, 7.0, 7.0, 7.0, 7.0, 7.0, 8.0, 7.0, 9.0, 7.0, 7.0, 7.0, 7.0, 7.0, 7.0, 7.0, 7.0, 7.0, 8.0, 7.0, 7.0, 7.0, 7.0, 7.0, 8.0, 7.0, 9.0, 7.0], [12.0, 12.0, 11.0, 11.0, 11.0, 11.0, 11.0, 11.0, 11.0, 11.0, 11.0, 11.0, 12.0, 12.0, 11.0, 12.0, 11.0, 11.0, 11.0, 11.0, 12.0, 11.0, 11.0, 13.0, 11.0, 11.0, 11.0, 11.0, 11.0, 11.0, 11.0, 11.0, 12.0, 12.0, 11.0, 11.0, 11.0, 11.0, 12.0, 11.0, 12.0, 11.0, 11.0, 12.0, 11.0, 12.0, 11.0, 12.0, 11.0, 11.0, 11.0, 12.0, 12.0, 11.0, 11.0, 12.0, 12.0, 11.0, 11.0, 12.0, 13.0, 11.0, 11.0, 12.0, 11.0, 11.0, 11.0, 11.0, 11.0, 11.0, 11.0, 12.0, 11.0, 11.0, 12.0, 11.0, 11.0, 12.0, 11.0, 12.0, 11.0, 12.0, 11.0, 11.0, 11.0, 11.0, 11.0, 12.0, 12.0, 12.0, 11.0, 11.0, 11.0, 11.0, 11.0, 11.0, 12.0, 13.0, 11.0, 11.0, 11.0, 12.0, 12.0, 12.0, 11.0, 11.0, 13.0, 11.0, 11.0, 12.0, 11.0, 11.0, 11.0, 11.0, 11.0, 11.0, 11.0, 12.0, 11.0, 11.0, 11.0, 12.0, 11.0, 11.0, 11.0, 11.0, 11.0, 11.0, 11.0, 11.0, 12.0, 11.0, 11.0, 11.0, 11.0, 12.0, 11.0, 11.0, 12.0, 11.0, 11.0, 11.0, 13.0, 11.0, 11.0, 11.0, 12.0, 11.0, 11.0, 11.0, 11.0, 11.0, 12.0, 11.0, 11.0, 11.0, 12.0, 12.0, 12.0, 11.0, 11.0, 11.0, 11.0, 11.0, 12.0, 11.0, 11.0, 11.0], [5.0, 6.0, 5.0, 5.0, 6.0, 5.0, 5.0, 6.0, 5.0, 5.0, 5.0, 5.0, 6.0, 5.0, 6.0, 5.0, 5.0, 5.0, 5.0, 5.0, 6.0, 5.0, 5.0, 5.0, 5.0, 5.0, 5.0, 5.0, 5.0, 5.0, 6.0, 6.0, 5.0, 5.0, 5.0, 5.0, 5.0, 5.0, 6.0, 5.0, 6.0, 5.0, 5.0, 6.0, 5.0, 5.0, 5.0, 6.0, 5.0, 5.0, 5.0, 6.0, 5.0, 5.0, 5.0, 5.0, 5.0, 5.0, 5.0, 6.0, 5.0, 5.0, 5.0, 6.0, 5.0, 5.0, 5.0, 5.0, 5.0, 6.0, 5.0, 5.0, 5.0, 5.0, 5.0, 5.0, 5.0, 5.0, 5.0, 5.0, 5.0, 5.0, 5.0, 5.0, 5.0, 5.0, 5.0, 5.0, 5.0, 5.0, 5.0, 5.0, 5.0, 5.0, 5.0, 5.0, 5.0, 5.0, 5.0, 6.0, 5.0, 5.0, 5.0, 5.0, 5.0, 5.0, 5.0, 5.0, 5.0, 6.0, 5.0, 5.0, 5.0, 5.0, 5.0, 5.0, 5.0, 5.0, 6.0, 5.0, 5.0, 5.0, 5.0, 5.0, 5.0, 5.0, 5.0, 5.0, 5.0, 5.0, 5.0, 5.0, 5.0, 6.0, 5.0, 5.0, 5.0, 5.0, 6.0, 5.0, 6.0, 5.0, 5.0, 5.0, 5.0, 5.0, 5.0, 5.0, 6.0, 5.0, 5.0, 5.0, 6.0, 5.0, 5.0, 5.0, 6.0, 6.0, 5.0, 5.0, 5.0, 5.0, 5.0, 5.0, 5.0, 5.0, 6.0, 5.0], [5.0, 6.0, 6.0, 6.0, 6.0, 6.0, 6.0, 5.0, 6.0, 6.0, 6.0, 6.0, 6.0, 5.0, 6.0, 5.0, 6.0, 6.0, 6.0, 6.0, 6.0, 6.0, 6.0, 6.0, 6.0, 6.0, 6.0, 6.0, 6.0, 6.0, 5.0, 5.0, 5.0, 5.0, 6.0, 6.0, 6.0, 6.0, 6.0, 6.0, 6.0, 6.0, 6.0, 6.0, 6.0, 5.0, 6.0, 6.0, 6.0, 6.0, 6.0, 6.0, 5.0, 6.0, 6.0, 5.0, 5.0, 6.0, 6.0, 6.0, 6.0, 6.0, 6.0, 6.0, 6.0, 6.0, 6.0, 6.0, 6.0, 5.0, 6.0, 5.0, 6.0, 6.0, 5.0, 6.0, 6.0, 5.0, 6.0, 5.0, 6.0, 5.0, 6.0, 6.0, 6.0, 6.0, 6.0, 5.0, 5.0, 5.0, 6.0, 6.0, 6.0, 6.0, 6.0, 6.0, 5.0, 6.0, 6.0, 5.0, 6.0, 5.0, 5.0, 5.0, 6.0, 6.0, 6.0, 6.0, 6.0, 6.0, 6.0, 6.0, 6.0, 6.0, 6.0, 6.0, 6.0, 5.0, 6.0, 6.0, 6.0, 5.0, 6.0, 6.0, 6.0, 6.0, 6.0, 6.0, 6.0, 6.0, 5.0, 6.0, 6.0, 5.0, 6.0, 5.0, 6.0, 6.0, 6.0, 6.0, 5.0, 6.0, 6.0, 6.0, 6.0, 6.0, 5.0, 6.0, 5.0, 6.0, 6.0, 6.0, 6.0, 6.0, 6.0, 6.0, 6.0, 6.0, 5.0, 6.0, 6.0, 6.0, 6.0, 6.0, 5.0, 6.0, 5.0, 6.0], [7.0, 5.0, 6.0, 6.0, 5.0, 6.0, 6.0, 5.0, 6.0, 6.0, 6.0, 6.0, 5.0, 7.0, 5.0, 7.0, 6.0, 6.0, 6.0, 6.0, 5.0, 6.0, 6.0, 6.0, 6.0, 6.0, 6.0, 6.0, 6.0, 6.0, 5.0, 5.0, 7.0, 7.0, 6.0, 6.0, 6.0, 6.0, 5.0, 6.0, 5.0, 6.0, 6.0, 5.0, 6.0, 7.0, 6.0, 5.0, 6.0, 6.0, 6.0, 5.0, 7.0, 6.0, 6.0, 7.0, 7.0, 6.0, 6.0, 5.0, 6.0, 6.0, 6.0, 5.0, 6.0, 6.0, 6.0, 6.0, 6.0, 5.0, 6.0, 7.0, 6.0, 6.0, 7.0, 6.0, 6.0, 7.0, 6.0, 7.0, 6.0, 7.0, 6.0, 6.0, 6.0, 6.0, 6.0, 7.0, 7.0, 7.0, 6.0, 6.0, 6.0, 6.0, 6.0, 6.0, 7.0, 6.0, 6.0, 5.0, 6.0, 7.0, 7.0, 7.0, 6.0, 6.0, 6.0, 6.0, 6.0, 5.0, 6.0, 6.0, 6.0, 6.0, 6.0, 6.0, 6.0, 7.0, 5.0, 6.0, 6.0, 7.0, 6.0, 6.0, 6.0, 6.0, 6.0, 6.0, 6.0, 6.0, 7.0, 6.0, 6.0, 5.0, 6.0, 7.0, 6.0, 6.0, 5.0, 6.0, 5.0, 6.0, 6.0, 6.0, 6.0, 6.0, 7.0, 6.0, 5.0, 6.0, 6.0, 6.0, 5.0, 6.0, 6.0, 6.0, 5.0, 5.0, 7.0, 6.0, 6.0, 6.0, 6.0, 6.0, 7.0, 6.0, 5.0, 6.0], [6.0, 9.0, 8.0, 8.0, 8.0, 8.0, 8.0, 8.0, 8.0, 8.0, 8.0, 8.0, 8.0, 6.0, 8.0, 6.0, 8.0, 8.0, 8.0, 8.0, 9.0, 8.0, 8.0, 8.0, 8.0, 8.0, 8.0, 8.0, 8.0, 8.0, 8.0, 8.0, 6.0, 6.0, 8.0, 8.0, 8.0, 8.0, 9.0, 8.0, 9.0, 8.0, 8.0, 9.0, 8.0, 6.0, 8.0, 9.0, 8.0, 8.0, 8.0, 8.0, 6.0, 8.0, 8.0, 6.0, 6.0, 8.0, 8.0, 8.0, 8.0, 8.0, 8.0, 9.0, 8.0, 8.0, 8.0, 8.0, 8.0, 8.0, 8.0, 6.0, 8.0, 8.0, 6.0, 8.0, 8.0, 6.0, 8.0, 6.0, 8.0, 6.0, 8.0, 8.0, 8.0, 8.0, 8.0, 6.0, 6.0, 6.0, 8.0, 8.0, 8.0, 8.0, 8.0, 8.0, 6.0, 8.0, 8.0, 8.0, 8.0, 6.0, 6.0, 6.0, 8.0, 8.0, 8.0, 8.0, 8.0, 9.0, 8.0, 8.0, 8.0, 8.0, 8.0, 8.0, 8.0, 6.0, 8.0, 8.0, 8.0, 6.0, 8.0, 8.0, 8.0, 8.0, 8.0, 8.0, 8.0, 8.0, 6.0, 8.0, 8.0, 8.0, 8.0, 6.0, 8.0, 8.0, 8.0, 8.0, 8.0, 8.0, 8.0, 8.0, 8.0, 8.0, 6.0, 8.0, 8.0, 8.0, 8.0, 8.0, 9.0, 8.0, 8.0, 8.0, 9.0, 9.0, 6.0, 8.0, 8.0, 8.0, 8.0, 8.0, 6.0, 8.0, 8.0, 8.0], [4.0, 6.0, 6.0, 6.0, 5.0, 6.0, 6.0, 5.0, 6.0, 6.0, 6.0, 6.0, 5.0, 4.0, 5.0, 4.0, 6.0, 6.0, 6.0, 6.0, 6.0, 6.0, 6.0, 5.0, 6.0, 6.0, 6.0, 6.0, 6.0, 6.0, 5.0, 5.0, 4.0, 4.0, 6.0, 6.0, 6.0, 6.0, 6.0, 6.0, 6.0, 6.0, 6.0, 6.0, 6.0, 4.0, 6.0, 6.0, 6.0, 6.0, 6.0, 5.0, 4.0, 6.0, 6.0, 4.0, 4.0, 6.0, 6.0, 5.0, 5.0, 6.0, 6.0, 6.0, 6.0, 6.0, 6.0, 6.0, 6.0, 5.0, 6.0, 4.0, 6.0, 6.0, 4.0, 6.0, 6.0, 4.0, 6.0, 4.0, 6.0, 4.0, 6.0, 6.0, 6.0, 6.0, 6.0, 4.0, 4.0, 4.0, 6.0, 6.0, 6.0, 6.0, 6.0, 6.0, 4.0, 5.0, 6.0, 5.0, 6.0, 4.0, 4.0, 4.0, 6.0, 6.0, 5.0, 6.0, 6.0, 6.0, 6.0, 6.0, 6.0, 6.0, 6.0, 6.0, 6.0, 4.0, 5.0, 6.0, 6.0, 4.0, 6.0, 6.0, 6.0, 6.0, 6.0, 6.0, 6.0, 6.0, 4.0, 6.0, 6.0, 5.0, 6.0, 4.0, 6.0, 6.0, 5.0, 6.0, 5.0, 6.0, 5.0, 6.0, 6.0, 6.0, 4.0, 6.0, 5.0, 6.0, 6.0, 6.0, 6.0, 6.0, 6.0, 6.0, 6.0, 6.0, 4.0, 6.0, 6.0, 6.0, 6.0, 6.0, 4.0, 6.0, 5.0, 6.0], [6.0, 6.0, 6.0, 6.0, 6.0, 6.0, 6.0, 6.0, 6.0, 6.0, 6.0, 6.0, 6.0, 6.0, 6.0, 6.0, 6.0, 6.0, 6.0, 6.0, 6.0, 6.0, 6.0, 6.0, 6.0, 6.0, 6.0, 6.0, 6.0, 6.0, 6.0, 6.0, 6.0, 6.0, 6.0, 6.0, 6.0, 6.0, 6.0, 6.0, 6.0, 6.0, 6.0, 6.0, 6.0, 6.0, 6.0, 6.0, 6.0, 6.0, 6.0, 6.0, 6.0, 6.0, 6.0, 6.0, 6.0, 6.0, 6.0, 6.0, 6.0, 6.0, 6.0, 6.0, 6.0, 6.0, 6.0, 6.0, 6.0, 6.0, 6.0, 6.0, 6.0, 6.0, 6.0, 6.0, 6.0, 6.0, 6.0, 6.0, 6.0, 6.0, 6.0, 6.0, 6.0, 6.0, 6.0, 6.0, 6.0, 6.0, 6.0, 6.0, 6.0, 6.0, 6.0, 6.0, 6.0, 6.0, 6.0, 6.0, 6.0, 6.0, 6.0, 6.0, 6.0, 6.0, 6.0, 7.0, 6.0, 6.0, 6.0, 6.0, 6.0, 6.0, 6.0, 6.0, 6.0, 6.0, 6.0, 6.0, 6.0, 6.0, 6.0, 6.0, 6.0, 6.0, 6.0, 6.0, 6.0, 6.0, 6.0, 6.0, 6.0, 6.0, 6.0, 6.0, 6.0, 6.0, 6.0, 6.0, 6.0, 6.0, 6.0, 6.0, 6.0, 6.0, 6.0, 6.0, 6.0, 6.0, 6.0, 6.0, 6.0, 6.0, 6.0, 6.0, 6.0, 6.0, 6.0, 6.0, 6.0, 6.0, 6.0, 6.0, 6.0, 6.0, 6.0, 6.0], [9.0, 10.0, 9.0, 9.0, 10.0, 9.0, 10.0, 10.0, 10.0, 9.0, 9.0, 9.0, 10.0, 10.0, 10.0, 10.0, 9.0, 9.0, 9.0, 9.0, 10.0, 10.0, 9.0, 10.0, 9.0, 9.0, 9.0, 9.0, 10.0, 9.0, 10.0, 10.0, 10.0, 10.0, 9.0, 9.0, 9.0, 9.0, 10.0, 10.0, 10.0, 9.0, 10.0, 10.0, 9.0, 10.0, 9.0, 10.0, 10.0, 9.0, 9.0, 10.0, 9.0, 9.0, 10.0, 10.0, 10.0, 9.0, 9.0, 10.0, 10.0, 10.0, 10.0, 10.0, 10.0, 9.0, 9.0, 10.0, 9.0, 10.0, 9.0, 10.0, 9.0, 9.0, 10.0, 10.0, 9.0, 10.0, 9.0, 10.0, 9.0, 10.0, 9.0, 9.0, 9.0, 9.0, 9.0, 10.0, 10.0, 9.0, 9.0, 9.0, 9.0, 10.0, 9.0, 9.0, 9.0, 10.0, 9.0, 10.0, 9.0, 10.0, 10.0, 10.0, 9.0, 9.0, 10.0, 9.0, 9.0, 10.0, 9.0, 9.0, 9.0, 10.0, 9.0, 9.0, 9.0, 10.0, 10.0, 10.0, 9.0, 9.0, 9.0, 9.0, 9.0, 9.0, 9.0, 9.0, 10.0, 9.0, 10.0, 9.0, 9.0, 10.0, 9.0, 10.0, 10.0, 9.0, 10.0, 10.0, 10.0, 9.0, 10.0, 9.0, 9.0, 9.0, 10.0, 9.0, 10.0, 9.0, 9.0, 10.0, 10.0, 9.0, 9.0, 10.0, 10.0, 10.0, 10.0, 9.0, 10.0, 9.0, 9.0, 10.0, 10.0, 10.0, 10.0, 9.0], [5.0, 5.0, 5.0, 5.0, 5.0, 5.0, 5.0, 5.0, 4.0, 5.0, 5.0, 5.0, 5.0, 5.0, 5.0, 5.0, 5.0, 5.0, 5.0, 5.0, 5.0, 5.0, 5.0, 5.0, 5.0, 5.0, 5.0, 5.0, 5.0, 5.0, 5.0, 5.0, 5.0, 5.0, 5.0, 5.0, 5.0, 5.0, 5.0, 5.0, 5.0, 5.0, 5.0, 5.0, 5.0, 5.0, 5.0, 5.0, 5.0, 5.0, 5.0, 5.0, 5.0, 5.0, 5.0, 5.0, 5.0, 5.0, 5.0, 5.0, 5.0, 5.0, 5.0, 5.0, 5.0, 5.0, 5.0, 5.0, 5.0, 5.0, 5.0, 5.0, 5.0, 5.0, 5.0, 5.0, 5.0, 5.0, 5.0, 5.0, 5.0, 5.0, 5.0, 5.0, 5.0, 5.0, 5.0, 5.0, 5.0, 5.0, 5.0, 5.0, 5.0, 5.0, 5.0, 5.0, 5.0, 5.0, 5.0, 5.0, 5.0, 5.0, 5.0, 5.0, 5.0, 5.0, 5.0, 5.0, 5.0, 5.0, 5.0, 5.0, 5.0, 5.0, 5.0, 5.0, 5.0, 5.0, 5.0, 5.0, 5.0, 5.0, 5.0, 5.0, 5.0, 5.0, 5.0, 5.0, 5.0, 5.0, 5.0, 5.0, 5.0, 5.0, 5.0, 5.0, 5.0, 5.0, 5.0, 5.0, 5.0, 5.0, 5.0, 5.0, 5.0, 5.0, 5.0, 5.0, 5.0, 5.0, 5.0, 5.0, 5.0, 5.0, 5.0, 5.0, 5.0, 5.0, 5.0, 5.0, 5.0, 5.0, 5.0, 5.0, 5.0, 5.0, 5.0, 5.0], [7.0, 7.0, 7.0, 7.0, 7.0, 7.0, 7.0, 7.0, 7.0, 7.0, 7.0, 7.0, 7.0, 7.0, 7.0, 7.0, 7.0, 7.0, 7.0, 7.0, 7.0, 7.0, 7.0, 7.0, 7.0, 7.0, 7.0, 7.0, 7.0, 7.0, 7.0, 7.0, 7.0, 7.0, 7.0, 7.0, 7.0, 7.0, 7.0, 7.0, 7.0, 7.0, 7.0, 7.0, 7.0, 7.0, 7.0, 7.0, 7.0, 7.0, 7.0, 7.0, 7.0, 7.0, 7.0, 7.0, 7.0, 7.0, 7.0, 7.0, 7.0, 7.0, 7.0, 7.0, 7.0, 7.0, 7.0, 7.0, 7.0, 7.0, 7.0, 7.0, 7.0, 7.0, 7.0, 7.0, 7.0, 7.0, 7.0, 7.0, 7.0, 7.0, 7.0, 7.0, 7.0, 7.0, 7.0, 7.0, 7.0, 7.0, 7.0, 7.0, 7.0, 7.0, 7.0, 7.0, 7.0, 7.0, 7.0, 7.0, 7.0, 7.0, 7.0, 7.0, 7.0, 7.0, 7.0, 7.0, 7.0, 7.0, 7.0, 7.0, 7.0, 7.0, 7.0, 7.0, 7.0, 7.0, 7.0, 7.0, 7.0, 7.0, 7.0, 7.0, 7.0, 7.0, 7.0, 7.0, 7.0, 7.0, 7.0, 7.0, 7.0, 7.0, 7.0, 7.0, 7.0, 7.0, 7.0, 7.0, 7.0, 7.0, 7.0, 7.0, 7.0, 7.0, 7.0, 7.0, 7.0, 7.0, 7.0, 7.0, 7.0, 7.0, 7.0, 7.0, 7.0, 7.0, 7.0, 7.0, 7.0, 7.0, 7.0, 7.0, 7.0, 7.0, 7.0, 7.0], [6.0, 6.0, 5.0, 5.0, 6.0, 5.0, 5.0, 5.0, 6.0, 5.0, 5.0, 5.0, 6.0, 5.0, 5.0, 5.0, 5.0, 5.0, 5.0, 5.0, 6.0, 5.0, 5.0, 6.0, 5.0, 5.0, 5.0, 5.0, 5.0, 5.0, 6.0, 5.0, 5.0, 5.0, 5.0, 5.0, 5.0, 5.0, 6.0, 5.0, 6.0, 5.0, 5.0, 6.0, 5.0, 5.0, 5.0, 6.0, 5.0, 5.0, 5.0, 6.0, 6.0, 5.0, 5.0, 5.0, 5.0, 5.0, 5.0, 5.0, 6.0, 5.0, 5.0, 6.0, 5.0, 5.0, 5.0, 5.0, 5.0, 5.0, 5.0, 5.0, 5.0, 5.0, 5.0, 5.0, 5.0, 5.0, 5.0, 5.0, 5.0, 5.0, 5.0, 5.0, 5.0, 5.0, 5.0, 5.0, 5.0, 6.0, 5.0, 5.0, 5.0, 5.0, 5.0, 5.0, 6.0, 6.0, 5.0, 5.0, 5.0, 5.0, 5.0, 5.0, 5.0, 5.0, 6.0, 5.0, 5.0, 6.0, 5.0, 5.0, 5.0, 5.0, 5.0, 5.0, 5.0, 5.0, 6.0, 5.0, 5.0, 6.0, 5.0, 5.0, 5.0, 5.0, 5.0, 5.0, 5.0, 5.0, 5.0, 5.0, 5.0, 6.0, 5.0, 5.0, 5.0, 5.0, 6.0, 5.0, 5.0, 5.0, 6.0, 5.0, 5.0, 5.0, 5.0, 5.0, 6.0, 5.0, 5.0, 5.0, 6.0, 5.0, 5.0, 5.0, 6.0, 6.0, 5.0, 5.0, 5.0, 5.0, 5.0, 5.0, 5.0, 5.0, 5.0, 5.0], [6.0, 7.0, 6.0, 6.0, 7.0, 6.0, 7.0, 7.0, 6.0, 6.0, 6.0, 6.0, 7.0, 7.0, 7.0, 7.0, 6.0, 6.0, 6.0, 6.0, 7.0, 7.0, 6.0, 7.0, 6.0, 6.0, 6.0, 6.0, 7.0, 6.0, 7.0, 7.0, 7.0, 7.0, 6.0, 6.0, 6.0, 6.0, 7.0, 7.0, 7.0, 6.0, 7.0, 7.0, 6.0, 7.0, 6.0, 7.0, 7.0, 6.0, 6.0, 7.0, 6.0, 6.0, 7.0, 7.0, 7.0, 6.0, 6.0, 7.0, 7.0, 7.0, 7.0, 7.0, 7.0, 6.0, 6.0, 7.0, 6.0, 7.0, 6.0, 7.0, 6.0, 6.0, 7.0, 7.0, 6.0, 7.0, 6.0, 7.0, 6.0, 7.0, 6.0, 6.0, 6.0, 6.0, 6.0, 7.0, 7.0, 6.0, 6.0, 6.0, 6.0, 7.0, 6.0, 6.0, 6.0, 7.0, 6.0, 7.0, 6.0, 7.0, 7.0, 7.0, 6.0, 6.0, 7.0, 6.0, 6.0, 7.0, 6.0, 6.0, 6.0, 7.0, 6.0, 6.0, 6.0, 7.0, 6.0, 7.0, 6.0, 6.0, 6.0, 6.0, 6.0, 6.0, 6.0, 6.0, 7.0, 6.0, 7.0, 6.0, 6.0, 7.0, 6.0, 7.0, 7.0, 6.0, 7.0, 7.0, 7.0, 6.0, 7.0, 6.0, 6.0, 6.0, 7.0, 6.0, 7.0, 6.0, 6.0, 7.0, 7.0, 6.0, 6.0, 7.0, 7.0, 7.0, 7.0, 6.0, 7.0, 6.0, 6.0, 7.0, 7.0, 7.0, 7.0, 6.0], [7.0, 7.0, 8.0, 8.0, 7.0, 8.0, 8.0, 8.0, 8.0, 8.0, 8.0, 8.0, 7.0, 8.0, 8.0, 8.0, 8.0, 8.0, 8.0, 8.0, 7.0, 8.0, 8.0, 7.0, 8.0, 8.0, 8.0, 8.0, 8.0, 8.0, 7.0, 8.0, 8.0, 8.0, 8.0, 8.0, 8.0, 8.0, 7.0, 8.0, 7.0, 8.0, 8.0, 7.0, 8.0, 8.0, 8.0, 7.0, 8.0, 8.0, 8.0, 7.0, 7.0, 8.0, 8.0, 8.0, 8.0, 8.0, 8.0, 8.0, 7.0, 8.0, 8.0, 7.0, 8.0, 8.0, 8.0, 8.0, 8.0, 8.0, 8.0, 8.0, 8.0, 8.0, 8.0, 8.0, 8.0, 8.0, 8.0, 8.0, 8.0, 8.0, 8.0, 8.0, 8.0, 8.0, 8.0, 8.0, 8.0, 7.0, 8.0, 8.0, 8.0, 8.0, 8.0, 8.0, 7.0, 7.0, 8.0, 8.0, 8.0, 8.0, 8.0, 8.0, 8.0, 8.0, 7.0, 8.0, 8.0, 7.0, 8.0, 8.0, 8.0, 8.0, 8.0, 8.0, 8.0, 8.0, 7.0, 8.0, 8.0, 7.0, 8.0, 8.0, 8.0, 8.0, 8.0, 8.0, 8.0, 8.0, 8.0, 8.0, 8.0, 7.0, 8.0, 8.0, 8.0, 8.0, 7.0, 8.0, 8.0, 8.0, 7.0, 8.0, 8.0, 8.0, 8.0, 8.0, 7.0, 8.0, 8.0, 8.0, 7.0, 8.0, 8.0, 8.0, 7.0, 7.0, 8.0, 8.0, 8.0, 8.0, 8.0, 8.0, 8.0, 8.0, 8.0, 8.0], [12.0, 10.0, 11.0, 11.0, 9.0, 11.0, 9.0, 9.0, 10.0, 11.0, 11.0, 11.0, 10.0, 9.0, 9.0, 9.0, 11.0, 11.0, 11.0, 11.0, 10.0, 9.0, 11.0, 10.0, 11.0, 11.0, 11.0, 11.0, 9.0, 11.0, 10.0, 9.0, 9.0, 9.0, 11.0, 11.0, 11.0, 11.0, 10.0, 9.0, 10.0, 11.0, 9.0, 10.0, 11.0, 9.0, 11.0, 10.0, 9.0, 11.0, 11.0, 10.0, 12.0, 11.0, 9.0, 9.0, 9.0, 11.0, 11.0, 9.0, 10.0, 9.0, 9.0, 10.0, 9.0, 11.0, 11.0, 9.0, 11.0, 9.0, 11.0, 9.0, 11.0, 11.0, 9.0, 9.0, 11.0, 9.0, 11.0, 9.0, 11.0, 9.0, 11.0, 11.0, 11.0, 11.0, 11.0, 9.0, 9.0, 12.0, 11.0, 11.0, 11.0, 9.0, 11.0, 11.0, 12.0, 10.0, 11.0, 9.0, 11.0, 9.0, 9.0, 9.0, 11.0, 11.0, 10.0, 11.0, 11.0, 10.0, 11.0, 11.0, 11.0, 9.0, 11.0, 11.0, 11.0, 9.0, 10.0, 9.0, 11.0, 12.0, 11.0, 11.0, 11.0, 11.0, 11.0, 11.0, 9.0, 11.0, 9.0, 11.0, 11.0, 10.0, 11.0, 9.0, 9.0, 11.0, 10.0, 9.0, 9.0, 11.0, 10.0, 11.0, 11.0, 11.0, 9.0, 11.0, 10.0, 11.0, 11.0, 9.0, 10.0, 11.0, 11.0, 9.0, 10.0, 10.0, 9.0, 11.0, 9.0, 11.0, 11.0, 9.0, 9.0, 9.0, 9.0, 11.0]]\n",
      "[[7.0, 9.0, 7.0, 9.0, 7.0, 7.0, 8.0, 7.0, 7.0, 7.0, 7.0, 7.0, 7.0, 7.0, 7.0, 8.0, 7.0, 7.0, 7.0, 7.0, 7.0, 7.0, 8.0, 9.0, 7.0, 7.0, 7.0, 9.0, 7.0, 7.0, 7.0, 7.0, 7.0, 7.0, 7.0, 7.0, 7.0, 7.0, 7.0, 7.0, 7.0, 7.0, 7.0, 7.0, 7.0, 9.0, 7.0, 7.0, 9.0, 8.0, 7.0, 7.0, 7.0, 7.0, 7.0, 7.0, 7.0, 7.0, 7.0, 7.0, 7.0, 9.0, 8.0, 7.0, 9.0, 9.0, 7.0, 8.0, 7.0, 8.0, 7.0, 7.0, 7.0, 7.0, 7.0, 7.0, 7.0, 9.0, 7.0, 9.0, 7.0, 7.0, 8.0, 7.0, 7.0, 7.0, 7.0, 7.0, 7.0, 7.0, 7.0, 7.0, 7.0, 8.0, 7.0, 9.0, 7.0, 7.0, 7.0, 7.0, 7.0, 8.0, 7.0, 7.0, 7.0, 9.0, 7.0, 7.0, 7.0, 7.0, 8.0, 9.0], [11.0, 11.0, 11.0, 11.0, 11.0, 11.0, 12.0, 11.0, 11.0, 11.0, 13.0, 11.0, 11.0, 11.0, 11.0, 12.0, 11.0, 11.0, 12.0, 11.0, 11.0, 11.0, 12.0, 11.0, 11.0, 13.0, 11.0, 11.0, 11.0, 11.0, 11.0, 11.0, 11.0, 11.0, 11.0, 12.0, 11.0, 13.0, 13.0, 12.0, 11.0, 11.0, 11.0, 11.0, 11.0, 11.0, 11.0, 11.0, 11.0, 12.0, 11.0, 11.0, 12.0, 11.0, 13.0, 11.0, 11.0, 11.0, 11.0, 11.0, 11.0, 11.0, 12.0, 12.0, 11.0, 11.0, 11.0, 12.0, 11.0, 12.0, 11.0, 11.0, 11.0, 11.0, 11.0, 13.0, 11.0, 11.0, 11.0, 11.0, 11.0, 11.0, 12.0, 11.0, 11.0, 11.0, 11.0, 11.0, 11.0, 11.0, 11.0, 11.0, 11.0, 12.0, 11.0, 11.0, 11.0, 11.0, 11.0, 13.0, 11.0, 12.0, 11.0, 12.0, 12.0, 11.0, 11.0, 10.0, 11.0, 11.0, 12.0, 11.0], [5.0, 6.0, 5.0, 6.0, 5.0, 5.0, 5.0, 5.0, 5.0, 5.0, 5.0, 5.0, 5.0, 5.0, 5.0, 5.0, 5.0, 5.0, 6.0, 5.0, 5.0, 5.0, 5.0, 6.0, 5.0, 5.0, 5.0, 6.0, 5.0, 5.0, 5.0, 5.0, 5.0, 5.0, 5.0, 6.0, 5.0, 5.0, 5.0, 6.0, 5.0, 5.0, 5.0, 5.0, 5.0, 6.0, 5.0, 5.0, 6.0, 5.0, 5.0, 5.0, 6.0, 5.0, 5.0, 6.0, 5.0, 5.0, 5.0, 5.0, 5.0, 6.0, 5.0, 6.0, 6.0, 6.0, 5.0, 5.0, 5.0, 5.0, 5.0, 5.0, 5.0, 5.0, 5.0, 5.0, 5.0, 6.0, 5.0, 6.0, 5.0, 5.0, 5.0, 5.0, 6.0, 5.0, 6.0, 5.0, 5.0, 5.0, 5.0, 5.0, 5.0, 5.0, 5.0, 6.0, 5.0, 5.0, 5.0, 5.0, 5.0, 5.0, 5.0, 6.0, 6.0, 6.0, 5.0, 7.0, 5.0, 5.0, 5.0, 6.0], [6.0, 5.0, 6.0, 5.0, 6.0, 6.0, 5.0, 6.0, 6.0, 6.0, 6.0, 6.0, 6.0, 6.0, 6.0, 5.0, 6.0, 6.0, 6.0, 6.0, 6.0, 6.0, 5.0, 5.0, 6.0, 6.0, 6.0, 5.0, 6.0, 6.0, 6.0, 6.0, 6.0, 6.0, 6.0, 6.0, 6.0, 6.0, 6.0, 6.0, 6.0, 6.0, 6.0, 6.0, 6.0, 5.0, 6.0, 6.0, 5.0, 5.0, 6.0, 6.0, 6.0, 6.0, 6.0, 6.0, 6.0, 6.0, 6.0, 6.0, 6.0, 5.0, 5.0, 6.0, 5.0, 5.0, 6.0, 5.0, 6.0, 5.0, 6.0, 6.0, 6.0, 6.0, 6.0, 6.0, 6.0, 5.0, 6.0, 5.0, 6.0, 6.0, 5.0, 6.0, 6.0, 6.0, 6.0, 6.0, 6.0, 6.0, 6.0, 6.0, 6.0, 5.0, 6.0, 5.0, 6.0, 6.0, 6.0, 6.0, 6.0, 5.0, 6.0, 6.0, 6.0, 5.0, 6.0, 6.0, 6.0, 6.0, 5.0, 5.0], [6.0, 5.0, 6.0, 5.0, 6.0, 6.0, 7.0, 6.0, 6.0, 6.0, 6.0, 6.0, 6.0, 6.0, 6.0, 7.0, 6.0, 6.0, 5.0, 6.0, 6.0, 6.0, 7.0, 5.0, 6.0, 6.0, 6.0, 5.0, 6.0, 6.0, 6.0, 6.0, 6.0, 6.0, 6.0, 5.0, 6.0, 6.0, 6.0, 5.0, 6.0, 6.0, 6.0, 6.0, 6.0, 5.0, 6.0, 6.0, 5.0, 7.0, 6.0, 6.0, 5.0, 6.0, 6.0, 5.0, 6.0, 6.0, 6.0, 6.0, 6.0, 5.0, 7.0, 5.0, 5.0, 5.0, 6.0, 7.0, 6.0, 7.0, 6.0, 6.0, 6.0, 6.0, 6.0, 6.0, 6.0, 5.0, 6.0, 5.0, 6.0, 6.0, 7.0, 6.0, 6.0, 6.0, 5.0, 6.0, 6.0, 6.0, 6.0, 6.0, 6.0, 7.0, 6.0, 5.0, 6.0, 6.0, 6.0, 6.0, 6.0, 7.0, 6.0, 5.0, 5.0, 5.0, 6.0, 4.0, 6.0, 6.0, 7.0, 5.0], [8.0, 8.0, 8.0, 8.0, 8.0, 8.0, 6.0, 8.0, 8.0, 8.0, 8.0, 8.0, 8.0, 8.0, 8.0, 6.0, 8.0, 8.0, 9.0, 8.0, 8.0, 8.0, 6.0, 8.0, 8.0, 8.0, 8.0, 8.0, 8.0, 8.0, 8.0, 8.0, 8.0, 8.0, 8.0, 9.0, 8.0, 8.0, 8.0, 9.0, 8.0, 8.0, 8.0, 8.0, 8.0, 8.0, 8.0, 8.0, 8.0, 6.0, 8.0, 8.0, 9.0, 8.0, 8.0, 8.0, 8.0, 8.0, 8.0, 8.0, 8.0, 8.0, 6.0, 9.0, 8.0, 8.0, 8.0, 6.0, 8.0, 6.0, 8.0, 8.0, 8.0, 8.0, 8.0, 8.0, 8.0, 8.0, 8.0, 8.0, 8.0, 8.0, 6.0, 8.0, 8.0, 8.0, 8.0, 8.0, 8.0, 8.0, 8.0, 8.0, 8.0, 6.0, 8.0, 8.0, 8.0, 8.0, 8.0, 8.0, 8.0, 6.0, 8.0, 9.0, 9.0, 8.0, 8.0, 8.0, 8.0, 8.0, 6.0, 8.0], [6.0, 5.0, 6.0, 5.0, 6.0, 6.0, 4.0, 6.0, 6.0, 6.0, 5.0, 6.0, 6.0, 6.0, 6.0, 4.0, 6.0, 6.0, 6.0, 6.0, 6.0, 6.0, 4.0, 5.0, 6.0, 5.0, 6.0, 5.0, 6.0, 6.0, 6.0, 6.0, 6.0, 6.0, 6.0, 6.0, 6.0, 5.0, 5.0, 6.0, 6.0, 6.0, 6.0, 6.0, 6.0, 5.0, 6.0, 6.0, 5.0, 4.0, 6.0, 6.0, 6.0, 6.0, 5.0, 5.0, 6.0, 6.0, 6.0, 6.0, 6.0, 5.0, 4.0, 6.0, 5.0, 5.0, 6.0, 4.0, 6.0, 4.0, 6.0, 6.0, 6.0, 6.0, 6.0, 5.0, 6.0, 5.0, 6.0, 5.0, 6.0, 6.0, 4.0, 6.0, 6.0, 6.0, 5.0, 6.0, 6.0, 6.0, 6.0, 6.0, 6.0, 4.0, 6.0, 5.0, 6.0, 6.0, 6.0, 5.0, 6.0, 4.0, 6.0, 6.0, 6.0, 5.0, 6.0, 5.0, 6.0, 6.0, 4.0, 5.0], [6.0, 6.0, 6.0, 6.0, 6.0, 6.0, 6.0, 6.0, 6.0, 6.0, 6.0, 6.0, 6.0, 6.0, 6.0, 6.0, 6.0, 6.0, 6.0, 6.0, 6.0, 6.0, 6.0, 6.0, 6.0, 6.0, 6.0, 6.0, 6.0, 6.0, 6.0, 6.0, 6.0, 6.0, 6.0, 6.0, 6.0, 6.0, 6.0, 6.0, 6.0, 6.0, 6.0, 6.0, 6.0, 6.0, 6.0, 6.0, 6.0, 6.0, 6.0, 6.0, 6.0, 6.0, 6.0, 6.0, 6.0, 6.0, 6.0, 6.0, 6.0, 6.0, 6.0, 6.0, 6.0, 6.0, 6.0, 6.0, 6.0, 6.0, 6.0, 6.0, 6.0, 6.0, 6.0, 6.0, 6.0, 6.0, 6.0, 6.0, 6.0, 6.0, 6.0, 6.0, 6.0, 6.0, 6.0, 6.0, 6.0, 6.0, 6.0, 6.0, 6.0, 6.0, 6.0, 6.0, 6.0, 6.0, 6.0, 6.0, 6.0, 6.0, 6.0, 6.0, 6.0, 6.0, 6.0, 6.0, 6.0, 6.0, 6.0, 6.0], [9.0, 10.0, 9.0, 10.0, 9.0, 9.0, 10.0, 9.0, 9.0, 9.0, 10.0, 9.0, 9.0, 10.0, 9.0, 10.0, 9.0, 9.0, 10.0, 9.0, 9.0, 9.0, 10.0, 10.0, 9.0, 10.0, 9.0, 10.0, 9.0, 9.0, 9.0, 9.0, 9.0, 9.0, 9.0, 10.0, 9.0, 10.0, 10.0, 10.0, 9.0, 9.0, 10.0, 9.0, 9.0, 10.0, 9.0, 10.0, 10.0, 9.0, 9.0, 9.0, 10.0, 9.0, 10.0, 10.0, 9.0, 9.0, 9.0, 9.0, 9.0, 10.0, 9.0, 10.0, 10.0, 10.0, 9.0, 10.0, 9.0, 9.0, 9.0, 9.0, 9.0, 10.0, 9.0, 10.0, 10.0, 10.0, 10.0, 10.0, 9.0, 9.0, 10.0, 10.0, 9.0, 9.0, 10.0, 9.0, 9.0, 9.0, 9.0, 9.0, 9.0, 10.0, 9.0, 10.0, 9.0, 9.0, 9.0, 10.0, 9.0, 10.0, 9.0, 10.0, 10.0, 10.0, 9.0, 10.0, 9.0, 9.0, 9.0, 10.0], [5.0, 5.0, 5.0, 5.0, 5.0, 5.0, 5.0, 5.0, 5.0, 5.0, 5.0, 5.0, 5.0, 5.0, 5.0, 5.0, 5.0, 5.0, 5.0, 5.0, 5.0, 5.0, 5.0, 5.0, 5.0, 5.0, 5.0, 5.0, 5.0, 5.0, 5.0, 5.0, 5.0, 5.0, 5.0, 5.0, 5.0, 5.0, 5.0, 5.0, 5.0, 5.0, 5.0, 5.0, 5.0, 5.0, 5.0, 5.0, 5.0, 5.0, 5.0, 5.0, 5.0, 5.0, 5.0, 5.0, 5.0, 5.0, 5.0, 5.0, 5.0, 5.0, 5.0, 5.0, 5.0, 5.0, 5.0, 5.0, 5.0, 5.0, 5.0, 5.0, 5.0, 5.0, 5.0, 5.0, 4.0, 5.0, 5.0, 5.0, 5.0, 5.0, 5.0, 5.0, 5.0, 5.0, 5.0, 5.0, 5.0, 5.0, 5.0, 5.0, 5.0, 5.0, 5.0, 5.0, 5.0, 5.0, 5.0, 5.0, 5.0, 5.0, 5.0, 5.0, 5.0, 5.0, 5.0, 5.0, 5.0, 5.0, 5.0, 5.0], [7.0, 7.0, 7.0, 7.0, 7.0, 7.0, 7.0, 7.0, 7.0, 7.0, 7.0, 7.0, 7.0, 7.0, 7.0, 7.0, 7.0, 7.0, 7.0, 7.0, 7.0, 7.0, 7.0, 7.0, 7.0, 7.0, 7.0, 7.0, 7.0, 7.0, 7.0, 7.0, 7.0, 7.0, 7.0, 7.0, 7.0, 7.0, 7.0, 7.0, 7.0, 7.0, 7.0, 7.0, 7.0, 7.0, 7.0, 7.0, 7.0, 7.0, 7.0, 7.0, 7.0, 7.0, 7.0, 7.0, 7.0, 7.0, 7.0, 7.0, 7.0, 7.0, 7.0, 7.0, 7.0, 7.0, 7.0, 7.0, 7.0, 7.0, 7.0, 7.0, 7.0, 7.0, 7.0, 7.0, 7.0, 7.0, 7.0, 7.0, 7.0, 7.0, 7.0, 7.0, 7.0, 7.0, 7.0, 7.0, 7.0, 7.0, 7.0, 7.0, 7.0, 7.0, 7.0, 7.0, 7.0, 7.0, 7.0, 7.0, 7.0, 7.0, 7.0, 7.0, 7.0, 7.0, 7.0, 7.0, 7.0, 7.0, 7.0, 7.0], [5.0, 5.0, 5.0, 5.0, 5.0, 5.0, 5.0, 5.0, 5.0, 5.0, 6.0, 5.0, 5.0, 5.0, 5.0, 5.0, 5.0, 5.0, 6.0, 5.0, 5.0, 5.0, 5.0, 5.0, 5.0, 6.0, 5.0, 5.0, 5.0, 5.0, 5.0, 5.0, 5.0, 5.0, 5.0, 6.0, 5.0, 6.0, 6.0, 6.0, 5.0, 5.0, 5.0, 5.0, 5.0, 5.0, 5.0, 5.0, 5.0, 6.0, 5.0, 5.0, 6.0, 5.0, 6.0, 6.0, 5.0, 5.0, 5.0, 5.0, 5.0, 5.0, 6.0, 6.0, 5.0, 5.0, 5.0, 5.0, 5.0, 6.0, 5.0, 5.0, 5.0, 5.0, 5.0, 6.0, 6.0, 5.0, 5.0, 5.0, 5.0, 5.0, 5.0, 5.0, 5.0, 5.0, 5.0, 5.0, 5.0, 5.0, 5.0, 5.0, 5.0, 5.0, 5.0, 5.0, 5.0, 5.0, 5.0, 6.0, 5.0, 5.0, 5.0, 6.0, 6.0, 6.0, 5.0, 5.0, 5.0, 5.0, 6.0, 6.0], [6.0, 7.0, 6.0, 7.0, 6.0, 6.0, 7.0, 6.0, 6.0, 6.0, 7.0, 6.0, 6.0, 7.0, 6.0, 7.0, 6.0, 6.0, 7.0, 6.0, 6.0, 6.0, 7.0, 7.0, 6.0, 7.0, 6.0, 7.0, 6.0, 6.0, 6.0, 6.0, 6.0, 6.0, 6.0, 7.0, 6.0, 7.0, 7.0, 7.0, 6.0, 6.0, 7.0, 6.0, 6.0, 7.0, 6.0, 7.0, 7.0, 6.0, 6.0, 6.0, 7.0, 6.0, 7.0, 6.0, 6.0, 6.0, 6.0, 6.0, 6.0, 7.0, 6.0, 7.0, 7.0, 7.0, 6.0, 7.0, 6.0, 6.0, 6.0, 6.0, 6.0, 7.0, 6.0, 7.0, 6.0, 7.0, 7.0, 7.0, 6.0, 6.0, 7.0, 7.0, 6.0, 6.0, 7.0, 6.0, 6.0, 6.0, 6.0, 6.0, 6.0, 7.0, 6.0, 7.0, 6.0, 6.0, 6.0, 7.0, 6.0, 7.0, 6.0, 7.0, 7.0, 7.0, 6.0, 7.0, 6.0, 6.0, 6.0, 7.0], [8.0, 8.0, 8.0, 8.0, 8.0, 8.0, 8.0, 8.0, 8.0, 8.0, 7.0, 8.0, 8.0, 8.0, 8.0, 8.0, 8.0, 8.0, 7.0, 8.0, 8.0, 8.0, 8.0, 8.0, 8.0, 7.0, 8.0, 8.0, 8.0, 8.0, 8.0, 8.0, 8.0, 8.0, 8.0, 7.0, 8.0, 7.0, 7.0, 7.0, 8.0, 8.0, 8.0, 8.0, 8.0, 8.0, 8.0, 8.0, 8.0, 7.0, 8.0, 8.0, 7.0, 8.0, 7.0, 7.0, 8.0, 8.0, 8.0, 8.0, 8.0, 8.0, 7.0, 7.0, 8.0, 8.0, 8.0, 8.0, 8.0, 7.0, 8.0, 8.0, 8.0, 8.0, 8.0, 7.0, 8.0, 8.0, 8.0, 8.0, 8.0, 8.0, 8.0, 8.0, 8.0, 8.0, 8.0, 8.0, 8.0, 8.0, 8.0, 8.0, 8.0, 8.0, 8.0, 8.0, 8.0, 8.0, 8.0, 7.0, 8.0, 8.0, 8.0, 7.0, 7.0, 7.0, 8.0, 8.0, 8.0, 8.0, 7.0, 7.0], [11.0, 9.0, 11.0, 9.0, 11.0, 11.0, 9.0, 11.0, 11.0, 11.0, 10.0, 11.0, 11.0, 9.0, 11.0, 9.0, 11.0, 11.0, 10.0, 11.0, 11.0, 11.0, 9.0, 9.0, 11.0, 10.0, 11.0, 9.0, 11.0, 11.0, 11.0, 11.0, 11.0, 11.0, 11.0, 10.0, 11.0, 10.0, 10.0, 10.0, 11.0, 11.0, 9.0, 11.0, 11.0, 9.0, 11.0, 9.0, 9.0, 12.0, 11.0, 11.0, 10.0, 11.0, 10.0, 10.0, 11.0, 11.0, 11.0, 11.0, 11.0, 9.0, 12.0, 10.0, 9.0, 9.0, 11.0, 9.0, 11.0, 12.0, 11.0, 11.0, 11.0, 9.0, 11.0, 10.0, 10.0, 9.0, 9.0, 9.0, 11.0, 11.0, 9.0, 9.0, 11.0, 11.0, 9.0, 11.0, 11.0, 11.0, 11.0, 11.0, 11.0, 9.0, 11.0, 9.0, 11.0, 11.0, 11.0, 10.0, 11.0, 9.0, 11.0, 10.0, 10.0, 10.0, 11.0, 9.0, 11.0, 11.0, 12.0, 10.0]]\n",
      "[[ 8. 12.  5. ...  6.  7. 12.]\n",
      " [ 7. 12.  6. ...  7.  7. 10.]\n",
      " [ 7. 11.  5. ...  6.  8. 11.]\n",
      " ...\n",
      " [ 7. 11.  5. ...  7.  8.  9.]\n",
      " [ 9. 11.  6. ...  7.  8.  9.]\n",
      " [ 7. 11.  5. ...  6.  8. 11.]]\n",
      "(168, 15)\n"
     ]
    }
   ],
   "source": [
    "# DO NOT MODIFY CODE BELOW THIS LINE.\n",
    "def select_kmers(features, kmer_selection):\n",
    "    features_selected = []\n",
    "    if not isinstance(kmer_selection, list):\n",
    "        raise TypeError(\"kmer_selection must be a list\")\n",
    "    for feature, selection in zip(features, kmer_selection):\n",
    "        if len(selection) == 0:\n",
    "            continue\n",
    "        feature_sel = feature[:, selection].T\n",
    "        features_selected.extend(feature_sel.tolist())\n",
    "    print(features_selected)\n",
    "    features_selected = np.array(features_selected).T\n",
    "    return features_selected\n",
    "\n",
    "\n",
    "features_train_selected = select_kmers(features_train, kmer_selections)\n",
    "features_test_selected = select_kmers(features_test, kmer_selections)\n",
    "print(features_train_selected)\n",
    "print(features_train_selected.shape)"
   ]
  },
  {
   "cell_type": "markdown",
   "metadata": {},
   "source": [
    "### Scaling\n",
    "\n",
    "Select your scaler by changing the value after `preprocessing.`.\n",
    "For example, if you wanted to select `StandardScaler`, your code would be\n",
    "\n",
    "```python\n",
    "select_scaler = preprocessing.StandardScaler\n",
    "```\n",
    "\n",
    "Your options are:\n",
    "\n",
    "-   [MaxAbsScaler](https://scikit-learn.org/stable/modules/generated/sklearn.preprocessing.MaxAbsScaler.html)\n",
    "-   [MinMaxScaler](https://scikit-learn.org/stable/modules/generated/sklearn.preprocessing.MinMaxScaler.html)\n",
    "-   [StandardScaler](https://scikit-learn.org/stable/modules/generated/sklearn.preprocessing.StandardScaler.html)"
   ]
  },
  {
   "cell_type": "code",
   "execution_count": 75,
   "metadata": {},
   "outputs": [],
   "source": [
    "# DO NOT MODIFY CODE BELOW THIS LINE.\n",
    "from sklearn import preprocessing"
   ]
  },
  {
   "cell_type": "code",
   "execution_count": 76,
   "metadata": {},
   "outputs": [],
   "source": [
    "# STUDENT TODO: Make your selections here\n",
    "select_scaler = preprocessing.StandardScaler"
   ]
  },
  {
   "cell_type": "code",
   "execution_count": 77,
   "metadata": {},
   "outputs": [
    {
     "name": "stdout",
     "output_type": "stream",
     "text": [
      "[[ 1.31281495  1.30421035 -0.43759497 ... -0.91986621 -2.18931575\n",
      "   1.87125832]\n",
      " [-0.4949958   1.30421035  2.2852182  ...  1.08711461 -2.18931575\n",
      "  -0.24572079]\n",
      " [-0.4949958  -0.60107086 -0.43759497 ... -0.91986621  0.45676372\n",
      "   0.81276877]\n",
      " ...\n",
      " [-0.4949958  -0.60107086 -0.43759497 ...  1.08711461  0.45676372\n",
      "  -1.30421035]\n",
      " [ 3.1206257  -0.60107086  2.2852182  ...  1.08711461  0.45676372\n",
      "  -1.30421035]\n",
      " [-0.4949958  -0.60107086 -0.43759497 ... -0.91986621  0.45676372\n",
      "   0.81276877]]\n",
      "(168, 15)\n",
      "[[-0.4949958  -0.60107086 -0.43759497 ... -0.91986621  0.45676372\n",
      "   0.81276877]\n",
      " [ 3.1206257  -0.60107086  2.2852182  ...  1.08711461  0.45676372\n",
      "  -1.30421035]\n",
      " [-0.4949958  -0.60107086 -0.43759497 ... -0.91986621  0.45676372\n",
      "   0.81276877]\n",
      " ...\n",
      " [-0.4949958  -0.60107086 -0.43759497 ... -0.91986621  0.45676372\n",
      "   0.81276877]\n",
      " [ 1.31281495  1.30421035 -0.43759497 ... -0.91986621 -2.18931575\n",
      "   1.87125832]\n",
      " [ 3.1206257  -0.60107086  2.2852182  ...  1.08711461 -2.18931575\n",
      "  -0.24572079]]\n",
      "(112, 15)\n"
     ]
    }
   ],
   "source": [
    "# DO NOT MODIFY CODE BELOW THIS LINE.\n",
    "\n",
    "\n",
    "def process_features_train(features, scaler_selection):\n",
    "    # Initialize a scaler for each feature, fit-transform the data, and store the scaler\n",
    "    scaler = select_scaler()\n",
    "    scaled_features = scaler.fit_transform(features)\n",
    "\n",
    "    return scaled_features, scaler\n",
    "\n",
    "\n",
    "features_train_scaled, scaler_fit = process_features_train(\n",
    "    features_train_selected, select_scaler\n",
    ")\n",
    "features_test_scaled = scaler_fit.transform(features_test_selected)\n",
    "print(features_train_scaled)\n",
    "print(features_train_scaled.shape)\n",
    "print(features_test_scaled)\n",
    "print(features_test_scaled.shape)"
   ]
  },
  {
   "cell_type": "markdown",
   "metadata": {},
   "source": [
    "## Model"
   ]
  },
  {
   "cell_type": "markdown",
   "metadata": {},
   "source": [
    "### Model selection\n",
    "\n",
    "You may use any of these models.\n",
    "\n",
    "-   [RidgeClassifier](https://scikit-learn.org/stable/modules/generated/sklearn.linear_model.RidgeClassifier.html)\n",
    "-   [SVC](https://scikit-learn.org/stable/modules/generated/sklearn.svm.SVC.html)\n",
    "-   [NuSVC](https://scikit-learn.org/stable/modules/generated/sklearn.svm.NuSVC.html)\n",
    "-   [LinearSVC](https://scikit-learn.org/stable/modules/generated/sklearn.svm.LinearSVC.html)\n",
    "-   [SGDClassifier](https://scikit-learn.org/stable/modules/generated/sklearn.linear_model.SGDClassifier.html)\n",
    "-   [KNeighborsClassifier](https://scikit-learn.org/stable/modules/generated/sklearn.neighbors.KNeighborsClassifier.html)\n",
    "-   [GaussianProcessClassifier](https://scikit-learn.org/stable/modules/generated/sklearn.gaussian_process.GaussianProcessClassifier.html)\n",
    "-   [DecisionTreeClassifier](https://scikit-learn.org/stable/modules/generated/sklearn.tree.DecisionTreeClassifier.html)\n",
    "-   [GradientBoostingClassifier](https://scikit-learn.org/stable/modules/generated/sklearn.ensemble.GradientBoostingClassifier.html)\n",
    "-   [HistGradientBoostingClassifier](https://scikit-learn.org/stable/modules/generated/sklearn.ensemble.HistGradientBoostingClassifier.html)\n",
    "-   [RandomForestClassifier](https://scikit-learn.org/stable/modules/generated/sklearn.ensemble.RandomForestClassifier.html)\n"
   ]
  },
  {
   "cell_type": "code",
   "execution_count": 78,
   "metadata": {},
   "outputs": [],
   "source": [
    "# STUDENT TODO: Put your import statement for your model here.\n",
    "\n",
    "from sklearn.svm import SVC"
   ]
  },
  {
   "cell_type": "markdown",
   "metadata": {},
   "source": [
    "Always make sure to include `\"random_state\": RANDOM_STATE` in your `model_kwargs`.\n",
    "This ensures that you are getting a consistent evaluation based on your model parameters."
   ]
  },
  {
   "cell_type": "code",
   "execution_count": 79,
   "metadata": {},
   "outputs": [],
   "source": [
    "# STUDENT TODO: Choose your model and update the parameters.\n",
    "\n",
    "model_selection = SVC\n",
    "model_kwargs = {\"C\": 0.0000001, \"kernel\": \"poly\", \"random_state\": RANDOM_STATE}"
   ]
  },
  {
   "cell_type": "markdown",
   "metadata": {},
   "source": [
    "### Training\n"
   ]
  },
  {
   "cell_type": "code",
   "execution_count": 80,
   "metadata": {},
   "outputs": [
    {
     "data": {
      "text/html": [
       "<style>#sk-container-id-1 {\n",
       "  /* Definition of color scheme common for light and dark mode */\n",
       "  --sklearn-color-text: black;\n",
       "  --sklearn-color-line: gray;\n",
       "  /* Definition of color scheme for unfitted estimators */\n",
       "  --sklearn-color-unfitted-level-0: #fff5e6;\n",
       "  --sklearn-color-unfitted-level-1: #f6e4d2;\n",
       "  --sklearn-color-unfitted-level-2: #ffe0b3;\n",
       "  --sklearn-color-unfitted-level-3: chocolate;\n",
       "  /* Definition of color scheme for fitted estimators */\n",
       "  --sklearn-color-fitted-level-0: #f0f8ff;\n",
       "  --sklearn-color-fitted-level-1: #d4ebff;\n",
       "  --sklearn-color-fitted-level-2: #b3dbfd;\n",
       "  --sklearn-color-fitted-level-3: cornflowerblue;\n",
       "\n",
       "  /* Specific color for light theme */\n",
       "  --sklearn-color-text-on-default-background: var(--sg-text-color, var(--theme-code-foreground, var(--jp-content-font-color1, black)));\n",
       "  --sklearn-color-background: var(--sg-background-color, var(--theme-background, var(--jp-layout-color0, white)));\n",
       "  --sklearn-color-border-box: var(--sg-text-color, var(--theme-code-foreground, var(--jp-content-font-color1, black)));\n",
       "  --sklearn-color-icon: #696969;\n",
       "\n",
       "  @media (prefers-color-scheme: dark) {\n",
       "    /* Redefinition of color scheme for dark theme */\n",
       "    --sklearn-color-text-on-default-background: var(--sg-text-color, var(--theme-code-foreground, var(--jp-content-font-color1, white)));\n",
       "    --sklearn-color-background: var(--sg-background-color, var(--theme-background, var(--jp-layout-color0, #111)));\n",
       "    --sklearn-color-border-box: var(--sg-text-color, var(--theme-code-foreground, var(--jp-content-font-color1, white)));\n",
       "    --sklearn-color-icon: #878787;\n",
       "  }\n",
       "}\n",
       "\n",
       "#sk-container-id-1 {\n",
       "  color: var(--sklearn-color-text);\n",
       "}\n",
       "\n",
       "#sk-container-id-1 pre {\n",
       "  padding: 0;\n",
       "}\n",
       "\n",
       "#sk-container-id-1 input.sk-hidden--visually {\n",
       "  border: 0;\n",
       "  clip: rect(1px 1px 1px 1px);\n",
       "  clip: rect(1px, 1px, 1px, 1px);\n",
       "  height: 1px;\n",
       "  margin: -1px;\n",
       "  overflow: hidden;\n",
       "  padding: 0;\n",
       "  position: absolute;\n",
       "  width: 1px;\n",
       "}\n",
       "\n",
       "#sk-container-id-1 div.sk-dashed-wrapped {\n",
       "  border: 1px dashed var(--sklearn-color-line);\n",
       "  margin: 0 0.4em 0.5em 0.4em;\n",
       "  box-sizing: border-box;\n",
       "  padding-bottom: 0.4em;\n",
       "  background-color: var(--sklearn-color-background);\n",
       "}\n",
       "\n",
       "#sk-container-id-1 div.sk-container {\n",
       "  /* jupyter's `normalize.less` sets `[hidden] { display: none; }`\n",
       "     but bootstrap.min.css set `[hidden] { display: none !important; }`\n",
       "     so we also need the `!important` here to be able to override the\n",
       "     default hidden behavior on the sphinx rendered scikit-learn.org.\n",
       "     See: https://github.com/scikit-learn/scikit-learn/issues/21755 */\n",
       "  display: inline-block !important;\n",
       "  position: relative;\n",
       "}\n",
       "\n",
       "#sk-container-id-1 div.sk-text-repr-fallback {\n",
       "  display: none;\n",
       "}\n",
       "\n",
       "div.sk-parallel-item,\n",
       "div.sk-serial,\n",
       "div.sk-item {\n",
       "  /* draw centered vertical line to link estimators */\n",
       "  background-image: linear-gradient(var(--sklearn-color-text-on-default-background), var(--sklearn-color-text-on-default-background));\n",
       "  background-size: 2px 100%;\n",
       "  background-repeat: no-repeat;\n",
       "  background-position: center center;\n",
       "}\n",
       "\n",
       "/* Parallel-specific style estimator block */\n",
       "\n",
       "#sk-container-id-1 div.sk-parallel-item::after {\n",
       "  content: \"\";\n",
       "  width: 100%;\n",
       "  border-bottom: 2px solid var(--sklearn-color-text-on-default-background);\n",
       "  flex-grow: 1;\n",
       "}\n",
       "\n",
       "#sk-container-id-1 div.sk-parallel {\n",
       "  display: flex;\n",
       "  align-items: stretch;\n",
       "  justify-content: center;\n",
       "  background-color: var(--sklearn-color-background);\n",
       "  position: relative;\n",
       "}\n",
       "\n",
       "#sk-container-id-1 div.sk-parallel-item {\n",
       "  display: flex;\n",
       "  flex-direction: column;\n",
       "}\n",
       "\n",
       "#sk-container-id-1 div.sk-parallel-item:first-child::after {\n",
       "  align-self: flex-end;\n",
       "  width: 50%;\n",
       "}\n",
       "\n",
       "#sk-container-id-1 div.sk-parallel-item:last-child::after {\n",
       "  align-self: flex-start;\n",
       "  width: 50%;\n",
       "}\n",
       "\n",
       "#sk-container-id-1 div.sk-parallel-item:only-child::after {\n",
       "  width: 0;\n",
       "}\n",
       "\n",
       "/* Serial-specific style estimator block */\n",
       "\n",
       "#sk-container-id-1 div.sk-serial {\n",
       "  display: flex;\n",
       "  flex-direction: column;\n",
       "  align-items: center;\n",
       "  background-color: var(--sklearn-color-background);\n",
       "  padding-right: 1em;\n",
       "  padding-left: 1em;\n",
       "}\n",
       "\n",
       "\n",
       "/* Toggleable style: style used for estimator/Pipeline/ColumnTransformer box that is\n",
       "clickable and can be expanded/collapsed.\n",
       "- Pipeline and ColumnTransformer use this feature and define the default style\n",
       "- Estimators will overwrite some part of the style using the `sk-estimator` class\n",
       "*/\n",
       "\n",
       "/* Pipeline and ColumnTransformer style (default) */\n",
       "\n",
       "#sk-container-id-1 div.sk-toggleable {\n",
       "  /* Default theme specific background. It is overwritten whether we have a\n",
       "  specific estimator or a Pipeline/ColumnTransformer */\n",
       "  background-color: var(--sklearn-color-background);\n",
       "}\n",
       "\n",
       "/* Toggleable label */\n",
       "#sk-container-id-1 label.sk-toggleable__label {\n",
       "  cursor: pointer;\n",
       "  display: block;\n",
       "  width: 100%;\n",
       "  margin-bottom: 0;\n",
       "  padding: 0.5em;\n",
       "  box-sizing: border-box;\n",
       "  text-align: center;\n",
       "}\n",
       "\n",
       "#sk-container-id-1 label.sk-toggleable__label-arrow:before {\n",
       "  /* Arrow on the left of the label */\n",
       "  content: \"▸\";\n",
       "  float: left;\n",
       "  margin-right: 0.25em;\n",
       "  color: var(--sklearn-color-icon);\n",
       "}\n",
       "\n",
       "#sk-container-id-1 label.sk-toggleable__label-arrow:hover:before {\n",
       "  color: var(--sklearn-color-text);\n",
       "}\n",
       "\n",
       "/* Toggleable content - dropdown */\n",
       "\n",
       "#sk-container-id-1 div.sk-toggleable__content {\n",
       "  max-height: 0;\n",
       "  max-width: 0;\n",
       "  overflow: hidden;\n",
       "  text-align: left;\n",
       "  /* unfitted */\n",
       "  background-color: var(--sklearn-color-unfitted-level-0);\n",
       "}\n",
       "\n",
       "#sk-container-id-1 div.sk-toggleable__content.fitted {\n",
       "  /* fitted */\n",
       "  background-color: var(--sklearn-color-fitted-level-0);\n",
       "}\n",
       "\n",
       "#sk-container-id-1 div.sk-toggleable__content pre {\n",
       "  margin: 0.2em;\n",
       "  border-radius: 0.25em;\n",
       "  color: var(--sklearn-color-text);\n",
       "  /* unfitted */\n",
       "  background-color: var(--sklearn-color-unfitted-level-0);\n",
       "}\n",
       "\n",
       "#sk-container-id-1 div.sk-toggleable__content.fitted pre {\n",
       "  /* unfitted */\n",
       "  background-color: var(--sklearn-color-fitted-level-0);\n",
       "}\n",
       "\n",
       "#sk-container-id-1 input.sk-toggleable__control:checked~div.sk-toggleable__content {\n",
       "  /* Expand drop-down */\n",
       "  max-height: 200px;\n",
       "  max-width: 100%;\n",
       "  overflow: auto;\n",
       "}\n",
       "\n",
       "#sk-container-id-1 input.sk-toggleable__control:checked~label.sk-toggleable__label-arrow:before {\n",
       "  content: \"▾\";\n",
       "}\n",
       "\n",
       "/* Pipeline/ColumnTransformer-specific style */\n",
       "\n",
       "#sk-container-id-1 div.sk-label input.sk-toggleable__control:checked~label.sk-toggleable__label {\n",
       "  color: var(--sklearn-color-text);\n",
       "  background-color: var(--sklearn-color-unfitted-level-2);\n",
       "}\n",
       "\n",
       "#sk-container-id-1 div.sk-label.fitted input.sk-toggleable__control:checked~label.sk-toggleable__label {\n",
       "  background-color: var(--sklearn-color-fitted-level-2);\n",
       "}\n",
       "\n",
       "/* Estimator-specific style */\n",
       "\n",
       "/* Colorize estimator box */\n",
       "#sk-container-id-1 div.sk-estimator input.sk-toggleable__control:checked~label.sk-toggleable__label {\n",
       "  /* unfitted */\n",
       "  background-color: var(--sklearn-color-unfitted-level-2);\n",
       "}\n",
       "\n",
       "#sk-container-id-1 div.sk-estimator.fitted input.sk-toggleable__control:checked~label.sk-toggleable__label {\n",
       "  /* fitted */\n",
       "  background-color: var(--sklearn-color-fitted-level-2);\n",
       "}\n",
       "\n",
       "#sk-container-id-1 div.sk-label label.sk-toggleable__label,\n",
       "#sk-container-id-1 div.sk-label label {\n",
       "  /* The background is the default theme color */\n",
       "  color: var(--sklearn-color-text-on-default-background);\n",
       "}\n",
       "\n",
       "/* On hover, darken the color of the background */\n",
       "#sk-container-id-1 div.sk-label:hover label.sk-toggleable__label {\n",
       "  color: var(--sklearn-color-text);\n",
       "  background-color: var(--sklearn-color-unfitted-level-2);\n",
       "}\n",
       "\n",
       "/* Label box, darken color on hover, fitted */\n",
       "#sk-container-id-1 div.sk-label.fitted:hover label.sk-toggleable__label.fitted {\n",
       "  color: var(--sklearn-color-text);\n",
       "  background-color: var(--sklearn-color-fitted-level-2);\n",
       "}\n",
       "\n",
       "/* Estimator label */\n",
       "\n",
       "#sk-container-id-1 div.sk-label label {\n",
       "  font-family: monospace;\n",
       "  font-weight: bold;\n",
       "  display: inline-block;\n",
       "  line-height: 1.2em;\n",
       "}\n",
       "\n",
       "#sk-container-id-1 div.sk-label-container {\n",
       "  text-align: center;\n",
       "}\n",
       "\n",
       "/* Estimator-specific */\n",
       "#sk-container-id-1 div.sk-estimator {\n",
       "  font-family: monospace;\n",
       "  border: 1px dotted var(--sklearn-color-border-box);\n",
       "  border-radius: 0.25em;\n",
       "  box-sizing: border-box;\n",
       "  margin-bottom: 0.5em;\n",
       "  /* unfitted */\n",
       "  background-color: var(--sklearn-color-unfitted-level-0);\n",
       "}\n",
       "\n",
       "#sk-container-id-1 div.sk-estimator.fitted {\n",
       "  /* fitted */\n",
       "  background-color: var(--sklearn-color-fitted-level-0);\n",
       "}\n",
       "\n",
       "/* on hover */\n",
       "#sk-container-id-1 div.sk-estimator:hover {\n",
       "  /* unfitted */\n",
       "  background-color: var(--sklearn-color-unfitted-level-2);\n",
       "}\n",
       "\n",
       "#sk-container-id-1 div.sk-estimator.fitted:hover {\n",
       "  /* fitted */\n",
       "  background-color: var(--sklearn-color-fitted-level-2);\n",
       "}\n",
       "\n",
       "/* Specification for estimator info (e.g. \"i\" and \"?\") */\n",
       "\n",
       "/* Common style for \"i\" and \"?\" */\n",
       "\n",
       ".sk-estimator-doc-link,\n",
       "a:link.sk-estimator-doc-link,\n",
       "a:visited.sk-estimator-doc-link {\n",
       "  float: right;\n",
       "  font-size: smaller;\n",
       "  line-height: 1em;\n",
       "  font-family: monospace;\n",
       "  background-color: var(--sklearn-color-background);\n",
       "  border-radius: 1em;\n",
       "  height: 1em;\n",
       "  width: 1em;\n",
       "  text-decoration: none !important;\n",
       "  margin-left: 1ex;\n",
       "  /* unfitted */\n",
       "  border: var(--sklearn-color-unfitted-level-1) 1pt solid;\n",
       "  color: var(--sklearn-color-unfitted-level-1);\n",
       "}\n",
       "\n",
       ".sk-estimator-doc-link.fitted,\n",
       "a:link.sk-estimator-doc-link.fitted,\n",
       "a:visited.sk-estimator-doc-link.fitted {\n",
       "  /* fitted */\n",
       "  border: var(--sklearn-color-fitted-level-1) 1pt solid;\n",
       "  color: var(--sklearn-color-fitted-level-1);\n",
       "}\n",
       "\n",
       "/* On hover */\n",
       "div.sk-estimator:hover .sk-estimator-doc-link:hover,\n",
       ".sk-estimator-doc-link:hover,\n",
       "div.sk-label-container:hover .sk-estimator-doc-link:hover,\n",
       ".sk-estimator-doc-link:hover {\n",
       "  /* unfitted */\n",
       "  background-color: var(--sklearn-color-unfitted-level-3);\n",
       "  color: var(--sklearn-color-background);\n",
       "  text-decoration: none;\n",
       "}\n",
       "\n",
       "div.sk-estimator.fitted:hover .sk-estimator-doc-link.fitted:hover,\n",
       ".sk-estimator-doc-link.fitted:hover,\n",
       "div.sk-label-container:hover .sk-estimator-doc-link.fitted:hover,\n",
       ".sk-estimator-doc-link.fitted:hover {\n",
       "  /* fitted */\n",
       "  background-color: var(--sklearn-color-fitted-level-3);\n",
       "  color: var(--sklearn-color-background);\n",
       "  text-decoration: none;\n",
       "}\n",
       "\n",
       "/* Span, style for the box shown on hovering the info icon */\n",
       ".sk-estimator-doc-link span {\n",
       "  display: none;\n",
       "  z-index: 9999;\n",
       "  position: relative;\n",
       "  font-weight: normal;\n",
       "  right: .2ex;\n",
       "  padding: .5ex;\n",
       "  margin: .5ex;\n",
       "  width: min-content;\n",
       "  min-width: 20ex;\n",
       "  max-width: 50ex;\n",
       "  color: var(--sklearn-color-text);\n",
       "  box-shadow: 2pt 2pt 4pt #999;\n",
       "  /* unfitted */\n",
       "  background: var(--sklearn-color-unfitted-level-0);\n",
       "  border: .5pt solid var(--sklearn-color-unfitted-level-3);\n",
       "}\n",
       "\n",
       ".sk-estimator-doc-link.fitted span {\n",
       "  /* fitted */\n",
       "  background: var(--sklearn-color-fitted-level-0);\n",
       "  border: var(--sklearn-color-fitted-level-3);\n",
       "}\n",
       "\n",
       ".sk-estimator-doc-link:hover span {\n",
       "  display: block;\n",
       "}\n",
       "\n",
       "/* \"?\"-specific style due to the `<a>` HTML tag */\n",
       "\n",
       "#sk-container-id-1 a.estimator_doc_link {\n",
       "  float: right;\n",
       "  font-size: 1rem;\n",
       "  line-height: 1em;\n",
       "  font-family: monospace;\n",
       "  background-color: var(--sklearn-color-background);\n",
       "  border-radius: 1rem;\n",
       "  height: 1rem;\n",
       "  width: 1rem;\n",
       "  text-decoration: none;\n",
       "  /* unfitted */\n",
       "  color: var(--sklearn-color-unfitted-level-1);\n",
       "  border: var(--sklearn-color-unfitted-level-1) 1pt solid;\n",
       "}\n",
       "\n",
       "#sk-container-id-1 a.estimator_doc_link.fitted {\n",
       "  /* fitted */\n",
       "  border: var(--sklearn-color-fitted-level-1) 1pt solid;\n",
       "  color: var(--sklearn-color-fitted-level-1);\n",
       "}\n",
       "\n",
       "/* On hover */\n",
       "#sk-container-id-1 a.estimator_doc_link:hover {\n",
       "  /* unfitted */\n",
       "  background-color: var(--sklearn-color-unfitted-level-3);\n",
       "  color: var(--sklearn-color-background);\n",
       "  text-decoration: none;\n",
       "}\n",
       "\n",
       "#sk-container-id-1 a.estimator_doc_link.fitted:hover {\n",
       "  /* fitted */\n",
       "  background-color: var(--sklearn-color-fitted-level-3);\n",
       "}\n",
       "</style><div id=\"sk-container-id-1\" class=\"sk-top-container\"><div class=\"sk-text-repr-fallback\"><pre>SVC(C=1e-07, kernel=&#x27;poly&#x27;, random_state=472929478)</pre><b>In a Jupyter environment, please rerun this cell to show the HTML representation or trust the notebook. <br />On GitHub, the HTML representation is unable to render, please try loading this page with nbviewer.org.</b></div><div class=\"sk-container\" hidden><div class=\"sk-item\"><div class=\"sk-estimator fitted sk-toggleable\"><input class=\"sk-toggleable__control sk-hidden--visually\" id=\"sk-estimator-id-1\" type=\"checkbox\" checked><label for=\"sk-estimator-id-1\" class=\"sk-toggleable__label fitted sk-toggleable__label-arrow fitted\">&nbsp;&nbsp;SVC<a class=\"sk-estimator-doc-link fitted\" rel=\"noreferrer\" target=\"_blank\" href=\"https://scikit-learn.org/1.4/modules/generated/sklearn.svm.SVC.html\">?<span>Documentation for SVC</span></a><span class=\"sk-estimator-doc-link fitted\">i<span>Fitted</span></span></label><div class=\"sk-toggleable__content fitted\"><pre>SVC(C=1e-07, kernel=&#x27;poly&#x27;, random_state=472929478)</pre></div> </div></div></div></div>"
      ],
      "text/plain": [
       "SVC(C=1e-07, kernel='poly', random_state=472929478)"
      ]
     },
     "execution_count": 80,
     "metadata": {},
     "output_type": "execute_result"
    }
   ],
   "source": [
    "# DO NOT CHANGE CODE BELOW THIS LINE.\n",
    "\n",
    "model = model_selection(**model_kwargs)\n",
    "model.fit(X=features_train_scaled, y=labels_train)"
   ]
  },
  {
   "cell_type": "markdown",
   "metadata": {},
   "source": [
    "### Testing\n",
    "\n",
    "Now we test your choices of genes, k-mers, and model on the held-out test data to see how it would fare out in the wild."
   ]
  },
  {
   "cell_type": "code",
   "execution_count": 81,
   "metadata": {},
   "outputs": [],
   "source": [
    "# DO NOT CHANGE CODE BELOW THIS LINE.\n",
    "\n",
    "from sklearn.metrics import balanced_accuracy_score"
   ]
  },
  {
   "cell_type": "code",
   "execution_count": 82,
   "metadata": {},
   "outputs": [
    {
     "name": "stdout",
     "output_type": "stream",
     "text": [
      "True:  [0 0 2 2 2 2 0 2 2 0 0 1 0 2 2 1 1 2 1 1 1 0 2 2 2 0 2 2 2 2 1 2 0 2 2 0 2\n",
      " 0 1 2 0 2 2 0 0 2 2 2 2 0 1 2 0 1 1 2 1 2 2 0 0 0 2 0 0 2 1 2 2 2 1 2 2 2\n",
      " 1 0 1 1 2 2 2 2 2 2 1 2 2 2 2 2 2 0 0 2 2 1 1 0 1 1 1 0 2 2 0 2 2 0 2 1 0\n",
      " 2]\n",
      "Pred:  [2 2 2 2 2 2 2 2 2 2 2 2 2 2 2 2 2 2 2 2 2 2 2 2 2 2 2 2 2 2 2 2 2 2 2 2 2\n",
      " 2 2 2 2 2 2 2 2 2 2 2 2 2 2 2 2 2 2 2 2 2 2 2 2 2 2 2 2 2 2 2 2 2 2 2 2 2\n",
      " 2 2 2 2 2 2 2 2 2 2 2 2 2 2 2 2 2 2 2 2 2 2 2 2 2 2 2 2 2 2 2 2 2 2 2 2 2\n",
      " 2]\n",
      "0.3333333333333333\n"
     ]
    }
   ],
   "source": [
    "# DO NOT CHANGE CODE BELOW THIS LINE.\n",
    "\n",
    "labels_pred = model.predict(features_test_scaled)\n",
    "score = balanced_accuracy_score(labels_test, labels_pred)\n",
    "print(\"True: \", labels_test)\n",
    "print(\"Pred: \", labels_pred)\n",
    "print(score)"
   ]
  },
  {
   "cell_type": "markdown",
   "metadata": {},
   "source": [
    "This score must be at least 0.65 to receive full credit (25 points) for this rubric item.\n",
    "Classifier scores lower than 0.65 this will scale linearly to full credit; for example, if your score was 0.50 then you would receive 19.2 points.\n",
    "\n",
    "Valid scores above 0.80 will automatically receive full credit for the checkpoint."
   ]
  },
  {
   "cell_type": "markdown",
   "metadata": {},
   "source": [
    "## Saving Your Model and Data Arrays in Google Colab\n",
    "\n",
    "After investing time in developing and refining your predictive model, it's crucial to save both the model itself and the data arrays used for testing. This not only ensures that your work is preserved for future use but also facilitates sharing your model and results with peers or for evaluation purposes.\n",
    "\n",
    "Use the provided code snippets to save your trained model and the features test array. The `joblib` library is used for saving the model due to its efficiency with large numpy arrays, which are common in machine learning tasks. NumPy's `save` function is employed to store the features array. Here is the code to execute in a cell in your Google Colab notebook:"
   ]
  },
  {
   "cell_type": "code",
   "execution_count": null,
   "metadata": {},
   "outputs": [],
   "source": [
    "joblib.dump(model, \"model.joblib\")\n",
    "np.save(\"features_test.npy\", features_test_scaled)"
   ]
  },
  {
   "cell_type": "markdown",
   "metadata": {},
   "source": [
    "Once the files are saved, you need to download them to your local machine for future access or analysis. Google Colab provides an easy-to-use file browser for this purpose.\n",
    "\n",
    "- To download your files, locate the file icon on the left sidebar of the Colab interface. This opens the file browser.\n",
    "- Navigate to find the files you've just saved: `\"model.joblib\"` and `\"features_test.npy\"`.\n",
    "- Click on the three dots (`...`) next to each file name to open the context menu, and select \"Download\" to save the file to your computer."
   ]
  }
 ],
 "metadata": {
  "kernelspec": {
   "display_name": "biosc1540-2024s-dev",
   "language": "python",
   "name": "python3"
  },
  "language_info": {
   "codemirror_mode": {
    "name": "ipython",
    "version": 3
   },
   "file_extension": ".py",
   "mimetype": "text/x-python",
   "name": "python",
   "nbconvert_exporter": "python",
   "pygments_lexer": "ipython3",
   "version": "3.11.7"
  }
 },
 "nbformat": 4,
 "nbformat_minor": 2
}
