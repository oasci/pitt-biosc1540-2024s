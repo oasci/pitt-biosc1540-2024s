{
 "cells": [
  {
   "cell_type": "markdown",
   "metadata": {},
   "source": [
    "# Data acquisition\n",
    "\n",
    "The [National Database of Antibiotic Resistant Organisms (NDARO)](../../../data-sources/ndaro) provides a useful [web interface][ndaro-isolates] to browse pathogens that have annotated data concerning the antibiotic resistance profile.\n",
    "Based on my selection criteria I found over than 3000 samples.\n",
    "\n",
    "[ndaro-isolates]: https://www.ncbi.nlm.nih.gov/pathogens/isolates"
   ]
  },
  {
   "cell_type": "code",
   "execution_count": 1,
   "metadata": {},
   "outputs": [
    {
     "data": {
      "text/plain": [
       "True"
      ]
     },
     "execution_count": 1,
     "metadata": {},
     "output_type": "execute_result"
    }
   ],
   "source": [
    "import os\n",
    "from datetime import datetime\n",
    "import json\n",
    "import yaml\n",
    "from dotenv import load_dotenv\n",
    "import pandas as pd\n",
    "import matplotlib as mpl\n",
    "import matplotlib.pyplot as plt\n",
    "\n",
    "\n",
    "load_dotenv()"
   ]
  },
  {
   "cell_type": "code",
   "execution_count": 2,
   "metadata": {},
   "outputs": [],
   "source": [
    "CSV_PATH_ISOLATE = os.environ[\"GENOMICS_CHECKPOINT_CSV_PATH\"]\n",
    "\n",
    "df_isolate = pd.read_csv(CSV_PATH_ISOLATE)"
   ]
  },
  {
   "cell_type": "code",
   "execution_count": 3,
   "metadata": {},
   "outputs": [
    {
     "name": "stdout",
     "output_type": "stream",
     "text": [
      "Index(['#Organism group', 'Strain', 'Isolate identifiers', 'Serovar',\n",
      "       'Isolate', 'Create date', 'Location', 'Isolation source',\n",
      "       'Isolation type', 'AST phenotypes', 'Food origin', 'SNP cluster',\n",
      "       'Min-same', 'Min-diff', 'BioSample', 'Assembly', 'AMR genotypes',\n",
      "       'Computed types'],\n",
      "      dtype='object')\n"
     ]
    }
   ],
   "source": [
    "print(df_isolate.columns)"
   ]
  },
  {
   "cell_type": "code",
   "execution_count": 4,
   "metadata": {},
   "outputs": [
    {
     "name": "stdout",
     "output_type": "stream",
     "text": [
      "#Organism group                                      E.coli and Shigella\n",
      "Strain                                                               NaN\n",
      "Isolate identifiers                   \"0000-0053-1977\",\"60\",\"SRS1016975\"\n",
      "Serovar                                                              NaN\n",
      "Isolate                                                   PDT000077409.3\n",
      "Create date                                         2015-12-01T23:21:05Z\n",
      "Location                                                      USA:Boston\n",
      "Isolation source                                                   blood\n",
      "Isolation type                                                  clinical\n",
      "AST phenotypes         amikacin=S,amoxicillin-clavulanic acid=I,ampic...\n",
      "Food origin                                                          NaN\n",
      "SNP cluster                                              PDS000003052.12\n",
      "Min-same                                                             4.0\n",
      "Min-diff                                                             NaN\n",
      "BioSample                                                   SAMN03892127\n",
      "Assembly                                                 GCA_012774675.1\n",
      "AMR genotypes          aac(6')-Ib-cr5=COMPLETE,acrF=COMPLETE,blaCTX-M...\n",
      "Computed types                                                       NaN\n",
      "Name: 0, dtype: object\n"
     ]
    }
   ],
   "source": [
    "print(df_isolate.iloc[0])"
   ]
  },
  {
   "cell_type": "markdown",
   "metadata": {},
   "source": [
    "\n",
    "Here, we generate a [histogram][mpl-hist] of when these samples were collected.\n",
    "\n",
    "[mpl-hist]: https://matplotlib.org/stable/api/_as_gen/matplotlib.axes.Axes.hist.html"
   ]
  },
  {
   "cell_type": "code",
   "execution_count": 5,
   "metadata": {},
   "outputs": [
    {
     "data": {
      "image/png": "[encoded data removed]",
      "text/plain": [
       "<Figure size 640x480 with 1 Axes>"
      ]
     },
     "metadata": {},
     "output_type": "display_data"
    }
   ],
   "source": [
    "isolate_dates = df_isolate[\"Create date\"].map(\n",
    "    lambda dt: datetime.strptime(dt, \"%Y-%m-%dT%H:%M:%SZ\")\n",
    ")\n",
    "\n",
    "fig, ax = plt.subplots(nrows=1, ncols=1)\n",
    "\n",
    "ax.hist(isolate_dates, align=\"mid\", bins=50)\n",
    "\n",
    "ax.set_xlabel(\"Year\")\n",
    "ax.set_ylabel(\"Sample Count\")\n",
    "\n",
    "plt.show()"
   ]
  }
 ],
 "metadata": {
  "kernelspec": {
   "display_name": "biosc1540-2024s-dev",
   "language": "python",
   "name": "python3"
  },
  "language_info": {
   "codemirror_mode": {
    "name": "ipython",
    "version": 3
   },
   "file_extension": ".py",
   "mimetype": "text/x-python",
   "name": "python",
   "nbconvert_exporter": "python",
   "pygments_lexer": "ipython3",
   "version": "3.11.7"
  }
 },
 "nbformat": 4,
 "nbformat_minor": 2
}
